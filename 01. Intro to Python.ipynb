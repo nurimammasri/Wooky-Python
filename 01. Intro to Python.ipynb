{
  "nbformat": 4,
  "nbformat_minor": 0,
  "metadata": {
    "colab": {
      "name": "01. Intro to Python.ipynb",
      "provenance": [],
      "collapsed_sections": [],
      "toc_visible": true
    },
    "kernelspec": {
      "name": "python3",
      "display_name": "Python 3"
    }
  },
  "cells": [
    {
      "cell_type": "markdown",
      "metadata": {
        "id": "WVqS48H0Kh1J"
      },
      "source": [
        "<a href=\"https://colab.research.google.com/github/nurimammasri/Wooky-Python/blob/main/01.%20Intro%20to%20Python.ipynb\" target=\"_parent\"><img src=\"https://colab.research.google.com/assets/colab-badge.svg\" alt=\"Open In Colab\"/></a>"
      ]
    },
    {
      "cell_type": "markdown",
      "metadata": {
        "id": "wS3irTnwu04i"
      },
      "source": [
        "***Wooky***\n",
        "\n",
        "https://blog.sanbercode.com/docs/kurikulum-python-data-science/pendahuluan/\n",
        "\n",
        "password : IMDS2020\n",
        "# **Introduction to Python**\n",
        "\n",
        "This colab will cover some introduction to Python Programming Language : \n",
        "- How to output a text\n",
        "- Comment in Python\n",
        "- Variables in Python\n",
        "- Casting\n",
        "- String\n",
        "- Operators\n",
        "- If - Else\n",
        "- Looping\n",
        "- Function\n",
        "- Data Structure in Python\n",
        "\n",
        "\n",
        "[Python Dunia Ilkom](https://www.duniailkom.com/tutorial-belajar-bahasa-pemrograman-python-untuk-pemula/)\n",
        "\n",
        "[Youtube Kelas Terbuka](https://www.youtube.com/playlist?list=PLZS-MHyEIRo59lUBwU-XHH7Ymmb04ffOY)\n",
        "\n",
        "[Python Dunia Ilkom](https://www.duniailkom.com/tutorial-belajar-bahasa-pemrograman-python-untuk-pemula/)\n",
        "\n",
        "[Belajar Python](https://belajarpython.com/tutorial/apa-itu-python)\n",
        "\n",
        "[Tutorials Point Python](https://www.tutorialspoint.com/python/index.htm)\n",
        "\n",
        "[Petani Kode Python](https://www.petanikode.com/tutorial/python/)\n",
        "\n",
        "Bahasa Pemrograman Python adalah interpreted high-level programming language for general-purpose programming. Terjemahan bebasnya: Python adalah bahasa pemrograman tingkat tinggi (high-level programming language), berjalan dengan sistem interpreted, dan bisa dipakai untuk berbagai jenis tujuan (general-purpose).\n",
        "\n",
        "Sebutan bahasa pemrograman tingkat tinggi merujuk level kedekatan sebuah bahasa pemrograman ke kode-kode listrik yang dipakai komputer. Sebuah bahasa pemrograman disebut sebagai bahasa pemrograman tingkat tinggi (high-level programming language) karena perintah atau kode program yang dipakai sudah mirip dengan bahasa manusia (bahasa inggris).\n",
        "\n",
        "\n",
        "Python adalah bahasa pemrograman interpretatif multiguna. Tidak seperti bahasa lain yang susah untuk dibaca dan dipahami, python lebih menekankan pada keterbacaan kode agar lebih mudah untuk memahami sintaks. Hal ini membuat Python sangat mudah dipelajari baik untuk pemula maupun untuk yang sudah menguasai bahasa pemrograman lain.\n",
        "\n",
        "Bahasa ini muncul pertama kali pada tahun 1991, dirancang oleh seorang bernama Guido van Rossum. Sampai saat ini Python masih dikembangkan oleh Python Software Foundation. Bahasa Python mendukung hampir semua sistem operasi, bahkan untuk sistem operasi Linux, hampir semua distronya sudah menyertakan Python di dalamnya.\n",
        "\n",
        "Dengan kode yang simpel dan mudah diimplementasikan, seorang programmer dapat lebih mengutamakan pengembangan aplikasi yang dibuat, bukan malah sibuk mencari syntax error.\n",
        "\n",
        "Python menggunakan metode pemrosesan interpreted, dimana kode program akan diproses baris per baris langsung dari kode program (tidak butuh proses compile)."
      ]
    },
    {
      "cell_type": "markdown",
      "metadata": {
        "id": "klJjB0nNfNSK"
      },
      "source": [
        "# **Cara Kerja Program dan Bytecode**\n",
        "\n",
        "cara menjalankan \n",
        "\n",
        "> python Main.py\n",
        "\n",
        "> python -m py_compile Main.py \n",
        "\n",
        "Maka akan ada folder baru _ _pycache_ _\n",
        "\n",
        "\n",
        "Atau bisa mengguanakan IDLE dan Ipython atau notebook (ipynb)\n",
        "\n",
        "\n",
        "Python -> Bahasa Pemrograman -> Interpreter\n",
        "\n",
        "Source Code\n",
        "\n",
        "![carakerjapython.png](https://raw.githubusercontent.com/nurimammasri/Wooky-Python/main/image/carakerjapython.png)\n"
      ]
    },
    {
      "cell_type": "markdown",
      "metadata": {
        "id": "W4ECPy3uWSIT"
      },
      "source": [
        "# **Instalasi Python**\n",
        "\n",
        "Sebelum Anda menggunakan Python, Anda harus menginstalnya terlebih dahulu di sistem operasi komputer Anda. Saat ini Python memiliki 2 versi yang berbeda, yaitu Python versi 3.4.3 dan Python versi 2.7.10. Disini kita akan belajar bahasa pemrograman Python menggunakan versi terbaru 3.4.3.\n",
        "\n",
        "Cara menginstal python sangat mudah, ikuti panduan dibawah ini. Dibawah adalah panduan cara instal python di platform Linux, Windows dan Mac OS.\\\n",
        "\n",
        "***Linux***\n",
        "\n",
        "1. Buka browser, kunjungi http://www.python.org/downloads/source/\n",
        "\n",
        "2. Download versi terbaru Python berbentuk file zip untuk Unix/Linux\n",
        "\n",
        "3. Ekstrak file zip yang baru saja di download\n",
        "\n",
        "4. Edit file Modules/Setup jika Anda ingin kostumisasi Python\n",
        "\n",
        "5. Jalankan ./configure script\n",
        "\n",
        "6. make\n",
        "\n",
        "7. make install\n",
        "\n",
        "Langkah ini akan menginstal Python di lokasi standar `/usr/local/bin` dan library di `/usr/local/lib/pythonXX` dimana XX adalah versi terbaru Python yang anda gunakan.\n",
        "\n",
        "> Untuk beberapa distro (distribution store) dari sistem operasi linux sudah terinstal Python di dalamnya. Jadi Anda tidak perlu menginstalnya lagi.\n",
        "\n",
        "\n",
        "***Windows***\n",
        "\n",
        "1. Buka browser, kunjungi http://www.python.org/downloads/windows/\n",
        "\n",
        "2. ATAU, klik direct link https://www.python.org/ftp/python/3.8.1/python-3.8.1.exe\n",
        "\n",
        "3. Buka (klik 2x) file installer python yang baru saja di download\n",
        "\n",
        "4. Ikuti langkah instalasi sampai selesai\n",
        "\n",
        "***Mac OS***\n",
        "\n",
        "1. Buka browser, kunjungi http://www.python.org/download/mac/\n",
        "\n",
        "2. Download versi terbaru Python untuk Macintosh\n",
        "\n",
        "3. Buka file yang baru saja di download\n",
        "Ikuti langkah instalasi sampai selesai\n",
        "\n",
        "To check if you have python installed on a Windows PC, search in the start bar for Python or run the following on the Command Line (cmd.exe):\n",
        "\n",
        "`python --version`\n",
        "\n",
        "Python is an interpreted programming language, this means that as a developer you write Python (.py) files in a text editor and then put those files into the python interpreter to be executed.\n",
        "\n",
        "The way to run a python file is like this on the command line:\n",
        "\n",
        "`python helloworld.py`\n",
        "\n",
        "The Python Command Line\n",
        "\n",
        "`python` or `py`\n",
        "\n",
        "`ipython`\n",
        "\n",
        "`exit()` -> to exit"
      ]
    },
    {
      "cell_type": "markdown",
      "metadata": {
        "id": "tTC9AL_h9a42"
      },
      "source": [
        "* IDLE (Python 3.7) -> Script and Interactive Mode\n",
        "* Python 3.7\n",
        "* Python 3.7 Manual\n",
        "* Python 3.7 Module Docs\n",
        "\n",
        "![Menu-Python-di-Windows.jpg](https://raw.githubusercontent.com/nurimammasri/Wooky-Python/main/image/Menu-Python-di-Windows.jpg)\n",
        "\n",
        "**<h4>Interactive Mode dan Script Mode Python</h4>**\n",
        "\n",
        "**Interactive Mode**\n",
        "\n",
        "Karena Python di proses oleh interpreter, kita bisa menulis kode program Python baris per baris seperti yang sudah di praktekkan dalam tutorial sebelumnya. Cara ini dikenal juga sebagai interactive mode atau immediate mode, dimana setiap perintah akan langsung di proses begitu tombol Enter ditekan. Interactive mode python sangat praktis dan cocok dipakai untuk kode program python yang singkat.\n",
        "\n",
        "![Cara-menjalankan-perintah-python-dari-cmd-Windows.png](https://raw.githubusercontent.com/nurimammasri/Wooky-Python/main/image/Cara-menjalankan-perintah-python-dari-cmd-Windows.png)\n",
        "\n",
        "Script Mode\n",
        "**bold text**\n",
        "script mode. Di sini kode python akan diproses seperti kebanyakan bahasa pemrograman lain. Kita membuat sebuah file terlebih dahulu, mengetik beberapa (atau ratusan) baris kode program, menyimpannya dan menjalankan file tersebut.\n",
        "\n"
      ]
    },
    {
      "cell_type": "markdown",
      "metadata": {
        "id": "BeZDQ_3pw2S8"
      },
      "source": [
        "# **Aturan Dasar Penulisan**\n",
        "\n",
        "1. Statement Terminator\n",
        "\n",
        "    bahasa Python juga tidak perlu tanda titik koma ( ; ). \n",
        "\n",
        "    Meskipun begitu, Python tidak protes seandainya kita tetap ingin menambah tanda titik koma di akhir setiap perintah\n",
        "\n",
        "    Tanda titik koma ini menjadi harus ditulis jika kita ingin menulis beberapa perintah dalam 1 baris kode program\n",
        "\n",
        "    `print(\"Sedang belajar bahasa Python di \"+web); print(\"Semangat!!\");`\n",
        "\n",
        "\n",
        "2. Case Sensitif\n",
        "\n",
        "    huruf besar dan kecil dianggap berbeda. Perintah print tidak bisa ditulis menjadi Print atau PRINT. Ini berlaku untuk perintah-perintah lain seperti variabel dan keyword.\n",
        "\n",
        "3. Indentations\n",
        "\n",
        "    indentasi adalah menggeser atau “menjorokkan” beberapa baris kode program ke arah dalam.\n",
        "\n",
        "    Biasanya indentasi dipakai untuk sekedar memudahkan pembacaan kode program, namun dalam Python, indentasi berfungsi sebagai penanda blok kode program.\n",
        "\n",
        "\n",
        "\n",
        "\n",
        "\n",
        "\n"
      ]
    },
    {
      "cell_type": "markdown",
      "metadata": {
        "id": "kS-4LwpLn4LT"
      },
      "source": [
        "# **Intro Style Guide**\n",
        "\n",
        "Berikut adalah beberapa style guide menulis kode Python dengan baik dan benar. Panduan gaya penulisan kode ini mengacu pada PEP-008.\n",
        "\n",
        "[PEP-008](https://www.python.org/dev/peps/pep-0008/)\n",
        "\n",
        "**<h4>Indentasi</h4>**\n",
        "\n",
        "Gunakan 4 spasi pada setiap tingkatan indentasi.\n",
        "\n",
        "**<h4>Baris Lanjutan</h4>**\n",
        "\n",
        "Seringkali, saat menulis kode, kita harus menggunakan baris lanjutan karena kode tidak cukup dituliskan dalam satu baris. Umumnya, kita dapat menggunakan tanda `hubung, kurung, kurawal`, atau seperti disarankan pada PEP-008, gunakan `hanging indent`. \n",
        "\n"
      ]
    },
    {
      "cell_type": "code",
      "metadata": {
        "id": "doi7P5vMoe9J"
      },
      "source": [
        "# Opsi 1\n",
        "# Rata kiri dengan kurung atau pemisah dengan argumen utama\n",
        "# foo = long_function_name(var_one, var_two,\n",
        "#                          var_three, var_four)\n",
        " \n",
        "# Opsi 2\n",
        "# Tambahkan indentasi ekstra - (level indentasi baru) untuk memisahkan parameter/argument dari bagian lainnya\n",
        "# def long_function_name(\n",
        "#         var_one, var_two, var_three,\n",
        "#         var_four):\n",
        "#     print(var_one)\n",
        " \n",
        "# Opsi 3\n",
        "# Hanging indents dengan penambahan level indentasi saja\n",
        "# foo = long_function_name(\n",
        "#     var_one, var_two,\n",
        "#     var_three, var_four)"
      ],
      "execution_count": 1,
      "outputs": []
    },
    {
      "cell_type": "markdown",
      "metadata": {
        "id": "uKaGve7y43vq"
      },
      "source": [
        "# **Pengecekan Style Guide PEP8**\n",
        "\n",
        "**Lint**\n",
        "\n",
        "Lint adalah proses pengecekan kode atas kemungkinan terjadi kesalahan (error), termasuk dalam proses ini adalah mengecek kesesuaian terhadap arahan gaya penulisan kode (style guide) PEP8. Aplikasi yang digunakan untuk proses ini disebut linter. Integrasi linter dengan editor kode Anda akan membuat efisien dalam menulis kode Python. Pertimbangan ini karena keluaran dari aplikasi linter hanya berupa teks singkat berupa keterangan dan kode Error atau Warning atau Kesalahan Konvensi Penamaan (Naming Conventions), akan dicontohkan selanjutnya.\n",
        "\n",
        "Dengan lint atau linting akan meminimalkan kode Anda mengalami error, sebagai contoh salah satunya karena kesalahan indentasi di Python. Sebelum kode Anda diprotes oleh interpreter Python dengan IndentationError, lint akan memberitahukannya lebih dahulu ke Anda.\n",
        "\n",
        "Berikut akan dibahas 3 jenis aplikasi linter, silakan dicermati dahulu, tidak harus semuanya diinstal/dicoba, hanya paket yang menurut Anda sesuai kebutuhan saja yang digunakan. Hasil keluarannya mungkin mirip, tapi pada kondisi tertentu akan ada keluaran atau fitur yang mungkin sesuai dengan kebutuhan Anda saya menulis kode.\n",
        "\n",
        "* ***Pycodestyle (sebelumnya bernama pep8)***\n",
        "\n",
        "    Pycodestyle adalah aplikasi open source (berlisensi MIT/Expat) untuk membantu mengecek kode terkait gaya penulisan kode dengan konvensi PEP8.\n",
        "\n",
        "    Untuk instalasi menggunakan manajer paket pip sebagai berikut: \n",
        "    \n",
        "    `pip install pycodestyle`\n",
        "\n",
        "    `pycodestyle contoh.py`\n",
        "\n",
        "    cara bacanya : contoh.py:6:1: baris 6 kolom 1\n",
        "\n",
        "    [pycodestyle](https://github.com/PyCQA/pycodestyle)\n",
        "\n",
        "* ***Pylint***\n",
        "\n",
        "    Pylint adalah aplikasi open source (berlisensi GPL v2) untuk melakukan analisis kode Python, mengecek untuk kesalahan (error) pemrograman, memaksakan standar penulisan kode dengan mengecek penulisan kode yang tidak baik, serta memberikan saran untuk refactoring sederhana.\n",
        "\n",
        "    Untuk instalasi menggunakan manajer paket pip sebagai berikut: \n",
        "    \n",
        "    `pip install pylint`\n",
        "\n",
        "    [pylint](https://github.com/PyCQA/pylint)\n",
        "\n",
        "* ***Flake8***\n",
        "\n",
        "    Flake8 adalah aplikasi open source (berlisensi MIT) yang membungkus sejumlah kemampuan aplikasi lain seperti pycodestyle, pyflakes, dan sejumlah (skrip/fitur) lainnya.\n",
        "\n",
        "    Untuk instalasi menggunakan manajer paket pip sebagai berikut: \n",
        "    \n",
        "    `pip install flake8`\n",
        "\n",
        "    [flake8](https://github.com/PyCQA/flake8)\n",
        "\n",
        "\n",
        "Cara menggunakannya yakni :\n",
        "\n",
        "1. Membuat file python\n",
        "2. install pystylecode, pylint flake8  (cmd)\n",
        "3. masuk ke folder tempat file python, kemudian jalankan pycodestyle contoh.py, sesuaikan lintnya  (cmd)\n",
        "4. Hasilnya akan muncul jika style guidenya tidak benar\n",
        "5. ubah manual pada file python, dengan informasi contoh.py:6:1: baris 6 kolom 1"
      ]
    },
    {
      "cell_type": "markdown",
      "metadata": {
        "id": "fHvC-CLzUSu6"
      },
      "source": [
        "# **Memformat Kode**\n",
        "\n",
        "Jika proses lint atau linting hanya melakukan pengecekan, terkait arahan gaya penulisan kode Anda bisa menggunakan aplikasi tambahan untuk memformat kode agar sesuai PEP8. Sehingga untuk Anda yang menggunakan editor kode yang sangat ringan dan ringkas fitur sekalipun, misalnya tanpa fasilitas lint, tetap bisa menghasilkan kode sesuai konvensi PEP8.\n",
        "\n",
        "* ***Black***\n",
        "\n",
        "    Black adalah proyek open source yang dikembangkan di repository Python Software Foundation (PSF) dengan lisensi MIT. Untuk mendapatkan gambaran, versi online (tidak resmi) ada di https://black.now.sh.\n",
        "\n",
        "    Untuk instalasi menggunakan manajer paket pip sebagai berikut: \n",
        "    \n",
        "    `pip install black`\n",
        "\n",
        "    `black contoh.py`\n",
        "\n",
        "    [Black](https://github.com/psf/black)\n",
        "\n",
        "\n",
        "\n",
        "* ***YAPF (Yet Another Python Formatter)***\n",
        "\n",
        "    YAPF adalah proyek open source yang dikembangkan di repository Google, dengan lisensi Apache.\n",
        "\n",
        "    Untuk mendapatkan gambaran, versi online (tidak resmi) ada di https://yapf.now.sh\n",
        "\n",
        "    Untuk instalasi menggunakan manajer paket pip sebagai berikut: \n",
        "    \n",
        "    `pip install yapf`\n",
        "\n",
        "    [Yapf](https://github.com/google/yapf)\n",
        "\n",
        "* ***Autopep8***\n",
        "\n",
        "    Autopep8 adalah proyek open source (berlisensi MIT) yang termasuk paling awal untuk memformat kode, dengan bantuan lint pycodestyle. Untuk instalasi menggunakan manajer paket pip sebagai berikut: \n",
        "    \n",
        "    `pip install autopep8`\n",
        "\n",
        "    [Autopep8](https://github.com/hhatto/autopep8)\n",
        "\n",
        "Catatan:\n",
        "\n",
        "* untuk black langsung mengubah file\n",
        "\n",
        "* untuk pemrosesan dengan yapf, autopep8, tidak langsung mengubah isi file .py tetapi tampil ke layar\n",
        "\n",
        "Cara menggunakannya yakni :\n",
        "\n",
        "1. Membuat file python\n",
        "2. install aplikasinya (cmd)\n",
        "3. masuk ke folder tempat file python, kemudian jalankan `black contoh.py`, sesuaikan aplikasinya (cmd)\n",
        "4. Black akan langsung mengubah sedangkan yapf dan autopep8 akan menampilkan terlebih dahulu di cmd."
      ]
    },
    {
      "cell_type": "markdown",
      "metadata": {
        "id": "BBqE5B6HZggC"
      },
      "source": [
        "# **Print Command**\n",
        "\n",
        "To put an output, you can just call print command : **print(  )**"
      ]
    },
    {
      "cell_type": "code",
      "metadata": {
        "id": "V-jDckAyuowf",
        "colab": {
          "base_uri": "https://localhost:8080/"
        },
        "outputId": "0356ed10-7750-45e3-8bfa-4e9657494edb"
      },
      "source": [
        "print(\"Hello DSC Universitas Hasanuddin\")"
      ],
      "execution_count": 2,
      "outputs": [
        {
          "output_type": "stream",
          "name": "stdout",
          "text": [
            "Hello DSC Universitas Hasanuddin\n"
          ]
        }
      ]
    },
    {
      "cell_type": "code",
      "metadata": {
        "id": "JYt8T-6LLCiA",
        "colab": {
          "base_uri": "https://localhost:8080/"
        },
        "outputId": "8327cc79-dec3-4831-e7a9-c7645617c199"
      },
      "source": [
        "print(10)"
      ],
      "execution_count": 3,
      "outputs": [
        {
          "output_type": "stream",
          "name": "stdout",
          "text": [
            "10\n"
          ]
        }
      ]
    },
    {
      "cell_type": "code",
      "metadata": {
        "id": "Oq8E1ZnziROo",
        "colab": {
          "base_uri": "https://localhost:8080/"
        },
        "outputId": "48311975-d006-4b3c-82a4-af0b8524efa1"
      },
      "source": [
        "10"
      ],
      "execution_count": 4,
      "outputs": [
        {
          "output_type": "execute_result",
          "data": {
            "text/plain": [
              "10"
            ]
          },
          "metadata": {},
          "execution_count": 4
        }
      ]
    },
    {
      "cell_type": "markdown",
      "metadata": {
        "id": "edmN91f6iceV"
      },
      "source": [
        "Try to print something on your own."
      ]
    },
    {
      "cell_type": "code",
      "metadata": {
        "id": "fz-CyVXBiR8B",
        "colab": {
          "base_uri": "https://localhost:8080/"
        },
        "outputId": "6b049de5-b89c-465c-9513-ef48ced523dd"
      },
      "source": [
        "# TODO : Print a text\n",
        "print(\"Nur Imam Masri\")"
      ],
      "execution_count": 5,
      "outputs": [
        {
          "output_type": "stream",
          "name": "stdout",
          "text": [
            "Nur Imam Masri\n"
          ]
        }
      ]
    },
    {
      "cell_type": "markdown",
      "metadata": {
        "id": "EkO7q8rOVttx"
      },
      "source": [
        "catatan :\n",
        "\n",
        "Hanya dengan menuliskan kode print seperti yang diatas, anda sudah bisa mencetak apapun yang anda inginkan di dalam tanda kurung (). Dibagian akhir kode pun, anda tidak harus mengakhirnya dengan tanda semicolon ;\n",
        "\n",
        "Namun jika ingin menyambung syntax pada satu baris harus mengguanakan tanda ;"
      ]
    },
    {
      "cell_type": "code",
      "metadata": {
        "id": "u1_p2VpmV3PD"
      },
      "source": [
        "# print('Nur') print('Imam') print('Masri') Error : invalid syntax"
      ],
      "execution_count": 6,
      "outputs": []
    },
    {
      "cell_type": "code",
      "metadata": {
        "id": "hVoARw68WBYT",
        "colab": {
          "base_uri": "https://localhost:8080/"
        },
        "outputId": "3e0f5996-c32d-4803-9178-0082ddd5e1b0"
      },
      "source": [
        "print('Nur'); print('Imam'); print('Masri')"
      ],
      "execution_count": 7,
      "outputs": [
        {
          "output_type": "stream",
          "name": "stdout",
          "text": [
            "Nur\n",
            "Imam\n",
            "Masri\n"
          ]
        }
      ]
    },
    {
      "cell_type": "markdown",
      "metadata": {
        "id": "iBN6B0MZweXa"
      },
      "source": [
        "separate `,`"
      ]
    },
    {
      "cell_type": "code",
      "metadata": {
        "colab": {
          "base_uri": "https://localhost:8080/"
        },
        "id": "4hs8brP2weFJ",
        "outputId": "da25be20-14ae-435a-cbaa-19e17fe3f479"
      },
      "source": [
        "print(\"My name is\", \"Python.\")\n",
        "print(\"Monty Python.\")"
      ],
      "execution_count": 8,
      "outputs": [
        {
          "output_type": "stream",
          "name": "stdout",
          "text": [
            "My name is Python.\n",
            "Monty Python.\n"
          ]
        }
      ]
    },
    {
      "cell_type": "markdown",
      "metadata": {
        "id": "DwqXrp_fQ0LI"
      },
      "source": [
        "argument `sep=\" \"` and `end=\" \"`"
      ]
    },
    {
      "cell_type": "code",
      "metadata": {
        "colab": {
          "base_uri": "https://localhost:8080/"
        },
        "id": "FcGC44F3aAlx",
        "outputId": "cf0238ef-fb20-4b4b-cf6a-23822f3d3cf7"
      },
      "source": [
        "print(\"Nur\", \"Imam\", \"Masri\", sep=\"-\")"
      ],
      "execution_count": 9,
      "outputs": [
        {
          "output_type": "stream",
          "name": "stdout",
          "text": [
            "Nur-Imam-Masri\n"
          ]
        }
      ]
    },
    {
      "cell_type": "code",
      "metadata": {
        "colab": {
          "base_uri": "https://localhost:8080/"
        },
        "id": "MtDIM7GtaJYy",
        "outputId": "5468ff88-e5e2-43c3-b4c6-080ec411e4fc"
      },
      "source": [
        "print(\"Nur Imam Masri\", end=\"+++\")\n",
        "print(\"Imam\")"
      ],
      "execution_count": 10,
      "outputs": [
        {
          "output_type": "stream",
          "name": "stdout",
          "text": [
            "Nur Imam Masri+++Imam\n"
          ]
        }
      ]
    },
    {
      "cell_type": "code",
      "metadata": {
        "colab": {
          "base_uri": "https://localhost:8080/"
        },
        "id": "yycPeVsvwrcL",
        "outputId": "eb6372b1-3587-4309-8ed6-c7605ecfc38a"
      },
      "source": [
        "print(\"My\", \"name\", \"is\", \"Monty\", \"Python.\", sep=\"\")"
      ],
      "execution_count": 11,
      "outputs": [
        {
          "output_type": "stream",
          "name": "stdout",
          "text": [
            "MynameisMontyPython.\n"
          ]
        }
      ]
    },
    {
      "cell_type": "markdown",
      "metadata": {
        "id": "jlOyTafEiqEJ"
      },
      "source": [
        "# **Comment in Python**\n",
        "\n",
        "Comments can be used to :\n",
        "- make the code more readable\n",
        "- prevent execution when testing code\n",
        "\n",
        "In Python, you can make comment using **#** command."
      ]
    },
    {
      "cell_type": "code",
      "metadata": {
        "id": "1adUV7fliv3M",
        "colab": {
          "base_uri": "https://localhost:8080/"
        },
        "outputId": "e1f7a3bf-1b38-4a8c-e83d-24c9fdac17c6"
      },
      "source": [
        "# This is the explanation of code\n",
        "print(\"Comment is not execute.\")"
      ],
      "execution_count": 12,
      "outputs": [
        {
          "output_type": "stream",
          "name": "stdout",
          "text": [
            "Comment is not execute.\n"
          ]
        }
      ]
    },
    {
      "cell_type": "markdown",
      "metadata": {
        "id": "uMnJA3s9ptzo"
      },
      "source": [
        "For multi-line comment you can use triple quotes and place command inside it."
      ]
    },
    {
      "cell_type": "code",
      "metadata": {
        "id": "WwWW_zS9n8aT",
        "colab": {
          "base_uri": "https://localhost:8080/"
        },
        "outputId": "6456f403-8d44-4b21-e449-5702c72da21f"
      },
      "source": [
        "\"This comment to for single\"\n",
        "\n",
        "\"\"\"\n",
        "First line comment\n",
        "Second line comment\n",
        "...\n",
        "\"\"\"\n",
        "\n",
        "print(\"Comment is not execute\")"
      ],
      "execution_count": 13,
      "outputs": [
        {
          "output_type": "stream",
          "name": "stdout",
          "text": [
            "Comment is not execute\n"
          ]
        }
      ]
    },
    {
      "cell_type": "markdown",
      "metadata": {
        "id": "F7eGm0cvtmyN"
      },
      "source": [
        "# **Variables in Python**\n",
        "\n",
        "Data values can be stored in variables. Unlike other programming language, Python don't have command for declaring a variable. A variable is created at the moment you assign a value to it. Also, variable don't need to be declared with any particular type and can even change type after they have been set."
      ]
    },
    {
      "cell_type": "code",
      "metadata": {
        "id": "TEWS7xRDqVCP",
        "colab": {
          "base_uri": "https://localhost:8080/"
        },
        "outputId": "fe91d524-cb32-4cbc-d6fc-3634a15d749a"
      },
      "source": [
        "x = 'DSC Unhas' # type of x is string\n",
        "\n",
        "x = 10          # type of x change to int\n",
        "\n",
        "print(x)"
      ],
      "execution_count": 14,
      "outputs": [
        {
          "output_type": "stream",
          "name": "stdout",
          "text": [
            "10\n"
          ]
        }
      ]
    },
    {
      "cell_type": "markdown",
      "metadata": {
        "id": "wtuGOArYD0PJ"
      },
      "source": [
        "A variable can have a short name (like x and y) or a more descriptive name (age, carName, total_volume). Rules for Python variables:\n",
        "- A variable name **must** start with a letter or the underscore character\n",
        "- A variable name **cannot start with a number**\n",
        "- A variable name can only contain **alpha-numeric characters and underscores** (A-z, 0-9, and _ )\n",
        "\n",
        "Variable names are case-sensitive (age, Age and AGE are three different variables)"
      ]
    },
    {
      "cell_type": "code",
      "metadata": {
        "id": "2igVQFNgJzX5"
      },
      "source": [
        "myvar = \"John\"\n",
        "my_var = \"John\"\n",
        "_my_var = \"John\"\n",
        "myVar = \"John\"\n",
        "MYVAR = \"John\"\n",
        "myvar2 = \"John\"\n",
        "\n",
        "#Illegal variable names:\n",
        "# 2myvar = \"John\"\n",
        "# my-var = \"John\"\n",
        "# my var = \"John\""
      ],
      "execution_count": 15,
      "outputs": []
    },
    {
      "cell_type": "markdown",
      "metadata": {
        "id": "oGv1UO_uGSvi"
      },
      "source": [
        "Besides, Python also allows you to assign values to **multiple variables** in one line."
      ]
    },
    {
      "cell_type": "code",
      "metadata": {
        "id": "KzGSTBMSDaJy",
        "colab": {
          "base_uri": "https://localhost:8080/"
        },
        "outputId": "204e5de6-a462-440a-cae1-ef341a8aa4b7"
      },
      "source": [
        "a, b, c = \"DSC\", 'Unhas', 1\n",
        "\n",
        "print(a)\n",
        "print(b)\n",
        "print(c)"
      ],
      "execution_count": 16,
      "outputs": [
        {
          "output_type": "stream",
          "name": "stdout",
          "text": [
            "DSC\n",
            "Unhas\n",
            "1\n"
          ]
        }
      ]
    },
    {
      "cell_type": "markdown",
      "metadata": {
        "id": "N69H7AlbGrfq"
      },
      "source": [
        "Or, you can assingn **same value** to multiple variables in one line."
      ]
    },
    {
      "cell_type": "code",
      "metadata": {
        "id": "lTWVTboyGlzv",
        "colab": {
          "base_uri": "https://localhost:8080/"
        },
        "outputId": "f301a0f1-42bb-4124-805c-c7dc70db2303"
      },
      "source": [
        "a = b = c = \"DSC Unhas\"\n",
        "\n",
        "print(a, b, c)"
      ],
      "execution_count": 17,
      "outputs": [
        {
          "output_type": "stream",
          "name": "stdout",
          "text": [
            "DSC Unhas DSC Unhas DSC Unhas\n"
          ]
        }
      ]
    },
    {
      "cell_type": "markdown",
      "metadata": {
        "id": "gX6UK1SPVJFl"
      },
      "source": [
        "# **Print Value Of Variable**"
      ]
    },
    {
      "cell_type": "code",
      "metadata": {
        "id": "1P0ZOdDrVQ52",
        "colab": {
          "base_uri": "https://localhost:8080/"
        },
        "outputId": "7c165b68-48d9-48a0-c2a7-0f54c73d6f29"
      },
      "source": [
        "#TYPE\n",
        "a,b,c = 1,2,3\n",
        "print(a, b, c)\n",
        "\n",
        "print(\"a = %d , b = %d , c = %d\" % (a,b,c)) #format identifier\n",
        "print(\"a =\",a,\", b =\",b,\", c =\",c) #type numeric value\n",
        "print(\"a = \"+str(a)+\" , b = \"+str(b)+\" , c = \"+str(c)) #format string\n",
        "print(f'a = {a} , b = {b} , c = {c}') #f-string\n",
        "\n",
        "print(\"a = {} , b = {} , c = {}\".format(a,b,c)) # f{} format 01\n",
        "print(\"b = {1} , a = {0} , c = {2}\".format(a,b,c)) # f{} format 02\n",
        "print(\"a = {:.2f} , b = {:.1f} , c = {:.4f}\".format(a,b,c)) # f{} format 03\n",
        "print(\"b = {1} , a = {0:.2f} , c = {2}\".format(a,b,c)) # f{} format 04\n",
        "\n",
        "\n",
        "print(\"a = {:>5} , b = {:>5} , c = {:>5.2f}\".format(a,b,c)) # f{} format 05\n",
        "\n",
        "print(\"I have a {carname}, it is a {model}\".format(carname = \"Ford\", model = \"Mustang\")) # f{} format 06\n",
        "\n",
        "myorder = \"I have a {carname}, it is a {model}.\"\n",
        "print(myorder.format(carname = \"Ford\", model = \"Mustang\")) # f{} format 07\n",
        "\n",
        "\n",
        "print(r'That is Carol\\'s cat.') # Raw String"
      ],
      "execution_count": 18,
      "outputs": [
        {
          "output_type": "stream",
          "name": "stdout",
          "text": [
            "1 2 3\n",
            "a = 1 , b = 2 , c = 3\n",
            "a = 1 , b = 2 , c = 3\n",
            "a = 1 , b = 2 , c = 3\n",
            "a = 1 , b = 2 , c = 3\n",
            "a = 1 , b = 2 , c = 3\n",
            "b = 2 , a = 1 , c = 3\n",
            "a = 1.00 , b = 2.0 , c = 3.0000\n",
            "b = 2 , a = 1.00 , c = 3\n",
            "a =     1 , b =     2 , c =  3.00\n",
            "I have a Ford, it is a Mustang\n",
            "I have a Ford, it is a Mustang.\n",
            "That is Carol\\'s cat.\n"
          ]
        }
      ]
    },
    {
      "cell_type": "code",
      "metadata": {
        "id": "Zh3TySuKZkiW",
        "colab": {
          "base_uri": "https://localhost:8080/"
        },
        "outputId": "6254d8c5-3ddf-4434-de0c-714f13a170f7"
      },
      "source": [
        "#proses memasukan data ke dalam variabel\n",
        "nama = \"John Doe\"\n",
        "#proses mencetak variabel\n",
        "print(nama)\n",
        "\n",
        "#nilai dan tipe data dalam variabel  dapat diubah\n",
        "umur = 20               #nilai awal\n",
        "print(umur)             #mencetak nilai umur\n",
        "type(umur)              #mengecek tipe data umur\n",
        "umur = \"dua puluh satu\" #nilai setelah diubah\n",
        "print(umur)             #mencetak nilai umur\n",
        "type(umur)              #mengecek tipe data umur\n",
        "\n",
        "namaDepan = \"Budi\"\n",
        "namaBelakang = \"Susanto\"\n",
        "nama = namaDepan + \" \" + namaBelakang\n",
        "umur = 22\n",
        "hobi = \"Berenang\"\n",
        "print(\"Biodata\\n\", nama, \"\\n\", umur, \"\\n\", hobi)\n",
        "\n",
        "#contoh variabel lainya\n",
        "inivariabel = \"Halo\"\n",
        "ini_juga_variabel = \"Hai\"\n",
        "_inivariabeljuga = \"Hi\"\n",
        "inivariabel222 = \"Bye\" \n",
        "\n",
        "panjang = 10\n",
        "lebar = 5\n",
        "luas = panjang * lebar\n",
        "print(luas)"
      ],
      "execution_count": 19,
      "outputs": [
        {
          "output_type": "stream",
          "name": "stdout",
          "text": [
            "John Doe\n",
            "20\n",
            "dua puluh satu\n",
            "Biodata\n",
            " Budi Susanto \n",
            " 22 \n",
            " Berenang\n",
            "50\n"
          ]
        }
      ]
    },
    {
      "cell_type": "markdown",
      "metadata": {
        "id": "Ze3V3OlWTN7N"
      },
      "source": [
        "# **Data Types**\n",
        "\n",
        "Python dikenal sebagai salah satu bahasa yang menerapkan dynamic typing, yakni bahasa pemrograman yang hanya mengetahui tipe variabel saat program berjalan dan dilakukan assignment. Tentu saja, pada Python juga umumnya tidak ada deklarasi variabel, hanya berupa assignment statement.\n",
        "\n",
        "Tipe data adalah suatu media atau memori pada komputer yang digunakan untuk menampung informasi.\n",
        "\n",
        "Python sendiri mempunyai tipe data yang cukup unik bila kita bandingkan dengan bahasa pemrograman yang lain.\n",
        "\n",
        "\n",
        "1. String :\t\"Ayo belajar Python\"\t\n",
        "\n",
        "    Menyatakan karakter/kalimat bisa berupa huruf angka, dll (diapit tanda \" atau ')\n",
        "\n",
        "2. Integer :\t25 atau 1209\t\n",
        "\n",
        "    Menyatakan bilangan bulat\n",
        "\n",
        "3. Float :\t3.14 atau 0.99\t\n",
        "\n",
        "    Menyatakan bilangan yang mempunyai koma\n",
        "\n",
        "4. Complex : 1 + 5j\t\n",
        "\n",
        "    Menyatakan pasangan angka real dan imajiner\n",
        "\n",
        "5. Boolean : True atau False\t\n",
        "\n",
        "    Menyatakan benar True yang bernilai 1, atau salah False yang bernilai 0\n",
        "\n",
        "6. List : ['xyz', 786, 2.23]\t\n",
        "\n",
        "    Data untaian yang menyimpan berbagai tipe data dan isinya bisa diubah-ubah\n",
        "\n",
        "7. Tuple : ('xyz', 768, 2.23)\t\n",
        "\n",
        "    Data untaian yang menyimpan berbagai tipe data tapi isinya tidak bisa diubah\n",
        "\n",
        "8. Set : {'xyz', 768, 2.23}\n",
        "\n",
        "\n",
        "\n",
        "9. Dictionary :\t{'nama': 'adi','id':2}\t\n",
        "\n",
        "    Data untaian yang menyimpan berbagai tipe data berupa pasangan penunjuk dan nilai\n",
        "\n",
        "..........................................................\n",
        "\n",
        "* Text Type:\tstr\n",
        "\n",
        "* Numeric Types:\tint, float, complex\n",
        "\n",
        "* Sequence Types:\tlist, tuple, range\n",
        "\n",
        "* Mapping Type:\tdict\n",
        "\n",
        "* Set Types:\tset, frozenset\n",
        "\n",
        "* Boolean Type:\tbool\n",
        "\n",
        "* Binary Types:\tbytes, bytearray, memoryview\n"
      ]
    },
    {
      "cell_type": "code",
      "metadata": {
        "id": "EsgQvEYuYVux",
        "colab": {
          "base_uri": "https://localhost:8080/"
        },
        "outputId": "992851fb-fb53-409f-a4ea-261bc199398c"
      },
      "source": [
        "#tipe data String\n",
        "print(\"Ayo belajar Python\")\n",
        "print('Belajar Python Sangat Mudah')\n",
        "\n",
        "#tipe data Integer\n",
        "print(20)\n",
        "\n",
        "#tipe data Float\n",
        "print(3.14)\n",
        "\n",
        "#tipe data Complex\n",
        "print(5j)\n",
        "\n",
        "#tipe data Boolean\n",
        "print(True)\n",
        "\n",
        "#tipe data List\n",
        "print([1,2,3,4,5])\n",
        "print([\"satu\", \"dua\", \"tiga\"])\n",
        "\n",
        "#tipe data Tuple\n",
        "print((1,2,3,4,5))\n",
        "print((\"satu\", \"dua\", \"tiga\"))\n",
        "\n",
        "#tipe data Dictionary\n",
        "print({\"nama\":\"Budi\", 'umur':20})\n",
        "\n",
        "#tipe data Dictionary dimasukan ke dalam variabel biodata\n",
        "biodata = {\"nama\":\"Andi\", 'umur':21} #proses inisialisasi variabel biodata\n",
        "print(biodata) #proses pencetakan variabel biodata yang berisi tipe data Dictionary\n",
        "type(biodata) #fungsi untuk mengecek jenis tipe data. akan tampil <class 'dict'> yang berarti dict adalah tipe data dictionary"
      ],
      "execution_count": 20,
      "outputs": [
        {
          "output_type": "stream",
          "name": "stdout",
          "text": [
            "Ayo belajar Python\n",
            "Belajar Python Sangat Mudah\n",
            "20\n",
            "3.14\n",
            "5j\n",
            "True\n",
            "[1, 2, 3, 4, 5]\n",
            "['satu', 'dua', 'tiga']\n",
            "(1, 2, 3, 4, 5)\n",
            "('satu', 'dua', 'tiga')\n",
            "{'nama': 'Budi', 'umur': 20}\n",
            "{'nama': 'Andi', 'umur': 21}\n"
          ]
        },
        {
          "output_type": "execute_result",
          "data": {
            "text/plain": [
              "dict"
            ]
          },
          "metadata": {},
          "execution_count": 20
        }
      ]
    },
    {
      "cell_type": "code",
      "metadata": {
        "id": "EEy65dDp04it",
        "colab": {
          "base_uri": "https://localhost:8080/"
        },
        "outputId": "8303c37f-a9fb-434c-e0e1-ace73a6f9221"
      },
      "source": [
        "#Tipe Data String\n",
        "foo = \"Belajar Python di Duniailkom\"\n",
        "print(foo)\n",
        " \n",
        "#Tipe Data Integer\n",
        "foo = 1500\n",
        "print(foo)\n",
        " \n",
        "#Tipe Data Float\n",
        "foo = 99.123\n",
        "print(foo)\n",
        " \n",
        "#Tipe Data Complex Number\n",
        "foo = 4j\n",
        "print(foo)\n",
        " \n",
        "#Tipe Data Boolean\n",
        "foo = True\n",
        "print(foo)\n",
        " \n",
        "#Tipe Data List\n",
        "foo = [\"satu\",\"dua\",\"tiga\",\"satu\"]\n",
        "print(foo)\n",
        " \n",
        "#Tipe Data Tuple\n",
        "foo = (\"satu\",\"dua\",\"tiga\",\"satu\")\n",
        "print(foo)\n",
        " \n",
        "#Tipe Data Set\n",
        "foo = {\"satu\",\"dua\",\"tiga\",\"empat\"}\n",
        "print(foo)\n",
        " \n",
        "#Tipe Data Dictionary\n",
        "foo = {\"satu\":1, \"dua\":2.13, \"tiga\":\"a\", \"empat\": True}\n",
        "print(foo)"
      ],
      "execution_count": 21,
      "outputs": [
        {
          "output_type": "stream",
          "name": "stdout",
          "text": [
            "Belajar Python di Duniailkom\n",
            "1500\n",
            "99.123\n",
            "4j\n",
            "True\n",
            "['satu', 'dua', 'tiga', 'satu']\n",
            "('satu', 'dua', 'tiga', 'satu')\n",
            "{'dua', 'empat', 'satu', 'tiga'}\n",
            "{'satu': 1, 'dua': 2.13, 'tiga': 'a', 'empat': True}\n"
          ]
        }
      ]
    },
    {
      "cell_type": "code",
      "metadata": {
        "id": "Hdpefv8bTq27",
        "colab": {
          "base_uri": "https://localhost:8080/"
        },
        "outputId": "a238680c-b41d-458d-ebe7-b29d5adc5d9f"
      },
      "source": [
        "# integer\n",
        "data_integer = 1\n",
        "print('data = ', data_integer , ', type = ', type(data_integer))\n",
        "\n",
        "# float\n",
        "data_float = 1.5\n",
        "print('data = ', data_float , ', type = ', type(data_float))\n",
        "\n",
        "# string\n",
        "data_string = 'imam'\n",
        "print('data = ', data_string , ', type = ', type(data_string))\n",
        "\n",
        "# boolean\n",
        "data_bool = False\n",
        "print('data = ', data_bool , ', type = ', type(data_bool))\n",
        "\n",
        "data_bool = 1 # bisa di cast menjadi bool\n",
        "print('data = ', data_bool , ', type = ', type(data_bool))\n"
      ],
      "execution_count": 22,
      "outputs": [
        {
          "output_type": "stream",
          "name": "stdout",
          "text": [
            "data =  1 , type =  <class 'int'>\n",
            "data =  1.5 , type =  <class 'float'>\n",
            "data =  imam , type =  <class 'str'>\n",
            "data =  False , type =  <class 'bool'>\n",
            "data =  1 , type =  <class 'int'>\n"
          ]
        }
      ]
    },
    {
      "cell_type": "code",
      "metadata": {
        "id": "BbqBOF5jVOQ5",
        "colab": {
          "base_uri": "https://localhost:8080/"
        },
        "outputId": "82d53de1-9f65-44bd-9f5c-94353013de7d"
      },
      "source": [
        "# Tipe data khusus\n",
        "\n",
        "# bilangan data kompleks\n",
        "data_complex = complex(5,6)\n",
        "print('data = ', data_complex , ', type = ', type(data_complex))\n",
        "\n",
        "# tipe data bilangan C\n",
        "# Char, Short, Long, Double, Long Double, Long Long dll\n",
        "from ctypes import c_double\n",
        "data_c_double = c_double(10.5)\n",
        "print('data = ', data_c_double , ', type = ', type(data_c_double))"
      ],
      "execution_count": 23,
      "outputs": [
        {
          "output_type": "stream",
          "name": "stdout",
          "text": [
            "data =  (5+6j) , type =  <class 'complex'>\n",
            "data =  c_double(10.5) , type =  <class 'ctypes.c_double'>\n"
          ]
        }
      ]
    },
    {
      "cell_type": "markdown",
      "metadata": {
        "id": "XNrH3HwjxO3i"
      },
      "source": [
        "Additionally :\n",
        "\n",
        "If an integer number is preceded by an `0O` or `0o` prefix (zero-o), it will be treated as an octal value. This means that the number must contain digits taken from the `[0..7] range only`.\n",
        "\n",
        "`0o123` is an octal number with a (decimal) value equal to 83.\n",
        "\n",
        "The print() function does the conversion automatically. Try this:\n"
      ]
    },
    {
      "cell_type": "code",
      "metadata": {
        "colab": {
          "base_uri": "https://localhost:8080/"
        },
        "id": "bXAM5lLLxdGP",
        "outputId": "c54be774-a19d-4b75-8f99-78d3e3c0e6c5"
      },
      "source": [
        "print(0o123)"
      ],
      "execution_count": 24,
      "outputs": [
        {
          "output_type": "stream",
          "name": "stdout",
          "text": [
            "83\n"
          ]
        }
      ]
    },
    {
      "cell_type": "markdown",
      "metadata": {
        "id": "M826HzpVxfG1"
      },
      "source": [
        "The second convention allows us to use hexadecimal numbers. Such numbers should be preceded by the prefix `0x` or `0X` (zero-x).\n",
        "\n",
        "`0x123` is a hexadecimal number with a (decimal) value equal to 291. The print() function can manage these values too. Try this:"
      ]
    },
    {
      "cell_type": "code",
      "metadata": {
        "colab": {
          "base_uri": "https://localhost:8080/"
        },
        "id": "umSFgbg2xkAZ",
        "outputId": "ad7cb7e3-22dd-4b96-8003-96be675fa9e2"
      },
      "source": [
        "print(0x123)"
      ],
      "execution_count": 25,
      "outputs": [
        {
          "output_type": "stream",
          "name": "stdout",
          "text": [
            "291\n"
          ]
        }
      ]
    },
    {
      "cell_type": "markdown",
      "metadata": {
        "id": "WBlzSikUJyCb"
      },
      "source": [
        "# **Casting**\n",
        "\n",
        "There may be times when you want to specify a type on to a variable. This can be done with casting. Python is an object-orientated language, and as such it uses classes to define data types, including its primitive types.\n",
        "\n",
        "Casting in python is therefore done using constructor functions:\n",
        "\n",
        "- **int()** - constructs an integer number from an integer literal, a float literal (by rounding down to the previous whole number), or a string literal (providing the string represents a whole number)\n",
        "- **float()** - constructs a float number from an integer literal, a float literal or a string literal (providing the string represents a float or an integer)\n",
        "- **str()** - constructs a string from a wide variety of data types, including strings, integer literals and float literals\n",
        "\n",
        "- **bool()**\n",
        "\n",
        "- **list(), tuple(), set(), dict()**"
      ]
    },
    {
      "cell_type": "code",
      "metadata": {
        "id": "yzkbDXZ6HMlT",
        "colab": {
          "base_uri": "https://localhost:8080/"
        },
        "outputId": "0aa7787c-80f9-4a9c-c0c1-89683483d6ab"
      },
      "source": [
        "# Cast value to int\n",
        "\n",
        "a = int(10)\n",
        "b = int(10.82)\n",
        "c = int('3')\n",
        "d = int(True) \n",
        "\n",
        "print(a, b, c, d)"
      ],
      "execution_count": 26,
      "outputs": [
        {
          "output_type": "stream",
          "name": "stdout",
          "text": [
            "10 10 3 1\n"
          ]
        }
      ]
    },
    {
      "cell_type": "code",
      "metadata": {
        "id": "GvEbW6xfKz8c",
        "colab": {
          "base_uri": "https://localhost:8080/"
        },
        "outputId": "6b8f2f7e-e669-48bd-a24f-c8bcd5f001ee"
      },
      "source": [
        "# Cast value to float\n",
        "\n",
        "a = float(10)\n",
        "b = float(10.82)\n",
        "c = float('3.02')\n",
        "d = float(True) \n",
        "\n",
        "print(a, b, c, d)"
      ],
      "execution_count": 27,
      "outputs": [
        {
          "output_type": "stream",
          "name": "stdout",
          "text": [
            "10.0 10.82 3.02 1.0\n"
          ]
        }
      ]
    },
    {
      "cell_type": "code",
      "metadata": {
        "id": "XXpD7OI8LJkY",
        "colab": {
          "base_uri": "https://localhost:8080/"
        },
        "outputId": "f3bf9350-f03a-43dd-a3cd-c5872ef889f4"
      },
      "source": [
        "# Cast value to string\n",
        "\n",
        "a = str(10)\n",
        "b = str(10.82)\n",
        "c = str('3.02')\n",
        "d = str(True) \n",
        "\n",
        "print(a, b, c, d)"
      ],
      "execution_count": 28,
      "outputs": [
        {
          "output_type": "stream",
          "name": "stdout",
          "text": [
            "10 10.82 3.02 True\n"
          ]
        }
      ]
    },
    {
      "cell_type": "code",
      "metadata": {
        "id": "s4PX6RdGW2w3",
        "colab": {
          "base_uri": "https://localhost:8080/"
        },
        "outputId": "45ac9c32-bc10-4823-9299-443d8b112e52"
      },
      "source": [
        "# Cast value to bool\n",
        "# false only 0 or '' empty string\n",
        "# true 1 or others or string \n",
        "\n",
        "a = bool(0) \n",
        "b = bool(1)\n",
        "c = bool(20)\n",
        "d = bool('23')\n",
        "e = bool('')\n",
        "\n",
        "print(a, b, c, d, e)"
      ],
      "execution_count": 29,
      "outputs": [
        {
          "output_type": "stream",
          "name": "stdout",
          "text": [
            "False True True True False\n"
          ]
        }
      ]
    },
    {
      "cell_type": "markdown",
      "metadata": {
        "id": "vKKd1rcxLo0f"
      },
      "source": [
        "Why casting is important? Because you can't concatenate a string and a number. One of the ways to concatenate is to cast number value to string using **str()**."
      ]
    },
    {
      "cell_type": "code",
      "metadata": {
        "id": "8ZFqNoMgLQ-p",
        "colab": {
          "base_uri": "https://localhost:8080/"
        },
        "outputId": "571846f0-236d-4a94-ef23-c648846eb57a"
      },
      "source": [
        "text = \"This year is \"\n",
        "year = 2020\n",
        "\n",
        "# TODO : fix the error\n",
        "print(text + str(year))  # this will throw an error. Try to cast year to string first"
      ],
      "execution_count": 30,
      "outputs": [
        {
          "output_type": "stream",
          "name": "stdout",
          "text": [
            "This year is 2020\n"
          ]
        }
      ]
    },
    {
      "cell_type": "markdown",
      "metadata": {
        "id": "56bXy8AEYqYo"
      },
      "source": [
        "# **Input Data**\n",
        "\n",
        "Secara default, input dari user adalah string."
      ]
    },
    {
      "cell_type": "code",
      "metadata": {
        "id": "0kjd3C5lYvLe",
        "colab": {
          "base_uri": "https://localhost:8080/"
        },
        "outputId": "d5728873-1565-42bd-afb4-5f7cfd996ed2"
      },
      "source": [
        "data = input('Masukkan data : ')\n",
        "print('data = ', data , ', type = ', type(data))\n",
        "\n",
        "# Masukkan data : Nur Imam Masri\n",
        "# data =  Nur Imam Masri , type =  <class 'str'>\n",
        "\n",
        "# Masukkan data : 5\n",
        "# data =  5 , type =  <class 'str'>\n",
        "\n",
        "# Masukkan data : 10.7\n",
        "# data =  10.7 , type =  <class 'str'>\n",
        "\n",
        "# Masukkan data : True\n",
        "# data =  True , type =  <class 'str'>"
      ],
      "execution_count": 31,
      "outputs": [
        {
          "output_type": "stream",
          "name": "stdout",
          "text": [
            "Masukkan data : 10.7\n",
            "data =  10.7 , type =  <class 'str'>\n"
          ]
        }
      ]
    },
    {
      "cell_type": "markdown",
      "metadata": {
        "id": "Cjf57jNYZO24"
      },
      "source": [
        "jika dilihat bahwa apapun yang di input akan tetap bertype string. Maka dilakukan casting pada input"
      ]
    },
    {
      "cell_type": "code",
      "metadata": {
        "id": "73Zoyyw3ZOos",
        "colab": {
          "base_uri": "https://localhost:8080/"
        },
        "outputId": "827381ae-fb81-4854-8361-6727b4986fb2"
      },
      "source": [
        "angka = int(input('Masukkan angka : '))\n",
        "print('angka = ', angka , ', type = ', type(angka))\n",
        "\n",
        "# Masukkan angka : 345\n",
        "# angka =  345 , type =  <class 'int'>\n",
        "\n",
        "# Masukkan angka : 0.5\n",
        "# invalid literal for int() with base 10: '0.5'"
      ],
      "execution_count": 32,
      "outputs": [
        {
          "output_type": "stream",
          "name": "stdout",
          "text": [
            "Masukkan angka : 345\n",
            "angka =  345 , type =  <class 'int'>\n"
          ]
        }
      ]
    },
    {
      "cell_type": "code",
      "metadata": {
        "id": "iz-0Y-UwZub8",
        "colab": {
          "base_uri": "https://localhost:8080/"
        },
        "outputId": "3443f0c1-ab01-4897-eb0e-d4e4aa94d06e"
      },
      "source": [
        "f_angka = float(input('Masukkan f_angka : '))\n",
        "print('f_angka = ', f_angka , ', type = ', type(f_angka))\n",
        "\n",
        "# Masukkan f_angka : 5.05\n",
        "# f_angka =  5.05 , type =  <class 'float'>"
      ],
      "execution_count": 33,
      "outputs": [
        {
          "output_type": "stream",
          "name": "stdout",
          "text": [
            "Masukkan f_angka : 5.05\n",
            "f_angka =  5.05 , type =  <class 'float'>\n"
          ]
        }
      ]
    },
    {
      "cell_type": "markdown",
      "metadata": {
        "id": "0zcPompxaFjw"
      },
      "source": [
        "Sedangkan untuk boolean maka harus agak teliti. karena nilainya akan tetap True walaupun inputnya False"
      ]
    },
    {
      "cell_type": "code",
      "metadata": {
        "id": "2r2RYwTtaJIk",
        "colab": {
          "base_uri": "https://localhost:8080/"
        },
        "outputId": "c59ac832-e31e-4d58-b4b1-048674165333"
      },
      "source": [
        "boolean = bool(input('Masukkan boolean : '))\n",
        "print('boolean = ', boolean , ', type = ', type(boolean))\n",
        "\n",
        "# Masukkan boolean : True\n",
        "# boolean =  True , type =  <class 'bool'>\n",
        "\n",
        "# Namun jika input false akan menyebabkan nilai tetap True\n",
        "# Masukkan boolean : False\n",
        "# boolean =  True , type =  <class 'bool'>\n",
        "\n",
        "# Masukkan boolean : 1\n",
        "# boolean =  True , type =  <class 'bool'>\n",
        "\n",
        "# Masukkan boolean : 0\n",
        "# boolean =  True , type =  <class 'bool'>"
      ],
      "execution_count": 34,
      "outputs": [
        {
          "output_type": "stream",
          "name": "stdout",
          "text": [
            "Masukkan boolean : False\n",
            "boolean =  True , type =  <class 'bool'>\n"
          ]
        }
      ]
    },
    {
      "cell_type": "markdown",
      "metadata": {
        "id": "7W08uL6-ab6Q"
      },
      "source": [
        "Namun jika input false akan menyebabkan nilai tetap True\n",
        "\n",
        "Masukkan boolean : False\n",
        "\n",
        "boolean =  True , type =  <class 'bool'>\n",
        "\n",
        "Maka untuk melakukan detection False maka akan harus mengguanakan nilai integer (cast int)."
      ]
    },
    {
      "cell_type": "code",
      "metadata": {
        "id": "3U36yd69amFm",
        "colab": {
          "base_uri": "https://localhost:8080/"
        },
        "outputId": "652cb8ab-59ca-4310-be2d-585a14aab156"
      },
      "source": [
        "biner = bool(int(input('Masukkan biner : ')))\n",
        "print('biner = ', biner , ', type = ', type(biner))\n",
        "\n",
        "# Masukkan biner : 1\n",
        "# biner =  True , type =  <class 'bool'>\n",
        "\n",
        "# Masukkan biner : 0\n",
        "# biner =  False , type =  <class 'bool'>"
      ],
      "execution_count": 35,
      "outputs": [
        {
          "output_type": "stream",
          "name": "stdout",
          "text": [
            "Masukkan biner : 0\n",
            "biner =  False , type =  <class 'bool'>\n"
          ]
        }
      ]
    },
    {
      "cell_type": "markdown",
      "metadata": {
        "id": "9YR0LSWuo10s"
      },
      "source": [
        "Python 2.7"
      ]
    },
    {
      "cell_type": "code",
      "metadata": {
        "id": "j33QTtBXoqVc"
      },
      "source": [
        "# username = raw_input(\"Enter username:\")\n",
        "# print(\"Username is: \" + username)"
      ],
      "execution_count": 36,
      "outputs": []
    },
    {
      "cell_type": "markdown",
      "metadata": {
        "id": "kpIgcvb7QoAN"
      },
      "source": [
        "# **Boolean**\n",
        "\n",
        "In programming you often need to know if an expression is True or False.\n",
        "\n",
        "True ->\n",
        "\n",
        "Most Values are True\n",
        "\n",
        "Almost any value is evaluated to True if it has some sort of content.\n",
        "\n",
        "* Any `string` is `True`, except `empty strings`.\n",
        "\n",
        "* Any `number` is `True`, except `0`.\n",
        "\n",
        "* Any `list, tuple, set, and dictionary` are `True`, except `empty ones`.\n",
        "\n",
        "\n",
        "False ->\n",
        "\n",
        "* Konstanta yang sudah didefinisikan bernilai salah: None dan False\n",
        "\n",
        "* Angka nol dari semua tipe numeric: 0, 0.0, 0j, Decimal(0), Fraction(0, 1)\n",
        "\n",
        "* Urutan (sequence) dan koleksi (collection) yang kosong: '', (), {}, set(), range(0)"
      ]
    },
    {
      "cell_type": "code",
      "metadata": {
        "id": "BJX4Cv2tQufB",
        "colab": {
          "base_uri": "https://localhost:8080/"
        },
        "outputId": "2003e41a-b3a1-4f08-a8d5-fc8762fb2bc2"
      },
      "source": [
        "print(10 > 9)\n",
        "print(10 == 9)\n",
        "print(10 < 9)"
      ],
      "execution_count": 37,
      "outputs": [
        {
          "output_type": "stream",
          "name": "stdout",
          "text": [
            "True\n",
            "False\n",
            "False\n"
          ]
        }
      ]
    },
    {
      "cell_type": "code",
      "metadata": {
        "id": "4uqhRnnzQxao",
        "colab": {
          "base_uri": "https://localhost:8080/"
        },
        "outputId": "91d6471e-5d89-4be3-eac8-9c3a9c58dbe1"
      },
      "source": [
        "a = 200\n",
        "b = 33\n",
        "\n",
        "if b > a:\n",
        "  print(\"b is greater than a\")\n",
        "else:\n",
        "  print(\"b is not greater than a\")"
      ],
      "execution_count": 38,
      "outputs": [
        {
          "output_type": "stream",
          "name": "stdout",
          "text": [
            "b is not greater than a\n"
          ]
        }
      ]
    },
    {
      "cell_type": "code",
      "metadata": {
        "id": "kQYL_ih8nmal",
        "colab": {
          "base_uri": "https://localhost:8080/"
        },
        "outputId": "554ea3a2-099c-47f4-c7c0-55cb205b26ca"
      },
      "source": [
        "# Cast value to bool\n",
        "# false only 0 or '' empty string\n",
        "# true 1 or others or string \n",
        "\n",
        "a = bool(0) \n",
        "b = bool(1)\n",
        "c = bool(20)\n",
        "d = bool('23')\n",
        "e = bool('')\n",
        "\n",
        "print(a, b, c, d, e)"
      ],
      "execution_count": 39,
      "outputs": [
        {
          "output_type": "stream",
          "name": "stdout",
          "text": [
            "False True True True False\n"
          ]
        }
      ]
    },
    {
      "cell_type": "markdown",
      "metadata": {
        "id": "1WNkppOnn3xP"
      },
      "source": [
        "# **Number**\n",
        "\n",
        "Number adalah tipe data Python yang menyimpan nilai numerik. Number adalah tipe data yang tidak berubah. Ini berarti, mengubah nilai dari sejumlah tipe data akan menghasilkan objek yang baru dialokasikan.\n",
        "\n",
        "Python mendukung beberapa tipe data Number diantaranya :\n",
        "\n",
        "* Int\n",
        "* Float\n",
        "* Complex\n",
        "\n",
        "**Konversi Tipe Data Number Python**\n",
        "\n",
        "Pada Python Anda bisa mengkonversi tipe data dengan menggunakan fungsi. Dibawah ini adalah beberapa fungsi untuk mengkonversi tipe data number Python.\n",
        "\n",
        "* **int(x)** untuk meng-konversi x menjadi plain integer.\n",
        "\n",
        "* **long(x)** untuk meng-konversi x menjadi long integer.\n",
        "\n",
        "* **float(x)** untuk meng-konversi x menjadi floating point number.\n",
        "\n",
        "* **complex(x)** untuk meng-konversi x menjadi complex number dengna real part x dan imaginary part zero.\n",
        "\n",
        "* **complex(x, y)** untuk meng-konversi x dan y menjadi complex number dengan real part x dan imaginary part y. x dan numeric expressions y.\n",
        "\n",
        "**Fungsi Matematika Python**\n",
        "\n",
        "![fungsimatematika01.png](https://raw.githubusercontent.com/nurimammasri/Wooky-Python/main/image/fungsimatematika01.png)\n",
        "\n",
        "![fungsimatematika02.png](https://raw.githubusercontent.com/nurimammasri/Wooky-Python/main/image/fungsimatematika02.png)\n",
        "\n",
        "\n",
        "**Fungsi Nomor Acak Python**\n",
        "\n",
        "![fungsinomoracak.png](https://raw.githubusercontent.com/nurimammasri/Wooky-Python/main/image/fungsinomoracak.png)\n",
        "\n",
        "\n",
        "**Fungsi Trigonometri Python**\n",
        "\n",
        "![fungsitrigonometri.png](https://raw.githubusercontent.com/nurimammasri/Wooky-Python/main/image/fungsitrigonometri.png)\n",
        "\n",
        "**Konstanta Matematika Python**\n",
        "\n",
        "![fungsikonstanta.png](https://raw.githubusercontent.com/nurimammasri/Wooky-Python/main/image/fungsikonstanta.png)\n",
        "\n",
        "Tambahan\n",
        "\n",
        "**fungsi zfill( )**\n",
        "\n",
        "awalan 0 (0001 untuk angka 1, 0101 untuk angka 101, dan sebagainya). Anda dapat menggunakan fungsi zfill(). Catatannya adalah angka harus dikonversi ke string terlebih dahulu\n",
        "\n",
        "`str(x).zfill(5)`\n",
        "\n",
        "\n",
        "## **Additionally :**\n",
        "\n",
        "### **Float**\n",
        "\n",
        "As you can probably imagine, the value of zero point four could be written in Python as:\n",
        "\n",
        "`0.4`\n",
        "\n",
        "But don't forget this simple rule - you can omit zero when it is the only digit in front of or after the decimal point.\n",
        "\n",
        "In essence, you can write the value 0.4 as:\n",
        "\n",
        "`.4`\n",
        "\n",
        "For example: the value of 4.0 could be written as:\n",
        "\n",
        "`4.`\n",
        "\n",
        "\n",
        "### **Scientific Notation**\n",
        "\n",
        "Take, for example, the speed of light, expressed in meters per second. Written directly it would look like this: 300000000.\n",
        "\n",
        "To avoid writing out so many zeros, physics textbooks use an abbreviated form, which you have probably already seen: 3 x 108.\n",
        "\n",
        "It reads: three times ten to the power of eight.\n",
        "\n",
        "In Python, the same effect is achieved in a slightly different way - take a look:\n",
        "\n",
        "3E8\n",
        "\n",
        "The letter E (you can also use the lower-case letter e - it comes from the word exponent) is a concise record of the phrase times ten to the power of.\n",
        "\n",
        "Note:\n",
        "\n",
        "the exponent (the value after the E) has to be an integer;\n",
        "the base (the value in front of the E) may be an integer.\n"
      ]
    },
    {
      "cell_type": "markdown",
      "metadata": {
        "id": "FE4hgfJMOqHZ"
      },
      "source": [
        "# **String**\n",
        "\n",
        "String literals in python are surrounded by either single quotation marks, or double quotation marks.\n",
        "\n",
        "**'hello'** is the same as **\"hello\"**\n",
        "\n",
        "Di dalam bahasa Python, terdapat 3 cara untuk membuat tipe data string:\n",
        "\n",
        "* Menggunakan tanda kutip satu ( ‘ )\n",
        "\n",
        "* Menggunakan tanda kutip dua ( ” )\n",
        "\n",
        "* Menggunakan tanda kutip satu atau dua sebanyak 3 kali ( ‘ ‘ ‘ ) atau (” ” “)"
      ]
    },
    {
      "cell_type": "code",
      "metadata": {
        "id": "ZeJL_GykNYoy",
        "colab": {
          "base_uri": "https://localhost:8080/"
        },
        "outputId": "58e690e5-50df-482d-fff5-eb157ba80cd2"
      },
      "source": [
        "print('hello' == \"hello\")  # will return True"
      ],
      "execution_count": 40,
      "outputs": [
        {
          "output_type": "stream",
          "name": "stdout",
          "text": [
            "True\n"
          ]
        }
      ]
    },
    {
      "cell_type": "code",
      "metadata": {
        "id": "PXYhtHbz1e5G",
        "colab": {
          "base_uri": "https://localhost:8080/"
        },
        "outputId": "852b371d-8f51-46d7-f46a-cd7863bd14fa"
      },
      "source": [
        "foo = \"Teks ini akan dipecah\\nke dalam 2 baris\"\n",
        "print(foo)\n",
        "foo = 'Teks ini\\nakan dipecah\\nke dalam 3 baris'\n",
        "print(foo)"
      ],
      "execution_count": 41,
      "outputs": [
        {
          "output_type": "stream",
          "name": "stdout",
          "text": [
            "Teks ini akan dipecah\n",
            "ke dalam 2 baris\n",
            "Teks ini\n",
            "akan dipecah\n",
            "ke dalam 3 baris\n"
          ]
        }
      ]
    },
    {
      "cell_type": "markdown",
      "metadata": {
        "id": "y9YYKY0YQuDO"
      },
      "source": [
        "For multiline string, you can use triple quotes \" \" \" ... \" \" \" or triple single quote ' ' ' ... ' ' '"
      ]
    },
    {
      "cell_type": "code",
      "metadata": {
        "id": "1uOV7L5iQoNL",
        "colab": {
          "base_uri": "https://localhost:8080/"
        },
        "outputId": "67bb0698-5838-45a7-dec8-016737a3b909"
      },
      "source": [
        "text = \"\"\"Lorem ipsum dolor sit amet, \n",
        "consectetur adipiscing elit, \n",
        "sed do eiusmod tempor incididunt ut labore et dolore magna aliqua. \n",
        "Ut enim ad minim veniam, \n",
        "quis nostrud exercitation ullamco laboris nisi ut aliquip ex ea commodo consequat. \"\"\"\n",
        "\n",
        "print(text)"
      ],
      "execution_count": 42,
      "outputs": [
        {
          "output_type": "stream",
          "name": "stdout",
          "text": [
            "Lorem ipsum dolor sit amet, \n",
            "consectetur adipiscing elit, \n",
            "sed do eiusmod tempor incididunt ut labore et dolore magna aliqua. \n",
            "Ut enim ad minim veniam, \n",
            "quis nostrud exercitation ullamco laboris nisi ut aliquip ex ea commodo consequat. \n"
          ]
        }
      ]
    },
    {
      "cell_type": "markdown",
      "metadata": {
        "id": "Ih4v0na-RniZ"
      },
      "source": [
        "## **Strings are Arrays**\n",
        "Like many other popular programming languages, strings in Python are arrays of bytes representing unicode characters. However, Python does not have a character data type, a single character is simply a string with a length of 1. Square brackets can be used to access elements of the string."
      ]
    },
    {
      "cell_type": "code",
      "metadata": {
        "id": "r9khY4jXRTEq",
        "colab": {
          "base_uri": "https://localhost:8080/"
        },
        "outputId": "7ec00fc2-d5bf-4902-f83e-4ac17d5f287c"
      },
      "source": [
        "text = \"Universitas Hasanuddin\"\n",
        "\n",
        "# Get a character in position 2\n",
        "print(text[2])"
      ],
      "execution_count": 43,
      "outputs": [
        {
          "output_type": "stream",
          "name": "stdout",
          "text": [
            "i\n"
          ]
        }
      ]
    },
    {
      "cell_type": "markdown",
      "metadata": {
        "id": "TnWwPtppr0Sh"
      },
      "source": [
        "but not support assignment"
      ]
    },
    {
      "cell_type": "code",
      "metadata": {
        "id": "riNC6sUOr3l-",
        "colab": {
          "base_uri": "https://localhost:8080/"
        },
        "outputId": "5772cf12-b618-4388-a133-ce161bb403fd"
      },
      "source": [
        "text = \"Universitas Hasanuddin\"\n",
        "print(text)\n",
        "\n",
        "# assignment\n",
        "# text[0]='A'\n",
        "# print(text)\n",
        "# ERROR = 'str' object does not support item assignment"
      ],
      "execution_count": 44,
      "outputs": [
        {
          "output_type": "stream",
          "name": "stdout",
          "text": [
            "Universitas Hasanuddin\n"
          ]
        }
      ]
    },
    {
      "cell_type": "markdown",
      "metadata": {
        "id": "-BLQXtQT3XIM"
      },
      "source": [
        "We've also told you that Python's `strings are immutable`. This is a very important feature."
      ]
    },
    {
      "cell_type": "markdown",
      "metadata": {
        "id": "XhaLMQHlT4Qg"
      },
      "source": [
        "## **Subsetting(Indexing) and Slicing**\n",
        "\n",
        "You can return a range of characters by using the slice syntax.\n",
        "\n",
        "Specify the start index and the end index, separated by a colon, to return a part of the string. Also, you can use negative indexes to start the slice from the end of the string."
      ]
    },
    {
      "cell_type": "code",
      "metadata": {
        "id": "4LC2Qi73SJF5",
        "colab": {
          "base_uri": "https://localhost:8080/"
        },
        "outputId": "5d699b70-b6ac-43cb-a5c2-d836a27cc21b"
      },
      "source": [
        "text = \"DSC Universitas Hasanuddin\"\n",
        "print(text[2])\n",
        "print(text[-2])\n",
        "\n",
        "print(text[:3])     # print text start from beginning to index 3(not include)\n",
        "print(text[4:15])   # print text start from index 4 to index 15(not include)\n",
        "print(text[:-2])    # print text start from beginning to index 1 from end (not include)"
      ],
      "execution_count": 45,
      "outputs": [
        {
          "output_type": "stream",
          "name": "stdout",
          "text": [
            "C\n",
            "i\n",
            "DSC\n",
            "Universitas\n",
            "DSC Universitas Hasanudd\n"
          ]
        }
      ]
    },
    {
      "cell_type": "code",
      "metadata": {
        "id": "AOmEWdxoUbx9",
        "colab": {
          "base_uri": "https://localhost:8080/"
        },
        "outputId": "8fa38885-9afe-4e50-ef80-b8d58a90089c"
      },
      "source": [
        "text = \"DSC Universitas Hasanuddin\"\n",
        "\n",
        "# TODO : Try to print 'versit' from text using slicing\n",
        "\n",
        "print(text[7:13])"
      ],
      "execution_count": 46,
      "outputs": [
        {
          "output_type": "stream",
          "name": "stdout",
          "text": [
            "versit\n"
          ]
        }
      ]
    },
    {
      "cell_type": "code",
      "metadata": {
        "colab": {
          "base_uri": "https://localhost:8080/"
        },
        "id": "xa9bD1P32FQW",
        "outputId": "5db587ca-8455-4967-ae76-4888dae9a2ba"
      },
      "source": [
        "# Slices\n",
        "\n",
        "alpha = \"abdefg\"\n",
        "\n",
        "print(alpha[1:3])\n",
        "print(alpha[3:])\n",
        "print(alpha[:3])\n",
        "print(alpha[3:-2])\n",
        "print(alpha[-3:4])\n",
        "print(alpha[::2])\n",
        "print(alpha[1::2])"
      ],
      "execution_count": 47,
      "outputs": [
        {
          "output_type": "stream",
          "name": "stdout",
          "text": [
            "bd\n",
            "efg\n",
            "abd\n",
            "e\n",
            "e\n",
            "adf\n",
            "beg\n"
          ]
        }
      ]
    },
    {
      "cell_type": "markdown",
      "metadata": {
        "id": "BbF_KGfzXYr9"
      },
      "source": [
        "## **String Concatenation**\n",
        "\n",
        "String concatenation in Python can be done these ways :\n",
        "- Using str() function\n",
        "- Using % operator\n",
        "- Using format() function\n",
        "- Using f-string"
      ]
    },
    {
      "cell_type": "code",
      "metadata": {
        "id": "vVgpBqQfV2g4",
        "colab": {
          "base_uri": "https://localhost:8080/"
        },
        "outputId": "97f66900-51ed-4211-d09d-781df31c9a3e"
      },
      "source": [
        "date = 21\n",
        "month = 'February'\n",
        "\n",
        "print('Today is ' + month + ', ' + str(date) + 'st.')"
      ],
      "execution_count": 48,
      "outputs": [
        {
          "output_type": "stream",
          "name": "stdout",
          "text": [
            "Today is February, 21st.\n"
          ]
        }
      ]
    },
    {
      "cell_type": "code",
      "metadata": {
        "id": "AAHwpiDRMoUJ",
        "colab": {
          "base_uri": "https://localhost:8080/"
        },
        "outputId": "ede5818f-bace-45f9-8136-37c66869beb1"
      },
      "source": [
        "date = 21\n",
        "month = 'February'\n",
        "\n",
        "print('Today is %s, %dst.' % (month, date))"
      ],
      "execution_count": 49,
      "outputs": [
        {
          "output_type": "stream",
          "name": "stdout",
          "text": [
            "Today is February, 21st.\n"
          ]
        }
      ]
    },
    {
      "cell_type": "code",
      "metadata": {
        "id": "j8UYmNOKM1YT",
        "colab": {
          "base_uri": "https://localhost:8080/"
        },
        "outputId": "b905f82f-de8f-4277-fb5c-948465608121"
      },
      "source": [
        "date = 21\n",
        "month = 'February'\n",
        "\n",
        "print('Today is {}, {}st.'.format(month, date))\n",
        "\n",
        "print('Today is {1}, {0}st.'.format(date, month))"
      ],
      "execution_count": 50,
      "outputs": [
        {
          "output_type": "stream",
          "name": "stdout",
          "text": [
            "Today is February, 21st.\n",
            "Today is February, 21st.\n"
          ]
        }
      ]
    },
    {
      "cell_type": "code",
      "metadata": {
        "id": "dO_Ru7hwNHiM",
        "colab": {
          "base_uri": "https://localhost:8080/"
        },
        "outputId": "64726d71-3bea-440d-dd9c-d7b09b0f578a"
      },
      "source": [
        "date = 21\n",
        "month = 'February'\n",
        "\n",
        "print(f'Today is {month}, {date}st.')"
      ],
      "execution_count": 51,
      "outputs": [
        {
          "output_type": "stream",
          "name": "stdout",
          "text": [
            "Today is February, 21st.\n"
          ]
        }
      ]
    },
    {
      "cell_type": "code",
      "metadata": {
        "id": "DuYJPesmHiud",
        "colab": {
          "base_uri": "https://localhost:8080/"
        },
        "outputId": "bbd4b8c8-cb63-47e2-b95e-ca1958c0a4e1"
      },
      "source": [
        "#TYPE\n",
        "a,b,c = 1,2,3\n",
        "print(\"a = %d , b = %d , c = %d\" % (a,b,c)) #format identifier\n",
        "print(\"a =\",a,\", b =\",b,\", c =\",c) #type numeric value\n",
        "print(\"a = \"+str(a)+\" , b = \"+str(b)+\" , c = \"+str(c)) #format string\n",
        "print(f'a = {a} , b = {b} , c = {c}') #f-string\n",
        "print(\"a = {} , b = {} , c = {}\".format(a,b,c)) # f{} format 01\n",
        "print(\"b = {1} , a = {0} , c = {2}\".format(a,b,c)) # f{} format 02\n",
        "print(\"a = {:.2f} , b = {:.1f} , c = {}\".format(a,b,c)) # f{} format 03\n",
        "print(\"b = {1} , a = {0:.2f} , c = {2}\".format(a,b,c)) # f{} format 04\n",
        "\n",
        "myorder = \"I have a {carname}, it is a {model}.\"\n",
        "print(myorder.format(carname = \"Ford\", model = \"Mustang\")) # f{} format 05\n",
        "\n",
        "print(r'That is Carol\\'s cat.') # Raw String"
      ],
      "execution_count": 52,
      "outputs": [
        {
          "output_type": "stream",
          "name": "stdout",
          "text": [
            "a = 1 , b = 2 , c = 3\n",
            "a = 1 , b = 2 , c = 3\n",
            "a = 1 , b = 2 , c = 3\n",
            "a = 1 , b = 2 , c = 3\n",
            "a = 1 , b = 2 , c = 3\n",
            "b = 2 , a = 1 , c = 3\n",
            "a = 1.00 , b = 2.0 , c = 3\n",
            "b = 2 , a = 1.00 , c = 3\n",
            "I have a Ford, it is a Mustang.\n",
            "That is Carol\\'s cat.\n"
          ]
        }
      ]
    },
    {
      "cell_type": "markdown",
      "metadata": {
        "id": "UwdNj36ovWJL"
      },
      "source": [
        "## **Escape Characters**\n",
        "\n",
        "* \\a : Bell atau alert\n",
        "\n",
        "* \\b : Backspace\n",
        "\n",
        "* \\cx : Control-x\n",
        "\n",
        "* \\C-x : Control-x\n",
        "\n",
        "* \\e : Escape\n",
        "\n",
        "* \\f : Formfeed\n",
        "\n",
        "* \\M-\\C-x : Meta-Control-x\n",
        "\n",
        "* \\n : Newline\n",
        "\n",
        "* \\nnn : Octal notation, dimana n berada di range 0.7\n",
        "\n",
        "* \\r : Carriage return\n",
        "\n",
        "* \\s : Space\n",
        "\n",
        "* \\t : Tab\n",
        "\n",
        "* \\v : Vertical tab\n",
        "\n",
        "* \\x : Character x\n",
        "\n",
        "* \\xnn : Notasi Hexadecimal, dimana n berada di range 0.9, a.f, atau A.F\n",
        "\n",
        "\n"
      ]
    },
    {
      "cell_type": "markdown",
      "metadata": {
        "id": "EQrZG3N-LzKu"
      },
      "source": [
        "## **Operator Spesial String Python**\n",
        "\n",
        "Asumsikan variabel string adalah 'Belajar' dan variabel b adalah 'Python', lalu dibawah ini adalah operator yang bisa dipakai pada kedua string di variabel tersebut. a = \"Belajar\" b = \"Python\"\n",
        "\n",
        "* \\+ --> a + b\t\n",
        "    \n",
        "    akan menghasilkan BelajarPython Concatenation - Menambahkan nilai pada kedua sisi operator\n",
        "\n",
        "* \\* --> a\\*2 or or 2\\*a\n",
        "    \n",
        "    akan menghasilkan BelajarBelajar Pengulangan - Membuat string baru, menggabungkan beberapa salinan dari string yang sama\n",
        "\n",
        "* [] -->\ta[1]\t\n",
        "\n",
        "    akan menghasilkan e Slice - Memberikan karakter dari indeks yang diberikan\n",
        "\n",
        "* [ : ] -->\ta[1:4]\t\n",
        "    \n",
        "    akan menghasilkan ela Range Slice - Memberikan karakter dari kisaran yang diberikan\n",
        "\n",
        "* in -->\tB in a\t\n",
        "    \n",
        "    akan menghasilkan 1 Keanggotaan - Mengembalikan nilai true jika ada karakter dalam string yang diberikan\n",
        "\n",
        "* not in --> Z not in a\t\n",
        "    \n",
        "    akan menghasilkan 1 Keanggotaan - Mengembalikan nilai true jika karakter tidak ada dalam string yang diberikan\n",
        "\n",
        "* r/R --> \t`print r'\\n'` `prints \\n` dan `print R'\\n'` `prints \\n Raw String` \t\n",
        "    \n",
        "    Menekan arti aktual karakter Escape. Sintaks untuk string mentah sama persis dengan string biasa kecuali operator string mentah, huruf “r”, yang mendahului tanda petik. “R” bisa berupa huruf kecil (r) atau huruf besar (R) dan harus ditempatkan tepat sebelum tanda kutip pertama.\n",
        "\n",
        "* % --> Format - Melakukan format String\n"
      ]
    },
    {
      "cell_type": "code",
      "metadata": {
        "id": "l_rsjIi7M22X",
        "colab": {
          "base_uri": "https://localhost:8080/"
        },
        "outputId": "b24230ad-fa89-4726-b87f-b9be8b3c8b72"
      },
      "source": [
        "a = \"Belajar\"\n",
        "b = \"Python\"\n",
        "\n",
        "print('a+b = ',a+b)\n",
        "print('a*2 = ',a*2)\n",
        "print('3*a = ',3*a)\n",
        "print('B in a = ','B' in a)\n",
        "print('Z not in a = ', 'Z' not in a)\n",
        "print (\"My name is %s and weight is %d kg!\" % ('Zara', 21))"
      ],
      "execution_count": 53,
      "outputs": [
        {
          "output_type": "stream",
          "name": "stdout",
          "text": [
            "a+b =  BelajarPython\n",
            "a*2 =  BelajarBelajar\n",
            "3*a =  BelajarBelajarBelajar\n",
            "B in a =  True\n",
            "Z not in a =  True\n",
            "My name is Zara and weight is 21 kg!\n"
          ]
        }
      ]
    },
    {
      "cell_type": "markdown",
      "metadata": {
        "id": "tX4c5fTxNnkw"
      },
      "source": [
        "## **Operator Format String Python**\n",
        "\n",
        "* %c = character\n",
        "* %s = Konversi string melalui str () sebelum memformat\n",
        "* %i = Dianggap sebagai bilangan bulat desimal\n",
        "* %d = Dianggap sebagai bilangan bulat desimal\n",
        "* %u = Unsigned decimal integer\n",
        "* %o = Bilangan bulat oktal\n",
        "* %x = Bilangan bulat heksadesimal (huruf kecil)\n",
        "* %X = Bilangan bulat heksadesimal (huruf besar)\n",
        "* %e = Notasi eksponensial (dengan huruf kecil ‘e’)\n",
        "* %E = Notasi eksponensial (dengan huruf besar ‘E’)\n",
        "* %f = Bilangan real floating point\n",
        "* %g = Yang lebih pendek dari% f dan% e\n",
        "* %G = Lebih pendek dari% f dan% E\n",
        "\n",
        "\n",
        "\n"
      ]
    },
    {
      "cell_type": "code",
      "metadata": {
        "id": "DdqR4Iq3HSzb",
        "colab": {
          "base_uri": "https://localhost:8080/"
        },
        "outputId": "d02e600e-cf67-4f45-f9fb-64c91fbd1664"
      },
      "source": [
        "#TYPE\n",
        "a,b,c = 1,2,3\n",
        "print(\"a = %d , b = %d , c = %d\" % (a,b,c)) #format identifier\n",
        "print(\"a =\",a,\", b =\",b,\", c =\",c) #type numeric value\n",
        "print(\"a = \"+str(a)+\" , b = \"+str(b)+\" , c = \"+str(c)) #format string\n",
        "print(f'a = {a} , b = {b} , c = {c}') #f-string\n",
        "print(\"a = {} , b = {} , c = {}\".format(a,b,c)) # f{} format 01\n",
        "print(\"b = {1} , a = {0} , c = {2}\".format(a,b,c)) # f{} format 02\n",
        "print(\"a = {:.2f} , b = {:.1f} , c = {}\".format(a,b,c)) # f{} format 03\n",
        "print(\"b = {1} , a = {0:.2f} , c = {2}\".format(a,b,c)) # f{} format 04\n",
        "\n",
        "myorder = \"I have a {carname}, it is a {model}.\"\n",
        "print(myorder.format(carname = \"Ford\", model = \"Mustang\")) # f{} format 05\n",
        "\n",
        "print(r'That is Carol\\'s cat.') # Raw String"
      ],
      "execution_count": 54,
      "outputs": [
        {
          "output_type": "stream",
          "name": "stdout",
          "text": [
            "a = 1 , b = 2 , c = 3\n",
            "a = 1 , b = 2 , c = 3\n",
            "a = 1 , b = 2 , c = 3\n",
            "a = 1 , b = 2 , c = 3\n",
            "a = 1 , b = 2 , c = 3\n",
            "b = 2 , a = 1 , c = 3\n",
            "a = 1.00 , b = 2.0 , c = 3\n",
            "b = 2 , a = 1.00 , c = 3\n",
            "I have a Ford, it is a Mustang.\n",
            "That is Carol\\'s cat.\n"
          ]
        }
      ]
    },
    {
      "cell_type": "markdown",
      "metadata": {
        "id": "2n0gdvgNPX07"
      },
      "source": [
        "## **String Format { }**\n",
        "\n",
        "The format() method takes the passed arguments, formats them, and places them in the string where the placeholders {} are:\n",
        "\n",
        "Use the format() method to insert numbers into strings:\n",
        "\n"
      ]
    },
    {
      "cell_type": "code",
      "metadata": {
        "id": "tQaK8ZcQP91y",
        "colab": {
          "base_uri": "https://localhost:8080/"
        },
        "outputId": "1dbf9399-ecf4-4fb7-85c5-c804e8ae78dc"
      },
      "source": [
        "age = 36\n",
        "txt = \"My name is John, and I am {}\"\n",
        "print(txt.format(age))"
      ],
      "execution_count": 55,
      "outputs": [
        {
          "output_type": "stream",
          "name": "stdout",
          "text": [
            "My name is John, and I am 36\n"
          ]
        }
      ]
    },
    {
      "cell_type": "code",
      "metadata": {
        "id": "Ar2KLxHkQAGA",
        "colab": {
          "base_uri": "https://localhost:8080/"
        },
        "outputId": "24546ecf-0309-42ff-913a-855526d1de58"
      },
      "source": [
        "quantity = 3\n",
        "itemno = 567\n",
        "price = 49.95\n",
        "myorder = \"I want {} pieces of item {} for {} dollars.\"\n",
        "print(myorder.format(quantity, itemno, price))"
      ],
      "execution_count": 56,
      "outputs": [
        {
          "output_type": "stream",
          "name": "stdout",
          "text": [
            "I want 3 pieces of item 567 for 49.95 dollars.\n"
          ]
        }
      ]
    },
    {
      "cell_type": "code",
      "metadata": {
        "id": "uOvdACjpQCT3",
        "colab": {
          "base_uri": "https://localhost:8080/"
        },
        "outputId": "30aadc91-a06c-4744-f876-9906dd30f3cd"
      },
      "source": [
        "quantity = 3\n",
        "itemno = 567\n",
        "price = 49.95\n",
        "myorder = \"I want to pay {2} dollars for {0} pieces of item {1}.\"\n",
        "print(myorder.format(quantity, itemno, price))"
      ],
      "execution_count": 57,
      "outputs": [
        {
          "output_type": "stream",
          "name": "stdout",
          "text": [
            "I want to pay 49.95 dollars for 3 pieces of item 567.\n"
          ]
        }
      ]
    },
    {
      "cell_type": "markdown",
      "metadata": {
        "id": "sowsx3OArIAI"
      },
      "source": [
        "## **String Method and Unicode Python**\n",
        "\n",
        "* `capitalize()`\t\n",
        "\n",
        "    Mengkapitalkan huruf pertama string\n",
        "\n",
        "* `center(width, fillchar)`\n",
        "\n",
        "    Mengembalikan string yang dilapisi dengan fillchar dengan string asli yang dipusatkan pada total width kolom.\n",
        "\n",
        "* `count(str, beg = 0,end = len(string))`\t\n",
        "    \n",
        "    Menghitung berapa kali str yang terjadi dalam string atau dalam substring string jika memulai indeks beg dan end index end diberikan.\n",
        "\n",
        "* `decode(encoding = 'UTF-8',errors = 'strict')`\n",
        "\n",
        "    Dekode string menggunakan codec yang terdaftar untuk pengkodean. Encoding default ke pengkodean string default.\n",
        "\n",
        "* `encode(encoding = 'UTF-8',errors = 'strict')`\n",
        "\n",
        "    Mengembalikan versi string yang dikodekan string; Pada kesalahan, default adalah menaikkan ValueError kecuali jika kesalahan diberikan dengan ‘ignore’ atau ‘replace’.\n",
        "\n",
        "* `expandtabs(tabsize = 8)`\t\n",
        "\n",
        "    Memperluas tab dalam string ke banyak ruang; Default ke 8 spasi per tab jika tabsize tidak tersedia.\n",
        "\n",
        "* `find(str, beg = 0 end = len(string))`\t\n",
        "\n",
        "    Tentukan jika str terjadi dalam string atau dalam substring string jika memulai indeks beg dan end index end diberikan return index jika ditemukan dan -1 sebaliknya.\n",
        "\n",
        "* `index(str, beg = 0, end = len(string))`\t\n",
        "\n",
        "    Sama seperti find (), namun menimbulkan pengecualian jika str tidak ditemukan.\n",
        "\n",
        "\n",
        "* `isalnum()`\n",
        "\n",
        "    Mengembalikan true jika string memiliki minimal 1 karakter dan semua karakternya alfanumerik dan false sebaliknya.\n",
        "\n",
        "* `isalpha()`\n",
        "\n",
        "    Mengembalikan true jika string memiliki minimal 1 karakter dan semua karakter adalah abjad dan false sebaliknya.\n",
        "\n",
        "* `isdigit()`\n",
        "\n",
        "    Mengembalikan true jika string hanya berisi digit dan false sebaliknya.\n",
        "\n",
        "* `islower()`\n",
        "\n",
        "    Mengembalikan true jika string memiliki setidaknya 1 karakter casing dan semua karakter casing dalam huruf kecil dan false sebaliknya.\n",
        "\n",
        "* `isnumeric()`\t\n",
        "\n",
        "    Mengembalikan true jika string unicode hanya berisi karakter numerik dan false sebaliknya.\n",
        "\n",
        "* `isspace()`\n",
        "\n",
        "    Mengembalikan true jika string hanya berisi karakter spasi dan false sebaliknya.\n",
        "\n",
        "* `istitle()`\t\n",
        "\n",
        "    Mengembalikan true jika string benar “titlecased” dan false sebaliknya.\n",
        "\n",
        "* `isupper()`\n",
        "\n",
        "    Mengembalikan true jika string memiliki setidaknya satu karakter casing dan semua karakter casing ada dalam huruf besar dan false sebaliknya.\n",
        "\n",
        "* `join(seq)`\n",
        "\n",
        "    Merges (concatenates) representasi string elemen dalam urutan seq menjadi string, dengan string pemisah.\n",
        "\n",
        "* `len(string)`\n",
        "\n",
        "    Mengembalikan panjang string\n",
        "\n",
        "* `ljust(width[, fillchar])`\n",
        "\n",
        "    Mengembalikan string berlapis ruang dengan string asli dibiarkan dibenarkan ke kolom lebar total.\n",
        "\n",
        "* `lstrip()`\n",
        "\n",
        "    Menghapus semua spasi utama dalam string.\n",
        "\n",
        "* `maketrans()`\n",
        "\n",
        "    Mengembalikan tabel terjemahan untuk digunakan dalam fungsi terjemahan.\n",
        "\n",
        "* `max(str)`\n",
        "\n",
        "    Mengembalikan karakter alfabetik dari string str.\n",
        "\n",
        "* `min(str)`\n",
        "\n",
        "    Mengembalikan min karakter abjad dari string str.\n",
        "\n",
        "* `replace(old, new [, max])`\t\n",
        "\n",
        "    Menggantikan semua kemunculan lama dalam string dengan kejadian baru atau paling maksimal jika max diberikan.\n",
        "\n",
        "* `rfind(str, beg = 0,end = len(string))`\n",
        "\n",
        "    Sama seperti find (), tapi cari mundur dalam string.\n",
        "\n",
        "* `rindex( str, beg = 0, end = len(string))`\n",
        "    Sama seperti index (), tapi cari mundur dalam string.\n",
        "\n",
        "* `rjust(width,[, fillchar])`\t\n",
        "\n",
        "    Mengembalikan string berlapis ruang dengan senar asli benar-dibenarkan untuk total kolom lebar.\n",
        "\n",
        "* `rstrip()`\n",
        "\n",
        "    Menghapus semua spasi spasi string.\n",
        "\n",
        "* `split(str=\"\", num=string.count(str))`\t\n",
        "\n",
        "    Membagi string sesuai dengan pemisah str (ruang jika tidak disediakan) dan mengembalikan daftar substring; Terpecah menjadi paling banyak substring jika diberikan.\n",
        "\n",
        "* `splitlines( num=string.count('\\n'))`\t\n",
        "\n",
        "    Membagi string sama sekali (atau num) NEWLINEs dan mengembalikan daftar setiap baris dengan NEWLINEs dihapus.\n",
        "\n",
        "* `startswith(str, beg=0,end=len(string)`\t\n",
        "\n",
        "    Determines if string or a substring of string (if starting index beg and ending index end are given) starts with substring str; returns true if so and false otherwise.\n",
        "\n",
        "* `endswith(suffix, beg = 0, end = len(string))`\t\n",
        "\n",
        "    Menentukan apakah string atau substring string (jika memulai indeks memohon dan mengakhiri akhir indeks diberikan) berakhir dengan akhiran; Mengembalikan nilai true jika benar dan salah.\n",
        "\n",
        "* `strip([chars])`\n",
        "\n",
        "    Lakukan kedua lstrip () dan rstrip () pada string\n",
        "\n",
        "* `swapcase()`\t\n",
        "\n",
        "    Kasus invers untuk semua huruf dalam string.\n",
        "\n",
        "* `title()`\t\n",
        "\n",
        "    Mengembalikan versi string “titlecased”, yaitu, semua kata diawali dengan huruf besar dan sisanya huruf kecil.\n",
        "\n",
        "* `translate(table, deletechars=\"\")`\n",
        "\n",
        "    Menerjemahkan string sesuai dengan tabel terjemahan str (256 karakter), menghapus string del.\n",
        "\n",
        "* `upper()`\t\n",
        "\n",
        "    Mengonversi huruf kecil dalam bentuk string ke huruf besar.\n",
        "\n",
        "* `lower()`\n",
        "\n",
        "    Mengonversi semua huruf besar dalam bentuk string menjadi huruf kecil.\n",
        "\n",
        "* `zfill (width)`\t\n",
        "\n",
        "    Mengembalikan string asli yang tertinggal dengan angka nol ke total karakter lebar; Dimaksudkan untuk angka, zfill () mempertahankan tanda apapun yang diberikan (kurang satu nol).\n",
        "\n",
        "* `isdecimal()`\n",
        "\n",
        "    Mengembalikan nilai true jika string unicode hanya berisi karakter desimal dan false sebaliknya.\n",
        "\n",
        "\n",
        "\n",
        "Python has a set of built-in methods that you can use on strings. Reference : [String Method](https://www.w3schools.com/python/python_ref_string.asp)"
      ]
    },
    {
      "cell_type": "markdown",
      "metadata": {
        "id": "rBev245IKzyG"
      },
      "source": [
        "### Example (len, strip, lower, upper, isupper, islower, replace, split, count)"
      ]
    },
    {
      "cell_type": "markdown",
      "metadata": {
        "id": "Pry2iAcLzA0u"
      },
      "source": [
        "The `len(string)`, Mengembalikan panjang string"
      ]
    },
    {
      "cell_type": "code",
      "metadata": {
        "colab": {
          "base_uri": "https://localhost:8080/"
        },
        "id": "G4kcUy7lzFkc",
        "outputId": "e5a8d559-26c3-4b0c-db3c-13f842a0944a"
      },
      "source": [
        "# Example 1\n",
        "\n",
        "word = 'by'\n",
        "print(len(word))\n",
        "\n",
        "\n",
        "# Example 2\n",
        "\n",
        "empty = ''\n",
        "print(len(empty))\n",
        "\n",
        "\n",
        "# Example 3\n",
        "\n",
        "i_am = 'I\\'m'\n",
        "print(len(i_am))"
      ],
      "execution_count": 58,
      "outputs": [
        {
          "output_type": "stream",
          "name": "stdout",
          "text": [
            "2\n",
            "0\n",
            "3\n"
          ]
        }
      ]
    },
    {
      "cell_type": "code",
      "metadata": {
        "colab": {
          "base_uri": "https://localhost:8080/"
        },
        "id": "wayh-HemzH-C",
        "outputId": "53b4bcc5-a223-43f9-f5f3-7ad21cb9191b"
      },
      "source": [
        "multiline = '''Line #1\n",
        "Line #2'''\n",
        "\n",
        "print(len(multiline))"
      ],
      "execution_count": 59,
      "outputs": [
        {
          "output_type": "stream",
          "name": "stdout",
          "text": [
            "15\n"
          ]
        }
      ]
    },
    {
      "cell_type": "markdown",
      "metadata": {
        "id": "MzBDcX0FywIU"
      },
      "source": [
        "The `strip()` method removes any whitespace from the beginning or the end:"
      ]
    },
    {
      "cell_type": "code",
      "metadata": {
        "id": "gBSipcFbKxJv",
        "colab": {
          "base_uri": "https://localhost:8080/"
        },
        "outputId": "9a112837-1bb0-40bb-e04b-0c60670a3785"
      },
      "source": [
        "a = \" Hello, World! \"\n",
        "print(a.strip()) # returns \"Hello, World!\""
      ],
      "execution_count": 60,
      "outputs": [
        {
          "output_type": "stream",
          "name": "stdout",
          "text": [
            "Hello, World!\n"
          ]
        }
      ]
    },
    {
      "cell_type": "markdown",
      "metadata": {
        "id": "6DWko5EVNhYS"
      },
      "source": [
        "The `lower()` method returns the string in lower case:"
      ]
    },
    {
      "cell_type": "code",
      "metadata": {
        "id": "EnwlfRXFNlIx",
        "colab": {
          "base_uri": "https://localhost:8080/"
        },
        "outputId": "35e253f3-4f37-403a-ac49-d6cd73c1e07b"
      },
      "source": [
        "a = \"Hello, World!\"\n",
        "print(a.lower())"
      ],
      "execution_count": 61,
      "outputs": [
        {
          "output_type": "stream",
          "name": "stdout",
          "text": [
            "hello, world!\n"
          ]
        }
      ]
    },
    {
      "cell_type": "markdown",
      "metadata": {
        "id": "ZhoFsMKhNndf"
      },
      "source": [
        "The `upper()` method returns the string in upper case:"
      ]
    },
    {
      "cell_type": "code",
      "metadata": {
        "id": "RorvlAK3NqG8",
        "colab": {
          "base_uri": "https://localhost:8080/"
        },
        "outputId": "fa47cacd-a653-4824-b182-4d36d010cb9f"
      },
      "source": [
        "a = \"Hello, World!\"\n",
        "print(a.upper())"
      ],
      "execution_count": 62,
      "outputs": [
        {
          "output_type": "stream",
          "name": "stdout",
          "text": [
            "HELLO, WORLD!\n"
          ]
        }
      ]
    },
    {
      "cell_type": "code",
      "metadata": {
        "id": "Qzm3m9W-v7d_",
        "colab": {
          "base_uri": "https://localhost:8080/"
        },
        "outputId": "cac6001d-640a-46a0-aed7-c1be341b5181"
      },
      "source": [
        "'abc12345'.islower()"
      ],
      "execution_count": 63,
      "outputs": [
        {
          "output_type": "execute_result",
          "data": {
            "text/plain": [
              "True"
            ]
          },
          "metadata": {},
          "execution_count": 63
        }
      ]
    },
    {
      "cell_type": "code",
      "metadata": {
        "id": "XdoN3jv5v_IE",
        "colab": {
          "base_uri": "https://localhost:8080/"
        },
        "outputId": "bf773049-2494-4ecf-8b93-0161aaf9a5be"
      },
      "source": [
        "'12345'.islower()"
      ],
      "execution_count": 64,
      "outputs": [
        {
          "output_type": "execute_result",
          "data": {
            "text/plain": [
              "False"
            ]
          },
          "metadata": {},
          "execution_count": 64
        }
      ]
    },
    {
      "cell_type": "code",
      "metadata": {
        "id": "hAKiA1wewAi5",
        "colab": {
          "base_uri": "https://localhost:8080/"
        },
        "outputId": "a2333543-298e-43c5-9ab9-96eae712335a"
      },
      "source": [
        "'12345'.isupper()"
      ],
      "execution_count": 65,
      "outputs": [
        {
          "output_type": "execute_result",
          "data": {
            "text/plain": [
              "False"
            ]
          },
          "metadata": {},
          "execution_count": 65
        }
      ]
    },
    {
      "cell_type": "code",
      "metadata": {
        "id": "1HidGd8owDnh",
        "colab": {
          "base_uri": "https://localhost:8080/"
        },
        "outputId": "c509607d-9345-4d11-eb22-ef991b90787c"
      },
      "source": [
        "print('Hello'.upper())\n",
        "print('Hello'.upper().lower())\n",
        "print('Hello'.upper().lower().upper())\n",
        "print('HELLO'.lower())\n",
        "print('HELLO'.lower().islower())"
      ],
      "execution_count": 66,
      "outputs": [
        {
          "output_type": "stream",
          "name": "stdout",
          "text": [
            "HELLO\n",
            "hello\n",
            "HELLO\n",
            "hello\n",
            "True\n"
          ]
        }
      ]
    },
    {
      "cell_type": "markdown",
      "metadata": {
        "id": "p_cwk87OO_lF"
      },
      "source": [
        "The `replace()` method replaces a string with another string:"
      ]
    },
    {
      "cell_type": "code",
      "metadata": {
        "id": "0z9nasLxO_7x",
        "colab": {
          "base_uri": "https://localhost:8080/"
        },
        "outputId": "68b26a47-b781-4ed9-96fd-7140758471e3"
      },
      "source": [
        "a = \"Hello, World!\"\n",
        "print(a.replace(\"H\", \"J\"))"
      ],
      "execution_count": 67,
      "outputs": [
        {
          "output_type": "stream",
          "name": "stdout",
          "text": [
            "Jello, World!\n"
          ]
        }
      ]
    },
    {
      "cell_type": "code",
      "metadata": {
        "colab": {
          "base_uri": "https://localhost:8080/"
        },
        "id": "a11cXLd_0gWc",
        "outputId": "83244f04-ed20-46b4-f76f-d735d23296fd"
      },
      "source": [
        "filenames = [\"program.c\", \"stdio.hpp\", \"sample.hpp\", \"a.out\", \"math.hpp\", \"hpp.out\"]\n",
        "# Generate newfilenames as a list containing the new filenames\n",
        "# using as many lines of code as your chosen method requires.\n",
        "newfilenames = [x.replace('.hpp','.h') for x in filenames]\n",
        "\n",
        "print(newfilenames) \n",
        "# Should be [\"program.c\", \"stdio.h\", \"sample.h\", \"a.out\", \"math.h\", \"hpp.out\"]"
      ],
      "execution_count": 68,
      "outputs": [
        {
          "output_type": "stream",
          "name": "stdout",
          "text": [
            "['program.c', 'stdio.h', 'sample.h', 'a.out', 'math.h', 'hpp.out']\n"
          ]
        }
      ]
    },
    {
      "cell_type": "markdown",
      "metadata": {
        "id": "BDhjPDiyPIy-"
      },
      "source": [
        "The `split()` method splits the string into substrings if it finds instances of the separator:"
      ]
    },
    {
      "cell_type": "code",
      "metadata": {
        "id": "Z1vFfIT5PKhH",
        "colab": {
          "base_uri": "https://localhost:8080/"
        },
        "outputId": "20fe74f4-e0db-4fa2-e02a-f325c2f3952f"
      },
      "source": [
        "a = \"Hello, World!\"\n",
        "print(a.split(\",\")) # returns ['Hello', ' World!']"
      ],
      "execution_count": 69,
      "outputs": [
        {
          "output_type": "stream",
          "name": "stdout",
          "text": [
            "['Hello', ' World!']\n"
          ]
        }
      ]
    },
    {
      "cell_type": "markdown",
      "metadata": {
        "id": "7Mkz3euaFOB9"
      },
      "source": [
        "the `.count('')` digunakan untuk menghitung banyak huruf di dalam string"
      ]
    },
    {
      "cell_type": "code",
      "metadata": {
        "id": "KsPGWAVdFLJT",
        "colab": {
          "base_uri": "https://localhost:8080/"
        },
        "outputId": "d92ec5d8-2cb7-4336-f90e-ef2e205ac37f"
      },
      "source": [
        "kalimat = \"Corona cepat selesai\"\n",
        "# gunakan method untuk menghitung berapa huruf e di dalam kalimat\n",
        "print(kalimat.count(\"e\"))"
      ],
      "execution_count": 70,
      "outputs": [
        {
          "output_type": "stream",
          "name": "stdout",
          "text": [
            "3\n"
          ]
        }
      ]
    },
    {
      "cell_type": "markdown",
      "metadata": {
        "id": "juR54fOpwJ4Y"
      },
      "source": [
        "### **Metode isX dari String untuk Pengecekan**\n",
        "\n",
        "Selain islower() and isupper(), terdapat beberapa metode lain yang dapat digunakan untuk memeriksa isi dari string. Semua method berikut mengembalikan nilai boolean:\n",
        "\n",
        "* `isalpha()` mengembalikan True jika string berisi hanya huruf dan tidak kosong.\n",
        "\n",
        "* `isalnum()` mengembalikan True jika string berisi hanya huruf atau angka, dan tidak kosong.\n",
        "\n",
        "* `isdecimal()` mengembalikan True jika string berisi hanya angka/numerik dan tidak kosong.\n",
        "\n",
        "`isdigit()` digit only\n",
        "\n",
        "* `isspace()` mengembalikan True jika string berisi hanya spasi, tab, newline, atau whitespaces lainnya dan tidak kosong.\n",
        "\n",
        "* `istitle()` mengembalikan True jika string berisi kata yang diawali huruf kapital dan dilanjutkan dengan huruf kecil seterusnya."
      ]
    },
    {
      "cell_type": "code",
      "metadata": {
        "id": "KcubvfPwwcRt",
        "colab": {
          "base_uri": "https://localhost:8080/"
        },
        "outputId": "5dbd6333-0a39-4ae7-ad67-1d1443478cc4"
      },
      "source": [
        "'hello'.isalpha()"
      ],
      "execution_count": 71,
      "outputs": [
        {
          "output_type": "execute_result",
          "data": {
            "text/plain": [
              "True"
            ]
          },
          "metadata": {},
          "execution_count": 71
        }
      ]
    },
    {
      "cell_type": "code",
      "metadata": {
        "id": "oYI9CoN2wfFP",
        "colab": {
          "base_uri": "https://localhost:8080/"
        },
        "outputId": "b419c83c-8da0-4ca3-e1cc-b11531295a9c"
      },
      "source": [
        "'hello123'.isalpha()"
      ],
      "execution_count": 72,
      "outputs": [
        {
          "output_type": "execute_result",
          "data": {
            "text/plain": [
              "False"
            ]
          },
          "metadata": {},
          "execution_count": 72
        }
      ]
    },
    {
      "cell_type": "code",
      "metadata": {
        "colab": {
          "base_uri": "https://localhost:8080/"
        },
        "id": "zvdH-Kvn5VID",
        "outputId": "b450b4fc-0d9f-4693-c904-1610196dbe10"
      },
      "source": [
        "print(\"Moooo\".isalpha())\n",
        "print('Mu40'.isalpha())"
      ],
      "execution_count": 73,
      "outputs": [
        {
          "output_type": "stream",
          "name": "stdout",
          "text": [
            "True\n",
            "False\n"
          ]
        }
      ]
    },
    {
      "cell_type": "code",
      "metadata": {
        "id": "E-PPYSLLwg6E",
        "colab": {
          "base_uri": "https://localhost:8080/"
        },
        "outputId": "407fb724-b0aa-4251-8453-5a44fa8fc34f"
      },
      "source": [
        "'hello123'.isalnum()"
      ],
      "execution_count": 74,
      "outputs": [
        {
          "output_type": "execute_result",
          "data": {
            "text/plain": [
              "True"
            ]
          },
          "metadata": {},
          "execution_count": 74
        }
      ]
    },
    {
      "cell_type": "code",
      "metadata": {
        "id": "1UtilsXWwiM4",
        "colab": {
          "base_uri": "https://localhost:8080/"
        },
        "outputId": "22c5db44-2482-46e9-9e69-590d02a9daf0"
      },
      "source": [
        "'hello'.isalnum()"
      ],
      "execution_count": 75,
      "outputs": [
        {
          "output_type": "execute_result",
          "data": {
            "text/plain": [
              "True"
            ]
          },
          "metadata": {},
          "execution_count": 75
        }
      ]
    },
    {
      "cell_type": "code",
      "metadata": {
        "colab": {
          "base_uri": "https://localhost:8080/"
        },
        "id": "9Q0_TmDH5PIx",
        "outputId": "1fc751b8-9a23-43be-97cb-54138eb3b169"
      },
      "source": [
        "# Demonstrating the isalnum() method:\n",
        "print('lambda30'.isalnum())\n",
        "print('lambda'.isalnum())\n",
        "print('30'.isalnum())\n",
        "print('@'.isalnum())\n",
        "print('lambda_30'.isalnum())\n",
        "print(''.isalnum())"
      ],
      "execution_count": 76,
      "outputs": [
        {
          "output_type": "stream",
          "name": "stdout",
          "text": [
            "True\n",
            "True\n",
            "True\n",
            "False\n",
            "False\n",
            "False\n"
          ]
        }
      ]
    },
    {
      "cell_type": "code",
      "metadata": {
        "id": "sZJoj36nwjqO",
        "colab": {
          "base_uri": "https://localhost:8080/"
        },
        "outputId": "3b9045e6-10a2-475a-b560-94adbc03cfa0"
      },
      "source": [
        "'123'.isdecimal()"
      ],
      "execution_count": 77,
      "outputs": [
        {
          "output_type": "execute_result",
          "data": {
            "text/plain": [
              "True"
            ]
          },
          "metadata": {},
          "execution_count": 77
        }
      ]
    },
    {
      "cell_type": "code",
      "metadata": {
        "id": "56QaP9JOwlif",
        "colab": {
          "base_uri": "https://localhost:8080/"
        },
        "outputId": "43ca1bee-cabd-433d-d105-dde29238bb19"
      },
      "source": [
        "'    '.isspace()"
      ],
      "execution_count": 78,
      "outputs": [
        {
          "output_type": "execute_result",
          "data": {
            "text/plain": [
              "True"
            ]
          },
          "metadata": {},
          "execution_count": 78
        }
      ]
    },
    {
      "cell_type": "code",
      "metadata": {
        "id": "yg0wsbo3wpPn",
        "colab": {
          "base_uri": "https://localhost:8080/"
        },
        "outputId": "f65a7834-3b2f-432b-ecb7-034343acc9c6"
      },
      "source": [
        "'This Is Title Case'.istitle()"
      ],
      "execution_count": 79,
      "outputs": [
        {
          "output_type": "execute_result",
          "data": {
            "text/plain": [
              "True"
            ]
          },
          "metadata": {},
          "execution_count": 79
        }
      ]
    },
    {
      "cell_type": "code",
      "metadata": {
        "id": "F7nLYJSqwq9q",
        "colab": {
          "base_uri": "https://localhost:8080/"
        },
        "outputId": "ad60a8c8-a9d4-4480-a496-b042d8c19b56"
      },
      "source": [
        "'This Is Title Case 123'.istitle()"
      ],
      "execution_count": 80,
      "outputs": [
        {
          "output_type": "execute_result",
          "data": {
            "text/plain": [
              "True"
            ]
          },
          "metadata": {},
          "execution_count": 80
        }
      ]
    },
    {
      "cell_type": "code",
      "metadata": {
        "id": "J_Bdjbr5wq1P",
        "colab": {
          "base_uri": "https://localhost:8080/"
        },
        "outputId": "f43d567e-5040-49c9-ba75-9cf0f84c0189"
      },
      "source": [
        "'This Is not Title Case'.istitle()"
      ],
      "execution_count": 81,
      "outputs": [
        {
          "output_type": "execute_result",
          "data": {
            "text/plain": [
              "False"
            ]
          },
          "metadata": {},
          "execution_count": 81
        }
      ]
    },
    {
      "cell_type": "code",
      "metadata": {
        "id": "58ZQJGvqwuX4",
        "colab": {
          "base_uri": "https://localhost:8080/"
        },
        "outputId": "71d5cd87-aeac-486d-b90d-b3828479b182"
      },
      "source": [
        "'This Is NOT Title Case Either'.istitle()"
      ],
      "execution_count": 82,
      "outputs": [
        {
          "output_type": "execute_result",
          "data": {
            "text/plain": [
              "False"
            ]
          },
          "metadata": {},
          "execution_count": 82
        }
      ]
    },
    {
      "cell_type": "code",
      "metadata": {
        "colab": {
          "base_uri": "https://localhost:8080/"
        },
        "id": "5j5918jH5byq",
        "outputId": "7b35863f-1747-4fae-9f7d-d33be6b0bdae"
      },
      "source": [
        "print('2018'.isdigit())\n",
        "print(\"Year2019\".isdigit())"
      ],
      "execution_count": 83,
      "outputs": [
        {
          "output_type": "stream",
          "name": "stdout",
          "text": [
            "True\n",
            "False\n"
          ]
        }
      ]
    },
    {
      "cell_type": "code",
      "metadata": {
        "id": "Aut1KkyZw17A",
        "colab": {
          "base_uri": "https://localhost:8080/"
        },
        "outputId": "900d0290-2b49-45a4-9721-2803c620bb74"
      },
      "source": [
        "while True:\n",
        "    print('Enter your age:')\n",
        "    age = input()\n",
        "    if age.isdecimal():\n",
        "        break\n",
        "    print('Please enter a number for your age.')\n",
        "while True:\n",
        "    print('Select a new password (letters and numbers only):')\n",
        "    password = input()\n",
        "    if password.isalnum():\n",
        "        break\n",
        "    print('Passwords can only have letters and numbers.')"
      ],
      "execution_count": 84,
      "outputs": [
        {
          "name": "stdout",
          "output_type": "stream",
          "text": [
            "Enter your age:\n",
            "20\n",
            "Select a new password (letters and numbers only):\n",
            "nurimammasri\n"
          ]
        }
      ]
    },
    {
      "cell_type": "markdown",
      "metadata": {
        "id": "Uf9fC2U9xTip"
      },
      "source": [
        "### **Metode startswith() dan endswith() dari String**\n",
        "\n",
        "Fungsi startswith() dan endswith() akan mengembalikan nilai True berdasarkan nilai awalan atau akhiran string."
      ]
    },
    {
      "cell_type": "code",
      "metadata": {
        "id": "xSIg5OBuxYme",
        "colab": {
          "base_uri": "https://localhost:8080/"
        },
        "outputId": "c22d2e62-2120-4f04-af5c-bb5bbac0276b"
      },
      "source": [
        "'Hello world!'.startswith('Hello')"
      ],
      "execution_count": 85,
      "outputs": [
        {
          "output_type": "execute_result",
          "data": {
            "text/plain": [
              "True"
            ]
          },
          "metadata": {},
          "execution_count": 85
        }
      ]
    },
    {
      "cell_type": "code",
      "metadata": {
        "id": "gNfevX9yxZ_-",
        "colab": {
          "base_uri": "https://localhost:8080/"
        },
        "outputId": "346c49f1-c28c-4f64-86bb-12b32b90256a"
      },
      "source": [
        "'Hello world!'.endswith('world!')"
      ],
      "execution_count": 86,
      "outputs": [
        {
          "output_type": "execute_result",
          "data": {
            "text/plain": [
              "True"
            ]
          },
          "metadata": {},
          "execution_count": 86
        }
      ]
    },
    {
      "cell_type": "code",
      "metadata": {
        "id": "Z6TLhPGZxhLs",
        "colab": {
          "base_uri": "https://localhost:8080/"
        },
        "outputId": "cdf6ca8d-afac-4a1c-99b6-fd9f42128ee9"
      },
      "source": [
        "'abc123'.startswith('abcdef')"
      ],
      "execution_count": 87,
      "outputs": [
        {
          "output_type": "execute_result",
          "data": {
            "text/plain": [
              "False"
            ]
          },
          "metadata": {},
          "execution_count": 87
        }
      ]
    },
    {
      "cell_type": "code",
      "metadata": {
        "colab": {
          "base_uri": "https://localhost:8080/"
        },
        "id": "G2ogOmeE40Ga",
        "outputId": "0a73ceba-e80d-4955-c597-7a66f4d2ac04"
      },
      "source": [
        "t = \"zeta\"\n",
        "print(t.endswith(\"a\"))\n",
        "print(t.endswith(\"A\"))\n",
        "print(t.endswith(\"et\"))\n",
        "print(t.endswith(\"eta\"))"
      ],
      "execution_count": 88,
      "outputs": [
        {
          "output_type": "stream",
          "name": "stdout",
          "text": [
            "True\n",
            "False\n",
            "False\n",
            "True\n"
          ]
        }
      ]
    },
    {
      "cell_type": "markdown",
      "metadata": {
        "id": "QBjtjjLyxwjm"
      },
      "source": [
        "### **Metode join() dan split() dari String**\n",
        "\n",
        "Fungsi join() berguna saat Anda memiliki sejumlah string yang perlu digabungkan. "
      ]
    },
    {
      "cell_type": "code",
      "metadata": {
        "id": "Q111rEyjx5Qt",
        "colab": {
          "base_uri": "https://localhost:8080/",
          "height": 35
        },
        "outputId": "eb45233b-7efc-43c9-d34c-8a8a9be7c666"
      },
      "source": [
        "', '.join(['cats', 'rats', 'bats'])"
      ],
      "execution_count": 89,
      "outputs": [
        {
          "output_type": "execute_result",
          "data": {
            "application/vnd.google.colaboratory.intrinsic+json": {
              "type": "string"
            },
            "text/plain": [
              "'cats, rats, bats'"
            ]
          },
          "metadata": {},
          "execution_count": 89
        }
      ]
    },
    {
      "cell_type": "code",
      "metadata": {
        "id": "HYul9sRcx60d",
        "colab": {
          "base_uri": "https://localhost:8080/",
          "height": 35
        },
        "outputId": "dca71482-400e-48c4-a59d-5a4f8122b474"
      },
      "source": [
        "' '.join(['My', 'name', 'is', 'Simon'])"
      ],
      "execution_count": 90,
      "outputs": [
        {
          "output_type": "execute_result",
          "data": {
            "application/vnd.google.colaboratory.intrinsic+json": {
              "type": "string"
            },
            "text/plain": [
              "'My name is Simon'"
            ]
          },
          "metadata": {},
          "execution_count": 90
        }
      ]
    },
    {
      "cell_type": "code",
      "metadata": {
        "id": "VCTcMZTcx8Q_",
        "colab": {
          "base_uri": "https://localhost:8080/",
          "height": 35
        },
        "outputId": "18a03bd5-02f5-4c2f-bcda-59fa7a72c678"
      },
      "source": [
        "'ABC'.join(['My', 'name', 'is', 'Simon'])"
      ],
      "execution_count": 91,
      "outputs": [
        {
          "output_type": "execute_result",
          "data": {
            "application/vnd.google.colaboratory.intrinsic+json": {
              "type": "string"
            },
            "text/plain": [
              "'MyABCnameABCisABCSimon'"
            ]
          },
          "metadata": {},
          "execution_count": 91
        }
      ]
    },
    {
      "cell_type": "code",
      "metadata": {
        "id": "OGQTUIjmx_Ys",
        "colab": {
          "base_uri": "https://localhost:8080/"
        },
        "outputId": "e538b913-dda9-44a6-e0d0-91dbe2a9deac"
      },
      "source": [
        "'My name is Simon'.split()"
      ],
      "execution_count": 92,
      "outputs": [
        {
          "output_type": "execute_result",
          "data": {
            "text/plain": [
              "['My', 'name', 'is', 'Simon']"
            ]
          },
          "metadata": {},
          "execution_count": 92
        }
      ]
    },
    {
      "cell_type": "code",
      "metadata": {
        "id": "_IGRIlGSyB20",
        "colab": {
          "base_uri": "https://localhost:8080/"
        },
        "outputId": "00c85e9b-16f9-4c61-9d49-173a90154bbe"
      },
      "source": [
        "'MyABCnameABCisABCSimon'.split('ABC')"
      ],
      "execution_count": 93,
      "outputs": [
        {
          "output_type": "execute_result",
          "data": {
            "text/plain": [
              "['My', 'name', 'is', 'Simon']"
            ]
          },
          "metadata": {},
          "execution_count": 93
        }
      ]
    },
    {
      "cell_type": "code",
      "metadata": {
        "colab": {
          "base_uri": "https://localhost:8080/"
        },
        "id": "FtJS3BtWn3Re",
        "outputId": "978ca63d-b279-441c-c880-b988f524305c"
      },
      "source": [
        "'My name is Simon'.split(\" \", 1)"
      ],
      "execution_count": 94,
      "outputs": [
        {
          "output_type": "execute_result",
          "data": {
            "text/plain": [
              "['My', 'name is Simon']"
            ]
          },
          "metadata": {},
          "execution_count": 94
        }
      ]
    },
    {
      "cell_type": "code",
      "metadata": {
        "colab": {
          "base_uri": "https://localhost:8080/"
        },
        "id": "hhecn3MKoA56",
        "outputId": "2573dd7d-e1fa-4fba-dc7b-0469fb0265f0"
      },
      "source": [
        "'My name is Simon'.split(\" \", 2)"
      ],
      "execution_count": 95,
      "outputs": [
        {
          "output_type": "execute_result",
          "data": {
            "text/plain": [
              "['My', 'name', 'is Simon']"
            ]
          },
          "metadata": {},
          "execution_count": 95
        }
      ]
    },
    {
      "cell_type": "code",
      "metadata": {
        "colab": {
          "base_uri": "https://localhost:8080/"
        },
        "id": "d7VgMvG6oDLj",
        "outputId": "27034a54-409e-406d-f7a8-4fb68f5cd033"
      },
      "source": [
        "'My name is Simon'.split(\" \", 3)"
      ],
      "execution_count": 96,
      "outputs": [
        {
          "output_type": "execute_result",
          "data": {
            "text/plain": [
              "['My', 'name', 'is', 'Simon']"
            ]
          },
          "metadata": {},
          "execution_count": 96
        }
      ]
    },
    {
      "cell_type": "markdown",
      "metadata": {
        "id": "VDDpWt0ZybAs"
      },
      "source": [
        "### **Teks rata kanan, kiri, tengah dengan rjust(), ljust(), dan center()**\n",
        "\n",
        "Anda dapat merapikan pencetakan teks di layar dengan rjust(), ljust() atau center(). rjust() dan ljust() akan menambahkan spasi pada string untuk membuatnya sesuai (misalnya rata kiri atau rata kanan). Argumennya berupa integer yang merupakan panjang teks secara keseluruhan (bukan jumlah spasi yang ditambahkan)"
      ]
    },
    {
      "cell_type": "code",
      "metadata": {
        "id": "JwgMCq0uydLk",
        "colab": {
          "base_uri": "https://localhost:8080/",
          "height": 35
        },
        "outputId": "898abf47-e47d-4f8d-fab4-58605bed7085"
      },
      "source": [
        "'Hello'.rjust(10)"
      ],
      "execution_count": 97,
      "outputs": [
        {
          "output_type": "execute_result",
          "data": {
            "application/vnd.google.colaboratory.intrinsic+json": {
              "type": "string"
            },
            "text/plain": [
              "'     Hello'"
            ]
          },
          "metadata": {},
          "execution_count": 97
        }
      ]
    },
    {
      "cell_type": "code",
      "metadata": {
        "id": "yKN_BW5yyi_e",
        "colab": {
          "base_uri": "https://localhost:8080/",
          "height": 35
        },
        "outputId": "40ce9713-3334-4c48-fd94-6227990c2a28"
      },
      "source": [
        "'Hello'.ljust(10)"
      ],
      "execution_count": 98,
      "outputs": [
        {
          "output_type": "execute_result",
          "data": {
            "application/vnd.google.colaboratory.intrinsic+json": {
              "type": "string"
            },
            "text/plain": [
              "'Hello     '"
            ]
          },
          "metadata": {},
          "execution_count": 98
        }
      ]
    },
    {
      "cell_type": "code",
      "metadata": {
        "id": "YWg1t9EByupE",
        "colab": {
          "base_uri": "https://localhost:8080/",
          "height": 35
        },
        "outputId": "7ed0ae31-208b-46ff-fd1c-3443e1acb955"
      },
      "source": [
        "'Hello'.center(20)"
      ],
      "execution_count": 99,
      "outputs": [
        {
          "output_type": "execute_result",
          "data": {
            "application/vnd.google.colaboratory.intrinsic+json": {
              "type": "string"
            },
            "text/plain": [
              "'       Hello        '"
            ]
          },
          "metadata": {},
          "execution_count": 99
        }
      ]
    },
    {
      "cell_type": "markdown",
      "metadata": {
        "id": "HiF8IO_Iymn3"
      },
      "source": [
        "'Hello'.rjust(10) dapat diartikan sebagai kita ingin menuliskan Hello dalam mode rata kanan dengan total panjang string 10. "
      ]
    },
    {
      "cell_type": "code",
      "metadata": {
        "id": "q699HVb1yqDO",
        "colab": {
          "base_uri": "https://localhost:8080/",
          "height": 35
        },
        "outputId": "d29801dd-7dac-455d-e49b-4bedc481d66b"
      },
      "source": [
        "'Hello'.rjust(20, '*')"
      ],
      "execution_count": 100,
      "outputs": [
        {
          "output_type": "execute_result",
          "data": {
            "application/vnd.google.colaboratory.intrinsic+json": {
              "type": "string"
            },
            "text/plain": [
              "'***************Hello'"
            ]
          },
          "metadata": {},
          "execution_count": 100
        }
      ]
    },
    {
      "cell_type": "code",
      "metadata": {
        "id": "txhx5mbbysc4",
        "colab": {
          "base_uri": "https://localhost:8080/",
          "height": 35
        },
        "outputId": "d6219a68-f767-48d1-8f2b-63b0e7800b6b"
      },
      "source": [
        "'Hello'.ljust(20, '-')"
      ],
      "execution_count": 101,
      "outputs": [
        {
          "output_type": "execute_result",
          "data": {
            "application/vnd.google.colaboratory.intrinsic+json": {
              "type": "string"
            },
            "text/plain": [
              "'Hello---------------'"
            ]
          },
          "metadata": {},
          "execution_count": 101
        }
      ]
    },
    {
      "cell_type": "code",
      "metadata": {
        "id": "QsSSmm7Qyweg",
        "colab": {
          "base_uri": "https://localhost:8080/",
          "height": 35
        },
        "outputId": "acb73aea-3ea0-40c7-bb31-cb946fdcd0b1"
      },
      "source": [
        "'Hello'.center(20, '=')"
      ],
      "execution_count": 102,
      "outputs": [
        {
          "output_type": "execute_result",
          "data": {
            "application/vnd.google.colaboratory.intrinsic+json": {
              "type": "string"
            },
            "text/plain": [
              "'=======Hello========'"
            ]
          },
          "metadata": {},
          "execution_count": 102
        }
      ]
    },
    {
      "cell_type": "code",
      "metadata": {
        "colab": {
          "base_uri": "https://localhost:8080/"
        },
        "id": "pZNvGIBt4qNd",
        "outputId": "c35fdc7f-5f11-4d56-ec38-f65d60ea8405"
      },
      "source": [
        "print('[' + 'Beta'.center(2) + ']')\n",
        "print('[' + 'Beta'.center(4) + ']')\n",
        "print('[' + 'Beta'.center(6) + ']')"
      ],
      "execution_count": 103,
      "outputs": [
        {
          "output_type": "stream",
          "name": "stdout",
          "text": [
            "[Beta]\n",
            "[Beta]\n",
            "[ Beta ]\n"
          ]
        }
      ]
    },
    {
      "cell_type": "code",
      "metadata": {
        "colab": {
          "base_uri": "https://localhost:8080/"
        },
        "id": "RVCdtbtM4uXS",
        "outputId": "11575749-1cd6-4265-e336-28bd913f1414"
      },
      "source": [
        "print('[' + 'gamma'.center(20, '*') + ']')"
      ],
      "execution_count": 104,
      "outputs": [
        {
          "output_type": "stream",
          "name": "stdout",
          "text": [
            "[*******gamma********]\n"
          ]
        }
      ]
    },
    {
      "cell_type": "markdown",
      "metadata": {
        "id": "8he2rb7oy4oa"
      },
      "source": [
        "### **Hapus Whitespace dengan strip(), rstrip(), dan lstrip()**\n",
        "\n",
        "Saat Anda menerima string sebagai parameter, seringkali masih terdapat karakter whitespace (spasi, tab, dan newline) di bagian awal dan atau akhir string yang dimaksud. Metode strip() akan menghapus whitespace pada bagian awal atau akhir string. lstrip() dan rstrip() akan menghapus sesuai dengan namanya, awal saja atau akhir saja"
      ]
    },
    {
      "cell_type": "code",
      "metadata": {
        "id": "P5PQDDrxzbrF",
        "colab": {
          "base_uri": "https://localhost:8080/",
          "height": 35
        },
        "outputId": "8dbffa29-992f-4ea8-bd58-2c1f2a2dba15"
      },
      "source": [
        "spam = '    Hello World     '\n",
        "spam.strip()"
      ],
      "execution_count": 105,
      "outputs": [
        {
          "output_type": "execute_result",
          "data": {
            "application/vnd.google.colaboratory.intrinsic+json": {
              "type": "string"
            },
            "text/plain": [
              "'Hello World'"
            ]
          },
          "metadata": {},
          "execution_count": 105
        }
      ]
    },
    {
      "cell_type": "code",
      "metadata": {
        "id": "pGVtL1gnzdUJ",
        "colab": {
          "base_uri": "https://localhost:8080/",
          "height": 35
        },
        "outputId": "b8b620a7-10f8-4130-fb35-e8a2242b1f8e"
      },
      "source": [
        "spam.lstrip()"
      ],
      "execution_count": 106,
      "outputs": [
        {
          "output_type": "execute_result",
          "data": {
            "application/vnd.google.colaboratory.intrinsic+json": {
              "type": "string"
            },
            "text/plain": [
              "'Hello World     '"
            ]
          },
          "metadata": {},
          "execution_count": 106
        }
      ]
    },
    {
      "cell_type": "code",
      "metadata": {
        "id": "m-5lQm2izeuj",
        "colab": {
          "base_uri": "https://localhost:8080/",
          "height": 35
        },
        "outputId": "982603e9-5364-4f00-e988-6ed8f35ccfe7"
      },
      "source": [
        "spam.rstrip()"
      ],
      "execution_count": 107,
      "outputs": [
        {
          "output_type": "execute_result",
          "data": {
            "application/vnd.google.colaboratory.intrinsic+json": {
              "type": "string"
            },
            "text/plain": [
              "'    Hello World'"
            ]
          },
          "metadata": {},
          "execution_count": 107
        }
      ]
    },
    {
      "cell_type": "markdown",
      "metadata": {
        "id": "JGhF03y_zkbY"
      },
      "source": [
        "Anda juga bisa menentukan mana karakter atau bagian yang ingin dihilangkan, misalnya:"
      ]
    },
    {
      "cell_type": "code",
      "metadata": {
        "id": "zCz45UPhzmJO",
        "colab": {
          "base_uri": "https://localhost:8080/",
          "height": 35
        },
        "outputId": "f4533e18-3bc2-4227-c57b-831b7057e961"
      },
      "source": [
        "spam = 'SpamSpamBaconSpamEggsSpamSpam'\n",
        "spam.strip('ampS')"
      ],
      "execution_count": 108,
      "outputs": [
        {
          "output_type": "execute_result",
          "data": {
            "application/vnd.google.colaboratory.intrinsic+json": {
              "type": "string"
            },
            "text/plain": [
              "'BaconSpamEggs'"
            ]
          },
          "metadata": {},
          "execution_count": 108
        }
      ]
    },
    {
      "cell_type": "markdown",
      "metadata": {
        "id": "t0RMukOAz00j"
      },
      "source": [
        "Saat mengirimkan ‘ampS’ sebagai argumen strip, maka Python akan menghapus setiap huruf a, m, p dan S kapital dari string yang dioperasikan. Urutan untuk parameter ini tidak berpengaruh, sehingga strip('ampS') akan berlaku sama dengan ('mapS') atau strip('Spam')."
      ]
    },
    {
      "cell_type": "code",
      "metadata": {
        "colab": {
          "base_uri": "https://localhost:8080/"
        },
        "id": "3BAsVjYBzWoN",
        "outputId": "48177646-7737-4a66-94df-7efbbe301818"
      },
      "source": [
        "def format_name(first_name, last_name):\n",
        "\tname = (last_name +\", \"+ first_name).strip(\", \")\n",
        "\tstring = \"\"\n",
        "\tif(first_name != \"\" or last_name != \"\"):\n",
        "\t\tstring = \"Name: \"+name\n",
        "\treturn string\n",
        "\n",
        "print(format_name(\"Ernest\", \"Hemingway\"))\n",
        "# Should return the string \"Name: Hemingway, Ernest\"\n",
        "\n",
        "print(format_name(\"\", \"Madonna\"))\n",
        "# Should return the string \"Name: Madonna\"\n",
        "\n",
        "print(format_name(\"Voltaire\", \"\"))\n",
        "# Should return the string \"Name: Voltaire\"\n",
        "\n",
        "print(format_name(\"\", \"\"))\n",
        "# Should return an empty string"
      ],
      "execution_count": 109,
      "outputs": [
        {
          "output_type": "stream",
          "name": "stdout",
          "text": [
            "Name: Hemingway, Ernest\n",
            "Name: Madonna\n",
            "Name: Voltaire\n",
            "\n"
          ]
        }
      ]
    },
    {
      "cell_type": "markdown",
      "metadata": {
        "id": "o-zzkyWvz3aD"
      },
      "source": [
        "### **Menghapus aatu Mengganti string/substring dengan replace()**"
      ]
    },
    {
      "cell_type": "code",
      "metadata": {
        "id": "_cUai97pz6x1",
        "colab": {
          "base_uri": "https://localhost:8080/"
        },
        "outputId": "c199aa6d-e7c2-4713-f0d0-b26fa939e7db"
      },
      "source": [
        "string = \"Ayo belajar Coding di Dicoding\"\n",
        "print(string.replace(\"Coding\", \"Pemrograman\"))"
      ],
      "execution_count": 110,
      "outputs": [
        {
          "output_type": "stream",
          "name": "stdout",
          "text": [
            "Ayo belajar Pemrograman di Dicoding\n"
          ]
        }
      ]
    },
    {
      "cell_type": "markdown",
      "metadata": {
        "id": "yPjLi4cV0ISF"
      },
      "source": [
        "Opsional, Parameter ketiga pada replace dapat diisi jumlah substring yang ingin diganti."
      ]
    },
    {
      "cell_type": "code",
      "metadata": {
        "id": "1BK9hMBK0F6S",
        "colab": {
          "base_uri": "https://localhost:8080/"
        },
        "outputId": "c4f03fdd-882f-4e5b-adc9-1d3b1799ff20"
      },
      "source": [
        "string = \"Ayo belajar Coding di Dicoding karena Coding adalah bahasa masa depan\"\n",
        "print(string.replace(\"Coding\", \"Pemrograman\", 1))"
      ],
      "execution_count": 111,
      "outputs": [
        {
          "output_type": "stream",
          "name": "stdout",
          "text": [
            "Ayo belajar Pemrograman di Dicoding karena Coding adalah bahasa masa depan\n"
          ]
        }
      ]
    },
    {
      "cell_type": "markdown",
      "metadata": {
        "id": "rYqhlTKeWNQT"
      },
      "source": [
        "Menghapus alpabet atau string pada string"
      ]
    },
    {
      "cell_type": "code",
      "metadata": {
        "colab": {
          "base_uri": "https://localhost:8080/",
          "height": 35
        },
        "id": "uy6ubwStWScw",
        "outputId": "80d7a2be-ef96-4330-8ab5-991870cc9364"
      },
      "source": [
        "string = \"Ayo belajar Coding di Dicoding karena Coding!\"\n",
        "string.replace(\"!\", \"\")"
      ],
      "execution_count": 112,
      "outputs": [
        {
          "output_type": "execute_result",
          "data": {
            "application/vnd.google.colaboratory.intrinsic+json": {
              "type": "string"
            },
            "text/plain": [
              "'Ayo belajar Coding di Dicoding karena Coding'"
            ]
          },
          "metadata": {},
          "execution_count": 112
        }
      ]
    },
    {
      "cell_type": "code",
      "metadata": {
        "colab": {
          "base_uri": "https://localhost:8080/",
          "height": 35
        },
        "id": "ZOnsINnTWnwO",
        "outputId": "1295fd54-b654-43a3-87d1-2d2f10ee6136"
      },
      "source": [
        "string = \"Ayo belajar Coding di Dicoding karena Coding!\"\n",
        "string.replace(\"Ayo \", \"\")"
      ],
      "execution_count": 113,
      "outputs": [
        {
          "output_type": "execute_result",
          "data": {
            "application/vnd.google.colaboratory.intrinsic+json": {
              "type": "string"
            },
            "text/plain": [
              "'belajar Coding di Dicoding karena Coding!'"
            ]
          },
          "metadata": {},
          "execution_count": 113
        }
      ]
    },
    {
      "cell_type": "markdown",
      "metadata": {
        "id": "gGPS7Gnn34OT"
      },
      "source": [
        "### **index()**\n",
        "\n",
        "The index() method (it's a method, not a function) searches the sequence from the beginning, in order to find the first element of the value specified in its argument."
      ]
    },
    {
      "cell_type": "code",
      "metadata": {
        "colab": {
          "base_uri": "https://localhost:8080/"
        },
        "id": "3QKtfp1J4ACE",
        "outputId": "0b4d740f-e6c1-4c40-d1e9-09352955ad19"
      },
      "source": [
        "# Demonstrating the index() method:\n",
        "print(\"aAbByYzZaA\".index(\"b\"))\n",
        "print(\"aAbByYzZaA\".index(\"Z\"))\n",
        "print(\"aAbByYzZaA\".index(\"A\"))"
      ],
      "execution_count": 114,
      "outputs": [
        {
          "output_type": "stream",
          "name": "stdout",
          "text": [
            "2\n",
            "7\n",
            "1\n"
          ]
        }
      ]
    },
    {
      "cell_type": "markdown",
      "metadata": {
        "id": "ZcA5rO5UHUuU"
      },
      "source": [
        "###**rindex()**\n",
        "str.rindex(str, beg=0 end=len(string))\n",
        "Parameters\n",
        "str − This specifies the string to be searched.\n",
        "\n",
        "beg − This is the starting index, by default its 0\n",
        "\n",
        "len − This is ending index, by default its equal to the length of the string.\n",
        "\n",
        "https://www.tutorialspoint.com/python/string_rindex.htm#:~:text=Python%20string%20method%20rindex(),string%5Bbeg%3Aend%5D."
      ]
    },
    {
      "cell_type": "code",
      "metadata": {
        "colab": {
          "base_uri": "https://localhost:8080/"
        },
        "id": "IjDhDwIrHV2G",
        "outputId": "20ba27ed-7cc9-46ce-a805-d61ae0f257c2"
      },
      "source": [
        "str1 = \"this is string example....wow!!!\";\n",
        "str2 = \"is\";\n",
        "\n",
        "print(str1.rindex(str2))\n",
        "print(str1.index(str2))"
      ],
      "execution_count": 115,
      "outputs": [
        {
          "output_type": "stream",
          "name": "stdout",
          "text": [
            "5\n",
            "2\n"
          ]
        }
      ]
    },
    {
      "cell_type": "markdown",
      "metadata": {
        "id": "jV7VBKKgz3Qk"
      },
      "source": [
        "### **ASCII/UNICODE code point**\n",
        "\n",
        "If you want to know a `specific character's ASCII/UNICODE code point value`, you can use a function named `ord()` (as in ordinal).\n",
        "\n",
        "The function needs a one-character string as its argument - breaching this requirement causes a TypeError exception, and returns a number representing the argument's code point."
      ]
    },
    {
      "cell_type": "code",
      "metadata": {
        "colab": {
          "base_uri": "https://localhost:8080/"
        },
        "id": "AOf9bBozz3Qk",
        "outputId": "34b8b08a-8ff7-4450-ff87-cda4037b364c"
      },
      "source": [
        "# Demonstrating the ord() function.\n",
        "\n",
        "char_1 = 'a'\n",
        "char_2 = ' '  # space\n",
        "\n",
        "print(ord(char_1))\n",
        "print(ord(char_2))"
      ],
      "execution_count": 116,
      "outputs": [
        {
          "output_type": "stream",
          "name": "stdout",
          "text": [
            "97\n",
            "32\n"
          ]
        }
      ]
    },
    {
      "cell_type": "markdown",
      "metadata": {
        "id": "AH8cn-5Vz-e9"
      },
      "source": [
        "If you know the code point (number) and want to get the corresponding character, you can use a function named `chr()`.\n",
        "\n",
        "The function `takes a code point and returns its character`.\n",
        "\n",
        "Invoking it with an invalid argument (e.g., a negative or invalid code point) causes ValueError or TypeError exceptions."
      ]
    },
    {
      "cell_type": "code",
      "metadata": {
        "colab": {
          "base_uri": "https://localhost:8080/"
        },
        "id": "LhdqXb8y0Cug",
        "outputId": "7ac0928b-f82d-49aa-b5a0-8ecd632dffe0"
      },
      "source": [
        "# Demonstrating the chr() function.\n",
        "\n",
        "print(chr(97))\n",
        "print(chr(945))"
      ],
      "execution_count": 117,
      "outputs": [
        {
          "output_type": "stream",
          "name": "stdout",
          "text": [
            "a\n",
            "α\n"
          ]
        }
      ]
    },
    {
      "cell_type": "markdown",
      "metadata": {
        "id": "_nEQhUF14YAh"
      },
      "source": [
        "### **capitalize()**\n",
        "\n",
        "The capitalize() method does exactly what it says - it creates a new string filled with characters taken from the source string"
      ]
    },
    {
      "cell_type": "code",
      "metadata": {
        "colab": {
          "base_uri": "https://localhost:8080/"
        },
        "id": "9ICPyAIo4W68",
        "outputId": "06bb16c9-a39b-4425-cdbf-a7a6186bcff5"
      },
      "source": [
        "# Demonstrating the capitalize() method:\n",
        "print(\"Alpha\".capitalize())\n",
        "print('ALPHA'.capitalize())\n",
        "print(' Alpha'.capitalize())\n",
        "print('123'.capitalize())\n",
        "print(\"αβγδ\".capitalize())"
      ],
      "execution_count": 118,
      "outputs": [
        {
          "output_type": "stream",
          "name": "stdout",
          "text": [
            "Alpha\n",
            "Alpha\n",
            " alpha\n",
            "123\n",
            "Αβγδ\n"
          ]
        }
      ]
    },
    {
      "cell_type": "markdown",
      "metadata": {
        "id": "JtC8mWuB6gx1"
      },
      "source": [
        "### **swapcase()**\n",
        "\n",
        "The `swapcase()` method `makes a new string by swapping the case of all letters within the source string`: lower-case characters become upper-case, and vice versa."
      ]
    },
    {
      "cell_type": "code",
      "metadata": {
        "colab": {
          "base_uri": "https://localhost:8080/"
        },
        "id": "OODJeT8x6o8v",
        "outputId": "4dae202d-23d2-4ec1-e394-1ed807d48f9e"
      },
      "source": [
        "# Demonstrating the swapcase() method:\n",
        "print(\"I know that I know nothing.\".swapcase())"
      ],
      "execution_count": 119,
      "outputs": [
        {
          "output_type": "stream",
          "name": "stdout",
          "text": [
            "i KNOW THAT i KNOW NOTHING.\n"
          ]
        }
      ]
    },
    {
      "cell_type": "markdown",
      "metadata": {
        "id": "oIz9zxxS62Nu"
      },
      "source": [
        "### **title()**\n",
        "\n",
        "The `title()` method performs a somewhat similar function - it `changes every word's first letter to upper-case, turning all other ones to lower-case`."
      ]
    },
    {
      "cell_type": "code",
      "metadata": {
        "colab": {
          "base_uri": "https://localhost:8080/"
        },
        "id": "reEBCwv16-rZ",
        "outputId": "ffa0b21f-eb2d-4123-e8e7-fb7654006272"
      },
      "source": [
        "# Demonstrating the title() method:\n",
        "print(\"I know that I know nothing. Part 1.\".title())"
      ],
      "execution_count": 120,
      "outputs": [
        {
          "output_type": "stream",
          "name": "stdout",
          "text": [
            "I Know That I Know Nothing. Part 1.\n"
          ]
        }
      ]
    },
    {
      "cell_type": "markdown",
      "metadata": {
        "id": "nUAnqf6y44y4"
      },
      "source": [
        "### **find()**\n",
        "\n",
        "The `find()` method is similar to `index()`, which you already know - `it looks for a substring and returns the index of first occurrence of this substring, but`:\n",
        "\n",
        "* it's safer - it `doesn't generate an error for an argument containing a non-existent substring` (it returns -1 then)\n",
        "* it `works with strings only` - don't try to apply it to any other sequence."
      ]
    },
    {
      "cell_type": "code",
      "metadata": {
        "colab": {
          "base_uri": "https://localhost:8080/"
        },
        "id": "zCf0b9m25F3D",
        "outputId": "da69e79e-f1f5-4349-dfb6-233a098c0506"
      },
      "source": [
        "# Demonstrating the find() method:\n",
        "print(\"Eta\".find(\"ta\"))\n",
        "print(\"Eta\".find(\"mma\"))"
      ],
      "execution_count": 121,
      "outputs": [
        {
          "output_type": "stream",
          "name": "stdout",
          "text": [
            "1\n",
            "-1\n"
          ]
        }
      ]
    },
    {
      "cell_type": "markdown",
      "metadata": {
        "id": "yo9smxMC57YM"
      },
      "source": [
        "### **rfind()**\n",
        "\n",
        "The one-, two-, and three-parameter methods named `rfind()` do nearly the same things as their counterparts (the ones devoid of the r prefix), but `start their searches from the end of the string`, not the beginning (hence the prefix r, for right)."
      ]
    },
    {
      "cell_type": "code",
      "metadata": {
        "colab": {
          "base_uri": "https://localhost:8080/"
        },
        "id": "C78iF4-n6CMT",
        "outputId": "36c89451-c6de-4fb2-cf06-3003d4480cea"
      },
      "source": [
        "# Demonstrating the rfind() method:\n",
        "print(\"tau tau tau\".rfind(\"ta\"))\n",
        "print(\"tau tau tau\".rfind(\"ta\", 9))\n",
        "print(\"tau tau tau\".rfind(\"ta\", 3, 9))"
      ],
      "execution_count": 122,
      "outputs": [
        {
          "output_type": "stream",
          "name": "stdout",
          "text": [
            "8\n",
            "-1\n",
            "4\n"
          ]
        }
      ]
    },
    {
      "cell_type": "markdown",
      "metadata": {
        "id": "oq2JHToRhJ-_"
      },
      "source": [
        "# **A few words about None**\n",
        "\n",
        "Let us introduce you to a very curious value (to be honest, a none value) named `None`.\n",
        "\n",
        "Its data doesn't represent any reasonable value - actually, it's not a value at all; hence, it mustn't take part in any expressions.\n",
        "\n",
        "For example, a snippet like this:\n",
        "\n",
        "`print(None + 2)`\n",
        "\n",
        "\n",
        "will cause a runtime error, described by the following diagnostic message:\n",
        "\n",
        "`TypeError: unsupported operand type(s) for +: 'NoneType' and 'int'`\n",
        "\n",
        "Note: None is a keyword.\n",
        "\n",
        "There are only two kinds of circumstances when None can be safely used:\n",
        "\n",
        "when you assign it to a variable (or return it as a function's result)\n",
        "when you compare it with a variable to diagnose its internal state."
      ]
    },
    {
      "cell_type": "code",
      "metadata": {
        "colab": {
          "base_uri": "https://localhost:8080/"
        },
        "id": "p6IahWU-heTy",
        "outputId": "5307b071-e782-46cd-f002-9f2d79df71d5"
      },
      "source": [
        "value = None\n",
        "if value is None:\n",
        "    print(\"Sorry, you don't carry any value\")"
      ],
      "execution_count": 123,
      "outputs": [
        {
          "output_type": "stream",
          "name": "stdout",
          "text": [
            "Sorry, you don't carry any value\n"
          ]
        }
      ]
    },
    {
      "cell_type": "markdown",
      "metadata": {
        "id": "lcYycsi2hmrO"
      },
      "source": [
        "Don't forget this: if a function doesn't return a certain value using a return expression clause, it is assumed that it implicitly returns None."
      ]
    },
    {
      "cell_type": "markdown",
      "metadata": {
        "id": "70-mASlaYc0B"
      },
      "source": [
        "# **Operators**\n",
        "\n",
        "Operators are used to perform operations on variables and values.\n",
        "\n",
        "Bahasa pemrograman Python mendukung berbagai macam operator, diantaranya :\n",
        "\n",
        "* Operator Aritmatika (Arithmetic Operators)\n",
        "\n",
        "* Operator Perbandingan (Comparison (Relational) Operators)\n",
        "\n",
        "* Operator Penugasan (Assignment Operators)\n",
        "\n",
        "* Operator Logika (Logical Operators)\n",
        "\n",
        "* Operator Bitwise (Bitwise Operators)\n",
        "\n",
        "* Operator Keanggotaan (Membership Operators)\n",
        "\n",
        "* Operator Identitas (Identity Operators)"
      ]
    },
    {
      "cell_type": "markdown",
      "metadata": {
        "id": "Wniw41dqjcaT"
      },
      "source": [
        "## **Arithmetic Operators**\n",
        "Arithmetic operators are used with numeric values to perform common mathematical operations.\n",
        "- \\+ : Addition\n",
        "- \\- : Subtraction\t\t\n",
        "- \\* : Multiplication\n",
        "- /\t : Division\n",
        "- %\t : Modulus\n",
        "- ** : Exponentiation\t\n",
        "- // : Floor division\t"
      ]
    },
    {
      "cell_type": "code",
      "metadata": {
        "id": "SOHpbYAVNfeY",
        "colab": {
          "base_uri": "https://localhost:8080/"
        },
        "outputId": "14595e43-3dfe-4fed-9672-46d4c0c6b676"
      },
      "source": [
        "print(10 + 4)   # 14\n",
        "print(10 - 4)   # 6\n",
        "print(10 * 4)   # 40\n",
        "print(10 / 4)   # 2.5\n",
        "print(10 % 4)   # 2\n",
        "print(10 ** 4)  # 1000\n",
        "print(10 // 4)  # 2"
      ],
      "execution_count": 124,
      "outputs": [
        {
          "output_type": "stream",
          "name": "stdout",
          "text": [
            "14\n",
            "6\n",
            "40\n",
            "2.5\n",
            "2\n",
            "10000\n",
            "2\n"
          ]
        }
      ]
    },
    {
      "cell_type": "markdown",
      "metadata": {
        "id": "-IVFoqsfjkPD"
      },
      "source": [
        "## **Relational (Comparison) Operators**\n",
        "\n",
        "Comparison operators are used to compare two values:\n",
        "- **==** : Equal\n",
        "- **!=** : Not equal\n",
        "- **>** : Greater than\n",
        "- **<** : Less than\n",
        "- **>=** : Greater than or equal to\n",
        "- **<=** : Less than or equal to"
      ]
    },
    {
      "cell_type": "markdown",
      "metadata": {
        "id": "kHeGVT8vc7Jn"
      },
      "source": [
        "## **Assignment Operators**\n",
        "\n",
        "* =\n",
        "* +=\n",
        "* -=\n",
        "* *=\n",
        "* /=\n",
        "* %=\n",
        "* **=\n",
        "* //=\n",
        "* &=\n",
        "* |=\n",
        "* ^=\n",
        "* <<=\n",
        "* \\>\\>=\n",
        "\n"
      ]
    },
    {
      "cell_type": "markdown",
      "metadata": {
        "id": "2zP7-WxckNOR"
      },
      "source": [
        "## **Logical Operators**\n",
        "\n",
        "Logical operators are used to combine conditional statements:\n",
        "\n",
        "- **and** : Returns True if both statements are true\n",
        "- **or** : Returns True if one of the statements is true\n",
        "- **not** : Reverse the result, returns False if the result is true\n",
        "\n",
        "Python supports the following logical operators:\n",
        "\n",
        "* `and` → if both operands are true, the condition is true, e.g., (`True and True) is True`,\n",
        "* `or` → if any of the operands are true, the condition is true, e.g., `(True or False) is True`,\n",
        "* `not` → returns false if the result is true, and returns true if the result is false, e.g., `not True is False`."
      ]
    },
    {
      "cell_type": "code",
      "metadata": {
        "id": "7SOkvdzeZ2G1",
        "colab": {
          "base_uri": "https://localhost:8080/"
        },
        "outputId": "7423b570-5f97-476c-a0ce-9bda20381ef1"
      },
      "source": [
        "print(10 > 5 and 'A' < 'a')     # True and True => True\n",
        "\n",
        "print(10 >= 10 or 10 > 10)      # True or False => True \n",
        "\n",
        "print(not('hello' == \"hello\"))  # not True => False"
      ],
      "execution_count": 125,
      "outputs": [
        {
          "output_type": "stream",
          "name": "stdout",
          "text": [
            "True\n",
            "True\n",
            "False\n"
          ]
        }
      ]
    },
    {
      "cell_type": "code",
      "metadata": {
        "colab": {
          "base_uri": "https://localhost:8080/"
        },
        "id": "17PGxtLIJadc",
        "outputId": "98a89300-19c4-44c9-cb29-0c13293536fa"
      },
      "source": [
        "# Example 1:\n",
        "var = 2\n",
        "print(not (var <= 0))\n",
        "\n",
        "\n",
        "# Example 2:\n",
        "print(not (var == 0))"
      ],
      "execution_count": 126,
      "outputs": [
        {
          "output_type": "stream",
          "name": "stdout",
          "text": [
            "True\n",
            "True\n"
          ]
        }
      ]
    },
    {
      "cell_type": "code",
      "metadata": {
        "colab": {
          "base_uri": "https://localhost:8080/"
        },
        "id": "8sPkAEzwJsxX",
        "outputId": "52309f14-cde6-4165-f7cc-1258582bef3b"
      },
      "source": [
        "i = 1\n",
        "j = not not i\n",
        "print(j)"
      ],
      "execution_count": 127,
      "outputs": [
        {
          "output_type": "stream",
          "name": "stdout",
          "text": [
            "True\n"
          ]
        }
      ]
    },
    {
      "cell_type": "code",
      "metadata": {
        "colab": {
          "base_uri": "https://localhost:8080/"
        },
        "id": "YvUrHGYvLs0_",
        "outputId": "25f4465d-08c8-428b-904a-eb739dc17b5a"
      },
      "source": [
        "x = 1\n",
        "y = 0\n",
        "\n",
        "z = ((x == y) and (x == y)) or not(x == y)\n",
        "print(not(z))"
      ],
      "execution_count": 128,
      "outputs": [
        {
          "output_type": "stream",
          "name": "stdout",
          "text": [
            "False\n"
          ]
        }
      ]
    },
    {
      "cell_type": "markdown",
      "metadata": {
        "id": "Xnn_Zjqf9jJn"
      },
      "source": [
        "## **Bitwise Operators**\n",
        "\n",
        "Here are all of them:\n",
        "\n",
        "* `& (ampersand)` - bitwise conjunction;\n",
        "* `| (bar)` - bitwise disjunction;\n",
        "* `~ (tilde)` - bitwise negation;\n",
        "* `^ (caret)` - bitwise exclusive or (xor).\n",
        "\n",
        "    * & :\tAnd\t\n",
        "\n",
        "        10 & 12\t\n",
        "\n",
        "        -> 1010 & 1100\t\n",
        "\n",
        "        -> 1000\t8\n",
        "\n",
        "    * | :\tOr\t\n",
        "\n",
        "        10 | 12\t\n",
        "\n",
        "        -> 1010 | 1100\t\n",
        "\n",
        "        -> 1110\t14\n",
        "\n",
        "    * ^ :\tXor\t\n",
        "\n",
        "        10 ^ 12\t\n",
        "\n",
        "        -> 1010 ^ 1100\t\n",
        "\n",
        "        -> 0110\t6\n",
        "\n",
        "    * ~ :\tNot\n",
        "\n",
        "        ~ 10\t\n",
        "\n",
        "        -> ~1010\t\n",
        "\n",
        "        -> 0101  -11 (two complement)\n",
        "\n",
        "    * << : Left shift\n",
        "\n",
        "        10 << 1\n",
        "\n",
        "        -> 1010 << 1\t\n",
        "\n",
        "        -> 10100\t20\n",
        "\n",
        "    * \\>\\> : Right shift\n",
        "\n",
        "        10 >> 1\t\n",
        "\n",
        "        -> 1010 >> 1\t\n",
        "\n",
        "        -> 101\t5\n",
        "\n",
        "You can use bitwise operators to manipulate single bits of data. The following sample data:\n",
        "\n",
        "* x = 15, which is 0000 1111 in binary,\n",
        "* y = 16, which is 0001 0000 in binary.\n",
        "\n",
        "will be used to illustrate the meaning of bitwise operators in Python. Analyze the examples below:\n",
        "\n",
        "* `&` does a bitwise and, e.g., `x & y = 0`, which is `0000 0000` in binary,\n",
        "* `|` does a bitwise or, e.g., `x | y = 31`, which is `0001 1111` in binary,\n",
        "* `˜` does a bitwise not, e.g., `˜ x = 240*`, which is `1111 0000` in binary,\n",
        "* `^` does a bitwise xor, e.g., `x ^ y = 31`, which is `0001 1111` in binary,\n",
        "* `>>` does a bitwise right shift, e.g., `y >> 1 = 8`, which is `0000 1000` in binary,\n",
        "* `<<` does a bitwise left shift, e.g., `y << 3 = 128`, which is `1000 0000` in binary,\n"
      ]
    },
    {
      "cell_type": "code",
      "metadata": {
        "id": "3YuKXa36FoB9",
        "colab": {
          "base_uri": "https://localhost:8080/"
        },
        "outputId": "c5e12d9a-cc0f-47ec-f30e-ec86c5f631f1"
      },
      "source": [
        "x = 10\n",
        "y = 12\n",
        " \n",
        "print('x berisi angka',x ,'desimal atau',bin(x),'biner')\n",
        "print('y berisi angka',y ,'desimal atau',bin(y),'biner')\n",
        " \n",
        "print('\\n')\n",
        " \n",
        "print('x & y  :', x & y)\n",
        "print('x | y  :', x | y)\n",
        "print('x ^ y  :', x ^ y)\n",
        "print('~x     :', ~x)\n",
        "print('x << 1 :', x << 1)\n",
        "print('x >> 1 :', x >> 1)"
      ],
      "execution_count": 129,
      "outputs": [
        {
          "output_type": "stream",
          "name": "stdout",
          "text": [
            "x berisi angka 10 desimal atau 0b1010 biner\n",
            "y berisi angka 12 desimal atau 0b1100 biner\n",
            "\n",
            "\n",
            "x & y  : 8\n",
            "x | y  : 14\n",
            "x ^ y  : 6\n",
            "~x     : -11\n",
            "x << 1 : 20\n",
            "x >> 1 : 5\n"
          ]
        }
      ]
    },
    {
      "cell_type": "code",
      "metadata": {
        "colab": {
          "base_uri": "https://localhost:8080/"
        },
        "id": "UqQXqLCOL1zE",
        "outputId": "546fbddd-af4d-4dab-f8ce-f920c7fd8749"
      },
      "source": [
        "x = 4\n",
        "y = 1\n",
        "\n",
        "a = x & y\n",
        "b = x | y\n",
        "c = ~x  # tricky!\n",
        "d = x ^ 5\n",
        "e = x >> 2\n",
        "f = x << 2\n",
        "\n",
        "print(a, b, c, d, e, f)"
      ],
      "execution_count": 130,
      "outputs": [
        {
          "output_type": "stream",
          "name": "stdout",
          "text": [
            "0 5 -5 1 1 16\n"
          ]
        }
      ]
    },
    {
      "cell_type": "markdown",
      "metadata": {
        "id": "K9UBam5ElT_j"
      },
      "source": [
        "## **Identity Operators**\n",
        "\n",
        "Identity operators are used to compare the objects, not if they are equal, but if they are actually the same object, with the same memory location:\n",
        "\n",
        "- **is** : Returns true if both variables are the same object\n",
        "- **is not** : Returns true if both variables are not the same object"
      ]
    },
    {
      "cell_type": "code",
      "metadata": {
        "id": "j_XyNIaOS4-M",
        "colab": {
          "base_uri": "https://localhost:8080/"
        },
        "outputId": "85a8fbba-30df-4bf0-9da2-747671ad02bb"
      },
      "source": [
        "x = 5\n",
        "y = 5\n",
        "print('nilai x = ', x , ', id = ', hex(id(x)))\n",
        "print('nilai y = ', y , ', id = ', hex(id(y)))\n",
        "\n",
        "# dilihat untuk x dan y menunjuk ke memory location yang sama \n",
        "# karena memiliki nilai yang sama\n",
        "\n",
        "print(x is y) # maka nilai identity dri x dan y adalah True\n",
        "print(x is not y)"
      ],
      "execution_count": 131,
      "outputs": [
        {
          "output_type": "stream",
          "name": "stdout",
          "text": [
            "nilai x =  5 , id =  0x55710bdb5a80\n",
            "nilai y =  5 , id =  0x55710bdb5a80\n",
            "True\n",
            "False\n"
          ]
        }
      ]
    },
    {
      "cell_type": "code",
      "metadata": {
        "id": "Gp_sVojPT2yN",
        "colab": {
          "base_uri": "https://localhost:8080/"
        },
        "outputId": "76e5eadd-6ef9-4962-e8fa-d7093cd3cb5e"
      },
      "source": [
        "#  untuk literal\n",
        "x = 5\n",
        "print(x is 5) # akan ada warning (lebih baik menggunakan == )"
      ],
      "execution_count": 132,
      "outputs": [
        {
          "output_type": "stream",
          "name": "stdout",
          "text": [
            "True\n"
          ]
        }
      ]
    },
    {
      "cell_type": "code",
      "metadata": {
        "id": "wUSDfL-Rmk4v",
        "colab": {
          "base_uri": "https://localhost:8080/"
        },
        "outputId": "06d7276f-4d55-4edb-fd5f-2f8ee4632c2b"
      },
      "source": [
        "list1 = ['a', 'b', 'c']\n",
        "list2 = ['a', 'b', 'c']\n",
        "\n",
        "print(list1 == list2)   # True because the value is the same\n",
        "\n",
        "print(list1 is list2)   # False because list1 and list2 have different memory location"
      ],
      "execution_count": 133,
      "outputs": [
        {
          "output_type": "stream",
          "name": "stdout",
          "text": [
            "True\n",
            "False\n"
          ]
        }
      ]
    },
    {
      "cell_type": "code",
      "metadata": {
        "id": "kzaq9N5Im9BR",
        "colab": {
          "base_uri": "https://localhost:8080/"
        },
        "outputId": "ed39d385-abc5-43ef-a58f-e33053326d42"
      },
      "source": [
        "list1 = ['a', 'b', 'c']\n",
        "list2 = list1\n",
        "\n",
        "print(list1 is list2)"
      ],
      "execution_count": 134,
      "outputs": [
        {
          "output_type": "stream",
          "name": "stdout",
          "text": [
            "True\n"
          ]
        }
      ]
    },
    {
      "cell_type": "markdown",
      "metadata": {
        "id": "39piLsx_l9uS"
      },
      "source": [
        "## **Membership Operators**\n",
        "\n",
        "Membership operators are used to test if a sequence is presented in an object.\n",
        "- **in** : Returns True if a sequence with the specified value is present in the object\n",
        "- **not in** : Returns True if a sequence with the specified value is not present in the object"
      ]
    },
    {
      "cell_type": "code",
      "metadata": {
        "id": "6zfVqgQ1kwgG",
        "colab": {
          "base_uri": "https://localhost:8080/"
        },
        "outputId": "f3b80f89-78c9-4497-9848-8137e52f0a62"
      },
      "source": [
        "print('ni' in 'Universitas Hasanuddin')     # True because ni exist in thet text"
      ],
      "execution_count": 135,
      "outputs": [
        {
          "output_type": "stream",
          "name": "stdout",
          "text": [
            "True\n"
          ]
        }
      ]
    },
    {
      "cell_type": "markdown",
      "metadata": {
        "id": "oP8ejhLLeg1I"
      },
      "source": [
        "## **Priority Operations**\n",
        "\n",
        "Priority |\tOperator | Imam\n",
        "--- | ---\t| ---\n",
        "1 | +  | -\tunary \n",
        "2 |\t** |    \t\n",
        "3\t| *, /, //, %\t|\n",
        "4\t| +, - |\tbinary\n",
        "\n",
        "*   ( )\n",
        "*   exponen **\n",
        "* perkalian, pembagian, modulus dan floor * / % //\n",
        "* pertambahan dan pengurangan + -\n",
        "\n",
        ".............................................................................................\n",
        "\n",
        "\n",
        "\n",
        "*   ** (exponen)\n",
        "*   ~ + - (Bitwise)\n",
        "*   \\* / % // \n",
        "*   \\+ \\-\n",
        "*   \\>\\>, <<\n",
        "*   &\n",
        "*   ^, |\n",
        "*   <=, <, >, >=\n",
        "*   <>, ==, !=\n",
        "*   =, %=, /=, //=, -=, +=, *=, **=\n",
        "*   is, is not\n",
        "*   in, not in\n",
        "*   not, or, and\n",
        "\n",
        "\n"
      ]
    },
    {
      "cell_type": "markdown",
      "metadata": {
        "id": "0zXRusP45P18"
      },
      "source": [
        "# **Conditions**\n",
        "\n",
        "-------------------------\n",
        "\n",
        "IF EXPRESSION\n",
        "\n",
        "`if conditions :`\n",
        "\n",
        "...`expression`\n",
        "\n",
        "-------------------------\n",
        "\n",
        "IF ELSE EXPRESSION\n",
        "\n",
        "`if conditions :`\n",
        "\n",
        "...`expression`\n",
        "\n",
        "`else :`\n",
        "\n",
        "...`expression`\n",
        "\n",
        "-------------------------\n",
        "\n",
        "IF ELIF EXPRESSION\n",
        "\n",
        "`if conditions:`\n",
        "\n",
        "...`expression`\n",
        "\n",
        "`elif conditions:`\n",
        "\n",
        "...`expression`\n",
        "\n",
        "-------------------------\n",
        "\n",
        "IF ELIF EXPRESSION\n",
        "\n",
        "`if conditions:`\n",
        "\n",
        "...`expression`\n",
        "\n",
        "`elif conditions:`\n",
        "\n",
        "...`expression`\n",
        "\n",
        "`else :`\n",
        "\n",
        "...`expression`"
      ]
    },
    {
      "cell_type": "markdown",
      "metadata": {
        "id": "TF3JoqHqhWy7"
      },
      "source": [
        "## **If**\n",
        "\n",
        "An if statement is a programming conditional statement that, if proved true, performs a function or displays information.\n",
        "\n",
        "An \"if statement\" is written by using the **if** keyword."
      ]
    },
    {
      "cell_type": "code",
      "metadata": {
        "id": "2lYwI7hOmZVs",
        "colab": {
          "base_uri": "https://localhost:8080/"
        },
        "outputId": "103c31a7-0a28-4212-b016-94c337e89df6"
      },
      "source": [
        "if 40 > 20 :\n",
        "    print('40 is larger than 20!')"
      ],
      "execution_count": 136,
      "outputs": [
        {
          "output_type": "stream",
          "name": "stdout",
          "text": [
            "40 is larger than 20!\n"
          ]
        }
      ]
    },
    {
      "cell_type": "markdown",
      "metadata": {
        "id": "f0O7E0il7U_Z"
      },
      "source": [
        "Things to remember is that if statement using indentation to define scope in the code while other programming language often use curly-brackets."
      ]
    },
    {
      "cell_type": "markdown",
      "metadata": {
        "id": "exN9N4X0hckG"
      },
      "source": [
        "## **Elif**\n",
        "\n",
        "The **elif** keyword is pythons way of saying \"if the previous conditions were not true, then try this condition\"."
      ]
    },
    {
      "cell_type": "code",
      "metadata": {
        "id": "gRPJpLra7SMc",
        "colab": {
          "base_uri": "https://localhost:8080/"
        },
        "outputId": "cb8dd155-e37b-4d37-c873-0507668a51c2"
      },
      "source": [
        "num1 = 10\n",
        "num2 = 10\n",
        "\n",
        "if num1 > num2:\n",
        "    print(\"{} is greater than {}\".format(num1, num2))\n",
        "elif num1 == num2:\n",
        "    print(\"{} and {} are equal\".format(num1, num2))"
      ],
      "execution_count": 137,
      "outputs": [
        {
          "output_type": "stream",
          "name": "stdout",
          "text": [
            "10 and 10 are equal\n"
          ]
        }
      ]
    },
    {
      "cell_type": "markdown",
      "metadata": {
        "id": "Gqogg3pgj04X"
      },
      "source": [
        "## **Else**\n",
        "\n",
        "The **else** keyword catches anything which isn't caught by the preceding conditions."
      ]
    },
    {
      "cell_type": "code",
      "metadata": {
        "id": "KIPxLRF2jS4M",
        "colab": {
          "base_uri": "https://localhost:8080/"
        },
        "outputId": "a5d6e99b-7f17-4fbe-ebfa-49c5ffc93833"
      },
      "source": [
        "num1 = 10\n",
        "num2 = 100\n",
        "\n",
        "if num1 > num2:\n",
        "    print(\"{} is greater than {}\".format(num1, num2))\n",
        "elif num1 == num2:\n",
        "    print(\"{} and {} are equal\".format(num1, num2))\n",
        "else:\n",
        "    print(\"{} is less than {}\".format(num1, num2))\n"
      ],
      "execution_count": 138,
      "outputs": [
        {
          "output_type": "stream",
          "name": "stdout",
          "text": [
            "10 is less than 100\n"
          ]
        }
      ]
    },
    {
      "cell_type": "code",
      "metadata": {
        "id": "ACZH5yZOGs9h",
        "colab": {
          "base_uri": "https://localhost:8080/"
        },
        "outputId": "134520c5-939b-4865-a7eb-b689b43b1503"
      },
      "source": [
        "nilai = 'D'\n",
        " \n",
        "if nilai == 'A':\n",
        "  print('Pertahankan')\n",
        "elif nilai == 'B':\n",
        "  print('Harus lebih baik lagi')\n",
        "elif nilai == 'C':\n",
        "  print('Perbanyak belajar')\n",
        "elif nilai == 'D':\n",
        "  print('Jangan keseringan main')\n",
        "elif nilai == 'E':\n",
        "  print('Kebanyakan bolos...')\n",
        "else:\n",
        "  print('Maaf, format nilai tidak sesuai')"
      ],
      "execution_count": 139,
      "outputs": [
        {
          "output_type": "stream",
          "name": "stdout",
          "text": [
            "Jangan keseringan main\n"
          ]
        }
      ]
    },
    {
      "cell_type": "markdown",
      "metadata": {
        "id": "pUyTqKddkgmv"
      },
      "source": [
        "## **Short Hand If**\n",
        "\n",
        "If you have only one statement to execute, you can put it on the same line as the if statement."
      ]
    },
    {
      "cell_type": "code",
      "metadata": {
        "id": "CKCSFVErkdIv",
        "colab": {
          "base_uri": "https://localhost:8080/"
        },
        "outputId": "9bf04015-3b49-4c42-9c80-2c689eaeb4ca"
      },
      "source": [
        "num1 = 100\n",
        "num2 = 10\n",
        "\n",
        "if num1 > num2: print(\"num1 is greater than num2\")"
      ],
      "execution_count": 140,
      "outputs": [
        {
          "output_type": "stream",
          "name": "stdout",
          "text": [
            "num1 is greater than num2\n"
          ]
        }
      ]
    },
    {
      "cell_type": "code",
      "metadata": {
        "colab": {
          "base_uri": "https://localhost:8080/"
        },
        "id": "t6Q69jip_QHg",
        "outputId": "775f0fac-3f08-4e2c-94c3-b951d566f181"
      },
      "source": [
        "# Read two numbers\n",
        "number1 = int(input(\"Enter the first number: \"))\n",
        "number2 = int(input(\"Enter the second number: \"))\n",
        "\n",
        "# Choose the larger number\n",
        "if number1 > number2: larger_number = number1\n",
        "else: larger_number = number2\n",
        "\n",
        "# Print the result\n",
        "print(\"The larger number is:\", larger_number)"
      ],
      "execution_count": 141,
      "outputs": [
        {
          "output_type": "stream",
          "name": "stdout",
          "text": [
            "Enter the first number: 3\n",
            "Enter the second number: 5\n",
            "The larger number is: 5\n"
          ]
        }
      ]
    },
    {
      "cell_type": "markdown",
      "metadata": {
        "id": "KAsTBQDfkvXS"
      },
      "source": [
        "## **Short Hand If - Else**\n",
        "\n",
        "If you have only one statement to execute, one for if, and one for else, you can put it all on the same line:"
      ]
    },
    {
      "cell_type": "code",
      "metadata": {
        "id": "MrEE3kpqksVx",
        "colab": {
          "base_uri": "https://localhost:8080/"
        },
        "outputId": "2f1ed07b-84c5-416d-b900-b112f5a84f22"
      },
      "source": [
        "num1 = 100\n",
        "num2 = 10\n",
        "\n",
        "print(\"The bigger number is :\")\n",
        "print(\"num1\") if num1 > num2 else print(\"num2\")"
      ],
      "execution_count": 142,
      "outputs": [
        {
          "output_type": "stream",
          "name": "stdout",
          "text": [
            "The bigger number is :\n",
            "num1\n"
          ]
        }
      ]
    },
    {
      "cell_type": "code",
      "metadata": {
        "id": "mtdqt-_Q6WMm",
        "colab": {
          "base_uri": "https://localhost:8080/"
        },
        "outputId": "482acd7b-764c-44b3-a0ac-be3287c3c600"
      },
      "source": [
        "a = 330\n",
        "b = 330\n",
        "print(\"A\") if a > b else print(\"=\") if a == b else print(\"B\")"
      ],
      "execution_count": 143,
      "outputs": [
        {
          "output_type": "stream",
          "name": "stdout",
          "text": [
            "=\n"
          ]
        }
      ]
    },
    {
      "cell_type": "markdown",
      "metadata": {
        "id": "8lu15YlDn3LM"
      },
      "source": [
        "## **Nested If**\n",
        "\n",
        "You can have if statements inside if statements, this is called nested if statements."
      ]
    },
    {
      "cell_type": "code",
      "metadata": {
        "id": "y7HvCTuAlFi6",
        "colab": {
          "base_uri": "https://localhost:8080/"
        },
        "outputId": "5b6f0add-605a-4e7a-ff5c-d9d6117f6dea"
      },
      "source": [
        "num = 30\n",
        "\n",
        "if num > 10:\n",
        "  print(\"Above ten,\")\n",
        "  if num > 20:\n",
        "    print(\"and also above 20!\")\n",
        "  else:\n",
        "    print(\"but not above 20.\")"
      ],
      "execution_count": 144,
      "outputs": [
        {
          "output_type": "stream",
          "name": "stdout",
          "text": [
            "Above ten,\n",
            "and also above 20!\n"
          ]
        }
      ]
    },
    {
      "cell_type": "markdown",
      "metadata": {
        "id": "uzBtaDhI6gWF"
      },
      "source": [
        "## **Conditions with Logika Operators**"
      ]
    },
    {
      "cell_type": "code",
      "metadata": {
        "id": "yogn0BXi6lcD",
        "colab": {
          "base_uri": "https://localhost:8080/"
        },
        "outputId": "396a457b-0286-4a70-de93-0841f92ba869"
      },
      "source": [
        "a = 200\n",
        "b = 33\n",
        "c = 500\n",
        "if a > b and c > a:\n",
        "  print(\"Both conditions are True\")"
      ],
      "execution_count": 145,
      "outputs": [
        {
          "output_type": "stream",
          "name": "stdout",
          "text": [
            "Both conditions are True\n"
          ]
        }
      ]
    },
    {
      "cell_type": "code",
      "metadata": {
        "id": "fa5gJA5n6unl",
        "colab": {
          "base_uri": "https://localhost:8080/"
        },
        "outputId": "11716d51-c637-42eb-f54b-d75e8161c5b7"
      },
      "source": [
        "a = 200\n",
        "b = 33\n",
        "c = 500\n",
        "if a > b or a > c:\n",
        "  print(\"At least one of the conditions is True\")"
      ],
      "execution_count": 146,
      "outputs": [
        {
          "output_type": "stream",
          "name": "stdout",
          "text": [
            "At least one of the conditions is True\n"
          ]
        }
      ]
    },
    {
      "cell_type": "code",
      "metadata": {
        "id": "Y3bg_HyJ-8Sv",
        "colab": {
          "base_uri": "https://localhost:8080/"
        },
        "outputId": "30d246ee-9b9e-4fec-9081-362c355a284d"
      },
      "source": [
        "nilai = 60\n",
        "\n",
        "if 80 <= nilai <= 100 :\n",
        "  print('nilai anda adalah A')\n",
        "elif 70 <= nilai < 80 :\n",
        "  print('nilai anda adalah B')\n",
        "elif 60 <= nilai < 70 :\n",
        "  print('nilai anda adalah C')\n",
        "elif 50 <= nilai < 60 :\n",
        "  print('nilai anda adalah T, Lakukan perbaikan')\n",
        "else :\n",
        "  print('Maaf Anda tidak lulus')"
      ],
      "execution_count": 147,
      "outputs": [
        {
          "output_type": "stream",
          "name": "stdout",
          "text": [
            "nilai anda adalah C\n"
          ]
        }
      ]
    },
    {
      "cell_type": "markdown",
      "metadata": {
        "id": "bcRmD3bl-EhK"
      },
      "source": [
        "## **Conditions with Membership and Identity Operators**"
      ]
    },
    {
      "cell_type": "code",
      "metadata": {
        "id": "bSUTf-HM-Qqd",
        "colab": {
          "base_uri": "https://localhost:8080/"
        },
        "outputId": "47fe32dc-b1c2-4be9-dac9-4d6a276510b9"
      },
      "source": [
        "nilai1 = 60\n",
        "nilai2 = 50\n",
        "\n",
        "if nilai1 is 60 :\n",
        "  print('Nilainya benar sama dengan 60')\n",
        "\n",
        "if nilai2 is not 60 :\n",
        "  print('Nilainya benar tidak sama dengan 60')"
      ],
      "execution_count": 148,
      "outputs": [
        {
          "output_type": "stream",
          "name": "stdout",
          "text": [
            "Nilainya benar sama dengan 60\n",
            "Nilainya benar tidak sama dengan 60\n"
          ]
        }
      ]
    },
    {
      "cell_type": "code",
      "metadata": {
        "id": "sAnCjaGJ_sQN",
        "colab": {
          "base_uri": "https://localhost:8080/"
        },
        "outputId": "28624ee5-52ca-4287-fc35-750d73787e1a"
      },
      "source": [
        "data = [1, 2, 3, 4, 5, 6, 7, 8]\n",
        "\n",
        "if 4 in data:\n",
        "  print('Nilainya 4 ada')\n",
        "\n",
        "if 9 not in data:\n",
        "  print('Nilai 9 tidak ada')\n",
        "\n",
        "nama = 'Nur Imam Masri'\n",
        "\n",
        "if 'I' in nama:\n",
        "  print('Huruf I ada')\n",
        "\n",
        "if not 'U' in nama:\n",
        "  print('Huruf U  tidak ada')"
      ],
      "execution_count": 149,
      "outputs": [
        {
          "output_type": "stream",
          "name": "stdout",
          "text": [
            "Nilainya 4 ada\n",
            "Nilai 9 tidak ada\n",
            "Huruf I ada\n",
            "Huruf U  tidak ada\n"
          ]
        }
      ]
    },
    {
      "cell_type": "code",
      "metadata": {
        "colab": {
          "base_uri": "https://localhost:8080/"
        },
        "id": "Tc4O0OcukGhI",
        "outputId": "f2865a79-af10-401d-9b68-9a5f2c773321"
      },
      "source": [
        "pol_eng_dictionary = {\n",
        "    \"zamek\": \"castle\",\n",
        "    \"woda\": \"water\",\n",
        "    \"gleba\": \"soil\"\n",
        "    }\n",
        "\n",
        "if \"zamek\" in pol_eng_dictionary:\n",
        "    print(\"Yes\")\n",
        "else:\n",
        "    print(\"No\")"
      ],
      "execution_count": 150,
      "outputs": [
        {
          "output_type": "stream",
          "name": "stdout",
          "text": [
            "Yes\n"
          ]
        }
      ]
    },
    {
      "cell_type": "markdown",
      "metadata": {
        "id": "FiheqduRhcDf"
      },
      "source": [
        "## **Ternary**\n",
        "\n",
        "Ternary operator lebih dikenal sebagai conditional expressions pada Python. Operator menentukan sesuatu berdasarkan kondisi True atau False. Jika statement atau klausa if Anda cukup sederhana, maka ternary Operators akan sangat membantu.\n",
        "\n",
        "`condition_if_true if condition else condition_if_false`\n",
        "\n",
        "`(condition_if_false, condition_if_true)[condition]`"
      ]
    },
    {
      "cell_type": "code",
      "metadata": {
        "id": "LYYrxPXjhzQi",
        "colab": {
          "base_uri": "https://localhost:8080/"
        },
        "outputId": "8b362847-4488-4420-af81-7473f4443230"
      },
      "source": [
        "is_nice = True\n",
        "if is_nice:\n",
        "  state = \"nice\"\n",
        "else:\n",
        "  state = \"not nice\"\n",
        "\n",
        "print(state)\n",
        "\n",
        "is_nice = True\n",
        "state = \"nice\" if is_nice else \"not nice\"\n",
        "\n",
        "print(state)"
      ],
      "execution_count": 151,
      "outputs": [
        {
          "output_type": "stream",
          "name": "stdout",
          "text": [
            "nice\n",
            "nice\n"
          ]
        }
      ]
    },
    {
      "cell_type": "markdown",
      "metadata": {
        "id": "e8UL9VoNiXC6"
      },
      "source": [
        "Opsi lain dari ternary operators melibatkan tuples. \n",
        "\n",
        "Pada tuple ini, dimanfaatkan nilai [0] sebagai False dan [1] sebagai True.\n",
        "\n",
        "Contoh kodenya berikut:"
      ]
    },
    {
      "cell_type": "code",
      "metadata": {
        "id": "-1idbI9AiIfP",
        "colab": {
          "base_uri": "https://localhost:8080/"
        },
        "outputId": "e01750ea-296d-45a7-8682-265c6c3ac9a9"
      },
      "source": [
        "nice = True\n",
        "if (nice):\n",
        "  personality=\"nice\"\n",
        "else:\n",
        "  personality=\"mean\"\n",
        "\n",
        "print(personality)\n",
        "\n",
        "nice = True\n",
        "personality = (\"mean\", \"nice\")[nice]\n",
        "\n",
        "print(personality)"
      ],
      "execution_count": 152,
      "outputs": [
        {
          "output_type": "stream",
          "name": "stdout",
          "text": [
            "nice\n",
            "nice\n"
          ]
        }
      ]
    },
    {
      "cell_type": "markdown",
      "metadata": {
        "id": "THimM7EQoDhW"
      },
      "source": [
        "# **Looping**\n",
        "\n",
        "Python has two primitive loop commands:\n",
        "- **while** loops\n",
        "- **for** loops"
      ]
    },
    {
      "cell_type": "markdown",
      "metadata": {
        "id": "Wx28cRRIoXP3"
      },
      "source": [
        "## **While Loop**\n",
        "\n",
        "With the while loop we can execute a set of statements as long as a condition is true."
      ]
    },
    {
      "cell_type": "code",
      "metadata": {
        "id": "MnQPAMcyndYS",
        "colab": {
          "base_uri": "https://localhost:8080/"
        },
        "outputId": "6237c4b3-1c64-4aef-a47b-62d6c6ccd9db"
      },
      "source": [
        "# Print one to five\n",
        "i = 1\n",
        "while i <= 5:\n",
        "    print(i)\n",
        "    i += 1          # increment by one"
      ],
      "execution_count": 153,
      "outputs": [
        {
          "output_type": "stream",
          "name": "stdout",
          "text": [
            "1\n",
            "2\n",
            "3\n",
            "4\n",
            "5\n"
          ]
        }
      ]
    },
    {
      "cell_type": "code",
      "metadata": {
        "id": "UTWVypK9Dehz",
        "colab": {
          "base_uri": "https://localhost:8080/"
        },
        "outputId": "40795d13-6424-4657-d101-89d7ee4ff9b4"
      },
      "source": [
        "\"\"\"\n",
        "TODO : Try to print a triangle like this :\n",
        "*\n",
        "**\n",
        "***\n",
        "****\n",
        "*****\n",
        "\"\"\";\n",
        "i=1\n",
        "while i<=5:\n",
        "  j=1\n",
        "  while j<=i :\n",
        "    print('*', end='')\n",
        "    j+=1\n",
        "  print('', end='\\n')\n",
        "  i+=1\n"
      ],
      "execution_count": 154,
      "outputs": [
        {
          "output_type": "stream",
          "name": "stdout",
          "text": [
            "*\n",
            "**\n",
            "***\n",
            "****\n",
            "*****\n"
          ]
        }
      ]
    },
    {
      "cell_type": "markdown",
      "metadata": {
        "id": "Svy08mGH-nkm"
      },
      "source": [
        "### **Break Statement**\n",
        "\n",
        "With the **break** statement we can stop the loop even if the while condition is true."
      ]
    },
    {
      "cell_type": "code",
      "metadata": {
        "id": "Qb4YYmDEozN1",
        "colab": {
          "base_uri": "https://localhost:8080/"
        },
        "outputId": "e5099509-763f-4757-9fa4-dec1d8ae582f"
      },
      "source": [
        "i = 1\n",
        "while i <= 5:\n",
        "    print(i)\n",
        "    if i == 4:\n",
        "        break\n",
        "    i += 1"
      ],
      "execution_count": 155,
      "outputs": [
        {
          "output_type": "stream",
          "name": "stdout",
          "text": [
            "1\n",
            "2\n",
            "3\n",
            "4\n"
          ]
        }
      ]
    },
    {
      "cell_type": "code",
      "metadata": {
        "id": "MsunMgv6_A2k",
        "colab": {
          "base_uri": "https://localhost:8080/"
        },
        "outputId": "abf4aca7-5afc-4eba-9120-4763d2d62392"
      },
      "source": [
        "i = 1\n",
        "while i <= 5:\n",
        "    if i == 4:\n",
        "        break\n",
        "    print(i)\n",
        "    i += 1"
      ],
      "execution_count": 156,
      "outputs": [
        {
          "output_type": "stream",
          "name": "stdout",
          "text": [
            "1\n",
            "2\n",
            "3\n"
          ]
        }
      ]
    },
    {
      "cell_type": "code",
      "metadata": {
        "id": "DB1OzL00noRw",
        "colab": {
          "base_uri": "https://localhost:8080/"
        },
        "outputId": "5b53b19a-452a-472e-d6b5-33c6eb6a11e0"
      },
      "source": [
        "i = 2\n",
        "while(i < 100):\n",
        "    j = 2\n",
        "    while(j <= (i/j)):\n",
        "        if not(i%j): break\n",
        "        j = j + 1\n",
        "    if (j > i/j) : print(i, \" is prime\")\n",
        "    i = i + 1\n",
        "\n",
        "print(\"Good bye!\")"
      ],
      "execution_count": 157,
      "outputs": [
        {
          "output_type": "stream",
          "name": "stdout",
          "text": [
            "2  is prime\n",
            "3  is prime\n",
            "5  is prime\n",
            "7  is prime\n",
            "11  is prime\n",
            "13  is prime\n",
            "17  is prime\n",
            "19  is prime\n",
            "23  is prime\n",
            "29  is prime\n",
            "31  is prime\n",
            "37  is prime\n",
            "41  is prime\n",
            "43  is prime\n",
            "47  is prime\n",
            "53  is prime\n",
            "59  is prime\n",
            "61  is prime\n",
            "67  is prime\n",
            "71  is prime\n",
            "73  is prime\n",
            "79  is prime\n",
            "83  is prime\n",
            "89  is prime\n",
            "97  is prime\n",
            "Good bye!\n"
          ]
        }
      ]
    },
    {
      "cell_type": "markdown",
      "metadata": {
        "id": "OhzNQxx7_s78"
      },
      "source": [
        "### **Continue Statement**\n",
        "\n",
        "With the **continue** statement we can stop the current iteration, and continue with the next. Remember to put increment before continue statement."
      ]
    },
    {
      "cell_type": "code",
      "metadata": {
        "id": "FJWOzgg6_GCu",
        "colab": {
          "base_uri": "https://localhost:8080/"
        },
        "outputId": "fefc8fc6-b66b-4caa-d977-ff63c94d1280"
      },
      "source": [
        "i = 0\n",
        "while i < 5:\n",
        "    i += 1\n",
        "    if i == 4:\n",
        "        continue\n",
        "    print(i)"
      ],
      "execution_count": 158,
      "outputs": [
        {
          "output_type": "stream",
          "name": "stdout",
          "text": [
            "1\n",
            "2\n",
            "3\n",
            "5\n"
          ]
        }
      ]
    },
    {
      "cell_type": "markdown",
      "metadata": {
        "id": "VoBe8dLa69Pw"
      },
      "source": [
        "### **Pass Statement**\n",
        "\n",
        "Digunakan jika Anda menginginkan sebuah pernyataan atau blok pernyataan (statement), namun tidak melakukan apapun - melanjutkan eksekusi sesuai dengan seharusnya. Kontrol ini banyak digunakan saat Anda belum melakukan implementasi (dan mengisi pernyataan dengan seharusnya), serta membiarkan program tetap berjalan saat misalnya Anda mengalami kegagalan atau exception.\n",
        "\n",
        "Pass statement adalah operasi bersifat Null (kosong), tidak ada yang terjadi saat ia dipanggil. \n",
        "\n",
        "if statements cannot be empty, but if you for some reason have an if statement with no content, put in the pass statement to avoid getting an error."
      ]
    },
    {
      "cell_type": "code",
      "metadata": {
        "id": "0wwHYAbw7Fbs"
      },
      "source": [
        "a = 33\n",
        "b = 200\n",
        "\n",
        "if b > a:\n",
        "  pass"
      ],
      "execution_count": 159,
      "outputs": []
    },
    {
      "cell_type": "markdown",
      "metadata": {
        "id": "FR37s70j7-XA"
      },
      "source": [
        "### **While Else**\n",
        "\n",
        "With the else statement we can run a block of code once when the condition no longer is true\n",
        "\n",
        "Berbeda dengan Else setelah For, pada statement while, blok statement else akan selalu dieksekusi saat kondisi pada while menjadi salah."
      ]
    },
    {
      "cell_type": "code",
      "metadata": {
        "id": "XbUVXm0i8E7n",
        "colab": {
          "base_uri": "https://localhost:8080/"
        },
        "outputId": "62b8fb55-8157-4f3d-fe32-f831c23509ff"
      },
      "source": [
        "i = 1\n",
        "while i < 6:\n",
        "  print(i)\n",
        "  i += 1\n",
        "else:\n",
        "  print(\"i is no longer less than 6\")"
      ],
      "execution_count": 160,
      "outputs": [
        {
          "output_type": "stream",
          "name": "stdout",
          "text": [
            "1\n",
            "2\n",
            "3\n",
            "4\n",
            "5\n",
            "i is no longer less than 6\n"
          ]
        }
      ]
    },
    {
      "cell_type": "code",
      "metadata": {
        "id": "rcai-cHQmoyN",
        "colab": {
          "base_uri": "https://localhost:8080/"
        },
        "outputId": "2f878333-7efa-4db1-c258-1dc05b093910"
      },
      "source": [
        "n = 5\n",
        "while n > 0:\n",
        "    n = n - 1\n",
        "    if n == 2:\n",
        "        break\n",
        "    print(n)\n",
        "else:\n",
        "    print(\"Loop is finished\")"
      ],
      "execution_count": 161,
      "outputs": [
        {
          "output_type": "stream",
          "name": "stdout",
          "text": [
            "4\n",
            "3\n"
          ]
        }
      ]
    },
    {
      "cell_type": "markdown",
      "metadata": {
        "id": "ieGqGlasAj1l"
      },
      "source": [
        "## **For Loop**\n",
        "\n",
        "A **for** loop is used for iterating over a sequence (that is either a list, a tuple, a dictionary, a set, or a string).\n",
        "\n",
        "This is less like the for keyword in other programming languages, and works more like an iterator method as found in other object-orientated programming languages.\n",
        "\n",
        "With the for loop we can execute a set of statements, once for each item in a list, tuple, set etc."
      ]
    },
    {
      "cell_type": "code",
      "metadata": {
        "id": "sPD7ewchnZRo",
        "colab": {
          "base_uri": "https://localhost:8080/"
        },
        "outputId": "434f8206-48ca-4513-ab04-25e0a32bba64"
      },
      "source": [
        "#Contoh pengulangan for sederhana\n",
        "angka = [1,2,3,4,5]\n",
        "for x in angka:\n",
        "    print(x)\n",
        "\n",
        "#Contoh pengulangan for\n",
        "buah = [\"nanas\", \"apel\", \"jeruk\"]\n",
        "for makanan in buah:\n",
        "    print (\"Saya suka makan\", makanan)"
      ],
      "execution_count": 162,
      "outputs": [
        {
          "output_type": "stream",
          "name": "stdout",
          "text": [
            "1\n",
            "2\n",
            "3\n",
            "4\n",
            "5\n",
            "Saya suka makan nanas\n",
            "Saya suka makan apel\n",
            "Saya suka makan jeruk\n"
          ]
        }
      ]
    },
    {
      "cell_type": "code",
      "metadata": {
        "id": "nDiQ-ZjS_8mH",
        "colab": {
          "base_uri": "https://localhost:8080/"
        },
        "outputId": "da171d29-5398-49c6-f7bf-1ed2784929f8"
      },
      "source": [
        "for text in ['DSC', 'Universitas', 'Hasanuddin']:\n",
        "    print(text)"
      ],
      "execution_count": 163,
      "outputs": [
        {
          "output_type": "stream",
          "name": "stdout",
          "text": [
            "DSC\n",
            "Universitas\n",
            "Hasanuddin\n"
          ]
        }
      ]
    },
    {
      "cell_type": "markdown",
      "metadata": {
        "id": "kldMh05PBJSs"
      },
      "source": [
        "Even strings are iterable objects, they contain a sequence of characters."
      ]
    },
    {
      "cell_type": "code",
      "metadata": {
        "id": "cYmXO9kFA9AW",
        "colab": {
          "base_uri": "https://localhost:8080/"
        },
        "outputId": "34197cf8-3e41-4835-c8f0-9c10d23df051"
      },
      "source": [
        "for char in 'DSC Unhas':\n",
        "    print(char)"
      ],
      "execution_count": 164,
      "outputs": [
        {
          "output_type": "stream",
          "name": "stdout",
          "text": [
            "D\n",
            "S\n",
            "C\n",
            " \n",
            "U\n",
            "n\n",
            "h\n",
            "a\n",
            "s\n"
          ]
        }
      ]
    },
    {
      "cell_type": "markdown",
      "metadata": {
        "id": "-Na-zXosBWK8"
      },
      "source": [
        "### **range()**\n",
        "\n",
        "To loop through a set of code a specified number of times, we can use the range() function,\n",
        "The range() function returns a sequence of numbers, starting from 0 by default, and increments by 1 (by default), and ends at a specified number."
      ]
    },
    {
      "cell_type": "markdown",
      "metadata": {
        "id": "xtTUumh8B8rF"
      },
      "source": [
        "You can pass up to 3 parameter to range() :\n",
        "- *start* : **Optional**. An integer number specifying at which position to start. Default is 0.\n",
        "- *stop* : **Required**. An integer number specifying at which position to end.\n",
        "- *step* : **Optional**. An integer number specifying the incrementation. Default is 1.\n",
        "\n",
        " range(5) => 0, 1, 2, 3, 4\n",
        "\n",
        " range(2, 5) => 2, 3, 4\n",
        "\n",
        " range(1, 8, 2) => 1, 3, 5, 7"
      ]
    },
    {
      "cell_type": "code",
      "metadata": {
        "id": "exJZDMkwBSge",
        "colab": {
          "base_uri": "https://localhost:8080/"
        },
        "outputId": "d9254d9c-9756-49e7-d38a-eff5899ad1fd"
      },
      "source": [
        "range(10)"
      ],
      "execution_count": 165,
      "outputs": [
        {
          "output_type": "execute_result",
          "data": {
            "text/plain": [
              "range(0, 10)"
            ]
          },
          "metadata": {},
          "execution_count": 165
        }
      ]
    },
    {
      "cell_type": "code",
      "metadata": {
        "id": "CyqizwcABj07",
        "colab": {
          "base_uri": "https://localhost:8080/"
        },
        "outputId": "71467d5b-085c-43a7-f838-0c94de6be601"
      },
      "source": [
        "for i in range(10):\n",
        "    print(i, end=\" \")"
      ],
      "execution_count": 166,
      "outputs": [
        {
          "output_type": "stream",
          "name": "stdout",
          "text": [
            "0 1 2 3 4 5 6 7 8 9 "
          ]
        }
      ]
    },
    {
      "cell_type": "code",
      "metadata": {
        "id": "h-INkW-WHRvA",
        "colab": {
          "base_uri": "https://localhost:8080/"
        },
        "outputId": "14d723af-9582-445b-d8c6-a885f325e49c"
      },
      "source": [
        "for i in range(5,10):\n",
        "  print(i, end=\" \")"
      ],
      "execution_count": 167,
      "outputs": [
        {
          "output_type": "stream",
          "name": "stdout",
          "text": [
            "5 6 7 8 9 "
          ]
        }
      ]
    },
    {
      "cell_type": "code",
      "metadata": {
        "id": "K4c84qwGHWUa",
        "colab": {
          "base_uri": "https://localhost:8080/"
        },
        "outputId": "063ec1ed-7c21-4ec7-dddf-6711375f876a"
      },
      "source": [
        "for i in range(3,100,3):\n",
        "  print(i, end=\" \")"
      ],
      "execution_count": 168,
      "outputs": [
        {
          "output_type": "stream",
          "name": "stdout",
          "text": [
            "3 6 9 12 15 18 21 24 27 30 33 36 39 42 45 48 51 54 57 60 63 66 69 72 75 78 81 84 87 90 93 96 99 "
          ]
        }
      ]
    },
    {
      "cell_type": "code",
      "metadata": {
        "colab": {
          "base_uri": "https://localhost:8080/"
        },
        "id": "0sdhSYgpIgNR",
        "outputId": "d9624f30-ab5f-485e-c623-708e4083c20b"
      },
      "source": [
        "for i in range(3):\n",
        "    print(i, end=\" \")  # Outputs: 0 1 2\n",
        "\n",
        "for i in range(6, 1, -2):\n",
        "    print(i, end=\" \")  # Outputs: 6, 4, 2"
      ],
      "execution_count": 169,
      "outputs": [
        {
          "output_type": "stream",
          "name": "stdout",
          "text": [
            "0 1 2 6 4 2 "
          ]
        }
      ]
    },
    {
      "cell_type": "code",
      "metadata": {
        "id": "nOjf-z8lBsYj",
        "colab": {
          "base_uri": "https://localhost:8080/"
        },
        "outputId": "88491e80-903d-4cc8-d2ef-1c6d8a286f04"
      },
      "source": [
        "# TODO : Try to print 3, 7, 11, 15, 19, 23\n",
        "for i in range(3, 24, 4):\n",
        "  print(i, end=\" \")"
      ],
      "execution_count": 170,
      "outputs": [
        {
          "output_type": "stream",
          "name": "stdout",
          "text": [
            "3 7 11 15 19 23 "
          ]
        }
      ]
    },
    {
      "cell_type": "markdown",
      "metadata": {
        "id": "MiNj8onZDyGS"
      },
      "source": [
        "### **Nested Loop**\n",
        "\n",
        "A nested loop is a loop inside a loop.\n",
        "\n",
        "The \"inner loop\" will be executed one time for each iteration of the \"outer loop\""
      ]
    },
    {
      "cell_type": "code",
      "metadata": {
        "id": "cexe5r4_C6Bs",
        "colab": {
          "base_uri": "https://localhost:8080/"
        },
        "outputId": "10da5de9-4379-46e9-9bb8-50c243e1bf08"
      },
      "source": [
        "adjectives = [\"big\", \"tasty\"]\n",
        "fruits = [\"apple\", \"banana\", \"cherry\"]\n",
        "\n",
        "for adjective in adjectives:\n",
        "  for fruit in fruits:\n",
        "    print(adjective, fruit)"
      ],
      "execution_count": 171,
      "outputs": [
        {
          "output_type": "stream",
          "name": "stdout",
          "text": [
            "big apple\n",
            "big banana\n",
            "big cherry\n",
            "tasty apple\n",
            "tasty banana\n",
            "tasty cherry\n"
          ]
        }
      ]
    },
    {
      "cell_type": "markdown",
      "metadata": {
        "id": "9k9vLiSUARKI"
      },
      "source": [
        "### **Break Statement**\n",
        "\n",
        "With the **break** statement we can stop the loop even if the while condition is true.\n",
        "\n",
        "*keluar/selesai pada looping terdekat*"
      ]
    },
    {
      "cell_type": "code",
      "metadata": {
        "id": "XVqsvnKWpEYt",
        "colab": {
          "base_uri": "https://localhost:8080/"
        },
        "outputId": "9580ee8a-ef92-44f5-f6ee-4eb29baf8105"
      },
      "source": [
        "fruits = [\"apple\", \"banana\", \"cherry\"]\n",
        "for x in fruits:\n",
        "  print(x)\n",
        "  if x == \"banana\":\n",
        "    break"
      ],
      "execution_count": 172,
      "outputs": [
        {
          "output_type": "stream",
          "name": "stdout",
          "text": [
            "apple\n",
            "banana\n"
          ]
        }
      ]
    },
    {
      "cell_type": "code",
      "metadata": {
        "id": "U1i0RXnmCkfb",
        "colab": {
          "base_uri": "https://localhost:8080/"
        },
        "outputId": "68b6d4f1-108e-43ce-e551-f5e5328adc90"
      },
      "source": [
        "for i in range(2) : # lanjut kesini\n",
        "  for j in range(10):\n",
        "    print(j, end=' ')      \n",
        "    if j == 7 :\n",
        "      break # akan keluar pada looping terdekat\n",
        "  print()"
      ],
      "execution_count": 173,
      "outputs": [
        {
          "output_type": "stream",
          "name": "stdout",
          "text": [
            "0 1 2 3 4 5 6 7 \n",
            "0 1 2 3 4 5 6 7 \n"
          ]
        }
      ]
    },
    {
      "cell_type": "markdown",
      "metadata": {
        "id": "cC0L2mHHARKa"
      },
      "source": [
        "### **Continue Statement**\n",
        "\n",
        "With the **continue** statement we can stop the current iteration, and continue with the next. Remember to put increment before continue statement."
      ]
    },
    {
      "cell_type": "code",
      "metadata": {
        "id": "NnCAQQSKpOk6",
        "colab": {
          "base_uri": "https://localhost:8080/"
        },
        "outputId": "34cdc12a-0ee0-49f1-da4e-df745379dbf6"
      },
      "source": [
        "fruits = [\"apple\", \"banana\", \"cherry\"]\n",
        "for x in fruits:\n",
        "  if x == \"banana\":\n",
        "    continue\n",
        "  print(x)"
      ],
      "execution_count": 174,
      "outputs": [
        {
          "output_type": "stream",
          "name": "stdout",
          "text": [
            "apple\n",
            "cherry\n"
          ]
        }
      ]
    },
    {
      "cell_type": "markdown",
      "metadata": {
        "id": "w1Lqge5xARKc"
      },
      "source": [
        "### **Pass Statement**\n",
        "\n",
        "Digunakan jika Anda menginginkan sebuah pernyataan atau blok pernyataan (statement), namun tidak melakukan apapun - melanjutkan eksekusi sesuai dengan seharusnya. Kontrol ini banyak digunakan saat Anda belum melakukan implementasi (dan mengisi pernyataan dengan seharusnya), serta membiarkan program tetap berjalan saat misalnya Anda mengalami kegagalan atau exception.\n",
        "\n",
        "Pass statement adalah operasi bersifat Null (kosong), tidak ada yang terjadi saat ia dipanggil. \n",
        "\n",
        "if statements cannot be empty, but if you for some reason have an if statement with no content, put in the pass statement to avoid getting an error.\n",
        "\n",
        "for loops cannot be empty, but if you for some reason have a for loop with no content, put in the pass statement to avoid getting an error."
      ]
    },
    {
      "cell_type": "code",
      "metadata": {
        "id": "wJSnNJB2pp0l"
      },
      "source": [
        "for x in [0, 1, 2]:\n",
        "  pass"
      ],
      "execution_count": 175,
      "outputs": []
    },
    {
      "cell_type": "markdown",
      "metadata": {
        "id": "N9Qwa3zSARKe"
      },
      "source": [
        "### **For Else**\n",
        "\n",
        "The else keyword in a for loop specifies a block of code to be executed when the loop is finished\n",
        "\n",
        "if there is break statement maka else tidak akan di eksekusi"
      ]
    },
    {
      "cell_type": "code",
      "metadata": {
        "id": "8IZJ8BoEpd7L",
        "colab": {
          "base_uri": "https://localhost:8080/"
        },
        "outputId": "9eb76a2f-9fdc-4f07-c52d-dfff3d23f00e"
      },
      "source": [
        "for x in range(6):\n",
        "  print(x)\n",
        "else:\n",
        "  print(\"Finally finished!\")"
      ],
      "execution_count": 176,
      "outputs": [
        {
          "output_type": "stream",
          "name": "stdout",
          "text": [
            "0\n",
            "1\n",
            "2\n",
            "3\n",
            "4\n",
            "5\n",
            "Finally finished!\n"
          ]
        }
      ]
    },
    {
      "cell_type": "code",
      "metadata": {
        "id": "RMWxJSaDl-Bf",
        "colab": {
          "base_uri": "https://localhost:8080/"
        },
        "outputId": "6cca25f4-e623-44bb-ea42-56b15bf78818"
      },
      "source": [
        "for n in range(2, 10):\n",
        "    for x in range(2, n):\n",
        "        if n % x == 0:\n",
        "            print( n, 'equals', x, '*', n/x)\n",
        "            break\n",
        "    else:\n",
        "        # loop fell through without finding a factor\n",
        "        print(n, 'is a prime number')"
      ],
      "execution_count": 177,
      "outputs": [
        {
          "output_type": "stream",
          "name": "stdout",
          "text": [
            "2 is a prime number\n",
            "3 is a prime number\n",
            "4 equals 2 * 2.0\n",
            "5 is a prime number\n",
            "6 equals 2 * 3.0\n",
            "7 is a prime number\n",
            "8 equals 2 * 4.0\n",
            "9 equals 3 * 3.0\n"
          ]
        }
      ]
    },
    {
      "cell_type": "markdown",
      "metadata": {
        "id": "t-8O5e81GaWX"
      },
      "source": [
        "# **Function**\n",
        "\n",
        "`def nama_fungsi( parameter )`\n",
        "\n",
        "A function is a block of code which only runs when it is called. You can pass data, known as parameters, into a function. A function can return data as a result.\n",
        "\n",
        "In Python, a function is defined using **def** keyword. And to call a function, use the function name followed by parenthesis.\n",
        "\n",
        "Anda dapat menentukan fungsi untuk menyediakan fungsionalitas yang dibutuhkan. Berikut adalah aturan sederhana untuk mendefinisikan fungsi dengan Python.\n",
        "\n",
        "* Fungsi blok dimulai dengan def kata kunci diikuti oleh nama fungsi dan tanda kurung (()).\n",
        "\n",
        "* Setiap parameter masukan atau argumen harus ditempatkan di dalam tanda kurung ini. Anda juga dapat menentukan parameter di dalam tanda kurung ini.\n",
        "\n",
        "* Pernyataan pertama dari sebuah fungsi dapat berupa pernyataan opsional - string dokumentasi fungsi atau docstring.\n",
        "\n",
        "* Blok kode dalam setiap fungsi dimulai dengan titik dua (:) dan indentasi.\n",
        "\n",
        "* Pernyataan kembali [ekspresi] keluar dari sebuah fungsi, secara opsional menyampaikan kembali ekspresi ke pemanggil. Pernyataan pengembalian tanpa argumen sama dengan return None."
      ]
    },
    {
      "cell_type": "markdown",
      "metadata": {
        "id": "ULnZr2ht3sCM"
      },
      "source": [
        "`def nama_fungsi( parameter ):`\n",
        "\n",
        "    `\"dokumentasi fungsi\"`\n",
        "\n",
        "    `statemen atau kode fungsi`\n",
        "\n",
        "   `return [expression]`"
      ]
    },
    {
      "cell_type": "code",
      "metadata": {
        "id": "KFMsKRfnEFxW",
        "colab": {
          "base_uri": "https://localhost:8080/"
        },
        "outputId": "256d9743-f0eb-4439-90ab-2ea83163ebf9"
      },
      "source": [
        "def print_hello():\n",
        "  \"function_docstring\"\n",
        "  print(\"Hello\")\n",
        "\n",
        "print_hello()"
      ],
      "execution_count": 178,
      "outputs": [
        {
          "output_type": "stream",
          "name": "stdout",
          "text": [
            "Hello\n"
          ]
        }
      ]
    },
    {
      "cell_type": "code",
      "metadata": {
        "colab": {
          "base_uri": "https://localhost:8080/"
        },
        "id": "nNem_eml5FZi",
        "outputId": "40ed056a-5043-4e71-9f0b-98d27bc06ffc"
      },
      "source": [
        "def ubah(list_saya):\n",
        "    \"Deklarasi Variabel list_saya berikut hanya dikenali (berlaku) di dalam fungsi ubah\"\n",
        "    list_saya = [1, 2, 3, 4] \n",
        "    print ('Nilai di dalam fungsi: {}'.format(list_saya))\n",
        " \n",
        "# Panggil fungsi ubah\n",
        "list_saya = [10, 20, 30]\n",
        "ubah(list_saya)\n",
        "print('Nilai di luar fungsi: {}'.format(list_saya))"
      ],
      "execution_count": 179,
      "outputs": [
        {
          "output_type": "stream",
          "name": "stdout",
          "text": [
            "Nilai di dalam fungsi: [1, 2, 3, 4]\n",
            "Nilai di luar fungsi: [10, 20, 30]\n"
          ]
        }
      ]
    },
    {
      "cell_type": "markdown",
      "metadata": {
        "id": "uiEX367HHHZe"
      },
      "source": [
        "### **Arguments**\n",
        "\n",
        "**<h4>*What's the different between parameter and arguments*</h4>**\n",
        "\n",
        "From a function's perspective:\n",
        "\n",
        "* A parameter is the variable listed inside the parentheses in the function definition.\n",
        "\n",
        "* An argument is the value that is sent to the function when it is called.\n",
        "\n",
        "Information can be passed into functions as arguments.\n",
        "\n",
        "Arguments are specified after the function name, inside the parentheses. You can add as many arguments as you want, just separate them with a comma.\n",
        "\n",
        "-----------------------------------------------------------------------------------------------------------\n",
        "\n",
        "**Sebagai nilai yang akan dimasukkan pada saat fungsi dipanggil, ada dua jenis argumen:**\n",
        "\n",
        "* Keyword Argument, yakni argumen yang disertai identifier atau nama parameter yang secara eksplisit disebutkan. Hal ini termasuk jika kita mengirimkan nilai melalui dictionary yang diawali dua tanda * (**).\n",
        "\n",
        "* Positional Argument, yakni argumen selain keyword argument. Jika kita mengirimkan variabel bersifat iterable, maka harus diawali tanda *.\n",
        "\n",
        "Contoh:\n",
        "\n",
        "Keyword Argument\n",
        "\n",
        "`daftar(tanggal=1, bulan='Januari', tahun=2020)`\n",
        "\n",
        "`daftar(**{'tanggal': 1, 'bulan': 'Januari', 'tahun'=2020})`\n",
        "\n",
        "Positional Argument\n",
        "\n",
        "`daftar(1,'Januari',2020)`\n",
        "\n",
        "`daftar(*(1, 'Januari, 2020))`\n",
        "\n",
        "Sintaksis prefix * digunakan sebagai penanda iterable di Python, sedangkan prefix ** digunakan sebagai penanda kontainer/dictionary."
      ]
    },
    {
      "cell_type": "code",
      "metadata": {
        "id": "pcNt1n1tHEwT",
        "colab": {
          "base_uri": "https://localhost:8080/"
        },
        "outputId": "422c0d60-7027-4ab0-f21c-bdf7f9581de0"
      },
      "source": [
        "def print_hi(name):\n",
        "    print(\"Hi, \" + name)\n",
        "\n",
        "print_hi(\"DSC Unhas\")"
      ],
      "execution_count": 180,
      "outputs": [
        {
          "output_type": "stream",
          "name": "stdout",
          "text": [
            "Hi, DSC Unhas\n"
          ]
        }
      ]
    },
    {
      "cell_type": "markdown",
      "metadata": {
        "id": "YOPhEeMuHtEm"
      },
      "source": [
        "By default, a function must be called with the correct number of arguments. Meaning that if your function expects 2 arguments, you have to call the function with 2 arguments, not more, and not less."
      ]
    },
    {
      "cell_type": "code",
      "metadata": {
        "id": "xhtjk5YPHe0W",
        "colab": {
          "base_uri": "https://localhost:8080/"
        },
        "outputId": "a29d9917-f315-4670-9fa1-0a970426d0c5"
      },
      "source": [
        "def print_hi(first_name, last_name):\n",
        "    print(\"Hi, \" + first_name + ' ' + last_name)\n",
        "\n",
        "print_hi('Kevin', 'Chandra')"
      ],
      "execution_count": 181,
      "outputs": [
        {
          "output_type": "stream",
          "name": "stdout",
          "text": [
            "Hi, Kevin Chandra\n"
          ]
        }
      ]
    },
    {
      "cell_type": "markdown",
      "metadata": {
        "id": "w_0sabe3sLUH"
      },
      "source": [
        "**<h4>*Passing a List as an Argument*</h4>**\n",
        "\n",
        "You can send any data types of argument to a function (string, number, list, dictionary etc.), and it will be treated as the same data type inside the function."
      ]
    },
    {
      "cell_type": "code",
      "metadata": {
        "id": "LoQJtxCAsNmk",
        "colab": {
          "base_uri": "https://localhost:8080/"
        },
        "outputId": "01cdd331-d37b-4446-f5b7-f40e89b236b3"
      },
      "source": [
        "def my_function(food):\n",
        "  for x in food:\n",
        "    print(x)\n",
        "\n",
        "fruits = [\"apple\", \"banana\", \"cherry\"]\n",
        "\n",
        "my_function(fruits)"
      ],
      "execution_count": 182,
      "outputs": [
        {
          "output_type": "stream",
          "name": "stdout",
          "text": [
            "apple\n",
            "banana\n",
            "cherry\n"
          ]
        }
      ]
    },
    {
      "cell_type": "markdown",
      "metadata": {
        "id": "ERJL480tIEBG"
      },
      "source": [
        "**<h4>*Passing a Function Return as Argumnet*</h4>**\n"
      ]
    },
    {
      "cell_type": "code",
      "metadata": {
        "id": "ycFJsuJdiSGu",
        "colab": {
          "base_uri": "https://localhost:8080/"
        },
        "outputId": "ba92e32f-eb43-433d-b91c-df6fa488ae1a"
      },
      "source": [
        "def multiply_by_10(num):\n",
        "    return num * 10\n",
        "\n",
        "def multiply_by_num(num1, num2):\n",
        "    return num1 * num2\n",
        "\n",
        "print(multiply_by_num(10, multiply_by_10(10)))"
      ],
      "execution_count": 183,
      "outputs": [
        {
          "output_type": "stream",
          "name": "stdout",
          "text": [
            "1000\n"
          ]
        }
      ]
    },
    {
      "cell_type": "markdown",
      "metadata": {
        "id": "RgldoIZ6I9KN"
      },
      "source": [
        "**<h4>*Keyword Arguments*</h4>**\n",
        "\n",
        "You can also send arguments with the key = value syntax.\n",
        "\n",
        "This way the order of the arguments does not matter."
      ]
    },
    {
      "cell_type": "code",
      "metadata": {
        "id": "FwUGIjAtI65X",
        "colab": {
          "base_uri": "https://localhost:8080/"
        },
        "outputId": "e7a4e3bf-ccc7-4dde-84f5-e910addf4314"
      },
      "source": [
        "def print_hi(first_name, last_name):\n",
        "    print(\"Hi, \" + first_name + ' ' + last_name)\n",
        "\n",
        "\n",
        "print_hi(first_name='Imam', last_name='Masri')\n",
        "print_hi(last_name='Chandra', first_name='Kevin')"
      ],
      "execution_count": 184,
      "outputs": [
        {
          "output_type": "stream",
          "name": "stdout",
          "text": [
            "Hi, Imam Masri\n",
            "Hi, Kevin Chandra\n"
          ]
        }
      ]
    },
    {
      "cell_type": "markdown",
      "metadata": {
        "id": "2xV9TkC-IK4k"
      },
      "source": [
        "**<h4>*Arbitrary Arguments* </h4> (**args)*\n",
        "\n",
        "If you do not know how many arguments that will be passed into your function, add a **\\*** before the parameter name in the function definition.\n",
        "\n",
        "This way the function will receive a tuple of arguments, and can access the items accordingly"
      ]
    },
    {
      "cell_type": "code",
      "metadata": {
        "id": "JtXUs-_fIBMN",
        "colab": {
          "base_uri": "https://localhost:8080/"
        },
        "outputId": "adc7a571-3c18-42df-b00a-1534e19a91b7"
      },
      "source": [
        "def kids_list(*kids):\n",
        "    print(\"The oldest child is \" + kids[0])\n",
        "\n",
        "kids_list('Bill', 'Jeff', 'Mark')"
      ],
      "execution_count": 185,
      "outputs": [
        {
          "output_type": "stream",
          "name": "stdout",
          "text": [
            "The oldest child is Bill\n"
          ]
        }
      ]
    },
    {
      "cell_type": "markdown",
      "metadata": {
        "id": "9xbNHSX0JUqw"
      },
      "source": [
        "\n",
        "**<h4>*Arbitrary Keyword Arguments* </h4> (**kwargs)**\n",
        "\n",
        "If you do not know how many keyword arguments that will be passed into your function, add two asterisk: ** before the parameter name in the function definition."
      ]
    },
    {
      "cell_type": "code",
      "metadata": {
        "id": "f11eSW3HI2Fe",
        "colab": {
          "base_uri": "https://localhost:8080/"
        },
        "outputId": "564d4a25-6dd0-4eab-fadf-e356be2bca9a"
      },
      "source": [
        "def kids_list(**kids):\n",
        "  print(\"The oldest child is \" + kids[\"first\"])\n",
        "\n",
        "kids_list(first = \"Bill\", second = \"Jeff\", last = \"Mark\")"
      ],
      "execution_count": 186,
      "outputs": [
        {
          "output_type": "stream",
          "name": "stdout",
          "text": [
            "The oldest child is Bill\n"
          ]
        }
      ]
    },
    {
      "cell_type": "code",
      "metadata": {
        "id": "L32gfWqru1_h",
        "colab": {
          "base_uri": "https://localhost:8080/"
        },
        "outputId": "39eb9ec2-66ac-46bd-e1e2-71b7c1b8114e"
      },
      "source": [
        "def printinfo(*args, **kwargs):\n",
        "    for a in args:\n",
        "        print('argumen posisi {}'.format(a))\n",
        "    for key, value in kwargs.items():\n",
        "        print('argument kata kunci {}:{}'.format(key, value))\n",
        " \n",
        " \n",
        "# Panggil printinfo\n",
        "printinfo()\n",
        "printinfo(1, 2, 3)\n",
        "printinfo(i=7, j=8, k=9)\n",
        "printinfo(1, 2, j=8, k=9)\n",
        "printinfo(*(2, 3), **{'i':7, 'j':8})"
      ],
      "execution_count": 187,
      "outputs": [
        {
          "output_type": "stream",
          "name": "stdout",
          "text": [
            "argumen posisi 1\n",
            "argumen posisi 2\n",
            "argumen posisi 3\n",
            "argument kata kunci i:7\n",
            "argument kata kunci j:8\n",
            "argument kata kunci k:9\n",
            "argumen posisi 1\n",
            "argumen posisi 2\n",
            "argument kata kunci j:8\n",
            "argument kata kunci k:9\n",
            "argumen posisi 2\n",
            "argumen posisi 3\n",
            "argument kata kunci i:7\n",
            "argument kata kunci j:8\n"
          ]
        }
      ]
    },
    {
      "cell_type": "markdown",
      "metadata": {
        "id": "q6FB6h7NJ6fP"
      },
      "source": [
        "### **Default Parameter Value**\n",
        "\n",
        "Default Parameter value is the value that you assigned to a parameter so that if you call the function without argument, it uses the default value."
      ]
    },
    {
      "cell_type": "code",
      "metadata": {
        "id": "QSjYD1FSJ0PA",
        "colab": {
          "base_uri": "https://localhost:8080/"
        },
        "outputId": "186aa3f5-eef0-40f9-b7db-0f088e2c6528"
      },
      "source": [
        "def print_lucky_num(num = 10):\n",
        "    print(\"My lucky number is \" + str(num))\n",
        "\n",
        "print_lucky_num(100)\n",
        "print_lucky_num()"
      ],
      "execution_count": 188,
      "outputs": [
        {
          "output_type": "stream",
          "name": "stdout",
          "text": [
            "My lucky number is 100\n",
            "My lucky number is 10\n"
          ]
        }
      ]
    },
    {
      "cell_type": "code",
      "metadata": {
        "id": "9FYOU4oHG7d_",
        "colab": {
          "base_uri": "https://localhost:8080/"
        },
        "outputId": "ebbf082a-8442-4123-a62b-3f5d98a93945"
      },
      "source": [
        "def penjagaSekolah (nama, shift='siang', galak='tidak') :\n",
        "  print('penjaga sekolah ini bernama = ', nama)\n",
        "  print('shiftnya = ', shift)\n",
        "  print('galak? = ', galak)\n",
        "  print()\n",
        "\n",
        "penjagaSekolah('Entis')\n",
        "penjagaSekolah('Imam', shift='malam')\n",
        "penjagaSekolah('Asep', galak='sangat')\n",
        "# penjagaSekolah(shift='malam', galak-'iya') ERROR"
      ],
      "execution_count": 189,
      "outputs": [
        {
          "output_type": "stream",
          "name": "stdout",
          "text": [
            "penjaga sekolah ini bernama =  Entis\n",
            "shiftnya =  siang\n",
            "galak? =  tidak\n",
            "\n",
            "penjaga sekolah ini bernama =  Imam\n",
            "shiftnya =  malam\n",
            "galak? =  tidak\n",
            "\n",
            "penjaga sekolah ini bernama =  Asep\n",
            "shiftnya =  siang\n",
            "galak? =  sangat\n",
            "\n"
          ]
        }
      ]
    },
    {
      "cell_type": "markdown",
      "metadata": {
        "id": "YnP0HHaHKieL"
      },
      "source": [
        "### **Return Values**\n",
        "\n",
        "To let a function return a value, use the **return** statement."
      ]
    },
    {
      "cell_type": "code",
      "metadata": {
        "id": "GjQXeAT_Kftp",
        "colab": {
          "base_uri": "https://localhost:8080/"
        },
        "outputId": "1f550757-78d3-4f22-a053-bb6aa8c55d46"
      },
      "source": [
        "def multiply_by_10(num):\n",
        "    return num * 10\n",
        "\n",
        "print(multiply_by_10(12))"
      ],
      "execution_count": 190,
      "outputs": [
        {
          "output_type": "stream",
          "name": "stdout",
          "text": [
            "120\n"
          ]
        }
      ]
    },
    {
      "cell_type": "markdown",
      "metadata": {
        "id": "fVfjsjhSHpC3"
      },
      "source": [
        "bisa juga berupa list, tuple, dict dll"
      ]
    },
    {
      "cell_type": "code",
      "metadata": {
        "id": "ewfapETrHsJu",
        "colab": {
          "base_uri": "https://localhost:8080/"
        },
        "outputId": "a27df946-f22f-489c-c591-930e4e819773"
      },
      "source": [
        "def kali(angka1, angka2) :\n",
        "  x = angka1*2\n",
        "  y = angka2*3\n",
        "  return x,y\n",
        "\n",
        "hasil = kali(2,3)\n",
        "print(\"hasil : \", hasil)\n",
        "\n",
        "num1, num2 = kali(1,2)\n",
        "print(\"num1 : \", num1)\n",
        "print(\"num2 : \", num2)"
      ],
      "execution_count": 191,
      "outputs": [
        {
          "output_type": "stream",
          "name": "stdout",
          "text": [
            "hasil :  (4, 9)\n",
            "num1 :  2\n",
            "num2 :  6\n"
          ]
        }
      ]
    },
    {
      "cell_type": "code",
      "metadata": {
        "colab": {
          "base_uri": "https://localhost:8080/"
        },
        "id": "aTd8aaW_zBKE",
        "outputId": "fccd9a08-abf5-4a4d-b845-5e8464ea70fe"
      },
      "source": [
        "# This function compares two numbers and returns them\n",
        "# in increasing order.\n",
        "def order_numbers(number1, number2):\n",
        "\tif number2 > number1:\n",
        "\t\treturn number1, number2\n",
        "\telse:\n",
        "\t\treturn number2, number1\n",
        "\n",
        "# 1) Fill in the blanks so the print statement displays the result\n",
        "#    of the function call\n",
        "smaller, bigger = order_numbers(100, 99)\n",
        "print(smaller, bigger)"
      ],
      "execution_count": 192,
      "outputs": [
        {
          "output_type": "stream",
          "name": "stdout",
          "text": [
            "99 100\n"
          ]
        }
      ]
    },
    {
      "cell_type": "markdown",
      "metadata": {
        "id": "ToyQjxt0K4en"
      },
      "source": [
        "### **Recursion**\n",
        "\n",
        "Recursion is a common mathematical and programming concept. It means that a function calls itself. This has the benefit of meaning that you can loop through data to reach a result.\n",
        "\n",
        "The developer should be very careful with recursion as it can be quite easy to slip into writing a function which never terminates, or one that uses excess amounts of memory or processor power. However, when written correctly recursion can be a very efficient and mathematically-elegant approach to programming."
      ]
    },
    {
      "cell_type": "code",
      "metadata": {
        "id": "6XaIGhPJK0cb",
        "colab": {
          "base_uri": "https://localhost:8080/"
        },
        "outputId": "37741280-93c6-45be-a62f-25c24c8aa0bb"
      },
      "source": [
        "def factorial(num):\n",
        "    if num < 0:\n",
        "        return \"Negative value don't have factorial\"\n",
        "    elif num == 0 or num == 1:\n",
        "        return 1\n",
        "    else:\n",
        "        return num * factorial(num-1)\n",
        "\n",
        "print(factorial(-5))\n",
        "print(factorial(0))\n",
        "print(factorial(5))"
      ],
      "execution_count": 193,
      "outputs": [
        {
          "output_type": "stream",
          "name": "stdout",
          "text": [
            "Negative value don't have factorial\n",
            "1\n",
            "120\n"
          ]
        }
      ]
    },
    {
      "cell_type": "code",
      "metadata": {
        "colab": {
          "base_uri": "https://localhost:8080/"
        },
        "id": "5xpBjVbfz_xA",
        "outputId": "2a731400-9bda-43f7-9e8b-e6031c63c79c"
      },
      "source": [
        "def factorial(n):\n",
        "    result = 1\n",
        "    for x in range(1,n):\n",
        "        result = result * x\n",
        "    return result\n",
        "\n",
        "for n in range(0,10):\n",
        "    print(n, factorial(n+1))"
      ],
      "execution_count": 194,
      "outputs": [
        {
          "output_type": "stream",
          "name": "stdout",
          "text": [
            "0 1\n",
            "1 1\n",
            "2 2\n",
            "3 6\n",
            "4 24\n",
            "5 120\n",
            "6 720\n",
            "7 5040\n",
            "8 40320\n",
            "9 362880\n"
          ]
        }
      ]
    },
    {
      "cell_type": "markdown",
      "metadata": {
        "id": "7VINrgOxvCmr"
      },
      "source": [
        "## **Lambda**\n",
        "\n",
        "A lambda function is a small anonymous function.\n",
        "\n",
        "A lambda function can take any number of arguments, but can only have one expression.\n",
        "\n",
        "Syntax\n",
        "\n",
        "`lambda arguments : expression`\n",
        "\n",
        "`lambda [arg1 [,arg2,.....argn]]:expression`\n",
        "\n"
      ]
    },
    {
      "cell_type": "markdown",
      "metadata": {
        "id": "SgO3fS8twJtK"
      },
      "source": [
        "A lambda function that adds 10 to the number passed in as an argument, and print the result:"
      ]
    },
    {
      "cell_type": "code",
      "metadata": {
        "id": "ZvLbnp7wwGGH",
        "colab": {
          "base_uri": "https://localhost:8080/"
        },
        "outputId": "6580b4e3-0874-4219-d0c2-1ea89cb1f068"
      },
      "source": [
        "x = lambda a : a + 10\n",
        "print(x(5))"
      ],
      "execution_count": 195,
      "outputs": [
        {
          "output_type": "stream",
          "name": "stdout",
          "text": [
            "15\n"
          ]
        }
      ]
    },
    {
      "cell_type": "markdown",
      "metadata": {
        "id": "siQMUK1f6vuf"
      },
      "source": [
        "another example"
      ]
    },
    {
      "cell_type": "code",
      "metadata": {
        "colab": {
          "base_uri": "https://localhost:8080/"
        },
        "id": "RDmD3Xin6uio",
        "outputId": "fcc9196d-f02a-4d04-d7ba-144dd948744b"
      },
      "source": [
        "kali = lambda nilai1, nilai2: nilai1 * nilai2;\n",
        "print (\"Hasil : \", kali( 11, 21 ))\n",
        "print (\"Hasil : \", kali( 2, 2 ))"
      ],
      "execution_count": 196,
      "outputs": [
        {
          "output_type": "stream",
          "name": "stdout",
          "text": [
            "Hasil :  231\n",
            "Hasil :  4\n"
          ]
        }
      ]
    },
    {
      "cell_type": "markdown",
      "metadata": {
        "id": "-OLN4CavwNre"
      },
      "source": [
        "Lambda functions can take any number of arguments\n",
        "\n",
        "A lambda function that multiplies argument a with argument b and print the result:"
      ]
    },
    {
      "cell_type": "code",
      "metadata": {
        "id": "uJQEfWegwYDK",
        "colab": {
          "base_uri": "https://localhost:8080/"
        },
        "outputId": "1ae689e2-f5e7-4739-a4be-d10c3272e7a2"
      },
      "source": [
        "x = lambda a, b : a * b\n",
        "print(x(5, 6))"
      ],
      "execution_count": 197,
      "outputs": [
        {
          "output_type": "stream",
          "name": "stdout",
          "text": [
            "30\n"
          ]
        }
      ]
    },
    {
      "cell_type": "code",
      "metadata": {
        "id": "xrVHcO4Gwc2I",
        "colab": {
          "base_uri": "https://localhost:8080/"
        },
        "outputId": "ceabdb05-cc63-44c8-e420-9d2d8bd5dd91"
      },
      "source": [
        "x = lambda a, b, c : a + b + c\n",
        "print(x(5, 6, 2))"
      ],
      "execution_count": 198,
      "outputs": [
        {
          "output_type": "stream",
          "name": "stdout",
          "text": [
            "13\n"
          ]
        }
      ]
    },
    {
      "cell_type": "code",
      "metadata": {
        "colab": {
          "base_uri": "https://localhost:8080/"
        },
        "id": "dLiO0CokV3H3",
        "outputId": "4dbe5d46-9a35-43b5-c0e2-f1f07ac2f04c"
      },
      "source": [
        "two = lambda: 2\n",
        "sqr = lambda x: x * x\n",
        "pwr = lambda x, y: x ** y\n",
        "\n",
        "for a in range(-2, 3):\n",
        "    print(sqr(a), end=\" \")\n",
        "    print(pwr(a, two()))"
      ],
      "execution_count": 199,
      "outputs": [
        {
          "output_type": "stream",
          "name": "stdout",
          "text": [
            "4 4\n",
            "1 1\n",
            "0 0\n",
            "1 1\n",
            "4 4\n"
          ]
        }
      ]
    },
    {
      "cell_type": "markdown",
      "metadata": {
        "id": "_uYeZdnjyEvp"
      },
      "source": [
        "**<h4>Why Use Lambda Functions?</h4>**\n",
        "\n",
        "The power of lambda is better shown when you use them as an anonymous function inside another function."
      ]
    },
    {
      "cell_type": "code",
      "metadata": {
        "id": "I9BUaTxDydxP",
        "colab": {
          "base_uri": "https://localhost:8080/"
        },
        "outputId": "73c35c00-5b48-48f4-fece-18f9167716fd"
      },
      "source": [
        "def myfunc(n):\n",
        "  return lambda a : a * n\n",
        "\n",
        "mydoubler = myfunc(2) # make mydouble as lambda by return\n",
        "\n",
        "print(mydoubler(11)) # call lambda"
      ],
      "execution_count": 200,
      "outputs": [
        {
          "output_type": "stream",
          "name": "stdout",
          "text": [
            "22\n"
          ]
        }
      ]
    },
    {
      "cell_type": "markdown",
      "metadata": {
        "id": "k3ptiZMGm5xO"
      },
      "source": [
        "## **map()**\n",
        "\n",
        "```\n",
        "map(function, list)\n",
        "```\n",
        "\n",
        "takes two arguments:\n",
        "\n",
        "* a function;\n",
        "* a list.\n",
        "\n",
        "The above description is extremely simplified, as:\n",
        "\n",
        "* the second `map()` argument may be any entity that can be iterated (e.g., a tuple, or just a generator)\n",
        "* `map()` can accept more than two arguments.\n",
        "\n",
        "The map() `function applies the function passed by its first argument to all its second argument's elements, and returns an iterator delivering all subsequent function results.`\n",
        "\n",
        "You can use the resulting iterator in a loop, or convert it into a list using the `list()` function."
      ]
    },
    {
      "cell_type": "code",
      "metadata": {
        "colab": {
          "base_uri": "https://localhost:8080/"
        },
        "id": "f_QZR2oqnf4c",
        "outputId": "2010d83a-324a-498b-ca20-b900de33cea8"
      },
      "source": [
        "list_1 = [x for x in range(5)]\n",
        "list_2 = list(map(lambda x: 2 ** x, list_1))\n",
        "print(list_2)\n",
        "\n",
        "for x in map(lambda x: x * x, list_2):\n",
        "    print(x, end=' ')\n",
        "print()"
      ],
      "execution_count": 201,
      "outputs": [
        {
          "output_type": "stream",
          "name": "stdout",
          "text": [
            "[1, 2, 4, 8, 16]\n",
            "1 4 16 64 256 \n"
          ]
        }
      ]
    },
    {
      "cell_type": "markdown",
      "metadata": {
        "id": "3v1gHv8Jn-Qq"
      },
      "source": [
        "## **filter()**\n",
        "\n",
        "Another Python function which can be significantly beautified by the application of a lambda is `filter()`.\n",
        "\n",
        "It expects the same kind of arguments as `map()`, but does something different - it `filters its second argument while being guided by directions flowing from the function specified as the first argument` (the function is invoked for each list element, just like in `map()`).\n",
        "\n",
        "The elements which return `True` from the function `pass the filter` - the others are rejected.\n",
        "\n",
        "The example in the editor shows the `filter()` function in action."
      ]
    },
    {
      "cell_type": "code",
      "metadata": {
        "colab": {
          "base_uri": "https://localhost:8080/"
        },
        "id": "dXhzuEctoDpy",
        "outputId": "0c009dc8-3f2f-4c5e-df2f-0de5ece37691"
      },
      "source": [
        "from random import seed, randint\n",
        "\n",
        "seed()\n",
        "data = [randint(-10,10) for x in range(5)]\n",
        "filtered = list(filter(lambda x: x > 0 and x % 2 == 0, data))\n",
        "\n",
        "print(data)\n",
        "print(filtered)"
      ],
      "execution_count": 202,
      "outputs": [
        {
          "output_type": "stream",
          "name": "stdout",
          "text": [
            "[1, 6, -1, -2, 8]\n",
            "[6, 8]\n"
          ]
        }
      ]
    },
    {
      "cell_type": "markdown",
      "metadata": {
        "id": "o9Jkhk85wIJj"
      },
      "source": [
        "## **Scope Local and Global**\n",
        "\n",
        "Cakupan variabel secara umum dibagi menjadi dua, yakni variabel Lokal dan variabel Global.\n",
        "\n",
        "Variabel yang didefinisikan dalam fungsi bersifat lokal (di fungsi tersebut), dan yang didefinisikan di luar fungsi bersifat global. \n",
        "\n",
        "Artinya, variabel Lokal hanya dapat diakses dan dioperasikan dalam fungsi tempat variabel tersebut dideklarasikan. "
      ]
    },
    {
      "cell_type": "code",
      "metadata": {
        "id": "9CpESRdlwN09",
        "colab": {
          "base_uri": "https://localhost:8080/"
        },
        "outputId": "a0828d67-bde7-49a7-cc52-7be563674f0a"
      },
      "source": [
        "# scope variable : local\n",
        "\n",
        "namaKucing = 'Imam'\n",
        "\n",
        "def rubahNamaKucing(namaBaru) :\n",
        "  namaKucing = namaBaru # local\n",
        "  print('saya rubah nama kucing menjadi', namaKucing)\n",
        "\n",
        "rubahNamaKucing('ketie')\n",
        "print('nama kucing saya menjadi', namaKucing) # tidak akan berubah"
      ],
      "execution_count": 203,
      "outputs": [
        {
          "output_type": "stream",
          "name": "stdout",
          "text": [
            "saya rubah nama kucing menjadi ketie\n",
            "nama kucing saya menjadi Imam\n"
          ]
        }
      ]
    },
    {
      "cell_type": "markdown",
      "metadata": {
        "id": "FY27ZzETwxs-"
      },
      "source": [
        "Mengapa variable namaKucing tidak berubah, karena untuk dalam fungsi variable merupakan variable local sehingga variable diluar akan tidak berpengaruh."
      ]
    },
    {
      "cell_type": "code",
      "metadata": {
        "id": "bEyIkNfvxHnG",
        "colab": {
          "base_uri": "https://localhost:8080/"
        },
        "outputId": "0dd8e544-3125-447f-977f-a48ee73ea510"
      },
      "source": [
        "# scope variable : global\n",
        "\n",
        "namaKucing = 'Imam'\n",
        "\n",
        "def rubahNamaKucing(namaBaru) :\n",
        "  global namaKucing # global\n",
        "  namaKucing = namaBaru \n",
        "  print('saya rubah nama kucing menjadi', namaKucing)\n",
        "\n",
        "rubahNamaKucing('ketie')\n",
        "print('nama kucing saya menjadi', namaKucing) # tidak akan berubah"
      ],
      "execution_count": 204,
      "outputs": [
        {
          "output_type": "stream",
          "name": "stdout",
          "text": [
            "saya rubah nama kucing menjadi ketie\n",
            "nama kucing saya menjadi ketie\n"
          ]
        }
      ]
    },
    {
      "cell_type": "code",
      "metadata": {
        "id": "qfdXCAPRxXkd",
        "colab": {
          "base_uri": "https://localhost:8080/"
        },
        "outputId": "844e7c42-d71b-426a-cfbf-cf9453fa83c2"
      },
      "source": [
        "# scope variable : global\n",
        "\n",
        "namaKucing = 'Imam'\n",
        "makananKucing = 'wiskas'\n",
        "\n",
        "def rubahNamaKucing(namaBaru) :\n",
        "  global namaKucing # global\n",
        "  namaKucing = namaBaru \n",
        "  print('saya rubah nama kucing menjadi', namaKucing)\n",
        "\n",
        "def kasihMakanKucing(makanan, nama) :\n",
        "  global namaKucing, makananKucing\n",
        "  namaKucing = nama \n",
        "  makananKucing = makanan\n",
        "\n",
        "rubahNamaKucing('ketie')\n",
        "\n",
        "kasihMakanKucing('universal', 'alex')\n",
        "\n",
        "print('nama kucing saya menjadi', namaKucing) # tidak akan berubah"
      ],
      "execution_count": 205,
      "outputs": [
        {
          "output_type": "stream",
          "name": "stdout",
          "text": [
            "saya rubah nama kucing menjadi ketie\n",
            "nama kucing saya menjadi alex\n"
          ]
        }
      ]
    },
    {
      "cell_type": "markdown",
      "metadata": {
        "id": "OnKpnttH-HIh"
      },
      "source": [
        "#**Docstring**"
      ]
    },
    {
      "cell_type": "code",
      "metadata": {
        "colab": {
          "base_uri": "https://localhost:8080/"
        },
        "id": "51FuJcKG-kYM",
        "outputId": "9674be39-0a2e-4115-9a60-57b7404b461c"
      },
      "source": [
        "def to_second(hours, minutes, seconds):\n",
        "  \"\"\"Returns the ammount of seconds in the given hours, minutes, an seconds.\"\"\" #--> This is docstring\n",
        "  return hours*3600+minutes*60+seconds\n",
        "\n",
        "help(to_second)"
      ],
      "execution_count": 206,
      "outputs": [
        {
          "output_type": "stream",
          "name": "stdout",
          "text": [
            "Help on function to_second in module __main__:\n",
            "\n",
            "to_second(hours, minutes, seconds)\n",
            "    Returns the ammount of seconds in the given hours, minutes, an seconds.\n",
            "\n"
          ]
        }
      ]
    },
    {
      "cell_type": "markdown",
      "metadata": {
        "id": "WPDxwA6SlfvU"
      },
      "source": [
        "# **Math**\n",
        "\n",
        "[link text](https://www.w3schools.com/python/module_math.asp)"
      ]
    },
    {
      "cell_type": "markdown",
      "metadata": {
        "id": "_i3OQJKrly_H"
      },
      "source": [
        "min() / max()"
      ]
    },
    {
      "cell_type": "code",
      "metadata": {
        "id": "WO0KsZckl3KY",
        "colab": {
          "base_uri": "https://localhost:8080/"
        },
        "outputId": "f42a100b-eb9c-47a8-bd3a-97162d92a355"
      },
      "source": [
        "x = min(5, 10, 25)\n",
        "y = max(5, 10, 25)\n",
        "\n",
        "print(x)\n",
        "print(y)"
      ],
      "execution_count": 207,
      "outputs": [
        {
          "output_type": "stream",
          "name": "stdout",
          "text": [
            "5\n",
            "25\n"
          ]
        }
      ]
    },
    {
      "cell_type": "markdown",
      "metadata": {
        "id": "VyPGDXxOl4hb"
      },
      "source": [
        "abs()\n",
        "\n",
        "absolute (positive) value of the specified number"
      ]
    },
    {
      "cell_type": "code",
      "metadata": {
        "id": "ccpRp0CYl6b5",
        "colab": {
          "base_uri": "https://localhost:8080/"
        },
        "outputId": "32776659-b6d6-48b5-d150-b7744bee7d61"
      },
      "source": [
        "x = abs(-7.25)\n",
        "\n",
        "print(x)"
      ],
      "execution_count": 208,
      "outputs": [
        {
          "output_type": "stream",
          "name": "stdout",
          "text": [
            "7.25\n"
          ]
        }
      ]
    },
    {
      "cell_type": "markdown",
      "metadata": {
        "id": "lk-UVRFKmEOt"
      },
      "source": [
        "pow(x, y) "
      ]
    },
    {
      "cell_type": "code",
      "metadata": {
        "id": "eEEhcUmxmJ67",
        "colab": {
          "base_uri": "https://localhost:8080/"
        },
        "outputId": "13a4f6da-b5ba-4cf3-dd56-7f43e1cc5330"
      },
      "source": [
        "x = pow(4, 3)\n",
        "\n",
        "print(x)"
      ],
      "execution_count": 209,
      "outputs": [
        {
          "output_type": "stream",
          "name": "stdout",
          "text": [
            "64\n"
          ]
        }
      ]
    },
    {
      "cell_type": "markdown",
      "metadata": {
        "id": "NSt_2q74mPC_"
      },
      "source": [
        "**The Math Module**\n",
        "\n",
        "Python has also a built-in module called math, which extends the list of mathematical functions."
      ]
    },
    {
      "cell_type": "markdown",
      "metadata": {
        "id": "Ca9zBuv2m50M"
      },
      "source": [
        "math.sqrt()"
      ]
    },
    {
      "cell_type": "code",
      "metadata": {
        "id": "4RJt4zZHm3t5",
        "colab": {
          "base_uri": "https://localhost:8080/"
        },
        "outputId": "ba3051b0-c27e-479a-ad08-15fe5eb627cf"
      },
      "source": [
        "import math\n",
        "\n",
        "x = math.sqrt(64)\n",
        "\n",
        "print(x)"
      ],
      "execution_count": 210,
      "outputs": [
        {
          "output_type": "stream",
          "name": "stdout",
          "text": [
            "8.0\n"
          ]
        }
      ]
    },
    {
      "cell_type": "markdown",
      "metadata": {
        "id": "-IRS9ZXRm9ws"
      },
      "source": [
        "math.ceil() and math.floor()"
      ]
    },
    {
      "cell_type": "code",
      "metadata": {
        "id": "dq1YX4QonA6h",
        "colab": {
          "base_uri": "https://localhost:8080/"
        },
        "outputId": "476f8cd2-0e0c-41f3-bf09-aba97121c7d7"
      },
      "source": [
        "import math\n",
        "\n",
        "x = math.ceil(1.4)\n",
        "y = math.floor(1.4)\n",
        "\n",
        "print(x) # returns 2\n",
        "print(y) # returns 1"
      ],
      "execution_count": 211,
      "outputs": [
        {
          "output_type": "stream",
          "name": "stdout",
          "text": [
            "2\n",
            "1\n"
          ]
        }
      ]
    },
    {
      "cell_type": "markdown",
      "metadata": {
        "id": "_fjhhOFCnDMj"
      },
      "source": [
        "math.pi"
      ]
    },
    {
      "cell_type": "code",
      "metadata": {
        "id": "GzzZd8CSnEpn",
        "colab": {
          "base_uri": "https://localhost:8080/"
        },
        "outputId": "9b1a18ea-e321-4e21-889a-565ee39804e7"
      },
      "source": [
        "import math\n",
        "\n",
        "x = math.pi\n",
        "\n",
        "print(x)"
      ],
      "execution_count": 212,
      "outputs": [
        {
          "output_type": "stream",
          "name": "stdout",
          "text": [
            "3.141592653589793\n"
          ]
        }
      ]
    },
    {
      "cell_type": "markdown",
      "metadata": {
        "id": "ABnztZ6_Cnwv"
      },
      "source": [
        "# **Data Structures in Python**\n",
        "\n",
        "There are four collection data types in the Python programming language:\n",
        "\n",
        "- **List** is a collection which is \n",
        "    * ordered\n",
        "    * changeable\n",
        "    * Allows duplicate members.\n",
        "- **Tuple** is a collection which is \n",
        "    * ordered\n",
        "    * unchangeable\n",
        "    * Allows duplicate members.\n",
        "- **Set** is a collection which is \n",
        "    * unordered\n",
        "    * unindexed\n",
        "    * unchangeable\n",
        "    * No duplicate members.\n",
        "- **Dictionary** is a collection which is \n",
        "    * unordered\n",
        "    * changeable\n",
        "    * indexed (key)\n",
        "    * No duplicate members.\n",
        "\n",
        "When choosing a collection type, it is useful to understand the properties of that type. Choosing the right type for a particular data set could mean retention of meaning, and, it could mean an increase in efficiency or security.\n"
      ]
    },
    {
      "cell_type": "markdown",
      "metadata": {
        "id": "WhQ6RpRBDVi6"
      },
      "source": [
        "## **List**\n",
        "\n",
        "A list is a collection which is ordered and changeable. In Python lists are written with square brackets.\n",
        "\n",
        "List adalah tipe data yang paling serbaguna yang tersedia dalam bahasa Python, yang dapat ditulis sebagai daftar nilai yang dipisahkan koma (item) antara tanda kurung siku. Hal penting tentang daftar adalah item dalam list tidak boleh sama jenisnya.\n",
        "\n",
        "Membuat list sangat sederhana, tinggal memasukkan berbagai nilai yang dipisahkan koma di antara tanda kurung siku. Dibawah ini adalah contoh sederhana pembuatan list dalam bahasa Python. List bisa diisi dengan berbagai jenis data, tidak harus tipe data yang sama.\n",
        "\n",
        "Contoh sederhana pembuatan list pada bahasa pemrograman python\n",
        "\n",
        "`list1 = ['kimia', 'fisika', 1993, 2017]`\n",
        "\n",
        "`list2 = [1, 2, 3, 4, 5 ]`\n",
        "\n",
        "`list3 = [\"a\", \"b\", \"c\", \"d\"]`\n",
        "\n",
        "**<h4>The list() Constructor</h4>**\n",
        "\n",
        "`thislist = list((\"apple\", \"banana\", \"cherry\")) # note the double round-brackets`\n",
        "\n",
        "`print(thislist)`\n",
        "\n"
      ]
    },
    {
      "cell_type": "code",
      "metadata": {
        "id": "SDN-hN1OLp5W",
        "colab": {
          "base_uri": "https://localhost:8080/"
        },
        "outputId": "463f290f-8e13-4b89-e04c-f6e4d3102c7e"
      },
      "source": [
        "foo = [\"Belajar\", \"Python\", \"di\", \"Duniailkom\"]\n",
        "bar = [100, 200, 300, 400]\n",
        "baz = [\"Python\", 200, 6.99, True]\n",
        "  \n",
        "print(foo)\n",
        "print(bar)\n",
        "print(baz)\n",
        "\n",
        "print(type(foo))\n",
        "print(type(bar))\n",
        "print(type(baz))"
      ],
      "execution_count": 213,
      "outputs": [
        {
          "output_type": "stream",
          "name": "stdout",
          "text": [
            "['Belajar', 'Python', 'di', 'Duniailkom']\n",
            "[100, 200, 300, 400]\n",
            "['Python', 200, 6.99, True]\n",
            "<class 'list'>\n",
            "<class 'list'>\n",
            "<class 'list'>\n"
          ]
        }
      ]
    },
    {
      "cell_type": "markdown",
      "metadata": {
        "id": "gJFa1ayEG8LE"
      },
      "source": [
        "### **Access Items**\n",
        "\n",
        "You access the list items by referring to the index number (index number start from 0). \n",
        "\n",
        "Negative indexing means beginning from the end, -1 refers to the last item, -2 refers to the second last item etc.\n",
        "\n",
        "***Indexing (Subsetting)* and *Slicing***"
      ]
    },
    {
      "cell_type": "code",
      "metadata": {
        "id": "Ndtz9YORG3i8",
        "colab": {
          "base_uri": "https://localhost:8080/"
        },
        "outputId": "2e67598a-fb1a-48eb-a702-c1a08780c169"
      },
      "source": [
        "name = ['Bill', 'Jeff', 'Mark']\n",
        "\n",
        "print(name[0])     # Bill\n",
        "print(name[-2])    # Jeff"
      ],
      "execution_count": 214,
      "outputs": [
        {
          "output_type": "stream",
          "name": "stdout",
          "text": [
            "Bill\n",
            "Jeff\n"
          ]
        }
      ]
    },
    {
      "cell_type": "code",
      "metadata": {
        "id": "arDJr8zp4yP5",
        "colab": {
          "base_uri": "https://localhost:8080/"
        },
        "outputId": "fab6d14e-0704-4ce5-fc50-774242fa2f3e"
      },
      "source": [
        "#Cara mengakses nilai di dalam list Python\n",
        "\n",
        "list1 = ['fisika', 'kimia', 1993, 2017]\n",
        "list2 = [1, 2, 3, 4, 5, 6, 7 ]\n",
        "\n",
        "print (\"list1[0]: \", list1[0])\n",
        "print (\"list2[1:5]: \", list2[1:5])"
      ],
      "execution_count": 215,
      "outputs": [
        {
          "output_type": "stream",
          "name": "stdout",
          "text": [
            "list1[0]:  fisika\n",
            "list2[1:5]:  [2, 3, 4, 5]\n"
          ]
        }
      ]
    },
    {
      "cell_type": "markdown",
      "metadata": {
        "id": "ymjKQmbbKb_e"
      },
      "source": [
        "Data Lengkap Teknik Slicing and Indexing"
      ]
    },
    {
      "cell_type": "code",
      "metadata": {
        "id": "0s9a9xceKf8z",
        "colab": {
          "base_uri": "https://localhost:8080/"
        },
        "outputId": "3a6ad251-68a5-4b63-9a70-96a745eae603"
      },
      "source": [
        "data = [1, 4, 9, 16, 25, 36, 49, 64]\n",
        "\n",
        "print('---Indexing/Subsetting---', end='\\n')\n",
        "print('data[0] = ', data[0]) # index ke-0\n",
        "print('data[-0] = ', data[-0]) # index ke(-0)\n",
        "print('data[3] = ', data[3]) # index ke-3\n",
        "print('data[-3] = ', data[-3]) # index ke(-3)\n",
        "print()\n",
        "\n",
        "print('---Slicing---', end='\\n')\n",
        "print('data[:] = ', data[:]) # semua\n",
        "print('data[0:4] = ', data[0:4]) # 0-3\n",
        "print('data[2:4] = ', data[2:4]) # 2-3\n",
        "print('data[2:] = ', data[2:]) # 0-3\n",
        "print('data[2:4] = ', data[2:4]) # 2-3\n",
        "print('data[0:4] = ', data[0:4]) # 0-3\n",
        "print('data[2:4] = ', data[2:4]) # 2-3\n"
      ],
      "execution_count": 216,
      "outputs": [
        {
          "output_type": "stream",
          "name": "stdout",
          "text": [
            "---Indexing/Subsetting---\n",
            "data[0] =  1\n",
            "data[-0] =  1\n",
            "data[3] =  16\n",
            "data[-3] =  36\n",
            "\n",
            "---Slicing---\n",
            "data[:] =  [1, 4, 9, 16, 25, 36, 49, 64]\n",
            "data[0:4] =  [1, 4, 9, 16]\n",
            "data[2:4] =  [9, 16]\n",
            "data[2:] =  [9, 16, 25, 36, 49, 64]\n",
            "data[2:4] =  [9, 16]\n",
            "data[0:4] =  [1, 4, 9, 16]\n",
            "data[2:4] =  [9, 16]\n"
          ]
        }
      ]
    },
    {
      "cell_type": "markdown",
      "metadata": {
        "id": "DiN8RkZX1dSF"
      },
      "source": [
        "***Multidimensional List***\n",
        "\n"
      ]
    },
    {
      "cell_type": "code",
      "metadata": {
        "id": "ILtJafzh1s5m",
        "colab": {
          "base_uri": "https://localhost:8080/"
        },
        "outputId": "b43d4234-6bac-4d7c-dc5e-1ab8ed37220a"
      },
      "source": [
        "data = [[1, 2, 3, 4, 5], [5, 4, 3, 2, 1]]\n",
        "\n",
        "print('data[:] = ', data[:])\n",
        "print('data[0] = ', data[0])\n",
        "print('data[1] = ', data[1])\n",
        "\n",
        "print('data[0][2] = ', data[0][2])\n",
        "print('data[1][1] = ', data[1][1])"
      ],
      "execution_count": 217,
      "outputs": [
        {
          "output_type": "stream",
          "name": "stdout",
          "text": [
            "data[:] =  [[1, 2, 3, 4, 5], [5, 4, 3, 2, 1]]\n",
            "data[0] =  [1, 2, 3, 4, 5]\n",
            "data[1] =  [5, 4, 3, 2, 1]\n",
            "data[0][2] =  3\n",
            "data[1][1] =  4\n"
          ]
        }
      ]
    },
    {
      "cell_type": "markdown",
      "metadata": {
        "id": "SKHc2rcP1N_n"
      },
      "source": [
        "***Unpacking Sequence***"
      ]
    },
    {
      "cell_type": "code",
      "metadata": {
        "id": "8Bl5eINR1N_o",
        "colab": {
          "base_uri": "https://localhost:8080/"
        },
        "outputId": "1d8caeae-60bf-49f4-f746-0594eeb3ac69"
      },
      "source": [
        "# Unpacking Sequence\n",
        "\n",
        "matkul = ['fisika', 'kimia', 'matematika']\n",
        "\n",
        "f, k, m = matkul\n",
        "print (f, k, m)"
      ],
      "execution_count": 218,
      "outputs": [
        {
          "output_type": "stream",
          "name": "stdout",
          "text": [
            "fisika kimia matematika\n"
          ]
        }
      ]
    },
    {
      "cell_type": "markdown",
      "metadata": {
        "id": "5wN5Hw3r6nSk"
      },
      "source": [
        "### **Update Items**\n",
        "\n",
        "Anda dapat memperbarui satu atau beberapa nilai di dalam list dengan memberikan potongan di sisi kiri operator penugasan, dan Anda dapat menambahkan nilai ke dalam list dengan metode append (). Sebagai contoh :"
      ]
    },
    {
      "cell_type": "markdown",
      "metadata": {
        "id": "3uPXn-UjIWF7"
      },
      "source": [
        "Lists are **mutable** object which means you can modify a list object after it has been created. To change the value of a specific item, refer to the index number."
      ]
    },
    {
      "cell_type": "code",
      "metadata": {
        "id": "eVpsgfJ6Hasq",
        "colab": {
          "base_uri": "https://localhost:8080/"
        },
        "outputId": "1019cc5c-dccc-4708-d94a-db400075ebb5"
      },
      "source": [
        "name = ['Bill', 'Jeff', 'Mark']\n",
        "\n",
        "name[2] = 'Elon'\n",
        "\n",
        "print(name)"
      ],
      "execution_count": 219,
      "outputs": [
        {
          "output_type": "stream",
          "name": "stdout",
          "text": [
            "['Bill', 'Jeff', 'Elon']\n"
          ]
        }
      ]
    },
    {
      "cell_type": "markdown",
      "metadata": {
        "id": "hxt69aFrfha9"
      },
      "source": [
        "To determine how many items a list has, use the **len()** function"
      ]
    },
    {
      "cell_type": "code",
      "metadata": {
        "id": "_9xhsfDNfTln",
        "colab": {
          "base_uri": "https://localhost:8080/"
        },
        "outputId": "7c3e7a8c-3d24-4235-821b-d8aa1d7ee75f"
      },
      "source": [
        "name = ['Bill', 'Jeff', 'Mark']\n",
        "print(len(name))"
      ],
      "execution_count": 220,
      "outputs": [
        {
          "output_type": "stream",
          "name": "stdout",
          "text": [
            "3\n"
          ]
        }
      ]
    },
    {
      "cell_type": "markdown",
      "metadata": {
        "id": "MrnkosAOxuex"
      },
      "source": [
        "Beda hasilnya jika dengan menggunakan .insert()"
      ]
    },
    {
      "cell_type": "code",
      "metadata": {
        "colab": {
          "base_uri": "https://localhost:8080/"
        },
        "id": "PVk7l8KtxuE6",
        "outputId": "eeb0a130-ae5c-40c3-be13-eadda0eb3d21"
      },
      "source": [
        "colors = [\"red\", \"white\", \"blue\"]\n",
        "colors.insert(2, \"yellow\")\n",
        "colors"
      ],
      "execution_count": 221,
      "outputs": [
        {
          "output_type": "execute_result",
          "data": {
            "text/plain": [
              "['red', 'white', 'yellow', 'blue']"
            ]
          },
          "metadata": {},
          "execution_count": 221
        }
      ]
    },
    {
      "cell_type": "code",
      "metadata": {
        "colab": {
          "base_uri": "https://localhost:8080/"
        },
        "id": "mlpwGEVZbuiq",
        "outputId": "be365b56-1e43-42cb-c48e-58ead91a1396"
      },
      "source": [
        "my_list = []  # Creating an empty list.\n",
        "\n",
        "for i in range(5):\n",
        "    my_list.insert(0, i + 1)\n",
        "\n",
        "print(my_list)"
      ],
      "execution_count": 222,
      "outputs": [
        {
          "output_type": "stream",
          "name": "stdout",
          "text": [
            "[5, 4, 3, 2, 1]\n"
          ]
        }
      ]
    },
    {
      "cell_type": "markdown",
      "metadata": {
        "id": "2m2TKARSvToW"
      },
      "source": [
        "### **Add Items**\n",
        "\n",
        "To add an item to the end of the list, use the **append()** method. And to add an item at the specified index, use the **insert()** method.\n",
        "\n",
        "* append(elmnt)\n",
        "* prepend()\n",
        "* extend(iterable)\n",
        "* insert (pos, elmnt)"
      ]
    },
    {
      "cell_type": "markdown",
      "metadata": {
        "id": "fzet95FalsTL"
      },
      "source": [
        "**<h4>append</h4>**\n",
        "\n",
        "append(item) menambahkan item dari belakang."
      ]
    },
    {
      "cell_type": "code",
      "metadata": {
        "id": "QQbVZPERvI1h",
        "colab": {
          "base_uri": "https://localhost:8080/"
        },
        "outputId": "de6762f2-f426-4529-fb8a-c02194606910"
      },
      "source": [
        "name = ['Bill', 'Jeff', 'Mark']\n",
        "\n",
        "name.append('Elon')\n",
        "print(name)"
      ],
      "execution_count": 223,
      "outputs": [
        {
          "output_type": "stream",
          "name": "stdout",
          "text": [
            "['Bill', 'Jeff', 'Mark', 'Elon']\n"
          ]
        }
      ]
    },
    {
      "cell_type": "code",
      "metadata": {
        "id": "igBfm6Utk7Jx",
        "colab": {
          "base_uri": "https://localhost:8080/"
        },
        "outputId": "15f4546d-7917-475f-e501-96852dd6b2e7"
      },
      "source": [
        "a = [\"apple\", \"banana\", \"cherry\"]\n",
        "b = [\"Ford\", \"BMW\", \"Volvo\"]\n",
        "a.append(b)\n",
        "\n",
        "a"
      ],
      "execution_count": 224,
      "outputs": [
        {
          "output_type": "execute_result",
          "data": {
            "text/plain": [
              "['apple', 'banana', 'cherry', ['Ford', 'BMW', 'Volvo']]"
            ]
          },
          "metadata": {},
          "execution_count": 224
        }
      ]
    },
    {
      "cell_type": "code",
      "metadata": {
        "colab": {
          "base_uri": "https://localhost:8080/"
        },
        "id": "z972rJzJb_zF",
        "outputId": "fbca8c65-6bba-484b-d485-f641eb908de3"
      },
      "source": [
        "my_list = []  # Creating an empty list.\n",
        "\n",
        "for i in range(5):\n",
        "    my_list.append(i + 1)\n",
        "\n",
        "print(my_list)"
      ],
      "execution_count": 225,
      "outputs": [
        {
          "output_type": "stream",
          "name": "stdout",
          "text": [
            "[1, 2, 3, 4, 5]\n"
          ]
        }
      ]
    },
    {
      "cell_type": "markdown",
      "metadata": {
        "id": "Gq7LK0M-j7fc"
      },
      "source": [
        "Given a = [1,3,4,6,8]. Suppose that we want to create a list [6,8,1,3,4] from a."
      ]
    },
    {
      "cell_type": "code",
      "metadata": {
        "colab": {
          "base_uri": "https://localhost:8080/"
        },
        "id": "91y-GcMCj46o",
        "outputId": "fce9b4c3-3afa-48c0-ca68-5bd9ae1f46d4"
      },
      "source": [
        "a = [1,3,4,6,8]\n",
        "print(a[3:] + a[:3])\n",
        "\n",
        "res = a[3:]\n",
        "res.append(a[:3])\n",
        "print(res)\n",
        "\n",
        "res = a[3:]\n",
        "for el in a[:3]:\n",
        "  res.append(el)\n",
        "print(res)\n",
        "\n",
        "res = a[3:]\n",
        "res[:0] = a[:3]\n",
        "print(res)"
      ],
      "execution_count": 226,
      "outputs": [
        {
          "output_type": "stream",
          "name": "stdout",
          "text": [
            "[6, 8, 1, 3, 4]\n",
            "[6, 8, [1, 3, 4]]\n",
            "[6, 8, 1, 3, 4]\n",
            "[1, 3, 4, 6, 8]\n"
          ]
        }
      ]
    },
    {
      "cell_type": "markdown",
      "metadata": {
        "id": "r_yL2ln_lxn1"
      },
      "source": [
        "**<h4>prepend</h4>**\n",
        "\n",
        "prepend(item) menambahkan item dari depan;"
      ]
    },
    {
      "cell_type": "code",
      "metadata": {
        "id": "q9NuMp3AlzpE"
      },
      "source": [
        "#list mula-mula\n",
        "# buah = [\"jeruk\", \"apel\", \"mangga\", \"duren\"]\n",
        "\n",
        "# buah.prepend(\"Anggur\")\n",
        "# buah\n",
        "# 'list' object has no attribute 'prepend'"
      ],
      "execution_count": 227,
      "outputs": []
    },
    {
      "cell_type": "markdown",
      "metadata": {
        "id": "AE9Ayykdl0ND"
      },
      "source": [
        "**<h4>extend</h4>**"
      ]
    },
    {
      "cell_type": "code",
      "metadata": {
        "id": "Wo6qWOLBl4Pe",
        "colab": {
          "base_uri": "https://localhost:8080/"
        },
        "outputId": "0faf26af-903c-4f0c-f0e2-4865361a1244"
      },
      "source": [
        "fruits = ['apple', 'banana', 'cherry']\n",
        "\n",
        "cars = ['Ford', 'BMW', 'Volvo']\n",
        "\n",
        "fruits.extend(cars)\n",
        "\n",
        "fruits"
      ],
      "execution_count": 228,
      "outputs": [
        {
          "output_type": "execute_result",
          "data": {
            "text/plain": [
              "['apple', 'banana', 'cherry', 'Ford', 'BMW', 'Volvo']"
            ]
          },
          "metadata": {},
          "execution_count": 228
        }
      ]
    },
    {
      "cell_type": "code",
      "metadata": {
        "id": "MYVBBzFHmAey",
        "colab": {
          "base_uri": "https://localhost:8080/"
        },
        "outputId": "f35e9987-5c5b-4573-a739-c8b80e03eb0b"
      },
      "source": [
        "fruits = ['apple', 'banana', 'cherry']\n",
        "\n",
        "points = (1, 4, 5, 9)\n",
        "\n",
        "fruits.extend(points)\n",
        "\n",
        "fruits"
      ],
      "execution_count": 229,
      "outputs": [
        {
          "output_type": "execute_result",
          "data": {
            "text/plain": [
              "['apple', 'banana', 'cherry', 1, 4, 5, 9]"
            ]
          },
          "metadata": {},
          "execution_count": 229
        }
      ]
    },
    {
      "cell_type": "code",
      "metadata": {
        "id": "9v1YuQcX04A9",
        "colab": {
          "base_uri": "https://localhost:8080/"
        },
        "outputId": "a813c901-75d8-445c-e2ca-c2ac4e01ac06"
      },
      "source": [
        "fruits = ['apple', 'banana', 'cherry']\n",
        "\n",
        "fruits.extend(['grape'])\n",
        "\n",
        "fruits.extend('grape') # by iterable string\n",
        "\n",
        "fruits"
      ],
      "execution_count": 230,
      "outputs": [
        {
          "output_type": "execute_result",
          "data": {
            "text/plain": [
              "['apple', 'banana', 'cherry', 'grape', 'g', 'r', 'a', 'p', 'e']"
            ]
          },
          "metadata": {},
          "execution_count": 230
        }
      ]
    },
    {
      "cell_type": "markdown",
      "metadata": {
        "id": "Fy7iBScAl4-K"
      },
      "source": [
        "**<h4>insert</h4>**\n",
        "\n",
        "insert(index, item) menambahkan item dari indeks tertentu"
      ]
    },
    {
      "cell_type": "code",
      "metadata": {
        "colab": {
          "base_uri": "https://localhost:8080/"
        },
        "id": "nIOWUJrC8HM6",
        "outputId": "e447bedb-6191-44e8-f2ce-eacae4486a3b"
      },
      "source": [
        "name = []\n",
        "\n",
        "name.insert(1, 'Elon')\n",
        "print(name)"
      ],
      "execution_count": 231,
      "outputs": [
        {
          "output_type": "stream",
          "name": "stdout",
          "text": [
            "['Elon']\n"
          ]
        }
      ]
    },
    {
      "cell_type": "code",
      "metadata": {
        "id": "Vk5FDC__vlia",
        "colab": {
          "base_uri": "https://localhost:8080/"
        },
        "outputId": "1b759068-6a77-4d37-bcdb-178cb3bb7110"
      },
      "source": [
        "name = ['Bill', 'Jeff', 'Mark']\n",
        "\n",
        "name.insert(1, 'Elon')\n",
        "print(name)"
      ],
      "execution_count": 232,
      "outputs": [
        {
          "output_type": "stream",
          "name": "stdout",
          "text": [
            "['Bill', 'Elon', 'Jeff', 'Mark']\n"
          ]
        }
      ]
    },
    {
      "cell_type": "markdown",
      "metadata": {
        "id": "Erqu3qjM1KUc"
      },
      "source": [
        "**List on List**"
      ]
    },
    {
      "cell_type": "code",
      "metadata": {
        "id": "DPJNFAQx1Hgy",
        "colab": {
          "base_uri": "https://localhost:8080/"
        },
        "outputId": "e0447664-f5c0-4204-91d2-8c9d4360ddd1"
      },
      "source": [
        "fruits = ['apple', 'banana', 'cherry']\n",
        "\n",
        "points = [1, 2, 3, 4]\n",
        "\n",
        "rand = [fruits, points]\n",
        "\n",
        "rand"
      ],
      "execution_count": 233,
      "outputs": [
        {
          "output_type": "execute_result",
          "data": {
            "text/plain": [
              "[['apple', 'banana', 'cherry'], [1, 2, 3, 4]]"
            ]
          },
          "metadata": {},
          "execution_count": 233
        }
      ]
    },
    {
      "cell_type": "markdown",
      "metadata": {
        "id": "6dWPg5x5_H8n"
      },
      "source": [
        "### **Remove Item**\n",
        "\n",
        "There are several methods to remove items from a list.\n",
        "- remove(elmnt) : remove specified item\n",
        "- pop(pos) : remove the specified index (default : last item)\n",
        "- del : remove specified index\n",
        "- clear() : empty the list"
      ]
    },
    {
      "cell_type": "markdown",
      "metadata": {
        "id": "-O_EjCy-m0nx"
      },
      "source": [
        "**<h4>remove</h4>**"
      ]
    },
    {
      "cell_type": "code",
      "metadata": {
        "id": "HP2qmO4jv5sg",
        "colab": {
          "base_uri": "https://localhost:8080/"
        },
        "outputId": "13f563ab-671c-4686-cab6-f818e1e99c36"
      },
      "source": [
        "name = ['Bill', 'Jeff', 'Mark']\n",
        "\n",
        "name.remove('Bill')\n",
        "print(name)"
      ],
      "execution_count": 234,
      "outputs": [
        {
          "output_type": "stream",
          "name": "stdout",
          "text": [
            "['Jeff', 'Mark']\n"
          ]
        }
      ]
    },
    {
      "cell_type": "code",
      "metadata": {
        "id": "eMy31YrT1fJg",
        "colab": {
          "base_uri": "https://localhost:8080/"
        },
        "outputId": "a4bc20e2-c172-4f85-a67b-f4e07abfae8d"
      },
      "source": [
        "name = ['Bill', 'Jeff', 'Mark', 'Bill']\n",
        "\n",
        "name.remove('Bill')\n",
        "print(name)"
      ],
      "execution_count": 235,
      "outputs": [
        {
          "output_type": "stream",
          "name": "stdout",
          "text": [
            "['Jeff', 'Mark', 'Bill']\n"
          ]
        }
      ]
    },
    {
      "cell_type": "markdown",
      "metadata": {
        "id": "MC9GcMBQm28z"
      },
      "source": [
        "**<h4>pop</h4>**"
      ]
    },
    {
      "cell_type": "code",
      "metadata": {
        "id": "RF7b2ZJz_j4-",
        "colab": {
          "base_uri": "https://localhost:8080/"
        },
        "outputId": "b46345f2-77f6-428c-cd32-35679bcf0023"
      },
      "source": [
        "name = ['Bill', 'Jeff', 'Mark']\n",
        "\n",
        "name.pop(1) # pop(index)\n",
        "print(name)"
      ],
      "execution_count": 236,
      "outputs": [
        {
          "output_type": "stream",
          "name": "stdout",
          "text": [
            "['Bill', 'Mark']\n"
          ]
        }
      ]
    },
    {
      "cell_type": "code",
      "metadata": {
        "id": "1TFDyMyc_nzh",
        "colab": {
          "base_uri": "https://localhost:8080/"
        },
        "outputId": "d3bc22e4-2b7a-4785-f98e-ba4b5c366a08"
      },
      "source": [
        "name = ['Bill', 'Jeff', 'Mark']\n",
        "\n",
        "name.pop()\n",
        "print(name)"
      ],
      "execution_count": 237,
      "outputs": [
        {
          "output_type": "stream",
          "name": "stdout",
          "text": [
            "['Bill', 'Jeff']\n"
          ]
        }
      ]
    },
    {
      "cell_type": "markdown",
      "metadata": {
        "id": "OQPtWrhem5fn"
      },
      "source": [
        "**<h4>del</h4>**"
      ]
    },
    {
      "cell_type": "code",
      "metadata": {
        "id": "hFsL4btV_qou",
        "colab": {
          "base_uri": "https://localhost:8080/"
        },
        "outputId": "8d9eba39-12a0-4cbd-8ec6-5806dd7cdf7e"
      },
      "source": [
        "name = ['Bill', 'Jeff', 'Mark']\n",
        "\n",
        "del name[0]\n",
        "print(name)"
      ],
      "execution_count": 238,
      "outputs": [
        {
          "output_type": "stream",
          "name": "stdout",
          "text": [
            "['Jeff', 'Mark']\n"
          ]
        }
      ]
    },
    {
      "cell_type": "code",
      "metadata": {
        "colab": {
          "base_uri": "https://localhost:8080/"
        },
        "id": "i99-mIPKeART",
        "outputId": "d587554e-a06e-4bf7-ceb6-c8cd4b704523"
      },
      "source": [
        "my_list = [1, 2, 3, 4, 5]\n",
        "del my_list[0:2]\n",
        "print(my_list)  # outputs: [3, 4, 5]\n",
        "\n",
        "del my_list[:]\n",
        "print(my_list)  # deletes the list content, outputs: []"
      ],
      "execution_count": 239,
      "outputs": [
        {
          "output_type": "stream",
          "name": "stdout",
          "text": [
            "[3, 4, 5]\n",
            "[]\n"
          ]
        }
      ]
    },
    {
      "cell_type": "markdown",
      "metadata": {
        "id": "EMCuhrzDm7lh"
      },
      "source": [
        "**<h4>clear</h4>**"
      ]
    },
    {
      "cell_type": "code",
      "metadata": {
        "id": "aSdLaPmR_-kp",
        "colab": {
          "base_uri": "https://localhost:8080/"
        },
        "outputId": "a0821128-a821-4f6a-f2d6-a9cbb98e1fa5"
      },
      "source": [
        "name = ['Bill', 'Jeff', 'Mark']\n",
        "\n",
        "name.clear()\n",
        "print(name)"
      ],
      "execution_count": 240,
      "outputs": [
        {
          "output_type": "stream",
          "name": "stdout",
          "text": [
            "[]\n"
          ]
        }
      ]
    },
    {
      "cell_type": "markdown",
      "metadata": {
        "id": "7j5_vI9rSmVK"
      },
      "source": [
        "### **Loop and If in**"
      ]
    },
    {
      "cell_type": "markdown",
      "metadata": {
        "id": "Jga3WS6mBEs-"
      },
      "source": [
        "***For Iterable***"
      ]
    },
    {
      "cell_type": "code",
      "metadata": {
        "id": "LU2wD_HoSpo8",
        "colab": {
          "base_uri": "https://localhost:8080/"
        },
        "outputId": "a04aee4c-dd1c-4254-ff68-33059c7f5260"
      },
      "source": [
        "thislist = [\"apple\", \"banana\", \"cherry\"]\n",
        "for x in thislist:\n",
        "  print(x)"
      ],
      "execution_count": 241,
      "outputs": [
        {
          "output_type": "stream",
          "name": "stdout",
          "text": [
            "apple\n",
            "banana\n",
            "cherry\n"
          ]
        }
      ]
    },
    {
      "cell_type": "code",
      "metadata": {
        "id": "MMzOyhBFBQpU",
        "colab": {
          "base_uri": "https://localhost:8080/"
        },
        "outputId": "309979f4-9306-4545-da1a-ee631e1fa9ea"
      },
      "source": [
        "buah = ['watermelon', 'banana', 'apple']\n",
        "sayur = ['carrot', 'tomato', 'brocoli']\n",
        "gorengan = ['pisang goreng', 'tahu isi', 'cireng']\n",
        "\n",
        "daftar = [buah, sayur, gorengan]\n",
        "\n",
        "for x in daftar :\n",
        "  print(x)"
      ],
      "execution_count": 242,
      "outputs": [
        {
          "output_type": "stream",
          "name": "stdout",
          "text": [
            "['watermelon', 'banana', 'apple']\n",
            "['carrot', 'tomato', 'brocoli']\n",
            "['pisang goreng', 'tahu isi', 'cireng']\n"
          ]
        }
      ]
    },
    {
      "cell_type": "code",
      "metadata": {
        "id": "CGVbtqlzBwPz",
        "colab": {
          "base_uri": "https://localhost:8080/"
        },
        "outputId": "abe5fe99-11d1-41e6-f248-afffd98218a7"
      },
      "source": [
        "buah = ['watermelon', 'banana', 'apple']\n",
        "sayur = ['carrot', 'tomato', 'brocoli']\n",
        "gorengan = ['pisang goreng', 'tahu isi', 'cireng']\n",
        "\n",
        "daftar = [buah, sayur, gorengan]\n",
        "\n",
        "for x in daftar :\n",
        "  for y in x :\n",
        "    print(y)"
      ],
      "execution_count": 243,
      "outputs": [
        {
          "output_type": "stream",
          "name": "stdout",
          "text": [
            "watermelon\n",
            "banana\n",
            "apple\n",
            "carrot\n",
            "tomato\n",
            "brocoli\n",
            "pisang goreng\n",
            "tahu isi\n",
            "cireng\n"
          ]
        }
      ]
    },
    {
      "cell_type": "code",
      "metadata": {
        "colab": {
          "base_uri": "https://localhost:8080/",
          "height": 105
        },
        "id": "-nRcmf5XcWlp",
        "outputId": "63be7808-a2ef-4226-d56b-154e78b23332"
      },
      "source": [
        "def guest_list(guests):\n",
        "\tfor name, age, profession in guests:\n",
        "\t\tmessage = \"{} is {} years old and works as {}\"\n",
        "\t\tprint(message.format(name, age, profession))\n",
        "\n",
        "guest_list([('Ken', 30, \"Chef\"), (\"Pat\", 35, 'Lawyer'), ('Amanda', 25, \"Engineer\")])\n",
        "\n",
        "#Click Run to submit code\n",
        "\"\"\"\n",
        "Output should match:\n",
        "Ken is 30 years old and works as Chef\n",
        "Pat is 35 years old and works as Lawyer\n",
        "Amanda is 25 years old and works as Engineer\n",
        "\"\"\""
      ],
      "execution_count": 244,
      "outputs": [
        {
          "output_type": "stream",
          "name": "stdout",
          "text": [
            "Ken is 30 years old and works as Chef\n",
            "Pat is 35 years old and works as Lawyer\n",
            "Amanda is 25 years old and works as Engineer\n"
          ]
        },
        {
          "output_type": "execute_result",
          "data": {
            "application/vnd.google.colaboratory.intrinsic+json": {
              "type": "string"
            },
            "text/plain": [
              "'\\nOutput should match:\\nKen is 30 years old and works as Chef\\nPat is 35 years old and works as Lawyer\\nAmanda is 25 years old and works as Engineer\\n'"
            ]
          },
          "metadata": {},
          "execution_count": 244
        }
      ]
    },
    {
      "cell_type": "markdown",
      "metadata": {
        "id": "hzeX4Oi7BHnp"
      },
      "source": [
        "***Enumerate Iterable***"
      ]
    },
    {
      "cell_type": "code",
      "metadata": {
        "id": "ovOk96UEPEDz",
        "colab": {
          "base_uri": "https://localhost:8080/"
        },
        "outputId": "6828df27-b916-4497-8a4d-deda72f6745b"
      },
      "source": [
        "grocery = ['bread', 'milk', 'butter']\n",
        "enumerateGrocery = enumerate(grocery)\n",
        "\n",
        "print(type(enumerateGrocery))\n",
        "\n",
        "# converting to list\n",
        "print(list(enumerateGrocery))\n",
        "\n",
        "# changing the default counter\n",
        "enumerateGrocery = enumerate(grocery, 10)\n",
        "print(list(enumerateGrocery))\n"
      ],
      "execution_count": 245,
      "outputs": [
        {
          "output_type": "stream",
          "name": "stdout",
          "text": [
            "<class 'enumerate'>\n",
            "[(0, 'bread'), (1, 'milk'), (2, 'butter')]\n",
            "[(10, 'bread'), (11, 'milk'), (12, 'butter')]\n"
          ]
        }
      ]
    },
    {
      "cell_type": "code",
      "metadata": {
        "id": "V6UY2WiKPgme",
        "colab": {
          "base_uri": "https://localhost:8080/"
        },
        "outputId": "48360510-11a6-4cd9-b936-dccb3f8ac1a5"
      },
      "source": [
        "grocery = ['bread', 'milk', 'butter']\n",
        "\n",
        "for item in enumerate(grocery):\n",
        "  print(item)\n",
        "\n",
        "print('\\n')\n",
        "for count, item in enumerate(grocery):\n",
        "  print(count, item)\n",
        "\n",
        "print('\\n')\n",
        "# changing default start value\n",
        "for count, item in enumerate(grocery, 100):\n",
        "  print(count, item)"
      ],
      "execution_count": 246,
      "outputs": [
        {
          "output_type": "stream",
          "name": "stdout",
          "text": [
            "(0, 'bread')\n",
            "(1, 'milk')\n",
            "(2, 'butter')\n",
            "\n",
            "\n",
            "0 bread\n",
            "1 milk\n",
            "2 butter\n",
            "\n",
            "\n",
            "100 bread\n",
            "101 milk\n",
            "102 butter\n"
          ]
        }
      ]
    },
    {
      "cell_type": "markdown",
      "metadata": {
        "id": "t5ejN-q-BK83"
      },
      "source": [
        "***If In***"
      ]
    },
    {
      "cell_type": "code",
      "metadata": {
        "id": "CN1YfOETSvI9",
        "colab": {
          "base_uri": "https://localhost:8080/"
        },
        "outputId": "0a7146b6-8633-4fec-dce9-8e4c691b56b4"
      },
      "source": [
        "thislist = [\"apple\", \"banana\", \"cherry\"]\n",
        "if \"apple\" in thislist:\n",
        "  print(\"Yes, 'apple' is in the fruits list\")"
      ],
      "execution_count": 247,
      "outputs": [
        {
          "output_type": "stream",
          "name": "stdout",
          "text": [
            "Yes, 'apple' is in the fruits list\n"
          ]
        }
      ]
    },
    {
      "cell_type": "markdown",
      "metadata": {
        "id": "7B6TW7MS-YaK"
      },
      "source": [
        "### **Standard Operations**\n",
        "\n",
        "List Python merespons operator + dan * seperti string; Itu artinya penggabungan dan pengulangan di sini juga berlaku, kecuali hasilnya adalah list baru, bukan sebuah String.\n",
        "\n",
        "Sebenarnya, list merespons semua operasi urutan umum yang kami gunakan pada String di bab sebelumnya. Dibawah ini adalah tabel daftar operasi dasar pada list python.\n",
        "\n",
        "........................................................................\n",
        "\n",
        "***len(), +, *, in, not in (membership), for iterator***\n",
        "\n",
        "........................................................................\n",
        "\n",
        "`len([1, 2, 3, 4])`  -> \t4\t: Length\n",
        "\n",
        "`[1, 2, 3] + [4, 5, 6]`  ->\t[1, 2, 3, 4, 5, 6] : Concatenation\n",
        "\n",
        "`['Halo!'] * 4` ->\t['Halo!', 'Halo!', 'Halo!', 'Halo!'] : Repetition\n",
        "\n",
        "`2 in [1, 2, 3]` -> True : Membership\n",
        "\n",
        "`for x in [1,2,3] : print (x,end = ' ')` -> 1 2 3 : Iteration"
      ]
    },
    {
      "cell_type": "code",
      "metadata": {
        "id": "Yr_hKDmu_gk0",
        "colab": {
          "base_uri": "https://localhost:8080/"
        },
        "outputId": "d265183b-8415-4da1-c9ea-63b192d4b281"
      },
      "source": [
        "number = [1, 3, 5, 7, 9, 2, 4, 6, 8, 10]\n",
        "for x in number :\n",
        "  print(x, end=' ')\n",
        "  \n",
        "print()\n",
        "print('Panjang list = ', len(number))"
      ],
      "execution_count": 248,
      "outputs": [
        {
          "output_type": "stream",
          "name": "stdout",
          "text": [
            "1 3 5 7 9 2 4 6 8 10 \n",
            "Panjang list =  10\n"
          ]
        }
      ]
    },
    {
      "cell_type": "code",
      "metadata": {
        "id": "UJwjHFZqALDb",
        "colab": {
          "base_uri": "https://localhost:8080/"
        },
        "outputId": "734d8d53-27ac-4d5f-9fe1-67fcbc6bce43"
      },
      "source": [
        "list1 = [1, 2, 3]\n",
        "list2 = [4, 5, 6]\n",
        "\n",
        "list_combine = list1 + list2\n",
        "list_combine"
      ],
      "execution_count": 249,
      "outputs": [
        {
          "output_type": "execute_result",
          "data": {
            "text/plain": [
              "[1, 2, 3, 4, 5, 6]"
            ]
          },
          "metadata": {},
          "execution_count": 249
        }
      ]
    },
    {
      "cell_type": "code",
      "metadata": {
        "id": "2ra_ZLI5AkJA",
        "colab": {
          "base_uri": "https://localhost:8080/"
        },
        "outputId": "88515c30-061e-442f-8c5f-bc97aa0509b5"
      },
      "source": [
        "# or\n",
        "number = [1, 2, 3] + [4, 5, 6]\n",
        "number"
      ],
      "execution_count": 250,
      "outputs": [
        {
          "output_type": "execute_result",
          "data": {
            "text/plain": [
              "[1, 2, 3, 4, 5, 6]"
            ]
          },
          "metadata": {},
          "execution_count": 250
        }
      ]
    },
    {
      "cell_type": "code",
      "metadata": {
        "id": "WwtZfjEbAqOa",
        "colab": {
          "base_uri": "https://localhost:8080/"
        },
        "outputId": "2f3593ea-c4b6-4bfd-e602-14d9fd40a7e5"
      },
      "source": [
        "halo = ['Halo']*5\n",
        "halo"
      ],
      "execution_count": 251,
      "outputs": [
        {
          "output_type": "execute_result",
          "data": {
            "text/plain": [
              "['Halo', 'Halo', 'Halo', 'Halo', 'Halo']"
            ]
          },
          "metadata": {},
          "execution_count": 251
        }
      ]
    },
    {
      "cell_type": "code",
      "metadata": {
        "colab": {
          "base_uri": "https://localhost:8080/"
        },
        "id": "JfwrN1TbkGEP",
        "outputId": "d8519f30-396d-473f-de2f-a92660bbd887"
      },
      "source": [
        "[0]*3"
      ],
      "execution_count": 252,
      "outputs": [
        {
          "output_type": "execute_result",
          "data": {
            "text/plain": [
              "[0, 0, 0]"
            ]
          },
          "metadata": {},
          "execution_count": 252
        }
      ]
    },
    {
      "cell_type": "code",
      "metadata": {
        "colab": {
          "base_uri": "https://localhost:8080/"
        },
        "id": "vLMVp7NdkKAg",
        "outputId": "f9a2a91a-63a7-4fca-ece3-6d8bcd8fe805"
      },
      "source": [
        "[[0]*3]"
      ],
      "execution_count": 253,
      "outputs": [
        {
          "output_type": "execute_result",
          "data": {
            "text/plain": [
              "[[0, 0, 0]]"
            ]
          },
          "metadata": {},
          "execution_count": 253
        }
      ]
    },
    {
      "cell_type": "code",
      "metadata": {
        "colab": {
          "base_uri": "https://localhost:8080/"
        },
        "id": "RwNh7D4nkOE0",
        "outputId": "5c305792-b427-4ac5-fd84-0fe884ce7d74"
      },
      "source": [
        "[[0]]*3"
      ],
      "execution_count": 254,
      "outputs": [
        {
          "output_type": "execute_result",
          "data": {
            "text/plain": [
              "[[0], [0], [0]]"
            ]
          },
          "metadata": {},
          "execution_count": 254
        }
      ]
    },
    {
      "cell_type": "code",
      "metadata": {
        "id": "YCFBxg-SAv6V",
        "colab": {
          "base_uri": "https://localhost:8080/"
        },
        "outputId": "9191d95b-62d6-4046-85bd-5dd5d8f89406"
      },
      "source": [
        "number = [1, 3, 5, 7, 9, 2, 4, 6, 8, 10]\n",
        "print('8 in list? = ', 8 in number)\n",
        "print('20 not in list? = ', 20 not in number)"
      ],
      "execution_count": 255,
      "outputs": [
        {
          "output_type": "stream",
          "name": "stdout",
          "text": [
            "8 in list? =  True\n",
            "20 not in list? =  True\n"
          ]
        }
      ]
    },
    {
      "cell_type": "code",
      "metadata": {
        "id": "nK8dqvf3BAII",
        "colab": {
          "base_uri": "https://localhost:8080/"
        },
        "outputId": "54f0abcb-7077-4ba0-cf96-e23a171de5a2"
      },
      "source": [
        "number = [1, 3, 5, 7, 9, 2, 4, 6, 8, 10]\n",
        "for x in number :\n",
        "  print(x, end=' ')"
      ],
      "execution_count": 256,
      "outputs": [
        {
          "output_type": "stream",
          "name": "stdout",
          "text": [
            "1 3 5 7 9 2 4 6 8 10 "
          ]
        }
      ]
    },
    {
      "cell_type": "markdown",
      "metadata": {
        "id": "oBxGPKZ-TQ8v"
      },
      "source": [
        "### **Copy a List**\n",
        "\n",
        "You cannot copy a list simply by typing `list2 = list1`, because: `list2` will only be a ***reference*** to `list1`, and changes made in `list1` will automatically also be made in `list2`.\n",
        "\n",
        "There are ways to make a copy, one way is to use the built-in List method `copy()`."
      ]
    },
    {
      "cell_type": "code",
      "metadata": {
        "id": "VPNYtVcEz7N9",
        "colab": {
          "base_uri": "https://localhost:8080/"
        },
        "outputId": "16de4af4-563b-4435-9c1c-47a921aa8925"
      },
      "source": [
        "thislist = [\"apple\", \"banana\", \"cherry\"]\n",
        "mylist = thislist\n",
        "print(thislist)\n",
        "print(mylist)\n",
        "\n",
        "mylist[0]='watermelon'\n",
        "print(thislist) # change also\n",
        "print(mylist)"
      ],
      "execution_count": 257,
      "outputs": [
        {
          "output_type": "stream",
          "name": "stdout",
          "text": [
            "['apple', 'banana', 'cherry']\n",
            "['apple', 'banana', 'cherry']\n",
            "['watermelon', 'banana', 'cherry']\n",
            "['watermelon', 'banana', 'cherry']\n"
          ]
        }
      ]
    },
    {
      "cell_type": "markdown",
      "metadata": {
        "id": "jkt4aidWTgQN"
      },
      "source": [
        "Make a copy of a list with the `copy()`method:"
      ]
    },
    {
      "cell_type": "code",
      "metadata": {
        "id": "SivjGQffTkji",
        "colab": {
          "base_uri": "https://localhost:8080/"
        },
        "outputId": "9e516c41-6ed9-415e-958e-af2460fced31"
      },
      "source": [
        "thislist = [\"apple\", \"banana\", \"cherry\"]\n",
        "mylist = thislist.copy()\n",
        "print(mylist)"
      ],
      "execution_count": 258,
      "outputs": [
        {
          "output_type": "stream",
          "name": "stdout",
          "text": [
            "['apple', 'banana', 'cherry']\n"
          ]
        }
      ]
    },
    {
      "cell_type": "markdown",
      "metadata": {
        "id": "aYpI2UNkTl2N"
      },
      "source": [
        "Another way to make a copy is to use the built-in method `list()`."
      ]
    },
    {
      "cell_type": "code",
      "metadata": {
        "id": "xL76OAOkTnZ0",
        "colab": {
          "base_uri": "https://localhost:8080/"
        },
        "outputId": "abd5c4f5-500c-4d6d-ca88-5a94e40048c6"
      },
      "source": [
        "thislist = [\"apple\", \"banana\", \"cherry\"]\n",
        "mylist = list(thislist)\n",
        "print(mylist)"
      ],
      "execution_count": 259,
      "outputs": [
        {
          "output_type": "stream",
          "name": "stdout",
          "text": [
            "['apple', 'banana', 'cherry']\n"
          ]
        }
      ]
    },
    {
      "cell_type": "markdown",
      "metadata": {
        "id": "H_vnIZvYzpUM"
      },
      "source": [
        "or copy list with `data[:]`"
      ]
    },
    {
      "cell_type": "code",
      "metadata": {
        "id": "xGRgw0Ehznio",
        "colab": {
          "base_uri": "https://localhost:8080/"
        },
        "outputId": "06f9fe6c-51fb-4907-c272-cc43a5f3c0a3"
      },
      "source": [
        "thislist = [\"apple\", \"banana\", \"cherry\"]\n",
        "mylist = thislist[:]\n",
        "print(mylist)"
      ],
      "execution_count": 260,
      "outputs": [
        {
          "output_type": "stream",
          "name": "stdout",
          "text": [
            "['apple', 'banana', 'cherry']\n"
          ]
        }
      ]
    },
    {
      "cell_type": "markdown",
      "metadata": {
        "id": "9bGkvAUUT0xi"
      },
      "source": [
        "### **Concatenate List**\n",
        "\n",
        "One of the easiest ways are by using the `+` operator."
      ]
    },
    {
      "cell_type": "code",
      "metadata": {
        "id": "eoATDxVvT7i4",
        "colab": {
          "base_uri": "https://localhost:8080/"
        },
        "outputId": "844a89f6-5c04-40c4-e846-85b3f20cba4c"
      },
      "source": [
        "list1 = [\"a\", \"b\" , \"c\"]\n",
        "list2 = [1, 2, 3]\n",
        "\n",
        "list3 = list1 + list2\n",
        "print(list3)"
      ],
      "execution_count": 261,
      "outputs": [
        {
          "output_type": "stream",
          "name": "stdout",
          "text": [
            "['a', 'b', 'c', 1, 2, 3]\n"
          ]
        }
      ]
    },
    {
      "cell_type": "markdown",
      "metadata": {
        "id": "HoeceHS10zbz"
      },
      "source": [
        "if you use like this, it can't concated but added on items of list 2D "
      ]
    },
    {
      "cell_type": "code",
      "metadata": {
        "id": "J-09UVJR0ZDF",
        "colab": {
          "base_uri": "https://localhost:8080/"
        },
        "outputId": "a62ba968-ffa9-4806-ecb4-407d072750b4"
      },
      "source": [
        "list1 = [\"a\", \"b\" , \"c\"]\n",
        "list2 = [1, 2, 3]\n",
        "\n",
        "list3 = [list1, list2]\n",
        "print(list3)"
      ],
      "execution_count": 262,
      "outputs": [
        {
          "output_type": "stream",
          "name": "stdout",
          "text": [
            "[['a', 'b', 'c'], [1, 2, 3]]\n"
          ]
        }
      ]
    },
    {
      "cell_type": "markdown",
      "metadata": {
        "id": "vct6rUBDT-X5"
      },
      "source": [
        "Another way to join two lists are by `appending` all the items from `list2` into `list1`, one by one:"
      ]
    },
    {
      "cell_type": "code",
      "metadata": {
        "id": "rHJGvkS0UB-W",
        "colab": {
          "base_uri": "https://localhost:8080/"
        },
        "outputId": "cf6ddd80-b5ab-4d41-c7c0-760c2f38cd2f"
      },
      "source": [
        "list1 = [\"a\", \"b\" , \"c\"]\n",
        "list2 = [1, 2, 3]\n",
        "\n",
        "for x in list2:\n",
        "  list1.append(x)\n",
        "\n",
        "print(list1)"
      ],
      "execution_count": 263,
      "outputs": [
        {
          "output_type": "stream",
          "name": "stdout",
          "text": [
            "['a', 'b', 'c', 1, 2, 3]\n"
          ]
        }
      ]
    },
    {
      "cell_type": "markdown",
      "metadata": {
        "id": "utLpAhMlUFi7"
      },
      "source": [
        "Or you can use the `extend()` method, which purpose is to add elements from one list to another list:"
      ]
    },
    {
      "cell_type": "code",
      "metadata": {
        "id": "lZSG-h4DUIIJ",
        "colab": {
          "base_uri": "https://localhost:8080/"
        },
        "outputId": "7e006d62-778e-4361-f5dd-ae0352566b4c"
      },
      "source": [
        "list1 = [\"a\", \"b\" , \"c\"]\n",
        "list2 = [1, 2, 3]\n",
        "\n",
        "list1.extend(list2)\n",
        "print(list1)"
      ],
      "execution_count": 264,
      "outputs": [
        {
          "output_type": "stream",
          "name": "stdout",
          "text": [
            "['a', 'b', 'c', 1, 2, 3]\n"
          ]
        }
      ]
    },
    {
      "cell_type": "markdown",
      "metadata": {
        "id": "6RUYWfV90ouC"
      },
      "source": [
        "### **List Comprehension**\n",
        "\n",
        "membuat list dengan inline loop dan if\n",
        "\n",
        "`new_list = [expression for_loop_one_or_more conditions]`\n",
        "\n",
        "Ada kalanya Anda perlu untuk membuat sebuah list baru dari dengan sebuah operasi dari list sebelumnya. Misalnya membuat nilai kuadrat dari semua item dalam list:\n",
        "\n"
      ]
    },
    {
      "cell_type": "code",
      "metadata": {
        "id": "63o7seof0uz9",
        "colab": {
          "base_uri": "https://localhost:8080/"
        },
        "outputId": "d90675d7-e6e4-434b-eb0b-6d263ac5af78"
      },
      "source": [
        "[_ for _ in range(1, 9, 2)]  # list comprehension"
      ],
      "execution_count": 265,
      "outputs": [
        {
          "output_type": "execute_result",
          "data": {
            "text/plain": [
              "[1, 3, 5, 7]"
            ]
          },
          "metadata": {},
          "execution_count": 265
        }
      ]
    },
    {
      "cell_type": "code",
      "metadata": {
        "colab": {
          "base_uri": "https://localhost:8080/"
        },
        "id": "pn2cJCHieY4b",
        "outputId": "fd3b097c-d82f-4e1c-e21a-2cbc80ee26ad"
      },
      "source": [
        "squares = [x ** 2 for x in range(10)]\n",
        "squares"
      ],
      "execution_count": 266,
      "outputs": [
        {
          "output_type": "execute_result",
          "data": {
            "text/plain": [
              "[0, 1, 4, 9, 16, 25, 36, 49, 64, 81]"
            ]
          },
          "metadata": {},
          "execution_count": 266
        }
      ]
    },
    {
      "cell_type": "code",
      "metadata": {
        "colab": {
          "base_uri": "https://localhost:8080/"
        },
        "id": "ZOmd_TnjecNV",
        "outputId": "c526d8ef-13ec-4ae9-fd2a-3845e8b3afe8"
      },
      "source": [
        "twos = [2 ** i for i in range(8)]\n",
        "twos"
      ],
      "execution_count": 267,
      "outputs": [
        {
          "output_type": "execute_result",
          "data": {
            "text/plain": [
              "[1, 2, 4, 8, 16, 32, 64, 128]"
            ]
          },
          "metadata": {},
          "execution_count": 267
        }
      ]
    },
    {
      "cell_type": "code",
      "metadata": {
        "colab": {
          "base_uri": "https://localhost:8080/"
        },
        "id": "uxP0Rk4-efon",
        "outputId": "92cd3659-215e-4bfa-9598-400e5760b35e"
      },
      "source": [
        "odds = [x for x in squares if x % 2 != 0 ]\n",
        "odds"
      ],
      "execution_count": 268,
      "outputs": [
        {
          "output_type": "execute_result",
          "data": {
            "text/plain": [
              "[1, 9, 25, 49, 81]"
            ]
          },
          "metadata": {},
          "execution_count": 268
        }
      ]
    },
    {
      "cell_type": "code",
      "metadata": {
        "colab": {
          "base_uri": "https://localhost:8080/"
        },
        "id": "z2udNuJte0I8",
        "outputId": "bb1489c2-20c9-411b-c17c-76aff9f40a06"
      },
      "source": [
        "board = [[i for i in range(8)] for j in range(8)]\n",
        "board"
      ],
      "execution_count": 269,
      "outputs": [
        {
          "output_type": "execute_result",
          "data": {
            "text/plain": [
              "[[0, 1, 2, 3, 4, 5, 6, 7],\n",
              " [0, 1, 2, 3, 4, 5, 6, 7],\n",
              " [0, 1, 2, 3, 4, 5, 6, 7],\n",
              " [0, 1, 2, 3, 4, 5, 6, 7],\n",
              " [0, 1, 2, 3, 4, 5, 6, 7],\n",
              " [0, 1, 2, 3, 4, 5, 6, 7],\n",
              " [0, 1, 2, 3, 4, 5, 6, 7],\n",
              " [0, 1, 2, 3, 4, 5, 6, 7]]"
            ]
          },
          "metadata": {},
          "execution_count": 269
        }
      ]
    },
    {
      "cell_type": "code",
      "metadata": {
        "colab": {
          "base_uri": "https://localhost:8080/"
        },
        "id": "GGRQPCntfEx1",
        "outputId": "47b8c54d-1a7e-47a6-cf5f-9d7efc9dea7b"
      },
      "source": [
        "rooms = [[[False for r in range(20)] for f in range(2)] for t in range(2)]\n",
        "print(rooms)"
      ],
      "execution_count": 270,
      "outputs": [
        {
          "output_type": "stream",
          "name": "stdout",
          "text": [
            "[[[False, False, False, False, False, False, False, False, False, False, False, False, False, False, False, False, False, False, False, False], [False, False, False, False, False, False, False, False, False, False, False, False, False, False, False, False, False, False, False, False]], [[False, False, False, False, False, False, False, False, False, False, False, False, False, False, False, False, False, False, False, False], [False, False, False, False, False, False, False, False, False, False, False, False, False, False, False, False, False, False, False, False]]]\n"
          ]
        }
      ]
    },
    {
      "cell_type": "code",
      "metadata": {
        "id": "WbqyXHd2nV98",
        "colab": {
          "base_uri": "https://localhost:8080/"
        },
        "outputId": "e4aa1d1d-d4c7-4c7e-9c98-badb313f9dac"
      },
      "source": [
        "#Cara 1\n",
        "numbers = [1, 2, 3, 4]\n",
        "squares = []\n",
        "for n in numbers:\n",
        "  squares.append(n**2)\n",
        "print(squares)\n",
        "\n",
        "#Cara 2 List Comprehension\n",
        "numbers = [1, 2, 3, 4]\n",
        "squares = [n**2 for n in numbers]\n",
        "print(squares)"
      ],
      "execution_count": 271,
      "outputs": [
        {
          "output_type": "stream",
          "name": "stdout",
          "text": [
            "[1, 4, 9, 16]\n",
            "[1, 4, 9, 16]\n"
          ]
        }
      ]
    },
    {
      "cell_type": "code",
      "metadata": {
        "id": "8Lfz52o0npOB",
        "colab": {
          "base_uri": "https://localhost:8080/"
        },
        "outputId": "f9afd186-602e-4e6b-950a-d3c9bd291c7d"
      },
      "source": [
        "#Contoh3 menemukan bilangan yang ada di kedua list\n",
        "list_a = [1, 2, 3, 4]\n",
        "list_b = [2, 3, 4, 5]\n",
        "common_num = []\n",
        "for a in list_a:\n",
        "  for b in list_b:\n",
        "    if a == b:\n",
        "      common_num.append(a)\n",
        "     \n",
        "print(common_num)  # Output [2, 3, 4]\n",
        "\n",
        "#Contoh4 Implementasi dengan list comprehension\n",
        "list_a = [1, 2, 3, 4]\n",
        "list_b = [2, 3, 4, 5]\n",
        "common_num = [a for a in list_a for b in list_b if a == b]\n",
        "print(common_num) # Output: [2, 3, 4]"
      ],
      "execution_count": 272,
      "outputs": [
        {
          "output_type": "stream",
          "name": "stdout",
          "text": [
            "[2, 3, 4]\n",
            "[2, 3, 4]\n"
          ]
        }
      ]
    },
    {
      "cell_type": "code",
      "metadata": {
        "id": "bMYxO9Evn02l",
        "colab": {
          "base_uri": "https://localhost:8080/"
        },
        "outputId": "2200d473-c393-4b2a-a7ff-279165b895df"
      },
      "source": [
        "# Contoh 5 kecilkan semua huruf\n",
        "data = [\"Hello\", \"World\", \"In\", \"Python\"]\n",
        "small_data = [x.lower() for x in data]\n",
        "print(small_data) # Output: ['hello', 'world', 'in', 'python']"
      ],
      "execution_count": 273,
      "outputs": [
        {
          "output_type": "stream",
          "name": "stdout",
          "text": [
            "['hello', 'world', 'in', 'python']\n"
          ]
        }
      ]
    },
    {
      "cell_type": "code",
      "metadata": {
        "id": "eVFnKoaVoCrK",
        "colab": {
          "base_uri": "https://localhost:8080/"
        },
        "outputId": "7174c00b-062c-4029-90e9-5590618fb812"
      },
      "source": [
        "list_a = range(1, 10, 2)\n",
        "x = [[a**2, a**3] for a in list_a]\n",
        "print(x)"
      ],
      "execution_count": 274,
      "outputs": [
        {
          "output_type": "stream",
          "name": "stdout",
          "text": [
            "[[1, 1], [9, 27], [25, 125], [49, 343], [81, 729]]\n"
          ]
        }
      ]
    },
    {
      "cell_type": "code",
      "metadata": {
        "id": "dDpYAfAPuYt7",
        "colab": {
          "base_uri": "https://localhost:8080/"
        },
        "outputId": "a396f8df-47b9-4535-a919-87d6996c3517"
      },
      "source": [
        "S = [0, 1, 4, 9, 16, 25, 36, 49, 64, 81]\n",
        "\n",
        "T = [item for item in S if (item%2 == 0)]\n",
        "\n",
        "print(T)"
      ],
      "execution_count": 275,
      "outputs": [
        {
          "output_type": "stream",
          "name": "stdout",
          "text": [
            "[0, 4, 16, 36, 64]\n"
          ]
        }
      ]
    },
    {
      "cell_type": "code",
      "metadata": {
        "colab": {
          "base_uri": "https://localhost:8080/"
        },
        "id": "mo_wI_fKAYWs",
        "outputId": "c61d4877-875a-496e-ae23-76e1f8a07f22"
      },
      "source": [
        "def choice(command, result):\n",
        "    items = command.strip().split()\n",
        "    if items[0] == \"insert\":\n",
        "        result.insert(int(items[1]), int(items[2]))\n",
        "    elif items[0] == \"remove\":\n",
        "        result.remove(int(items[1]))\n",
        "    elif items[0] == \"append\":\n",
        "        result.append(int(items[1]))\n",
        "    elif items[0] == \"sort\":\n",
        "        result.sort()\n",
        "    elif items[0] == \"pop\":\n",
        "        result.pop()\n",
        "    elif items[0] == \"reverse\":\n",
        "        result.reverse()\n",
        "    elif items[0] == \"print\":\n",
        "        return 0\n",
        "    else:\n",
        "        return \"Your command is not available, retry!\"\n",
        "    return result\n",
        "\n",
        "\n",
        "N = int(input())\n",
        "list_num = []\n",
        "for i in range(N):\n",
        "  command = input()\n",
        "  result = choice(command, list_num)\n",
        "  if result == 0 :\n",
        "    print(list_num)\n",
        "  elif isinstance(result, str):\n",
        "    print(result)\n",
        "  else:\n",
        "    list_num = result\n",
        "\n",
        "# Consider a list (list = []). You can perform the following commands:\n",
        "\n",
        "# insert i e: Insert integer  at position .\n",
        "# print: Print the list.\n",
        "# remove e: Delete the first occurrence of integer .\n",
        "# append e: Insert integer  at the end of the list.\n",
        "# sort: Sort the list.\n",
        "# pop: Pop the last element from the list.\n",
        "# reverse: Reverse the list.\n",
        "\n",
        "# Example\n",
        "# 13\n",
        "# insert 0 5\n",
        "# insert 1 10\n",
        "# insert 0 6\n",
        "# print\n",
        "# remove 6\n",
        "# append 9\n",
        "# append 1\n",
        "# sort\n",
        "# prin --> example wrong instruction\n",
        "# print\n",
        "# pop\n",
        "# reverse\n",
        "# print"
      ],
      "execution_count": 538,
      "outputs": [
        {
          "output_type": "stream",
          "name": "stdout",
          "text": [
            "13\n",
            "insert 0 5\n",
            "insert 1 10\n",
            "insert 0 6\n",
            "print\n",
            "[6, 5, 10]\n",
            "remove 6\n",
            "append 9\n",
            "append 1\n",
            "sort\n",
            "prin\n",
            "Your command is not available, retry!\n",
            "print\n",
            "[1, 5, 9, 10]\n",
            "pop\n",
            "reverse\n",
            "print\n",
            "[9, 5, 1]\n"
          ]
        }
      ]
    },
    {
      "cell_type": "markdown",
      "metadata": {
        "id": "CeHs4i_pCUkt"
      },
      "source": [
        "### **Build-In Functions List**\n",
        "\n",
        "**<h4>Python Function<h4>**\n",
        "\n",
        "* `len(list)`\n",
        "    \n",
        "    Memberikan total panjang * list.\n",
        "\n",
        "* `max(list)`\n",
        "\n",
        "    Mengembalikan item dari list dengan nilai maks.\n",
        "\n",
        "* `min(list)`\n",
        "\n",
        "    Mengembalikan item dari list dengan nilai min.\n",
        "\n",
        "* `list(seq)`\n",
        "\n",
        "    Mengubah tuple menjadi list.\n",
        "\n",
        "\n",
        "**<h4>Python Methods<h4>**\n",
        "\n",
        "* `list.append(obj)`\n",
        "\n",
        "    Menambahkan objek obj ke list\n",
        "\n",
        "* `list.count(obj)`\n",
        "\n",
        "    Jumlah pengembalian berapa kali obj terjadi dalam list\n",
        "\n",
        "* `list.clear()`\n",
        "\n",
        "    Menghapus semua element di list\n",
        "\n",
        "* `list.copy()`\n",
        "\n",
        "* `list.extend(seq)`\n",
        "\n",
        "    Tambahkan isi seq ke list\n",
        "\n",
        "* `list.index(obj)`\n",
        "\n",
        "    Mengembalikan indeks terendah dalam list yang muncul obj\n",
        "\n",
        "* `list.insert(index, obj)`\n",
        "\n",
        "    Sisipkan objek obj ke dalam list di indeks offset\n",
        "\n",
        "* `list.pop(obj = list[-1])`\n",
        "\n",
        "    Menghapus dan mengembalikan objek atau obj terakhir dari list\n",
        "\n",
        "* `list.remove(obj)`\n",
        "\n",
        "    Removes object obj from list\n",
        "\n",
        "* `list.reverse()`\n",
        "\n",
        "    Membalik list objek di tempat\n",
        "\n",
        "* `list.sort([func])` -> `list.sort(reverse=True|False, key=myFunc)`\n",
        "\n",
        "    reverse ->\tOptional. reverse=True will sort the list descending. Default is reverse=False\n",
        "    \n",
        "    key ->\tOptional. A function to specify the sorting criteria(s)\n",
        "\n",
        "    Urutkan objek list, gunakan compare func jika diberikan\n",
        "\n",
        "    * Metode sort tidak dapat mengurutkan list yang memiliki angka dan string sekaligus di dalamnya. \n",
        "\n",
        "    `z = [1, 3, 2, 4, 'Alice', 'Bob']`\n",
        "    \n",
        "    `z.sort()`\n",
        "\n",
        "    TypeError: unorderable types: str() < int()\n",
        "\n",
        "    * Metode sort menggunakan urutan ASCII, sehingga nilai huruf kapital (uppercase) akan lebih dahulu dibandingkan huruf kecil (lowercase). Contohnya:\n",
        "\n",
        "    `m = ['Alice', 'ants', 'Bob', 'badgers', 'Carol', 'cats']`\n",
        "    \n",
        "    `m.sort()`\n",
        "    \n",
        "    Output:\n",
        "\n",
        "    ['Alice', 'Bob', 'Carol', 'ants', 'badgers', 'cats']\n",
        "\n",
        "* `sorted(iterable, key=key, reverse=reverse)`\n",
        "\n",
        "    iterable -->\tRequired. The sequence to sort, list, dictionary, tuple etc.\n",
        "\n",
        "    key --> \tOptional. A Function to execute to decide the order. Default is None\n",
        "\n",
        "    reverse -->\tOptional. A Boolean. False will sort ascending, True will sort descending. Default is False\n",
        "\n",
        "    `sorted(numbers)`\n",
        "\n",
        "    [1, 3, 6, 9]\n",
        "    \n",
        "    `numbers`\n",
        "    \n",
        "    [6, 9, 3, 1]\n",
        "\n",
        "    The output from this code is a new, sorted list. When the original variable is printed, the initial values are unchanged.\n",
        "\n",
        "    This example shows four important characteristics of sorted():\n",
        "\n",
        "  * The function sorted() did not have to be defined. It’s a built-in function that is available in a standard installation of Python.\n",
        "  * sorted(), with no additional arguments or parameters, is ordering the values in numbers in an ascending order, meaning smallest to largest.\n",
        "  * The original numbers variable is unchanged because sorted() provides sorted output and does not change the original value in place.\n",
        "  * When sorted() is called, it provides an ordered list as a return value."
      ]
    },
    {
      "cell_type": "code",
      "metadata": {
        "id": "Va9kG6J-lVvH",
        "colab": {
          "base_uri": "https://localhost:8080/"
        },
        "outputId": "685d984a-5201-4e57-c08a-975d38cf3b52"
      },
      "source": [
        "fruits = ['apple', 'banana', 'cherry', 'grape', 'cherry']\n",
        "\n",
        "x = fruits.count(\"cherry\")\n",
        "x"
      ],
      "execution_count": 277,
      "outputs": [
        {
          "output_type": "execute_result",
          "data": {
            "text/plain": [
              "2"
            ]
          },
          "metadata": {},
          "execution_count": 277
        }
      ]
    },
    {
      "cell_type": "code",
      "metadata": {
        "id": "oXDPWewUlkzb",
        "colab": {
          "base_uri": "https://localhost:8080/"
        },
        "outputId": "188e96b8-ac49-408d-86be-d6a7ff1d9d0b"
      },
      "source": [
        "points = [1, 4, 2, 9, 7, 8, 9, 3, 1]\n",
        "\n",
        "x = points.count(9)\n",
        "x"
      ],
      "execution_count": 278,
      "outputs": [
        {
          "output_type": "execute_result",
          "data": {
            "text/plain": [
              "2"
            ]
          },
          "metadata": {},
          "execution_count": 278
        }
      ]
    },
    {
      "cell_type": "code",
      "metadata": {
        "id": "gdQnMbpcmNlQ",
        "colab": {
          "base_uri": "https://localhost:8080/"
        },
        "outputId": "84b614ae-f6bd-4139-cbde-08839bfa2b1d"
      },
      "source": [
        "fruits = ['apple', 'banana', 'cherry']\n",
        "\n",
        "x = fruits.index(\"cherry\")\n",
        "x"
      ],
      "execution_count": 279,
      "outputs": [
        {
          "output_type": "execute_result",
          "data": {
            "text/plain": [
              "2"
            ]
          },
          "metadata": {},
          "execution_count": 279
        }
      ]
    },
    {
      "cell_type": "code",
      "metadata": {
        "id": "j5H914qUmRUY",
        "colab": {
          "base_uri": "https://localhost:8080/"
        },
        "outputId": "dbf14184-c436-4dda-8961-1f1d9673fb2d"
      },
      "source": [
        "fruits = [4, 55, 64, 32, 16, 32]\n",
        "\n",
        "x = fruits.index(32)\n",
        "x # on first caught"
      ],
      "execution_count": 280,
      "outputs": [
        {
          "output_type": "execute_result",
          "data": {
            "text/plain": [
              "3"
            ]
          },
          "metadata": {},
          "execution_count": 280
        }
      ]
    },
    {
      "cell_type": "code",
      "metadata": {
        "id": "51BoIbpJnNko",
        "colab": {
          "base_uri": "https://localhost:8080/"
        },
        "outputId": "a8daf59e-049e-4a40-c496-ef8f990a51e3"
      },
      "source": [
        "fruits = ['apple', 'banana', 'cherry']\n",
        "\n",
        "fruits.reverse()\n",
        "fruits"
      ],
      "execution_count": 281,
      "outputs": [
        {
          "output_type": "execute_result",
          "data": {
            "text/plain": [
              "['cherry', 'banana', 'apple']"
            ]
          },
          "metadata": {},
          "execution_count": 281
        }
      ]
    },
    {
      "cell_type": "code",
      "metadata": {
        "id": "igx6zp5CnaFl",
        "colab": {
          "base_uri": "https://localhost:8080/"
        },
        "outputId": "c7f150a6-4fff-4588-cf8b-380e62a19734"
      },
      "source": [
        "# Sort the list descending:\n",
        "cars = ['Ford', 'BMW', 'Volvo']\n",
        "\n",
        "cars.sort()\n",
        "cars"
      ],
      "execution_count": 282,
      "outputs": [
        {
          "output_type": "execute_result",
          "data": {
            "text/plain": [
              "['BMW', 'Ford', 'Volvo']"
            ]
          },
          "metadata": {},
          "execution_count": 282
        }
      ]
    },
    {
      "cell_type": "code",
      "metadata": {
        "id": "FP9_QUKr1e2M",
        "colab": {
          "base_uri": "https://localhost:8080/"
        },
        "outputId": "f1d2729a-a4ed-42f8-f024-c3b48b6f059f"
      },
      "source": [
        "# Sort the list asscending:\n",
        "cars = ['Ford', 'BMW', 'Volvo']\n",
        "\n",
        "cars.sort(reverse=True)\n",
        "cars"
      ],
      "execution_count": 283,
      "outputs": [
        {
          "output_type": "execute_result",
          "data": {
            "text/plain": [
              "['Volvo', 'Ford', 'BMW']"
            ]
          },
          "metadata": {},
          "execution_count": 283
        }
      ]
    },
    {
      "cell_type": "code",
      "metadata": {
        "id": "SLh7dSm-n-IR",
        "colab": {
          "base_uri": "https://localhost:8080/"
        },
        "outputId": "de9d0f3e-d53f-4ccd-f530-6e725a8acf07"
      },
      "source": [
        "# Sort the list by the length of the values:\n",
        "# A function that returns the length of the value:\n",
        "def myFunc(e):\n",
        "  return len(e)\n",
        "\n",
        "cars = ['Ford', 'Mitsubishi', 'BMW', 'VW']\n",
        "\n",
        "cars.sort(key=myFunc)\n",
        "cars"
      ],
      "execution_count": 284,
      "outputs": [
        {
          "output_type": "execute_result",
          "data": {
            "text/plain": [
              "['VW', 'BMW', 'Ford', 'Mitsubishi']"
            ]
          },
          "metadata": {},
          "execution_count": 284
        }
      ]
    },
    {
      "cell_type": "code",
      "metadata": {
        "colab": {
          "base_uri": "https://localhost:8080/"
        },
        "id": "NoV0P8HH7U1n",
        "outputId": "8a306d4c-e39a-456d-d605-429027a2eb51"
      },
      "source": [
        "# Demonstrating the sorted() function:\n",
        "first_greek = ['omega', 'alpha', 'pi', 'gamma']\n",
        "first_greek_2 = sorted(first_greek)\n",
        "\n",
        "print(first_greek)\n",
        "print(first_greek_2)"
      ],
      "execution_count": 285,
      "outputs": [
        {
          "output_type": "stream",
          "name": "stdout",
          "text": [
            "['omega', 'alpha', 'pi', 'gamma']\n",
            "['alpha', 'gamma', 'omega', 'pi']\n"
          ]
        }
      ]
    },
    {
      "cell_type": "code",
      "metadata": {
        "id": "oEQynDh_oLDr",
        "colab": {
          "base_uri": "https://localhost:8080/"
        },
        "outputId": "fffb5894-6c73-4e5a-e44d-23647f841159"
      },
      "source": [
        "# Sort a list of dictionaries based on the \"year\" value of the dictionaries:\n",
        "# A function that returns the 'year' value:\n",
        "def myFunc(e):\n",
        "  return e['year']\n",
        "\n",
        "cars = [\n",
        "  {'car': 'Ford', 'year': 2005},\n",
        "  {'car': 'Mitsubishi', 'year': 2000},\n",
        "  {'car': 'BMW', 'year': 2019},\n",
        "  {'car': 'VW', 'year': 2011}\n",
        "]\n",
        "\n",
        "cars.sort(key=myFunc)\n",
        "cars"
      ],
      "execution_count": 286,
      "outputs": [
        {
          "output_type": "execute_result",
          "data": {
            "text/plain": [
              "[{'car': 'Mitsubishi', 'year': 2000},\n",
              " {'car': 'Ford', 'year': 2005},\n",
              " {'car': 'VW', 'year': 2011},\n",
              " {'car': 'BMW', 'year': 2019}]"
            ]
          },
          "metadata": {},
          "execution_count": 286
        }
      ]
    },
    {
      "cell_type": "code",
      "metadata": {
        "id": "wZwTFhFsoRIa",
        "colab": {
          "base_uri": "https://localhost:8080/"
        },
        "outputId": "0891e0a0-dd63-4187-b323-a887eba7ddd8"
      },
      "source": [
        "# Sort the list by the length of the values and reversed:\n",
        "# A function that returns the length of the value:\n",
        "def myFunc(e):\n",
        "  return len(e)\n",
        "\n",
        "cars = ['Ford', 'Mitsubishi', 'BMW', 'VW']\n",
        "\n",
        "cars.sort(reverse=True, key=myFunc)\n",
        "cars"
      ],
      "execution_count": 287,
      "outputs": [
        {
          "output_type": "execute_result",
          "data": {
            "text/plain": [
              "['Mitsubishi', 'Ford', 'BMW', 'VW']"
            ]
          },
          "metadata": {},
          "execution_count": 287
        }
      ]
    },
    {
      "cell_type": "code",
      "metadata": {
        "id": "o5Tr-do_2Sex",
        "colab": {
          "base_uri": "https://localhost:8080/"
        },
        "outputId": "5afc8627-7132-4a7f-b903-ac3a29850d32"
      },
      "source": [
        "m = ['Alice', 'ants', 'Bob', 'badgers', 'Carol', 'cats']\n",
        "m.sort()\n",
        "m"
      ],
      "execution_count": 288,
      "outputs": [
        {
          "output_type": "execute_result",
          "data": {
            "text/plain": [
              "['Alice', 'Bob', 'Carol', 'ants', 'badgers', 'cats']"
            ]
          },
          "metadata": {},
          "execution_count": 288
        }
      ]
    },
    {
      "cell_type": "code",
      "metadata": {
        "id": "Tf5aIxtV2U-z",
        "colab": {
          "base_uri": "https://localhost:8080/"
        },
        "outputId": "eacef48a-8c86-4cc2-9577-813fe6080107"
      },
      "source": [
        "spam = ['a', 'z', 'A', 'Z']\n",
        "spam.sort(key=str.lower)\n",
        "spam"
      ],
      "execution_count": 289,
      "outputs": [
        {
          "output_type": "execute_result",
          "data": {
            "text/plain": [
              "['a', 'A', 'z', 'Z']"
            ]
          },
          "metadata": {},
          "execution_count": 289
        }
      ]
    },
    {
      "cell_type": "markdown",
      "metadata": {
        "id": "T70aQ6JDqfqF"
      },
      "source": [
        "sorted()"
      ]
    },
    {
      "cell_type": "code",
      "metadata": {
        "colab": {
          "base_uri": "https://localhost:8080/"
        },
        "id": "2bEpDm40qg-4",
        "outputId": "78740350-655c-4eee-ed6a-2a75dfb478ee"
      },
      "source": [
        "numbers = [6, 9, 3, 1]\n",
        "sorted(numbers)"
      ],
      "execution_count": 290,
      "outputs": [
        {
          "output_type": "execute_result",
          "data": {
            "text/plain": [
              "[1, 3, 6, 9]"
            ]
          },
          "metadata": {},
          "execution_count": 290
        }
      ]
    },
    {
      "cell_type": "code",
      "metadata": {
        "colab": {
          "base_uri": "https://localhost:8080/"
        },
        "id": "V9YhDnoMql66",
        "outputId": "21020993-af26-42a3-f503-031957847c07"
      },
      "source": [
        "numbers"
      ],
      "execution_count": 291,
      "outputs": [
        {
          "output_type": "execute_result",
          "data": {
            "text/plain": [
              "[6, 9, 3, 1]"
            ]
          },
          "metadata": {},
          "execution_count": 291
        }
      ]
    },
    {
      "cell_type": "code",
      "metadata": {
        "colab": {
          "base_uri": "https://localhost:8080/"
        },
        "id": "ArHaanIpquRE",
        "outputId": "7760ed1e-ce60-4263-bf20-d0c96c0d3e9e"
      },
      "source": [
        "numbers_tuple = (6, 9, 3, 1)\n",
        "numbers_set = {5, 5, 10, 1, 0}\n",
        "numbers_tuple_sorted = sorted(numbers_tuple)\n",
        "numbers_set_sorted = sorted(numbers_set)\n",
        "print(numbers_tuple_sorted)\n",
        "print(numbers_set_sorted)"
      ],
      "execution_count": 292,
      "outputs": [
        {
          "output_type": "stream",
          "name": "stdout",
          "text": [
            "[1, 3, 6, 9]\n",
            "[0, 1, 5, 10]\n"
          ]
        }
      ]
    },
    {
      "cell_type": "code",
      "metadata": {
        "colab": {
          "base_uri": "https://localhost:8080/"
        },
        "id": "r2vCmBisrm16",
        "outputId": "af4d012f-41ba-4488-b829-b0dbf56e4fd3"
      },
      "source": [
        "string_value = 'I like to sort'\n",
        "sorted_string = sorted(string_value.split())\n",
        "sorted_string"
      ],
      "execution_count": 293,
      "outputs": [
        {
          "output_type": "execute_result",
          "data": {
            "text/plain": [
              "['I', 'like', 'sort', 'to']"
            ]
          },
          "metadata": {},
          "execution_count": 293
        }
      ]
    },
    {
      "cell_type": "code",
      "metadata": {
        "colab": {
          "base_uri": "https://localhost:8080/"
        },
        "id": "DdbP54V5rxnV",
        "outputId": "037a30c7-c648-430d-c8c8-f0a78545b1df"
      },
      "source": [
        "names = ['Harry', 'Suzy', 'Al', 'Mark']\n",
        "print(sorted(names))\n",
        "print(sorted(names, reverse=True))"
      ],
      "execution_count": 294,
      "outputs": [
        {
          "output_type": "stream",
          "name": "stdout",
          "text": [
            "['Al', 'Harry', 'Mark', 'Suzy']\n",
            "['Suzy', 'Mark', 'Harry', 'Al']\n"
          ]
        }
      ]
    },
    {
      "cell_type": "code",
      "metadata": {
        "colab": {
          "base_uri": "https://localhost:8080/"
        },
        "id": "5TZqtVkqr7_4",
        "outputId": "73dd9d3b-1c2f-48d3-e0d8-5f6eb7b940ce"
      },
      "source": [
        "words = ['banana', 'pie', 'Washington', 'book']\n",
        "sorted(words, key=len)"
      ],
      "execution_count": 295,
      "outputs": [
        {
          "output_type": "execute_result",
          "data": {
            "text/plain": [
              "['pie', 'book', 'banana', 'Washington']"
            ]
          },
          "metadata": {},
          "execution_count": 295
        }
      ]
    },
    {
      "cell_type": "code",
      "metadata": {
        "colab": {
          "base_uri": "https://localhost:8080/"
        },
        "id": "jImczwuzr_XB",
        "outputId": "5922222a-3704-425b-9887-78a16360ffc8"
      },
      "source": [
        "names_with_case = ['harry', 'Suzy', 'al', 'Mark']\n",
        "sorted(names_with_case, key=str.lower)"
      ],
      "execution_count": 296,
      "outputs": [
        {
          "output_type": "execute_result",
          "data": {
            "text/plain": [
              "['al', 'harry', 'Mark', 'Suzy']"
            ]
          },
          "metadata": {},
          "execution_count": 296
        }
      ]
    },
    {
      "cell_type": "markdown",
      "metadata": {
        "id": "ofZnz77Act54"
      },
      "source": [
        "### **Bubble Short**\n",
        "\n"
      ]
    },
    {
      "cell_type": "code",
      "metadata": {
        "colab": {
          "base_uri": "https://localhost:8080/"
        },
        "id": "xmtT3dKXcw3J",
        "outputId": "47879caa-1d05-4297-b719-02d7be574d8d"
      },
      "source": [
        "my_list = []\n",
        "swapped = True\n",
        "num = int(input(\"How many elements do you want to sort: \"))\n",
        "\n",
        "for i in range(num):\n",
        "    val = float(input(\"Enter a list element: \"))\n",
        "    my_list.append(val)\n",
        "\n",
        "while swapped:\n",
        "    swapped = False\n",
        "    for i in range(len(my_list) - 1):\n",
        "        if my_list[i] > my_list[i + 1]:\n",
        "            swapped = True\n",
        "            my_list[i], my_list[i + 1] = my_list[i + 1], my_list[i]\n",
        "\n",
        "print(\"\\nSorted:\")\n",
        "print(my_list)"
      ],
      "execution_count": 297,
      "outputs": [
        {
          "output_type": "stream",
          "name": "stdout",
          "text": [
            "How many elements do you want to sort: 5\n",
            "Enter a list element: 2\n",
            "Enter a list element: 6\n",
            "Enter a list element: 1\n",
            "Enter a list element: 6\n",
            "Enter a list element: 3\n",
            "\n",
            "Sorted:\n",
            "[1.0, 2.0, 3.0, 6.0, 6.0]\n"
          ]
        }
      ]
    },
    {
      "cell_type": "markdown",
      "metadata": {
        "id": "N7uoDlq2dr17"
      },
      "source": [
        "### **Find Number**"
      ]
    },
    {
      "cell_type": "code",
      "metadata": {
        "colab": {
          "base_uri": "https://localhost:8080/"
        },
        "id": "knWxYahhdo6U",
        "outputId": "a433b03c-a5e1-4b9e-fcd1-dd07777a7cf1"
      },
      "source": [
        "my_list = [1, 2, 3, 4, 5, 6, 7, 8, 9, 10]\n",
        "to_find = 5\n",
        "found = False\n",
        "\n",
        "for i in range(len(my_list)):\n",
        "    found = my_list[i] == to_find\n",
        "    if found:\n",
        "        break\n",
        "\n",
        "if found:\n",
        "    print(\"Element found at index\", i)\n",
        "else:\n",
        "    print(\"absent\")"
      ],
      "execution_count": 298,
      "outputs": [
        {
          "output_type": "stream",
          "name": "stdout",
          "text": [
            "Element found at index 4\n"
          ]
        }
      ]
    },
    {
      "cell_type": "markdown",
      "metadata": {
        "id": "vw5_w5kWDt8f"
      },
      "source": [
        "## **Tuple**\n",
        "\n",
        "A tuple is a sequence of **immutable** Python objects. Tuples are sequences, just like lists. The differences between tuples and lists are, the tuples cannot be changed unlike lists and tuples use parentheses, whereas lists use square brackets.\n",
        "\n",
        "Sebuah tupel adalah urutan objek Python yang tidak berubah. Tupel adalah urutan, seperti daftar. Perbedaan utama antara tupel dan daftarnya adalah bahwa tupel tidak dapat diubah tidak seperti List Python. Tupel menggunakan tanda kurung, sedangkan List Python menggunakan tanda kurung siku.\n",
        "\n",
        "Membuat tuple semudah memasukkan nilai-nilai yang dipisahkan koma. Secara opsional, Anda dapat memasukkan nilai-nilai yang dipisahkan koma ini di antara tanda kurung juga. Sebagai contoh :\n",
        "\n",
        "Contoh sederhana pembuatan tuple pada bahasa pemrograman python\n",
        "\n",
        "`tup1 = ('fisika', 'kimia', 1993, 2017)`\n",
        "\n",
        "`tup2 = ( 1, 2, 3, 4, 5 )`\n",
        "\n",
        "`tup3 = \"a\", \"b\", \"c\", \"d\"`\n",
        "\n",
        "`tup4 = ( 50, )` -> satu item harus pke koma \n",
        "\n",
        "`empty_tup = ()`\n",
        "\n",
        "Tupel kosong ditulis sebagai dua tanda kurung yang tidak berisi apa-apa, contohnya : tup1 = (); Untuk menulis tupel yang berisi satu nilai, Anda harus memasukkan koma, meskipun hanya ada satu nilai, contohnya : tup1 = (50,) Seperti indeks String, indeks tuple mulai dari 0, dan mereka dapat diiris, digabungkan, dan seterusnya\n",
        "\n",
        "**<h4>The tuple() Constructor</h4>**\n",
        "\n",
        "`thistuple = tuple((\"apple\", \"banana\", \"cherry\")) # note the double round-brackets`\n",
        "\n",
        "`print(thistuple)`"
      ]
    },
    {
      "cell_type": "code",
      "metadata": {
        "id": "jaGgB41HABKl",
        "colab": {
          "base_uri": "https://localhost:8080/"
        },
        "outputId": "f22d9951-8d55-4862-d075-d1803395000e"
      },
      "source": [
        "tuple_ = ('Bill', 'Jeff', 'Mark')\n",
        "print(tuple_)"
      ],
      "execution_count": 299,
      "outputs": [
        {
          "output_type": "stream",
          "name": "stdout",
          "text": [
            "('Bill', 'Jeff', 'Mark')\n"
          ]
        }
      ]
    },
    {
      "cell_type": "markdown",
      "metadata": {
        "id": "99qjzQYIEKgd"
      },
      "source": [
        "### **Access Items**\n",
        "\n",
        "***Indexing (Subsetting)* and *Slicing***\n",
        "\n",
        "You access the tuple items by referring to the index number (index number start from 0)."
      ]
    },
    {
      "cell_type": "code",
      "metadata": {
        "id": "57Aetvr1FBS4",
        "colab": {
          "base_uri": "https://localhost:8080/"
        },
        "outputId": "4e56758e-66ea-4f63-907c-b3e332ab5fee"
      },
      "source": [
        "print(tuple_[2])"
      ],
      "execution_count": 300,
      "outputs": [
        {
          "output_type": "stream",
          "name": "stdout",
          "text": [
            "Mark\n"
          ]
        }
      ]
    },
    {
      "cell_type": "code",
      "metadata": {
        "id": "1DAeajFmFW6C",
        "colab": {
          "base_uri": "https://localhost:8080/"
        },
        "outputId": "879f7196-5f45-4c1f-df06-65b878ff273a"
      },
      "source": [
        "print(tuple_[:-1])"
      ],
      "execution_count": 301,
      "outputs": [
        {
          "output_type": "stream",
          "name": "stdout",
          "text": [
            "('Bill', 'Jeff')\n"
          ]
        }
      ]
    },
    {
      "cell_type": "code",
      "metadata": {
        "id": "cTjF6NhLFdSR",
        "colab": {
          "base_uri": "https://localhost:8080/"
        },
        "outputId": "8a3bb9e1-b359-4b19-e6d4-071f3a40c4b4"
      },
      "source": [
        "#Cara mengakses nilai tuple\n",
        "\n",
        "tup1 = ('fisika', 'kimia', 1993, 2017)\n",
        "tup2 = (1, 2, 3, 4, 5, 6, 7 )\n",
        "\n",
        "print (\"tup1[0]: \", tup1[0])\n",
        "print (\"tup2[1:5]: \", tup2[1:5])"
      ],
      "execution_count": 302,
      "outputs": [
        {
          "output_type": "stream",
          "name": "stdout",
          "text": [
            "tup1[0]:  fisika\n",
            "tup2[1:5]:  (2, 3, 4, 5)\n"
          ]
        }
      ]
    },
    {
      "cell_type": "markdown",
      "metadata": {
        "id": "HbUAUf6i1IqU"
      },
      "source": [
        "***Unpacking Sequence***"
      ]
    },
    {
      "cell_type": "code",
      "metadata": {
        "id": "kKLVzrmE_uO7",
        "colab": {
          "base_uri": "https://localhost:8080/"
        },
        "outputId": "26b66ddd-f241-4c70-8fe3-2a6bcf853fb4"
      },
      "source": [
        "# Unpacking Sequence\n",
        "\n",
        "matkul = ('fisika', 'kimia', 'matematika')\n",
        "\n",
        "f, k, m = matkul\n",
        "print (f, k, m)"
      ],
      "execution_count": 303,
      "outputs": [
        {
          "output_type": "stream",
          "name": "stdout",
          "text": [
            "fisika kimia matematika\n"
          ]
        }
      ]
    },
    {
      "cell_type": "markdown",
      "metadata": {
        "id": "3eb3GqCfEKgg"
      },
      "source": [
        "### **Update Items**\n",
        "\n",
        "Tuples are **immutable** which means you cannot update or change the values of tuple elements."
      ]
    },
    {
      "cell_type": "code",
      "metadata": {
        "id": "REupA17jFbFR"
      },
      "source": [
        "# Following action is not valid for tuples\n",
        "# tuple_[0] = 'Elon'"
      ],
      "execution_count": 304,
      "outputs": []
    },
    {
      "cell_type": "markdown",
      "metadata": {
        "id": "HRUdlQ9NGglN"
      },
      "source": [
        "Tuple tidak berubah, yang berarti Anda tidak dapat memperbarui atau mengubah nilai elemen tupel. Anda dapat mengambil bagian dari tupel yang ada untuk membuat tupel baru seperti ditunjukkan oleh contoh berikut."
      ]
    },
    {
      "cell_type": "code",
      "metadata": {
        "id": "04OMhB6jGiqt",
        "colab": {
          "base_uri": "https://localhost:8080/"
        },
        "outputId": "8603dbb6-2bc1-4fd1-8a8d-8e560c73a2d1"
      },
      "source": [
        "tup1 = (12, 34.56)\n",
        "tup2 = ('abc', 'xyz')\n",
        "\n",
        "# Aksi seperti dibawah ini tidak bisa dilakukan pada tuple python\n",
        "# Karena memang nilai pada tuple python tidak bisa diubah\n",
        "# tup1[0] = 100;\n",
        "\n",
        "# Jadi, buatlah tuple baru sebagai berikut\n",
        "tup3 = tup1 + tup2\n",
        "print (tup3)"
      ],
      "execution_count": 305,
      "outputs": [
        {
          "output_type": "stream",
          "name": "stdout",
          "text": [
            "(12, 34.56, 'abc', 'xyz')\n"
          ]
        }
      ]
    },
    {
      "cell_type": "code",
      "metadata": {
        "id": "_ek_jMvFo6oF",
        "colab": {
          "base_uri": "https://localhost:8080/"
        },
        "outputId": "2cf5b6a2-3aa3-4b74-f8ef-26e9b85f64c7"
      },
      "source": [
        "x = (\"apple\", \"banana\", \"cherry\")\n",
        "y = list(x)\n",
        "y[1] = \"kiwi\"\n",
        "x = tuple(y)\n",
        "\n",
        "print(x)"
      ],
      "execution_count": 306,
      "outputs": [
        {
          "output_type": "stream",
          "name": "stdout",
          "text": [
            "('apple', 'kiwi', 'cherry')\n"
          ]
        }
      ]
    },
    {
      "cell_type": "markdown",
      "metadata": {
        "id": "ELxNlmH3EKgj"
      },
      "source": [
        "### **Remove Item**\n",
        "\n",
        "Note: You cannot remove items in a tuple.\n",
        "\n",
        "Removing individual tuple elements is not possible.\n",
        "\n",
        "To explicitly remove an entire tuple, just use the del statement.\n",
        "\n",
        "Menghapus elemen tuple individual tidak mungkin dilakukan. Tentu saja, tidak ada yang salah dengan menggabungkan tupel lain dengan unsur-unsur yang tidak diinginkan dibuang.\n",
        "\n",
        "Untuk secara eksplisit menghapus keseluruhan tuple, cukup gunakan del statement. Sebagai contoh"
      ]
    },
    {
      "cell_type": "code",
      "metadata": {
        "id": "AHhZcO3FF2Lz",
        "colab": {
          "base_uri": "https://localhost:8080/"
        },
        "outputId": "947dd358-99b3-4d31-9e8b-70c7a5728638"
      },
      "source": [
        "tuple_ = ('Bill', 'Jeff', 'Mark')\n",
        "print(tuple_)\n",
        "\n",
        "# del tuple_\n",
        "# print(tuple_)       # This will cause an error because tuple_ is no longer exist"
      ],
      "execution_count": 307,
      "outputs": [
        {
          "output_type": "stream",
          "name": "stdout",
          "text": [
            "('Bill', 'Jeff', 'Mark')\n"
          ]
        }
      ]
    },
    {
      "cell_type": "code",
      "metadata": {
        "id": "oq-eax3bG4gX",
        "colab": {
          "base_uri": "https://localhost:8080/"
        },
        "outputId": "42d399dc-6139-4544-9a32-d7bcd262b553"
      },
      "source": [
        "tup = ('fisika', 'kimia', 1993, 2017);\n",
        "\n",
        "print(tup)\n",
        "del tup\n",
        "print(\"Setelah menghapus tuple : \")\n",
        "# print(tup) name 'tup' is not defined"
      ],
      "execution_count": 308,
      "outputs": [
        {
          "output_type": "stream",
          "name": "stdout",
          "text": [
            "('fisika', 'kimia', 1993, 2017)\n",
            "Setelah menghapus tuple : \n"
          ]
        }
      ]
    },
    {
      "cell_type": "markdown",
      "metadata": {
        "id": "cF_BGfXGo900"
      },
      "source": [
        "### **Loop and If in**"
      ]
    },
    {
      "cell_type": "code",
      "metadata": {
        "id": "V-xZaBJdpBDc",
        "colab": {
          "base_uri": "https://localhost:8080/"
        },
        "outputId": "c9d4b659-e350-4f9b-fe78-533af5b79fa1"
      },
      "source": [
        "thistuple = (\"apple\", \"banana\", \"cherry\")\n",
        "for x in thistuple:\n",
        "  print(x)"
      ],
      "execution_count": 309,
      "outputs": [
        {
          "output_type": "stream",
          "name": "stdout",
          "text": [
            "apple\n",
            "banana\n",
            "cherry\n"
          ]
        }
      ]
    },
    {
      "cell_type": "code",
      "metadata": {
        "id": "nfw02ukNpC0J",
        "colab": {
          "base_uri": "https://localhost:8080/"
        },
        "outputId": "499a1dea-91f3-4441-882b-952a728de61a"
      },
      "source": [
        "thistuple = (\"apple\", \"banana\", \"cherry\")\n",
        "if \"apple\" in thistuple:\n",
        "  print(\"Yes, 'apple' is in the fruits tuple\")"
      ],
      "execution_count": 310,
      "outputs": [
        {
          "output_type": "stream",
          "name": "stdout",
          "text": [
            "Yes, 'apple' is in the fruits tuple\n"
          ]
        }
      ]
    },
    {
      "cell_type": "markdown",
      "metadata": {
        "id": "HGH0nqDfpky0"
      },
      "source": [
        "### **Concatenate Tuple**"
      ]
    },
    {
      "cell_type": "code",
      "metadata": {
        "id": "UcHkXUdPpp6x",
        "colab": {
          "base_uri": "https://localhost:8080/"
        },
        "outputId": "380675a4-a3aa-45cc-af2f-be0583b8e948"
      },
      "source": [
        "tuple1 = (\"a\", \"b\" , \"c\")\n",
        "tuple2 = (1, 2, 3)\n",
        "\n",
        "tuple3 = tuple1 + tuple2\n",
        "print(tuple3)"
      ],
      "execution_count": 311,
      "outputs": [
        {
          "output_type": "stream",
          "name": "stdout",
          "text": [
            "('a', 'b', 'c', 1, 2, 3)\n"
          ]
        }
      ]
    },
    {
      "cell_type": "markdown",
      "metadata": {
        "id": "1Ph2NJJkEKgk"
      },
      "source": [
        "### **Standard Operations**\n",
        "\n",
        "........................................................................\n",
        "\n",
        "***len(), +, *, in, not in (membership), for iterator***\n",
        "\n",
        "........................................................................\n",
        "\n",
        "`len((1, 2, 3, 4))`  -> \t4\t: Length\n",
        "\n",
        "`(1, 2, 3) + (4, 5, 6)`  ->\t(1, 2, 3, 4, 5, 6) : Concatenation\n",
        "\n",
        "`('Halo!',) * 4` ->\t('Halo!', 'Halo!', 'Halo!', 'Halo!') : Repetition\n",
        "\n",
        "`2 in (1, 2, 3)` -> True : Membership\n",
        "\n",
        "`for x in (1,2,3) : print (x,end = ' ')` -> 1 2 3 : Iteration"
      ]
    },
    {
      "cell_type": "code",
      "metadata": {
        "id": "M6PqvCQe59Cl",
        "colab": {
          "base_uri": "https://localhost:8080/"
        },
        "outputId": "51502006-b714-47c6-8fb8-58a847af0401"
      },
      "source": [
        "number = (1, 3, 5, 7, 9, 2, 4, 6, 8, 10)\n",
        "print('Panjang list = ', len(number))"
      ],
      "execution_count": 312,
      "outputs": [
        {
          "output_type": "stream",
          "name": "stdout",
          "text": [
            "Panjang list =  10\n"
          ]
        }
      ]
    },
    {
      "cell_type": "code",
      "metadata": {
        "id": "7cMRMb6x59Cv",
        "colab": {
          "base_uri": "https://localhost:8080/"
        },
        "outputId": "4ed15412-b10d-4ea7-ac16-a4cdd0a50c2f"
      },
      "source": [
        "list1 = (1, 2, 3)\n",
        "list2 = (4, 5, 6)\n",
        "\n",
        "list_combine = list1 + list2\n",
        "list_combine"
      ],
      "execution_count": 313,
      "outputs": [
        {
          "output_type": "execute_result",
          "data": {
            "text/plain": [
              "(1, 2, 3, 4, 5, 6)"
            ]
          },
          "metadata": {},
          "execution_count": 313
        }
      ]
    },
    {
      "cell_type": "code",
      "metadata": {
        "id": "ZzcT3Spi59Cy",
        "colab": {
          "base_uri": "https://localhost:8080/"
        },
        "outputId": "07e09a86-7813-4cba-e653-e01aa2d1c6a4"
      },
      "source": [
        "# or\n",
        "number = (1, 2, 3) + (4, 5, 6)\n",
        "number"
      ],
      "execution_count": 314,
      "outputs": [
        {
          "output_type": "execute_result",
          "data": {
            "text/plain": [
              "(1, 2, 3, 4, 5, 6)"
            ]
          },
          "metadata": {},
          "execution_count": 314
        }
      ]
    },
    {
      "cell_type": "code",
      "metadata": {
        "id": "DqZKhGLB59C0",
        "colab": {
          "base_uri": "https://localhost:8080/"
        },
        "outputId": "ada39dfb-eea7-465d-f19f-05a4e0d623a7"
      },
      "source": [
        "halo = ('Halo',)*5\n",
        "halo"
      ],
      "execution_count": 315,
      "outputs": [
        {
          "output_type": "execute_result",
          "data": {
            "text/plain": [
              "('Halo', 'Halo', 'Halo', 'Halo', 'Halo')"
            ]
          },
          "metadata": {},
          "execution_count": 315
        }
      ]
    },
    {
      "cell_type": "code",
      "metadata": {
        "id": "5AmZ64m859C2",
        "colab": {
          "base_uri": "https://localhost:8080/"
        },
        "outputId": "0ea066a3-23c3-4dca-b6d0-b6e0ab036a3c"
      },
      "source": [
        "number = (1, 3, 5, 7, 9, 2, 4, 6, 8, 10)\n",
        "print('8 in list? = ', 8 in number)\n",
        "print('20 not in list? = ', 20 not in number)"
      ],
      "execution_count": 316,
      "outputs": [
        {
          "output_type": "stream",
          "name": "stdout",
          "text": [
            "8 in list? =  True\n",
            "20 not in list? =  True\n"
          ]
        }
      ]
    },
    {
      "cell_type": "code",
      "metadata": {
        "id": "HsIm_8P559C5",
        "colab": {
          "base_uri": "https://localhost:8080/"
        },
        "outputId": "a45aabf2-25c3-4878-e030-4d2af9f16c4d"
      },
      "source": [
        "number = (1, 3, 5, 7, 9, 2, 4, 6, 8, 10)\n",
        "for x in number :\n",
        "  print(x, end=' ')"
      ],
      "execution_count": 317,
      "outputs": [
        {
          "output_type": "stream",
          "name": "stdout",
          "text": [
            "1 3 5 7 9 2 4 6 8 10 "
          ]
        }
      ]
    },
    {
      "cell_type": "markdown",
      "metadata": {
        "id": "Br49IgYAEKgl"
      },
      "source": [
        "### **Build-In Functions Tuple**\n",
        "\n",
        "**<h4>Python Function<h4>**\n",
        "\n",
        "* `len(tuple)`\n",
        "    \n",
        "    Memberikan total panjang * tuple.\n",
        "\n",
        "* `max(tuple)`\n",
        "\n",
        "    Mengembalikan item dari tuple dengan nilai maks.\n",
        "\n",
        "* `min(tuple)`\n",
        "\n",
        "    Mengembalikan item dari tuple dengan nilai min.\n",
        "\n",
        "* `tuple(seq)`\n",
        "\n",
        "    Mengubah tuple menjadi tuple.\n",
        "* `sorted()`\n",
        "\n",
        "\n",
        "**<h4>Python Methods<h4>**\n",
        "\n",
        "* `tuple.count(obj)`\n",
        "\n",
        "    Jumlah pengembalian berapa kali obj terjadi dalam tuple\n",
        "\n",
        "* `tuple.index(obj)`\n",
        "\n",
        "    Mengembalikan indeks terendah dalam tuple yang muncul obj\n"
      ]
    },
    {
      "cell_type": "code",
      "metadata": {
        "colab": {
          "base_uri": "https://localhost:8080/"
        },
        "id": "XHhwL8SFpmh_",
        "outputId": "67978774-18fa-4d37-ffee-36a97723ed5b"
      },
      "source": [
        "a = (\"b\", \"g\", \"a\", \"d\", \"f\", \"c\", \"h\", \"e\")\n",
        "x = sorted(a)\n",
        "print(x)"
      ],
      "execution_count": 318,
      "outputs": [
        {
          "output_type": "stream",
          "name": "stdout",
          "text": [
            "['a', 'b', 'c', 'd', 'e', 'f', 'g', 'h']\n"
          ]
        }
      ]
    },
    {
      "cell_type": "code",
      "metadata": {
        "colab": {
          "base_uri": "https://localhost:8080/"
        },
        "id": "s8xVw8nPpr0a",
        "outputId": "552e1bcf-95d6-4603-cd0c-2102337a1def"
      },
      "source": [
        "a = (\"h\", \"b\", \"a\", \"c\", \"f\", \"d\", \"e\", \"g\")\n",
        "x = sorted(a, reverse=True)\n",
        "print(x)"
      ],
      "execution_count": 319,
      "outputs": [
        {
          "output_type": "stream",
          "name": "stdout",
          "text": [
            "['h', 'g', 'f', 'e', 'd', 'c', 'b', 'a']\n"
          ]
        }
      ]
    },
    {
      "cell_type": "markdown",
      "metadata": {
        "id": "CdEKiqgE9HvG"
      },
      "source": [
        "Tambahan :\n",
        "\n",
        "Tuple lebih cepat dibandingkan dengan list"
      ]
    },
    {
      "cell_type": "code",
      "metadata": {
        "id": "QKgaamZV9Wsz",
        "colab": {
          "base_uri": "https://localhost:8080/"
        },
        "outputId": "8646e06e-24c6-4ca1-b5fd-852037184161"
      },
      "source": [
        "import timeit\n",
        "\n",
        "data_list = timeit.timeit(stmt=\"[1,2,3,4,5,6,7,8,9]\",number=1000000)\n",
        "data_tuple = timeit.timeit(stmt=\"(1,2,3,4,5,6,7,8,9)\",number=1000000)\n",
        "\n",
        "print(\"waktu untuk memproses list:\",data_list)\n",
        "print(\"waktu untuk memproses tuple:\",data_tuple)"
      ],
      "execution_count": 320,
      "outputs": [
        {
          "output_type": "stream",
          "name": "stdout",
          "text": [
            "waktu untuk memproses list: 0.13403614599997127\n",
            "waktu untuk memproses tuple: 0.01264797300001419\n"
          ]
        }
      ]
    },
    {
      "cell_type": "markdown",
      "metadata": {
        "id": "pQunj2nd9cIt"
      },
      "source": [
        "Tuple lebih ringan dibandingkan dengan list"
      ]
    },
    {
      "cell_type": "code",
      "metadata": {
        "id": "vNmM0LVP9bdr",
        "colab": {
          "base_uri": "https://localhost:8080/"
        },
        "outputId": "a1ae9dc3-9012-4c79-f6a6-ea12c4ad3be6"
      },
      "source": [
        "import sys\n",
        "\n",
        "data_list = [1,2,3,4,5,6,7,8,9,10,\"pisang goreng\",\"syahrini\",\"via vallen\", False, 3.14]\n",
        "data_tuple = (1,2,3,4,5,6,7,8,9,10,\"pisang goreng\",\"syahrini\",\"via vallen\", False, 3.14)\n",
        "\n",
        "besar_datalist = sys.getsizeof(data_list)\n",
        "besar_datatuple = sys.getsizeof(data_tuple)\n",
        "\n",
        "print(\"besar data list:\", besar_datalist)\n",
        "print(\"besar data tuple:\", besar_datatuple)"
      ],
      "execution_count": 321,
      "outputs": [
        {
          "output_type": "stream",
          "name": "stdout",
          "text": [
            "besar data list: 192\n",
            "besar data tuple: 176\n"
          ]
        }
      ]
    },
    {
      "cell_type": "markdown",
      "metadata": {
        "id": "KNhS8UpTrblW"
      },
      "source": [
        "## **Set**\n",
        "\n",
        "Tipe data Set Python adalah tipe data yang berisi kumpulan tipe data dan dipakai untuk mengolah himpunan (set). Jika dibandingkan dengan tipe data berbentuk array lain di Python, tipe data set berbeda dalam hal index, pengurutan dan keunikan nilai (unique value).\n",
        "\n",
        "Tipe data set tidak memiliki index, sehingga tidak ada mekanisme pengurutan. Maksudnya, ketika kita menginput beberapa nilai ke dalam tipe data set, posisi nilai tersebut bisa berada di mana saja, tidak persis seperti apa yang tertulis. Akibat tidak memiliki index, maka kita tidak bisa menambah nilai baru ke dalam tipe data set dengan cara menulis nomor index (seperti di dalam tipe data list)\n",
        "\n",
        "Ciri khas selanjutnya dari tipe data set adalah tidak bisa menerima nilai ganda, setiap nilai di dalam set harus unik. Jika kita menginput beberapa nilai yang sama, hanya satu yang tersimpan di dalam set.\n",
        "\n",
        "**<h4>The set() Constructor</h4>**\n",
        "\n",
        "`thisset = set((\"apple\", \"banana\", \"cherry\")) # note the double round-brackets`\n",
        "\n",
        "`print(thisset)`"
      ]
    },
    {
      "cell_type": "code",
      "metadata": {
        "id": "jY_88iVH5M90",
        "colab": {
          "base_uri": "https://localhost:8080/"
        },
        "outputId": "885de0f8-c1d4-4f39-aafa-d2adbe9adc16"
      },
      "source": [
        "foo = {\"Belajar\", \"Python\", \"di\", \"Duniailkom\"}\n",
        "bar = {100, 200, 300, 400}\n",
        "baz = {\"Python\", 200, 6.99, True}\n",
        " \n",
        "print(foo)\n",
        "print(bar)\n",
        "print(baz)"
      ],
      "execution_count": 322,
      "outputs": [
        {
          "output_type": "stream",
          "name": "stdout",
          "text": [
            "{'di', 'Belajar', 'Duniailkom', 'Python'}\n",
            "{200, 100, 400, 300}\n",
            "{200, True, 'Python', 6.99}\n"
          ]
        }
      ]
    },
    {
      "cell_type": "markdown",
      "metadata": {
        "id": "n5Tv-1u05aP0"
      },
      "source": [
        "### **Sifat Tipe Data Set Python**\n",
        "\n",
        "Seperti yang dibahas pada bagian pengertian, sifat dari tipe data set adalah \n",
        "\n",
        "* tidak ber-index (unindex and unordered)\n",
        "\n",
        "* hanya bisa menerima anggota dengan nilai yang berbeda (unique value).\n",
        "\n",
        " Mari lihat dengan contoh kode program:"
      ]
    },
    {
      "cell_type": "code",
      "metadata": {
        "id": "GDHuUcnu5erO",
        "colab": {
          "base_uri": "https://localhost:8080/"
        },
        "outputId": "92890550-622b-42ac-af9a-a6c13eb8f2a0"
      },
      "source": [
        "foo = {\"Belajar\", \"Python\", \"di\", \"Duniailkom\", \"di\"}\n",
        "bar = {100, 200, 300, 400, 200, 300}\n",
        " \n",
        "print(foo)\n",
        "print(bar)"
      ],
      "execution_count": 323,
      "outputs": [
        {
          "output_type": "stream",
          "name": "stdout",
          "text": [
            "{'di', 'Belajar', 'Duniailkom', 'Python'}\n",
            "{200, 100, 400, 300}\n"
          ]
        }
      ]
    },
    {
      "cell_type": "code",
      "metadata": {
        "id": "Sn-RIrYb5kts"
      },
      "source": [
        "foo = {\"Belajar\", \"Python\", \"di\", \"Duniailkom\", \"di\"}\n",
        " \n",
        "# print(foo[1])  'set' object does not support indexing"
      ],
      "execution_count": 324,
      "outputs": []
    },
    {
      "cell_type": "markdown",
      "metadata": {
        "id": "LQZosxKDpyI1"
      },
      "source": [
        "### **Access Items**\n",
        "\n",
        "You cannot access items in a set by referring to an `index`, since sets are unordered the items has no index.\n",
        "\n",
        "But you can loop through the set items using a `for loop`, or ask if a specified value is present in a set, by using the in keyword."
      ]
    },
    {
      "cell_type": "code",
      "metadata": {
        "id": "xvpnUwPqp_hZ",
        "colab": {
          "base_uri": "https://localhost:8080/"
        },
        "outputId": "9f318860-61aa-433c-8af4-8622cec74ea1"
      },
      "source": [
        "thisset = {\"apple\", \"banana\", \"cherry\"}\n",
        "\n",
        "for x in thisset:\n",
        "  print(x)"
      ],
      "execution_count": 325,
      "outputs": [
        {
          "output_type": "stream",
          "name": "stdout",
          "text": [
            "banana\n",
            "cherry\n",
            "apple\n"
          ]
        }
      ]
    },
    {
      "cell_type": "markdown",
      "metadata": {
        "id": "2WjtxjCjp-yV"
      },
      "source": [
        "### **Update Items**\n",
        "\n",
        "`Once a set is created, you cannot change its items, but you can add new items.`\n"
      ]
    },
    {
      "cell_type": "markdown",
      "metadata": {
        "id": "u3oLXi5wqTCr"
      },
      "source": [
        "### **Add Items**\n",
        "\n",
        "To add one item to a set use the `add()` method.\n",
        "\n",
        "To add more than one item to a set use the `update()` method."
      ]
    },
    {
      "cell_type": "code",
      "metadata": {
        "id": "8K_dWn1YqbB9",
        "colab": {
          "base_uri": "https://localhost:8080/"
        },
        "outputId": "2af8c312-7874-4359-b700-bfec71e681a4"
      },
      "source": [
        "# Add an item to a set, using the add() method:\n",
        "\n",
        "thisset = {\"apple\", \"banana\", \"cherry\"}\n",
        "\n",
        "thisset.add(\"orange\")\n",
        "\n",
        "print(thisset)"
      ],
      "execution_count": 326,
      "outputs": [
        {
          "output_type": "stream",
          "name": "stdout",
          "text": [
            "{'orange', 'banana', 'cherry', 'apple'}\n"
          ]
        }
      ]
    },
    {
      "cell_type": "code",
      "metadata": {
        "id": "p7Th6ZYoqeWr",
        "colab": {
          "base_uri": "https://localhost:8080/"
        },
        "outputId": "aa6cf50e-a226-4265-f9f4-ae152071a4f1"
      },
      "source": [
        "# Add multiple items to a set, using the update() method:\n",
        "\n",
        "thisset = {\"apple\", \"banana\", \"cherry\"}\n",
        "\n",
        "thisset.update([\"orange\", \"mango\", \"grapes\"])\n",
        "\n",
        "print(thisset)"
      ],
      "execution_count": 327,
      "outputs": [
        {
          "output_type": "stream",
          "name": "stdout",
          "text": [
            "{'grapes', 'banana', 'apple', 'orange', 'cherry', 'mango'}\n"
          ]
        }
      ]
    },
    {
      "cell_type": "markdown",
      "metadata": {
        "id": "2wVsDYLrHELi"
      },
      "source": [
        "To determine how many items a set has, use the **len()** function"
      ]
    },
    {
      "cell_type": "code",
      "metadata": {
        "id": "k63YBK0MHEL0",
        "colab": {
          "base_uri": "https://localhost:8080/"
        },
        "outputId": "5a7426fc-8d5c-4881-e39b-a87c88c57d18"
      },
      "source": [
        "thisset = {\"apple\", \"banana\", \"cherry\"}\n",
        "\n",
        "print(len(thisset))"
      ],
      "execution_count": 328,
      "outputs": [
        {
          "output_type": "stream",
          "name": "stdout",
          "text": [
            "3\n"
          ]
        }
      ]
    },
    {
      "cell_type": "markdown",
      "metadata": {
        "id": "_1V8XJ7MHQQx"
      },
      "source": [
        "### **Remove Items**\n",
        "\n",
        "To remove an item in a set, use the `remove()`, or the `discard()` method.\n",
        "\n",
        "* remove()\n",
        "* discard()\n",
        "* pop() -> you will not know which item that gets removed\n",
        "* del -> just to delete all\n",
        "* clear()\n",
        "\n",
        "Note:\n",
        "\n",
        "* If the item to remove does not exist, remove() will raise an error.\n",
        "\n",
        "* If the item to remove does not exist, discard() will NOT raise an error.\n",
        "\n",
        "* Sets are unordered, so when using the pop() method, you will not know which item that gets removed.\n"
      ]
    },
    {
      "cell_type": "markdown",
      "metadata": {
        "id": "0Iftm0Opfs16"
      },
      "source": [
        "**<h4>Remove</h4>**"
      ]
    },
    {
      "cell_type": "code",
      "metadata": {
        "id": "jnRz2CAme78L",
        "colab": {
          "base_uri": "https://localhost:8080/"
        },
        "outputId": "486b07e3-6623-46fe-e8a3-e1c23127642a"
      },
      "source": [
        "thisset = {\"apple\", \"banana\", \"cherry\"}\n",
        "\n",
        "thisset.remove(\"banana\")\n",
        "\n",
        "print(thisset)"
      ],
      "execution_count": 329,
      "outputs": [
        {
          "output_type": "stream",
          "name": "stdout",
          "text": [
            "{'cherry', 'apple'}\n"
          ]
        }
      ]
    },
    {
      "cell_type": "markdown",
      "metadata": {
        "id": "0mKoy-2Sfw1n"
      },
      "source": [
        "**<h4>Discard</h4>**\n",
        "\n",
        "This method is different from the remove() method, because the remove() method will raise an error if the specified item does not exist, and the discard() method will not."
      ]
    },
    {
      "cell_type": "code",
      "metadata": {
        "id": "6SW5CjA4e1Nf",
        "colab": {
          "base_uri": "https://localhost:8080/"
        },
        "outputId": "073b3005-c779-423f-ab56-8aeb6aa16984"
      },
      "source": [
        "thisset = {\"apple\", \"banana\", \"cherry\"}\n",
        "\n",
        "thisset.discard(\"banana\")\n",
        "\n",
        "print(thisset)"
      ],
      "execution_count": 330,
      "outputs": [
        {
          "output_type": "stream",
          "name": "stdout",
          "text": [
            "{'cherry', 'apple'}\n"
          ]
        }
      ]
    },
    {
      "cell_type": "markdown",
      "metadata": {
        "id": "zrK2XDwtf02a"
      },
      "source": [
        "**<h4>Pop</h4>**"
      ]
    },
    {
      "cell_type": "markdown",
      "metadata": {
        "id": "vDjCUEWifA0m"
      },
      "source": [
        "You can also use the `pop()`, method to remove an item, but this method will remove the last item. Remember that sets are `unordered`, so you will not know what item that gets removed.\n",
        "\n",
        "The return value of the `pop()` method is the removed item."
      ]
    },
    {
      "cell_type": "code",
      "metadata": {
        "id": "1VDbzzOafMw9",
        "colab": {
          "base_uri": "https://localhost:8080/"
        },
        "outputId": "4df3fdef-7229-4c0b-e11b-20a8608a4865"
      },
      "source": [
        "# Remove the last item by using the pop() method:\n",
        "\n",
        "thisset = {\"apple\", \"banana\", \"cherry\"}\n",
        "\n",
        "x = thisset.pop()\n",
        "\n",
        "print(x)\n",
        "\n",
        "print(thisset)"
      ],
      "execution_count": 331,
      "outputs": [
        {
          "output_type": "stream",
          "name": "stdout",
          "text": [
            "banana\n",
            "{'cherry', 'apple'}\n"
          ]
        }
      ]
    },
    {
      "cell_type": "markdown",
      "metadata": {
        "id": "3v5M06Skf3-B"
      },
      "source": [
        "**<h4>Del</h4>**"
      ]
    },
    {
      "cell_type": "code",
      "metadata": {
        "id": "5aYvoRZPf6fQ"
      },
      "source": [
        "# The del keyword will delete the set completely:\n",
        "thisset = {\"apple\", \"banana\", \"cherry\"}\n",
        "\n",
        "del thisset\n",
        "\n",
        "# print(thisset) -> name 'thisset' is not defined"
      ],
      "execution_count": 332,
      "outputs": []
    },
    {
      "cell_type": "markdown",
      "metadata": {
        "id": "02Ooj_h-f7RT"
      },
      "source": [
        "**<h4>Clear</h4>**"
      ]
    },
    {
      "cell_type": "code",
      "metadata": {
        "id": "CbKQNNCUf-_o",
        "colab": {
          "base_uri": "https://localhost:8080/"
        },
        "outputId": "a0382270-e716-4251-c309-ed20a86d5769"
      },
      "source": [
        "# The clear() method empties the set:\n",
        "thisset = {\"apple\", \"banana\", \"cherry\"}\n",
        "\n",
        "thisset.clear()\n",
        "\n",
        "print(thisset)"
      ],
      "execution_count": 333,
      "outputs": [
        {
          "output_type": "stream",
          "name": "stdout",
          "text": [
            "set()\n"
          ]
        }
      ]
    },
    {
      "cell_type": "markdown",
      "metadata": {
        "id": "3w4f_Z8m0gqF"
      },
      "source": [
        "### **Concatenate Set**\n",
        "\n",
        "You can use the `union()` method that returns a new set containing all items from both sets, or the `update()` method that inserts all the items from one set into another:\n",
        "\n",
        "Note: \n",
        "\n",
        "Both union() and update() will exclude any duplicate items."
      ]
    },
    {
      "cell_type": "code",
      "metadata": {
        "id": "TQqzYu6R0rmo",
        "colab": {
          "base_uri": "https://localhost:8080/"
        },
        "outputId": "5d1709a1-eb67-415c-8959-459c333f8fb8"
      },
      "source": [
        "# The union() method returns a new set with all items from both sets:\n",
        "\n",
        "set1 = {\"a\", \"b\" , \"c\"}\n",
        "set2 = {1, 2, 3}\n",
        "\n",
        "set3 = set1.union(set2)\n",
        "print(set3)"
      ],
      "execution_count": 334,
      "outputs": [
        {
          "output_type": "stream",
          "name": "stdout",
          "text": [
            "{'c', 'a', 'b', 1, 2, 3}\n"
          ]
        }
      ]
    },
    {
      "cell_type": "code",
      "metadata": {
        "id": "EJJlxyqS0wOB",
        "colab": {
          "base_uri": "https://localhost:8080/"
        },
        "outputId": "62948e50-bd07-4c6e-9b03-0c2b7d624fce"
      },
      "source": [
        "# The update() method inserts the items in set2 into set1:\n",
        "\n",
        "set1 = {\"a\", \"b\" , \"c\"}\n",
        "set2 = {1, 2, 3}\n",
        "\n",
        "set1.update(set2)\n",
        "print(set1)"
      ],
      "execution_count": 335,
      "outputs": [
        {
          "output_type": "stream",
          "name": "stdout",
          "text": [
            "{'c', 'a', 'b', 1, 2, 3}\n"
          ]
        }
      ]
    },
    {
      "cell_type": "markdown",
      "metadata": {
        "id": "zu0z_naz5qnE"
      },
      "source": [
        "### **Operasi Himpunan tipe data Set Python**\n",
        "\n",
        "Tipe data set pada dasarnya adalah tipe data khusus yang dipakai untuk operasi himpunan, seperti operasi gabungan (union), operasi irisan (intersection), dst. Lebih rinci tentang operasi himpunan ini akan kita bahas dalam tutorial khusus tenang operator di dalam bahasa Python."
      ]
    },
    {
      "cell_type": "code",
      "metadata": {
        "id": "hDzlroMN5wz7",
        "colab": {
          "base_uri": "https://localhost:8080/"
        },
        "outputId": "bd943219-cef1-44a4-8efe-cec197f0e99e"
      },
      "source": [
        "foo = {1, 2, 3, 4, 5}\n",
        "bar = {3, 4, 5, 6, 7}\n",
        " \n",
        "print (foo | bar) # union\n",
        "print (foo & bar) # intersection"
      ],
      "execution_count": 336,
      "outputs": [
        {
          "output_type": "stream",
          "name": "stdout",
          "text": [
            "{1, 2, 3, 4, 5, 6, 7}\n",
            "{3, 4, 5}\n"
          ]
        }
      ]
    },
    {
      "cell_type": "code",
      "metadata": {
        "id": "x8xBrQhg9_57",
        "colab": {
          "base_uri": "https://localhost:8080/"
        },
        "outputId": "2cbbb8b6-f9fe-4ea6-a461-973306949720"
      },
      "source": [
        "ganjil = {1,3,5,7,9}\n",
        "genap = {2,4,6,8,10}\n",
        "prima = {2,3,5,7}\n",
        "\n",
        "print(ganjil.union(genap))\n",
        "print(ganjil.intersection(prima))\n",
        "print(ganjil.intersection_update(prima))\n",
        "print(ganjil.difference(prima)) # Remove the items that exist in ganjil\n",
        "print(ganjil.difference_update(prima)) # Remove the items that exist in both sets"
      ],
      "execution_count": 337,
      "outputs": [
        {
          "output_type": "stream",
          "name": "stdout",
          "text": [
            "{1, 2, 3, 4, 5, 6, 7, 8, 9, 10}\n",
            "{3, 5, 7}\n",
            "None\n",
            "set()\n",
            "None\n"
          ]
        }
      ]
    },
    {
      "cell_type": "markdown",
      "metadata": {
        "id": "DwqUkrR7qmlA"
      },
      "source": [
        "### **Build-In Method Set**\n",
        "\n",
        "**<h4>Python Method<h4>**\n",
        "\n",
        "Python has a set of built-in methods that you can use on sets.\n",
        "\n",
        "* `add()`\n",
        "\n",
        "    Adds an element to the set\n",
        "\n",
        "* `clear()`\n",
        "\n",
        "    Removes all the elements from the set\n",
        "\n",
        "* `copy()`\n",
        "\n",
        "    Returns a copy of the set\n",
        "\n",
        "* `difference()`\n",
        "\n",
        "    Returns a set containing the difference between two or more sets\n",
        "\n",
        "* `difference_update()`\n",
        "\n",
        "    Removes the items in this set that are also included in another, specified set\n",
        "\n",
        "* `discard()`\n",
        "\n",
        "    Remove the specified item\n",
        "\n",
        "* `intersection()`\n",
        "\n",
        "    Returns a set, that is the intersection of two other sets\n",
        "\n",
        "* `intersection_update()`\n",
        "\n",
        "    Removes the items in this set that are not present in other, specified set(s)\n",
        "\n",
        "* `isdisjoint()`\n",
        "\n",
        "    Returns whether two sets have a intersection or not\n",
        "\n",
        "* `issubset()`\n",
        "\n",
        "    Returns whether another set contains this set or not\n",
        "\n",
        "* `issuperset()`\n",
        "\n",
        "    Returns whether this set contains another set or not\n",
        "\n",
        "* `pop()`\n",
        "\n",
        "    Removes an element from the set\n",
        "\n",
        "* `remove()`\n",
        "\n",
        "    Removes the specified element\n",
        "\n",
        "* `symmetric_difference()`\n",
        "\n",
        "    Returns a set with the symmetric differences of two sets\n",
        "\n",
        "* `symmetric_difference_update()`\n",
        "\n",
        "    inserts the symmetric differences from this set and another\n",
        "\n",
        "* `union()`\n",
        "\n",
        "    Return a set containing the union of sets\n",
        "\n",
        "* `update()`\n",
        "\n",
        "    Update the set with the union of this set and others"
      ]
    },
    {
      "cell_type": "code",
      "metadata": {
        "id": "0w6jPmIB4Cea",
        "colab": {
          "base_uri": "https://localhost:8080/"
        },
        "outputId": "c6c616bc-be1d-4732-b788-c1e0fdef3450"
      },
      "source": [
        "fruits = {\"apple\", \"banana\", \"cherry\"}\n",
        "\n",
        "fruits.add(\"orange\")\n",
        "\n",
        "print(fruits)"
      ],
      "execution_count": 338,
      "outputs": [
        {
          "output_type": "stream",
          "name": "stdout",
          "text": [
            "{'orange', 'banana', 'cherry', 'apple'}\n"
          ]
        }
      ]
    },
    {
      "cell_type": "code",
      "metadata": {
        "id": "OBTj80as4Fr3",
        "colab": {
          "base_uri": "https://localhost:8080/"
        },
        "outputId": "ba9b2979-99dd-413f-8035-4027e5954881"
      },
      "source": [
        "ruits = {\"apple\", \"banana\", \"cherry\"}\n",
        "\n",
        "fruits.clear()\n",
        "\n",
        "print(fruits)"
      ],
      "execution_count": 339,
      "outputs": [
        {
          "output_type": "stream",
          "name": "stdout",
          "text": [
            "set()\n"
          ]
        }
      ]
    },
    {
      "cell_type": "code",
      "metadata": {
        "id": "fwjoMQxo4IWX",
        "colab": {
          "base_uri": "https://localhost:8080/"
        },
        "outputId": "25b8297c-cda8-4a64-af3d-b10ed41446f9"
      },
      "source": [
        "fruits = {\"apple\", \"banana\", \"cherry\"}\n",
        "\n",
        "x = fruits.copy()\n",
        "\n",
        "print(x)"
      ],
      "execution_count": 340,
      "outputs": [
        {
          "output_type": "stream",
          "name": "stdout",
          "text": [
            "{'banana', 'cherry', 'apple'}\n"
          ]
        }
      ]
    },
    {
      "cell_type": "code",
      "metadata": {
        "id": "u09JP-aR4L1P",
        "colab": {
          "base_uri": "https://localhost:8080/"
        },
        "outputId": "a3f5f138-62ae-499a-fc35-3707a377f571"
      },
      "source": [
        "x = {\"apple\", \"banana\", \"cherry\"}\n",
        "y = {\"google\", \"microsoft\", \"apple\"}\n",
        "\n",
        "z = x.difference(y)\n",
        "\n",
        "print(z)"
      ],
      "execution_count": 341,
      "outputs": [
        {
          "output_type": "stream",
          "name": "stdout",
          "text": [
            "{'banana', 'cherry'}\n"
          ]
        }
      ]
    },
    {
      "cell_type": "code",
      "metadata": {
        "id": "vAVbPARZ-8_T",
        "colab": {
          "base_uri": "https://localhost:8080/"
        },
        "outputId": "f74e95d3-4c66-4c43-b84b-327e04dd18d0"
      },
      "source": [
        "# Remove the items that exist in both sets:\n",
        "\n",
        "x = {\"apple\", \"banana\", \"cherry\"}\n",
        "y = {\"google\", \"microsoft\", \"apple\"}\n",
        "\n",
        "x.difference_update(y)\n",
        "\n",
        "print(x)"
      ],
      "execution_count": 342,
      "outputs": [
        {
          "output_type": "stream",
          "name": "stdout",
          "text": [
            "{'banana', 'cherry'}\n"
          ]
        }
      ]
    },
    {
      "cell_type": "code",
      "metadata": {
        "id": "3evMPVju_L5R",
        "colab": {
          "base_uri": "https://localhost:8080/"
        },
        "outputId": "6f75d646-d823-4bd0-f02b-15c373da4a0b"
      },
      "source": [
        "fruits = {\"apple\", \"banana\", \"cherry\"}\n",
        "\n",
        "fruits.discard(\"banana\")\n",
        "\n",
        "print(fruits)"
      ],
      "execution_count": 343,
      "outputs": [
        {
          "output_type": "stream",
          "name": "stdout",
          "text": [
            "{'cherry', 'apple'}\n"
          ]
        }
      ]
    },
    {
      "cell_type": "code",
      "metadata": {
        "id": "ZIMD-9CI_8fP",
        "colab": {
          "base_uri": "https://localhost:8080/"
        },
        "outputId": "efdc4a98-3616-44e1-a239-c34c85421d56"
      },
      "source": [
        "x = {\"apple\", \"banana\", \"cherry\"}\n",
        "y = {\"google\", \"microsoft\", \"apple\"}\n",
        "\n",
        "z = x.intersection(y)\n",
        "\n",
        "print(z)"
      ],
      "execution_count": 344,
      "outputs": [
        {
          "output_type": "stream",
          "name": "stdout",
          "text": [
            "{'apple'}\n"
          ]
        }
      ]
    },
    {
      "cell_type": "code",
      "metadata": {
        "id": "dgNCmlY8ABSB",
        "colab": {
          "base_uri": "https://localhost:8080/"
        },
        "outputId": "a6bef009-4d62-487b-e9ab-ca291221f029"
      },
      "source": [
        "x = {\"a\", \"b\", \"c\"}\n",
        "y = {\"c\", \"d\", \"e\"}\n",
        "z = {\"f\", \"g\", \"c\"}\n",
        "\n",
        "result = x.intersection(y, z)\n",
        "\n",
        "print(result)"
      ],
      "execution_count": 345,
      "outputs": [
        {
          "output_type": "stream",
          "name": "stdout",
          "text": [
            "{'c'}\n"
          ]
        }
      ]
    },
    {
      "cell_type": "code",
      "metadata": {
        "id": "qSYTniL8A_Kb",
        "colab": {
          "base_uri": "https://localhost:8080/"
        },
        "outputId": "b7eb83fa-d2f4-4ac2-850c-e2301a51b43f"
      },
      "source": [
        "# Remove the items that is not present in both x, and set y:\n",
        "\n",
        "x = {\"apple\", \"banana\", \"cherry\"}\n",
        "y = {\"google\", \"microsoft\", \"apple\"}\n",
        "\n",
        "x.intersection_update(y)\n",
        "\n",
        "print(x)"
      ],
      "execution_count": 346,
      "outputs": [
        {
          "output_type": "stream",
          "name": "stdout",
          "text": [
            "{'apple'}\n"
          ]
        }
      ]
    },
    {
      "cell_type": "code",
      "metadata": {
        "id": "7C4YB6SJBNWO",
        "colab": {
          "base_uri": "https://localhost:8080/"
        },
        "outputId": "225dd5cc-d35b-4119-86f9-5d5a0f5a601a"
      },
      "source": [
        "# Return True if no items in set x is present in set y:\n",
        "\n",
        "x = {\"apple\", \"banana\", \"cherry\"}\n",
        "y = {\"google\", \"microsoft\", \"facebook\"}\n",
        "\n",
        "z = x.isdisjoint(y)\n",
        "\n",
        "print(z)"
      ],
      "execution_count": 347,
      "outputs": [
        {
          "output_type": "stream",
          "name": "stdout",
          "text": [
            "True\n"
          ]
        }
      ]
    },
    {
      "cell_type": "code",
      "metadata": {
        "id": "9IuRZWYgBXdt",
        "colab": {
          "base_uri": "https://localhost:8080/"
        },
        "outputId": "9599b3fe-3322-43cf-a659-a80e58844357"
      },
      "source": [
        "# Return True if all items set x are present in set y:\n",
        "\n",
        "x = {\"a\", \"b\", \"c\"}\n",
        "y = {\"f\", \"e\", \"d\", \"c\", \"b\", \"a\"}\n",
        "\n",
        "z = x.issubset(y)\n",
        "\n",
        "print(z)"
      ],
      "execution_count": 348,
      "outputs": [
        {
          "output_type": "stream",
          "name": "stdout",
          "text": [
            "True\n"
          ]
        }
      ]
    },
    {
      "cell_type": "code",
      "metadata": {
        "id": "Bo2R6xjSCKN8",
        "colab": {
          "base_uri": "https://localhost:8080/"
        },
        "outputId": "36b2c671-a087-4e47-b8ed-c606a5b8b845"
      },
      "source": [
        "# Return True if all items set y are present in set x:\n",
        "\n",
        "x = {\"f\", \"e\", \"d\", \"c\", \"b\", \"a\"}\n",
        "y = {\"a\", \"b\", \"c\"}\n",
        "\n",
        "z = x.issuperset(y)\n",
        "\n",
        "print(z)"
      ],
      "execution_count": 349,
      "outputs": [
        {
          "output_type": "stream",
          "name": "stdout",
          "text": [
            "True\n"
          ]
        }
      ]
    },
    {
      "cell_type": "code",
      "metadata": {
        "id": "yO8hzFtGDvW-",
        "colab": {
          "base_uri": "https://localhost:8080/"
        },
        "outputId": "39c91508-38a9-4bc0-a0ba-6053d82a49ee"
      },
      "source": [
        "# Remove a random item from the set:\n",
        "\n",
        "fruits = {\"apple\", \"banana\", \"cherry\"}\n",
        "\n",
        "fruits.pop()\n",
        "\n",
        "print(fruits)"
      ],
      "execution_count": 350,
      "outputs": [
        {
          "output_type": "stream",
          "name": "stdout",
          "text": [
            "{'cherry', 'apple'}\n"
          ]
        }
      ]
    },
    {
      "cell_type": "code",
      "metadata": {
        "id": "sJFEMmAHD27w",
        "colab": {
          "base_uri": "https://localhost:8080/"
        },
        "outputId": "5dfe525d-2550-4cf6-8dfd-6fd9be08d694"
      },
      "source": [
        "# Remove \"banana\" from the set:\n",
        "\n",
        "fruits = {\"apple\", \"banana\", \"cherry\"}\n",
        "\n",
        "fruits.remove(\"banana\")\n",
        "\n",
        "print(fruits)"
      ],
      "execution_count": 351,
      "outputs": [
        {
          "output_type": "stream",
          "name": "stdout",
          "text": [
            "{'cherry', 'apple'}\n"
          ]
        }
      ]
    },
    {
      "cell_type": "code",
      "metadata": {
        "id": "I3K4jQ1EEP78",
        "colab": {
          "base_uri": "https://localhost:8080/"
        },
        "outputId": "2138172b-5e50-4eba-f382-0790a9dff8ee"
      },
      "source": [
        "# Return a set that contains all items from both sets, except items that are present in both sets:\n",
        "\n",
        "x = {\"apple\", \"banana\", \"cherry\"}\n",
        "y = {\"google\", \"microsoft\", \"apple\"}\n",
        "\n",
        "z = x.symmetric_difference(y)\n",
        "\n",
        "print(z)"
      ],
      "execution_count": 352,
      "outputs": [
        {
          "output_type": "stream",
          "name": "stdout",
          "text": [
            "{'banana', 'cherry', 'microsoft', 'google'}\n"
          ]
        }
      ]
    },
    {
      "cell_type": "code",
      "metadata": {
        "id": "XRsqKWN0EYGO",
        "colab": {
          "base_uri": "https://localhost:8080/"
        },
        "outputId": "62c2f12c-c0b6-40e5-84a9-d8c9a3fba25b"
      },
      "source": [
        "# Remove the items that are present in both sets, AND insert the items that is not present in both sets:\n",
        "\n",
        "x = {\"apple\", \"banana\", \"cherry\"}\n",
        "y = {\"google\", \"microsoft\", \"apple\"}\n",
        "\n",
        "x.symmetric_difference_update(y)\n",
        "\n",
        "print(x)"
      ],
      "execution_count": 353,
      "outputs": [
        {
          "output_type": "stream",
          "name": "stdout",
          "text": [
            "{'banana', 'microsoft', 'cherry', 'google'}\n"
          ]
        }
      ]
    },
    {
      "cell_type": "code",
      "metadata": {
        "id": "UXVE5JQ0E8PG",
        "colab": {
          "base_uri": "https://localhost:8080/"
        },
        "outputId": "1f8cfed9-bf23-400f-a08f-f4b49e46a977"
      },
      "source": [
        "# Return a set that contains all items from both sets, duplicates are excluded:\n",
        "\n",
        "x = {\"apple\", \"banana\", \"cherry\"}\n",
        "y = {\"google\", \"microsoft\", \"apple\"}\n",
        "\n",
        "z = x.union(y)\n",
        "\n",
        "print(z)"
      ],
      "execution_count": 354,
      "outputs": [
        {
          "output_type": "stream",
          "name": "stdout",
          "text": [
            "{'banana', 'cherry', 'microsoft', 'apple', 'google'}\n"
          ]
        }
      ]
    },
    {
      "cell_type": "code",
      "metadata": {
        "id": "TeIqjf8PFH9W",
        "colab": {
          "base_uri": "https://localhost:8080/"
        },
        "outputId": "7151c211-09b5-4b6c-f178-a10d6280e9c9"
      },
      "source": [
        "# Insert the items from set y into set x:\n",
        "\n",
        "x = {\"apple\", \"banana\", \"cherry\"}\n",
        "y = {\"google\", \"microsoft\", \"apple\"}\n",
        "\n",
        "x.update(y)\n",
        "\n",
        "print(x)"
      ],
      "execution_count": 355,
      "outputs": [
        {
          "output_type": "stream",
          "name": "stdout",
          "text": [
            "{'banana', 'cherry', 'microsoft', 'apple', 'google'}\n"
          ]
        }
      ]
    },
    {
      "cell_type": "markdown",
      "metadata": {
        "id": "_QrpywTNGps7"
      },
      "source": [
        "## **Dictionary**\n",
        "\n",
        "A dictionary is a collection which is unordered, changeable and indexed. In Python dictionaries are written with curly brackets, and they have keys and values. Each key is separated from its value by a colon (:), the items are separated by commas.\n",
        "\n",
        "Dictionary Python berbeda dengan List ataupun Tuple. Karena setiap urutanya berisi key dan value. Setiap key dipisahkan dari value-nya oleh titik dua (:), item dipisahkan oleh koma, dan semuanya tertutup dalam kurung kurawal. Dictionary kosong tanpa barang ditulis hanya dengan dua kurung kurawal, seperti ini: {}.\n",
        "\n",
        "`nama_variabel = { \"key1\": \"value1\", \"key2\": \"value2\", \"key3\": \"value3\" }`\n",
        "\n",
        "atau dengan dict( )\n",
        "\n",
        "`nama = dict(key1 = value1, key2 = value2, key3 = value3)`\n",
        "\n",
        "Nilai kamus bisa berupa tipe apa pun, namun key harus berupa tipe data yang tidak berubah seperti string, angka, atau tupel.\n",
        "\n",
        "**<h4>The dict() Constructor</h4>**\n",
        "\n",
        "`thisdict = dict(brand=\"Ford\", model=\"Mustang\", year=1964)`\n",
        "`# note that keywords are not string literals`\n",
        "`# note the use of equals rather than colon for the assignment`\n",
        "`print(thisdict)`\n",
        "\n",
        "......................................................................................\n",
        "\n",
        "`dict.items()` -> untuk mengambil key dan value\n",
        "\n",
        "`dict.keys()` -> untuk mengambil key\n",
        "\n",
        "`dict.values()` -> untuk mengambil value"
      ]
    },
    {
      "cell_type": "code",
      "metadata": {
        "id": "e_yy6H6bGLon",
        "colab": {
          "base_uri": "https://localhost:8080/"
        },
        "outputId": "c2a331eb-aa39-4d6d-da98-af26ae50716c"
      },
      "source": [
        "foo = { 1: \"Belajar\", 2: \"Python\", 3: \"di Duniailkom\" }\n",
        "bar = { \"mengapa\": \"Belajar\", \"apa\": \"Python\", \"dimana\": \"di Duniailkom\" }\n",
        "baz = { 1: \"Belajar\", \"apa\": \"Python\", \"dimana\": \"di Duniailkom\" }\n",
        " \n",
        "print(type(foo))\n",
        "print(type(bar))\n",
        "print(type(baz))\n",
        " \n",
        "print(foo)\n",
        "print(bar)\n",
        "print(baz)"
      ],
      "execution_count": 356,
      "outputs": [
        {
          "output_type": "stream",
          "name": "stdout",
          "text": [
            "<class 'dict'>\n",
            "<class 'dict'>\n",
            "<class 'dict'>\n",
            "{1: 'Belajar', 2: 'Python', 3: 'di Duniailkom'}\n",
            "{'mengapa': 'Belajar', 'apa': 'Python', 'dimana': 'di Duniailkom'}\n",
            "{1: 'Belajar', 'apa': 'Python', 'dimana': 'di Duniailkom'}\n"
          ]
        }
      ]
    },
    {
      "cell_type": "code",
      "metadata": {
        "id": "EDxKAw7k6PEV",
        "colab": {
          "base_uri": "https://localhost:8080/"
        },
        "outputId": "f1299018-d9c8-482e-e62b-a5ac43c9ef39"
      },
      "source": [
        "foo = { 1: \"Belajar\", \n",
        "        2: [\"Pascal\", \"C\", \"Python\"],\n",
        "        \"website\": \"Duniailkom\",\n",
        "        \"menyerah\" : False,\n",
        "        \"target\": 2020,\n",
        "        \"riwayat_sekolah\": {\n",
        "          \"SD\": \"SDN 3 Hijau Daun\",\n",
        "          \"SMP\": \"SMP 7 Hijau Lumut\",\n",
        "          \"SMA\": \"SMA 8 Hijau Rumput\"}\n",
        "      }\n",
        "       \n",
        "print(foo)"
      ],
      "execution_count": 357,
      "outputs": [
        {
          "output_type": "stream",
          "name": "stdout",
          "text": [
            "{1: 'Belajar', 2: ['Pascal', 'C', 'Python'], 'website': 'Duniailkom', 'menyerah': False, 'target': 2020, 'riwayat_sekolah': {'SD': 'SDN 3 Hijau Daun', 'SMP': 'SMP 7 Hijau Lumut', 'SMA': 'SMA 8 Hijau Rumput'}}\n"
          ]
        }
      ]
    },
    {
      "cell_type": "markdown",
      "metadata": {
        "id": "1QsKAm8QjXxH"
      },
      "source": [
        "### **items(), keys(), values()**"
      ]
    },
    {
      "cell_type": "code",
      "metadata": {
        "colab": {
          "base_uri": "https://localhost:8080/"
        },
        "id": "dngGNSyDjYHC",
        "outputId": "d3236ccf-c46a-48a4-92f8-9a32e86f2ab8"
      },
      "source": [
        "car = {\n",
        "  \"brand\": \"Ford\",\n",
        "  \"model\": \"Mustang\",\n",
        "  \"year\": 1964\n",
        "}\n",
        "\n",
        "x = car.items()\n",
        "\n",
        "print(x)"
      ],
      "execution_count": 358,
      "outputs": [
        {
          "output_type": "stream",
          "name": "stdout",
          "text": [
            "dict_items([('brand', 'Ford'), ('model', 'Mustang'), ('year', 1964)])\n"
          ]
        }
      ]
    },
    {
      "cell_type": "code",
      "metadata": {
        "colab": {
          "base_uri": "https://localhost:8080/"
        },
        "id": "Vf2aLk8jjYHD",
        "outputId": "ec3e6286-6bb3-4390-b9c5-d2948ba127e1"
      },
      "source": [
        "car = {\n",
        "  \"brand\": \"Ford\",\n",
        "  \"model\": \"Mustang\",\n",
        "  \"year\": 1964\n",
        "}\n",
        "\n",
        "x = car.keys()\n",
        "\n",
        "print(x)"
      ],
      "execution_count": 359,
      "outputs": [
        {
          "output_type": "stream",
          "name": "stdout",
          "text": [
            "dict_keys(['brand', 'model', 'year'])\n"
          ]
        }
      ]
    },
    {
      "cell_type": "code",
      "metadata": {
        "colab": {
          "base_uri": "https://localhost:8080/"
        },
        "id": "1MC133kHjYHE",
        "outputId": "9c4f2b86-f4d5-4d34-847a-07a31f0f45f8"
      },
      "source": [
        "car = {\n",
        "  \"brand\": \"Ford\",\n",
        "  \"model\": \"Mustang\",\n",
        "  \"year\": 1964\n",
        "}\n",
        "\n",
        "x = car.values()\n",
        "\n",
        "print(x)"
      ],
      "execution_count": 360,
      "outputs": [
        {
          "output_type": "stream",
          "name": "stdout",
          "text": [
            "dict_values(['Ford', 'Mustang', 1964])\n"
          ]
        }
      ]
    },
    {
      "cell_type": "code",
      "metadata": {
        "id": "kTiqPyQu_U-M",
        "colab": {
          "base_uri": "https://localhost:8080/"
        },
        "outputId": "62cc2346-6f39-4d5d-94ba-3ecb50f4da82"
      },
      "source": [
        "data = {'Name' : 'Bill', 'Age' : 20, 'Address' : 'Poros Malino'}\n",
        "print(data.keys())\n",
        "print(data.values())\n",
        "print(data.items())"
      ],
      "execution_count": 361,
      "outputs": [
        {
          "output_type": "stream",
          "name": "stdout",
          "text": [
            "dict_keys(['Name', 'Age', 'Address'])\n",
            "dict_values(['Bill', 20, 'Poros Malino'])\n",
            "dict_items([('Name', 'Bill'), ('Age', 20), ('Address', 'Poros Malino')])\n"
          ]
        }
      ]
    },
    {
      "cell_type": "code",
      "metadata": {
        "colab": {
          "base_uri": "https://localhost:8080/"
        },
        "id": "mcAGsiCnj8RC",
        "outputId": "77423a67-363f-439d-c649-6a54fc0cda70"
      },
      "source": [
        "pol_eng_dictionary = {\n",
        "    \"zamek\": \"castle\",\n",
        "    \"woda\": \"water\",\n",
        "    \"gleba\": \"soil\"\n",
        "    }\n",
        "\n",
        "for key, value in pol_eng_dictionary.items():\n",
        "    print(\"Pol/Eng ->\", key, \":\", value)"
      ],
      "execution_count": 362,
      "outputs": [
        {
          "output_type": "stream",
          "name": "stdout",
          "text": [
            "Pol/Eng -> zamek : castle\n",
            "Pol/Eng -> woda : water\n",
            "Pol/Eng -> gleba : soil\n"
          ]
        }
      ]
    },
    {
      "cell_type": "markdown",
      "metadata": {
        "id": "k_veLh0QDkyk"
      },
      "source": [
        "### **Access Items**\n",
        "\n",
        "To access dictionary elements, you can use the square brackets along with the key to obtain its value.\n",
        "\n",
        "* with [key]\n",
        "* with get(key)"
      ]
    },
    {
      "cell_type": "code",
      "metadata": {
        "id": "Ay3bt7IPJxry",
        "colab": {
          "base_uri": "https://localhost:8080/"
        },
        "outputId": "264bf7a4-149f-433e-8f2d-24b0a7ae0147"
      },
      "source": [
        "dict_ = {'Name' : 'Bill', 'Age' : 20, 'Address' : 'Poros Malino'}\n",
        "print(dict_['Address'])"
      ],
      "execution_count": 363,
      "outputs": [
        {
          "output_type": "stream",
          "name": "stdout",
          "text": [
            "Poros Malino\n"
          ]
        }
      ]
    },
    {
      "cell_type": "code",
      "metadata": {
        "id": "KjTI85rSG5Sl",
        "colab": {
          "base_uri": "https://localhost:8080/"
        },
        "outputId": "49f6363e-23c8-4ebb-b555-4c157411617a"
      },
      "source": [
        "#Contoh cara membuat Dictionary pada Python\n",
        "\n",
        "bio = {'Name': 'Zara', 'Age': 7, 'Class': 'First'}\n",
        "print (\"bio['Name']: \", bio['Name'])\n",
        "print (\"bio['Age']: \", bio['Age'])"
      ],
      "execution_count": 364,
      "outputs": [
        {
          "output_type": "stream",
          "name": "stdout",
          "text": [
            "bio['Name']:  Zara\n",
            "bio['Age']:  7\n"
          ]
        }
      ]
    },
    {
      "cell_type": "code",
      "metadata": {
        "id": "h-pKkP9c6ca2",
        "colab": {
          "base_uri": "https://localhost:8080/"
        },
        "outputId": "37bbd101-6839-4166-dec9-954760aa4745"
      },
      "source": [
        "foo = { \"kegiatan\": \"Belajar Python\",\n",
        "        \"website\": \"Duniailkom\",\n",
        "        \"hasil\": \"Yakin bisa!\" }\n",
        " \n",
        "print(foo[\"website\"])"
      ],
      "execution_count": 365,
      "outputs": [
        {
          "output_type": "stream",
          "name": "stdout",
          "text": [
            "Duniailkom\n"
          ]
        }
      ]
    },
    {
      "cell_type": "code",
      "metadata": {
        "id": "Xt8DhavHFufO",
        "colab": {
          "base_uri": "https://localhost:8080/",
          "height": 35
        },
        "outputId": "f7756fff-6391-4475-9cb0-2953eb92bf25"
      },
      "source": [
        "thisdict = {\n",
        "  \"brand\": \"Ford\",\n",
        "  \"model\": \"Mustang\",\n",
        "  \"year\": 1964\n",
        "}\n",
        "x = thisdict.get(\"model\")\n",
        "x"
      ],
      "execution_count": 366,
      "outputs": [
        {
          "output_type": "execute_result",
          "data": {
            "application/vnd.google.colaboratory.intrinsic+json": {
              "type": "string"
            },
            "text/plain": [
              "'Mustang'"
            ]
          },
          "metadata": {},
          "execution_count": 366
        }
      ]
    },
    {
      "cell_type": "markdown",
      "metadata": {
        "id": "oCjpnH6cDkym"
      },
      "source": [
        "### **Update Items**\n",
        "\n",
        "You can change the value of a specific item by referring to its key name.\n",
        "\n",
        "Anda dapat memperbarui Dictionary dengan menambahkan entri baru atau pasangan nilai kunci, memodifikasi entri yang ada, atau menghapus entri yang ada seperti ditunjukkan pada contoh sederhana yang diberikan di bawah ini."
      ]
    },
    {
      "cell_type": "code",
      "metadata": {
        "id": "vL9R0Zp5KPap",
        "colab": {
          "base_uri": "https://localhost:8080/"
        },
        "outputId": "27c1cb8f-c980-417b-b8ac-e5dcf071ab07"
      },
      "source": [
        "dict_ = {'Name' : 'Bill', 'Age' : 20, 'Address' : 'Poros Malino'}\n",
        "dict_['Name'] = 'Jeff'\n",
        "print(dict_)"
      ],
      "execution_count": 367,
      "outputs": [
        {
          "output_type": "stream",
          "name": "stdout",
          "text": [
            "{'Name': 'Jeff', 'Age': 20, 'Address': 'Poros Malino'}\n"
          ]
        }
      ]
    },
    {
      "cell_type": "code",
      "metadata": {
        "id": "A4--yfjkHKRk",
        "colab": {
          "base_uri": "https://localhost:8080/"
        },
        "outputId": "218526e5-96e7-4def-ea86-97bf34762827"
      },
      "source": [
        "# Update dictionary python\n",
        "\n",
        "bio = {'Name': 'Zara', 'Age': 7, 'Class': 'First'}\n",
        "bio['Age'] = 8; # Mengubah entri yang sudah ada\n",
        "bio['School'] = \"DPS School\" # Menambah entri baru\n",
        "\n",
        "print (\"bio['Age']: \", bio['Age'])\n",
        "print (\"bio['School']: \", bio['School'])"
      ],
      "execution_count": 368,
      "outputs": [
        {
          "output_type": "stream",
          "name": "stdout",
          "text": [
            "bio['Age']:  8\n",
            "bio['School']:  DPS School\n"
          ]
        }
      ]
    },
    {
      "cell_type": "markdown",
      "metadata": {
        "id": "024AqBrGYkkj"
      },
      "source": [
        "### **Adding Items**\n",
        "\n",
        "Adding an item to the dictionary is done by using a new index key and assigning a value to it"
      ]
    },
    {
      "cell_type": "code",
      "metadata": {
        "id": "W6vqr6PBYb9J",
        "colab": {
          "base_uri": "https://localhost:8080/"
        },
        "outputId": "6ce53639-90d4-43e2-af47-6eb6b5c0a5e4"
      },
      "source": [
        "dict_ = {'Name' : 'Bill', 'Age' : 20, 'Address' : 'Poros Malino'}\n",
        "print(dict_)\n",
        "\n",
        "dict_['year_of_birth'] = 2000\n",
        "print(dict_)"
      ],
      "execution_count": 369,
      "outputs": [
        {
          "output_type": "stream",
          "name": "stdout",
          "text": [
            "{'Name': 'Bill', 'Age': 20, 'Address': 'Poros Malino'}\n",
            "{'Name': 'Bill', 'Age': 20, 'Address': 'Poros Malino', 'year_of_birth': 2000}\n"
          ]
        }
      ]
    },
    {
      "cell_type": "code",
      "metadata": {
        "id": "iaGZvni86k09",
        "colab": {
          "base_uri": "https://localhost:8080/"
        },
        "outputId": "24b1d513-374e-4161-a9bc-5c734bcb2584"
      },
      "source": [
        "foo = { \"kegiatan\": \"Belajar Python\",\n",
        "        \"website\": \"Duniailkom\",\n",
        "        \"hasil\": \"Yakin bisa!\" }\n",
        " \n",
        "foo[\"target\"] = 2020\n",
        "print(foo)"
      ],
      "execution_count": 370,
      "outputs": [
        {
          "output_type": "stream",
          "name": "stdout",
          "text": [
            "{'kegiatan': 'Belajar Python', 'website': 'Duniailkom', 'hasil': 'Yakin bisa!', 'target': 2020}\n"
          ]
        }
      ]
    },
    {
      "cell_type": "code",
      "metadata": {
        "id": "y0Og_K7iI22h",
        "colab": {
          "base_uri": "https://localhost:8080/"
        },
        "outputId": "31c4bdcc-2abf-4884-e3e8-53bd90d67dd3"
      },
      "source": [
        "thisdict = {\n",
        "  \"brand\": \"Ford\",\n",
        "  \"model\": \"Mustang\",\n",
        "  \"year\": 1964\n",
        "}\n",
        "thisdict[\"color\"] = \"red\"\n",
        "print(thisdict)"
      ],
      "execution_count": 371,
      "outputs": [
        {
          "output_type": "stream",
          "name": "stdout",
          "text": [
            "{'brand': 'Ford', 'model': 'Mustang', 'year': 1964, 'color': 'red'}\n"
          ]
        }
      ]
    },
    {
      "cell_type": "markdown",
      "metadata": {
        "id": "OT3UedxEbThy"
      },
      "source": [
        "### **Removing Items**\n",
        "\n",
        "There are several methods to remove items from a dictionary.\n",
        "\n",
        "* pop()\n",
        "* popitem()\n",
        "* del\n",
        "* clear()"
      ]
    },
    {
      "cell_type": "markdown",
      "metadata": {
        "id": "uoviio2WIHs8"
      },
      "source": [
        "The **pop()** method removes the item with the specified key name"
      ]
    },
    {
      "cell_type": "code",
      "metadata": {
        "id": "ktNEWMGZY4-7",
        "colab": {
          "base_uri": "https://localhost:8080/"
        },
        "outputId": "779eba0a-2651-4703-d01a-0d5f83bd335d"
      },
      "source": [
        "dict_={\n",
        "    'Name' : 'Bill', \n",
        "    'Age' : 20, \n",
        "    'Address' : 'Poros Malino',\n",
        "    'year_of_birth' : 2000\n",
        "}\n",
        "\n",
        "dict_.pop('Age')\n",
        "print(dict_)"
      ],
      "execution_count": 372,
      "outputs": [
        {
          "output_type": "stream",
          "name": "stdout",
          "text": [
            "{'Name': 'Bill', 'Address': 'Poros Malino', 'year_of_birth': 2000}\n"
          ]
        }
      ]
    },
    {
      "cell_type": "markdown",
      "metadata": {
        "id": "R8sF0LfJb5SJ"
      },
      "source": [
        "The **popitem()** method removes the last inserted item."
      ]
    },
    {
      "cell_type": "code",
      "metadata": {
        "id": "r48l7i7ebzdo",
        "colab": {
          "base_uri": "https://localhost:8080/"
        },
        "outputId": "cd1f74b8-7c48-4267-beea-cb62b11703e6"
      },
      "source": [
        "dict_={\n",
        "    'Name' : 'Bill', \n",
        "    'Age' : 20, \n",
        "    'Address' : 'Poros Malino',\n",
        "    'year_of_birth' : 2000\n",
        "}\n",
        "\n",
        "dict_.popitem()\n",
        "print(dict_)"
      ],
      "execution_count": 373,
      "outputs": [
        {
          "output_type": "stream",
          "name": "stdout",
          "text": [
            "{'Name': 'Bill', 'Age': 20, 'Address': 'Poros Malino'}\n"
          ]
        }
      ]
    },
    {
      "cell_type": "markdown",
      "metadata": {
        "id": "wQT8XeLAcZcs"
      },
      "source": [
        "The **del** keyword removes the item with the specified key name. The **del** keyword can also delete the dictionary completely."
      ]
    },
    {
      "cell_type": "code",
      "metadata": {
        "id": "Nb1vQm2LcKnb",
        "colab": {
          "base_uri": "https://localhost:8080/"
        },
        "outputId": "96480f63-2d1f-4ab1-b2a2-18ea5764a0f6"
      },
      "source": [
        "dict_={\n",
        "    'Name' : 'Bill', \n",
        "    'Age' : 20, \n",
        "    'Address' : 'Poros Malino',\n",
        "    'year_of_birth' : 2000\n",
        "}\n",
        "\n",
        "del dict_['Address']\n",
        "print(dict_)"
      ],
      "execution_count": 374,
      "outputs": [
        {
          "output_type": "stream",
          "name": "stdout",
          "text": [
            "{'Name': 'Bill', 'Age': 20, 'year_of_birth': 2000}\n"
          ]
        }
      ]
    },
    {
      "cell_type": "markdown",
      "metadata": {
        "id": "qSxhtqp7cqDP"
      },
      "source": [
        "The **clear()** keyword empties the dictionary."
      ]
    },
    {
      "cell_type": "code",
      "metadata": {
        "id": "lWzBprafcg4s",
        "colab": {
          "base_uri": "https://localhost:8080/"
        },
        "outputId": "117b12c7-6afa-4356-9b4b-dc6701448d91"
      },
      "source": [
        "dict_={\n",
        "    'Name' : 'Bill', \n",
        "    'Age' : 20, \n",
        "    'Address' : 'Poros Malino',\n",
        "    'year_of_birth' : 2000\n",
        "}\n",
        "\n",
        "dict_.clear()\n",
        "print(dict_)"
      ],
      "execution_count": 375,
      "outputs": [
        {
          "output_type": "stream",
          "name": "stdout",
          "text": [
            "{}\n"
          ]
        }
      ]
    },
    {
      "cell_type": "markdown",
      "metadata": {
        "id": "z5Wsi23tXhZB"
      },
      "source": [
        "### **Loop Through a Dictionary**\n",
        "\n",
        "You can loop through a dictionary by using a for loop.\n",
        "\n",
        "When looping through a dictionary, the return value are the keys of the dictionary, but there are methods to return the values as well.\n",
        "\n",
        "bisa memanfaatkan fungsi `.items()`, `.keys()` dan `.values()` "
      ]
    },
    {
      "cell_type": "code",
      "metadata": {
        "id": "QR3JoLjkQTIx",
        "colab": {
          "base_uri": "https://localhost:8080/"
        },
        "outputId": "d7320f2d-14d8-418a-8479-27dd3ff2092f"
      },
      "source": [
        "dict_ = {'Name' : 'Bill', 'Age' : 20, 'Address' : 'Poros Malino'}\n",
        "print(dict_)"
      ],
      "execution_count": 376,
      "outputs": [
        {
          "output_type": "stream",
          "name": "stdout",
          "text": [
            "{'Name': 'Bill', 'Age': 20, 'Address': 'Poros Malino'}\n"
          ]
        }
      ]
    },
    {
      "cell_type": "code",
      "metadata": {
        "id": "Iwfv4mOJVKx6",
        "colab": {
          "base_uri": "https://localhost:8080/"
        },
        "outputId": "6c5c5e09-f100-4b7b-d701-530336132c88"
      },
      "source": [
        "for key in dict_:\n",
        "    print(key)"
      ],
      "execution_count": 377,
      "outputs": [
        {
          "output_type": "stream",
          "name": "stdout",
          "text": [
            "Name\n",
            "Age\n",
            "Address\n"
          ]
        }
      ]
    },
    {
      "cell_type": "code",
      "metadata": {
        "id": "6EpCYdhtX3QW",
        "colab": {
          "base_uri": "https://localhost:8080/"
        },
        "outputId": "c211fe75-98a8-4710-8824-fa4acd3a9118"
      },
      "source": [
        "# To print value from dictionary :\n",
        "for key in dict_:\n",
        "    print(dict_[key])"
      ],
      "execution_count": 378,
      "outputs": [
        {
          "output_type": "stream",
          "name": "stdout",
          "text": [
            "Bill\n",
            "20\n",
            "Poros Malino\n"
          ]
        }
      ]
    },
    {
      "cell_type": "code",
      "metadata": {
        "id": "kZGgopwTYA5n",
        "colab": {
          "base_uri": "https://localhost:8080/"
        },
        "outputId": "7896765e-c39e-45b3-f7f4-8a8303bfae2f"
      },
      "source": [
        "# Or use values() function\n",
        "for value in dict_.values():\n",
        "    print(value)"
      ],
      "execution_count": 379,
      "outputs": [
        {
          "output_type": "stream",
          "name": "stdout",
          "text": [
            "Bill\n",
            "20\n",
            "Poros Malino\n"
          ]
        }
      ]
    },
    {
      "cell_type": "code",
      "metadata": {
        "id": "VA3n9mOdYNrP",
        "colab": {
          "base_uri": "https://localhost:8080/"
        },
        "outputId": "1f86f341-840a-45e8-ef52-d6818c578ab0"
      },
      "source": [
        "# Loop through both keys and values using items()\n",
        "for key, value in dict_.items():\n",
        "    print(key, value)"
      ],
      "execution_count": 380,
      "outputs": [
        {
          "output_type": "stream",
          "name": "stdout",
          "text": [
            "Name Bill\n",
            "Age 20\n",
            "Address Poros Malino\n"
          ]
        }
      ]
    },
    {
      "cell_type": "code",
      "metadata": {
        "colab": {
          "base_uri": "https://localhost:8080/"
        },
        "id": "olW_zj9kaw86",
        "outputId": "29f2a4b4-18f4-47e0-9e8e-4c7085db43f1"
      },
      "source": [
        "def count_letters(text):\n",
        "  result = {}\n",
        "  # Go through each letter in the text\n",
        "  for letter in text.lower():\n",
        "    # Check if the letter needs to be counted or not\n",
        "    if letter.isspace() or letter.isdecimal() or letter == \"!\":\n",
        "      continue\n",
        "    else:\n",
        "      if letter not in result:\n",
        "        result[letter] = 0\n",
        "      result[letter] += 1\n",
        "  return result\n",
        "\n",
        "print(count_letters(\"AaBbCc\"))\n",
        "# Should be {'a': 2, 'b': 2, 'c': 2}\n",
        "\n",
        "print(count_letters(\"Math is fun! 2+2=4\"))\n",
        "# Should be {'m': 1, 'a': 1, 't': 1, 'h': 1, 'i': 1, 's': 1, 'f': 1, 'u': 1, 'n': 1}\n",
        "\n",
        "print(count_letters(\"This is a sentence.\"))\n",
        "# Should be {'t': 2, 'h': 1, 'i': 2, 's': 3, 'a': 1, 'e': 3, 'n': 2, 'c': 1}"
      ],
      "execution_count": 381,
      "outputs": [
        {
          "output_type": "stream",
          "name": "stdout",
          "text": [
            "{'a': 2, 'b': 2, 'c': 2}\n",
            "{'m': 1, 'a': 1, 't': 1, 'h': 1, 'i': 1, 's': 1, 'f': 1, 'u': 1, 'n': 1, '+': 1, '=': 1}\n",
            "{'t': 2, 'h': 1, 'i': 2, 's': 3, 'a': 1, 'e': 3, 'n': 2, 'c': 1, '.': 1}\n"
          ]
        }
      ]
    },
    {
      "cell_type": "markdown",
      "metadata": {
        "id": "eaJPkNYtGzgV"
      },
      "source": [
        "### **Check if Key Exists**"
      ]
    },
    {
      "cell_type": "code",
      "metadata": {
        "id": "z7aF6vHFG6Eq",
        "colab": {
          "base_uri": "https://localhost:8080/"
        },
        "outputId": "63fd0e19-ab3f-4b8f-f3f3-33873d624b0e"
      },
      "source": [
        "thisdict = {\n",
        "  \"brand\": \"Ford\",\n",
        "  \"model\": \"Mustang\",\n",
        "  \"year\": 1964\n",
        "}\n",
        "if \"model\" in thisdict:\n",
        "  print(\"Yes, 'model' is one of the keys in the thisdict dictionary\")"
      ],
      "execution_count": 382,
      "outputs": [
        {
          "output_type": "stream",
          "name": "stdout",
          "text": [
            "Yes, 'model' is one of the keys in the thisdict dictionary\n"
          ]
        }
      ]
    },
    {
      "cell_type": "markdown",
      "metadata": {
        "id": "OJbE5rPRqWQ7"
      },
      "source": [
        "### **Copy a Dictionary**\n",
        "\n",
        "You cannot copy a dictionary simply by typing dict2 = dict1, because: dict2 will only be a reference to dict1, and changes made in dict1 will automatically also be made in dict2.\n",
        "\n",
        "There are ways to make a copy, one way is to use the built-in Dictionary method copy()."
      ]
    },
    {
      "cell_type": "code",
      "metadata": {
        "id": "5ZfGCao2kNhK"
      },
      "source": [
        "pol_eng_dictionary = {\n",
        "    \"zamek\": \"castle\",\n",
        "    \"woda\": \"water\",\n",
        "    \"gleba\": \"soil\"\n",
        "    }\n",
        "\n",
        "copy_dictionary = pol_eng_dictionary.copy()"
      ],
      "execution_count": 383,
      "outputs": []
    },
    {
      "cell_type": "code",
      "metadata": {
        "id": "_SyMYwLgqd-O",
        "colab": {
          "base_uri": "https://localhost:8080/"
        },
        "outputId": "4347032e-3835-4814-f9a5-f24571f73210"
      },
      "source": [
        "# Make a copy of a dictionary with the copy() method:\n",
        "\n",
        "thisdict = {\n",
        "  \"brand\": \"Ford\",\n",
        "  \"model\": \"Mustang\",\n",
        "  \"year\": 1964\n",
        "}\n",
        "mydict = thisdict.copy()\n",
        "print(mydict)"
      ],
      "execution_count": 384,
      "outputs": [
        {
          "output_type": "stream",
          "name": "stdout",
          "text": [
            "{'brand': 'Ford', 'model': 'Mustang', 'year': 1964}\n"
          ]
        }
      ]
    },
    {
      "cell_type": "code",
      "metadata": {
        "id": "9RVh4doxqjnr",
        "colab": {
          "base_uri": "https://localhost:8080/"
        },
        "outputId": "2b5435c7-a220-4b33-ba63-87ff132b79fc"
      },
      "source": [
        "# Make a copy of a dictionary with the dict() function:\n",
        "\n",
        "thisdict = {\n",
        "  \"brand\": \"Ford\",\n",
        "  \"model\": \"Mustang\",\n",
        "  \"year\": 1964\n",
        "}\n",
        "mydict = dict(thisdict)\n",
        "print(mydict)"
      ],
      "execution_count": 385,
      "outputs": [
        {
          "output_type": "stream",
          "name": "stdout",
          "text": [
            "{'brand': 'Ford', 'model': 'Mustang', 'year': 1964}\n"
          ]
        }
      ]
    },
    {
      "cell_type": "markdown",
      "metadata": {
        "id": "wvJTmuchQWpm"
      },
      "source": [
        "### **Concenate Dictionary**"
      ]
    },
    {
      "cell_type": "code",
      "metadata": {
        "colab": {
          "base_uri": "https://localhost:8080/"
        },
        "id": "lpyUFxKZQbe3",
        "outputId": "3df02bc2-6e80-4eef-afdf-54b5eaa432d5"
      },
      "source": [
        "d1={'A':1,'B':2}\n",
        "d2={'C':3}\n",
        "d1.update(d2)\n",
        "print(\"Concatenated dictionary is:\")\n",
        "print(d1)"
      ],
      "execution_count": 386,
      "outputs": [
        {
          "output_type": "stream",
          "name": "stdout",
          "text": [
            "Concatenated dictionary is:\n",
            "{'A': 1, 'B': 2, 'C': 3}\n"
          ]
        }
      ]
    },
    {
      "cell_type": "markdown",
      "metadata": {
        "id": "_hGZQmu4X5XK"
      },
      "source": [
        "### **Sorting Dictionary**"
      ]
    },
    {
      "cell_type": "code",
      "metadata": {
        "colab": {
          "base_uri": "https://localhost:8080/"
        },
        "id": "PV2UyESgYC5p",
        "outputId": "3b93021d-14b5-4139-fff5-7e8da420ca65"
      },
      "source": [
        "x = {1: 2, 3: 4, 4: 3, 2: 1, 0: 0}\n",
        "{k: v for k, v in sorted(x.items(), key=lambda item: item[1])}\n"
      ],
      "execution_count": 387,
      "outputs": [
        {
          "output_type": "execute_result",
          "data": {
            "text/plain": [
              "{0: 0, 1: 2, 2: 1, 3: 4, 4: 3}"
            ]
          },
          "metadata": {},
          "execution_count": 387
        }
      ]
    },
    {
      "cell_type": "code",
      "metadata": {
        "colab": {
          "base_uri": "https://localhost:8080/"
        },
        "id": "qS_zYWxwYM53",
        "outputId": "9484c14e-873d-4fcb-8499-3f7c22691dfe"
      },
      "source": [
        "dict(sorted(x.items(), key=lambda item: item[1]))"
      ],
      "execution_count": 388,
      "outputs": [
        {
          "output_type": "execute_result",
          "data": {
            "text/plain": [
              "{0: 0, 1: 2, 2: 1, 3: 4, 4: 3}"
            ]
          },
          "metadata": {},
          "execution_count": 388
        }
      ]
    },
    {
      "cell_type": "code",
      "metadata": {
        "colab": {
          "base_uri": "https://localhost:8080/"
        },
        "id": "rTHUnkrvYePi",
        "outputId": "8240cc40-c587-4ea3-9658-15f0a60eff7f"
      },
      "source": [
        "import operator\n",
        "x = {1: 2, 3: 4, 4: 3, 2: 1, 0: 0}\n",
        "sorted_x = sorted(x.items(), key=operator.itemgetter(1))\n",
        "sorted_x"
      ],
      "execution_count": 389,
      "outputs": [
        {
          "output_type": "execute_result",
          "data": {
            "text/plain": [
              "[(0, 0), (2, 1), (1, 2), (4, 3), (3, 4)]"
            ]
          },
          "metadata": {},
          "execution_count": 389
        }
      ]
    },
    {
      "cell_type": "code",
      "metadata": {
        "colab": {
          "base_uri": "https://localhost:8080/"
        },
        "id": "O9VUSKKRuQwN",
        "outputId": "6abf5126-b2d8-4b85-d0b4-5227b71cac24"
      },
      "source": [
        "import operator\n",
        "x = {\"A\": 2, \"D\": 4, \"C\": 3, \"B\": 1, \"E\": 0}\n",
        "sorted_x = sorted(x.items(), key=operator.itemgetter(0))\n",
        "sorted_x"
      ],
      "execution_count": 390,
      "outputs": [
        {
          "output_type": "execute_result",
          "data": {
            "text/plain": [
              "[('A', 2), ('B', 1), ('C', 3), ('D', 4), ('E', 0)]"
            ]
          },
          "metadata": {},
          "execution_count": 390
        }
      ]
    },
    {
      "cell_type": "markdown",
      "metadata": {
        "id": "z3NMC7N2qpMm"
      },
      "source": [
        "### **Nested Dictionaries**"
      ]
    },
    {
      "cell_type": "code",
      "metadata": {
        "id": "09osP2w1quJZ"
      },
      "source": [
        "myfamily = {\n",
        "  \"child1\" : {\n",
        "    \"name\" : \"Emil\",\n",
        "    \"year\" : 2004\n",
        "  },\n",
        "  \"child2\" : {\n",
        "    \"name\" : \"Tobias\",\n",
        "    \"year\" : 2007\n",
        "  },\n",
        "  \"child3\" : {\n",
        "    \"name\" : \"Linus\",\n",
        "    \"year\" : 2011\n",
        "  }\n",
        "}"
      ],
      "execution_count": 391,
      "outputs": []
    },
    {
      "cell_type": "code",
      "metadata": {
        "id": "1JgOWBaAq2HX"
      },
      "source": [
        "child1 = {\n",
        "  \"name\" : \"Emil\",\n",
        "  \"year\" : 2004\n",
        "}\n",
        "child2 = {\n",
        "  \"name\" : \"Tobias\",\n",
        "  \"year\" : 2007\n",
        "}\n",
        "child3 = {\n",
        "  \"name\" : \"Linus\",\n",
        "  \"year\" : 2011\n",
        "}\n",
        "\n",
        "myfamily = {\n",
        "  \"child1\" : child1,\n",
        "  \"child2\" : child2,\n",
        "  \"child3\" : child3\n",
        "}"
      ],
      "execution_count": 392,
      "outputs": []
    },
    {
      "cell_type": "markdown",
      "metadata": {
        "id": "bw0tWl_-Dkyq"
      },
      "source": [
        "### **Build-In Functions Dictionary**\n",
        "\n",
        "**<h4>Python Function<h4>**\n",
        "\n",
        "* `len(dict)``\n",
        "\n",
        "    Memberikan panjang total Dictionary. Ini sama dengan jumlah item dalam Dictionary.\n",
        "\n",
        "* `str(dict)`\n",
        "\n",
        "    Menghasilkan representasi string yang dapat dicetak dari Dictionary\n",
        "\n",
        "* `type(variable)`\n",
        "\n",
        "    Mengembalikan tipe variabel yang lulus. Jika variabel yang dilewatkan adalah Dictionary, maka akan mengembalikan tipe Dictionary.\n",
        "\n",
        "\n",
        "**<h4>Python Methods<h4>**\n",
        "\n",
        "* `dict.clear()`\n",
        "\n",
        "    Menghapus semua elemen Dictionary\n",
        "\n",
        "* `dict.copy()`\n",
        "\n",
        "    Mengembalikan salinan Dictionary\n",
        "\n",
        "* `dict.fromkeys()`\n",
        "\n",
        "    `dict.fromkeys(keys, value)`\n",
        "\n",
        "    Buat Dictionary baru dengan kunci dari seq dan nilai yang disetel ke nilai.\n",
        "\n",
        "* `dict.get(key, default=None)`\n",
        "\n",
        "    For key, nilai pengembalian atau default jika tombol tidak ada dalam Dictionary\n",
        "\n",
        "* `dict.has_key(key)`\n",
        "\n",
        "    Mengembalikan true jika key dalam Dictionary, false sebaliknya\n",
        "\n",
        "* `dict.items()`\n",
        "\n",
        "    Mengembalikan daftar dari pasangan tuple dictionary (key, value)\n",
        "\n",
        "* `dict.keys()`\n",
        "\n",
        "    Mengembalikan daftar key dictionary\n",
        "\n",
        "* `dict.setdefault(key, default=None)`\t\n",
        "\n",
        "    Mirip dengan get (), tapi akan mengatur dict [key] = default jika kunci belum ada di dict\n",
        "\n",
        "* `dict.update(dict2)`\n",
        "\n",
        "    Menambahkan pasangan kunci kata kunci dict2 ke dict\n",
        "\n",
        "* `dict.values()`\n",
        "\n",
        "    Mengembalikan daftar nilai dictionary\n",
        "\n"
      ]
    },
    {
      "cell_type": "code",
      "metadata": {
        "id": "9_71wC6K_oA7",
        "colab": {
          "base_uri": "https://localhost:8080/"
        },
        "outputId": "e8f8309a-bb2b-4139-fb4c-05ab6c04c91a"
      },
      "source": [
        "# Create a dictionary with 3 keys, all with the value 0:\n",
        "\n",
        "x = ('key1', 'key2', 'key3')\n",
        "y = 0\n",
        "\n",
        "thisdict = dict.fromkeys(x, y)\n",
        "\n",
        "print(thisdict)"
      ],
      "execution_count": 393,
      "outputs": [
        {
          "output_type": "stream",
          "name": "stdout",
          "text": [
            "{'key1': 0, 'key2': 0, 'key3': 0}\n"
          ]
        }
      ]
    },
    {
      "cell_type": "code",
      "metadata": {
        "id": "nwpwaEpy_3Z_",
        "colab": {
          "base_uri": "https://localhost:8080/"
        },
        "outputId": "35b6e8e5-8d6d-4ce2-9832-0764cefba3b9"
      },
      "source": [
        "x = ('key1', 'key2', 'key3')\n",
        "\n",
        "thisdict = dict.fromkeys(x)\n",
        "\n",
        "print(thisdict)"
      ],
      "execution_count": 394,
      "outputs": [
        {
          "output_type": "stream",
          "name": "stdout",
          "text": [
            "{'key1': None, 'key2': None, 'key3': None}\n"
          ]
        }
      ]
    },
    {
      "cell_type": "code",
      "metadata": {
        "id": "aNv2jVhU_-sZ",
        "colab": {
          "base_uri": "https://localhost:8080/"
        },
        "outputId": "1da298c7-f6cf-44de-b8a6-6771a1c05ca9"
      },
      "source": [
        "car = {\n",
        "  \"brand\": \"Ford\",\n",
        "  \"model\": \"Mustang\",\n",
        "  \"year\": 1964\n",
        "}\n",
        "\n",
        "x = car.items()\n",
        "\n",
        "print(x)"
      ],
      "execution_count": 395,
      "outputs": [
        {
          "output_type": "stream",
          "name": "stdout",
          "text": [
            "dict_items([('brand', 'Ford'), ('model', 'Mustang'), ('year', 1964)])\n"
          ]
        }
      ]
    },
    {
      "cell_type": "code",
      "metadata": {
        "id": "T_KuSpBiTZbd",
        "colab": {
          "base_uri": "https://localhost:8080/"
        },
        "outputId": "c55096d6-3bab-40e4-efde-92cc111e20e2"
      },
      "source": [
        "car = {\n",
        "  \"brand\": \"Ford\",\n",
        "  \"model\": \"Mustang\",\n",
        "  \"year\": 1964\n",
        "}\n",
        "\n",
        "x = car.keys()\n",
        "\n",
        "print(x)"
      ],
      "execution_count": 396,
      "outputs": [
        {
          "output_type": "stream",
          "name": "stdout",
          "text": [
            "dict_keys(['brand', 'model', 'year'])\n"
          ]
        }
      ]
    },
    {
      "cell_type": "code",
      "metadata": {
        "id": "YbKcaY7uTZFV",
        "colab": {
          "base_uri": "https://localhost:8080/"
        },
        "outputId": "a81180e6-9c5e-45eb-dea8-68c7a7bfcb14"
      },
      "source": [
        "car = {\n",
        "  \"brand\": \"Ford\",\n",
        "  \"model\": \"Mustang\",\n",
        "  \"year\": 1964\n",
        "}\n",
        "\n",
        "x = car.values()\n",
        "\n",
        "print(x)"
      ],
      "execution_count": 397,
      "outputs": [
        {
          "output_type": "stream",
          "name": "stdout",
          "text": [
            "dict_values(['Ford', 'Mustang', 1964])\n"
          ]
        }
      ]
    },
    {
      "cell_type": "code",
      "metadata": {
        "id": "tl83kGuLTsy0",
        "colab": {
          "base_uri": "https://localhost:8080/"
        },
        "outputId": "c47b9800-3c4b-47c0-fb37-efeedd48f7ba"
      },
      "source": [
        "car = {\n",
        "  \"brand\": \"Ford\",\n",
        "  \"model\": \"Mustang\",\n",
        "  \"year\": 1964\n",
        "}\n",
        "\n",
        "car.update({\"color\": \"White\"})\n",
        "\n",
        "print(car)"
      ],
      "execution_count": 398,
      "outputs": [
        {
          "output_type": "stream",
          "name": "stdout",
          "text": [
            "{'brand': 'Ford', 'model': 'Mustang', 'year': 1964, 'color': 'White'}\n"
          ]
        }
      ]
    },
    {
      "cell_type": "code",
      "metadata": {
        "colab": {
          "base_uri": "https://localhost:8080/"
        },
        "id": "SgVkDAG2ldBr",
        "outputId": "4bb8df60-630c-40b1-c47e-998158171068"
      },
      "source": [
        "wardrobe = {'shirt': ['red', 'blue', 'white'], 'jeans': ['blue', 'black']}\n",
        "new_items = {'jeans': ['white'], 'scarf': ['yellow'], 'socks': ['black', 'brown']}\n",
        "wardrobe.update(new_items)\n",
        "print(wardrobe)"
      ],
      "execution_count": 399,
      "outputs": [
        {
          "output_type": "stream",
          "name": "stdout",
          "text": [
            "{'shirt': ['red', 'blue', 'white'], 'jeans': ['white'], 'scarf': ['yellow'], 'socks': ['black', 'brown']}\n"
          ]
        }
      ]
    },
    {
      "cell_type": "code",
      "metadata": {
        "id": "95P3WTqdxpbu",
        "colab": {
          "base_uri": "https://localhost:8080/"
        },
        "outputId": "332f283b-c32b-4ae1-cf69-53436b9b9227"
      },
      "source": [
        "# Get the value of the \"model\" item:\n",
        "car = {\n",
        "  \"brand\": \"Ford\",\n",
        "  \"model\": \"Mustang\",\n",
        "  \"year\": 1964\n",
        "}\n",
        "\n",
        "x = car.setdefault(\"model\", \"Bronco\")\n",
        "\n",
        "print(x)"
      ],
      "execution_count": 400,
      "outputs": [
        {
          "output_type": "stream",
          "name": "stdout",
          "text": [
            "Mustang\n"
          ]
        }
      ]
    },
    {
      "cell_type": "code",
      "metadata": {
        "id": "KuBFCgjdx2Nn",
        "colab": {
          "base_uri": "https://localhost:8080/"
        },
        "outputId": "5b714c77-57ad-4e20-ee79-139bf6328aa8"
      },
      "source": [
        "# Remove the last item from the dictionary:\n",
        "\n",
        "car = {\n",
        "  \"brand\": \"Ford\",\n",
        "  \"model\": \"Mustang\",\n",
        "  \"year\": 1964\n",
        "}\n",
        "\n",
        "car.popitem()\n",
        "\n",
        "print(car)"
      ],
      "execution_count": 401,
      "outputs": [
        {
          "output_type": "stream",
          "name": "stdout",
          "text": [
            "{'brand': 'Ford', 'model': 'Mustang'}\n"
          ]
        }
      ]
    },
    {
      "cell_type": "markdown",
      "metadata": {
        "id": "PzNbouAk0_p1"
      },
      "source": [
        "### **Grouping Dict**"
      ]
    },
    {
      "cell_type": "code",
      "metadata": {
        "colab": {
          "base_uri": "https://localhost:8080/"
        },
        "id": "3YzqJ69f1Gqb",
        "outputId": "85ecd7c5-9fae-4d53-ddc3-449e3fbc3350"
      },
      "source": [
        "def groups_per_user(group_dictionary):\n",
        "\tuser_groups = {}\n",
        "\t# Go through group_dictionary\n",
        "\tfor group, user in group_dictionary.items():\n",
        "\t\t# Now go through the users in the group\n",
        "\t\tfor item in user:\n",
        "\t\t\tif item not in user_groups:\n",
        "\t\t\t\tuser_groups[item] = []\n",
        "\t\t\tuser_groups[item].append(group)\n",
        "\n",
        "\treturn(user_groups)\n",
        "\n",
        "print(groups_per_user({\"local\": [\"admin\", \"userA\"],\n",
        "\t\t\"public\":  [\"admin\", \"userB\"],\n",
        "\t\t\"administrator\": [\"admin\"] }))"
      ],
      "execution_count": 402,
      "outputs": [
        {
          "output_type": "stream",
          "name": "stdout",
          "text": [
            "{'admin': ['local', 'public', 'administrator'], 'userA': ['local'], 'userB': ['public']}\n"
          ]
        }
      ]
    },
    {
      "cell_type": "code",
      "metadata": {
        "colab": {
          "base_uri": "https://localhost:8080/"
        },
        "id": "wRKwwlUE1aHf",
        "outputId": "746a29da-b9d9-401b-d848-4907fd121e09"
      },
      "source": [
        "def count_letters(text):\n",
        "  result = {}\n",
        "  # Go through each letter in the text\n",
        "  for letter in text.lower():\n",
        "    # Check if the letter needs to be counted or not\n",
        "    if letter.isalpha():\n",
        "      if letter not in result:\n",
        "        result[letter] = 0\n",
        "      result[letter] += 1\n",
        "  return result\n",
        "\n",
        "print(count_letters(\"AaBbCc\"))\n",
        "# Should be {'a': 2, 'b': 2, 'c': 2}\n",
        "\n",
        "print(count_letters(\"Math is fun! 2+2=4\"))\n",
        "# Should be {'m': 1, 'a': 1, 't': 1, 'h': 1, 'i': 1, 's': 1, 'f': 1, 'u': 1, 'n': 1}\n",
        "\n",
        "print(count_letters(\"This is a sentence.\"))\n",
        "# Should be {'t': 2, 'h': 1, 'i': 2, 's': 3, 'a': 1, 'e': 3, 'n': 2, 'c': 1}"
      ],
      "execution_count": 403,
      "outputs": [
        {
          "output_type": "stream",
          "name": "stdout",
          "text": [
            "{'a': 2, 'b': 2, 'c': 2}\n",
            "{'m': 1, 'a': 1, 't': 1, 'h': 1, 'i': 1, 's': 1, 'f': 1, 'u': 1, 'n': 1}\n",
            "{'t': 2, 'h': 1, 'i': 2, 's': 3, 'a': 1, 'e': 3, 'n': 2, 'c': 1}\n"
          ]
        }
      ]
    },
    {
      "cell_type": "markdown",
      "metadata": {
        "id": "b5NtCU2H-wuB"
      },
      "source": [
        "## **Teknik Looping Data Struktur**"
      ]
    },
    {
      "cell_type": "markdown",
      "metadata": {
        "id": "ntLEvl4BAHMj"
      },
      "source": [
        "### ***Enumerate(List) --> Index, Value***"
      ]
    },
    {
      "cell_type": "code",
      "metadata": {
        "id": "tlyLG-1D-1zk",
        "colab": {
          "base_uri": "https://localhost:8080/"
        },
        "outputId": "ad393430-aee9-42b5-ed80-e93aea59cf1d"
      },
      "source": [
        "# teknik looping\n",
        "\n",
        "nama_band = ['Payung Teduh',\n",
        "             'Fourtwnty',\n",
        "             'Dialog Dini Hari',\n",
        "             'Mr. Sonjaya',\n",
        "             'Parahyena',\n",
        "             'Syahrini']\n",
        "\n",
        "kumpulan_lagu = ['Akad',\n",
        "        'Zona Nyaman',\n",
        "        'Rumahku',\n",
        "        'Sang Filsuf',\n",
        "        'Sindoro',\n",
        "        'Jodohku']\n",
        "\n",
        "# enumerate\n",
        "\n",
        "for index,band in enumerate(nama_band):\n",
        "    print(index,':',band)\n"
      ],
      "execution_count": 404,
      "outputs": [
        {
          "output_type": "stream",
          "name": "stdout",
          "text": [
            "0 : Payung Teduh\n",
            "1 : Fourtwnty\n",
            "2 : Dialog Dini Hari\n",
            "3 : Mr. Sonjaya\n",
            "4 : Parahyena\n",
            "5 : Syahrini\n"
          ]
        }
      ]
    },
    {
      "cell_type": "code",
      "metadata": {
        "id": "UprA2Sj7GLfA",
        "colab": {
          "base_uri": "https://localhost:8080/"
        },
        "outputId": "f126135c-4d44-41e2-ae5d-d51748c111e2"
      },
      "source": [
        "print(\"Contoh Foor Loop\")\n",
        "angka = [12, 34, 56, 78, 90, 13, 35, 57]\n",
        "print(angka)\n",
        "print(\"Mengurutkan :\")\n",
        "for index, value in enumerate(sorted(angka)) :\n",
        "  print(\"Nilai ke-\"+str(index)+\" = \"+ str(value))"
      ],
      "execution_count": 405,
      "outputs": [
        {
          "output_type": "stream",
          "name": "stdout",
          "text": [
            "Contoh Foor Loop\n",
            "[12, 34, 56, 78, 90, 13, 35, 57]\n",
            "Mengurutkan :\n",
            "Nilai ke-0 = 12\n",
            "Nilai ke-1 = 13\n",
            "Nilai ke-2 = 34\n",
            "Nilai ke-3 = 35\n",
            "Nilai ke-4 = 56\n",
            "Nilai ke-5 = 57\n",
            "Nilai ke-6 = 78\n",
            "Nilai ke-7 = 90\n"
          ]
        }
      ]
    },
    {
      "cell_type": "code",
      "metadata": {
        "id": "0GwMze_NGV6H",
        "colab": {
          "base_uri": "https://localhost:8080/"
        },
        "outputId": "6b3cbf5d-c98c-419e-c1c5-ec9a48d76468"
      },
      "source": [
        "obj_list= [1, 16, 11, 10, 5]\n",
        "\n",
        "# lengkapi code di bawah\n",
        "for index, value in enumerate(obj_list):\n",
        "    print(index*value)"
      ],
      "execution_count": 406,
      "outputs": [
        {
          "output_type": "stream",
          "name": "stdout",
          "text": [
            "0\n",
            "16\n",
            "22\n",
            "30\n",
            "20\n"
          ]
        }
      ]
    },
    {
      "cell_type": "markdown",
      "metadata": {
        "id": "I7qQ0dY5AJV6"
      },
      "source": [
        "### ***Zip(list, list) --> itemlist, itemlist***"
      ]
    },
    {
      "cell_type": "code",
      "metadata": {
        "id": "eY6N-K4B_F3N",
        "colab": {
          "base_uri": "https://localhost:8080/"
        },
        "outputId": "756e62e3-f25c-413a-ac36-d99ce88d2aa6"
      },
      "source": [
        "# teknik looping\n",
        "\n",
        "nama_band = ['Payung Teduh',\n",
        "             'Fourtwnty',\n",
        "             'Dialog Dini Hari',\n",
        "             'Mr. Sonjaya',\n",
        "             'Parahyena',\n",
        "             'Syahrini']\n",
        "\n",
        "kumpulan_lagu = ['Akad',\n",
        "        'Zona Nyaman',\n",
        "        'Rumahku',\n",
        "        'Sang Filsuf',\n",
        "        'Sindoro',\n",
        "        'Jodohku']\n",
        "\n",
        "# zip\n",
        "\n",
        "for band,lagu in zip(nama_band,kumpulan_lagu):\n",
        "    print(band,'menyanyikan lagu yang berjudul:',lagu)\n"
      ],
      "execution_count": 407,
      "outputs": [
        {
          "output_type": "stream",
          "name": "stdout",
          "text": [
            "Payung Teduh menyanyikan lagu yang berjudul: Akad\n",
            "Fourtwnty menyanyikan lagu yang berjudul: Zona Nyaman\n",
            "Dialog Dini Hari menyanyikan lagu yang berjudul: Rumahku\n",
            "Mr. Sonjaya menyanyikan lagu yang berjudul: Sang Filsuf\n",
            "Parahyena menyanyikan lagu yang berjudul: Sindoro\n",
            "Syahrini menyanyikan lagu yang berjudul: Jodohku\n"
          ]
        }
      ]
    },
    {
      "cell_type": "markdown",
      "metadata": {
        "id": "yMLuN_wsAQfX"
      },
      "source": [
        "### ***Set***"
      ]
    },
    {
      "cell_type": "code",
      "metadata": {
        "id": "0pXYK-Yq_KJB",
        "colab": {
          "base_uri": "https://localhost:8080/"
        },
        "outputId": "28f7685c-983d-4416-a32f-b47f8e5eda87"
      },
      "source": [
        "# teknik looping\n",
        "\n",
        "nama_band = ['Payung Teduh',\n",
        "             'Fourtwnty',\n",
        "             'Dialog Dini Hari',\n",
        "             'Mr. Sonjaya',\n",
        "             'Parahyena',\n",
        "             'Syahrini']\n",
        "\n",
        "kumpulan_lagu = ['Akad',\n",
        "        'Zona Nyaman',\n",
        "        'Rumahku',\n",
        "        'Sang Filsuf',\n",
        "        'Sindoro',\n",
        "        'Jodohku']\n",
        "\n",
        "# set\n",
        "playlist = {'baby baby', 'ada apa dengan cinta', 'cenat-cenut', 'jaran goyang', 'jaran goyang', 'gorgom', 'kuda', 'kucing'}\n",
        "\n",
        "for lagu in sorted(playlist):\n",
        "    print(lagu)\n"
      ],
      "execution_count": 408,
      "outputs": [
        {
          "output_type": "stream",
          "name": "stdout",
          "text": [
            "ada apa dengan cinta\n",
            "baby baby\n",
            "cenat-cenut\n",
            "gorgom\n",
            "jaran goyang\n",
            "kucing\n",
            "kuda\n"
          ]
        }
      ]
    },
    {
      "cell_type": "markdown",
      "metadata": {
        "id": "17guOesdAU-n"
      },
      "source": [
        "### ***Items, keys, values --> dict***"
      ]
    },
    {
      "cell_type": "code",
      "metadata": {
        "id": "mokT6GWf_OHM",
        "colab": {
          "base_uri": "https://localhost:8080/"
        },
        "outputId": "3122e619-561e-47bd-eb38-ad8b9d1f7441"
      },
      "source": [
        "# dictionary\n",
        "\n",
        "print('='*100)\n",
        "\n",
        "playlist2 = {'Payung Teduh': 'akad',\n",
        "             'Fourtwnty':'Zona Nyaman',\n",
        "             'Dialog Dini Hari':'Rumahku',\n",
        "             }\n",
        "\n",
        "for i,v in playlist2.items():\n",
        "    print(i,'lagunya:',v)\n",
        "\n",
        "for i in reversed(range(1,10,1)):\n",
        "    print(i, end = \" \")"
      ],
      "execution_count": 409,
      "outputs": [
        {
          "output_type": "stream",
          "name": "stdout",
          "text": [
            "====================================================================================================\n",
            "Payung Teduh lagunya: akad\n",
            "Fourtwnty lagunya: Zona Nyaman\n",
            "Dialog Dini Hari lagunya: Rumahku\n",
            "9 8 7 6 5 4 3 2 1 "
          ]
        }
      ]
    },
    {
      "cell_type": "code",
      "metadata": {
        "colab": {
          "base_uri": "https://localhost:8080/"
        },
        "id": "nni4yrb0j-JC",
        "outputId": "a5b5995c-d2b8-479e-df76-f1fd9c0d4d8f"
      },
      "source": [
        "pol_eng_dictionary = {\n",
        "    \"zamek\": \"castle\",\n",
        "    \"woda\": \"water\",\n",
        "    \"gleba\": \"soil\"\n",
        "    }\n",
        "\n",
        "for key, value in pol_eng_dictionary.items():\n",
        "    print(\"Pol/Eng ->\", key, \":\", value)"
      ],
      "execution_count": 410,
      "outputs": [
        {
          "output_type": "stream",
          "name": "stdout",
          "text": [
            "Pol/Eng -> zamek : castle\n",
            "Pol/Eng -> woda : water\n",
            "Pol/Eng -> gleba : soil\n"
          ]
        }
      ]
    },
    {
      "cell_type": "markdown",
      "metadata": {
        "id": "jCyP-zsYjwsh"
      },
      "source": [
        "# **Let's play a game**\n",
        "\n",
        "## **Hangman**\n",
        "\n",
        "This is a Python script of the classic game \"Hangman\". The word to guess is represented by a row of dashes. If the player guess a letter which exists in the word, the script writes it in all its correct positions. The player has 10 turns to guess the word. You can easily customize the game by changing the variables."
      ]
    },
    {
      "cell_type": "code",
      "metadata": {
        "id": "Vz1XeOIfcvrO",
        "colab": {
          "base_uri": "https://localhost:8080/"
        },
        "outputId": "a893af82-d7cb-44b0-9dd1-6422f0bd5b55"
      },
      "source": [
        "words = ['think', 'could', 'should', 'become', 'leave', 'begin', 'start', 'might',\n",
        " 'believe', 'bring', 'happen', 'write', 'provide', 'stand', 'include', 'continue',\n",
        " 'learn', 'change', 'understand', 'watch', 'follow', 'create', 'speak', 'allow',\n",
        " 'spend', 'offer', 'remember', 'consider', 'appear', 'serve', 'expect', 'build',\n",
        " 'reach']\n",
        "\n",
        "import random\n",
        "word = random.choice(words) # here we set the secret\n",
        "\n",
        "guesses = ''                # creates an variable with an empty value\n",
        "\n",
        "turns = 10                  # determine the number of turns\n",
        "\n",
        "while turns > 0:            # check if the turns are more than zero\n",
        "    failed = 0              # make a counter that starts with zero\n",
        "  \n",
        "    for char in word:       # for every character in secret_word  \n",
        "\n",
        "        if char in guesses:               # see if the character is in the players guess\n",
        "            print (char, end=\" \")         # print then out the character\n",
        "\n",
        "        else:\n",
        "            print (\"_\", end=\" \")          # if not found, print a dash\n",
        "            failed += 1                   # and increase the failed counter with one\n",
        "\n",
        "    if failed == 0:                       # if failed is equal to zero print You Won\n",
        "        print (\"You won\")\n",
        "        break                             # exit the script\n",
        "\n",
        "    print() \n",
        "    guess = input(\"guess a char:\")        # ask the user go guess a character\n",
        "\n",
        "    guesses += guess                      # set the players guess to guesses\n",
        "\n",
        "    if guess not in word:                 # if the guess is not found in the secret word\n",
        " \n",
        "        turns -= 1                        # turns counter decreases with 1 (now 9)\n",
        "        print (\"Wrong\")                   # print wrong\n",
        " \n",
        "        print (\"You have\", turns, 'more guesses')   # how many turns are left\n",
        "\n",
        "        if turns == 0:                              # if the turns are equal to zero\n",
        "            print (\"You Lose\")                      # print \"You Lose\"\n",
        "            print (\"The right word :\", word)"
      ],
      "execution_count": 411,
      "outputs": [
        {
          "output_type": "stream",
          "name": "stdout",
          "text": [
            "_ _ _ _ _ \n",
            "guess a char:d\n",
            "Wrong\n",
            "You have 9 more guesses\n",
            "_ _ _ _ _ \n",
            "guess a char:a\n",
            "_ _ a _ _ \n",
            "guess a char:c\n",
            "Wrong\n",
            "You have 8 more guesses\n",
            "_ _ a _ _ \n",
            "guess a char:b\n",
            "Wrong\n",
            "You have 7 more guesses\n",
            "_ _ a _ _ \n",
            "guess a char:e\n",
            "_ e a _ _ \n",
            "guess a char:p\n",
            "Wrong\n",
            "You have 6 more guesses\n",
            "_ e a _ _ \n",
            "guess a char:l\n",
            "l e a _ _ \n",
            "guess a char:r\n",
            "l e a r _ \n",
            "guess a char:n\n",
            "l e a r n You won\n"
          ]
        }
      ]
    },
    {
      "cell_type": "markdown",
      "metadata": {
        "id": "LySPG5-q2CLs"
      },
      "source": [
        "# **Stacks and Queues**"
      ]
    },
    {
      "cell_type": "markdown",
      "metadata": {
        "id": "nisqx9OZ6lXS"
      },
      "source": [
        "Stack -> proses menambah data dan menghapus data bagian akhir"
      ]
    },
    {
      "cell_type": "code",
      "metadata": {
        "id": "j9a90VBF6kaJ",
        "colab": {
          "base_uri": "https://localhost:8080/"
        },
        "outputId": "731b54b2-4ff7-4190-ca67-56ef141e97c5"
      },
      "source": [
        "tumpukan = [1,2,3,4,5,6]\n",
        "print('data sekarang: ',tumpukan)\n",
        "\n",
        "# memasukan data baru\n",
        "tumpukan.append(7)\n",
        "print('data masuk: ',7)\n",
        "print('data sekarang: ',tumpukan)\n",
        "tumpukan.append(8)\n",
        "print('data masuk: ',8)\n",
        "print('data sekarang: ',tumpukan)\n",
        "\n",
        "out = tumpukan.pop()\n",
        "print('data keluar: ',out)\n",
        "print('data sekarang: ',tumpukan)"
      ],
      "execution_count": 412,
      "outputs": [
        {
          "output_type": "stream",
          "name": "stdout",
          "text": [
            "data sekarang:  [1, 2, 3, 4, 5, 6]\n",
            "data masuk:  7\n",
            "data sekarang:  [1, 2, 3, 4, 5, 6, 7]\n",
            "data masuk:  8\n",
            "data sekarang:  [1, 2, 3, 4, 5, 6, 7, 8]\n",
            "data keluar:  8\n",
            "data sekarang:  [1, 2, 3, 4, 5, 6, 7]\n"
          ]
        }
      ]
    },
    {
      "cell_type": "markdown",
      "metadata": {
        "id": "vih_9yJb6pv_"
      },
      "source": [
        "Queues -> proses menambah data dan menghapus data bagian depan\n",
        "\n",
        "maka kita menggunakan library tertentu"
      ]
    },
    {
      "cell_type": "code",
      "metadata": {
        "id": "TD7NlAkw63ID",
        "colab": {
          "base_uri": "https://localhost:8080/"
        },
        "outputId": "0ad903cd-ecd1-48bb-9b9c-90cd1c293a87"
      },
      "source": [
        "from collections import deque\n",
        "\n",
        "antrian = deque([1,2,3,4,5])\n",
        "\n",
        "print('data sekarang: ',antrian)\n",
        "\n",
        "# menambahkan data\n",
        "antrian.append(6)\n",
        "print('data masuk: ',6)\n",
        "print('data sekarang: ',antrian)\n",
        "\n",
        "antrian.append(7)\n",
        "print('data masuk: ',7)\n",
        "print('data sekarang: ',antrian)\n",
        "\n",
        "# mengurangi antrian\n",
        "out = antrian.popleft()\n",
        "print('data keluar: ',out)\n",
        "print('data sekarang: ',antrian)\n",
        "\n",
        "out = antrian.popleft()\n",
        "print('data keluar: ',out)\n",
        "print('data sekarang: ',antrian)\n",
        "\n",
        "out = antrian.popleft()\n",
        "print('data keluar: ',out)\n",
        "print('data sekarang: ',antrian)\n",
        "\n",
        "antrian.append(8)\n",
        "print('data masuk: ',8)\n",
        "print('data sekarang: ',antrian)"
      ],
      "execution_count": 413,
      "outputs": [
        {
          "output_type": "stream",
          "name": "stdout",
          "text": [
            "data sekarang:  deque([1, 2, 3, 4, 5])\n",
            "data masuk:  6\n",
            "data sekarang:  deque([1, 2, 3, 4, 5, 6])\n",
            "data masuk:  7\n",
            "data sekarang:  deque([1, 2, 3, 4, 5, 6, 7])\n",
            "data keluar:  1\n",
            "data sekarang:  deque([2, 3, 4, 5, 6, 7])\n",
            "data keluar:  2\n",
            "data sekarang:  deque([3, 4, 5, 6, 7])\n",
            "data keluar:  3\n",
            "data sekarang:  deque([4, 5, 6, 7])\n",
            "data masuk:  8\n",
            "data sekarang:  deque([4, 5, 6, 7, 8])\n"
          ]
        }
      ]
    },
    {
      "cell_type": "markdown",
      "metadata": {
        "id": "mtvyhZsFKr5O"
      },
      "source": [
        "# **Date and Time**\n",
        "\n",
        "Program Python dapat menangani tanggal dan waktu dengan beberapa cara. Konversi antara format tanggal adalah tugas umum untuk komputer. Modul waktu dan kalender Python melacak tanggal dan waktu.\n",
        "\n",
        "**<h4>Apa itu Tick?<h4>**\n",
        "\n",
        "Interval waktu adalah bilangan floating-point dalam satuan detik. Instansi tertentu dalam waktu dinyatakan dalam hitungan detik sejak pukul 12:00 1 Januari 1970.\n",
        "\n",
        "Dibawah ini adalah contoh penggunanaya.\n"
      ]
    },
    {
      "cell_type": "code",
      "metadata": {
        "id": "u59NO59GSt5N",
        "colab": {
          "base_uri": "https://localhost:8080/"
        },
        "outputId": "0e30899f-b158-4f32-f55f-f503d668cc4c"
      },
      "source": [
        "import time;  # Digunakan untuk meng-import modul time\n",
        "\n",
        "ticks = time.time()\n",
        "print(\"Berjalan sejak 12:00am, January 1, 1970:\", ticks)"
      ],
      "execution_count": 414,
      "outputs": [
        {
          "output_type": "stream",
          "name": "stdout",
          "text": [
            "Berjalan sejak 12:00am, January 1, 1970: 1633439583.04393\n"
          ]
        }
      ]
    },
    {
      "cell_type": "markdown",
      "metadata": {
        "id": "ZiiK2CF919LA"
      },
      "source": [
        ""
      ]
    },
    {
      "cell_type": "markdown",
      "metadata": {
        "id": "S716Y7tXS-Ct"
      },
      "source": [
        "**<h4>Apa itu TimeTuple Python?<h4>**\n",
        "\n",
        "Banyak fungsi waktu Python menangani waktu sebagai tuple dari 9 nomor, seperti yang terdapat pada tabel di bawah ini.\n",
        "\n",
        "* 0\ttm_year\t2008\n",
        "\n",
        "* 1\ttm_mon\t1 sampai 12\n",
        "\n",
        "* 2\ttm_mday\t1 sampai 31\n",
        "\n",
        "* 3\ttm_hour\t0 sampai 23\n",
        "\n",
        "* 4\ttm_min\t0 sampai 59\n",
        "\n",
        "* 5\ttm_sec\t0 sampai 61\n",
        "\n",
        "* 6\ttm_wday\t0 sampai 6 (0 adalah Senin)\n",
        "\n",
        "* 7\ttm_yday\t1 sampai 366\n",
        "\n",
        "* 8\ttm_isdst\t-1, 0, 1, -1 means library determines DST"
      ]
    },
    {
      "cell_type": "markdown",
      "metadata": {
        "id": "q1vHcjAjUUL7"
      },
      "source": [
        "Mendapatkan Waktu Saat Ini\n",
        "\n",
        "Untuk menerjemahkan waktu instan dari satu detik sejak nilai floating-point ke waktu menjadi tupel waktu, lewati nilai floating-point ke fungsi (mis., Localtime) yang mengembalikan waktu tupel dengan semua sembilan item valid."
      ]
    },
    {
      "cell_type": "code",
      "metadata": {
        "id": "_wX0TjrzUb3a",
        "colab": {
          "base_uri": "https://localhost:8080/"
        },
        "outputId": "33b95289-496a-4e61-edde-5bf19a3f8da5"
      },
      "source": [
        "import time;\n",
        "\n",
        "localtime = time.localtime(time.time())\n",
        "print(\"Waktu lokal saat ini :\", localtime)"
      ],
      "execution_count": 415,
      "outputs": [
        {
          "output_type": "stream",
          "name": "stdout",
          "text": [
            "Waktu lokal saat ini : time.struct_time(tm_year=2021, tm_mon=10, tm_mday=5, tm_hour=13, tm_min=13, tm_sec=3, tm_wday=1, tm_yday=278, tm_isdst=0)\n"
          ]
        }
      ]
    },
    {
      "cell_type": "markdown",
      "metadata": {
        "id": "SK7PziQzVMRx"
      },
      "source": [
        "Mendapatkan Waktu yang berformat\n",
        "\n",
        "Anda dapat memformat kapan saja sesuai kebutuhan Anda, namun metode sederhana untuk mendapatkan waktu dalam format yang mudah dibaca adalah asctime ()"
      ]
    },
    {
      "cell_type": "code",
      "metadata": {
        "id": "CE3O_O0fVNT0",
        "colab": {
          "base_uri": "https://localhost:8080/"
        },
        "outputId": "f97bddb2-57ca-4127-893e-997e434813e6"
      },
      "source": [
        "import time;\n",
        "\n",
        "localtime = time.asctime( time.localtime(time.time()) )\n",
        "print(\"Waktu lokal saat ini :\", localtime)"
      ],
      "execution_count": 416,
      "outputs": [
        {
          "output_type": "stream",
          "name": "stdout",
          "text": [
            "Waktu lokal saat ini : Tue Oct  5 13:13:03 2021\n"
          ]
        }
      ]
    },
    {
      "cell_type": "markdown",
      "metadata": {
        "id": "LXyPqf8RVS6g"
      },
      "source": [
        "Mendapatkan kalender dalam sebulan\n",
        "\n",
        "Modul kalender memberikan berbagai macam metode untuk dimainkan dengan kalender tahunan dan bulanan. Di sini, kami mencetak kalender untuk bulan tertentu (Jan 2008)"
      ]
    },
    {
      "cell_type": "code",
      "metadata": {
        "id": "ANV-W_diVVAZ",
        "colab": {
          "base_uri": "https://localhost:8080/"
        },
        "outputId": "874bab39-dfcc-4109-b7bc-3644d0da3530"
      },
      "source": [
        "import calendar\n",
        "\n",
        "cal = calendar.month(2008, 1)\n",
        "print(\"Dibawah ini adalah kalender:\")\n",
        "print(cal)"
      ],
      "execution_count": 417,
      "outputs": [
        {
          "output_type": "stream",
          "name": "stdout",
          "text": [
            "Dibawah ini adalah kalender:\n",
            "    January 2008\n",
            "Mo Tu We Th Fr Sa Su\n",
            "    1  2  3  4  5  6\n",
            " 7  8  9 10 11 12 13\n",
            "14 15 16 17 18 19 20\n",
            "21 22 23 24 25 26 27\n",
            "28 29 30 31\n",
            "\n"
          ]
        }
      ]
    },
    {
      "cell_type": "markdown",
      "metadata": {
        "id": "N058a7txVbz3"
      },
      "source": [
        "Modul time pada Python\n",
        "\n",
        "Ada modul waktu populer yang tersedia dengan Python yang menyediakan fungsi untuk bekerja dengan waktu dan untuk mengkonversi antara representasi. Dibawah ini adalah tabel dari modul time pada python yang ada."
      ]
    },
    {
      "cell_type": "markdown",
      "metadata": {
        "id": "deZ84LSaVoOH"
      },
      "source": [
        "* `time.altzone`\n",
        "\n",
        "    Diimbangi zona waktu DST lokal, dalam detik di sebelah barat UTC, jika seseorang didefinisikan. Ini negatif jika zona waktu DST lokal berada di sebelah timur UTC (seperti di Eropa Barat, termasuk Inggris). Gunakan saja ini jika siang hari tidak nol.\n",
        "\n",
        "* `time.asctime([tupletime])`\n",
        "\n",
        "    Menerima time-tupel dan mengembalikan string 24-karakter yang dapat dibaca seperti ‘Tue Dec 11 18:07:14 2008’.\n",
        "\n",
        "* `time.clock()`\n",
        "\n",
        "    Mengembalikan waktu CPU saat ini sebagai jumlah floating-point detik. Untuk mengukur biaya komputasi dari berbagai pendekatan, nilai time.clock lebih bermanfaat daripada time.time ().\n",
        "\n",
        "* `time.ctime([secs])`\n",
        "\n",
        "    Seperti asctime (localtime (detik)) dan tanpa argumen seperti asctime ()\n",
        "\n",
        "* `time.gmtime([secs])`\n",
        "\n",
        "    Menerima instan yang diungkapkan dalam hitungan detik sejak zaman dan mengembalikan waktu tuple t dengan waktu UTC. Catatan: t.tm_isdst selalu 0\n",
        "\n",
        "* `time.localtime([secs])`\n",
        "\n",
        "    Menerima instan yang dinyatakan dalam hitungan detik sejak zaman dan mengembalikan waktu tuple t dengan waktu setempat (t.tm_isdst adalah 0 atau 1, tergantung pada apakah DST berlaku seketika oleh peraturan lokal).\n",
        "\n",
        "* `time.mktime(tupletime)`\n",
        "\n",
        "    Menerima instan dinyatakan sebagai time-tuple di waktu setempat dan mengembalikan nilai floating-point dengan instan yang dinyatakan dalam hitungan detik sejak zaman.\n",
        "\n",
        "* `time.sleep(secs)`\n",
        "\n",
        "    Menangguhkan panggilan untuk beberapa detik.\n",
        "\n",
        "* `time.strftime(fmt[,tupletime])`\n",
        "\n",
        "    Menerima instan dinyatakan sebagai tupel waktu di waktu lokal dan mengembalikan sebuah string yang mewakili instan seperti yang ditentukan oleh string fmt\n",
        "    \n",
        "* `time.strptime(str,fmt=’%a %b %d %H:%M:%S %Y’)`\n",
        "\n",
        "    Parses str sesuai dengan format string fmt dan mengembalikan format instant-tuple.\n",
        "\n",
        "* `time.time()`\n",
        "\n",
        "    Mengembalikan waktu saat ini secara instan, jumlah detik mengambang beberapa detik sejak zaman itu.\n",
        "\n",
        "* `time.tzset()`\n",
        "\n",
        "    Mengatur ulang aturan konversi waktu yang digunakan oleh rutinitas perpustakaan. Variabel lingkungan TZ menentukan bagaimana hal ini dilakukan.\n",
        "\n",
        "Ada dua atribut penting yang tersedia dengan modul waktu:\n",
        "\n",
        "\n",
        "* `time.timezone`\n",
        "    \n",
        "    Atribut time.timezone adalah offset dalam detik zona waktu lokal (tanpa DST) dari UTC (> 0 di Amerika; <= 0 di sebagian besar Eropa, Asia, Afrika).\n",
        "\n",
        "* `time.tzname`\n",
        "\n",
        "    Atribut time.tzname adalah sepasang string yang bergantung pada lokal, yang merupakan nama zona waktu lokal tanpa dan dengan DST.\n",
        "\n",
        "Modul calendar pada Python\n",
        "\n",
        "Modul kalender menyimpan fungsi yang berhubungan dengan kalender, termasuk fungsi untuk mencetak kalender teks untuk bulan atau tahun tertentu.\n",
        "\n",
        "Secara default, kalender mengambil hari Senin sebagai hari pertama dalam minggu dan minggu sebagai yang terakhir. Untuk mengubah ini, fungsi call calendar.setfirstweekday ().\n",
        "\n",
        "Berikut adalah daftar fungsi yang tersedia dengan modul kalender:\n",
        "\n",
        "* `calendar.calendar(year,w=2,l=1,c=6)`\t\n",
        "\n",
        "    Mengembalikan string multiline dengan kalender untuk tahun tahun yang diformat menjadi tiga kolom yang dipisahkan oleh ruang c. W adalah lebar karakter setiap tanggal; Setiap baris memiliki panjang 21 * w + 18 + 2 * c. L adalah jumlah baris untuk setiap minggu.\n",
        "\n",
        "* `calendar.firstweekday( )`\n",
        "\n",
        "    Mengembalikan pengaturan saat ini untuk hari kerja yang dimulai setiap minggu. Secara default, saat kalender pertama kali diimpor, ini adalah 0, yang berarti Senin.\n",
        "\n",
        "* `calendar.isleap(year)`\n",
        "\n",
        "    Pengembalian True jika tahun adalah tahun kabisat; Jika tidak, False\n",
        "\n",
        "* `calendar.leapdays(y1,y2)`\n",
        "\n",
        "    Mengembalikan jumlah lompatan hari dalam tahun-tahun dalam rentang (y1, y2).\n",
        "\n",
        "* `calendar.month(year,month,w=2,l=1)`\n",
        "\n",
        "    Mengembalikan string multiline dengan kalender untuk bulan bulan tahun, satu baris per minggu ditambah dua baris header. W adalah lebar karakter setiap tanggal; Setiap baris memiliki panjang 7 * w + 6. L adalah jumlah baris untuk setiap minggu.\n",
        "\n",
        "* `calendar.monthcalendar(year,month)`\t\n",
        "\n",
        "    Mengembalikan daftar daftar int. Setiap sublist menunjukkan seminggu. Hari di luar bulan bulan tahun diatur ke 0; Hari dalam bulan ditetapkan ke hari ke bulan, 1 dan ke atas.\n",
        "\n",
        "* `calendar.monthrange(year,month)`\t\n",
        "\n",
        "    Mengembalikan dua bilangan bulat. Yang pertama adalah kode hari kerja untuk hari pertama bulan bulan di tahun; Yang kedua adalah jumlah hari dalam sebulan. Kode hari kerja adalah 0 (Senin) sampai 6 (Minggu); Angka bulan adalah 1 sampai 12.\n",
        "\n",
        "* `calendar.prcal(year,w=2,l=1,c=6)`\n",
        "\n",
        "    Seperti kalender cetak.calendar (tahun, w, l, c).\n",
        "\n",
        "* `calendar.prmonth(year,month,w=2,l=1)`\t\n",
        "\n",
        "    Seperti kalender cetak. Bulan (tahun, bulan, w, l).\n",
        "\n",
        "* `calendar.setfirstweekday(weekday)`\t\n",
        "\n",
        "    Mengatur hari pertama setiap minggu sampai hari kerja kode hari kerja. Kode hari kerja adalah 0 (Senin) sampai 6 (Minggu).\n",
        "\n",
        "* `calendar.timegm(tupletime)`\n",
        "\n",
        "    Kebalikan dari time.gmtime: menerima waktu instan dalam bentuk tupel waktu dan mengembalikan detik yang sama seperti jumlah floating-point dalam hitungan detik sejak zaman.\n",
        "\n",
        "* `calendar.weekday(year,month,day)`\t\n",
        "\n",
        "    Mengembalikan kode hari kerja untuk tanggal yang ditentukan. Kode hari kerja adalah 0 (Senin) sampai 6 (Minggu); Bulan adalah 1 (Januari) sampai 12 (Desember)."
      ]
    },
    {
      "cell_type": "markdown",
      "metadata": {
        "id": "F-5KmCutjQxM"
      },
      "source": [
        "02\n",
        "\n",
        "A date in Python is not a data type of its own, but we can import a module named datetime to work with dates as date objects.\n",
        "\n"
      ]
    },
    {
      "cell_type": "code",
      "metadata": {
        "id": "bCb3ngnEjWGG",
        "colab": {
          "base_uri": "https://localhost:8080/"
        },
        "outputId": "9b6b2752-77d7-48d1-c627-dae392aa3954"
      },
      "source": [
        "import datetime\n",
        "\n",
        "x = datetime.datetime.now()\n",
        "print(x)"
      ],
      "execution_count": 418,
      "outputs": [
        {
          "output_type": "stream",
          "name": "stdout",
          "text": [
            "2021-10-05 13:13:03.083885\n"
          ]
        }
      ]
    },
    {
      "cell_type": "markdown",
      "metadata": {
        "id": "Yrv1TVCMjeAB"
      },
      "source": [
        "When we execute the code from the example above the result will be:\n",
        "\n",
        "2020-07-21 16:44:36.878413\n",
        "\n",
        "The date contains year, month, day, hour, minute, second, and microsecond."
      ]
    },
    {
      "cell_type": "code",
      "metadata": {
        "id": "QjgZQ3sIjiYG",
        "colab": {
          "base_uri": "https://localhost:8080/"
        },
        "outputId": "73ccb6dc-55c4-4155-8744-b5e5de2bc6a2"
      },
      "source": [
        "# Return the year and name of weekday:\n",
        "\n",
        "import datetime\n",
        "\n",
        "x = datetime.datetime.now()\n",
        "\n",
        "print(x.year)\n",
        "print(x.strftime(\"%A\"))"
      ],
      "execution_count": 419,
      "outputs": [
        {
          "output_type": "stream",
          "name": "stdout",
          "text": [
            "2021\n",
            "Tuesday\n"
          ]
        }
      ]
    },
    {
      "cell_type": "markdown",
      "metadata": {
        "id": "ATHqukrQjyrc"
      },
      "source": [
        "**Creating Date Objects**\n",
        "\n",
        "To create a date, we can use the datetime() class (constructor) of the datetime module.\n",
        "\n",
        "The datetime() class requires three parameters to create a date: year, month, day.\n",
        "\n",
        "The datetime() class also takes parameters for time and timezone (hour, minute, second, microsecond, tzone), but they are optional, and has a default value of 0, (None for timezone)."
      ]
    },
    {
      "cell_type": "code",
      "metadata": {
        "id": "YDfnrswIj2n_",
        "colab": {
          "base_uri": "https://localhost:8080/"
        },
        "outputId": "f0084e0b-0477-415a-92cf-6a87400d6437"
      },
      "source": [
        "import datetime\n",
        "\n",
        "# (year, month, day, hour, minute, second, microsecond, tzone)\n",
        "\n",
        "x = datetime.datetime(2020, 5, 17) \n",
        "y = datetime.datetime(2020, 5, 17, 23, 34, 50, 78)\n",
        "\n",
        "print(x)\n",
        "print(y)"
      ],
      "execution_count": 420,
      "outputs": [
        {
          "output_type": "stream",
          "name": "stdout",
          "text": [
            "2020-05-17 00:00:00\n",
            "2020-05-17 23:34:50.000078\n"
          ]
        }
      ]
    },
    {
      "cell_type": "markdown",
      "metadata": {
        "id": "p2YfqWVXkGP6"
      },
      "source": [
        "**The strftime() Method**\n",
        "\n",
        "The datetime object has a method for formatting date objects into readable strings.\n",
        "\n",
        "The method is called strftime(), and takes one parameter, format, to specify the format of the returned string\n",
        "\n",
        "* %a -> Weekday, short version\tWed\t\n",
        "\n",
        "* %A -> Weekday, full version\tWednesday\t\n",
        "\n",
        "* %w -> Weekday as a number 0-6, 0 is Sunday\t3\t\n",
        "\n",
        "* %d -> Day of month 01-31\t31\t\n",
        "\n",
        "* %b -> Month name, short version\tDec\t\n",
        "\n",
        "* %B -> Month name, full version\tDecember\t\n",
        "\n",
        "* %m -> Month as a number 01-12\t12\t\n",
        "\n",
        "* %y -> Year, short version, without century\t18\t\n",
        "\n",
        "* %Y -> Year, full version\t2018\t\n",
        "\n",
        "* %H -> Hour 00-23\t17\t\n",
        "\n",
        "* %I -> Hour 00-12\t05\t\n",
        "\n",
        "* %p -> AM/PM\tPM\t\n",
        "\n",
        "* %M -> Minute 00-59\t41\t\n",
        "\n",
        "* %S -> Second 00-59\t08\t\n",
        "\n",
        "* %f -> Microsecond 000000-999999\t548513\t\n",
        "\n",
        "* %z -> UTC offset\t+0100\t\n",
        "\n",
        "* %Z -> Timezone\tCST\t\n",
        "\n",
        "* %j -> Day number of year 001-366\t365\t\n",
        "\n",
        "* %U -> Week number of year, Sunday as the first day of week, 00-53\t52\t\n",
        "\n",
        "* %W -> Week number of year, Monday as the first day of week, 00-53\t52\t\n",
        "\n",
        "* %c -> Local version of date and time\tMon Dec 31 17:41:00 2018\t\n",
        "\n",
        "* %x -> Local version of date\t12/31/18\t\n",
        "\n",
        "* %X -> Local version of time\t17:41:00\t\n",
        "\n",
        "* %% -> A % character\t%"
      ]
    },
    {
      "cell_type": "code",
      "metadata": {
        "colab": {
          "base_uri": "https://localhost:8080/"
        },
        "id": "cpIcXfID2U-a",
        "outputId": "17bd3d73-d71b-490e-d4a2-e8b03a1717bf"
      },
      "source": [
        "import datetime\n",
        "\n",
        "x = datetime.datetime.now()\n",
        "print(x.strftime(\"%B %d, %Y\"))"
      ],
      "execution_count": 421,
      "outputs": [
        {
          "output_type": "stream",
          "name": "stdout",
          "text": [
            "October 05, 2021\n"
          ]
        }
      ]
    },
    {
      "cell_type": "code",
      "metadata": {
        "id": "xdA7L3QDkKiF",
        "colab": {
          "base_uri": "https://localhost:8080/"
        },
        "outputId": "21cfcd35-3828-4f8c-e3e4-71eec05519af"
      },
      "source": [
        "# Display the name of the month:\n",
        "\n",
        "import datetime\n",
        "\n",
        "x = datetime.datetime(2018, 6, 1)\n",
        "\n",
        "print(x.strftime(\"%B\"))"
      ],
      "execution_count": 422,
      "outputs": [
        {
          "output_type": "stream",
          "name": "stdout",
          "text": [
            "June\n"
          ]
        }
      ]
    },
    {
      "cell_type": "markdown",
      "metadata": {
        "id": "659ub3ulnwtl"
      },
      "source": [
        "# **JSON**\n",
        "\n",
        "JSON is a syntax for storing and exchanging data.\n",
        "\n",
        "JSON is text, written with JavaScript object notation.\n",
        "\n",
        "Import the json module:\n",
        "\n",
        "`import json`"
      ]
    },
    {
      "cell_type": "markdown",
      "metadata": {
        "id": "Yu9XWPw2n8IN"
      },
      "source": [
        "## **Convert from JSON to Python**\n",
        "\n",
        "If you have a JSON string, you can parse it by using the `json.loads()` method."
      ]
    },
    {
      "cell_type": "code",
      "metadata": {
        "id": "xKgYB8Oqoape",
        "colab": {
          "base_uri": "https://localhost:8080/"
        },
        "outputId": "8b8c4488-5247-4cc0-96a9-659a7d5e095f"
      },
      "source": [
        "import json\n",
        "\n",
        "# some JSON:\n",
        "x =  '{ \"name\":\"John\", \"age\":30, \"city\":\"New York\"}'\n",
        "\n",
        "# parse x:\n",
        "y = json.loads(x)\n",
        "\n",
        "# the result is a Python dictionary:\n",
        "print(y[\"age\"])"
      ],
      "execution_count": 423,
      "outputs": [
        {
          "output_type": "stream",
          "name": "stdout",
          "text": [
            "30\n"
          ]
        }
      ]
    },
    {
      "cell_type": "markdown",
      "metadata": {
        "id": "n2QrTSktpL0T"
      },
      "source": [
        "## **Convert from Python to JSON**\n",
        "\n",
        "If you have a Python object, you can convert it into a JSON string by using the json.dumps() method.\n",
        "\n",
        "You can convert Python objects of the following types, into JSON strings:\n",
        "\n",
        "* dict\n",
        "\n",
        "* list\n",
        "\n",
        "* tuple\n",
        "\n",
        "* string\n",
        "\n",
        "* int\n",
        "\n",
        "* float\n",
        "\n",
        "* True\n",
        "\n",
        "* False\n",
        "\n",
        "* None"
      ]
    },
    {
      "cell_type": "code",
      "metadata": {
        "id": "JiCpr7_2pWnj",
        "colab": {
          "base_uri": "https://localhost:8080/"
        },
        "outputId": "3af244d8-4bf5-42e9-fc4e-346341174ec6"
      },
      "source": [
        "import json\n",
        "\n",
        "# a Python object (dict):\n",
        "x = {\n",
        "  \"name\": \"John\",\n",
        "  \"age\": 30,\n",
        "  \"city\": \"New York\"\n",
        "}\n",
        "\n",
        "# convert into JSON:\n",
        "y = json.dumps(x)\n",
        "\n",
        "# the result is a JSON string:\n",
        "print(y)"
      ],
      "execution_count": 424,
      "outputs": [
        {
          "output_type": "stream",
          "name": "stdout",
          "text": [
            "{\"name\": \"John\", \"age\": 30, \"city\": \"New York\"}\n"
          ]
        }
      ]
    },
    {
      "cell_type": "code",
      "metadata": {
        "id": "kDVpx6u5p7Vt",
        "colab": {
          "base_uri": "https://localhost:8080/"
        },
        "outputId": "d98a8069-99e5-4d52-bd09-2fe8c02178d9"
      },
      "source": [
        "import json\n",
        "\n",
        "x = {\n",
        "  \"name\": \"John\",\n",
        "  \"age\": 30,\n",
        "  \"married\": True,\n",
        "  \"divorced\": False,\n",
        "  \"children\": (\"Ann\",\"Billy\"),\n",
        "  \"pets\": None,\n",
        "  \"cars\": [\n",
        "    {\"model\": \"BMW 230\", \"mpg\": 27.5},\n",
        "    {\"model\": \"Ford Edge\", \"mpg\": 24.1}\n",
        "  ]\n",
        "}\n",
        "\n",
        "print(json.dumps(x))"
      ],
      "execution_count": 425,
      "outputs": [
        {
          "output_type": "stream",
          "name": "stdout",
          "text": [
            "{\"name\": \"John\", \"age\": 30, \"married\": true, \"divorced\": false, \"children\": [\"Ann\", \"Billy\"], \"pets\": null, \"cars\": [{\"model\": \"BMW 230\", \"mpg\": 27.5}, {\"model\": \"Ford Edge\", \"mpg\": 24.1}]}\n"
          ]
        }
      ]
    },
    {
      "cell_type": "code",
      "metadata": {
        "id": "O5qge6Dvqh8x",
        "colab": {
          "base_uri": "https://localhost:8080/"
        },
        "outputId": "e0675222-276f-4670-a523-55f0308080bf"
      },
      "source": [
        "print(json.dumps(x, indent=4))"
      ],
      "execution_count": 426,
      "outputs": [
        {
          "output_type": "stream",
          "name": "stdout",
          "text": [
            "{\n",
            "    \"name\": \"John\",\n",
            "    \"age\": 30,\n",
            "    \"married\": true,\n",
            "    \"divorced\": false,\n",
            "    \"children\": [\n",
            "        \"Ann\",\n",
            "        \"Billy\"\n",
            "    ],\n",
            "    \"pets\": null,\n",
            "    \"cars\": [\n",
            "        {\n",
            "            \"model\": \"BMW 230\",\n",
            "            \"mpg\": 27.5\n",
            "        },\n",
            "        {\n",
            "            \"model\": \"Ford Edge\",\n",
            "            \"mpg\": 24.1\n",
            "        }\n",
            "    ]\n",
            "}\n"
          ]
        }
      ]
    },
    {
      "cell_type": "code",
      "metadata": {
        "id": "4mqeLK_SqfDc",
        "colab": {
          "base_uri": "https://localhost:8080/"
        },
        "outputId": "ad8754a3-ff88-4387-82e3-28b11463acaf"
      },
      "source": [
        "# (\", \", \": \") default\n",
        "print(json.dumps(x, indent=4, separators=(\". \", \" = \")))"
      ],
      "execution_count": 427,
      "outputs": [
        {
          "output_type": "stream",
          "name": "stdout",
          "text": [
            "{\n",
            "    \"name\" = \"John\". \n",
            "    \"age\" = 30. \n",
            "    \"married\" = true. \n",
            "    \"divorced\" = false. \n",
            "    \"children\" = [\n",
            "        \"Ann\". \n",
            "        \"Billy\"\n",
            "    ]. \n",
            "    \"pets\" = null. \n",
            "    \"cars\" = [\n",
            "        {\n",
            "            \"model\" = \"BMW 230\". \n",
            "            \"mpg\" = 27.5\n",
            "        }. \n",
            "        {\n",
            "            \"model\" = \"Ford Edge\". \n",
            "            \"mpg\" = 24.1\n",
            "        }\n",
            "    ]\n",
            "}\n"
          ]
        }
      ]
    },
    {
      "cell_type": "code",
      "metadata": {
        "id": "t-Ee3byzq0cK",
        "colab": {
          "base_uri": "https://localhost:8080/"
        },
        "outputId": "cf09b3c7-c706-4a81-b760-72235ad8e639"
      },
      "source": [
        "print(json.dumps(x, indent=4, sort_keys=True))"
      ],
      "execution_count": 428,
      "outputs": [
        {
          "output_type": "stream",
          "name": "stdout",
          "text": [
            "{\n",
            "    \"age\": 30,\n",
            "    \"cars\": [\n",
            "        {\n",
            "            \"model\": \"BMW 230\",\n",
            "            \"mpg\": 27.5\n",
            "        },\n",
            "        {\n",
            "            \"model\": \"Ford Edge\",\n",
            "            \"mpg\": 24.1\n",
            "        }\n",
            "    ],\n",
            "    \"children\": [\n",
            "        \"Ann\",\n",
            "        \"Billy\"\n",
            "    ],\n",
            "    \"divorced\": false,\n",
            "    \"married\": true,\n",
            "    \"name\": \"John\",\n",
            "    \"pets\": null\n",
            "}\n"
          ]
        }
      ]
    },
    {
      "cell_type": "markdown",
      "metadata": {
        "id": "k04kxwfZq4TO"
      },
      "source": [
        "# **RegEx**\n",
        "\n",
        "* RegEx, or Regular Expression, is a sequence of characters that forms a search pattern.\n",
        "\n",
        "* RegEx can be used to check if a string contains the specified search pattern.\n",
        "\n",
        "**RegEx Module**\n",
        "\n",
        "The special characters are:\n",
        "\n",
        "https://docs.python.org/3/library/re.html"
      ]
    },
    {
      "cell_type": "code",
      "metadata": {
        "id": "TgDBKOXOvEWR"
      },
      "source": [
        "import re"
      ],
      "execution_count": 429,
      "outputs": []
    },
    {
      "cell_type": "markdown",
      "metadata": {
        "id": "A0XEAyNcvJao"
      },
      "source": [
        "## **RegEx in Python**"
      ]
    },
    {
      "cell_type": "code",
      "metadata": {
        "id": "afIRHVycvMVk",
        "colab": {
          "base_uri": "https://localhost:8080/"
        },
        "outputId": "65f84edb-3231-4edd-c8b4-24c5d926e449"
      },
      "source": [
        "import re\n",
        "\n",
        "#Check if the string starts with \"The\" and ends with \"Spain\":\n",
        "\n",
        "txt = \"The rain in Spain\"\n",
        "x = re.search(\"^The.*Spain$\", txt)\n",
        "\n",
        "if x:\n",
        "  print(\"YES! We have a match!\")\n",
        "else:\n",
        "  print(\"No match\")"
      ],
      "execution_count": 430,
      "outputs": [
        {
          "output_type": "stream",
          "name": "stdout",
          "text": [
            "YES! We have a match!\n"
          ]
        }
      ]
    },
    {
      "cell_type": "markdown",
      "metadata": {
        "id": "ESTwBXhJvbee"
      },
      "source": [
        "## **RegEx Functions**\n",
        "\n",
        "* `findall` ->\tReturns a list containing all matches\n",
        "\n",
        "* `search` ->\tReturns a Match object if there is a match anywhere in the string\n",
        "\n",
        "* `split` ->\tReturns a list where the string has been split at each match\n",
        "\n",
        "* `sub` ->\tReplaces one or many matches with a string"
      ]
    },
    {
      "cell_type": "markdown",
      "metadata": {
        "id": "bcIi2bCovuu8"
      },
      "source": [
        "The findall() function returns a list containing all matches.\n",
        "\n",
        "The list contains the matches in the order they are found.\n",
        "\n",
        "If no matches are found, an empty list is returned:"
      ]
    },
    {
      "cell_type": "code",
      "metadata": {
        "id": "A8B1wu0wvsT8",
        "colab": {
          "base_uri": "https://localhost:8080/"
        },
        "outputId": "b296cb02-901a-43b0-ed21-3569c3c87174"
      },
      "source": [
        "import re\n",
        "\n",
        "#Return a list containing every occurrence of \"ai\":\n",
        "\n",
        "txt = \"The rain in Spain\"\n",
        "x = re.findall(\"ai\", txt)\n",
        "print(x)"
      ],
      "execution_count": 431,
      "outputs": [
        {
          "output_type": "stream",
          "name": "stdout",
          "text": [
            "['ai', 'ai']\n"
          ]
        }
      ]
    },
    {
      "cell_type": "code",
      "metadata": {
        "id": "rwhtht9bv3WD",
        "colab": {
          "base_uri": "https://localhost:8080/"
        },
        "outputId": "a55ab53f-61f2-49bf-cc5f-035e244cf612"
      },
      "source": [
        "# Return an empty list if no match was found:\n",
        "\n",
        "import re\n",
        "\n",
        "txt = \"The rain in Spain\"\n",
        "x = re.findall(\"Portugal\", txt)\n",
        "print(x)"
      ],
      "execution_count": 432,
      "outputs": [
        {
          "output_type": "stream",
          "name": "stdout",
          "text": [
            "[]\n"
          ]
        }
      ]
    },
    {
      "cell_type": "markdown",
      "metadata": {
        "id": "B3o2YAG3v-Sy"
      },
      "source": [
        "The search() function searches the string for a match, and returns a Match object if there is a match.\n",
        "\n",
        "If there is more than one match, only the first occurrence of the match will be returned:\n",
        "\n",
        "If no matches are found, the value None is returned:"
      ]
    },
    {
      "cell_type": "code",
      "metadata": {
        "id": "F4a1VtXWwBLn",
        "colab": {
          "base_uri": "https://localhost:8080/"
        },
        "outputId": "f4bdec1e-30b6-491a-c142-c2dc9ecdcfd3"
      },
      "source": [
        "# Search for the first white-space character in the string:\n",
        "\n",
        "import re\n",
        "\n",
        "txt = \"The rain in Spain\"\n",
        "x = re.search(\"\\s\", txt)\n",
        "\n",
        "print(\"The first white-space character is located in position:\", x.start())"
      ],
      "execution_count": 433,
      "outputs": [
        {
          "output_type": "stream",
          "name": "stdout",
          "text": [
            "The first white-space character is located in position: 3\n"
          ]
        }
      ]
    },
    {
      "cell_type": "code",
      "metadata": {
        "id": "MUpAxMolwJfx",
        "colab": {
          "base_uri": "https://localhost:8080/"
        },
        "outputId": "f344c4ba-f8e1-4f52-b89f-0673dcd6c146"
      },
      "source": [
        "# Make a search that returns no match:\n",
        "\n",
        "import re\n",
        "\n",
        "txt = \"The rain in Spain\"\n",
        "x = re.search(\"Portugal\", txt)\n",
        "print(x)"
      ],
      "execution_count": 434,
      "outputs": [
        {
          "output_type": "stream",
          "name": "stdout",
          "text": [
            "None\n"
          ]
        }
      ]
    },
    {
      "cell_type": "markdown",
      "metadata": {
        "id": "zAWw9B7ywRsg"
      },
      "source": [
        "The split() function returns a list where the string has been split at each match\n",
        "\n",
        "You can control the number of occurrences by specifying the maxsplit parameter"
      ]
    },
    {
      "cell_type": "code",
      "metadata": {
        "id": "501TJm1PwcoJ",
        "colab": {
          "base_uri": "https://localhost:8080/"
        },
        "outputId": "ba427070-d382-485e-fc33-5b3f2cb5c4b5"
      },
      "source": [
        "# Split the string only at the first occurrence:\n",
        "\n",
        "import re\n",
        "\n",
        "txt = \"The rain in Spain\"\n",
        "x = re.split(\"\\s\", txt, 1)\n",
        "print(x)"
      ],
      "execution_count": 435,
      "outputs": [
        {
          "output_type": "stream",
          "name": "stdout",
          "text": [
            "['The', 'rain in Spain']\n"
          ]
        }
      ]
    },
    {
      "cell_type": "markdown",
      "metadata": {
        "id": "xnQJ2DabOzqX"
      },
      "source": [
        "The sub() function replaces the matches with the text of your choice:"
      ]
    },
    {
      "cell_type": "code",
      "metadata": {
        "id": "jbcv4XGaO4D8",
        "colab": {
          "base_uri": "https://localhost:8080/"
        },
        "outputId": "5e00f4ad-b421-4f04-f7a1-49ad4aa42a7d"
      },
      "source": [
        "# Replace every white-space character with the number 9:\n",
        "\n",
        "import re\n",
        "\n",
        "txt = \"The rain in Spain\"\n",
        "x = re.sub(\"\\s\", \"9\", txt)\n",
        "print(x)"
      ],
      "execution_count": 436,
      "outputs": [
        {
          "output_type": "stream",
          "name": "stdout",
          "text": [
            "The9rain9in9Spain\n"
          ]
        }
      ]
    },
    {
      "cell_type": "code",
      "metadata": {
        "id": "TVo5ke8CPFim",
        "colab": {
          "base_uri": "https://localhost:8080/"
        },
        "outputId": "3129e206-b4ba-420f-cb2e-7ad7b2827bec"
      },
      "source": [
        "# Replace the first 2 occurrences:\n",
        "\n",
        "import re\n",
        "\n",
        "txt = \"The rain in Spain\"\n",
        "x = re.sub(\"\\s\", \"9\", txt, 2)\n",
        "print(x)"
      ],
      "execution_count": 437,
      "outputs": [
        {
          "output_type": "stream",
          "name": "stdout",
          "text": [
            "The9rain9in Spain\n"
          ]
        }
      ]
    },
    {
      "cell_type": "markdown",
      "metadata": {
        "id": "1UdSOR4gRAa6"
      },
      "source": [
        "## **Metacharacters**\n",
        "\n",
        "* [ _ ] -> \"[a-m]\"\t\n",
        "\n",
        "    A set of characters\n",
        "\n",
        "* \\\t-> \"\\d\"\n",
        "\n",
        "    Signals a special sequence (can also be used to escape special characters)\t\t\n",
        "\n",
        "* .\t-> \"he..o\"\n",
        "\n",
        "    Any character (except newline character)\t\t\n",
        "\n",
        "* ^ -> \"^hello\"\n",
        "\n",
        "    Starts with\t\t\n",
        "\n",
        "* \\$ -> \"world\\$\"\n",
        "\n",
        "    Ends with\t\t\n",
        "\n",
        "* \\* -> \"aix*\"\n",
        "\n",
        "    Zero or more occurrences\t\t\n",
        "\n",
        "* \\+ -> \"aix+\"\n",
        "\n",
        "    One or more occurrences\t\t\n",
        "\n",
        "* { } -> \"al{2}\"\t\n",
        "\n",
        "    Exactly the specified number of occurrences\t\n",
        "\n",
        "* | -> \"falls|stays\"\n",
        "\n",
        "    Either or\t\t\n",
        "\n",
        "* ()\n",
        "\n",
        "    Capture and group\n"
      ]
    },
    {
      "cell_type": "code",
      "metadata": {
        "id": "uZhs0gQ8T9yU",
        "colab": {
          "base_uri": "https://localhost:8080/"
        },
        "outputId": "0190d96b-e279-4ea1-8990-875d53668c47"
      },
      "source": [
        "import re\n",
        "\n",
        "txt = \"The rain in Spain\"\n",
        "\n",
        "#Find all lower case characters alphabetically between \"a\" and \"m\":\n",
        "\n",
        "x = re.findall(\"[a-m]\", txt)\n",
        "print(x)"
      ],
      "execution_count": 438,
      "outputs": [
        {
          "output_type": "stream",
          "name": "stdout",
          "text": [
            "['h', 'e', 'a', 'i', 'i', 'a', 'i']\n"
          ]
        }
      ]
    },
    {
      "cell_type": "code",
      "metadata": {
        "id": "QCqCygtjUKrS",
        "colab": {
          "base_uri": "https://localhost:8080/"
        },
        "outputId": "01063456-c44b-4652-e45c-6e6fa9b90d9a"
      },
      "source": [
        "import re\n",
        "\n",
        "txt = \"That will be 59 dollars\"\n",
        "\n",
        "#Find all digit characters:\n",
        "\n",
        "x = re.findall(\"\\d\", txt)\n",
        "print(x)"
      ],
      "execution_count": 439,
      "outputs": [
        {
          "output_type": "stream",
          "name": "stdout",
          "text": [
            "['5', '9']\n"
          ]
        }
      ]
    },
    {
      "cell_type": "code",
      "metadata": {
        "id": "GP5AL7EaUN2z",
        "colab": {
          "base_uri": "https://localhost:8080/"
        },
        "outputId": "cbee62ba-9bad-4be8-8334-997132ab0c14"
      },
      "source": [
        "import re\n",
        "\n",
        "txt = \"hello world\"\n",
        "\n",
        "#Search for a sequence that starts with \"he\", followed by two (any) characters, and an \"o\":\n",
        "\n",
        "x = re.findall(\"he..o\", txt)\n",
        "print(x)"
      ],
      "execution_count": 440,
      "outputs": [
        {
          "output_type": "stream",
          "name": "stdout",
          "text": [
            "['hello']\n"
          ]
        }
      ]
    },
    {
      "cell_type": "code",
      "metadata": {
        "id": "jJoyiLpNUSDt",
        "colab": {
          "base_uri": "https://localhost:8080/"
        },
        "outputId": "d19bd2b3-ac9d-4dd5-b764-c110a9407b3c"
      },
      "source": [
        "import re\n",
        "\n",
        "txt = \"hello world\"\n",
        "\n",
        "#Check if the string starts with 'hello':\n",
        "\n",
        "x = re.findall(\"^hello\", txt)\n",
        "if x:\n",
        "  print(\"Yes, the string starts with 'hello'\")\n",
        "else:\n",
        "  print(\"No match\")\n"
      ],
      "execution_count": 441,
      "outputs": [
        {
          "output_type": "stream",
          "name": "stdout",
          "text": [
            "Yes, the string starts with 'hello'\n"
          ]
        }
      ]
    },
    {
      "cell_type": "code",
      "metadata": {
        "id": "tIXqTvqVUX0w",
        "colab": {
          "base_uri": "https://localhost:8080/"
        },
        "outputId": "f7ee3e73-d32b-4894-e1d2-a5568df018d2"
      },
      "source": [
        "import re\n",
        "\n",
        "txt = \"hello world\"\n",
        "\n",
        "#Check if the string ends with 'world':\n",
        "\n",
        "x = re.findall(\"world$\", txt)\n",
        "if x:\n",
        "  print(\"Yes, the string ends with 'world'\")\n",
        "else:\n",
        "  print(\"No match\")\n"
      ],
      "execution_count": 442,
      "outputs": [
        {
          "output_type": "stream",
          "name": "stdout",
          "text": [
            "Yes, the string ends with 'world'\n"
          ]
        }
      ]
    },
    {
      "cell_type": "code",
      "metadata": {
        "id": "ZbTfjcmJU1cj",
        "colab": {
          "base_uri": "https://localhost:8080/"
        },
        "outputId": "1fa371f9-7271-4e8a-bf8e-8a004b6eaf5f"
      },
      "source": [
        "import re\n",
        "\n",
        "txt = \"The rain in Spain falls mainly in the plain!\"\n",
        "\n",
        "#Check if the string contains \"ai\" followed by 0 or more \"x\" characters:\n",
        "\n",
        "x = re.findall(\"aix*\", txt)\n",
        "\n",
        "print(x)\n",
        "\n",
        "if x:\n",
        "  print(\"Yes, there is at least one match!\")\n",
        "else:\n",
        "  print(\"No match\")\n"
      ],
      "execution_count": 443,
      "outputs": [
        {
          "output_type": "stream",
          "name": "stdout",
          "text": [
            "['ai', 'ai', 'ai', 'ai']\n",
            "Yes, there is at least one match!\n"
          ]
        }
      ]
    },
    {
      "cell_type": "code",
      "metadata": {
        "id": "WeRqlreOU3fO",
        "colab": {
          "base_uri": "https://localhost:8080/"
        },
        "outputId": "c2f0ed3a-6a09-4fc6-92d4-486faf935c80"
      },
      "source": [
        "import re\n",
        "\n",
        "txt = \"The rain in Spain falls mainly in the plain!\"\n",
        "\n",
        "#Check if the string contains \"ai\" followed by 1 or more \"x\" characters:\n",
        "\n",
        "x = re.findall(\"aix+\", txt)\n",
        "\n",
        "print(x)\n",
        "\n",
        "if x:\n",
        "  print(\"Yes, there is at least one match!\")\n",
        "else:\n",
        "  print(\"No match\")\n"
      ],
      "execution_count": 444,
      "outputs": [
        {
          "output_type": "stream",
          "name": "stdout",
          "text": [
            "[]\n",
            "No match\n"
          ]
        }
      ]
    },
    {
      "cell_type": "code",
      "metadata": {
        "id": "DRuAV4RAU7_K",
        "colab": {
          "base_uri": "https://localhost:8080/"
        },
        "outputId": "733b5744-d135-4f7c-e975-d9b2d651bed5"
      },
      "source": [
        "import re\n",
        "\n",
        "txt = \"The rain in Spain falls mainly in the plain!\"\n",
        "\n",
        "#Check if the string contains \"a\" followed by exactly two \"l\" characters:\n",
        "\n",
        "x = re.findall(\"al{2}\", txt)\n",
        "\n",
        "print(x)\n",
        "\n",
        "if x:\n",
        "  print(\"Yes, there is at least one match!\")\n",
        "else:\n",
        "  print(\"No match\")\n"
      ],
      "execution_count": 445,
      "outputs": [
        {
          "output_type": "stream",
          "name": "stdout",
          "text": [
            "['all']\n",
            "Yes, there is at least one match!\n"
          ]
        }
      ]
    },
    {
      "cell_type": "code",
      "metadata": {
        "id": "zetpYxvpU-TC",
        "colab": {
          "base_uri": "https://localhost:8080/"
        },
        "outputId": "692f3805-07c3-4dfd-a063-2b95a660740f"
      },
      "source": [
        "import re\n",
        "\n",
        "txt = \"The rain in Spain falls mainly in the plain!\"\n",
        "\n",
        "#Check if the string contains either \"falls\" or \"stays\":\n",
        "\n",
        "x = re.findall(\"falls|stays\", txt)\n",
        "\n",
        "print(x)\n",
        "\n",
        "if x:\n",
        "  print(\"Yes, there is at least one match!\")\n",
        "else:\n",
        "  print(\"No match\")\n"
      ],
      "execution_count": 446,
      "outputs": [
        {
          "output_type": "stream",
          "name": "stdout",
          "text": [
            "['falls']\n",
            "Yes, there is at least one match!\n"
          ]
        }
      ]
    },
    {
      "cell_type": "markdown",
      "metadata": {
        "id": "XQkg12zXZXax"
      },
      "source": [
        "## **Special Sequences**\n",
        "\n",
        "* \\A -> \"\\AThe\"\t\n",
        "\n",
        "    Returns a match if the specified characters are at the beginning of the string\t\n",
        "\n",
        "* \\b -> r\"\\bain\" -> r\"ain\\b\"\n",
        "\n",
        "    Returns a match where the specified characters are at the beginning or at the end of a word (the \"r\" in the beginning is making sure that the string is being treated as a \"raw string\")\t\n",
        "\t\n",
        "\n",
        "* \\B -> r\"\\Bain\" -> r\"ain\\B\"\t\n",
        "\n",
        "    Returns a match where the specified characters are present, but NOT at the beginning (or at the end) of a word (the \"r\" in the beginning is making sure that the string is being treated as a \"raw string\")\t\n",
        "\n",
        "* \\d\n",
        "\n",
        "    Returns a match where the string contains digits (numbers from 0-9)\t\t\n",
        "\n",
        "* \\D\n",
        "\n",
        "    Returns a match where the string DOES NOT contain digits\t\"\\D\"\t\n",
        "\n",
        "* \\s\n",
        "\n",
        "    Returns a match where the string contains a white space character\t\"\\s\"\t\n",
        "\n",
        "* \\S\n",
        "\n",
        "    Returns a match where the string DOES NOT contain a white space character\t\"\\S\"\t\n",
        "\n",
        "* \\w\n",
        "\n",
        "    Returns a match where the string contains any word characters (characters from a to Z, digits from 0-9, and the underscore _ character)\t\"\\w\"\t\n",
        "\n",
        "* \\W\n",
        "\n",
        "    Returns a match where the string DOES NOT contain any word characters\t\"\\W\"\t\n",
        "\n",
        "* \\Z\n",
        "\n",
        "    Returns a match if the specified characters are at the end of the string\t\"Spain\\Z\""
      ]
    },
    {
      "cell_type": "markdown",
      "metadata": {
        "id": "XYnBRixhgbaV"
      },
      "source": [
        "## **Sets Characters**\n",
        "\n",
        "* [arn]\n",
        "\n",
        "    Returns a match where one of the specified characters (a, r, or n) are present\t\n",
        "\n",
        "* [a-n]\n",
        "\n",
        "    Returns a match for any lower case character, alphabetically between a and n\t\n",
        "\n",
        "* [^arn]\n",
        "\n",
        "    Returns a match for any character EXCEPT a, r, and n\t\n",
        "\n",
        "* [0123]\n",
        "\n",
        "    Returns a match where any of the specified digits (0, 1, 2, or 3) are present\t\n",
        "\n",
        "* [0-9]\n",
        "\n",
        "    Returns a match for any digit between 0 and 9\t\n",
        "\n",
        "* [0-5][0-9]\n",
        "\n",
        "    Returns a match for any two-digit numbers from 00 and 59\t\n",
        "\n",
        "* [a-zA-Z]\n",
        "\n",
        "    Returns a match for any character alphabetically between a and z, lower case OR upper case\t\n",
        "\n",
        "* [+]\n",
        "\n",
        "    In sets, +, *, ., |, (), $,{} has no special meaning, so [+] means: return a match for any + character in the string"
      ]
    },
    {
      "cell_type": "markdown",
      "metadata": {
        "id": "DyTzB77wlAiY"
      },
      "source": [
        "# **Modules, Packages and PIP**\n",
        "\n",
        "* importing and using Python modules;\n",
        "* using some of the most useful Python standard library modules;\n",
        "* constructing and using Python packages;\n",
        "* PIP (Python Installation Package) and how to use it to install and uninstall ready-to-use packages from PyPI.\n"
      ]
    },
    {
      "cell_type": "markdown",
      "metadata": {
        "id": "E45x893KL8i1"
      },
      "source": [
        "## **Python Modules**"
      ]
    },
    {
      "cell_type": "markdown",
      "metadata": {
        "id": "1d5VNmWfL_m4"
      },
      "source": [
        "Python modules are separate files that contain classes, functions, and other data that allow us to import and make use of these methods and classes in our own code. Python comes with a lot of modules out of the box. These modules are referred to as the Python Standard Library. You can make use of these modules by using the import keyword, followed by the module name. "
      ]
    },
    {
      "cell_type": "markdown",
      "metadata": {
        "id": "p6biKVm-p-vL"
      },
      "source": [
        "### **Random**\n",
        "\n",
        "A random number generator takes a value called a seed, treats it as an input value, calculates a \"random\" number based on it (the method depends on a chosen algorithm) and produces a new seed value.\n",
        "\n",
        "For example, we'll import the random module, and then call the randint function within this module:"
      ]
    },
    {
      "cell_type": "code",
      "metadata": {
        "colab": {
          "base_uri": "https://localhost:8080/"
        },
        "id": "hxvRClf1MHUe",
        "outputId": "077852f9-af5a-44ff-c79b-9df37753173e"
      },
      "source": [
        "import random\n",
        "random.randint(1,10)\n",
        "# his function takes two integer parameters and returns a \n",
        "# random integer between the values we pass it; in this case, 1 and 10. "
      ],
      "execution_count": 447,
      "outputs": [
        {
          "output_type": "execute_result",
          "data": {
            "text/plain": [
              "9"
            ]
          },
          "metadata": {},
          "execution_count": 447
        }
      ]
    },
    {
      "cell_type": "markdown",
      "metadata": {
        "id": "4vR2fLs4qeYp"
      },
      "source": [
        "**The random function**\n",
        "\n",
        "The most general function named `random()` (not to be confused with the module's name) `produces a float number x coming from the range (0.0, 1.0)` - in other words: (0.0 <= x < 1.0)."
      ]
    },
    {
      "cell_type": "code",
      "metadata": {
        "colab": {
          "base_uri": "https://localhost:8080/"
        },
        "id": "zTW2ofVbqmw-",
        "outputId": "627c520b-a910-43b8-85b6-d9f614e033e6"
      },
      "source": [
        "from random import random\n",
        "\n",
        "for i in range(5):\n",
        "    print(random())"
      ],
      "execution_count": 448,
      "outputs": [
        {
          "output_type": "stream",
          "name": "stdout",
          "text": [
            "0.5184975651568094\n",
            "0.5099861795808217\n",
            "0.5460402336613935\n",
            "0.0705851840761893\n",
            "0.3129157585432054\n"
          ]
        }
      ]
    },
    {
      "cell_type": "markdown",
      "metadata": {
        "id": "Qf6XgD5gqpFe"
      },
      "source": [
        "**The seed function**\n",
        "\n",
        "The `seed()` function is able to directly set the generator's seed. We'll show you two of its variants:\n",
        "\n",
        "* `seed()` - sets the seed with the current time;\n",
        "\n",
        "* `seed(int_value)` - sets the seed with the integer value int_value."
      ]
    },
    {
      "cell_type": "code",
      "metadata": {
        "colab": {
          "base_uri": "https://localhost:8080/"
        },
        "id": "slY0hBxRrrLg",
        "outputId": "2cf225b5-c00a-4a9f-8cec-2176cd809e76"
      },
      "source": [
        "from random import random, seed\n",
        "\n",
        "seed(0)\n",
        "\n",
        "for i in range(5):\n",
        "    print(random())"
      ],
      "execution_count": 449,
      "outputs": [
        {
          "output_type": "stream",
          "name": "stdout",
          "text": [
            "0.8444218515250481\n",
            "0.7579544029403025\n",
            "0.420571580830845\n",
            "0.25891675029296335\n",
            "0.5112747213686085\n"
          ]
        }
      ]
    },
    {
      "cell_type": "markdown",
      "metadata": {
        "id": "_bgGpA7Ir7wz"
      },
      "source": [
        "**The randrange and randint functions**\n",
        "\n",
        "If you want integer random values, one of the following functions would fit better:\n",
        "\n",
        "* `randrange(end)`\n",
        "* `randrange(beg, end)`\n",
        "* `randrange(beg, end, step)`\n",
        "* `randint(left, right)`\n",
        "\n",
        "The first three invocations will generate an integer taken (pseudorandomly) from the range (respectively):\n",
        "\n",
        "* `range(end)`\n",
        "* `range(beg, end)`\n",
        "* `range(beg, end, step)`\n",
        "\n",
        "Note the implicit right-sided exclusion!\n",
        "\n",
        "The last function is an equivalent of `randrange(left, right+1)` - it generates the integer value i, which falls in the range [left, right] (no exclusion on the right side)."
      ]
    },
    {
      "cell_type": "code",
      "metadata": {
        "colab": {
          "base_uri": "https://localhost:8080/"
        },
        "id": "0vG2h2MEsRlt",
        "outputId": "bc69f47f-cb28-4508-8466-39957330a235"
      },
      "source": [
        "from random import randrange, randint\n",
        "\n",
        "print(randrange(1), end=' ')\n",
        "print(randrange(0, 1), end=' ')\n",
        "print(randrange(0, 1, 1), end=' ')\n",
        "print(randint(0, 1))"
      ],
      "execution_count": 450,
      "outputs": [
        {
          "output_type": "stream",
          "name": "stdout",
          "text": [
            "0 0 0 1\n"
          ]
        }
      ]
    },
    {
      "cell_type": "markdown",
      "metadata": {
        "id": "mGUC1nAvsdFZ"
      },
      "source": [
        "The previous functions have one important disadvantage - they may produce repeating values even if the number of subsequent invocations is not greater than the width of the specified range."
      ]
    },
    {
      "cell_type": "code",
      "metadata": {
        "colab": {
          "base_uri": "https://localhost:8080/"
        },
        "id": "BBmNWZBOse3R",
        "outputId": "ee3be9ee-6065-4a1d-cfb2-d2e90bed72cd"
      },
      "source": [
        "from random import randint\n",
        "\n",
        "for i in range(10):\n",
        "    print(randint(1, 10), end=',')"
      ],
      "execution_count": 451,
      "outputs": [
        {
          "output_type": "stream",
          "name": "stdout",
          "text": [
            "10,4,9,3,5,3,2,10,5,9,"
          ]
        }
      ]
    },
    {
      "cell_type": "markdown",
      "metadata": {
        "id": "WjoUeuQYsmOx"
      },
      "source": [
        "**The choice and sample functions**\n",
        "\n",
        "As you can see, this is not a good tool for generating numbers in a lottery. Fortunately, there is a better solution than writing your own code to check the uniqueness of the \"drawn\" numbers.\n",
        "\n",
        "\n",
        "It's a function named in a very suggestive way - `choice`:\n",
        "\n",
        "* `choice(sequence)`\n",
        "* `sample(sequence, elements_to_choose)`\n",
        "\n",
        "The first variant chooses a \"random\" element from the input sequence and returns it.\n",
        "\n",
        "The second one builds a list (a sample) consisting of the `elements_to_choose` element \"drawn\" from the input sequence.\n",
        "\n",
        "In other words, the function chooses some of the input elements, returning a list with the choice. The elements in the sample are placed in random order. Note: the `elements_to_choose` must not be greater than the length of the input sequence."
      ]
    },
    {
      "cell_type": "code",
      "metadata": {
        "colab": {
          "base_uri": "https://localhost:8080/"
        },
        "id": "zXTtKSWvs3cy",
        "outputId": "67338777-14bd-49e1-9eb5-7cbc2ab01665"
      },
      "source": [
        "from random import choice, sample\n",
        "\n",
        "my_list = [1, 2, 3, 4, 5, 6, 7, 8, 9, 10]\n",
        "\n",
        "print(choice(my_list))\n",
        "print(sample(my_list, 5))\n",
        "print(sample(my_list, 10))"
      ],
      "execution_count": 452,
      "outputs": [
        {
          "output_type": "stream",
          "name": "stdout",
          "text": [
            "10\n",
            "[3, 5, 2, 6, 1]\n",
            "[6, 8, 2, 3, 4, 7, 9, 5, 10, 1]\n"
          ]
        }
      ]
    },
    {
      "cell_type": "markdown",
      "metadata": {
        "id": "zpv4-ZMYp5ed"
      },
      "source": [
        "### **datetime**"
      ]
    },
    {
      "cell_type": "markdown",
      "metadata": {
        "id": "nMaYIRBfMPhL"
      },
      "source": [
        "Let's take a look at another module: datetime. This module is super helpful when working with dates and times.\n",
        "\n",
        "When we call the print function with an instance of the datetime class, we get the date and time printed in a specific format. This is because the datetime class has a __str__ method defined which generates the formatted string we see here.\n",
        "\n"
      ]
    },
    {
      "cell_type": "code",
      "metadata": {
        "colab": {
          "base_uri": "https://localhost:8080/"
        },
        "id": "otEu6CkvMS5J",
        "outputId": "9ca1d505-dbee-4162-9b6a-6e0eacb07a4e"
      },
      "source": [
        "import datetime\n",
        "now = datetime.datetime.now()\n",
        "type(now)\n",
        "print(now)"
      ],
      "execution_count": 453,
      "outputs": [
        {
          "output_type": "stream",
          "name": "stdout",
          "text": [
            "2021-10-05 13:13:03.585647\n"
          ]
        }
      ]
    },
    {
      "cell_type": "code",
      "metadata": {
        "colab": {
          "base_uri": "https://localhost:8080/"
        },
        "id": "A9FTbPLcMdgm",
        "outputId": "04a54a21-9123-4425-d2b5-d16c648fd392"
      },
      "source": [
        "now.year"
      ],
      "execution_count": 454,
      "outputs": [
        {
          "output_type": "execute_result",
          "data": {
            "text/plain": [
              "2021"
            ]
          },
          "metadata": {},
          "execution_count": 454
        }
      ]
    },
    {
      "cell_type": "code",
      "metadata": {
        "colab": {
          "base_uri": "https://localhost:8080/"
        },
        "id": "4t_6K_LTMfH1",
        "outputId": "a5e29425-37ba-4ceb-b4d3-a26add18aaa2"
      },
      "source": [
        "print(now + datetime.timedelta(days=28))"
      ],
      "execution_count": 455,
      "outputs": [
        {
          "output_type": "stream",
          "name": "stdout",
          "text": [
            "2021-11-02 13:13:03.585647\n"
          ]
        }
      ]
    },
    {
      "cell_type": "markdown",
      "metadata": {
        "id": "QiWWUK64o1wS"
      },
      "source": [
        "**date**\n",
        "\n",
        "One of the classes provided by the datetime module is a class called date. Objects of this class represent a date consisting of the year, month, and day. Look at the code in the editor to see what it looks like in practice and get the current local date using the today method."
      ]
    },
    {
      "cell_type": "code",
      "metadata": {
        "colab": {
          "base_uri": "https://localhost:8080/"
        },
        "id": "qosgUY4Ko9Dj",
        "outputId": "ace54c84-4dbe-4824-f2dc-63afd910d8b9"
      },
      "source": [
        "from datetime import date\n",
        "\n",
        "my_date = date(2019, 11, 4)\n",
        "print(my_date)"
      ],
      "execution_count": 456,
      "outputs": [
        {
          "output_type": "stream",
          "name": "stdout",
          "text": [
            "2019-11-04\n"
          ]
        }
      ]
    },
    {
      "cell_type": "code",
      "metadata": {
        "colab": {
          "base_uri": "https://localhost:8080/"
        },
        "id": "sVX6FIWro-sV",
        "outputId": "6be1007d-ad13-46b6-9d78-b581d9fc632b"
      },
      "source": [
        "from datetime import date\n",
        "\n",
        "today = date.today()\n",
        "\n",
        "print(\"Today:\", today)\n",
        "print(\"Year:\", today.year)\n",
        "print(\"Month:\", today.month)\n",
        "print(\"Day:\", today.day)"
      ],
      "execution_count": 457,
      "outputs": [
        {
          "output_type": "stream",
          "name": "stdout",
          "text": [
            "Today: 2021-10-05\n",
            "Year: 2021\n",
            "Month: 10\n",
            "Day: 5\n"
          ]
        }
      ]
    },
    {
      "cell_type": "markdown",
      "metadata": {
        "id": "6D6GvvjxplB2"
      },
      "source": [
        "The date class gives us the ability to create a date object from a timestamp."
      ]
    },
    {
      "cell_type": "code",
      "metadata": {
        "colab": {
          "base_uri": "https://localhost:8080/"
        },
        "id": "mL2irQhGpvmn",
        "outputId": "6bdfd109-2ed0-48d0-e497-8e2a8b4c207f"
      },
      "source": [
        "from datetime import date\n",
        "import time\n",
        "\n",
        "timestamp = time.time()\n",
        "print(\"Timestamp:\", timestamp)\n",
        "\n",
        "d = date.fromtimestamp(timestamp)\n",
        "print(\"Date:\", d)"
      ],
      "execution_count": 458,
      "outputs": [
        {
          "output_type": "stream",
          "name": "stdout",
          "text": [
            "Timestamp: 1633439583.6375155\n",
            "Date: 2021-10-05\n"
          ]
        }
      ]
    },
    {
      "cell_type": "markdown",
      "metadata": {
        "id": "H068GlaZp1Uf"
      },
      "source": [
        "The `datetime` module provides several methods to create a `date` object. One of them is the `fromisoformat` method, which takes a date in the `YYYY-MM-DD` format compliant with the ISO 8601 standard."
      ]
    },
    {
      "cell_type": "code",
      "metadata": {
        "colab": {
          "base_uri": "https://localhost:8080/"
        },
        "id": "6gp9kudfp-Or",
        "outputId": "f596733b-ecf0-4ab0-d9bf-4d32bcd0aa3f"
      },
      "source": [
        "from datetime import date\n",
        "\n",
        "d = date.fromisoformat('2019-11-04')\n",
        "print(d)"
      ],
      "execution_count": 459,
      "outputs": [
        {
          "output_type": "stream",
          "name": "stdout",
          "text": [
            "2019-11-04\n"
          ]
        }
      ]
    },
    {
      "cell_type": "markdown",
      "metadata": {
        "id": "wrDuL0FNqZKI"
      },
      "source": [
        "Sometimes you may need to replace the year, month, or day with a different value. You can’t do this with the year, month, and day attributes because they're read-only. In this case, you can use the method named `replace`.\n",
        "\n",
        "The year, month, and day parameters are optional. You can pass only one parameter to the replace method, e.g., year, or all three as in the example."
      ]
    },
    {
      "cell_type": "code",
      "metadata": {
        "colab": {
          "base_uri": "https://localhost:8080/"
        },
        "id": "ixpBQYTnqiZ0",
        "outputId": "ae8822cf-fcff-4f56-b5f5-4b56663cb08a"
      },
      "source": [
        "from datetime import date\n",
        "\n",
        "d = date(1991, 2, 5)\n",
        "print(d)\n",
        "\n",
        "d = d.replace(year=1992, month=1, day=16)\n",
        "print(d)"
      ],
      "execution_count": 460,
      "outputs": [
        {
          "output_type": "stream",
          "name": "stdout",
          "text": [
            "1991-02-05\n",
            "1992-01-16\n"
          ]
        }
      ]
    },
    {
      "cell_type": "markdown",
      "metadata": {
        "id": "XJZU6amJq5WI"
      },
      "source": [
        "One of the more helpful methods that makes working with dates easier is the method called `weekday`. It returns the day of the week as an integer, where 0 is Monday and 6 is Sunday. Run the code in the editor."
      ]
    },
    {
      "cell_type": "code",
      "metadata": {
        "colab": {
          "base_uri": "https://localhost:8080/"
        },
        "id": "NNm2RNdaq8Dq",
        "outputId": "af3b5293-be23-4843-ccda-b2d42431e680"
      },
      "source": [
        "from datetime import date\n",
        "\n",
        "d = date(2019, 11, 4)\n",
        "print(d.weekday())"
      ],
      "execution_count": 461,
      "outputs": [
        {
          "output_type": "stream",
          "name": "stdout",
          "text": [
            "0\n"
          ]
        }
      ]
    },
    {
      "cell_type": "markdown",
      "metadata": {
        "id": "XagdlrB_q_NF"
      },
      "source": [
        "The date class has a similar method called `isoweekday`, which also returns the day of the week as an integer, but 1 is Monday, and 7 is Sunday:"
      ]
    },
    {
      "cell_type": "code",
      "metadata": {
        "colab": {
          "base_uri": "https://localhost:8080/"
        },
        "id": "vrysutnKrBWx",
        "outputId": "7835cab1-da76-47c7-834a-7f1d1e56d6c1"
      },
      "source": [
        "from datetime import date\n",
        "\n",
        "d = date(2019, 11, 4)\n",
        "print(d.isoweekday())"
      ],
      "execution_count": 462,
      "outputs": [
        {
          "output_type": "stream",
          "name": "stdout",
          "text": [
            "1\n"
          ]
        }
      ]
    },
    {
      "cell_type": "markdown",
      "metadata": {
        "id": "C2H37UV0rkXL"
      },
      "source": [
        "You already know how to present a date using the `date` object. The `datetime` module also has a class that allows you to present `time`. Can you guess its name? Yes, it's called `time`:\n",
        "\n",
        "```\n",
        "time(hour, minute, second, microsecond, tzinfo, fold)\n",
        "```\n",
        "\n",
        "`hour`\n",
        "\n",
        "The hour parameter must be greater than or equal to 0 and less than 23.\n",
        "\n",
        "`minute`\t\n",
        "\n",
        "The minute parameter must be greater than or equal to 0 and less than 59.\n",
        "\n",
        "`second`\t\n",
        "\n",
        "The second parameter must be greater than or equal to 0 and less than 59.\n",
        "\n",
        "`microsecond`\t\n",
        "\n",
        "The microsecond parameter must be greater than or equal to 0 and less than 1000000.\n",
        "\n",
        "`tzinfo`\t\n",
        "\n",
        "The tzinfo parameter must be a tzinfo subclass object or None (default).\n",
        "\n",
        "`fold`\t\n",
        "\n",
        "The fold parameter must be 0 or 1 (default 0)."
      ]
    },
    {
      "cell_type": "code",
      "metadata": {
        "colab": {
          "base_uri": "https://localhost:8080/"
        },
        "id": "oi6nzkessPoo",
        "outputId": "13c9de38-8f37-408d-fadd-0e5a93b43798"
      },
      "source": [
        "from datetime import time\n",
        "\n",
        "t = time(14, 53, 20, 1)\n",
        "\n",
        "print(\"Time:\", t)\n",
        "print(\"Hour:\", t.hour)\n",
        "print(\"Minute:\", t.minute)\n",
        "print(\"Second:\", t.second)\n",
        "print(\"Microsecond:\", t.microsecond)"
      ],
      "execution_count": 463,
      "outputs": [
        {
          "output_type": "stream",
          "name": "stdout",
          "text": [
            "Time: 14:53:20.000001\n",
            "Hour: 14\n",
            "Minute: 53\n",
            "Second: 20\n",
            "Microsecond: 1\n"
          ]
        }
      ]
    },
    {
      "cell_type": "markdown",
      "metadata": {
        "id": "9Vh-Yh-JovA4"
      },
      "source": [
        "### **math**"
      ]
    },
    {
      "cell_type": "code",
      "metadata": {
        "colab": {
          "base_uri": "https://localhost:8080/"
        },
        "id": "cmeNpqLlov8J",
        "outputId": "03091f86-0ed5-4984-806b-46aaab7ab5fc"
      },
      "source": [
        "import math\n",
        "\n",
        "for name in dir(math):\n",
        "    print(name, end=\"\\t\")"
      ],
      "execution_count": 464,
      "outputs": [
        {
          "output_type": "stream",
          "name": "stdout",
          "text": [
            "__doc__\t__loader__\t__name__\t__package__\t__spec__\tacos\tacosh\tasin\tasinh\tatan\tatan2\tatanh\tceil\tcopysign\tcos\tcosh\tdegrees\te\terf\terfc\texp\texpm1\tfabs\tfactorial\tfloor\tfmod\tfrexp\tfsum\tgamma\tgcd\thypot\tinf\tisclose\tisfinite\tisinf\tisnan\tldexp\tlgamma\tlog\tlog10\tlog1p\tlog2\tmodf\tnan\tpi\tpow\tradians\tremainder\tsin\tsinh\tsqrt\ttan\ttanh\ttau\ttrunc\t"
          ]
        }
      ]
    },
    {
      "cell_type": "markdown",
      "metadata": {
        "id": "EJIa-3xco7uK"
      },
      "source": [
        "The first group of the math's functions are connected with trigonometry:\n",
        "\n",
        "* sin(x) → the sine of x;\n",
        "* cos(x) → the cosine of x;\n",
        "* tan(x) → the tangent of x.\n",
        "\n",
        "Of course, there are also their inversed versions:\n",
        "\n",
        "* asin(x) → the arcsine of x;\n",
        "* acos(x) → the arccosine of x;\n",
        "* atan(x) → the arctangent of x.\n",
        "\n",
        "To effectively operate on angle measurements, the math module provides you with the following entities:\n",
        "\n",
        "* pi → a constant with a value that is an approximation of π;\n",
        "* radians(x) → a function that converts x from degrees to radians;\n",
        "* degrees(x) → acting in the other direction (from radians to degrees)\n",
        "\n",
        "Apart from the circular functions (listed above) the math module also contains a set of their hyperbolic analogues:\n",
        "\n",
        "* sinh(x) → the hyperbolic sine;\n",
        "* cosh(x) → the hyperbolic cosine;\n",
        "* tanh(x) → the hyperbolic tangent;\n",
        "* asinh(x) → the hyperbolic arcsine;\n",
        "* acosh(x) → the hyperbolic arccosine;\n",
        "* atanh(x) → the hyperbolic arctangent."
      ]
    },
    {
      "cell_type": "code",
      "metadata": {
        "colab": {
          "base_uri": "https://localhost:8080/"
        },
        "id": "d26Lx8N3o4FA",
        "outputId": "a4fe41fc-93d8-4ce2-9749-f8852ba96c14"
      },
      "source": [
        "from math import pi, radians, degrees, sin, cos, tan, asin\n",
        "\n",
        "ad = 90\n",
        "ar = radians(ad)\n",
        "ad = degrees(ar)\n",
        "\n",
        "print(ad == 90.)\n",
        "print(ar == pi / 2.)\n",
        "print(sin(ar) / cos(ar) == tan(ar))\n",
        "print(asin(sin(ar)) == ar)"
      ],
      "execution_count": 465,
      "outputs": [
        {
          "output_type": "stream",
          "name": "stdout",
          "text": [
            "True\n",
            "True\n",
            "True\n",
            "True\n"
          ]
        }
      ]
    },
    {
      "cell_type": "markdown",
      "metadata": {
        "id": "WlXeqr78pOIG"
      },
      "source": [
        "Another group of the math's functions is formed by functions which are connected with exponentiation:\n",
        "\n",
        "* e → a constant with a value that is an approximation of Euler's number (e)\n",
        "* exp(x) → finding the value of ex;\n",
        "* log(x) → the natural logarithm of x\n",
        "* log(x, b) → the logarithm of x to base b\n",
        "* log10(x) → the decimal logarithm of x (more precise than log(x, 10))\n",
        "* log2(x) → the binary logarithm of x (more precise than log(x, 2))\n",
        "\n",
        "Note: the pow() function:\n",
        "\n",
        "* pow(x, y) → finding the value of xy (mind the domains)"
      ]
    },
    {
      "cell_type": "code",
      "metadata": {
        "colab": {
          "base_uri": "https://localhost:8080/"
        },
        "id": "Vt_ms9ebpYNZ",
        "outputId": "15137d9b-3382-4739-e297-185a9034a3b7"
      },
      "source": [
        "from math import e, exp, log\n",
        "\n",
        "print(pow(e, 1) == exp(log(e)))\n",
        "print(pow(2, 2) == exp(2 * log(2)))\n",
        "print(log(e, e) == exp(0))\n"
      ],
      "execution_count": 466,
      "outputs": [
        {
          "output_type": "stream",
          "name": "stdout",
          "text": [
            "True\n",
            "True\n",
            "True\n"
          ]
        }
      ]
    },
    {
      "cell_type": "markdown",
      "metadata": {
        "id": "reRIuwjFph2I"
      },
      "source": [
        "The last group consists of some general-purpose functions like:\n",
        "\n",
        "* ceil(x) → the ceiling of x (the smallest integer greater than or equal to x)\n",
        "* floor(x) → the floor of x (the largest integer less than or equal to x)\n",
        "* trunc(x) → the value of x truncated to an integer (be careful - it's not an equivalent either of ceil or floor)\n",
        "* factorial(x) → returns x! (x has to be an integral and not a negative)\n",
        "* hypot(x, y) → returns the length of the hypotenuse of a right-angle triangle with the leg lengths equal to x and y (the same as sqrt(pow(x, 2) + pow(y, 2)) but more precise)\n",
        "Look at the code in the editor. Analyze the program carefully.\n",
        "\n",
        "It demonstrates the fundamental differences between ceil(), floor() and trunc()."
      ]
    },
    {
      "cell_type": "code",
      "metadata": {
        "colab": {
          "base_uri": "https://localhost:8080/"
        },
        "id": "LjWzIOwIpoiP",
        "outputId": "2c18b869-0dda-4e34-aaa9-5b91de584d57"
      },
      "source": [
        "from math import ceil, floor, trunc\n",
        "\n",
        "x = 1.4\n",
        "y = 2.6\n",
        "\n",
        "print(floor(x), floor(y))\n",
        "print(floor(-x), floor(-y))\n",
        "print(ceil(x), ceil(y))\n",
        "print(ceil(-x), ceil(-y))\n",
        "print(trunc(x), trunc(y))\n",
        "print(trunc(-x), trunc(-y))\n"
      ],
      "execution_count": 467,
      "outputs": [
        {
          "output_type": "stream",
          "name": "stdout",
          "text": [
            "1 2\n",
            "-2 -3\n",
            "2 3\n",
            "-1 -2\n",
            "1 2\n",
            "-1 -2\n"
          ]
        }
      ]
    },
    {
      "cell_type": "markdown",
      "metadata": {
        "id": "YsqxgFcKtFC6"
      },
      "source": [
        "### **platform**\n",
        "\n",
        "**The platform function**\n",
        "\n",
        "The `platform` module lets you access the underlying platform's data, i.e., hardware, operating system, and interpreter version information.\n",
        "\n",
        "There is a function that can show you all the underlying layers in one glance, named `platform`, too. It just returns a string describing the environment; thus, its output is rather addressed to humans than to automated processing (you'll see it soon).\n",
        "\n",
        "This is how you can invoke it:\n",
        "\n",
        "```\n",
        "platform(aliased = False, terse = False)\n",
        "```\n",
        "\n",
        "And now:\n",
        "\n",
        "* `aliased` → when set to `True` (or any non-zero value) it may cause the function to present the alternative underlying layer names instead of the common ones;\n",
        "\n",
        "* `terse` → when set to `True` (or any non-zero value) it may convince the function to present a briefer form of the result (if possible)"
      ]
    },
    {
      "cell_type": "code",
      "metadata": {
        "colab": {
          "base_uri": "https://localhost:8080/"
        },
        "id": "MC9PNHD7tcVD",
        "outputId": "aada69ad-b911-4209-8cab-e592a8dd1fce"
      },
      "source": [
        "from platform import platform\n",
        "\n",
        "print(platform())\n",
        "print(platform(1))\n",
        "print(platform(0, 1))"
      ],
      "execution_count": 468,
      "outputs": [
        {
          "output_type": "stream",
          "name": "stdout",
          "text": [
            "Linux-5.4.104+-x86_64-with-Ubuntu-18.04-bionic\n",
            "Linux-5.4.104+-x86_64-with-Ubuntu-18.04-bionic\n",
            "Linux-5.4.104+-x86_64-with-glibc2.26\n"
          ]
        }
      ]
    },
    {
      "cell_type": "markdown",
      "metadata": {
        "id": "4kZ7dqF6tnJK"
      },
      "source": [
        "**The machine function**\n",
        "\n",
        "Sometimes, you may just want to know the generic name of the processor which runs your OS together with Python and your code - a function named `machine()` will tell you that. As previously, the function returns a string."
      ]
    },
    {
      "cell_type": "code",
      "metadata": {
        "colab": {
          "base_uri": "https://localhost:8080/"
        },
        "id": "RXWc9-XQtqHE",
        "outputId": "23309249-5c75-4fb9-a1e9-7ccbf7bf4347"
      },
      "source": [
        "from platform import machine\n",
        "\n",
        "print(machine())"
      ],
      "execution_count": 469,
      "outputs": [
        {
          "output_type": "stream",
          "name": "stdout",
          "text": [
            "x86_64\n"
          ]
        }
      ]
    },
    {
      "cell_type": "markdown",
      "metadata": {
        "id": "P6_7UhgrtuZg"
      },
      "source": [
        "**The processor function**\n",
        "\n",
        "The `processor()` function returns a string filled with the real processor name (if possible)."
      ]
    },
    {
      "cell_type": "code",
      "metadata": {
        "colab": {
          "base_uri": "https://localhost:8080/"
        },
        "id": "cmmX9bwdtyje",
        "outputId": "6e0d6165-3b26-4259-8fdb-efa860c8c7ec"
      },
      "source": [
        "from platform import processor\n",
        "\n",
        "print(processor())"
      ],
      "execution_count": 470,
      "outputs": [
        {
          "output_type": "stream",
          "name": "stdout",
          "text": [
            "x86_64\n"
          ]
        }
      ]
    },
    {
      "cell_type": "markdown",
      "metadata": {
        "id": "vh_CYIxlt1np"
      },
      "source": [
        "**The system function**\n",
        "\n",
        "A function named `system()` returns the generic OS name as a string."
      ]
    },
    {
      "cell_type": "code",
      "metadata": {
        "colab": {
          "base_uri": "https://localhost:8080/"
        },
        "id": "TKeVgELGt4Xf",
        "outputId": "56861adf-135c-4507-e1ca-eb15dba9973c"
      },
      "source": [
        "from platform import system\n",
        "\n",
        "print(system())"
      ],
      "execution_count": 471,
      "outputs": [
        {
          "output_type": "stream",
          "name": "stdout",
          "text": [
            "Linux\n"
          ]
        }
      ]
    },
    {
      "cell_type": "markdown",
      "metadata": {
        "id": "SYp-LD5gt7m9"
      },
      "source": [
        "**The version function**\n",
        "\n",
        "The OS version is provided as a string by the `version()` function."
      ]
    },
    {
      "cell_type": "code",
      "metadata": {
        "colab": {
          "base_uri": "https://localhost:8080/"
        },
        "id": "xK8UgZKDt_YK",
        "outputId": "74e9da0a-e7a4-4c11-f4e5-ea5a1e35ca54"
      },
      "source": [
        "from platform import version\n",
        "\n",
        "print(version())"
      ],
      "execution_count": 472,
      "outputs": [
        {
          "output_type": "stream",
          "name": "stdout",
          "text": [
            "#1 SMP Sat Jun 5 09:50:34 PDT 2021\n"
          ]
        }
      ]
    },
    {
      "cell_type": "markdown",
      "metadata": {
        "id": "uDmpCebTuEdo"
      },
      "source": [
        "**The `python_implementation` and the `python_version_tuple` functions**\n",
        "\n",
        "If you need to know what version of Python is running your code, you can check it using a number of dedicated functions - here are two of them:\n",
        "\n",
        "* `python_implementation()` → returns a string denoting the Python implementation (expect `CPython` here, unless you decide to use any non-canonical Python branch)\n",
        "\n",
        "* `python_version_tuple()` → returns a three-element tuple filled with:\n",
        "  * the `major` part of Python's version;\n",
        "  * the `minor` part;\n",
        "  * the `patch` level number."
      ]
    },
    {
      "cell_type": "code",
      "metadata": {
        "colab": {
          "base_uri": "https://localhost:8080/"
        },
        "id": "TGvNpvR5uUY0",
        "outputId": "a4436e23-5c26-4cc4-bd89-163e9650725e"
      },
      "source": [
        "from platform import python_implementation, python_version_tuple\n",
        "\n",
        "print(python_implementation())\n",
        "\n",
        "for atr in python_version_tuple():\n",
        "    print(atr)"
      ],
      "execution_count": 473,
      "outputs": [
        {
          "output_type": "stream",
          "name": "stdout",
          "text": [
            "CPython\n",
            "3\n",
            "7\n",
            "12\n"
          ]
        }
      ]
    },
    {
      "cell_type": "markdown",
      "metadata": {
        "id": "G6bujRSFkIX1"
      },
      "source": [
        "### **OS Module**\n",
        "\n",
        "In this section, you'll learn about a module called os, which lets you interact with the operating system using Python.\n",
        "\n",
        "It provides functions that are available on Unix and/or Windows systems. If you're familiar with the command console, you'll see that some functions give the same results as the commands available on the operating systems.\n",
        "\n",
        "\n",
        "In addition to file and directory operations, the os module enables you to:\n",
        "\n",
        "* get information about the operating system;\n",
        "* manage processes;\n",
        "* operate on I/O streams using file descriptors."
      ]
    },
    {
      "cell_type": "markdown",
      "metadata": {
        "id": "FAjAIi4_kcMy"
      },
      "source": [
        "**uname**\n",
        "\n",
        "information about the current operating system. This is really easy because the os module provides a function called uname, which returns an object containing the following attributes:\n",
        "\n",
        "* `systemname` — stores the name of the operating system;\n",
        "* `nodename` — stores the machine name on the network;\n",
        "* `release` — stores the operating system release;\n",
        "* `version` — stores the operating system version;\n",
        "* `machine` — stores the hardware identifier, e.g., x86_64."
      ]
    },
    {
      "cell_type": "code",
      "metadata": {
        "colab": {
          "base_uri": "https://localhost:8080/"
        },
        "id": "1SpEUo3mkmv4",
        "outputId": "1f1bc393-c389-4538-b84e-68fd0aca976d"
      },
      "source": [
        "import os\n",
        "print(os.uname())"
      ],
      "execution_count": 474,
      "outputs": [
        {
          "output_type": "stream",
          "name": "stdout",
          "text": [
            "posix.uname_result(sysname='Linux', nodename='8ee13cfc82c2', release='5.4.104+', version='#1 SMP Sat Jun 5 09:50:34 PDT 2021', machine='x86_64')\n"
          ]
        }
      ]
    },
    {
      "cell_type": "markdown",
      "metadata": {
        "id": "7hQohkEqk0iX"
      },
      "source": [
        "**name**\n",
        "\n",
        "Unfortunately, the uname function only works on some Unix systems. If you use Windows, you can use the uname function in the platform module, which returns a similar result.\n",
        "\n",
        "The os module allows you to quickly distinguish the operating system using the `name` attribute, which supports one of the following names:\n",
        "\n",
        "* `posix` — you'll get this name if you use Unix;\n",
        "* `nt` — you'll get this name if you use Windows;\n",
        "* `java` — you'll get this name if your code is written in Jython."
      ]
    },
    {
      "cell_type": "code",
      "metadata": {
        "colab": {
          "base_uri": "https://localhost:8080/"
        },
        "id": "2v1fwavkk0BP",
        "outputId": "f188ecc7-5738-4d2e-a671-bc21a1d81dc3"
      },
      "source": [
        "import os\n",
        "print(os.name)"
      ],
      "execution_count": 475,
      "outputs": [
        {
          "output_type": "stream",
          "name": "stdout",
          "text": [
            "posix\n"
          ]
        }
      ]
    },
    {
      "cell_type": "markdown",
      "metadata": {
        "id": "EkG8XNX3lHJt"
      },
      "source": [
        "**mkdir**\n",
        "\n",
        "The os module provides a function called mkdir, which, like the mkdir command in Unix and Windows, allows you to create a directory. The mkdir function requires a path that can be relative or absolute. Let's recall what both paths look like in practice:\n",
        "\n",
        "* `my_first_directory` — this is a relative path which will create the my_first_directory directory in the current working directory;\n",
        "* `./my_first_directory` — this is a relative path that explicitly points to the current working directory. It has the same effect as the path above;\n",
        "* `../my_first_directory` — this is a relative path that will create the my_first_directory directory in the parent directory of the current working directory;\n",
        "* `/python/my_first_directory` — this is the absolute path that will create the my_first_directory directory, which in turn is in the python directory in the root directory."
      ]
    },
    {
      "cell_type": "code",
      "metadata": {
        "colab": {
          "base_uri": "https://localhost:8080/"
        },
        "id": "saxb4A5llbtF",
        "outputId": "816682b4-2f24-44cd-fcea-4cc82c093d25"
      },
      "source": [
        "import os\n",
        "\n",
        "os.mkdir(\"my_first_directory\")\n",
        "print(os.listdir())"
      ],
      "execution_count": 476,
      "outputs": [
        {
          "output_type": "stream",
          "name": "stdout",
          "text": [
            "['.config', 'my_first_directory', 'sample_data']\n"
          ]
        }
      ]
    },
    {
      "cell_type": "markdown",
      "metadata": {
        "id": "2dyYIAqvl4-j"
      },
      "source": [
        "**makedirs**\n",
        "\n",
        "The `mkdir` function is very useful, but what if you need to create another directory in the directory you've just created. Of course, you can go to the created directory and create another directory inside it, but fortunately the os module provides a function called `makedirs`, which makes this task easier.\n",
        "\n",
        "The `makedirs` function enables recursive directory creation, which means that all directories in the path will be created. Let's look at the code in the editor and see how it is in practice."
      ]
    },
    {
      "cell_type": "code",
      "metadata": {
        "colab": {
          "base_uri": "https://localhost:8080/"
        },
        "id": "VcgmBa9QmDFo",
        "outputId": "e8a5d063-173e-4ebc-97d9-0cfb09ec7764"
      },
      "source": [
        "import os\n",
        "\n",
        "os.makedirs(\"my_first_directory/my_second_directory\")\n",
        "os.chdir(\"my_first_directory\")\n",
        "print(os.listdir())"
      ],
      "execution_count": 477,
      "outputs": [
        {
          "output_type": "stream",
          "name": "stdout",
          "text": [
            "['my_second_directory']\n"
          ]
        }
      ]
    },
    {
      "cell_type": "markdown",
      "metadata": {
        "id": "vduNQcrvmJR0"
      },
      "source": [
        "**getcwd**\n",
        "\n",
        "the os module provides a function that returns information about the current working directory. It's called `getcwd`. Look at the code in the editor to see how to use it in practice.\n",
        "\n",
        "Result:\n",
        "\n",
        "```\n",
        ".../my_first_directory\n",
        ".../my_first_directory/my_second_directory\n",
        "```"
      ]
    },
    {
      "cell_type": "markdown",
      "metadata": {
        "id": "wig1H6yKmcHn"
      },
      "source": [
        "**rmdir & removedirs**\n",
        "\n",
        "The os module also allows you to delete directories. It gives you the option of deleting a single directory or a directory with its subdirectories. To delete a single directory, you can use a function called `rmdir`, which takes the path as its argument. Look at the code in the editor."
      ]
    },
    {
      "cell_type": "code",
      "metadata": {
        "colab": {
          "base_uri": "https://localhost:8080/"
        },
        "id": "aptMBSqMmiyf",
        "outputId": "4e5468c5-512c-4d2e-cba8-db5073a7094f"
      },
      "source": [
        "import os\n",
        "\n",
        "os.mkdir(\"my_first_directory\")\n",
        "print(os.listdir())\n",
        "os.rmdir(\"my_first_directory\")\n",
        "print(os.listdir())"
      ],
      "execution_count": 478,
      "outputs": [
        {
          "output_type": "stream",
          "name": "stdout",
          "text": [
            "['my_first_directory', 'my_second_directory']\n",
            "['my_second_directory']\n"
          ]
        }
      ]
    },
    {
      "cell_type": "markdown",
      "metadata": {
        "id": "hUgXrdYOmoXb"
      },
      "source": [
        "To remove a directory and its subdirectories, you can use the `removedirs` function, which requires you to specify a path containing all directories that should be removed:"
      ]
    },
    {
      "cell_type": "code",
      "metadata": {
        "colab": {
          "base_uri": "https://localhost:8080/"
        },
        "id": "KLc7CxSbmrgz",
        "outputId": "2b059ce3-c924-4733-be23-a908e3896517"
      },
      "source": [
        "import os\n",
        "\n",
        "os.makedirs(\"my_first_directory/my_second_directory\")\n",
        "os.removedirs(\"my_first_directory/my_second_directory\")\n",
        "print(os.listdir())\n",
        "\n"
      ],
      "execution_count": 479,
      "outputs": [
        {
          "output_type": "stream",
          "name": "stdout",
          "text": [
            "['my_second_directory']\n"
          ]
        }
      ]
    },
    {
      "cell_type": "markdown",
      "metadata": {
        "id": "G6jqJFaOmv1u"
      },
      "source": [
        "**system**\n",
        "\n",
        "All functions presented in this part of the course can be replaced by a function called system, which executes a command passed to it as a string.\n",
        "\n",
        "The `system` function is available in both Windows and Unix. Depending on the system, it returns a different result.\n",
        "\n",
        "In Windows, it returns the value returned by the shell after running the command given, while in Unix, it returns the exit status of the process."
      ]
    },
    {
      "cell_type": "code",
      "metadata": {
        "colab": {
          "base_uri": "https://localhost:8080/"
        },
        "id": "RYI80ddMm6zX",
        "outputId": "ab48ac85-47e3-4d92-a5a5-7bb3f6a4e454"
      },
      "source": [
        "import os\n",
        "\n",
        "returned_value = os.system(\"mkdir my_first_directory\")\n",
        "print(returned_value)"
      ],
      "execution_count": 480,
      "outputs": [
        {
          "output_type": "stream",
          "name": "stdout",
          "text": [
            "0\n"
          ]
        }
      ]
    },
    {
      "cell_type": "markdown",
      "metadata": {
        "id": "bn8UPYnzmbPg"
      },
      "source": [
        "## **Import Type 01**\n",
        "\n",
        "The simplest way to import a particular module is to use the import instruction as follows:\n",
        "\n",
        "```\n",
        "import math\n",
        "```\n",
        "\n",
        "The clause contains:\n",
        "\n",
        "the import keyword;\n",
        "the name of the module which is subject to import.\n",
        "The instruction may be located anywhere in your code, but it must be placed before the first use of any of the module's entities.\n",
        "\n",
        "\n",
        "If you want to (or have to) import more than one module, you can do it by repeating the import clause (preferred):\n",
        "\n",
        "```\n",
        "import math\n",
        "import sys\n",
        "```\n",
        "\n",
        "or by listing the modules after the import keyword, like here:\n",
        "\n",
        "```\n",
        "import math, sys\n",
        "```\n",
        "\n",
        "The instruction imports two modules, first the one named math and then the second named sys."
      ]
    },
    {
      "cell_type": "markdown",
      "metadata": {
        "id": "3tHN4zH3nKJv"
      },
      "source": [
        "## **Import Type 02**\n",
        "\n",
        "In the second method, the import's syntax precisely points out which module's entity (or entities) are acceptable in the code:\n",
        "\n",
        "```\n",
        "from math import pi\n",
        "```\n",
        "\n",
        "The instruction consists of the following elements:\n",
        "\n",
        "* the `from` keyword;\n",
        "* the `name of the module` to be (selectively) imported;\n",
        "* the `import` keyword;\n",
        "* the `name or list of names of the entity/entities` which are being imported into the namespace.\n",
        "\n",
        "The instruction has this effect:\n",
        "\n",
        "* the listed entities (and only those ones) are `imported from the indicated module`;\n",
        "* the names of the imported entities are `accessible without qualification`.\n",
        "\n",
        "Note: no other entities are imported. Moreover, you cannot import additional entities using a qualification - a line like this one:\n",
        "\n",
        "```\n",
        "print(math.e)\n",
        "```\n",
        "\n",
        "will cause an error (e is Euler's number: 2.71828...)\n",
        "\n",
        "Let's rewrite the previous script to incorporate the new technique.\n",
        "\n",
        "Here it is:\n",
        "\n",
        "```\n",
        "from math import sin, pi\n",
        "\n",
        "print(sin(pi/2))\n",
        "```\n",
        "\n",
        "The output should be the same as previously, as in fact we've used the same entities as before: 1.0. Copy the code, paste it in the editor, and run the program."
      ]
    },
    {
      "cell_type": "markdown",
      "metadata": {
        "id": "hSeeiNs2nr7_"
      },
      "source": [
        "## **Import Type 03**\n",
        "\n",
        "In the third method, the import's syntax is a more aggressive form of the previously presented one:\n",
        "\n",
        "Importing a module: *\n",
        "\n",
        "```\n",
        "from module import *\n",
        "```\n",
        "\n",
        "As you can see, the name of an entity (or the list of entities' names) is replaced with a single asterisk (*).\n",
        "\n",
        "Such an instruction `imports all entities from the indicated module`.\n",
        "\n",
        "Is it convenient? Yes, it is, as it relieves you of the duty of enumerating all the names you need.\n",
        "\n",
        "Is it unsafe? Yes, it is - unless you know all the names provided by the module, `you may not be able to avoid name conflicts`. Treat this as a temporary solution, and try not to use it in regular code.\n",
        "\n"
      ]
    },
    {
      "cell_type": "markdown",
      "metadata": {
        "id": "IAp5wkBtoMZ3"
      },
      "source": [
        "## **Import Type 04**\n",
        "\n",
        "Importing a module: the as keyword\n",
        "If you use the import module variant and you don't like a particular module's name (e.g., it's the same as one of your already defined entities, so qualification becomes troublesome) you can give it any name you like - this is called aliasing.\n",
        "\n",
        "Aliasing causes the module to be identified under a different name than the original. This may shorten the qualified names, too.\n",
        "\n",
        "Creating an alias is done together with importing the module, and demands the following form of the import instruction:\n",
        "\n",
        "```\n",
        "import module as alias\n",
        "```\n",
        "\n",
        "The \"module\" identifies the original module's name while the \"alias\" is the name you wish to use instead of the original.\n",
        "\n",
        "Note: as is a keyword.\n",
        "\n",
        "This is how it can be done:\n",
        "\n",
        "```\n",
        "from module import name as alias\n",
        "```\n",
        "\n",
        "As previously, the original (unaliased) name becomes inaccessible.\n",
        "\n",
        "The phrase name as alias can be repeated - use commas to separate the multiplied phrases, like this:\n",
        "\n",
        "```\n",
        "from module import n as a, m as b, o as c\n",
        "```\n"
      ]
    },
    {
      "cell_type": "markdown",
      "metadata": {
        "id": "FPEdFajUAsUK"
      },
      "source": [
        "## **Import**\n",
        "\n",
        "***modul.py***\n",
        "\n",
        "`data = \"apa kabs?\"`\n",
        "\n",
        "`def cek_modul():`\n",
        "\n",
        "`---print(\"hallo gan\")`\n",
        "\n",
        "`print(\"ini adalah modul saya\")`\n",
        "\n",
        "\n",
        "***main.py***\n",
        "\n",
        "`import modul`\n",
        "\n",
        "`print(modul.data)`\n",
        "\n",
        "`modul.cek_modul()`\n",
        "\n",
        "output\n",
        "\n",
        "    ini adalah modul saya\n",
        "\n",
        "    apa kabs?\n",
        "\n",
        "    hallo gan\n"
      ]
    },
    {
      "cell_type": "code",
      "metadata": {
        "colab": {
          "base_uri": "https://localhost:8080/"
        },
        "id": "o1MwVvKpxIt_",
        "outputId": "6dba6814-c7e5-48fa-bbbe-40dc181a0014"
      },
      "source": [
        "%%writefile modul.py\n",
        "data = \"apa kabs?\"\n",
        "\n",
        "def cek_modul():\n",
        "  print(\"hallo gan\")\n",
        "\n",
        "print(\"ini adalah modul saya\")"
      ],
      "execution_count": 481,
      "outputs": [
        {
          "output_type": "stream",
          "name": "stdout",
          "text": [
            "Writing modul.py\n"
          ]
        }
      ]
    },
    {
      "cell_type": "code",
      "metadata": {
        "colab": {
          "base_uri": "https://localhost:8080/"
        },
        "id": "d-WzkV09xU-o",
        "outputId": "8b2bc56a-0c7d-43f5-af1e-615e1d7dc090"
      },
      "source": [
        "%%writefile main.py\n",
        "import modul\n",
        "\n",
        "print(modul.data)\n",
        "\n",
        "modul.cek_modul()"
      ],
      "execution_count": 482,
      "outputs": [
        {
          "output_type": "stream",
          "name": "stdout",
          "text": [
            "Writing main.py\n"
          ]
        }
      ]
    },
    {
      "cell_type": "code",
      "metadata": {
        "colab": {
          "base_uri": "https://localhost:8080/"
        },
        "id": "9GmtsOZMxjCh",
        "outputId": "c178ec98-d5eb-4751-af11-9912b233edeb"
      },
      "source": [
        "!python main.py"
      ],
      "execution_count": 483,
      "outputs": [
        {
          "output_type": "stream",
          "name": "stdout",
          "text": [
            "ini adalah modul saya\n",
            "apa kabs?\n",
            "hallo gan\n"
          ]
        }
      ]
    },
    {
      "cell_type": "markdown",
      "metadata": {
        "id": "YAXP2q_jHB5Y"
      },
      "source": [
        "## **Modul**"
      ]
    },
    {
      "cell_type": "code",
      "metadata": {
        "id": "1Y1vFIdHFT3C",
        "colab": {
          "base_uri": "https://localhost:8080/"
        },
        "outputId": "337752d1-694d-4042-ca31-4015b90a8063"
      },
      "source": [
        "%%writefile matematika.py\n",
        "\n",
        "def tambah(a,b):\n",
        "    print('fungsi tambah')\n",
        "    print(a,'+',b,'=',a+b)\n",
        "\n",
        "def kurang(a,b):\n",
        "    print('fungsi kurang')\n",
        "    print(a,'-',b,'=',a-b)"
      ],
      "execution_count": 484,
      "outputs": [
        {
          "output_type": "stream",
          "name": "stdout",
          "text": [
            "Writing matematika.py\n"
          ]
        }
      ]
    },
    {
      "cell_type": "code",
      "metadata": {
        "id": "16SlPnfoFbzg",
        "colab": {
          "base_uri": "https://localhost:8080/"
        },
        "outputId": "215622b1-979d-455d-dad5-5cb64448dd95"
      },
      "source": [
        "%%writefile main2.py\n",
        "\n",
        "import matematika\n",
        "\n",
        "matematika.tambah(3,4)\n",
        "matematika.kurang(4,5)\n",
        "\n",
        "# -------------------------------------\n",
        "# Output\n",
        "\n",
        "# fungsi tambah\n",
        "# 3 + 4 = 7\n",
        "\n",
        "# fungsi kurang\n",
        "# 4 - 5 = -1"
      ],
      "execution_count": 485,
      "outputs": [
        {
          "output_type": "stream",
          "name": "stdout",
          "text": [
            "Writing main2.py\n"
          ]
        }
      ]
    },
    {
      "cell_type": "code",
      "metadata": {
        "colab": {
          "base_uri": "https://localhost:8080/"
        },
        "id": "O4BJDtJoxub2",
        "outputId": "751cbe7e-6a6a-4c00-f654-bdf08d809bf0"
      },
      "source": [
        "!python main2.py"
      ],
      "execution_count": 486,
      "outputs": [
        {
          "output_type": "stream",
          "name": "stdout",
          "text": [
            "fungsi tambah\n",
            "3 + 4 = 7\n",
            "fungsi kurang\n",
            "4 - 5 = -1\n"
          ]
        }
      ]
    },
    {
      "cell_type": "code",
      "metadata": {
        "id": "dNjz-5-ZGYy4",
        "colab": {
          "base_uri": "https://localhost:8080/"
        },
        "outputId": "18fece31-1ce5-4515-e78c-f188beaf5dbb"
      },
      "source": [
        "%%writefile main3.py\n",
        "import matematika as m\n",
        "\n",
        "m.tambah(3,4)\n",
        "m.kurang(5,4)\n",
        "\n",
        "# -------------------------------------\n",
        "# Output\n",
        "\n",
        "# fungsi tambah\n",
        "# 3 + 4 = 7\n",
        "\n",
        "# fungsi kurang\n",
        "# 5 - 4 = 1"
      ],
      "execution_count": 487,
      "outputs": [
        {
          "output_type": "stream",
          "name": "stdout",
          "text": [
            "Writing main3.py\n"
          ]
        }
      ]
    },
    {
      "cell_type": "code",
      "metadata": {
        "colab": {
          "base_uri": "https://localhost:8080/"
        },
        "id": "sD8NcT90x33K",
        "outputId": "b06c8fc9-1c02-4cfa-9c58-a06e3575ee9b"
      },
      "source": [
        "!python main3.py"
      ],
      "execution_count": 488,
      "outputs": [
        {
          "output_type": "stream",
          "name": "stdout",
          "text": [
            "fungsi tambah\n",
            "3 + 4 = 7\n",
            "fungsi kurang\n",
            "5 - 4 = 1\n"
          ]
        }
      ]
    },
    {
      "cell_type": "code",
      "metadata": {
        "id": "y3Qd0FtdGatN",
        "colab": {
          "base_uri": "https://localhost:8080/"
        },
        "outputId": "d739b138-bde8-4400-8862-25a765a1e310"
      },
      "source": [
        "%%writefile main4.py\n",
        "from matematika import tambah, kurang\n",
        "from matematika import *\n",
        "\n",
        "tambah(4,5)\n",
        "kurang(5,4)\n",
        "\n",
        "# -------------------------------------\n",
        "# Output\n",
        "\n",
        "# fungsi tambah\n",
        "# 3 + 4 = 7\n",
        "\n",
        "# fungsi kurang\n",
        "# 5 - 4 = 1"
      ],
      "execution_count": 489,
      "outputs": [
        {
          "output_type": "stream",
          "name": "stdout",
          "text": [
            "Writing main4.py\n"
          ]
        }
      ]
    },
    {
      "cell_type": "code",
      "metadata": {
        "colab": {
          "base_uri": "https://localhost:8080/"
        },
        "id": "fBTyS9tmx-UR",
        "outputId": "3485a018-eb07-43e9-ab71-9f8af81e083c"
      },
      "source": [
        "!python main4.py"
      ],
      "execution_count": 490,
      "outputs": [
        {
          "output_type": "stream",
          "name": "stdout",
          "text": [
            "fungsi tambah\n",
            "4 + 5 = 9\n",
            "fungsi kurang\n",
            "5 - 4 = 1\n"
          ]
        }
      ]
    },
    {
      "cell_type": "code",
      "metadata": {
        "id": "aOU1BSlqGc7q",
        "colab": {
          "base_uri": "https://localhost:8080/"
        },
        "outputId": "bb8ab9ae-1a50-4a80-b639-2e1cf1efcc2f"
      },
      "source": [
        "%%writefile main5.py\n",
        "from matematika import tambah as t\n",
        "\n",
        "t(3,4)\n",
        "\n",
        "# -------------------------------------\n",
        "# Output\n",
        "\n",
        "# fungsi tambah\n",
        "# 3 + 4 = 7"
      ],
      "execution_count": 491,
      "outputs": [
        {
          "output_type": "stream",
          "name": "stdout",
          "text": [
            "Writing main5.py\n"
          ]
        }
      ]
    },
    {
      "cell_type": "code",
      "metadata": {
        "colab": {
          "base_uri": "https://localhost:8080/"
        },
        "id": "PVnw1eNTyEA7",
        "outputId": "5acee039-6cf4-41ab-ce66-fb2b8664b7c0"
      },
      "source": [
        "!python main5.py"
      ],
      "execution_count": 492,
      "outputs": [
        {
          "output_type": "stream",
          "name": "stdout",
          "text": [
            "fungsi tambah\n",
            "3 + 4 = 7\n"
          ]
        }
      ]
    },
    {
      "cell_type": "markdown",
      "metadata": {
        "id": "-oPMEQx98Abn"
      },
      "source": [
        "## **Modul 02**"
      ]
    },
    {
      "cell_type": "markdown",
      "metadata": {
        "id": "93KEK1yw8IOE"
      },
      "source": [
        "*hello.py*"
      ]
    },
    {
      "cell_type": "code",
      "metadata": {
        "id": "YejTu56T8El_",
        "colab": {
          "base_uri": "https://localhost:8080/"
        },
        "outputId": "ff93baa3-c930-4ffa-c9f8-48936f535369"
      },
      "source": [
        "%%writefile hello.py\n",
        "\n",
        "def world():\n",
        "    print(\"Hello, World!\")\n",
        "\n",
        "nama = \"Nur Imam Masri\"\n",
        "\n",
        "class Reviewer:\n",
        "    def __init__(self, nama, kelas):\n",
        "        self.nama = nama\n",
        "        self.kelas = kelas\n",
        "    def review(self):\n",
        "        print(\"Reviewer \" + self.nama + \" bertanggung jawab di kelas \" + self.kelas)"
      ],
      "execution_count": 493,
      "outputs": [
        {
          "output_type": "stream",
          "name": "stdout",
          "text": [
            "Writing hello.py\n"
          ]
        }
      ]
    },
    {
      "cell_type": "markdown",
      "metadata": {
        "id": "pOds4cR-8Pxe"
      },
      "source": [
        "*main.py*"
      ]
    },
    {
      "cell_type": "code",
      "metadata": {
        "id": "2KjSsDL-8SFJ",
        "colab": {
          "base_uri": "https://localhost:8080/"
        },
        "outputId": "114cbbe9-9eee-4e0e-f2a1-65d6e7d16424"
      },
      "source": [
        "%%writefile main6.py\n",
        "import hello\n",
        "\n",
        "hello.world()\n",
        "\n",
        "print(hello.nama)\n",
        "\n",
        "diko = hello.Reviewer(\"Diko\", \"Python\")\n",
        "diko.review()\n",
        "\n",
        "# -----------------\n",
        "# Output\n",
        "# Hello, World!\n",
        "# Nur Imam Masri\n",
        "# Reviewer Diko bertanggung jawab di kelas Python"
      ],
      "execution_count": 494,
      "outputs": [
        {
          "output_type": "stream",
          "name": "stdout",
          "text": [
            "Writing main6.py\n"
          ]
        }
      ]
    },
    {
      "cell_type": "code",
      "metadata": {
        "colab": {
          "base_uri": "https://localhost:8080/"
        },
        "id": "EAglFN8oyn6N",
        "outputId": "2e6f89ce-593e-4812-da93-638cbfdd4ba2"
      },
      "source": [
        "!python main6.py"
      ],
      "execution_count": 495,
      "outputs": [
        {
          "output_type": "stream",
          "name": "stdout",
          "text": [
            "Hello, World!\n",
            "Nur Imam Masri\n",
            "Reviewer Diko bertanggung jawab di kelas Python\n"
          ]
        }
      ]
    },
    {
      "cell_type": "markdown",
      "metadata": {
        "id": "c3ijVIP9HEMy"
      },
      "source": [
        "## **Package**\n",
        "\n",
        "![package.png](https://raw.githubusercontent.com/nurimammasri/Wooky-Python/main/image/package.png)\n",
        "\n",
        "* a `module is a kind of container filled with functions` - you can pack as many functions as you want into one module and distribute it across the world;\n",
        "* of course, it's generally a good idea not to mix functions with different application areas within one module (just like in a library - nobody expects scientific works to be put among comic books), so group your functions carefully and name the module containing them in a clear and intuitive way (e.g., don't give the name arcade_games to a module containing functions intended to partition and format hard disks)\n",
        "* making many modules may cause a little mess - sooner or later you'll want to `group your modules` exactly in the same way as you've previously grouped functions - is there a more general container than a module?\n",
        "* yes, there is - it's a package; in the world of modules, a package plays a similar role to a folder/directory in the world of files.\n",
        "\n",
        "\n",
        "\n"
      ]
    },
    {
      "cell_type": "markdown",
      "metadata": {
        "id": "ZJbRuTyXC2OF"
      },
      "source": [
        "Python can do much more. It also creates a variable called `__name__`.\n",
        "\n",
        "Moreover, each source file uses its own, separate version of the variable - it isn't shared between modules.\n",
        "\n",
        "We'll show you how to use it. Modify the module a bit:"
      ]
    },
    {
      "cell_type": "code",
      "metadata": {
        "colab": {
          "base_uri": "https://localhost:8080/"
        },
        "id": "I79neUpcDAhy",
        "outputId": "f55fba08-3511-4417-cc81-fa7a625a72ae"
      },
      "source": [
        "%%writefile module.py\n",
        "print(\"I like to be a module.\")\n",
        "print(__name__)"
      ],
      "execution_count": 496,
      "outputs": [
        {
          "output_type": "stream",
          "name": "stdout",
          "text": [
            "Writing module.py\n"
          ]
        }
      ]
    },
    {
      "cell_type": "code",
      "metadata": {
        "colab": {
          "base_uri": "https://localhost:8080/"
        },
        "id": "uwrOuJCADItv",
        "outputId": "65832924-c3f6-4f88-bbd8-0c57e9d5d0a2"
      },
      "source": [
        "!python module.py"
      ],
      "execution_count": 497,
      "outputs": [
        {
          "output_type": "stream",
          "name": "stdout",
          "text": [
            "I like to be a module.\n",
            "__main__\n"
          ]
        }
      ]
    },
    {
      "cell_type": "code",
      "metadata": {
        "colab": {
          "base_uri": "https://localhost:8080/"
        },
        "id": "oYXfjnykDKs4",
        "outputId": "975588e1-5cc3-4566-8157-90596126469d"
      },
      "source": [
        "%%writefile main7.py\n",
        "import module"
      ],
      "execution_count": 498,
      "outputs": [
        {
          "output_type": "stream",
          "name": "stdout",
          "text": [
            "Writing main7.py\n"
          ]
        }
      ]
    },
    {
      "cell_type": "code",
      "metadata": {
        "colab": {
          "base_uri": "https://localhost:8080/"
        },
        "id": "ICnzWJjjBXB4",
        "outputId": "9a553fd6-e20c-4284-f4b4-7d1d426512ae"
      },
      "source": [
        "!python main7.py"
      ],
      "execution_count": 499,
      "outputs": [
        {
          "output_type": "stream",
          "name": "stdout",
          "text": [
            "I like to be a module.\n",
            "module\n"
          ]
        }
      ]
    },
    {
      "cell_type": "markdown",
      "metadata": {
        "id": "72JcEnwgB9Fm"
      },
      "source": [
        "We can say that:\n",
        "\n",
        "* when you run a file directly, its `__name__ ` variable is set to `__main__`;\n",
        "* when a file is imported as a module, its `__name__` variable is set to the file's name (excluding .py)"
      ]
    },
    {
      "cell_type": "code",
      "metadata": {
        "id": "B7MZb-ewDATx"
      },
      "source": [
        "# if __name__ == \"__main__\":\n",
        "#     print(\"I prefer to be a module.\")\n",
        "# else:\n",
        "#     print(\"I like to be a module.\")"
      ],
      "execution_count": 500,
      "outputs": []
    },
    {
      "cell_type": "markdown",
      "metadata": {
        "id": "59niShVzEEX2"
      },
      "source": [
        "A few elements need some explanation, we think:\n",
        "\n",
        "* the line starting with #! has many names - it may be called `shabang, shebang, hashbang, poundbang or even hashpling` (don't ask us why). The name itself means nothing here - its role is more important. From Python's point of view, it's just a `comment` as it starts with #. For Unix and Unix-like OSs (including MacOS) such a line instructs the OS how to execute the contents of the file (in other words, what program needs to be launched to interpret the text). In some environments (especially those connected with web servers) the absence of that line will cause trouble;\n",
        "* a string (maybe a multiline) placed before any module instructions (including imports) is called the `doc-string`, and should briefly explain the purpose and contents of the module;\n",
        "* the functions defined inside the module (`suml() and prodl()`) are available for import;\n",
        "* we've used the `__name__` variable to detect when the file is run stand-alone, and seized this opportunity to perform some simple tests."
      ]
    },
    {
      "cell_type": "code",
      "metadata": {
        "colab": {
          "base_uri": "https://localhost:8080/"
        },
        "id": "rk6S7u0wDfP0",
        "outputId": "b66939d8-631a-426b-8e47-bd1840166a55"
      },
      "source": [
        "%%writefile module.py\n",
        "#!/usr/bin/env python3 \n",
        "\n",
        "\"\"\" module.py - an example of a Python module \"\"\"\n",
        "\n",
        "__counter = 0\n",
        "\n",
        "\n",
        "def suml(the_list):\n",
        "    global __counter\n",
        "    __counter += 1\n",
        "    the_sum = 0\n",
        "    for element in the_list:\n",
        "        the_sum += element\n",
        "    return the_sum\n",
        "\n",
        "\n",
        "def prodl(the_list):\n",
        "    global __counter    \n",
        "    __counter += 1\n",
        "    prod = 1\n",
        "    for element in the_list:\n",
        "        prod *= element\n",
        "    return prod\n",
        "\n",
        "\n",
        "if __name__ == \"__main__\":\n",
        "    print(\"I prefer to be a module, but I can do some tests for you.\")\n",
        "    my_list = [i+1 for i in range(5)]\n",
        "    print(suml(my_list) == 15)\n",
        "    print(prodl(my_list) == 120)"
      ],
      "execution_count": 501,
      "outputs": [
        {
          "output_type": "stream",
          "name": "stdout",
          "text": [
            "Overwriting module.py\n"
          ]
        }
      ]
    },
    {
      "cell_type": "code",
      "metadata": {
        "colab": {
          "base_uri": "https://localhost:8080/"
        },
        "id": "Xd-BCcWQDqaO",
        "outputId": "25014368-6e35-40e7-98f7-35d9b8a0ad71"
      },
      "source": [
        "!python module.py"
      ],
      "execution_count": 502,
      "outputs": [
        {
          "output_type": "stream",
          "name": "stdout",
          "text": [
            "I prefer to be a module, but I can do some tests for you.\n",
            "True\n",
            "True\n"
          ]
        }
      ]
    },
    {
      "cell_type": "code",
      "metadata": {
        "colab": {
          "base_uri": "https://localhost:8080/"
        },
        "id": "EeiuEAv2E-sw",
        "outputId": "f00c0915-3b30-4566-be01-e24c4b297f65"
      },
      "source": [
        "%%writefile main8.py\n",
        "from module import suml, prodl\n",
        "\n",
        "zeroes = [0 for i in range(5)]\n",
        "ones = [1 for i in range(5)]\n",
        "print(suml(zeroes))\n",
        "print(prodl(ones))"
      ],
      "execution_count": 503,
      "outputs": [
        {
          "output_type": "stream",
          "name": "stdout",
          "text": [
            "Writing main8.py\n"
          ]
        }
      ]
    },
    {
      "cell_type": "code",
      "metadata": {
        "colab": {
          "base_uri": "https://localhost:8080/"
        },
        "id": "5jSrgH8FFD3_",
        "outputId": "1c6e7c1b-78bf-4dcc-c49c-6c51ccc0c83e"
      },
      "source": [
        "!python main8.py"
      ],
      "execution_count": 504,
      "outputs": [
        {
          "output_type": "stream",
          "name": "stdout",
          "text": [
            "0\n",
            "1\n"
          ]
        }
      ]
    },
    {
      "cell_type": "markdown",
      "metadata": {
        "id": "G7vjlYwIVTa-"
      },
      "source": [
        "![package-hirarcy.png](https://raw.githubusercontent.com/nurimammasri/Wooky-Python/main/image/package-hirarcy.png)"
      ]
    },
    {
      "cell_type": "code",
      "metadata": {
        "id": "xAxt-Z2TVVxM"
      },
      "source": [
        "# from sys import path\n",
        "# path.append('..\\\\packages')\n",
        "\n",
        "# import extra.iota\n",
        "# print(extra.iota.funI())"
      ],
      "execution_count": 505,
      "outputs": []
    },
    {
      "cell_type": "code",
      "metadata": {
        "id": "4QQH507-VZds"
      },
      "source": [
        "# from sys import path\n",
        "\n",
        "# path.append('..\\\\packages')\n",
        "\n",
        "# import extra.good.best.sigma as sig\n",
        "# import extra.good.alpha as alp\n",
        "\n",
        "# print(sig.funS())\n",
        "# print(alp.funA())"
      ],
      "execution_count": 506,
      "outputs": []
    },
    {
      "cell_type": "code",
      "metadata": {
        "id": "WKO_IHBbVcI0"
      },
      "source": [
        "# from sys import path\n",
        "\n",
        "# path.append('..\\\\packages\\\\extrapack.zip')\n",
        "\n",
        "# import extra.good.best.sigma as sig\n",
        "# import extra.good.alpha as alp\n",
        "# from extra.iota import funI\n",
        "# from extra.good.beta import funB\n",
        "\n",
        "# print(sig.funS())\n",
        "# print(alp.funA())\n",
        "# print(funI())\n",
        "# print(funB())"
      ],
      "execution_count": 507,
      "outputs": []
    },
    {
      "cell_type": "markdown",
      "metadata": {
        "id": "k8Hgv8QMCs6c"
      },
      "source": [
        "main.py \n",
        "\n",
        "sains (directory) -> \\_\\_init\\_\\_.py , fisika.py, matematika.py"
      ]
    },
    {
      "cell_type": "code",
      "metadata": {
        "id": "Uo-T2MjIzNZj"
      },
      "source": [
        "import os\n",
        "if not os.path.exists(\"./sains\"):\n",
        "  os.mkdir(\"sains\")"
      ],
      "execution_count": 508,
      "outputs": []
    },
    {
      "cell_type": "markdown",
      "metadata": {
        "id": "ARuC8HlSKV8j"
      },
      "source": [
        "\\_\\_init\\_\\_.py"
      ]
    },
    {
      "cell_type": "code",
      "metadata": {
        "id": "87MMBpheKYwn",
        "colab": {
          "base_uri": "https://localhost:8080/"
        },
        "outputId": "f00d42eb-2968-48c6-9360-c8d85b9233a3"
      },
      "source": [
        "%%writefile __init__.py\n",
        "from .matematika import *\n",
        "from .fisika import *"
      ],
      "execution_count": 509,
      "outputs": [
        {
          "output_type": "stream",
          "name": "stdout",
          "text": [
            "Writing __init__.py\n"
          ]
        }
      ]
    },
    {
      "cell_type": "markdown",
      "metadata": {
        "id": "RzC_ezAcKbDY"
      },
      "source": [
        "fisika.py"
      ]
    },
    {
      "cell_type": "code",
      "metadata": {
        "id": "1yGEnmA2TSm5",
        "colab": {
          "base_uri": "https://localhost:8080/"
        },
        "outputId": "69bea1d6-6f5c-4c1c-cbd6-a097814de8d2"
      },
      "source": [
        "%%writefile fisika.py\n",
        "def kecepatan(jarak, waktu):\n",
        "    print('menghitung kecepatan')\n",
        "    return jarak / waktu\n",
        "\n",
        "def waktu_tempuh(kecepatan, jarak):\n",
        "    print('menghitung waktu tempuh')\n",
        "    return jarak / kecepatan"
      ],
      "execution_count": 510,
      "outputs": [
        {
          "output_type": "stream",
          "name": "stdout",
          "text": [
            "Writing fisika.py\n"
          ]
        }
      ]
    },
    {
      "cell_type": "markdown",
      "metadata": {
        "id": "OTqedpm7TWUA"
      },
      "source": [
        "matematika.py"
      ]
    },
    {
      "cell_type": "code",
      "metadata": {
        "id": "dN_y3wRdTZg1",
        "colab": {
          "base_uri": "https://localhost:8080/"
        },
        "outputId": "9bac746a-e223-48c4-c8b6-45db97615915"
      },
      "source": [
        "%%writefile matematika.py\n",
        "def tambah(a, b):\n",
        "    print('fungsi tambah')\n",
        "    return a + b\n",
        "\n",
        "def kurang(a, b):\n",
        "    print('fungsi kurang')\n",
        "    return a - b"
      ],
      "execution_count": 511,
      "outputs": [
        {
          "output_type": "stream",
          "name": "stdout",
          "text": [
            "Overwriting matematika.py\n"
          ]
        }
      ]
    },
    {
      "cell_type": "markdown",
      "metadata": {
        "id": "XA6gMjsL0aJe"
      },
      "source": [
        "move to `sains` directory"
      ]
    },
    {
      "cell_type": "code",
      "metadata": {
        "colab": {
          "base_uri": "https://localhost:8080/"
        },
        "id": "9y9bvg_Q0ci9",
        "outputId": "31a3cedd-2c70-42a5-dd51-4434dac290b7"
      },
      "source": [
        "import os\n",
        "import shutil\n",
        "\n",
        "files = [\"__init__.py\", \"fisika.py\", \"matematika.py\"]\n",
        "for item in files:\n",
        "  path_item = os.path.join(\"\", item)\n",
        "  despath_item = os.path.join(\"sains\", item)\n",
        "  shutil.move(path_item, despath_item)\n",
        "\n",
        "os.listdir(\"./sains\")"
      ],
      "execution_count": 512,
      "outputs": [
        {
          "output_type": "execute_result",
          "data": {
            "text/plain": [
              "['fisika.py', 'matematika.py', '__init__.py']"
            ]
          },
          "metadata": {},
          "execution_count": 512
        }
      ]
    },
    {
      "cell_type": "markdown",
      "metadata": {
        "id": "a_q1ChJ_Tg9s"
      },
      "source": [
        "main.py"
      ]
    },
    {
      "cell_type": "code",
      "metadata": {
        "id": "ypHzoTSSTiVg",
        "colab": {
          "base_uri": "https://localhost:8080/"
        },
        "outputId": "bac8c3d7-1345-45a3-9699-eef9273155c8"
      },
      "source": [
        "%%writefile main8.py\n",
        "\n",
        "from sains import tambah\n",
        "\n",
        "tambah(2,1)"
      ],
      "execution_count": 513,
      "outputs": [
        {
          "output_type": "stream",
          "name": "stdout",
          "text": [
            "Overwriting main8.py\n"
          ]
        }
      ]
    },
    {
      "cell_type": "code",
      "metadata": {
        "colab": {
          "base_uri": "https://localhost:8080/"
        },
        "id": "MxwIbGjjzD_H",
        "outputId": "b0d771e8-abe6-4bf6-d1b0-1498759673dc"
      },
      "source": [
        "!python main8.py"
      ],
      "execution_count": 514,
      "outputs": [
        {
          "output_type": "stream",
          "name": "stdout",
          "text": [
            "fungsi tambah\n"
          ]
        }
      ]
    },
    {
      "cell_type": "markdown",
      "metadata": {
        "id": "kkSqh-0YgSEZ"
      },
      "source": [
        "## **\\_\\_main\\_\\_**"
      ]
    },
    {
      "cell_type": "code",
      "metadata": {
        "id": "yr30f0-SCXwv",
        "colab": {
          "base_uri": "https://localhost:8080/"
        },
        "outputId": "e454d47c-8684-47a9-d548-1fbefffa5869"
      },
      "source": [
        "%%writefile main9.py\n",
        "#!/usr/bin/env python3 \n",
        "import sys\n",
        "\n",
        "# Variabel global untuk menyimpan data Buku\n",
        "buku = ['Matematika', 'Fisika', 'Biologi', 'Kimia']\n",
        "\n",
        "\n",
        "# fungsi untuk menampilkan semua data\n",
        "def show_data():\n",
        "    if len(buku) <= 0:\n",
        "        print(\"BELUM ADA DATA\")\n",
        "    else:\n",
        "        for indeks in range(len(buku)):\n",
        "            print(\"[%d] %s\" % (indeks, buku[indeks]))\n",
        "\n",
        "\n",
        "# fungsi untuk menambah data\n",
        "def insert_data():\n",
        "    buku_baru = input(\"Judul Buku: \")\n",
        "    buku.append(buku_baru)\n",
        "\n",
        "# fungsi untuk edit data\n",
        "def edit_data():\n",
        "    show_data()\n",
        "    indeks = int(input(\"Inputkan ID buku: \"))\n",
        "    if(indeks > len(buku)):\n",
        "        print(\"ID salah\")\n",
        "    else:\n",
        "        judul_baru = input(\"Judul baru: \")\n",
        "        buku[indeks] = judul_baru\n",
        "\n",
        "# fungsi untuk menhapus data\n",
        "def delete_data():\n",
        "    show_data()\n",
        "    indeks = int(input(\"Inputkan ID buku: \"))\n",
        "    if(indeks > len(buku)):\n",
        "        print(\"ID salah\")\n",
        "    else:\n",
        "        buku.remove(buku[indeks])\n",
        "\n",
        "# fungsi untuk menampilkan menu\n",
        "def show_menu():\n",
        "    print(\"\\n\")\n",
        "    print(\"----------- MENU ----------\")\n",
        "    print(\"[1] Show Data\")\n",
        "    print(\"[2] Insert Data\")\n",
        "    print(\"[3] Edit Data\")\n",
        "    print(\"[4] Delete Data\")\n",
        "    print(\"[5] Exit\")\n",
        "    \n",
        "    menu = int(input(\"PILIH MENU> \"))\n",
        "    print(\"\\n\")\n",
        "    \n",
        "    if menu == 1:\n",
        "        show_data()\n",
        "    elif menu == 2:\n",
        "        insert_data()\n",
        "    elif menu == 3:\n",
        "        edit_data()\n",
        "    elif menu == 4:\n",
        "        delete_data()\n",
        "    elif menu == 5:\n",
        "        exit();\n",
        "    else:\n",
        "        print(\"Salah pilih!\")\n",
        "\n",
        "\n",
        "if __name__ == \"__main__\":\n",
        "\n",
        "    while(True):\n",
        "        show_menu()"
      ],
      "execution_count": 540,
      "outputs": [
        {
          "output_type": "stream",
          "name": "stdout",
          "text": [
            "Overwriting main9.py\n"
          ]
        }
      ]
    },
    {
      "cell_type": "code",
      "metadata": {
        "colab": {
          "base_uri": "https://localhost:8080/"
        },
        "id": "t-wlgmFmAg1d",
        "outputId": "9e068ead-38bd-4936-fc24-e6e636ca9c86"
      },
      "source": [
        "!python main9.py\n",
        "\n",
        "# input instruction:\n",
        "# 1 --> show data\n",
        "# [0] Matematika\n",
        "# [1] Fisika\n",
        "# [2] Biologi\n",
        "# [3] Kimia\n",
        "\n",
        "# 2 --> insert data\n",
        "#      --> Judul Buku: AI\n",
        "# 3 --> Edit Data\n",
        "#      --> Inputkan ID buku: 4\n",
        "#      --> Judul baru: Artificial Intelligence\n",
        "# 4 --> Delete Data\n",
        "#      --> Inputkan ID buku: 4\n",
        "# 5 --> exit"
      ],
      "execution_count": 541,
      "outputs": [
        {
          "output_type": "stream",
          "name": "stdout",
          "text": [
            "\n",
            "\n",
            "----------- MENU ----------\n",
            "[1] Show Data\n",
            "[2] Insert Data\n",
            "[3] Edit Data\n",
            "[4] Delete Data\n",
            "[5] Exit\n",
            "PILIH MENU> 1\n",
            "\n",
            "\n",
            "[0] Matematika\n",
            "[1] Fisika\n",
            "[2] Biologi\n",
            "[3] Kimia\n",
            "\n",
            "\n",
            "----------- MENU ----------\n",
            "[1] Show Data\n",
            "[2] Insert Data\n",
            "[3] Edit Data\n",
            "[4] Delete Data\n",
            "[5] Exit\n",
            "PILIH MENU> 2\n",
            "\n",
            "\n",
            "Judul Buku: AI\n",
            "\n",
            "\n",
            "----------- MENU ----------\n",
            "[1] Show Data\n",
            "[2] Insert Data\n",
            "[3] Edit Data\n",
            "[4] Delete Data\n",
            "[5] Exit\n",
            "PILIH MENU> 3\n",
            "\n",
            "\n",
            "[0] Matematika\n",
            "[1] Fisika\n",
            "[2] Biologi\n",
            "[3] Kimia\n",
            "[4] AI\n",
            "Inputkan ID buku: 4\n",
            "Judul baru: Artificial Intelligence\n",
            "\n",
            "\n",
            "----------- MENU ----------\n",
            "[1] Show Data\n",
            "[2] Insert Data\n",
            "[3] Edit Data\n",
            "[4] Delete Data\n",
            "[5] Exit\n",
            "PILIH MENU> 4\n",
            "\n",
            "\n",
            "[0] Matematika\n",
            "[1] Fisika\n",
            "[2] Biologi\n",
            "[3] Kimia\n",
            "[4] Artificial Intelligence\n",
            "Inputkan ID buku: 4\n",
            "\n",
            "\n",
            "----------- MENU ----------\n",
            "[1] Show Data\n",
            "[2] Insert Data\n",
            "[3] Edit Data\n",
            "[4] Delete Data\n",
            "[5] Exit\n",
            "PILIH MENU> 5\n",
            "\n",
            "\n"
          ]
        }
      ]
    },
    {
      "cell_type": "markdown",
      "metadata": {
        "id": "bgz4owV3sgJX"
      },
      "source": [
        "## **Python Package Index**\n",
        "\n",
        "* open the Windows console (CMD or PowerShell, whatever you prefer)\n",
        "* execute the following command:\n",
        "\n",
        "```\n",
        "pip --version\n",
        "```\n",
        "\n",
        "* the absence of this message may mean that the PATH variable either incorrectly points to the location of the Python binaries, or doesn't point to it at all; for example, our PATH variable contains the following substring:\n",
        "\n",
        "```\n",
        "C:\\Program Files\\Python3\\Scripts\\;C:\\Program Files\\Python3\\;\n",
        "```\n",
        "\n",
        "* the easiest way to reconfigure the PATH variable is to reinstall Python, instructing the installer to set it for you.\n",
        "\n",
        "How to use pip\n",
        "\n",
        "Now we’re ready to ask pip what it can do for us. Let's do it – issue the following command:\n",
        "\n",
        "```\n",
        "pip help\n",
        "```\n",
        "\n",
        "If you want to know more about any of the listed operations, you can use the following form of pip invocation:\n",
        "\n",
        "```\n",
        "pip help operation\n",
        "```\n",
        "\n",
        "For example, the line:\n",
        "\n",
        "```\n",
        "pip help install\n",
        "```\n",
        "\n",
        "will show you detailed information about using and parameterizing the install command.\n",
        "\n",
        "If you want to know what Python packages have been installed so far, you can use the list operation – just like this:\n",
        "\n",
        "```\n",
        "pip list\n",
        "```\n",
        "\n",
        "The pip list isn't very informative, and it may happen that it won't satisfy your curiosity. Fortunately, there’s a command that can tell you more about any of the installed packages (note the word installed). The syntax of the command looks as follows:\n",
        "\n",
        "```\n",
        "pip show package_name\n",
        "```\n",
        "\n",
        "We’re going to use it in a slightly deceptive way – we want to convince pip to confess something about itself. This is how we do it:\n",
        "\n",
        "```\n",
        "pip show pip\n",
        "```\n",
        "\n",
        "One of these cases occurs when you want to search through PyPI in order to find a desired package. This kind of search is initiated by the following command:\n",
        "\n",
        "```\n",
        "pip search anystring\n",
        "```\n",
        "\n",
        "The anystring provided by you will be searched in:\n",
        "\n",
        "the names of all the packages;\n",
        "the summary strings of all the packages.\n",
        "Be aware of the fact that some searches may generate a real avalanche of data, so try to be as specific as possible. For example, an innocent-looking query like this one:\n",
        "\n",
        "```\n",
        "pip search pip\n",
        "```\n",
        "\n",
        "Sample\n",
        "\n",
        "If you’re a system administrator, you can install pygame using the following command:\n",
        "\n",
        "```\n",
        "pip install pygame\n",
        "```\n",
        "\n",
        "If you're not an admin, or you don't want to fatten up your OS by installing pygame system-wide, you can install it for you only:\n",
        "\n",
        "```\n",
        "pip install --user pygame\n",
        "```\n",
        "\n",
        "The `pip install` has two important additional abilities:\n",
        "\n",
        "  * it is able to update a locally installed package – e.g., if you want to make sure that you’re using the latest version of a particular package, you can run the following command:\n",
        "\n",
        "```\n",
        "pip install -U package_name\n",
        "```\n",
        "\n",
        "where `-U` means update. Note: this form of the command makes use of the `--user` option for the same purpose as presented previously;\n",
        "\n",
        "* it is able to `install a user-selected version` of a package (pip installs the newest available version by default); to achieve this goal you should use the following syntax:\n",
        "\n",
        "```\n",
        "pip install package_name==package_version\n",
        "```\n",
        "\n",
        "(note the double equals sign) e.g.,\n",
        "\n",
        "```\n",
        "pip install pygame==1.9.2\n",
        "```\n",
        "\n",
        "If any of the currently installed packages are no longer needed and you want to get rid of them, pip will be useful, too. Its uninstall command will execute all the needed steps.\n",
        "\n",
        "The required syntax is clear and simple:\n",
        "\n",
        "```\n",
        "pip uninstall package_name\n",
        "```\n",
        "\n",
        "so if you don't want pygame anymore you can execute the following command:\n",
        "\n",
        "```\n",
        "pip uninstall pygame\n",
        "```\n",
        "\n",
        "\n",
        "\n",
        "\n",
        "\n"
      ]
    },
    {
      "cell_type": "markdown",
      "metadata": {
        "id": "hcw49AJDviMZ"
      },
      "source": [
        "List of main pip activities looks as follows:\n",
        "\n",
        "* `pip help operation` - shows brief pip's description;\n",
        "* `pip list` - shows list of currently installed packages;\n",
        "* `pip show package_name` - shows package_name info including package's dependencies;\n",
        "* `pip search anystring` - searches through PyPI directories in order to find packages which name contains anystring;\n",
        "* `pip install name` - installs name system-wide (expect problems when you don't have administrative rights);\n",
        "* `pip install --user name` - install name for you only; no other your platform's user will be able to use it;\n",
        "* `pip install -U name` - updates previously installed package;\n",
        "* `pip uninstall name` - uninstalls previously installed package;"
      ]
    },
    {
      "cell_type": "markdown",
      "metadata": {
        "id": "k42Za2R5ouVA"
      },
      "source": [
        "# **Input Output File**\n",
        "\n",
        "**<h4>File Handling</h4>**\n",
        "\n",
        "Different operating systems can treat the files in different ways. For example, Windows uses a different naming convention than the one adopted in Unix/Linux systems.\n",
        "\n",
        "```\n",
        "`Windows`\n",
        "C:\\directory\\file\n",
        "\n",
        "`Linux`\n",
        "/directory/file\n",
        "```\n",
        "\n",
        "Suppose also that you want to assign a string containing the name of the file.\n",
        "\n",
        "In Unix/Linux systems, it may look as follows:\n",
        "\n",
        "```\n",
        "name = \"/dir/file\"\n",
        "```\n",
        "\n",
        "But if you try to code it for the Windows system:\n",
        "\n",
        "```\n",
        "name = \"\\dir\\file\"\n",
        "```\n",
        "\n",
        "you'll get an unpleasant surprise: either Python will generate an error, or the execution of the program will behave strangely, as if the file name has been distorted in some way.\n",
        "\n",
        "In fact, it's not strange at all, but quite obvious and natural. Python uses the \\ as an escape character (like \\n).\n",
        "\n",
        "This means that Windows file names must be written as follows:\n",
        "\n",
        "```\n",
        "name = \"\\\\dir\\\\file\"\n",
        "```\n",
        "\n",
        "Fortunately, there is also one more solution. Python is smart enough to be able to convert slashes into backslashes each time it discovers that it's required by the OS.\n",
        "\n",
        "This means that any the following assignments:\n",
        "\n",
        "```\n",
        "name = \"/dir/file\"\n",
        "name = \"c:/dir/file\"\n",
        "```\n",
        "\n",
        "will work with Windows, too.\n",
        "\n",
        "The key function for working with files in Python is the `open() function`.\n",
        "\n",
        "```\n",
        "open(file_name, mode=open_mode, encoding=text_encoding)\n",
        "```\n",
        "\n",
        "The open() function takes two parameters; filename, and mode.\n",
        "\n",
        "There are four different methods (modes) for opening a file:\n",
        "\n",
        "> \"r\" - Read - Default value. Opens a file for reading, error if the file does not exist\n",
        "\n",
        "> \"a\" - Append - Opens a file for appending, creates the file if it does not exist\n",
        "\n",
        "> \"w\" - Write - Opens a file for writing, creates the file if it does not exist\n",
        "\n",
        "> \"x\" - Create - Creates the specified file, returns an error if the file exists\n",
        "\n",
        "In addition you can specify if the file should be handled as binary or text mode\n",
        "\n",
        "> \"t\" - Text - Default value. Text mode\n",
        "\n",
        "> \"b\" - Binary - Binary mode (e.g. images)\n",
        "\n",
        "To open a file for reading it is enough to specify the name of the file:\n",
        "\n",
        "`f = open(\"demofile.txt\")`\n",
        "\n",
        "The code above is the same as:\n",
        "\n",
        "`f = open(\"demofile.txt\", \"rt\")`\n",
        "\n",
        "Because \"r\" for read, and \"t\" for text are the default values, you do not need to specify them.\n",
        "\n",
        "**<h4>Open a File on the Server</h4>**\n",
        "\n",
        "`f = open(\"demofile.txt\", \"r\")`\n",
        "\n",
        "`print(f.read())`\n",
        "\n",
        "If the file is located in a different location, you will have to specify the file path\n",
        "\n",
        "`f = open(\"D:\\\\myfiles\\welcome.txt\", \"r\")`\n",
        "\n",
        "`print(f.read())`\n",
        "\n",
        "**<h4>Read Only Parts of the File</h4>**\n",
        "\n",
        "`f = open(\"demofile.txt\", \"r\")`\n",
        "\n",
        "`print(f.read(5))`\n",
        "\n",
        "**<h4>Read Lines</h4>**\n",
        "\n",
        "Read one line of the file:\n",
        "\n",
        "`f = open(\"demofile.txt\", \"r\")`\n",
        "\n",
        "`print(f.readline())`\n",
        "\n",
        "By calling readline() two times, you can read the two first lines:\n",
        "\n",
        "Read two lines of the file:\n",
        "\n",
        "`f = open(\"demofile.txt\", \"r\")`\n",
        "\n",
        "`print(f.readline())`\n",
        "\n",
        "`print(f.readline())`\n",
        "\n",
        "* `read(number)` – reads the number characters/bytes from the file and returns them as a string; is able to read the whole file at once;\n",
        "* `readline()` – reads a single line from the text file;\n",
        "* `readlines(number)` – reads the number lines from the text file; is able to read all lines at once;\n",
        "* `readinto(bytearray)` – reads the bytes from the file and fills the bytearray with them;\n",
        "\n",
        "Loop through the file line by line:\n",
        "\n",
        "`f = open(\"demofile.txt\", \"r\")`\n",
        "\n",
        "`for x in f :`\n",
        "\n",
        "`--print(x)`\n",
        "\n",
        "**<h4>Close Files</h4>**\n",
        "\n",
        "`f = open(\"demofile.txt\", \"r\")`\n",
        "\n",
        "`print(f.readline())`\n",
        "\n",
        "`f.close()`\n",
        "\n",
        "**<h4>Create a New File</h4>**\n",
        "\n",
        "To create a new file in Python, use the open() method, with one of the following parameters:\n",
        "\n",
        "> \"x\" - Create - will create a file, returns an error if the file exist\n",
        "\n",
        "> \"a\" - Append - will create a file if the specified file does not exist\n",
        "\n",
        "> \"w\" - Write - will create a file if the specified file does not exist\n",
        "\n",
        "Create a file called \"myfile.txt\":\n",
        "\n",
        "`f = open(\"myfile.txt\", \"x\")`\n",
        "\n",
        "Create a new file if it does not exist:\n",
        "\n",
        "`f = open(\"myfile.txt\", \"w\")`\n",
        "\n",
        "**<h4>Write to an Existing File</h4>**\n",
        "\n",
        "To write to an existing file, you must add a parameter to the open() function:\n",
        "\n",
        "\"a\" - Append - will append to the end of the file\n",
        "\n",
        "\"w\" - Write - will overwrite any existing content\n",
        "\n",
        "Open the file \"demofile2.txt\" and append content to the file:\n",
        "\n",
        "`f = open(\"demofile2.txt\", \"a\")`\n",
        "\n",
        "`f.write(\"Now the file has more content!\")`\n",
        "\n",
        "`f.close()`\n",
        "\n",
        "\n",
        "`f = open(\"demofile2.txt\", \"r\")`\n",
        "\n",
        "`print(f.read())`\n",
        "\n",
        "Open the file \"demofile3.txt\" and overwrite the content:\n",
        "\n",
        "`f = open(\"demofile3.txt\", \"w\")`\n",
        "\n",
        "`f.write(\"Woops! I have deleted the content!\")`\n",
        "\n",
        "`f.close()`\n",
        "\n",
        "`f = open(\"demofile3.txt\", \"r\")`\n",
        "\n",
        "`print(f.read())`\n",
        "\n",
        "* `write(string)` – writes a string to a text file;\n",
        "* `write(bytearray)` – writes all the bytes of bytearray to a file;\n",
        "\n",
        "**<h4>Delete a File</h4>**\n",
        "\n",
        "To delete a file, you must import the OS module, and run its os.remove() function:\n",
        "\n",
        "`import os`\n",
        "\n",
        "`os.remove(\"demofile.txt\")`\n",
        "\n",
        "**<h4>Check if File exist</h4>**\n",
        "\n",
        "`import os`\n",
        "\n",
        "`if os.path.exists(\"demofile.txt\"):`\n",
        "\n",
        "`--os.remove(\"demofile.txt\")`\n",
        "\n",
        "`else:`\n",
        "\n",
        "`--print(\"The file does not exist\")`\n",
        "\n",
        "**<h4>Delete Folder</h4>**\n",
        "\n",
        "`import os`\n",
        "\n",
        "`os.rmdir(\"myfolder\")`\n",
        "\n",
        "\n"
      ]
    },
    {
      "cell_type": "code",
      "metadata": {
        "id": "2ieVZwmsozLB",
        "colab": {
          "base_uri": "https://localhost:8080/"
        },
        "outputId": "8ffec269-ccd0-4390-9b43-94e08908a8b0"
      },
      "source": [
        "# input output file\n",
        "\n",
        "\n",
        "\n",
        "\"\"\"\n",
        "w = write mode / mode menulis dan menghapus file lama, jika file tidak ada maka akan dibuat file baru\n",
        "r = read mode only / hanya bisa baca\n",
        "a = appending mode / menambahkan data di akhir baris\n",
        "r+ = write and read mode\n",
        "\"\"\"\n",
        "# membuat file text\n",
        "\n",
        "file = open(\"data.txt\",'w')\n",
        "\n",
        "file.write(\"ini adalah data text yang dibuat dengan menggunakan python\")\n",
        "file.write(\"\\nini baris kedua\")\n",
        "file.write(\"\\nini baris ketiga\")\n",
        "file.write(\"\\nini baris keempat\")\n",
        "\n",
        "file.close()\n",
        "\n",
        "# membaca file text\n",
        "\n",
        "file2 = open(\"data.txt\",'r')\n",
        "\n",
        "#print(file2.read(10))\n",
        "\n",
        "print(file2.readline())\n",
        "\n",
        "file2.close()\n",
        "\n",
        "\n",
        "# appending mode\n",
        "\n",
        "file3 = open(\"data.txt\", 'a')\n",
        "\n",
        "file3.write(\"\\nbaris ini dibuat dengan menggunakan mode append\")\n",
        "\n",
        "file3.close()"
      ],
      "execution_count": 517,
      "outputs": [
        {
          "output_type": "stream",
          "name": "stdout",
          "text": [
            "ini adalah data text yang dibuat dengan menggunakan python\n",
            "\n"
          ]
        }
      ]
    },
    {
      "cell_type": "markdown",
      "metadata": {
        "id": "gEXn1dLH8B7C"
      },
      "source": [
        "# **Exceptions**\n",
        "\n",
        "```\n",
        "ValueError: math domain error \n",
        "```\n",
        "```\n",
        "Traceback (most recent call last):\n",
        "File \"div.py\", line 2, in \n",
        "value /= 0\n",
        "ZeroDivisionError: division by zero\n",
        "```\n",
        "\n",
        "This exception error is called ZeroDivisionError.\n",
        "\n",
        "```\n",
        "Traceback (most recent call last):\n",
        "File \"lst.py\", line 2, in \n",
        "x = list[0]\n",
        "IndexError: list index out of range\n",
        "```\n",
        "\n",
        "This is the IndexError.\n"
      ]
    },
    {
      "cell_type": "markdown",
      "metadata": {
        "id": "qjUmhfA-oyeC"
      },
      "source": [
        "# **Try and Exception**\n",
        "\n",
        "Ada setidaknya dua jenis kesalahan berdasarkan kejadiannya: \n",
        "\n",
        "* Kesalahan sintaksis (syntax errors) atau sering disebut kesalahan penguraian (parsing errors)\n",
        "\n",
        "* Pengecualian (exceptions) atau sering disebut kesalahan saat beroperasi (runtime errors)\n",
        "\n",
        "Kesalahan sintaksis terjadi ketika Python tidak dapat mengerti apa yang Anda perintahkan. Sedangkan pengecualian (kesalahan saat beroperasi) terjadi ketika Python mengerti apa yang Anda perintahkan tetapi mendapatkan masalah saat mengikuti yang Anda perintahkan (terjadi saat aplikasi sudah mulai beroperasi).\n",
        "\n",
        "Kesalahan Sintaksis -> indentasi, invalid syntax\n",
        "\n",
        "Pengecualian -> is not define, type input error\n",
        "\n",
        "The `try` block lets you test a block of code for errors.\n",
        "\n",
        "The `except` block lets you handle the error.\n",
        "\n",
        "The `finally` block lets you execute code, regardless of the result of the try- and except blocks.\n",
        "\n",
        "![tryexceptionteori.png](https://raw.githubusercontent.com/nurimammasri/Wooky-Python/main/image/tryexceptionteori.png)\n",
        "\n"
      ]
    },
    {
      "cell_type": "code",
      "metadata": {
        "id": "2t98Auukis8H",
        "colab": {
          "base_uri": "https://localhost:8080/"
        },
        "outputId": "77e1d84e-456b-4f99-de2c-9c955549a238"
      },
      "source": [
        "#The try block will generate an error, because x is not defined:\n",
        "\n",
        "try:\n",
        "  print(z)\n",
        "except:\n",
        "  print(\"An exception occurred\")\n"
      ],
      "execution_count": 518,
      "outputs": [
        {
          "output_type": "stream",
          "name": "stdout",
          "text": [
            "{'banana', 'cherry', 'microsoft', 'apple', 'google'}\n"
          ]
        }
      ]
    },
    {
      "cell_type": "markdown",
      "metadata": {
        "id": "WSg_lY6Iixjh"
      },
      "source": [
        "You can define as many exception blocks as you want, e.g. if you want to execute a special block of code for a special kind of error:"
      ]
    },
    {
      "cell_type": "code",
      "metadata": {
        "id": "wXxewZyJi0OK",
        "colab": {
          "base_uri": "https://localhost:8080/"
        },
        "outputId": "268ef78a-ded7-45b2-bd08-de4891496851"
      },
      "source": [
        "#The try block will generate a NameError, because x is not defined:\n",
        "\n",
        "try:\n",
        "  print(z)\n",
        "except NameError:\n",
        "  print(\"Variable x is not defined\")\n",
        "except:\n",
        "  print(\"Something else went wrong\")\n"
      ],
      "execution_count": 519,
      "outputs": [
        {
          "output_type": "stream",
          "name": "stdout",
          "text": [
            "{'banana', 'cherry', 'microsoft', 'apple', 'google'}\n"
          ]
        }
      ]
    },
    {
      "cell_type": "code",
      "metadata": {
        "colab": {
          "base_uri": "https://localhost:8080/"
        },
        "id": "Rn16P1XP1mSO",
        "outputId": "2453099f-d42e-4324-a0b2-d548587f9d2e"
      },
      "source": [
        "nol = 0\n",
        "try:\n",
        "    x = 1 / nol\n",
        "    print(x)\n",
        "except ZeroDivisionError:\n",
        "    print('tidak bisa membagi angka dengan nilai nol')"
      ],
      "execution_count": 520,
      "outputs": [
        {
          "output_type": "stream",
          "name": "stdout",
          "text": [
            "tidak bisa membagi angka dengan nilai nol\n"
          ]
        }
      ]
    },
    {
      "cell_type": "code",
      "metadata": {
        "id": "k1vQZvXxpHTJ",
        "colab": {
          "base_uri": "https://localhost:8080/"
        },
        "outputId": "3629eaf9-92f9-4b72-910e-436253eedd52"
      },
      "source": [
        "try:\n",
        "    with open('contoh_tidak_ada.py') as file:                   \n",
        "        print(file.read())                          \n",
        "except (FileNotFoundError, ):\n",
        "    print('file tidak ditemukan')"
      ],
      "execution_count": 521,
      "outputs": [
        {
          "output_type": "stream",
          "name": "stdout",
          "text": [
            "file tidak ditemukan\n"
          ]
        }
      ]
    },
    {
      "cell_type": "code",
      "metadata": {
        "colab": {
          "base_uri": "https://localhost:8080/"
        },
        "id": "WnYBfzDz8mmn",
        "outputId": "87cc0995-928b-4778-b010-cd38c8660085"
      },
      "source": [
        "try:\n",
        "    x = int(input(\"Enter a number: \"))\n",
        "    y = 1 / x\n",
        "    print(y)\n",
        "except ZeroDivisionError:\n",
        "    print(\"You cannot divide by zero, sorry.\")\n",
        "except ValueError:\n",
        "    print(\"You must enter an integer value.\")\n",
        "except:\n",
        "    print(\"Oh dear, something went wrong...\")\n",
        "\n",
        "print(\"THE END.\")\n"
      ],
      "execution_count": 522,
      "outputs": [
        {
          "output_type": "stream",
          "name": "stdout",
          "text": [
            "Enter a number: 0\n",
            "You cannot divide by zero, sorry.\n",
            "THE END.\n"
          ]
        }
      ]
    },
    {
      "cell_type": "code",
      "metadata": {
        "id": "57V2WGrPozno",
        "colab": {
          "base_uri": "https://localhost:8080/"
        },
        "outputId": "0b060b4b-7b37-45b6-9840-6096302e6b23"
      },
      "source": [
        "print(\"ini adalah program pembagian\")\n",
        "\n",
        "while True:\n",
        "    try:\n",
        "        # import panda\n",
        "        penyebut = int(input(\"masukan angka penyebut: \"))\n",
        "        pembilang = int(input(\"masukan angka pembilang: \"))\n",
        "        hasil = penyebut/pembilang\n",
        "        break\n",
        "    except ValueError:\n",
        "        print(\"yang anda masukan bukan angka\\n\")\n",
        "    except ZeroDivisionError:\n",
        "        print(\"angka pembilang yang anda masukan adalah nol, pilih yang lain ya bro/sist\\n\")\n",
        "    except Exception as err:\n",
        "        print(err)\n",
        "\n",
        "\"\"\"\n",
        "    type of exception errors:\n",
        "    1. IOError\n",
        "    2. ImportError\n",
        "    3. ValueError\n",
        "    4. Division by zero\n",
        "    5. KeyboardInterupted\n",
        "    6. EOFError\n",
        "\"\"\"\n",
        "\n",
        "print(\"berhasil, hasil pembagian adalah: \", hasil)"
      ],
      "execution_count": 523,
      "outputs": [
        {
          "output_type": "stream",
          "name": "stdout",
          "text": [
            "ini adalah program pembagian\n",
            "masukan angka penyebut: sss\n",
            "yang anda masukan bukan angka\n",
            "\n",
            "masukan angka penyebut: 0\n",
            "masukan angka pembilang: 0\n",
            "angka pembilang yang anda masukan adalah nol, pilih yang lain ya bro/sist\n",
            "\n",
            "masukan angka penyebut: 12\n",
            "masukan angka pembilang: 2\n",
            "berhasil, hasil pembagian adalah:  6.0\n"
          ]
        }
      ]
    },
    {
      "cell_type": "code",
      "metadata": {
        "id": "Yf_NisVzud4-",
        "colab": {
          "base_uri": "https://localhost:8080/"
        },
        "outputId": "e65878c3-bca5-47ff-e556-df633aacd241"
      },
      "source": [
        "try:\n",
        "  import panda\n",
        "except ImportError:\n",
        "  print(\"gak ada modulnya bro\")"
      ],
      "execution_count": 524,
      "outputs": [
        {
          "output_type": "stream",
          "name": "stdout",
          "text": [
            "gak ada modulnya bro\n"
          ]
        }
      ]
    },
    {
      "cell_type": "code",
      "metadata": {
        "id": "umzNyVLbpW5p",
        "colab": {
          "base_uri": "https://localhost:8080/"
        },
        "outputId": "3a8547c8-b7ed-458f-ecaf-aa3583eeadec"
      },
      "source": [
        "# Contoh Exception kunci tidak ditemukan di DICTIONARY\n",
        "d = {'ratarata': '10.0'}\n",
        "try:\n",
        "    print('rata-rata: {}'.format(d['rata_rata']))\n",
        "except KeyError:                                 \n",
        "    print('kunci tidak ditemukan di dictionary')\n",
        "except ValueError:              \n",
        "    print('nilai tidak sesuai')"
      ],
      "execution_count": 525,
      "outputs": [
        {
          "output_type": "stream",
          "name": "stdout",
          "text": [
            "kunci tidak ditemukan di dictionary\n"
          ]
        }
      ]
    },
    {
      "cell_type": "code",
      "metadata": {
        "id": "-_qxDxWlpbao",
        "colab": {
          "base_uri": "https://localhost:8080/"
        },
        "outputId": "9b014fde-4bb3-4082-c192-e352b96174b1"
      },
      "source": [
        "# Contoh Exception tipe tidak sesuai di DICTIONARY\n",
        "d = {'ratarata': '10.0'}\n",
        "try:\n",
        "    print('rata-rata: {}'.format(d['ratarata']/3))\n",
        "except KeyError:                                 \n",
        "    print('kunci tidak ditemukan di dictionary')\n",
        "except (ValueError, TypeError):\n",
        "    print('nilai atau tipe tidak sesuai')"
      ],
      "execution_count": 526,
      "outputs": [
        {
          "output_type": "stream",
          "name": "stdout",
          "text": [
            "nilai atau tipe tidak sesuai\n"
          ]
        }
      ]
    },
    {
      "cell_type": "code",
      "metadata": {
        "id": "HG73N7nipqYm",
        "colab": {
          "base_uri": "https://localhost:8080/"
        },
        "outputId": "b2053543-ce17-40fb-bf20-fa40f5740aff"
      },
      "source": [
        "# Contoh Exception tipe konversi tidak cocok di DICTIONARY\n",
        "d = {'ratarata': '10.0'}\n",
        "try:\n",
        "    print('pembulatan rata-rata: {}'.format(int(d['ratarata'])))\n",
        "except (ValueError, TypeError) as e:         \n",
        "    print('penangan kesalahan: {}'.format(e))"
      ],
      "execution_count": 527,
      "outputs": [
        {
          "output_type": "stream",
          "name": "stdout",
          "text": [
            "penangan kesalahan: invalid literal for int() with base 10: '10.0'\n"
          ]
        }
      ]
    },
    {
      "cell_type": "code",
      "metadata": {
        "colab": {
          "base_uri": "https://localhost:8080/"
        },
        "id": "S-WbmQwcBvMP",
        "outputId": "5bc0646b-5438-4a5c-b1c0-1224eefdfa26"
      },
      "source": [
        "class MyZeroDivisionError(ZeroDivisionError):\t\n",
        "    pass\n",
        "\n",
        "\n",
        "def do_the_division(mine):\n",
        "    if mine:\n",
        "        raise MyZeroDivisionError(\"some worse news\")\n",
        "    else:\t\t\n",
        "        raise ZeroDivisionError(\"some bad news\")\n",
        "\n",
        "\n",
        "for mode in [False, True]:\n",
        "    try:\n",
        "        do_the_division(mode)\n",
        "    except ZeroDivisionError:\n",
        "        print('Division by zero')\n",
        "\n",
        "for mode in [False, True]:\n",
        "    try:\n",
        "        do_the_division(mode)\n",
        "    except MyZeroDivisionError:\n",
        "        print('My division by zero')\n",
        "    except ZeroDivisionError:\n",
        "        print('Original division by zero')"
      ],
      "execution_count": 528,
      "outputs": [
        {
          "output_type": "stream",
          "name": "stdout",
          "text": [
            "Division by zero\n",
            "Division by zero\n",
            "Original division by zero\n",
            "My division by zero\n"
          ]
        }
      ]
    },
    {
      "cell_type": "markdown",
      "metadata": {
        "id": "WThrtixhkE9N"
      },
      "source": [
        "**<h4>*Else*</h4>**\n",
        "\n",
        "if no errors were raise"
      ]
    },
    {
      "cell_type": "code",
      "metadata": {
        "id": "19KAH089kRqF",
        "colab": {
          "base_uri": "https://localhost:8080/"
        },
        "outputId": "9cf3e2ac-6328-4d73-f402-0d4ca1496b92"
      },
      "source": [
        "try:\n",
        "  print(\"Hello\")\n",
        "except:\n",
        "  print(\"Something went wrong\")\n",
        "else:\n",
        "  print(\"Nothing went wrong\")"
      ],
      "execution_count": 529,
      "outputs": [
        {
          "output_type": "stream",
          "name": "stdout",
          "text": [
            "Hello\n",
            "Nothing went wrong\n"
          ]
        }
      ]
    },
    {
      "cell_type": "markdown",
      "metadata": {
        "id": "vi-brXIhkVyi"
      },
      "source": [
        "**<h4>*Finally*</h4>**\n",
        "\n",
        "The finally block, if specified, will be executed regardless if the try block raises an error or not."
      ]
    },
    {
      "cell_type": "code",
      "metadata": {
        "id": "9iT2px1MkVLH",
        "colab": {
          "base_uri": "https://localhost:8080/"
        },
        "outputId": "1e207e8c-ccb3-4a16-c318-2acd33151cc6"
      },
      "source": [
        "try:\n",
        "  print(z)\n",
        "except:\n",
        "  print(\"Something went wrong\")\n",
        "finally:\n",
        "  print(\"The 'try except' is finished\")"
      ],
      "execution_count": 530,
      "outputs": [
        {
          "output_type": "stream",
          "name": "stdout",
          "text": [
            "{'banana', 'cherry', 'microsoft', 'apple', 'google'}\n",
            "The 'try except' is finished\n"
          ]
        }
      ]
    },
    {
      "cell_type": "code",
      "metadata": {
        "id": "Y-L397relyQx"
      },
      "source": [
        "# This can be useful to close objects and clean up resources:\n",
        "\n",
        "# try:\n",
        "#   f = open(\"demofile.txt\")\n",
        "#   f.write(\"Lorum Ipsum\")\n",
        "# except:\n",
        "#   print(\"Something went wrong when writing to the file\")\n",
        "# finally:\n",
        "#   f.close()"
      ],
      "execution_count": 531,
      "outputs": []
    },
    {
      "cell_type": "code",
      "metadata": {
        "colab": {
          "base_uri": "https://localhost:8080/"
        },
        "id": "JqmY6hgxBcon",
        "outputId": "0ced14d6-8532-49db-b0c5-0ebb9827dfab"
      },
      "source": [
        "def reciprocal(n):\n",
        "    try:\n",
        "        n = 1 / n\n",
        "    except ZeroDivisionError:\n",
        "        print(\"Division failed\")\n",
        "        n = None\n",
        "    else:\n",
        "        print(\"Everything went fine\")\n",
        "    finally:\n",
        "        print(\"It's time to say goodbye\")\n",
        "        return n\n",
        "\n",
        "\n",
        "print(reciprocal(2))\n",
        "print(reciprocal(0))"
      ],
      "execution_count": 532,
      "outputs": [
        {
          "output_type": "stream",
          "name": "stdout",
          "text": [
            "Everything went fine\n",
            "It's time to say goodbye\n",
            "0.5\n",
            "Division failed\n",
            "It's time to say goodbye\n",
            "None\n"
          ]
        }
      ]
    },
    {
      "cell_type": "markdown",
      "metadata": {
        "id": "pwGD4FNin-WY"
      },
      "source": [
        "**<h4>*Raise*</h4>**"
      ]
    },
    {
      "cell_type": "code",
      "metadata": {
        "id": "0gSz9fGzoceH"
      },
      "source": [
        "# Raise an error and stop the program if x is lower than 0:\n",
        "\n",
        "# x = -1\n",
        "\n",
        "# if x < 0:\n",
        "#   raise Exception(\"Sorry, no numbers below zero\")"
      ],
      "execution_count": 533,
      "outputs": []
    },
    {
      "cell_type": "code",
      "metadata": {
        "colab": {
          "base_uri": "https://localhost:8080/"
        },
        "id": "LyM7AvRf9WM-",
        "outputId": "50369ab2-9147-4ec3-fc8a-b685a746d24c"
      },
      "source": [
        "def bad_fun(n):\n",
        "    raise ZeroDivisionError\n",
        "\n",
        "try:\n",
        "    bad_fun(0)\n",
        "except ArithmeticError:\n",
        "    print(\"What happened? An error?\")\n",
        "\n",
        "print(\"THE END.\")"
      ],
      "execution_count": 534,
      "outputs": [
        {
          "output_type": "stream",
          "name": "stdout",
          "text": [
            "What happened? An error?\n",
            "THE END.\n"
          ]
        }
      ]
    },
    {
      "cell_type": "code",
      "metadata": {
        "colab": {
          "base_uri": "https://localhost:8080/"
        },
        "id": "Gb2RSJYm9iiD",
        "outputId": "a81edb31-5df6-4399-bb0d-35e2025cc2e6"
      },
      "source": [
        "def bad_fun(n):\n",
        "    try:\n",
        "        return n / 0\n",
        "    except:\n",
        "        print(\"I did it again!\")\n",
        "        raise\n",
        "\n",
        "try:\n",
        "    bad_fun(0)\n",
        "except ArithmeticError:\n",
        "    print(\"I see!\")\n",
        "\n",
        "print(\"THE END.\")"
      ],
      "execution_count": 535,
      "outputs": [
        {
          "output_type": "stream",
          "name": "stdout",
          "text": [
            "I did it again!\n",
            "I see!\n",
            "THE END.\n"
          ]
        }
      ]
    },
    {
      "cell_type": "markdown",
      "metadata": {
        "id": "nePmID_eB7SK"
      },
      "source": [
        "**<h4>*Build your own exception structure*</h4>**"
      ]
    },
    {
      "cell_type": "code",
      "metadata": {
        "colab": {
          "base_uri": "https://localhost:8080/"
        },
        "id": "YKDuL1pxB3Sh",
        "outputId": "ca4a5357-f447-4b98-8466-8afe93919ed1"
      },
      "source": [
        "class PizzaError(Exception):\n",
        "    def __init__(self, pizza, message):\n",
        "        Exception.__init__(self, message)\n",
        "        self.pizza = pizza\n",
        "\n",
        "\n",
        "class TooMuchCheeseError(PizzaError):\n",
        "    def __init__(self, pizza, cheese, message):\n",
        "        PizzaError.__init__(self, pizza, message)\n",
        "        self.cheese = cheese\n",
        "\n",
        "\n",
        "def make_pizza(pizza, cheese):\n",
        "    if pizza not in ['margherita', 'capricciosa', 'calzone']:\n",
        "        raise PizzaError(pizza, \"no such pizza on the menu\")\n",
        "    if cheese > 100:\n",
        "        raise TooMuchCheeseError(pizza, cheese, \"too much cheese\")\n",
        "    print(\"Pizza ready!\")\n",
        "\n",
        "for (pz, ch) in [('calzone', 0), ('margherita', 110), ('mafia', 20)]:\n",
        "    try:\n",
        "        make_pizza(pz, ch)\n",
        "    except TooMuchCheeseError as tmce:\n",
        "        print(tmce, ':', tmce.cheese)\n",
        "    except PizzaError as pe:\n",
        "        print(pe, ':', pe.pizza)\n"
      ],
      "execution_count": 536,
      "outputs": [
        {
          "output_type": "stream",
          "name": "stdout",
          "text": [
            "Pizza ready!\n",
            "too much cheese : 110\n",
            "no such pizza on the menu : mafia\n"
          ]
        }
      ]
    }
  ]
}