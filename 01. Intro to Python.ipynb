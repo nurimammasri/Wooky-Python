{
  "nbformat": 4,
  "nbformat_minor": 0,
  "metadata": {
    "colab": {
      "name": "01. Intro to Python.ipynb",
      "provenance": [],
      "collapsed_sections": []
    },
    "kernelspec": {
      "name": "python3",
      "display_name": "Python 3"
    }
  },
  "cells": [
    {
      "cell_type": "markdown",
      "metadata": {
        "id": "WVqS48H0Kh1J"
      },
      "source": [
        "<a href=\"https://colab.research.google.com/github/nurimammasri/Wooky-Python/blob/main/01.%20Intro%20to%20Python.ipynb\" target=\"_parent\"><img src=\"https://colab.research.google.com/assets/colab-badge.svg\" alt=\"Open In Colab\"/></a>"
      ]
    },
    {
      "cell_type": "markdown",
      "metadata": {
        "id": "wS3irTnwu04i"
      },
      "source": [
        "***Wooky***\n",
        "\n",
        "https://blog.sanbercode.com/docs/kurikulum-python-data-science/pendahuluan/\n",
        "\n",
        "password : IMDS2020\n",
        "# **Introduction to Python**\n",
        "\n",
        "This colab will cover some introduction to Python Programming Language : \n",
        "- How to output a text\n",
        "- Comment in Python\n",
        "- Variables in Python\n",
        "- Casting\n",
        "- String\n",
        "- Operators\n",
        "- If - Else\n",
        "- Looping\n",
        "- Function\n",
        "- Data Structure in Python\n",
        "\n",
        "\n",
        "[Python Dunia Ilkom](https://www.duniailkom.com/tutorial-belajar-bahasa-pemrograman-python-untuk-pemula/)\n",
        "\n",
        "[Youtube Kelas Terbuka](https://www.youtube.com/playlist?list=PLZS-MHyEIRo59lUBwU-XHH7Ymmb04ffOY)\n",
        "\n",
        "[Python Dunia Ilkom](https://www.duniailkom.com/tutorial-belajar-bahasa-pemrograman-python-untuk-pemula/)\n",
        "\n",
        "[Belajar Python](https://belajarpython.com/tutorial/apa-itu-python)\n",
        "\n",
        "[Tutorials Point Python](https://www.tutorialspoint.com/python/index.htm)\n",
        "\n",
        "[Petani Kode Python](https://www.petanikode.com/tutorial/python/)\n",
        "\n",
        "Bahasa Pemrograman Python adalah interpreted high-level programming language for general-purpose programming. Terjemahan bebasnya: Python adalah bahasa pemrograman tingkat tinggi (high-level programming language), berjalan dengan sistem interpreted, dan bisa dipakai untuk berbagai jenis tujuan (general-purpose).\n",
        "\n",
        "Sebutan bahasa pemrograman tingkat tinggi merujuk level kedekatan sebuah bahasa pemrograman ke kode-kode listrik yang dipakai komputer. Sebuah bahasa pemrograman disebut sebagai bahasa pemrograman tingkat tinggi (high-level programming language) karena perintah atau kode program yang dipakai sudah mirip dengan bahasa manusia (bahasa inggris).\n",
        "\n",
        "\n",
        "Python adalah bahasa pemrograman interpretatif multiguna. Tidak seperti bahasa lain yang susah untuk dibaca dan dipahami, python lebih menekankan pada keterbacaan kode agar lebih mudah untuk memahami sintaks. Hal ini membuat Python sangat mudah dipelajari baik untuk pemula maupun untuk yang sudah menguasai bahasa pemrograman lain.\n",
        "\n",
        "Bahasa ini muncul pertama kali pada tahun 1991, dirancang oleh seorang bernama Guido van Rossum. Sampai saat ini Python masih dikembangkan oleh Python Software Foundation. Bahasa Python mendukung hampir semua sistem operasi, bahkan untuk sistem operasi Linux, hampir semua distronya sudah menyertakan Python di dalamnya.\n",
        "\n",
        "Dengan kode yang simpel dan mudah diimplementasikan, seorang programmer dapat lebih mengutamakan pengembangan aplikasi yang dibuat, bukan malah sibuk mencari syntax error.\n",
        "\n",
        "Python menggunakan metode pemrosesan interpreted, dimana kode program akan diproses baris per baris langsung dari kode program (tidak butuh proses compile)."
      ]
    },
    {
      "cell_type": "markdown",
      "metadata": {
        "id": "klJjB0nNfNSK"
      },
      "source": [
        "# **Cara Kerja Program dan Bytecode**\n",
        "\n",
        "cara menjalankan \n",
        "\n",
        "> python Main.py\n",
        "\n",
        "> python -m py_compile Main.py \n",
        "\n",
        "Maka akan ada folder baru _ _pycache_ _\n",
        "\n",
        "\n",
        "Atau bisa mengguanakan IDLE dan Ipython atau notebook (ipynb)\n",
        "\n",
        "\n",
        "Python -> Bahasa Pemrograman -> Interpreter\n",
        "\n",
        "Source Code\n",
        "\n",
        "![carakerjapython.png](https://raw.githubusercontent.com/nurimammasri/Wooky-Python/main/image/carakerjapython.png)\n"
      ]
    },
    {
      "cell_type": "markdown",
      "metadata": {
        "id": "W4ECPy3uWSIT"
      },
      "source": [
        "# **Instalasi Python**\n",
        "\n",
        "Sebelum Anda menggunakan Python, Anda harus menginstalnya terlebih dahulu di sistem operasi komputer Anda. Saat ini Python memiliki 2 versi yang berbeda, yaitu Python versi 3.4.3 dan Python versi 2.7.10. Disini kita akan belajar bahasa pemrograman Python menggunakan versi terbaru 3.4.3.\n",
        "\n",
        "Cara menginstal python sangat mudah, ikuti panduan dibawah ini. Dibawah adalah panduan cara instal python di platform Linux, Windows dan Mac OS.\\\n",
        "\n",
        "***Linux***\n",
        "\n",
        "1. Buka browser, kunjungi http://www.python.org/downloads/source/\n",
        "\n",
        "2. Download versi terbaru Python berbentuk file zip untuk Unix/Linux\n",
        "\n",
        "3. Ekstrak file zip yang baru saja di download\n",
        "\n",
        "4. Edit file Modules/Setup jika Anda ingin kostumisasi Python\n",
        "\n",
        "5. Jalankan ./configure script\n",
        "\n",
        "6. make\n",
        "\n",
        "7. make install\n",
        "\n",
        "Langkah ini akan menginstal Python di lokasi standar `/usr/local/bin` dan library di `/usr/local/lib/pythonXX` dimana XX adalah versi terbaru Python yang anda gunakan.\n",
        "\n",
        "> Untuk beberapa distro (distribution store) dari sistem operasi linux sudah terinstal Python di dalamnya. Jadi Anda tidak perlu menginstalnya lagi.\n",
        "\n",
        "\n",
        "***Windows***\n",
        "\n",
        "1. Buka browser, kunjungi http://www.python.org/downloads/windows/\n",
        "\n",
        "2. ATAU, klik direct link https://www.python.org/ftp/python/3.8.1/python-3.8.1.exe\n",
        "\n",
        "3. Buka (klik 2x) file installer python yang baru saja di download\n",
        "\n",
        "4. Ikuti langkah instalasi sampai selesai\n",
        "\n",
        "***Mac OS***\n",
        "\n",
        "1. Buka browser, kunjungi http://www.python.org/download/mac/\n",
        "\n",
        "2. Download versi terbaru Python untuk Macintosh\n",
        "\n",
        "3. Buka file yang baru saja di download\n",
        "Ikuti langkah instalasi sampai selesai\n",
        "\n",
        "To check if you have python installed on a Windows PC, search in the start bar for Python or run the following on the Command Line (cmd.exe):\n",
        "\n",
        "`python --version`\n",
        "\n",
        "Python is an interpreted programming language, this means that as a developer you write Python (.py) files in a text editor and then put those files into the python interpreter to be executed.\n",
        "\n",
        "The way to run a python file is like this on the command line:\n",
        "\n",
        "`python helloworld.py`\n",
        "\n",
        "The Python Command Line\n",
        "\n",
        "`python` or `py`\n",
        "\n",
        "`ipython`\n",
        "\n",
        "`exit()` -> to exit"
      ]
    },
    {
      "cell_type": "markdown",
      "metadata": {
        "id": "tTC9AL_h9a42"
      },
      "source": [
        "* IDLE (Python 3.7) -> Script and Interactive Mode\n",
        "* Python 3.7\n",
        "* Python 3.7 Manual\n",
        "* Python 3.7 Module Docs\n",
        "\n",
        "![Menu-Python-di-Windows.jpg](https://raw.githubusercontent.com/nurimammasri/Wooky-Python/main/image/Menu-Python-di-Windows.jpg)\n",
        "\n",
        "**<h4>Interactive Mode dan Script Mode Python</h4>**\n",
        "\n",
        "**Interactive Mode**\n",
        "\n",
        "Karena Python di proses oleh interpreter, kita bisa menulis kode program Python baris per baris seperti yang sudah di praktekkan dalam tutorial sebelumnya. Cara ini dikenal juga sebagai interactive mode atau immediate mode, dimana setiap perintah akan langsung di proses begitu tombol Enter ditekan. Interactive mode python sangat praktis dan cocok dipakai untuk kode program python yang singkat.\n",
        "\n",
        "![Cara-menjalankan-perintah-python-dari-cmd-Windows.png](https://raw.githubusercontent.com/nurimammasri/Wooky-Python/main/image/Cara-menjalankan-perintah-python-dari-cmd-Windows.png)\n",
        "\n",
        "Script Mode\n",
        "**bold text**\n",
        "script mode. Di sini kode python akan diproses seperti kebanyakan bahasa pemrograman lain. Kita membuat sebuah file terlebih dahulu, mengetik beberapa (atau ratusan) baris kode program, menyimpannya dan menjalankan file tersebut.\n",
        "\n"
      ]
    },
    {
      "cell_type": "markdown",
      "metadata": {
        "id": "BeZDQ_3pw2S8"
      },
      "source": [
        "# **Aturan Dasar Penulisan**\n",
        "\n",
        "1. Statement Terminator\n",
        "\n",
        "    bahasa Python juga tidak perlu tanda titik koma ( ; ). \n",
        "\n",
        "    Meskipun begitu, Python tidak protes seandainya kita tetap ingin menambah tanda titik koma di akhir setiap perintah\n",
        "\n",
        "    Tanda titik koma ini menjadi harus ditulis jika kita ingin menulis beberapa perintah dalam 1 baris kode program\n",
        "\n",
        "    `print(\"Sedang belajar bahasa Python di \"+web); print(\"Semangat!!\");`\n",
        "\n",
        "\n",
        "2. Case Sensitif\n",
        "\n",
        "    huruf besar dan kecil dianggap berbeda. Perintah print tidak bisa ditulis menjadi Print atau PRINT. Ini berlaku untuk perintah-perintah lain seperti variabel dan keyword.\n",
        "\n",
        "3. Indentations\n",
        "\n",
        "    indentasi adalah menggeser atau “menjorokkan” beberapa baris kode program ke arah dalam.\n",
        "\n",
        "    Biasanya indentasi dipakai untuk sekedar memudahkan pembacaan kode program, namun dalam Python, indentasi berfungsi sebagai penanda blok kode program.\n",
        "\n",
        "\n",
        "\n",
        "\n",
        "\n",
        "\n"
      ]
    },
    {
      "cell_type": "markdown",
      "metadata": {
        "id": "kS-4LwpLn4LT"
      },
      "source": [
        "# **Intro Style Guide**\n",
        "\n",
        "Berikut adalah beberapa style guide menulis kode Python dengan baik dan benar. Panduan gaya penulisan kode ini mengacu pada PEP-008.\n",
        "\n",
        "[PEP-008](https://www.python.org/dev/peps/pep-0008/)\n",
        "\n",
        "**<h4>Indentasi</h4>**\n",
        "\n",
        "Gunakan 4 spasi pada setiap tingkatan indentasi.\n",
        "\n",
        "**<h4>Baris Lanjutan</h4>**\n",
        "\n",
        "Seringkali, saat menulis kode, kita harus menggunakan baris lanjutan karena kode tidak cukup dituliskan dalam satu baris. Umumnya, kita dapat menggunakan tanda `hubung, kurung, kurawal`, atau seperti disarankan pada PEP-008, gunakan `hanging indent`. \n",
        "\n"
      ]
    },
    {
      "cell_type": "code",
      "metadata": {
        "id": "doi7P5vMoe9J"
      },
      "source": [
        "# Opsi 1\n",
        "# Rata kiri dengan kurung atau pemisah dengan argumen utama\n",
        "# foo = long_function_name(var_one, var_two,\n",
        "#                          var_three, var_four)\n",
        " \n",
        "# Opsi 2\n",
        "# Tambahkan indentasi ekstra - (level indentasi baru) untuk memisahkan parameter/argument dari bagian lainnya\n",
        "# def long_function_name(\n",
        "#         var_one, var_two, var_three,\n",
        "#         var_four):\n",
        "#     print(var_one)\n",
        " \n",
        "# Opsi 3\n",
        "# Hanging indents dengan penambahan level indentasi saja\n",
        "# foo = long_function_name(\n",
        "#     var_one, var_two,\n",
        "#     var_three, var_four)"
      ],
      "execution_count": null,
      "outputs": []
    },
    {
      "cell_type": "markdown",
      "metadata": {
        "id": "uKaGve7y43vq"
      },
      "source": [
        "# **Pengecekan Style Guide PEP8**\n",
        "\n",
        "**Lint**\n",
        "\n",
        "Lint adalah proses pengecekan kode atas kemungkinan terjadi kesalahan (error), termasuk dalam proses ini adalah mengecek kesesuaian terhadap arahan gaya penulisan kode (style guide) PEP8. Aplikasi yang digunakan untuk proses ini disebut linter. Integrasi linter dengan editor kode Anda akan membuat efisien dalam menulis kode Python. Pertimbangan ini karena keluaran dari aplikasi linter hanya berupa teks singkat berupa keterangan dan kode Error atau Warning atau Kesalahan Konvensi Penamaan (Naming Conventions), akan dicontohkan selanjutnya.\n",
        "\n",
        "Dengan lint atau linting akan meminimalkan kode Anda mengalami error, sebagai contoh salah satunya karena kesalahan indentasi di Python. Sebelum kode Anda diprotes oleh interpreter Python dengan IndentationError, lint akan memberitahukannya lebih dahulu ke Anda.\n",
        "\n",
        "Berikut akan dibahas 3 jenis aplikasi linter, silakan dicermati dahulu, tidak harus semuanya diinstal/dicoba, hanya paket yang menurut Anda sesuai kebutuhan saja yang digunakan. Hasil keluarannya mungkin mirip, tapi pada kondisi tertentu akan ada keluaran atau fitur yang mungkin sesuai dengan kebutuhan Anda saya menulis kode.\n",
        "\n",
        "* ***Pycodestyle (sebelumnya bernama pep8)***\n",
        "\n",
        "    Pycodestyle adalah aplikasi open source (berlisensi MIT/Expat) untuk membantu mengecek kode terkait gaya penulisan kode dengan konvensi PEP8.\n",
        "\n",
        "    Untuk instalasi menggunakan manajer paket pip sebagai berikut: \n",
        "    \n",
        "    `pip install pycodestyle`\n",
        "\n",
        "    `pycodestyle contoh.py`\n",
        "\n",
        "    cara bacanya : contoh.py:6:1: baris 6 kolom 1\n",
        "\n",
        "    [pycodestyle](https://github.com/PyCQA/pycodestyle)\n",
        "\n",
        "* ***Pylint***\n",
        "\n",
        "    Pylint adalah aplikasi open source (berlisensi GPL v2) untuk melakukan analisis kode Python, mengecek untuk kesalahan (error) pemrograman, memaksakan standar penulisan kode dengan mengecek penulisan kode yang tidak baik, serta memberikan saran untuk refactoring sederhana.\n",
        "\n",
        "    Untuk instalasi menggunakan manajer paket pip sebagai berikut: \n",
        "    \n",
        "    `pip install pylint`\n",
        "\n",
        "    [pylint](https://github.com/PyCQA/pylint)\n",
        "\n",
        "* ***Flake8***\n",
        "\n",
        "    Flake8 adalah aplikasi open source (berlisensi MIT) yang membungkus sejumlah kemampuan aplikasi lain seperti pycodestyle, pyflakes, dan sejumlah (skrip/fitur) lainnya.\n",
        "\n",
        "    Untuk instalasi menggunakan manajer paket pip sebagai berikut: \n",
        "    \n",
        "    `pip install flake8`\n",
        "\n",
        "    [flake8](https://github.com/PyCQA/flake8)\n",
        "\n",
        "\n",
        "Cara menggunakannya yakni :\n",
        "\n",
        "1. Membuat file python\n",
        "2. install pystylecode, pylint flake8  (cmd)\n",
        "3. masuk ke folder tempat file python, kemudian jalankan pycodestyle contoh.py, sesuaikan lintnya  (cmd)\n",
        "4. Hasilnya akan muncul jika style guidenya tidak benar\n",
        "5. ubah manual pada file python, dengan informasi contoh.py:6:1: baris 6 kolom 1"
      ]
    },
    {
      "cell_type": "markdown",
      "metadata": {
        "id": "fHvC-CLzUSu6"
      },
      "source": [
        "# **Memformat Kode**\n",
        "\n",
        "Jika proses lint atau linting hanya melakukan pengecekan, terkait arahan gaya penulisan kode Anda bisa menggunakan aplikasi tambahan untuk memformat kode agar sesuai PEP8. Sehingga untuk Anda yang menggunakan editor kode yang sangat ringan dan ringkas fitur sekalipun, misalnya tanpa fasilitas lint, tetap bisa menghasilkan kode sesuai konvensi PEP8.\n",
        "\n",
        "* ***Black***\n",
        "\n",
        "    Black adalah proyek open source yang dikembangkan di repository Python Software Foundation (PSF) dengan lisensi MIT. Untuk mendapatkan gambaran, versi online (tidak resmi) ada di https://black.now.sh.\n",
        "\n",
        "    Untuk instalasi menggunakan manajer paket pip sebagai berikut: \n",
        "    \n",
        "    `pip install black`\n",
        "\n",
        "    `black contoh.py`\n",
        "\n",
        "    [Black](https://github.com/psf/black)\n",
        "\n",
        "\n",
        "\n",
        "* ***YAPF (Yet Another Python Formatter)***\n",
        "\n",
        "    YAPF adalah proyek open source yang dikembangkan di repository Google, dengan lisensi Apache.\n",
        "\n",
        "    Untuk mendapatkan gambaran, versi online (tidak resmi) ada di https://yapf.now.sh\n",
        "\n",
        "    Untuk instalasi menggunakan manajer paket pip sebagai berikut: \n",
        "    \n",
        "    `pip install yapf`\n",
        "\n",
        "    [Yapf](https://github.com/google/yapf)\n",
        "\n",
        "* ***Autopep8***\n",
        "\n",
        "    Autopep8 adalah proyek open source (berlisensi MIT) yang termasuk paling awal untuk memformat kode, dengan bantuan lint pycodestyle. Untuk instalasi menggunakan manajer paket pip sebagai berikut: \n",
        "    \n",
        "    `pip install autopep8`\n",
        "\n",
        "    [Autopep8](https://github.com/hhatto/autopep8)\n",
        "\n",
        "Catatan:\n",
        "\n",
        "* untuk black langsung mengubah file\n",
        "\n",
        "* untuk pemrosesan dengan yapf, autopep8, tidak langsung mengubah isi file .py tetapi tampil ke layar\n",
        "\n",
        "Cara menggunakannya yakni :\n",
        "\n",
        "1. Membuat file python\n",
        "2. install aplikasinya (cmd)\n",
        "3. masuk ke folder tempat file python, kemudian jalankan `black contoh.py`, sesuaikan aplikasinya (cmd)\n",
        "4. Black akan langsung mengubah sedangkan yapf dan autopep8 akan menampilkan terlebih dahulu di cmd."
      ]
    },
    {
      "cell_type": "markdown",
      "metadata": {
        "id": "BBqE5B6HZggC"
      },
      "source": [
        "# **Print Command**\n",
        "\n",
        "To put an output, you can just call print command : **print(  )**"
      ]
    },
    {
      "cell_type": "code",
      "metadata": {
        "id": "V-jDckAyuowf",
        "colab": {
          "base_uri": "https://localhost:8080/",
          "height": 34
        },
        "outputId": "7144b43e-4c65-4bdc-b86a-9299e689b929"
      },
      "source": [
        "print(\"Hello DSC Universitas Hasanuddin\")"
      ],
      "execution_count": null,
      "outputs": [
        {
          "output_type": "stream",
          "text": [
            "Hello DSC Universitas Hasanuddin\n"
          ],
          "name": "stdout"
        }
      ]
    },
    {
      "cell_type": "code",
      "metadata": {
        "id": "JYt8T-6LLCiA",
        "colab": {
          "base_uri": "https://localhost:8080/",
          "height": 34
        },
        "outputId": "2a3f2860-4982-4466-b1f8-ded46eaaca77"
      },
      "source": [
        "print(10)"
      ],
      "execution_count": null,
      "outputs": [
        {
          "output_type": "stream",
          "text": [
            "10\n"
          ],
          "name": "stdout"
        }
      ]
    },
    {
      "cell_type": "code",
      "metadata": {
        "id": "Oq8E1ZnziROo",
        "colab": {
          "base_uri": "https://localhost:8080/",
          "height": 34
        },
        "outputId": "5cb4772d-028c-49c1-b81b-ff1809464a67"
      },
      "source": [
        "10"
      ],
      "execution_count": null,
      "outputs": [
        {
          "output_type": "execute_result",
          "data": {
            "text/plain": [
              "10"
            ]
          },
          "metadata": {
            "tags": []
          },
          "execution_count": 23
        }
      ]
    },
    {
      "cell_type": "markdown",
      "metadata": {
        "id": "edmN91f6iceV"
      },
      "source": [
        "Try to print something on your own."
      ]
    },
    {
      "cell_type": "code",
      "metadata": {
        "id": "fz-CyVXBiR8B",
        "colab": {
          "base_uri": "https://localhost:8080/",
          "height": 34
        },
        "outputId": "dfd54572-0832-4ed3-dfea-af4d700da65f"
      },
      "source": [
        "# TODO : Print a text\n",
        "print(\"Nur Imam Masri\")"
      ],
      "execution_count": null,
      "outputs": [
        {
          "output_type": "stream",
          "text": [
            "Nur Imam Masri\n"
          ],
          "name": "stdout"
        }
      ]
    },
    {
      "cell_type": "markdown",
      "metadata": {
        "id": "EkO7q8rOVttx"
      },
      "source": [
        "catatan :\n",
        "\n",
        "Hanya dengan menuliskan kode print seperti yang diatas, anda sudah bisa mencetak apapun yang anda inginkan di dalam tanda kurung (). Dibagian akhir kode pun, anda tidak harus mengakhirnya dengan tanda semicolon ;\n",
        "\n",
        "Namun jika ingin menyambung syntax pada satu baris harus mengguanakan tanda ;"
      ]
    },
    {
      "cell_type": "code",
      "metadata": {
        "id": "u1_p2VpmV3PD"
      },
      "source": [
        "# print('Nur') print('Imam') print('Masri') Error : invalid syntax"
      ],
      "execution_count": null,
      "outputs": []
    },
    {
      "cell_type": "code",
      "metadata": {
        "id": "hVoARw68WBYT",
        "colab": {
          "base_uri": "https://localhost:8080/",
          "height": 70
        },
        "outputId": "321611b1-720a-429b-e48d-999b8d8bab0f"
      },
      "source": [
        "print('Nur'); print('Imam'); print('Masri')"
      ],
      "execution_count": null,
      "outputs": [
        {
          "output_type": "stream",
          "text": [
            "Nur\n",
            "Imam\n",
            "Masri\n"
          ],
          "name": "stdout"
        }
      ]
    },
    {
      "cell_type": "markdown",
      "metadata": {
        "id": "DwqXrp_fQ0LI"
      },
      "source": [
        "argument `sep=\" \"` and `end=\" \"`"
      ]
    },
    {
      "cell_type": "code",
      "metadata": {
        "colab": {
          "base_uri": "https://localhost:8080/"
        },
        "id": "FcGC44F3aAlx",
        "outputId": "2572ce07-aacb-4db4-bba8-d1bd6a4d0e0e"
      },
      "source": [
        "print(\"Nur\", \"Imam\", \"Masri\", sep=\"-\")"
      ],
      "execution_count": null,
      "outputs": [
        {
          "output_type": "stream",
          "name": "stdout",
          "text": [
            "Nur-Imam-Masri\n"
          ]
        }
      ]
    },
    {
      "cell_type": "code",
      "metadata": {
        "colab": {
          "base_uri": "https://localhost:8080/"
        },
        "id": "MtDIM7GtaJYy",
        "outputId": "6bfecd61-fba5-4616-ade2-61cdfe92a846"
      },
      "source": [
        "print(\"Nur Imam Masri\", end=\"+++\")\n",
        "print(\"Imam\")"
      ],
      "execution_count": null,
      "outputs": [
        {
          "output_type": "stream",
          "name": "stdout",
          "text": [
            "Nur Imam Masri+++Imam\n"
          ]
        }
      ]
    },
    {
      "cell_type": "markdown",
      "metadata": {
        "id": "jlOyTafEiqEJ"
      },
      "source": [
        "# **Comment in Python**\n",
        "\n",
        "Comments can be used to :\n",
        "- make the code more readable\n",
        "- prevent execution when testing code\n",
        "\n",
        "In Python, you can make comment using **#** command."
      ]
    },
    {
      "cell_type": "code",
      "metadata": {
        "id": "1adUV7fliv3M",
        "colab": {
          "base_uri": "https://localhost:8080/",
          "height": 34
        },
        "outputId": "a260babb-647e-4292-fe9a-7fc65f1d9bc9"
      },
      "source": [
        "# This is the explanation of code\n",
        "print(\"Comment is not execute.\")"
      ],
      "execution_count": null,
      "outputs": [
        {
          "output_type": "stream",
          "text": [
            "Comment is not execute.\n"
          ],
          "name": "stdout"
        }
      ]
    },
    {
      "cell_type": "markdown",
      "metadata": {
        "id": "uMnJA3s9ptzo"
      },
      "source": [
        "For multi-line comment you can use triple quotes and place command inside it."
      ]
    },
    {
      "cell_type": "code",
      "metadata": {
        "id": "WwWW_zS9n8aT",
        "colab": {
          "base_uri": "https://localhost:8080/",
          "height": 34
        },
        "outputId": "9d35bfba-1943-480e-a492-1a3675554c1a"
      },
      "source": [
        "\"This comment to for single\"\n",
        "\n",
        "\"\"\"\n",
        "First line comment\n",
        "Second line comment\n",
        "...\n",
        "\"\"\"\n",
        "\n",
        "print(\"Comment is not execute\")"
      ],
      "execution_count": null,
      "outputs": [
        {
          "output_type": "stream",
          "text": [
            "Comment is not execute\n"
          ],
          "name": "stdout"
        }
      ]
    },
    {
      "cell_type": "markdown",
      "metadata": {
        "id": "F7eGm0cvtmyN"
      },
      "source": [
        "# **Variables in Python**\n",
        "\n",
        "Data values can be stored in variables. Unlike other programming language, Python don't have command for declaring a variable. A variable is created at the moment you assign a value to it. Also, variable don't need to be declared with any particular type and can even change type after they have been set."
      ]
    },
    {
      "cell_type": "code",
      "metadata": {
        "id": "TEWS7xRDqVCP",
        "colab": {
          "base_uri": "https://localhost:8080/",
          "height": 34
        },
        "outputId": "00a1a79a-d4a3-4278-f76f-c56ed7b5b42a"
      },
      "source": [
        "x = 'DSC Unhas' # type of x is string\n",
        "\n",
        "x = 10          # type of x change to int\n",
        "\n",
        "print(x)"
      ],
      "execution_count": null,
      "outputs": [
        {
          "output_type": "stream",
          "text": [
            "10\n"
          ],
          "name": "stdout"
        }
      ]
    },
    {
      "cell_type": "markdown",
      "metadata": {
        "id": "wtuGOArYD0PJ"
      },
      "source": [
        "A variable can have a short name (like x and y) or a more descriptive name (age, carName, total_volume). Rules for Python variables:\n",
        "- A variable name **must** start with a letter or the underscore character\n",
        "- A variable name **cannot start with a number**\n",
        "- A variable name can only contain **alpha-numeric characters and underscores** (A-z, 0-9, and _ )\n",
        "\n",
        "Variable names are case-sensitive (age, Age and AGE are three different variables)"
      ]
    },
    {
      "cell_type": "code",
      "metadata": {
        "id": "2igVQFNgJzX5"
      },
      "source": [
        "myvar = \"John\"\n",
        "my_var = \"John\"\n",
        "_my_var = \"John\"\n",
        "myVar = \"John\"\n",
        "MYVAR = \"John\"\n",
        "myvar2 = \"John\"\n",
        "\n",
        "#Illegal variable names:\n",
        "# 2myvar = \"John\"\n",
        "# my-var = \"John\"\n",
        "# my var = \"John\""
      ],
      "execution_count": null,
      "outputs": []
    },
    {
      "cell_type": "markdown",
      "metadata": {
        "id": "oGv1UO_uGSvi"
      },
      "source": [
        "Besides, Python also allows you to assign values to **multiple variables** in one line."
      ]
    },
    {
      "cell_type": "code",
      "metadata": {
        "id": "KzGSTBMSDaJy",
        "colab": {
          "base_uri": "https://localhost:8080/",
          "height": 70
        },
        "outputId": "466ec523-819f-4e97-a43a-0c84fd918da8"
      },
      "source": [
        "a, b, c = \"DSC\", 'Unhas', 1\n",
        "\n",
        "print(a)\n",
        "print(b)\n",
        "print(c)"
      ],
      "execution_count": null,
      "outputs": [
        {
          "output_type": "stream",
          "text": [
            "DSC\n",
            "Unhas\n",
            "1\n"
          ],
          "name": "stdout"
        }
      ]
    },
    {
      "cell_type": "markdown",
      "metadata": {
        "id": "N69H7AlbGrfq"
      },
      "source": [
        "Or, you can assingn **same value** to multiple variables in one line."
      ]
    },
    {
      "cell_type": "code",
      "metadata": {
        "id": "lTWVTboyGlzv",
        "colab": {
          "base_uri": "https://localhost:8080/",
          "height": 34
        },
        "outputId": "16b908da-04c4-40ef-e7cc-a8c7944fd6bc"
      },
      "source": [
        "a = b = c = \"DSC Unhas\"\n",
        "\n",
        "print(a, b, c)"
      ],
      "execution_count": null,
      "outputs": [
        {
          "output_type": "stream",
          "text": [
            "DSC Unhas DSC Unhas DSC Unhas\n"
          ],
          "name": "stdout"
        }
      ]
    },
    {
      "cell_type": "markdown",
      "metadata": {
        "id": "gX6UK1SPVJFl"
      },
      "source": [
        "# **Print Value Of Variable**"
      ]
    },
    {
      "cell_type": "code",
      "metadata": {
        "id": "1P0ZOdDrVQ52",
        "colab": {
          "base_uri": "https://localhost:8080/"
        },
        "outputId": "22a8ebb1-f31c-4351-91f5-8f0f7176eac2"
      },
      "source": [
        "#TYPE\n",
        "a,b,c = 1,2,3\n",
        "print(a, b, c)\n",
        "\n",
        "print(\"a = %d , b = %d , c = %d\" % (a,b,c)) #format identifier\n",
        "print(\"a =\",a,\", b =\",b,\", c =\",c) #type numeric value\n",
        "print(\"a = \"+str(a)+\" , b = \"+str(b)+\" , c = \"+str(c)) #format string\n",
        "print(f'a = {a} , b = {b} , c = {c}') #f-string\n",
        "\n",
        "print(\"a = {} , b = {} , c = {}\".format(a,b,c)) # f{} format 01\n",
        "print(\"b = {1} , a = {0} , c = {2}\".format(a,b,c)) # f{} format 02\n",
        "print(\"a = {:.2f} , b = {:.1f} , c = {:.4f}\".format(a,b,c)) # f{} format 03\n",
        "print(\"b = {1} , a = {0:.2f} , c = {2}\".format(a,b,c)) # f{} format 04\n",
        "\n",
        "\n",
        "print(\"a = {:>5} , b = {:>5} , c = {:>5.2f}\".format(a,b,c)) # f{} format 05\n",
        "\n",
        "print(\"I have a {carname}, it is a {model}\".format(carname = \"Ford\", model = \"Mustang\")) # f{} format 06\n",
        "\n",
        "myorder = \"I have a {carname}, it is a {model}.\"\n",
        "print(myorder.format(carname = \"Ford\", model = \"Mustang\")) # f{} format 07\n",
        "\n",
        "\n",
        "print(r'That is Carol\\'s cat.') # Raw String"
      ],
      "execution_count": null,
      "outputs": [
        {
          "output_type": "stream",
          "text": [
            "1 2 3\n",
            "a = 1 , b = 2 , c = 3\n",
            "a = 1 , b = 2 , c = 3\n",
            "a = 1 , b = 2 , c = 3\n",
            "a = 1 , b = 2 , c = 3\n",
            "a = 1 , b = 2 , c = 3\n",
            "b = 2 , a = 1 , c = 3\n",
            "a = 1.00 , b = 2.0 , c = 3.0000\n",
            "b = 2 , a = 1.00 , c = 3\n",
            "a =     1 , b =     2 , c =  3.00\n",
            "I have a Ford, it is a Mustang\n",
            "I have a Ford, it is a Mustang.\n",
            "That is Carol\\'s cat.\n"
          ],
          "name": "stdout"
        }
      ]
    },
    {
      "cell_type": "code",
      "metadata": {
        "id": "Zh3TySuKZkiW",
        "colab": {
          "base_uri": "https://localhost:8080/",
          "height": 158
        },
        "outputId": "c97119f0-ccc5-4bf6-c12c-34b11e801cb5"
      },
      "source": [
        "#proses memasukan data ke dalam variabel\n",
        "nama = \"John Doe\"\n",
        "#proses mencetak variabel\n",
        "print(nama)\n",
        "\n",
        "#nilai dan tipe data dalam variabel  dapat diubah\n",
        "umur = 20               #nilai awal\n",
        "print(umur)             #mencetak nilai umur\n",
        "type(umur)              #mengecek tipe data umur\n",
        "umur = \"dua puluh satu\" #nilai setelah diubah\n",
        "print(umur)             #mencetak nilai umur\n",
        "type(umur)              #mengecek tipe data umur\n",
        "\n",
        "namaDepan = \"Budi\"\n",
        "namaBelakang = \"Susanto\"\n",
        "nama = namaDepan + \" \" + namaBelakang\n",
        "umur = 22\n",
        "hobi = \"Berenang\"\n",
        "print(\"Biodata\\n\", nama, \"\\n\", umur, \"\\n\", hobi)\n",
        "\n",
        "#contoh variabel lainya\n",
        "inivariabel = \"Halo\"\n",
        "ini_juga_variabel = \"Hai\"\n",
        "_inivariabeljuga = \"Hi\"\n",
        "inivariabel222 = \"Bye\" \n",
        "\n",
        "panjang = 10\n",
        "lebar = 5\n",
        "luas = panjang * lebar\n",
        "print(luas)"
      ],
      "execution_count": null,
      "outputs": [
        {
          "output_type": "stream",
          "text": [
            "John Doe\n",
            "20\n",
            "dua puluh satu\n",
            "Biodata\n",
            " Budi Susanto \n",
            " 22 \n",
            " Berenang\n",
            "50\n"
          ],
          "name": "stdout"
        }
      ]
    },
    {
      "cell_type": "markdown",
      "metadata": {
        "id": "Ze3V3OlWTN7N"
      },
      "source": [
        "# **Data Types**\n",
        "\n",
        "Python dikenal sebagai salah satu bahasa yang menerapkan dynamic typing, yakni bahasa pemrograman yang hanya mengetahui tipe variabel saat program berjalan dan dilakukan assignment. Tentu saja, pada Python juga umumnya tidak ada deklarasi variabel, hanya berupa assignment statement.\n",
        "\n",
        "Tipe data adalah suatu media atau memori pada komputer yang digunakan untuk menampung informasi.\n",
        "\n",
        "Python sendiri mempunyai tipe data yang cukup unik bila kita bandingkan dengan bahasa pemrograman yang lain.\n",
        "\n",
        "\n",
        "1. String :\t\"Ayo belajar Python\"\t\n",
        "\n",
        "    Menyatakan karakter/kalimat bisa berupa huruf angka, dll (diapit tanda \" atau ')\n",
        "\n",
        "2. Integer :\t25 atau 1209\t\n",
        "\n",
        "    Menyatakan bilangan bulat\n",
        "\n",
        "3. Float :\t3.14 atau 0.99\t\n",
        "\n",
        "    Menyatakan bilangan yang mempunyai koma\n",
        "\n",
        "4. Complex : 1 + 5j\t\n",
        "\n",
        "    Menyatakan pasangan angka real dan imajiner\n",
        "\n",
        "5. Boolean : True atau False\t\n",
        "\n",
        "    Menyatakan benar True yang bernilai 1, atau salah False yang bernilai 0\n",
        "\n",
        "6. List : ['xyz', 786, 2.23]\t\n",
        "\n",
        "    Data untaian yang menyimpan berbagai tipe data dan isinya bisa diubah-ubah\n",
        "\n",
        "7. Tuple : ('xyz', 768, 2.23)\t\n",
        "\n",
        "    Data untaian yang menyimpan berbagai tipe data tapi isinya tidak bisa diubah\n",
        "\n",
        "8. Set : {'xyz', 768, 2.23}\n",
        "\n",
        "\n",
        "\n",
        "9. Dictionary :\t{'nama': 'adi','id':2}\t\n",
        "\n",
        "    Data untaian yang menyimpan berbagai tipe data berupa pasangan penunjuk dan nilai\n",
        "\n",
        "..........................................................\n",
        "\n",
        "* Text Type:\tstr\n",
        "\n",
        "* Numeric Types:\tint, float, complex\n",
        "\n",
        "* Sequence Types:\tlist, tuple, range\n",
        "\n",
        "* Mapping Type:\tdict\n",
        "\n",
        "* Set Types:\tset, frozenset\n",
        "\n",
        "* Boolean Type:\tbool\n",
        "\n",
        "* Binary Types:\tbytes, bytearray, memoryview\n"
      ]
    },
    {
      "cell_type": "code",
      "metadata": {
        "id": "EsgQvEYuYVux",
        "colab": {
          "base_uri": "https://localhost:8080/",
          "height": 246
        },
        "outputId": "4fc7a54b-4e5c-4b67-ce92-76611ba8d320"
      },
      "source": [
        "#tipe data String\n",
        "print(\"Ayo belajar Python\")\n",
        "print('Belajar Python Sangat Mudah')\n",
        "\n",
        "#tipe data Integer\n",
        "print(20)\n",
        "\n",
        "#tipe data Float\n",
        "print(3.14)\n",
        "\n",
        "#tipe data Complex\n",
        "print(5j)\n",
        "\n",
        "#tipe data Boolean\n",
        "print(True)\n",
        "\n",
        "#tipe data List\n",
        "print([1,2,3,4,5])\n",
        "print([\"satu\", \"dua\", \"tiga\"])\n",
        "\n",
        "#tipe data Tuple\n",
        "print((1,2,3,4,5))\n",
        "print((\"satu\", \"dua\", \"tiga\"))\n",
        "\n",
        "#tipe data Dictionary\n",
        "print({\"nama\":\"Budi\", 'umur':20})\n",
        "\n",
        "#tipe data Dictionary dimasukan ke dalam variabel biodata\n",
        "biodata = {\"nama\":\"Andi\", 'umur':21} #proses inisialisasi variabel biodata\n",
        "print(biodata) #proses pencetakan variabel biodata yang berisi tipe data Dictionary\n",
        "type(biodata) #fungsi untuk mengecek jenis tipe data. akan tampil <class 'dict'> yang berarti dict adalah tipe data dictionary"
      ],
      "execution_count": null,
      "outputs": [
        {
          "output_type": "stream",
          "text": [
            "Ayo belajar Python\n",
            "Belajar Python Sangat Mudah\n",
            "20\n",
            "3.14\n",
            "5j\n",
            "True\n",
            "[1, 2, 3, 4, 5]\n",
            "['satu', 'dua', 'tiga']\n",
            "(1, 2, 3, 4, 5)\n",
            "('satu', 'dua', 'tiga')\n",
            "{'nama': 'Budi', 'umur': 20}\n",
            "{'nama': 'Andi', 'umur': 21}\n"
          ],
          "name": "stdout"
        },
        {
          "output_type": "execute_result",
          "data": {
            "text/plain": [
              "dict"
            ]
          },
          "metadata": {
            "tags": []
          },
          "execution_count": 34
        }
      ]
    },
    {
      "cell_type": "code",
      "metadata": {
        "id": "EEy65dDp04it",
        "colab": {
          "base_uri": "https://localhost:8080/",
          "height": 175
        },
        "outputId": "e93ed383-5e19-4e62-d68e-c1758fa43d52"
      },
      "source": [
        "#Tipe Data String\n",
        "foo = \"Belajar Python di Duniailkom\"\n",
        "print(foo)\n",
        " \n",
        "#Tipe Data Integer\n",
        "foo = 1500\n",
        "print(foo)\n",
        " \n",
        "#Tipe Data Float\n",
        "foo = 99.123\n",
        "print(foo)\n",
        " \n",
        "#Tipe Data Complex Number\n",
        "foo = 4j\n",
        "print(foo)\n",
        " \n",
        "#Tipe Data Boolean\n",
        "foo = True\n",
        "print(foo)\n",
        " \n",
        "#Tipe Data List\n",
        "foo = [\"satu\",\"dua\",\"tiga\",\"satu\"]\n",
        "print(foo)\n",
        " \n",
        "#Tipe Data Tuple\n",
        "foo = (\"satu\",\"dua\",\"tiga\",\"satu\")\n",
        "print(foo)\n",
        " \n",
        "#Tipe Data Set\n",
        "foo = {\"satu\",\"dua\",\"tiga\",\"empat\"}\n",
        "print(foo)\n",
        " \n",
        "#Tipe Data Dictionary\n",
        "foo = {\"satu\":1, \"dua\":2.13, \"tiga\":\"a\", \"empat\": True}\n",
        "print(foo)"
      ],
      "execution_count": null,
      "outputs": [
        {
          "output_type": "stream",
          "text": [
            "Belajar Python di Duniailkom\n",
            "1500\n",
            "99.123\n",
            "4j\n",
            "True\n",
            "['satu', 'dua', 'tiga', 'satu']\n",
            "('satu', 'dua', 'tiga', 'satu')\n",
            "{'satu', 'dua', 'empat', 'tiga'}\n",
            "{'satu': 1, 'dua': 2.13, 'tiga': 'a', 'empat': True}\n"
          ],
          "name": "stdout"
        }
      ]
    },
    {
      "cell_type": "code",
      "metadata": {
        "id": "Hdpefv8bTq27",
        "colab": {
          "base_uri": "https://localhost:8080/",
          "height": 105
        },
        "outputId": "d3d7a481-e557-4429-80e7-c1e0ed835556"
      },
      "source": [
        "# integer\n",
        "data_integer = 1\n",
        "print('data = ', data_integer , ', type = ', type(data_integer))\n",
        "\n",
        "# float\n",
        "data_float = 1.5\n",
        "print('data = ', data_float , ', type = ', type(data_float))\n",
        "\n",
        "# string\n",
        "data_string = 'imam'\n",
        "print('data = ', data_string , ', type = ', type(data_string))\n",
        "\n",
        "# boolean\n",
        "data_bool = False\n",
        "print('data = ', data_bool , ', type = ', type(data_bool))\n",
        "\n",
        "data_bool = 1 # bisa di cast menjadi bool\n",
        "print('data = ', data_bool , ', type = ', type(data_bool))\n"
      ],
      "execution_count": null,
      "outputs": [
        {
          "output_type": "stream",
          "text": [
            "data =  1 , type =  <class 'int'>\n",
            "data =  1.5 , type =  <class 'float'>\n",
            "data =  imam , type =  <class 'str'>\n",
            "data =  False , type =  <class 'bool'>\n",
            "data =  1 , type =  <class 'int'>\n"
          ],
          "name": "stdout"
        }
      ]
    },
    {
      "cell_type": "code",
      "metadata": {
        "id": "BbqBOF5jVOQ5",
        "colab": {
          "base_uri": "https://localhost:8080/",
          "height": 52
        },
        "outputId": "18ea3ac7-3e31-4d25-9ad2-7a760b68aa8e"
      },
      "source": [
        "# Tipe data khusus\n",
        "\n",
        "# bilangan data kompleks\n",
        "data_complex = complex(5,6)\n",
        "print('data = ', data_complex , ', type = ', type(data_complex))\n",
        "\n",
        "# tipe data bilangan C\n",
        "# Char, Short, Long, Double, Long Double, Long Long dll\n",
        "from ctypes import c_double\n",
        "data_c_double = c_double(10.5)\n",
        "print('data = ', data_c_double , ', type = ', type(data_c_double))"
      ],
      "execution_count": null,
      "outputs": [
        {
          "output_type": "stream",
          "text": [
            "data =  (5+6j) , type =  <class 'complex'>\n",
            "data =  c_double(10.5) , type =  <class 'ctypes.c_double'>\n"
          ],
          "name": "stdout"
        }
      ]
    },
    {
      "cell_type": "markdown",
      "metadata": {
        "id": "WBlzSikUJyCb"
      },
      "source": [
        "# **Casting**\n",
        "\n",
        "There may be times when you want to specify a type on to a variable. This can be done with casting. Python is an object-orientated language, and as such it uses classes to define data types, including its primitive types.\n",
        "\n",
        "Casting in python is therefore done using constructor functions:\n",
        "\n",
        "- **int()** - constructs an integer number from an integer literal, a float literal (by rounding down to the previous whole number), or a string literal (providing the string represents a whole number)\n",
        "- **float()** - constructs a float number from an integer literal, a float literal or a string literal (providing the string represents a float or an integer)\n",
        "- **str()** - constructs a string from a wide variety of data types, including strings, integer literals and float literals\n",
        "\n",
        "- **bool()**\n",
        "\n",
        "- **list(), tuple(), set(), dict()**"
      ]
    },
    {
      "cell_type": "code",
      "metadata": {
        "id": "yzkbDXZ6HMlT",
        "colab": {
          "base_uri": "https://localhost:8080/",
          "height": 34
        },
        "outputId": "d2f2ad08-a799-4b6a-a5c0-caf2f3dc5a35"
      },
      "source": [
        "# Cast value to int\n",
        "\n",
        "a = int(10)\n",
        "b = int(10.82)\n",
        "c = int('3')\n",
        "d = int(True) \n",
        "\n",
        "print(a, b, c, d)"
      ],
      "execution_count": null,
      "outputs": [
        {
          "output_type": "stream",
          "text": [
            "10 10 3 1\n"
          ],
          "name": "stdout"
        }
      ]
    },
    {
      "cell_type": "code",
      "metadata": {
        "id": "GvEbW6xfKz8c",
        "colab": {
          "base_uri": "https://localhost:8080/",
          "height": 34
        },
        "outputId": "9fd853d4-0e7d-4e17-cff5-53a0511ef511"
      },
      "source": [
        "# Cast value to float\n",
        "\n",
        "a = float(10)\n",
        "b = float(10.82)\n",
        "c = float('3.02')\n",
        "d = float(True) \n",
        "\n",
        "print(a, b, c, d)"
      ],
      "execution_count": null,
      "outputs": [
        {
          "output_type": "stream",
          "text": [
            "10.0 10.82 3.02 1.0\n"
          ],
          "name": "stdout"
        }
      ]
    },
    {
      "cell_type": "code",
      "metadata": {
        "id": "XXpD7OI8LJkY",
        "colab": {
          "base_uri": "https://localhost:8080/",
          "height": 34
        },
        "outputId": "ae0271cc-0a77-4154-c9dd-eae2a5ecdc5c"
      },
      "source": [
        "# Cast value to string\n",
        "\n",
        "a = str(10)\n",
        "b = str(10.82)\n",
        "c = str('3.02')\n",
        "d = str(True) \n",
        "\n",
        "print(a, b, c, d)"
      ],
      "execution_count": null,
      "outputs": [
        {
          "output_type": "stream",
          "text": [
            "10 10.82 3.02 True\n"
          ],
          "name": "stdout"
        }
      ]
    },
    {
      "cell_type": "code",
      "metadata": {
        "id": "s4PX6RdGW2w3",
        "colab": {
          "base_uri": "https://localhost:8080/",
          "height": 34
        },
        "outputId": "1fe91313-8571-477b-884f-3a466ba11000"
      },
      "source": [
        "# Cast value to bool\n",
        "# false only 0 or '' empty string\n",
        "# true 1 or others or string \n",
        "\n",
        "a = bool(0) \n",
        "b = bool(1)\n",
        "c = bool(20)\n",
        "d = bool('23')\n",
        "e = bool('')\n",
        "\n",
        "print(a, b, c, d, e)"
      ],
      "execution_count": null,
      "outputs": [
        {
          "output_type": "stream",
          "text": [
            "False True True True False\n"
          ],
          "name": "stdout"
        }
      ]
    },
    {
      "cell_type": "markdown",
      "metadata": {
        "id": "vKKd1rcxLo0f"
      },
      "source": [
        "Why casting is important? Because you can't concatenate a string and a number. One of the ways to concatenate is to cast number value to string using **str()**."
      ]
    },
    {
      "cell_type": "code",
      "metadata": {
        "id": "8ZFqNoMgLQ-p",
        "colab": {
          "base_uri": "https://localhost:8080/",
          "height": 34
        },
        "outputId": "730192e1-4b22-475a-afe5-0d92a8a660d1"
      },
      "source": [
        "text = \"This year is \"\n",
        "year = 2020\n",
        "\n",
        "# TODO : fix the error\n",
        "print(text + str(year))  # this will throw an error. Try to cast year to string first"
      ],
      "execution_count": null,
      "outputs": [
        {
          "output_type": "stream",
          "text": [
            "This year is 2020\n"
          ],
          "name": "stdout"
        }
      ]
    },
    {
      "cell_type": "markdown",
      "metadata": {
        "id": "56bXy8AEYqYo"
      },
      "source": [
        "# **Input Data**\n",
        "\n",
        "Secara default, input dari user adalah string."
      ]
    },
    {
      "cell_type": "code",
      "metadata": {
        "id": "0kjd3C5lYvLe",
        "colab": {
          "base_uri": "https://localhost:8080/",
          "height": 52
        },
        "outputId": "076bd2a5-6ab1-4d08-b8b6-8ffe055edb16"
      },
      "source": [
        "data = input('Masukkan data : ')\n",
        "print('data = ', data , ', type = ', type(data))\n",
        "\n",
        "# Masukkan data : Nur Imam Masri\n",
        "# data =  Nur Imam Masri , type =  <class 'str'>\n",
        "\n",
        "# Masukkan data : 5\n",
        "# data =  5 , type =  <class 'str'>\n",
        "\n",
        "# Masukkan data : 10.7\n",
        "# data =  10.7 , type =  <class 'str'>\n",
        "\n",
        "# Masukkan data : True\n",
        "# data =  True , type =  <class 'str'>"
      ],
      "execution_count": null,
      "outputs": [
        {
          "output_type": "stream",
          "text": [
            "Masukkan data : Nur Imam Masri\n",
            "data =  Nur Imam Masri , type =  <class 'str'>\n"
          ],
          "name": "stdout"
        }
      ]
    },
    {
      "cell_type": "markdown",
      "metadata": {
        "id": "Cjf57jNYZO24"
      },
      "source": [
        "jika dilihat bahwa apapun yang di input akan tetap bertype string. Maka dilakukan casting pada input"
      ]
    },
    {
      "cell_type": "code",
      "metadata": {
        "id": "73Zoyyw3ZOos",
        "colab": {
          "base_uri": "https://localhost:8080/",
          "height": 52
        },
        "outputId": "0530cf2a-9f23-449f-8d50-4274efda800c"
      },
      "source": [
        "angka = int(input('Masukkan angka : '))\n",
        "print('angka = ', angka , ', type = ', type(angka))\n",
        "\n",
        "# Masukkan angka : 345\n",
        "# angka =  345 , type =  <class 'int'>\n",
        "\n",
        "# Masukkan angka : 0.5\n",
        "# invalid literal for int() with base 10: '0.5'"
      ],
      "execution_count": null,
      "outputs": [
        {
          "output_type": "stream",
          "text": [
            "Masukkan angka : 345\n",
            "angka =  345 , type =  <class 'int'>\n"
          ],
          "name": "stdout"
        }
      ]
    },
    {
      "cell_type": "code",
      "metadata": {
        "id": "iz-0Y-UwZub8",
        "colab": {
          "base_uri": "https://localhost:8080/",
          "height": 52
        },
        "outputId": "5f15f9cd-a038-4fb8-cf57-11fdfafb399d"
      },
      "source": [
        "f_angka = float(input('Masukkan f_angka : '))\n",
        "print('f_angka = ', f_angka , ', type = ', type(f_angka))\n",
        "\n",
        "# Masukkan f_angka : 5.05\n",
        "# f_angka =  5.05 , type =  <class 'float'>"
      ],
      "execution_count": null,
      "outputs": [
        {
          "output_type": "stream",
          "text": [
            "Masukkan f_angka : 5.05\n",
            "f_angka =  5.05 , type =  <class 'float'>\n"
          ],
          "name": "stdout"
        }
      ]
    },
    {
      "cell_type": "markdown",
      "metadata": {
        "id": "0zcPompxaFjw"
      },
      "source": [
        "Sedangkan untuk boolean maka harus agak teliti. karena nilainya akan tetap True walaupun inputnya False"
      ]
    },
    {
      "cell_type": "code",
      "metadata": {
        "id": "2r2RYwTtaJIk",
        "colab": {
          "base_uri": "https://localhost:8080/",
          "height": 52
        },
        "outputId": "de1270d1-abfa-4f7f-f078-40b58d7fb46c"
      },
      "source": [
        "boolean = bool(input('Masukkan boolean : '))\n",
        "print('boolean = ', boolean , ', type = ', type(boolean))\n",
        "\n",
        "# Masukkan boolean : True\n",
        "# boolean =  True , type =  <class 'bool'>\n",
        "\n",
        "# Namun jika input false akan menyebabkan nilai tetap True\n",
        "# Masukkan boolean : False\n",
        "# boolean =  True , type =  <class 'bool'>\n",
        "\n",
        "# Masukkan boolean : 1\n",
        "# boolean =  True , type =  <class 'bool'>\n",
        "\n",
        "# Masukkan boolean : 0\n",
        "# boolean =  True , type =  <class 'bool'>"
      ],
      "execution_count": null,
      "outputs": [
        {
          "output_type": "stream",
          "text": [
            "Masukkan boolean : False\n",
            "boolean =  True , type =  <class 'bool'>\n"
          ],
          "name": "stdout"
        }
      ]
    },
    {
      "cell_type": "markdown",
      "metadata": {
        "id": "7W08uL6-ab6Q"
      },
      "source": [
        "Namun jika input false akan menyebabkan nilai tetap True\n",
        "\n",
        "Masukkan boolean : False\n",
        "\n",
        "boolean =  True , type =  <class 'bool'>\n",
        "\n",
        "Maka untuk melakukan detection False maka akan harus mengguanakan nilai integer (cast int)."
      ]
    },
    {
      "cell_type": "code",
      "metadata": {
        "id": "3U36yd69amFm",
        "colab": {
          "base_uri": "https://localhost:8080/",
          "height": 52
        },
        "outputId": "0a77a39e-8685-46a5-c5df-355514c3c2ff"
      },
      "source": [
        "biner = bool(int(input('Masukkan biner : ')))\n",
        "print('biner = ', biner , ', type = ', type(biner))\n",
        "\n",
        "# Masukkan biner : 1\n",
        "# biner =  True , type =  <class 'bool'>\n",
        "\n",
        "# Masukkan biner : 0\n",
        "# biner =  False , type =  <class 'bool'>"
      ],
      "execution_count": null,
      "outputs": [
        {
          "output_type": "stream",
          "text": [
            "Masukkan biner : 0\n",
            "biner =  False , type =  <class 'bool'>\n"
          ],
          "name": "stdout"
        }
      ]
    },
    {
      "cell_type": "markdown",
      "metadata": {
        "id": "9YR0LSWuo10s"
      },
      "source": [
        "Python 2.7"
      ]
    },
    {
      "cell_type": "code",
      "metadata": {
        "id": "j33QTtBXoqVc"
      },
      "source": [
        "# username = raw_input(\"Enter username:\")\n",
        "# print(\"Username is: \" + username)"
      ],
      "execution_count": null,
      "outputs": []
    },
    {
      "cell_type": "markdown",
      "metadata": {
        "id": "kpIgcvb7QoAN"
      },
      "source": [
        "# **Boolean**\n",
        "\n",
        "In programming you often need to know if an expression is True or False.\n",
        "\n",
        "True ->\n",
        "\n",
        "Most Values are True\n",
        "\n",
        "Almost any value is evaluated to True if it has some sort of content.\n",
        "\n",
        "* Any `string` is `True`, except `empty strings`.\n",
        "\n",
        "* Any `number` is `True`, except `0`.\n",
        "\n",
        "* Any `list, tuple, set, and dictionary` are `True`, except `empty ones`.\n",
        "\n",
        "\n",
        "False ->\n",
        "\n",
        "* Konstanta yang sudah didefinisikan bernilai salah: None dan False\n",
        "\n",
        "* Angka nol dari semua tipe numeric: 0, 0.0, 0j, Decimal(0), Fraction(0, 1)\n",
        "\n",
        "* Urutan (sequence) dan koleksi (collection) yang kosong: '', (), {}, set(), range(0)"
      ]
    },
    {
      "cell_type": "code",
      "metadata": {
        "id": "BJX4Cv2tQufB",
        "colab": {
          "base_uri": "https://localhost:8080/",
          "height": 70
        },
        "outputId": "6d3b184f-3d73-4163-c8af-6ae39fa8676e"
      },
      "source": [
        "print(10 > 9)\n",
        "print(10 == 9)\n",
        "print(10 < 9)"
      ],
      "execution_count": null,
      "outputs": [
        {
          "output_type": "stream",
          "text": [
            "True\n",
            "False\n",
            "False\n"
          ],
          "name": "stdout"
        }
      ]
    },
    {
      "cell_type": "code",
      "metadata": {
        "id": "4uqhRnnzQxao",
        "colab": {
          "base_uri": "https://localhost:8080/",
          "height": 34
        },
        "outputId": "48052347-7170-4870-9500-fadafc562c30"
      },
      "source": [
        "a = 200\n",
        "b = 33\n",
        "\n",
        "if b > a:\n",
        "  print(\"b is greater than a\")\n",
        "else:\n",
        "  print(\"b is not greater than a\")"
      ],
      "execution_count": null,
      "outputs": [
        {
          "output_type": "stream",
          "text": [
            "b is not greater than a\n"
          ],
          "name": "stdout"
        }
      ]
    },
    {
      "cell_type": "code",
      "metadata": {
        "id": "kQYL_ih8nmal",
        "colab": {
          "base_uri": "https://localhost:8080/",
          "height": 34
        },
        "outputId": "09ccb320-39ce-4fc6-9187-eab5c5b9befd"
      },
      "source": [
        "# Cast value to bool\n",
        "# false only 0 or '' empty string\n",
        "# true 1 or others or string \n",
        "\n",
        "a = bool(0) \n",
        "b = bool(1)\n",
        "c = bool(20)\n",
        "d = bool('23')\n",
        "e = bool('')\n",
        "\n",
        "print(a, b, c, d, e)"
      ],
      "execution_count": null,
      "outputs": [
        {
          "output_type": "stream",
          "text": [
            "False True True True False\n"
          ],
          "name": "stdout"
        }
      ]
    },
    {
      "cell_type": "markdown",
      "metadata": {
        "id": "1WNkppOnn3xP"
      },
      "source": [
        "# **Number**\n",
        "\n",
        "Number adalah tipe data Python yang menyimpan nilai numerik. Number adalah tipe data yang tidak berubah. Ini berarti, mengubah nilai dari sejumlah tipe data akan menghasilkan objek yang baru dialokasikan.\n",
        "\n",
        "Python mendukung beberapa tipe data Number diantaranya :\n",
        "\n",
        "* Int\n",
        "* Float\n",
        "* Complex\n",
        "\n",
        "**Konversi Tipe Data Number Python**\n",
        "\n",
        "Pada Python Anda bisa mengkonversi tipe data dengan menggunakan fungsi. Dibawah ini adalah beberapa fungsi untuk mengkonversi tipe data number Python.\n",
        "\n",
        "* **int(x)** untuk meng-konversi x menjadi plain integer.\n",
        "\n",
        "* **long(x)** untuk meng-konversi x menjadi long integer.\n",
        "\n",
        "* **float(x)** untuk meng-konversi x menjadi floating point number.\n",
        "\n",
        "* **complex(x)** untuk meng-konversi x menjadi complex number dengna real part x dan imaginary part zero.\n",
        "\n",
        "* **complex(x, y)** untuk meng-konversi x dan y menjadi complex number dengan real part x dan imaginary part y. x dan numeric expressions y.\n",
        "\n",
        "**Fungsi Matematika Python**\n",
        "\n",
        "![fungsimatematika01.png](https://raw.githubusercontent.com/nurimammasri/Wooky-Python/main/image/fungsimatematika01.png)\n",
        "\n",
        "![fungsimatematika02.png](https://raw.githubusercontent.com/nurimammasri/Wooky-Python/main/image/fungsimatematika02.png)\n",
        "\n",
        "\n",
        "**Fungsi Nomor Acak Python**\n",
        "\n",
        "![fungsinomoracak.png](https://raw.githubusercontent.com/nurimammasri/Wooky-Python/main/image/fungsinomoracak.png)\n",
        "\n",
        "\n",
        "**Fungsi Trigonometri Python**\n",
        "\n",
        "![fungsitrigonometri.png](https://raw.githubusercontent.com/nurimammasri/Wooky-Python/main/image/fungsitrigonometri.png)\n",
        "\n",
        "**Konstanta Matematika Python**\n",
        "\n",
        "![fungsikonstanta.png](https://raw.githubusercontent.com/nurimammasri/Wooky-Python/main/image/fungsikonstanta.png)\n",
        "\n",
        "Tambahan\n",
        "\n",
        "**fungsi zfill( )**\n",
        "\n",
        "awalan 0 (0001 untuk angka 1, 0101 untuk angka 101, dan sebagainya). Anda dapat menggunakan fungsi zfill(). Catatannya adalah angka harus dikonversi ke string terlebih dahulu\n",
        "\n",
        "`str(x).zfill(5)`\n"
      ]
    },
    {
      "cell_type": "markdown",
      "metadata": {
        "id": "FE4hgfJMOqHZ"
      },
      "source": [
        "# **String**\n",
        "\n",
        "String literals in python are surrounded by either single quotation marks, or double quotation marks.\n",
        "\n",
        "**'hello'** is the same as **\"hello\"**\n",
        "\n",
        "Di dalam bahasa Python, terdapat 3 cara untuk membuat tipe data string:\n",
        "\n",
        "* Menggunakan tanda kutip satu ( ‘ )\n",
        "\n",
        "* Menggunakan tanda kutip dua ( ” )\n",
        "\n",
        "* Menggunakan tanda kutip satu atau dua sebanyak 3 kali ( ‘ ‘ ‘ ) atau (” ” “)"
      ]
    },
    {
      "cell_type": "code",
      "metadata": {
        "id": "ZeJL_GykNYoy",
        "colab": {
          "base_uri": "https://localhost:8080/",
          "height": 34
        },
        "outputId": "f3f73395-61f4-448c-9597-9900869385e9"
      },
      "source": [
        "print('hello' == \"hello\")  # will return True"
      ],
      "execution_count": null,
      "outputs": [
        {
          "output_type": "stream",
          "text": [
            "True\n"
          ],
          "name": "stdout"
        }
      ]
    },
    {
      "cell_type": "code",
      "metadata": {
        "id": "PXYhtHbz1e5G",
        "colab": {
          "base_uri": "https://localhost:8080/",
          "height": 105
        },
        "outputId": "32dd8d29-c7d9-43f9-98da-2a4b1734f9a7"
      },
      "source": [
        "foo = \"Teks ini akan dipecah\\nke dalam 2 baris\"\n",
        "print(foo)\n",
        "foo = 'Teks ini\\nakan dipecah\\nke dalam 3 baris'\n",
        "print(foo)"
      ],
      "execution_count": null,
      "outputs": [
        {
          "output_type": "stream",
          "text": [
            "Teks ini akan dipecah\n",
            "ke dalam 2 baris\n",
            "Teks ini\n",
            "akan dipecah\n",
            "ke dalam 3 baris\n"
          ],
          "name": "stdout"
        }
      ]
    },
    {
      "cell_type": "markdown",
      "metadata": {
        "id": "y9YYKY0YQuDO"
      },
      "source": [
        "For multiline string, you can use triple quotes \" \" \" ... \" \" \" or triple single quote ' ' ' ... ' ' '"
      ]
    },
    {
      "cell_type": "code",
      "metadata": {
        "id": "1uOV7L5iQoNL",
        "colab": {
          "base_uri": "https://localhost:8080/",
          "height": 125
        },
        "outputId": "af474bbc-1141-48bb-900e-f39f37b29002"
      },
      "source": [
        "text = \"\"\"Lorem ipsum dolor sit amet, \n",
        "consectetur adipiscing elit, \n",
        "sed do eiusmod tempor incididunt ut labore et dolore magna aliqua. \n",
        "Ut enim ad minim veniam, \n",
        "quis nostrud exercitation ullamco laboris nisi ut aliquip ex ea commodo consequat. \"\"\"\n",
        "\n",
        "print(text)"
      ],
      "execution_count": null,
      "outputs": [
        {
          "output_type": "stream",
          "text": [
            "Lorem ipsum dolor sit amet, \n",
            "consectetur adipiscing elit, \n",
            "sed do eiusmod tempor incididunt ut labore et dolore magna aliqua. \n",
            "Ut enim ad minim veniam, \n",
            "quis nostrud exercitation ullamco laboris nisi ut aliquip ex ea commodo consequat. \n"
          ],
          "name": "stdout"
        }
      ]
    },
    {
      "cell_type": "markdown",
      "metadata": {
        "id": "Ih4v0na-RniZ"
      },
      "source": [
        "## **Strings are Arrays**\n",
        "Like many other popular programming languages, strings in Python are arrays of bytes representing unicode characters. However, Python does not have a character data type, a single character is simply a string with a length of 1. Square brackets can be used to access elements of the string."
      ]
    },
    {
      "cell_type": "code",
      "metadata": {
        "id": "r9khY4jXRTEq",
        "colab": {
          "base_uri": "https://localhost:8080/",
          "height": 34
        },
        "outputId": "9b78a626-d1f4-46f3-ab9f-5578acb478cd"
      },
      "source": [
        "text = \"Universitas Hasanuddin\"\n",
        "\n",
        "# Get a character in position 2\n",
        "print(text[2])"
      ],
      "execution_count": null,
      "outputs": [
        {
          "output_type": "stream",
          "text": [
            "i\n"
          ],
          "name": "stdout"
        }
      ]
    },
    {
      "cell_type": "markdown",
      "metadata": {
        "id": "TnWwPtppr0Sh"
      },
      "source": [
        "but not support assignment"
      ]
    },
    {
      "cell_type": "code",
      "metadata": {
        "id": "riNC6sUOr3l-",
        "colab": {
          "base_uri": "https://localhost:8080/",
          "height": 34
        },
        "outputId": "7bd3acfe-d503-4533-f1e5-fc5402fd5a92"
      },
      "source": [
        "text = \"Universitas Hasanuddin\"\n",
        "print(text)\n",
        "\n",
        "# assignment\n",
        "# text[0]='A'\n",
        "# print(text)\n",
        "# ERROR = 'str' object does not support item assignment"
      ],
      "execution_count": null,
      "outputs": [
        {
          "output_type": "stream",
          "text": [
            "Universitas Hasanuddin\n"
          ],
          "name": "stdout"
        }
      ]
    },
    {
      "cell_type": "markdown",
      "metadata": {
        "id": "XhaLMQHlT4Qg"
      },
      "source": [
        "## **Subsetting(Indexing) and Slicing**\n",
        "\n",
        "You can return a range of characters by using the slice syntax.\n",
        "\n",
        "Specify the start index and the end index, separated by a colon, to return a part of the string. Also, you can use negative indexes to start the slice from the end of the string."
      ]
    },
    {
      "cell_type": "code",
      "metadata": {
        "id": "4LC2Qi73SJF5",
        "colab": {
          "base_uri": "https://localhost:8080/",
          "height": 105
        },
        "outputId": "c4d4808c-8c40-41e2-fabe-c982e940890d"
      },
      "source": [
        "text = \"DSC Universitas Hasanuddin\"\n",
        "print(text[2])\n",
        "print(text[-2])\n",
        "\n",
        "print(text[:3])     # print text start from beginning to index 3(not include)\n",
        "print(text[4:15])   # print text start from index 4 to index 15(not include)\n",
        "print(text[:-2])    # print text start from beginning to index 1 from end (not include)"
      ],
      "execution_count": null,
      "outputs": [
        {
          "output_type": "stream",
          "text": [
            "C\n",
            "i\n",
            "DSC\n",
            "Universitas\n",
            "DSC Universitas Hasanudd\n"
          ],
          "name": "stdout"
        }
      ]
    },
    {
      "cell_type": "code",
      "metadata": {
        "id": "AOmEWdxoUbx9",
        "colab": {
          "base_uri": "https://localhost:8080/",
          "height": 34
        },
        "outputId": "b9322ba7-c6ae-44bc-d98d-9e26055045e9"
      },
      "source": [
        "text = \"DSC Universitas Hasanuddin\"\n",
        "\n",
        "# TODO : Try to print 'versit' from text using slicing\n",
        "\n",
        "print(text[7:13])"
      ],
      "execution_count": null,
      "outputs": [
        {
          "output_type": "stream",
          "text": [
            "versit\n"
          ],
          "name": "stdout"
        }
      ]
    },
    {
      "cell_type": "markdown",
      "metadata": {
        "id": "BbF_KGfzXYr9"
      },
      "source": [
        "## **String Concatenation**\n",
        "\n",
        "String concatenation in Python can be done these ways :\n",
        "- Using str() function\n",
        "- Using % operator\n",
        "- Using format() function\n",
        "- Using f-string"
      ]
    },
    {
      "cell_type": "code",
      "metadata": {
        "id": "vVgpBqQfV2g4",
        "colab": {
          "base_uri": "https://localhost:8080/",
          "height": 34
        },
        "outputId": "50b40031-55eb-4a80-a2ab-3427217f3c78"
      },
      "source": [
        "date = 21\n",
        "month = 'February'\n",
        "\n",
        "print('Today is ' + month + ', ' + str(date) + 'st.')"
      ],
      "execution_count": null,
      "outputs": [
        {
          "output_type": "stream",
          "text": [
            "Today is February, 21st.\n"
          ],
          "name": "stdout"
        }
      ]
    },
    {
      "cell_type": "code",
      "metadata": {
        "id": "AAHwpiDRMoUJ",
        "colab": {
          "base_uri": "https://localhost:8080/",
          "height": 34
        },
        "outputId": "2393207c-3533-445e-84c6-f64844987dff"
      },
      "source": [
        "date = 21\n",
        "month = 'February'\n",
        "\n",
        "print('Today is %s, %dst.' % (month, date))"
      ],
      "execution_count": null,
      "outputs": [
        {
          "output_type": "stream",
          "text": [
            "Today is February, 21st.\n"
          ],
          "name": "stdout"
        }
      ]
    },
    {
      "cell_type": "code",
      "metadata": {
        "id": "j8UYmNOKM1YT",
        "colab": {
          "base_uri": "https://localhost:8080/",
          "height": 52
        },
        "outputId": "f38cde90-a2a5-4ba5-a190-4bb21a60431e"
      },
      "source": [
        "date = 21\n",
        "month = 'February'\n",
        "\n",
        "print('Today is {}, {}st.'.format(month, date))\n",
        "\n",
        "print('Today is {1}, {0}st.'.format(date, month))"
      ],
      "execution_count": null,
      "outputs": [
        {
          "output_type": "stream",
          "text": [
            "Today is February, 21st.\n",
            "Today is February, 21st.\n"
          ],
          "name": "stdout"
        }
      ]
    },
    {
      "cell_type": "code",
      "metadata": {
        "id": "dO_Ru7hwNHiM",
        "colab": {
          "base_uri": "https://localhost:8080/",
          "height": 34
        },
        "outputId": "7c37743f-85bf-4ed7-c60c-177ef080fb6a"
      },
      "source": [
        "date = 21\n",
        "month = 'February'\n",
        "\n",
        "print(f'Today is {month}, {date}st.')"
      ],
      "execution_count": null,
      "outputs": [
        {
          "output_type": "stream",
          "text": [
            "Today is February, 21st.\n"
          ],
          "name": "stdout"
        }
      ]
    },
    {
      "cell_type": "code",
      "metadata": {
        "id": "DuYJPesmHiud"
      },
      "source": [
        "#TYPE\n",
        "a,b,c = 1,2,3\n",
        "print(\"a = %d , b = %d , c = %d\" % (a,b,c)) #format identifier\n",
        "print(\"a =\",a,\", b =\",b,\", c =\",c) #type numeric value\n",
        "print(\"a = \"+str(a)+\" , b = \"+str(b)+\" , c = \"+str(c)) #format string\n",
        "print(f'a = {a} , b = {b} , c = {c}') #f-string\n",
        "print(\"a = {} , b = {} , c = {}\".format(a,b,c)) # f{} format 01\n",
        "print(\"b = {1} , a = {0} , c = {2}\".format(a,b,c)) # f{} format 02\n",
        "print(\"a = {:.2f} , b = {:.1f} , c = {}\".format(a,b,c)) # f{} format 03\n",
        "print(\"b = {1} , a = {0:.2f} , c = {2}\".format(a,b,c)) # f{} format 04\n",
        "\n",
        "myorder = \"I have a {carname}, it is a {model}.\"\n",
        "print(myorder.format(carname = \"Ford\", model = \"Mustang\")) # f{} format 05\n",
        "\n",
        "print(r'That is Carol\\'s cat.') # Raw String"
      ],
      "execution_count": null,
      "outputs": []
    },
    {
      "cell_type": "markdown",
      "metadata": {
        "id": "UwdNj36ovWJL"
      },
      "source": [
        "## **Escape Characters**\n",
        "\n",
        "* \\a : Bell atau alert\n",
        "\n",
        "* \\b : Backspace\n",
        "\n",
        "* \\cx : Control-x\n",
        "\n",
        "* \\C-x : Control-x\n",
        "\n",
        "* \\e : Escape\n",
        "\n",
        "* \\f : Formfeed\n",
        "\n",
        "* \\M-\\C-x : Meta-Control-x\n",
        "\n",
        "* \\n : Newline\n",
        "\n",
        "* \\nnn : Octal notation, dimana n berada di range 0.7\n",
        "\n",
        "* \\r : Carriage return\n",
        "\n",
        "* \\s : Space\n",
        "\n",
        "* \\t : Tab\n",
        "\n",
        "* \\v : Vertical tab\n",
        "\n",
        "* \\x : Character x\n",
        "\n",
        "* \\xnn : Notasi Hexadecimal, dimana n berada di range 0.9, a.f, atau A.F\n",
        "\n",
        "\n"
      ]
    },
    {
      "cell_type": "markdown",
      "metadata": {
        "id": "EQrZG3N-LzKu"
      },
      "source": [
        "## **Operator Spesial String Python**\n",
        "\n",
        "Asumsikan variabel string adalah 'Belajar' dan variabel b adalah 'Python', lalu dibawah ini adalah operator yang bisa dipakai pada kedua string di variabel tersebut. a = \"Belajar\" b = \"Python\"\n",
        "\n",
        "* \\+ --> a + b\t\n",
        "    \n",
        "    akan menghasilkan BelajarPython Concatenation - Menambahkan nilai pada kedua sisi operator\n",
        "\n",
        "* \\* --> a*2\t\n",
        "    \n",
        "    akan menghasilkan BelajarBelajar Pengulangan - Membuat string baru, menggabungkan beberapa salinan dari string yang sama\n",
        "\n",
        "* [] -->\ta[1]\t\n",
        "\n",
        "    akan menghasilkan e Slice - Memberikan karakter dari indeks yang diberikan\n",
        "\n",
        "* [ : ] -->\ta[1:4]\t\n",
        "    \n",
        "    akan menghasilkan ela Range Slice - Memberikan karakter dari kisaran yang diberikan\n",
        "\n",
        "* in -->\tB in a\t\n",
        "    \n",
        "    akan menghasilkan 1 Keanggotaan - Mengembalikan nilai true jika ada karakter dalam string yang diberikan\n",
        "\n",
        "* not in --> Z not in a\t\n",
        "    \n",
        "    akan menghasilkan 1 Keanggotaan - Mengembalikan nilai true jika karakter tidak ada dalam string yang diberikan\n",
        "\n",
        "* r/R --> \t`print r'\\n'` `prints \\n` dan `print R'\\n'` `prints \\n Raw String` \t\n",
        "    \n",
        "    Menekan arti aktual karakter Escape. Sintaks untuk string mentah sama persis dengan string biasa kecuali operator string mentah, huruf “r”, yang mendahului tanda petik. “R” bisa berupa huruf kecil (r) atau huruf besar (R) dan harus ditempatkan tepat sebelum tanda kutip pertama.\n",
        "\n",
        "* % --> Format - Melakukan format String\n"
      ]
    },
    {
      "cell_type": "code",
      "metadata": {
        "id": "l_rsjIi7M22X",
        "colab": {
          "base_uri": "https://localhost:8080/",
          "height": 105
        },
        "outputId": "e765a59b-bde4-4700-dea0-6f544c628da6"
      },
      "source": [
        "a = \"Belajar\"\n",
        "b = \"Python\"\n",
        "\n",
        "print('a+b = ',a+b)\n",
        "print('a*2 = ',a*2)\n",
        "print('B in a = ','B' in a)\n",
        "print('Z not in a = ', 'Z' not in a)\n",
        "print (\"My name is %s and weight is %d kg!\" % ('Zara', 21))"
      ],
      "execution_count": null,
      "outputs": [
        {
          "output_type": "stream",
          "text": [
            "a+b =  BelajarPython\n",
            "a*2 =  BelajarBelajar\n",
            "B in a =  True\n",
            "Z not in a =  True\n",
            "My name is Zara and weight is 21 kg!\n"
          ],
          "name": "stdout"
        }
      ]
    },
    {
      "cell_type": "markdown",
      "metadata": {
        "id": "tX4c5fTxNnkw"
      },
      "source": [
        "## **Operator Format String Python**\n",
        "\n",
        "* %c = character\n",
        "* %s = Konversi string melalui str () sebelum memformat\n",
        "* %i = Dianggap sebagai bilangan bulat desimal\n",
        "* %d = Dianggap sebagai bilangan bulat desimal\n",
        "* %u = Unsigned decimal integer\n",
        "* %o = Bilangan bulat oktal\n",
        "* %x = Bilangan bulat heksadesimal (huruf kecil)\n",
        "* %X = Bilangan bulat heksadesimal (huruf besar)\n",
        "* %e = Notasi eksponensial (dengan huruf kecil ‘e’)\n",
        "* %E = Notasi eksponensial (dengan huruf besar ‘E’)\n",
        "* %f = Bilangan real floating point\n",
        "* %g = Yang lebih pendek dari% f dan% e\n",
        "* %G = Lebih pendek dari% f dan% E\n",
        "\n",
        "\n",
        "\n"
      ]
    },
    {
      "cell_type": "code",
      "metadata": {
        "id": "DdqR4Iq3HSzb"
      },
      "source": [
        "#TYPE\n",
        "a,b,c = 1,2,3\n",
        "print(\"a = %d , b = %d , c = %d\" % (a,b,c)) #format identifier\n",
        "print(\"a =\",a,\", b =\",b,\", c =\",c) #type numeric value\n",
        "print(\"a = \"+str(a)+\" , b = \"+str(b)+\" , c = \"+str(c)) #format string\n",
        "print(f'a = {a} , b = {b} , c = {c}') #f-string\n",
        "print(\"a = {} , b = {} , c = {}\".format(a,b,c)) # f{} format 01\n",
        "print(\"b = {1} , a = {0} , c = {2}\".format(a,b,c)) # f{} format 02\n",
        "print(\"a = {:.2f} , b = {:.1f} , c = {}\".format(a,b,c)) # f{} format 03\n",
        "print(\"b = {1} , a = {0:.2f} , c = {2}\".format(a,b,c)) # f{} format 04\n",
        "\n",
        "myorder = \"I have a {carname}, it is a {model}.\"\n",
        "print(myorder.format(carname = \"Ford\", model = \"Mustang\")) # f{} format 05\n",
        "\n",
        "print(r'That is Carol\\'s cat.') # Raw String"
      ],
      "execution_count": null,
      "outputs": []
    },
    {
      "cell_type": "markdown",
      "metadata": {
        "id": "2n0gdvgNPX07"
      },
      "source": [
        "## **String Format { }**\n",
        "\n",
        "The format() method takes the passed arguments, formats them, and places them in the string where the placeholders {} are:\n",
        "\n",
        "Use the format() method to insert numbers into strings:\n",
        "\n"
      ]
    },
    {
      "cell_type": "code",
      "metadata": {
        "id": "tQaK8ZcQP91y",
        "colab": {
          "base_uri": "https://localhost:8080/",
          "height": 34
        },
        "outputId": "2b8009a9-5a33-46ae-8da1-fc7353ff7ace"
      },
      "source": [
        "age = 36\n",
        "txt = \"My name is John, and I am {}\"\n",
        "print(txt.format(age))"
      ],
      "execution_count": null,
      "outputs": [
        {
          "output_type": "stream",
          "text": [
            "My name is John, and I am 36\n"
          ],
          "name": "stdout"
        }
      ]
    },
    {
      "cell_type": "code",
      "metadata": {
        "id": "Ar2KLxHkQAGA",
        "colab": {
          "base_uri": "https://localhost:8080/",
          "height": 34
        },
        "outputId": "a1f677f1-c3e5-465c-c186-588ec0a3bf50"
      },
      "source": [
        "quantity = 3\n",
        "itemno = 567\n",
        "price = 49.95\n",
        "myorder = \"I want {} pieces of item {} for {} dollars.\"\n",
        "print(myorder.format(quantity, itemno, price))"
      ],
      "execution_count": null,
      "outputs": [
        {
          "output_type": "stream",
          "text": [
            "I want 3 pieces of item 567 for 49.95 dollars.\n"
          ],
          "name": "stdout"
        }
      ]
    },
    {
      "cell_type": "code",
      "metadata": {
        "id": "uOvdACjpQCT3",
        "colab": {
          "base_uri": "https://localhost:8080/",
          "height": 34
        },
        "outputId": "e5e3fe97-1f45-4b5f-d59f-967b053fe73b"
      },
      "source": [
        "quantity = 3\n",
        "itemno = 567\n",
        "price = 49.95\n",
        "myorder = \"I want to pay {2} dollars for {0} pieces of item {1}.\"\n",
        "print(myorder.format(quantity, itemno, price))"
      ],
      "execution_count": null,
      "outputs": [
        {
          "output_type": "stream",
          "text": [
            "I want to pay 49.95 dollars for 3 pieces of item 567.\n"
          ],
          "name": "stdout"
        }
      ]
    },
    {
      "cell_type": "markdown",
      "metadata": {
        "id": "sowsx3OArIAI"
      },
      "source": [
        "## **String Method and Unicode Python**\n",
        "\n",
        "* `capitalize()`\t\n",
        "\n",
        "    Mengkapitalkan huruf pertama string\n",
        "\n",
        "* `center(width, fillchar)`\n",
        "\n",
        "    Mengembalikan string yang dilapisi dengan fillchar dengan string asli yang dipusatkan pada total width kolom.\n",
        "\n",
        "* `count(str, beg = 0,end = len(string))`\t\n",
        "    \n",
        "    Menghitung berapa kali str yang terjadi dalam string atau dalam substring string jika memulai indeks beg dan end index end diberikan.\n",
        "\n",
        "* `decode(encoding = 'UTF-8',errors = 'strict')`\n",
        "\n",
        "    Dekode string menggunakan codec yang terdaftar untuk pengkodean. Encoding default ke pengkodean string default.\n",
        "\n",
        "* `encode(encoding = 'UTF-8',errors = 'strict')`\n",
        "\n",
        "    Mengembalikan versi string yang dikodekan string; Pada kesalahan, default adalah menaikkan ValueError kecuali jika kesalahan diberikan dengan ‘ignore’ atau ‘replace’.\n",
        "\n",
        "* `expandtabs(tabsize = 8)`\t\n",
        "\n",
        "    Memperluas tab dalam string ke banyak ruang; Default ke 8 spasi per tab jika tabsize tidak tersedia.\n",
        "\n",
        "* `find(str, beg = 0 end = len(string))`\t\n",
        "\n",
        "    Tentukan jika str terjadi dalam string atau dalam substring string jika memulai indeks beg dan end index end diberikan return index jika ditemukan dan -1 sebaliknya.\n",
        "\n",
        "* `index(str, beg = 0, end = len(string))`\t\n",
        "\n",
        "    Sama seperti find (), namun menimbulkan pengecualian jika str tidak ditemukan.\n",
        "\n",
        "\n",
        "* `isalnum()`\n",
        "\n",
        "    Mengembalikan true jika string memiliki minimal 1 karakter dan semua karakternya alfanumerik dan false sebaliknya.\n",
        "\n",
        "* `isalpha()`\n",
        "\n",
        "    Mengembalikan true jika string memiliki minimal 1 karakter dan semua karakter adalah abjad dan false sebaliknya.\n",
        "\n",
        "* `isdigit()`\n",
        "\n",
        "    Mengembalikan true jika string hanya berisi digit dan false sebaliknya.\n",
        "\n",
        "* `islower()`\n",
        "\n",
        "    Mengembalikan true jika string memiliki setidaknya 1 karakter casing dan semua karakter casing dalam huruf kecil dan false sebaliknya.\n",
        "\n",
        "* `isnumeric()`\t\n",
        "\n",
        "    Mengembalikan true jika string unicode hanya berisi karakter numerik dan false sebaliknya.\n",
        "\n",
        "* `isspace()`\n",
        "\n",
        "    Mengembalikan true jika string hanya berisi karakter spasi dan false sebaliknya.\n",
        "\n",
        "* `istitle()`\t\n",
        "\n",
        "    Mengembalikan true jika string benar “titlecased” dan false sebaliknya.\n",
        "\n",
        "* `isupper()`\n",
        "\n",
        "    Mengembalikan true jika string memiliki setidaknya satu karakter casing dan semua karakter casing ada dalam huruf besar dan false sebaliknya.\n",
        "\n",
        "* `join(seq)`\n",
        "\n",
        "    Merges (concatenates) representasi string elemen dalam urutan seq menjadi string, dengan string pemisah.\n",
        "\n",
        "* `len(string)`\n",
        "\n",
        "    Mengembalikan panjang string\n",
        "\n",
        "* `ljust(width[, fillchar])`\n",
        "\n",
        "    Mengembalikan string berlapis ruang dengan string asli dibiarkan dibenarkan ke kolom lebar total.\n",
        "\n",
        "* `lstrip()`\n",
        "\n",
        "    Menghapus semua spasi utama dalam string.\n",
        "\n",
        "* `maketrans()`\n",
        "\n",
        "    Mengembalikan tabel terjemahan untuk digunakan dalam fungsi terjemahan.\n",
        "\n",
        "* `max(str)`\n",
        "\n",
        "    Mengembalikan karakter alfabetik dari string str.\n",
        "\n",
        "* `min(str)`\n",
        "\n",
        "    Mengembalikan min karakter abjad dari string str.\n",
        "\n",
        "* `replace(old, new [, max])`\t\n",
        "\n",
        "    Menggantikan semua kemunculan lama dalam string dengan kejadian baru atau paling maksimal jika max diberikan.\n",
        "\n",
        "* `rfind(str, beg = 0,end = len(string))`\n",
        "\n",
        "    Sama seperti find (), tapi cari mundur dalam string.\n",
        "\n",
        "* `rindex( str, beg = 0, end = len(string))`\n",
        "    Sama seperti index (), tapi cari mundur dalam string.\n",
        "\n",
        "* `rjust(width,[, fillchar])`\t\n",
        "\n",
        "    Mengembalikan string berlapis ruang dengan senar asli benar-dibenarkan untuk total kolom lebar.\n",
        "\n",
        "* `rstrip()`\n",
        "\n",
        "    Menghapus semua spasi spasi string.\n",
        "\n",
        "* `split(str=\"\", num=string.count(str))`\t\n",
        "\n",
        "    Membagi string sesuai dengan pemisah str (ruang jika tidak disediakan) dan mengembalikan daftar substring; Terpecah menjadi paling banyak substring jika diberikan.\n",
        "\n",
        "* `splitlines( num=string.count('\\n'))`\t\n",
        "\n",
        "    Membagi string sama sekali (atau num) NEWLINEs dan mengembalikan daftar setiap baris dengan NEWLINEs dihapus.\n",
        "\n",
        "* `startswith(str, beg=0,end=len(string)`\t\n",
        "\n",
        "    Determines if string or a substring of string (if starting index beg and ending index end are given) starts with substring str; returns true if so and false otherwise.\n",
        "\n",
        "* `endswith(suffix, beg = 0, end = len(string))`\t\n",
        "\n",
        "    Menentukan apakah string atau substring string (jika memulai indeks memohon dan mengakhiri akhir indeks diberikan) berakhir dengan akhiran; Mengembalikan nilai true jika benar dan salah.\n",
        "\n",
        "* `strip([chars])`\n",
        "\n",
        "    Lakukan kedua lstrip () dan rstrip () pada string\n",
        "\n",
        "* `swapcase()`\t\n",
        "\n",
        "    Kasus invers untuk semua huruf dalam string.\n",
        "\n",
        "* `title()`\t\n",
        "\n",
        "    Mengembalikan versi string “titlecased”, yaitu, semua kata diawali dengan huruf besar dan sisanya huruf kecil.\n",
        "\n",
        "* `translate(table, deletechars=\"\")`\n",
        "\n",
        "    Menerjemahkan string sesuai dengan tabel terjemahan str (256 karakter), menghapus string del.\n",
        "\n",
        "* `upper()`\t\n",
        "\n",
        "    Mengonversi huruf kecil dalam bentuk string ke huruf besar.\n",
        "\n",
        "* `lower()`\n",
        "\n",
        "    Mengonversi semua huruf besar dalam bentuk string menjadi huruf kecil.\n",
        "\n",
        "* `zfill (width)`\t\n",
        "\n",
        "    Mengembalikan string asli yang tertinggal dengan angka nol ke total karakter lebar; Dimaksudkan untuk angka, zfill () mempertahankan tanda apapun yang diberikan (kurang satu nol).\n",
        "\n",
        "* `isdecimal()`\n",
        "\n",
        "    Mengembalikan nilai true jika string unicode hanya berisi karakter desimal dan false sebaliknya.\n",
        "\n",
        "\n",
        "\n",
        "Python has a set of built-in methods that you can use on strings. Reference : [String Method](https://www.w3schools.com/python/python_ref_string.asp)"
      ]
    },
    {
      "cell_type": "markdown",
      "metadata": {
        "id": "rBev245IKzyG"
      },
      "source": [
        "### Example\n",
        "\n",
        "The `strip()` method removes any whitespace from the beginning or the end:"
      ]
    },
    {
      "cell_type": "code",
      "metadata": {
        "id": "gBSipcFbKxJv",
        "colab": {
          "base_uri": "https://localhost:8080/",
          "height": 34
        },
        "outputId": "9c04e2f4-e1b9-4932-9a53-a53c5bbf6896"
      },
      "source": [
        "a = \" Hello, World! \"\n",
        "print(a.strip()) # returns \"Hello, World!\""
      ],
      "execution_count": null,
      "outputs": [
        {
          "output_type": "stream",
          "text": [
            "Hello, World!\n"
          ],
          "name": "stdout"
        }
      ]
    },
    {
      "cell_type": "markdown",
      "metadata": {
        "id": "6DWko5EVNhYS"
      },
      "source": [
        "The `lower()` method returns the string in lower case:"
      ]
    },
    {
      "cell_type": "code",
      "metadata": {
        "id": "EnwlfRXFNlIx",
        "colab": {
          "base_uri": "https://localhost:8080/",
          "height": 34
        },
        "outputId": "f75ef1c0-69d1-4d9f-9a90-665244d9a6ac"
      },
      "source": [
        "a = \"Hello, World!\"\n",
        "print(a.lower())"
      ],
      "execution_count": null,
      "outputs": [
        {
          "output_type": "stream",
          "text": [
            "hello, world!\n"
          ],
          "name": "stdout"
        }
      ]
    },
    {
      "cell_type": "markdown",
      "metadata": {
        "id": "ZhoFsMKhNndf"
      },
      "source": [
        "The `upper()` method returns the string in upper case:"
      ]
    },
    {
      "cell_type": "code",
      "metadata": {
        "id": "RorvlAK3NqG8",
        "colab": {
          "base_uri": "https://localhost:8080/",
          "height": 34
        },
        "outputId": "407f3bd9-c3eb-48be-d5b4-09821eae35c8"
      },
      "source": [
        "a = \"Hello, World!\"\n",
        "print(a.upper())"
      ],
      "execution_count": null,
      "outputs": [
        {
          "output_type": "stream",
          "text": [
            "HELLO, WORLD!\n"
          ],
          "name": "stdout"
        }
      ]
    },
    {
      "cell_type": "code",
      "metadata": {
        "id": "Qzm3m9W-v7d_",
        "colab": {
          "base_uri": "https://localhost:8080/",
          "height": 34
        },
        "outputId": "e2ab4919-94c4-4fa2-b88a-039a4d1e109c"
      },
      "source": [
        "'abc12345'.islower()"
      ],
      "execution_count": null,
      "outputs": [
        {
          "output_type": "execute_result",
          "data": {
            "text/plain": [
              "True"
            ]
          },
          "metadata": {
            "tags": []
          },
          "execution_count": 7
        }
      ]
    },
    {
      "cell_type": "code",
      "metadata": {
        "id": "XdoN3jv5v_IE",
        "colab": {
          "base_uri": "https://localhost:8080/",
          "height": 34
        },
        "outputId": "692d7db6-19e7-4469-b409-72b3b64d49df"
      },
      "source": [
        "'12345'.islower()"
      ],
      "execution_count": null,
      "outputs": [
        {
          "output_type": "execute_result",
          "data": {
            "text/plain": [
              "False"
            ]
          },
          "metadata": {
            "tags": []
          },
          "execution_count": 8
        }
      ]
    },
    {
      "cell_type": "code",
      "metadata": {
        "id": "hAKiA1wewAi5",
        "colab": {
          "base_uri": "https://localhost:8080/",
          "height": 34
        },
        "outputId": "8056c372-ffe3-48e7-a704-e2c169b5f37d"
      },
      "source": [
        "'12345'.isupper()"
      ],
      "execution_count": null,
      "outputs": [
        {
          "output_type": "execute_result",
          "data": {
            "text/plain": [
              "False"
            ]
          },
          "metadata": {
            "tags": []
          },
          "execution_count": 9
        }
      ]
    },
    {
      "cell_type": "code",
      "metadata": {
        "id": "1HidGd8owDnh",
        "colab": {
          "base_uri": "https://localhost:8080/",
          "height": 105
        },
        "outputId": "65e460a4-4b04-4b72-d76d-7dd57073cad4"
      },
      "source": [
        "print('Hello'.upper())\n",
        "print('Hello'.upper().lower())\n",
        "print('Hello'.upper().lower().upper())\n",
        "print('HELLO'.lower())\n",
        "print('HELLO'.lower().islower())"
      ],
      "execution_count": null,
      "outputs": [
        {
          "output_type": "stream",
          "text": [
            "HELLO\n",
            "hello\n",
            "HELLO\n",
            "hello\n",
            "True\n"
          ],
          "name": "stdout"
        }
      ]
    },
    {
      "cell_type": "markdown",
      "metadata": {
        "id": "p_cwk87OO_lF"
      },
      "source": [
        "The `replace()` method replaces a string with another string:"
      ]
    },
    {
      "cell_type": "code",
      "metadata": {
        "id": "0z9nasLxO_7x",
        "colab": {
          "base_uri": "https://localhost:8080/",
          "height": 34
        },
        "outputId": "329d3e96-1514-4158-d36d-2b39b35cd5f0"
      },
      "source": [
        "a = \"Hello, World!\"\n",
        "print(a.replace(\"H\", \"J\"))"
      ],
      "execution_count": null,
      "outputs": [
        {
          "output_type": "stream",
          "text": [
            "Jello, World!\n"
          ],
          "name": "stdout"
        }
      ]
    },
    {
      "cell_type": "code",
      "metadata": {
        "colab": {
          "base_uri": "https://localhost:8080/"
        },
        "id": "a11cXLd_0gWc",
        "outputId": "0a8ef23e-834a-4362-8d7b-b42223bf98c4"
      },
      "source": [
        "filenames = [\"program.c\", \"stdio.hpp\", \"sample.hpp\", \"a.out\", \"math.hpp\", \"hpp.out\"]\n",
        "# Generate newfilenames as a list containing the new filenames\n",
        "# using as many lines of code as your chosen method requires.\n",
        "newfilenames = [x.replace('.hpp','.h') for x in filenames]\n",
        "\n",
        "print(newfilenames) \n",
        "# Should be [\"program.c\", \"stdio.h\", \"sample.h\", \"a.out\", \"math.h\", \"hpp.out\"]"
      ],
      "execution_count": null,
      "outputs": [
        {
          "output_type": "stream",
          "text": [
            "['program.c', 'stdio.h', 'sample.h', 'a.out', 'math.h', 'hpp.out']\n"
          ],
          "name": "stdout"
        }
      ]
    },
    {
      "cell_type": "markdown",
      "metadata": {
        "id": "BDhjPDiyPIy-"
      },
      "source": [
        "The `split()` method splits the string into substrings if it finds instances of the separator:"
      ]
    },
    {
      "cell_type": "code",
      "metadata": {
        "id": "Z1vFfIT5PKhH",
        "colab": {
          "base_uri": "https://localhost:8080/",
          "height": 34
        },
        "outputId": "92c353f6-22a1-4fdd-ff4d-08c5632d52dd"
      },
      "source": [
        "a = \"Hello, World!\"\n",
        "print(a.split(\",\")) # returns ['Hello', ' World!']"
      ],
      "execution_count": null,
      "outputs": [
        {
          "output_type": "stream",
          "text": [
            "['Hello', ' World!']\n"
          ],
          "name": "stdout"
        }
      ]
    },
    {
      "cell_type": "markdown",
      "metadata": {
        "id": "7Mkz3euaFOB9"
      },
      "source": [
        "the `.count('')` digunakan untuk menghitung banyak huruf di dalam string"
      ]
    },
    {
      "cell_type": "code",
      "metadata": {
        "id": "KsPGWAVdFLJT"
      },
      "source": [
        "kalimat = \"Corona cepat selesai\"\n",
        "# gunakan method untuk menghitung berapa huruf e di dalam kalimat\n",
        "print(kalimat.count(\"e\"))"
      ],
      "execution_count": null,
      "outputs": []
    },
    {
      "cell_type": "markdown",
      "metadata": {
        "id": "juR54fOpwJ4Y"
      },
      "source": [
        "### **Metode isX dari String untuk Pengecekan**\n",
        "\n",
        "Selain islower() and isupper(), terdapat beberapa metode lain yang dapat digunakan untuk memeriksa isi dari string. Semua method berikut mengembalikan nilai boolean:\n",
        "\n",
        "* `isalpha()` mengembalikan True jika string berisi hanya huruf dan tidak kosong.\n",
        "\n",
        "* `isalnum()` mengembalikan True jika string berisi hanya huruf atau angka, dan tidak kosong.\n",
        "\n",
        "* `isdecimal()` mengembalikan True jika string berisi hanya angka/numerik dan tidak kosong.\n",
        "\n",
        "* `isspace()` mengembalikan True jika string berisi hanya spasi, tab, newline, atau whitespaces lainnya dan tidak kosong.\n",
        "\n",
        "* `istitle()` mengembalikan True jika string berisi kata yang diawali huruf kapital dan dilanjutkan dengan huruf kecil seterusnya."
      ]
    },
    {
      "cell_type": "code",
      "metadata": {
        "id": "KcubvfPwwcRt",
        "colab": {
          "base_uri": "https://localhost:8080/",
          "height": 34
        },
        "outputId": "4b2ab0fe-8e96-42d4-e4b1-fff74c0ded0d"
      },
      "source": [
        "'hello'.isalpha()"
      ],
      "execution_count": null,
      "outputs": [
        {
          "output_type": "execute_result",
          "data": {
            "text/plain": [
              "True"
            ]
          },
          "metadata": {
            "tags": []
          },
          "execution_count": 11
        }
      ]
    },
    {
      "cell_type": "code",
      "metadata": {
        "id": "oYI9CoN2wfFP",
        "colab": {
          "base_uri": "https://localhost:8080/",
          "height": 34
        },
        "outputId": "4feedbf4-8aea-4c75-df57-f22853fc032e"
      },
      "source": [
        "'hello123'.isalpha()"
      ],
      "execution_count": null,
      "outputs": [
        {
          "output_type": "execute_result",
          "data": {
            "text/plain": [
              "False"
            ]
          },
          "metadata": {
            "tags": []
          },
          "execution_count": 12
        }
      ]
    },
    {
      "cell_type": "code",
      "metadata": {
        "id": "E-PPYSLLwg6E",
        "colab": {
          "base_uri": "https://localhost:8080/",
          "height": 34
        },
        "outputId": "b9f4111e-846c-42c1-e24b-bedae72d096b"
      },
      "source": [
        "'hello123'.isalnum()"
      ],
      "execution_count": null,
      "outputs": [
        {
          "output_type": "execute_result",
          "data": {
            "text/plain": [
              "True"
            ]
          },
          "metadata": {
            "tags": []
          },
          "execution_count": 13
        }
      ]
    },
    {
      "cell_type": "code",
      "metadata": {
        "id": "1UtilsXWwiM4",
        "colab": {
          "base_uri": "https://localhost:8080/",
          "height": 34
        },
        "outputId": "ea78ccbc-7185-4b6b-80de-f3673a9af0c5"
      },
      "source": [
        "'hello'.isalnum()"
      ],
      "execution_count": null,
      "outputs": [
        {
          "output_type": "execute_result",
          "data": {
            "text/plain": [
              "True"
            ]
          },
          "metadata": {
            "tags": []
          },
          "execution_count": 14
        }
      ]
    },
    {
      "cell_type": "code",
      "metadata": {
        "id": "sZJoj36nwjqO",
        "colab": {
          "base_uri": "https://localhost:8080/",
          "height": 34
        },
        "outputId": "5628f406-6233-486f-9eb6-281e2c64edd6"
      },
      "source": [
        "'123'.isdecimal()"
      ],
      "execution_count": null,
      "outputs": [
        {
          "output_type": "execute_result",
          "data": {
            "text/plain": [
              "True"
            ]
          },
          "metadata": {
            "tags": []
          },
          "execution_count": 15
        }
      ]
    },
    {
      "cell_type": "code",
      "metadata": {
        "id": "56QaP9JOwlif",
        "colab": {
          "base_uri": "https://localhost:8080/",
          "height": 34
        },
        "outputId": "c04a104a-04b0-4ea3-a12d-42155eebb7d7"
      },
      "source": [
        "'    '.isspace()"
      ],
      "execution_count": null,
      "outputs": [
        {
          "output_type": "execute_result",
          "data": {
            "text/plain": [
              "True"
            ]
          },
          "metadata": {
            "tags": []
          },
          "execution_count": 16
        }
      ]
    },
    {
      "cell_type": "code",
      "metadata": {
        "id": "yg0wsbo3wpPn",
        "colab": {
          "base_uri": "https://localhost:8080/",
          "height": 34
        },
        "outputId": "3bceb702-718e-4ccd-d47a-e700cae2196f"
      },
      "source": [
        "'This Is Title Case'.istitle()"
      ],
      "execution_count": null,
      "outputs": [
        {
          "output_type": "execute_result",
          "data": {
            "text/plain": [
              "True"
            ]
          },
          "metadata": {
            "tags": []
          },
          "execution_count": 17
        }
      ]
    },
    {
      "cell_type": "code",
      "metadata": {
        "id": "F7nLYJSqwq9q",
        "colab": {
          "base_uri": "https://localhost:8080/",
          "height": 34
        },
        "outputId": "8a15ed2c-7993-4c5f-d936-e24d24ffd402"
      },
      "source": [
        "'This Is Title Case 123'.istitle()"
      ],
      "execution_count": null,
      "outputs": [
        {
          "output_type": "execute_result",
          "data": {
            "text/plain": [
              "True"
            ]
          },
          "metadata": {
            "tags": []
          },
          "execution_count": 18
        }
      ]
    },
    {
      "cell_type": "code",
      "metadata": {
        "id": "J_Bdjbr5wq1P",
        "colab": {
          "base_uri": "https://localhost:8080/",
          "height": 34
        },
        "outputId": "40a773d0-f334-4037-fc1b-fed6a4e08c53"
      },
      "source": [
        "'This Is not Title Case'.istitle()"
      ],
      "execution_count": null,
      "outputs": [
        {
          "output_type": "execute_result",
          "data": {
            "text/plain": [
              "False"
            ]
          },
          "metadata": {
            "tags": []
          },
          "execution_count": 19
        }
      ]
    },
    {
      "cell_type": "code",
      "metadata": {
        "id": "58ZQJGvqwuX4",
        "colab": {
          "base_uri": "https://localhost:8080/",
          "height": 34
        },
        "outputId": "eb486ee1-2054-4d1a-8166-dcfb2078adf7"
      },
      "source": [
        "'This Is NOT Title Case Either'.istitle()"
      ],
      "execution_count": null,
      "outputs": [
        {
          "output_type": "execute_result",
          "data": {
            "text/plain": [
              "False"
            ]
          },
          "metadata": {
            "tags": []
          },
          "execution_count": 20
        }
      ]
    },
    {
      "cell_type": "code",
      "metadata": {
        "id": "Aut1KkyZw17A",
        "colab": {
          "base_uri": "https://localhost:8080/",
          "height": 140
        },
        "outputId": "9f0a62e8-cb02-4c60-958f-893c6889018b"
      },
      "source": [
        "while True:\n",
        "    print('Enter your age:')\n",
        "    age = input()\n",
        "    if age.isdecimal():\n",
        "        break\n",
        "    print('Please enter a number for your age.')\n",
        "while True:\n",
        "    print('Select a new password (letters and numbers only):')\n",
        "    password = input()\n",
        "    if password.isalnum():\n",
        "        break\n",
        "    print('Passwords can only have letters and numbers.')"
      ],
      "execution_count": null,
      "outputs": [
        {
          "output_type": "stream",
          "text": [
            "Enter your age:\n",
            "w\n",
            "Please enter a number for your age.\n",
            "Enter your age:\n",
            "5\n",
            "Select a new password (letters and numbers only):\n",
            "3\n"
          ],
          "name": "stdout"
        }
      ]
    },
    {
      "cell_type": "markdown",
      "metadata": {
        "id": "Uf9fC2U9xTip"
      },
      "source": [
        "### **Metode startswith() dan endswith() dari String**\n",
        "\n",
        "Fungsi startswith() dan endswith() akan mengembalikan nilai True berdasarkan nilai awalan atau akhiran string."
      ]
    },
    {
      "cell_type": "code",
      "metadata": {
        "id": "xSIg5OBuxYme",
        "colab": {
          "base_uri": "https://localhost:8080/",
          "height": 34
        },
        "outputId": "0d45126c-c624-4ca5-d88a-e21b83f5da69"
      },
      "source": [
        "'Hello world!'.startswith('Hello')"
      ],
      "execution_count": null,
      "outputs": [
        {
          "output_type": "execute_result",
          "data": {
            "text/plain": [
              "True"
            ]
          },
          "metadata": {
            "tags": []
          },
          "execution_count": 22
        }
      ]
    },
    {
      "cell_type": "code",
      "metadata": {
        "id": "gNfevX9yxZ_-",
        "colab": {
          "base_uri": "https://localhost:8080/",
          "height": 34
        },
        "outputId": "4640be33-e6ac-46b7-a7ec-944835420767"
      },
      "source": [
        "'Hello world!'.endswith('world!')"
      ],
      "execution_count": null,
      "outputs": [
        {
          "output_type": "execute_result",
          "data": {
            "text/plain": [
              "True"
            ]
          },
          "metadata": {
            "tags": []
          },
          "execution_count": 23
        }
      ]
    },
    {
      "cell_type": "code",
      "metadata": {
        "id": "Z6TLhPGZxhLs",
        "colab": {
          "base_uri": "https://localhost:8080/",
          "height": 34
        },
        "outputId": "a1aec2d7-2594-4da0-98bb-633c3486c140"
      },
      "source": [
        "'abc123'.startswith('abcdef')"
      ],
      "execution_count": null,
      "outputs": [
        {
          "output_type": "execute_result",
          "data": {
            "text/plain": [
              "False"
            ]
          },
          "metadata": {
            "tags": []
          },
          "execution_count": 24
        }
      ]
    },
    {
      "cell_type": "markdown",
      "metadata": {
        "id": "QBjtjjLyxwjm"
      },
      "source": [
        "### **Metode join() dan split() dari String**\n",
        "\n",
        "Fungsi join() berguna saat Anda memiliki sejumlah string yang perlu digabungkan. "
      ]
    },
    {
      "cell_type": "code",
      "metadata": {
        "id": "Q111rEyjx5Qt",
        "colab": {
          "base_uri": "https://localhost:8080/",
          "height": 35
        },
        "outputId": "5acfeedc-a6e0-4269-cea9-05a7c0fd9392"
      },
      "source": [
        "', '.join(['cats', 'rats', 'bats'])"
      ],
      "execution_count": null,
      "outputs": [
        {
          "output_type": "execute_result",
          "data": {
            "application/vnd.google.colaboratory.intrinsic+json": {
              "type": "string"
            },
            "text/plain": [
              "'cats, rats, bats'"
            ]
          },
          "metadata": {
            "tags": []
          },
          "execution_count": 25
        }
      ]
    },
    {
      "cell_type": "code",
      "metadata": {
        "id": "HYul9sRcx60d",
        "colab": {
          "base_uri": "https://localhost:8080/",
          "height": 35
        },
        "outputId": "844c9e31-a62d-4206-db6d-f89e9281ee7a"
      },
      "source": [
        "' '.join(['My', 'name', 'is', 'Simon'])"
      ],
      "execution_count": null,
      "outputs": [
        {
          "output_type": "execute_result",
          "data": {
            "application/vnd.google.colaboratory.intrinsic+json": {
              "type": "string"
            },
            "text/plain": [
              "'My name is Simon'"
            ]
          },
          "metadata": {
            "tags": []
          },
          "execution_count": 26
        }
      ]
    },
    {
      "cell_type": "code",
      "metadata": {
        "id": "VCTcMZTcx8Q_",
        "colab": {
          "base_uri": "https://localhost:8080/",
          "height": 35
        },
        "outputId": "d87a606a-b4fe-46af-eb2c-0de5cf00247a"
      },
      "source": [
        "'ABC'.join(['My', 'name', 'is', 'Simon'])"
      ],
      "execution_count": null,
      "outputs": [
        {
          "output_type": "execute_result",
          "data": {
            "application/vnd.google.colaboratory.intrinsic+json": {
              "type": "string"
            },
            "text/plain": [
              "'MyABCnameABCisABCSimon'"
            ]
          },
          "metadata": {
            "tags": []
          },
          "execution_count": 27
        }
      ]
    },
    {
      "cell_type": "code",
      "metadata": {
        "id": "OGQTUIjmx_Ys",
        "colab": {
          "base_uri": "https://localhost:8080/",
          "height": 34
        },
        "outputId": "a0658969-7d18-4c4b-fea1-8f8d17666467"
      },
      "source": [
        "'My name is Simon'.split()"
      ],
      "execution_count": null,
      "outputs": [
        {
          "output_type": "execute_result",
          "data": {
            "text/plain": [
              "['My', 'name', 'is', 'Simon']"
            ]
          },
          "metadata": {
            "tags": []
          },
          "execution_count": 28
        }
      ]
    },
    {
      "cell_type": "code",
      "metadata": {
        "id": "_IGRIlGSyB20",
        "colab": {
          "base_uri": "https://localhost:8080/",
          "height": 34
        },
        "outputId": "7c812b9c-fd1e-4a3a-fff6-58a39d397e4e"
      },
      "source": [
        "'MyABCnameABCisABCSimon'.split('ABC')"
      ],
      "execution_count": null,
      "outputs": [
        {
          "output_type": "execute_result",
          "data": {
            "text/plain": [
              "['My', 'name', 'is', 'Simon']"
            ]
          },
          "metadata": {
            "tags": []
          },
          "execution_count": 29
        }
      ]
    },
    {
      "cell_type": "code",
      "metadata": {
        "colab": {
          "base_uri": "https://localhost:8080/"
        },
        "id": "FtJS3BtWn3Re",
        "outputId": "a7e3979b-41b2-47be-cd0f-25c126b9bda3"
      },
      "source": [
        "'My name is Simon'.split(\" \", 1)"
      ],
      "execution_count": null,
      "outputs": [
        {
          "output_type": "execute_result",
          "data": {
            "text/plain": [
              "['My', 'name is Simon']"
            ]
          },
          "metadata": {
            "tags": []
          },
          "execution_count": 39
        }
      ]
    },
    {
      "cell_type": "code",
      "metadata": {
        "colab": {
          "base_uri": "https://localhost:8080/"
        },
        "id": "hhecn3MKoA56",
        "outputId": "f75e0e62-9005-45a7-f61f-38ec209aae16"
      },
      "source": [
        "'My name is Simon'.split(\" \", 2)"
      ],
      "execution_count": null,
      "outputs": [
        {
          "output_type": "execute_result",
          "data": {
            "text/plain": [
              "['My', 'name', 'is Simon']"
            ]
          },
          "metadata": {
            "tags": []
          },
          "execution_count": 40
        }
      ]
    },
    {
      "cell_type": "code",
      "metadata": {
        "colab": {
          "base_uri": "https://localhost:8080/"
        },
        "id": "d7VgMvG6oDLj",
        "outputId": "3bff8d7b-5bfe-4e41-c99e-8576be6e87a8"
      },
      "source": [
        "'My name is Simon'.split(\" \", 3)"
      ],
      "execution_count": null,
      "outputs": [
        {
          "output_type": "execute_result",
          "data": {
            "text/plain": [
              "['My', 'name', 'is', 'Simon']"
            ]
          },
          "metadata": {
            "tags": []
          },
          "execution_count": 41
        }
      ]
    },
    {
      "cell_type": "markdown",
      "metadata": {
        "id": "VDDpWt0ZybAs"
      },
      "source": [
        "### **Teks rata kanan, kiri, tengah dengan rjust(), ljust(), dan center()**\n",
        "\n",
        "Anda dapat merapikan pencetakan teks di layar dengan rjust(), ljust() atau center(). rjust() dan ljust() akan menambahkan spasi pada string untuk membuatnya sesuai (misalnya rata kiri atau rata kanan). Argumennya berupa integer yang merupakan panjang teks secara keseluruhan (bukan jumlah spasi yang ditambahkan)"
      ]
    },
    {
      "cell_type": "code",
      "metadata": {
        "id": "JwgMCq0uydLk",
        "colab": {
          "base_uri": "https://localhost:8080/",
          "height": 35
        },
        "outputId": "afdf86d2-4bbe-46f7-c549-1df5c5d81d0a"
      },
      "source": [
        "'Hello'.rjust(10)"
      ],
      "execution_count": null,
      "outputs": [
        {
          "output_type": "execute_result",
          "data": {
            "application/vnd.google.colaboratory.intrinsic+json": {
              "type": "string"
            },
            "text/plain": [
              "'     Hello'"
            ]
          },
          "metadata": {
            "tags": []
          },
          "execution_count": 30
        }
      ]
    },
    {
      "cell_type": "code",
      "metadata": {
        "id": "yKN_BW5yyi_e",
        "colab": {
          "base_uri": "https://localhost:8080/",
          "height": 35
        },
        "outputId": "bcff0c4b-b1ef-40ea-ea34-34b4242952b4"
      },
      "source": [
        "'Hello'.ljust(10)"
      ],
      "execution_count": null,
      "outputs": [
        {
          "output_type": "execute_result",
          "data": {
            "application/vnd.google.colaboratory.intrinsic+json": {
              "type": "string"
            },
            "text/plain": [
              "'Hello     '"
            ]
          },
          "metadata": {
            "tags": []
          },
          "execution_count": 31
        }
      ]
    },
    {
      "cell_type": "code",
      "metadata": {
        "id": "YWg1t9EByupE",
        "colab": {
          "base_uri": "https://localhost:8080/",
          "height": 35
        },
        "outputId": "d19ef274-c651-4cce-ca47-3758d15c80f0"
      },
      "source": [
        "'Hello'.center(20)"
      ],
      "execution_count": null,
      "outputs": [
        {
          "output_type": "execute_result",
          "data": {
            "application/vnd.google.colaboratory.intrinsic+json": {
              "type": "string"
            },
            "text/plain": [
              "'       Hello        '"
            ]
          },
          "metadata": {
            "tags": []
          },
          "execution_count": 34
        }
      ]
    },
    {
      "cell_type": "markdown",
      "metadata": {
        "id": "HiF8IO_Iymn3"
      },
      "source": [
        "'Hello'.rjust(10) dapat diartikan sebagai kita ingin menuliskan Hello dalam mode rata kanan dengan total panjang string 10. "
      ]
    },
    {
      "cell_type": "code",
      "metadata": {
        "id": "q699HVb1yqDO",
        "colab": {
          "base_uri": "https://localhost:8080/",
          "height": 35
        },
        "outputId": "fcdb8feb-ee25-414a-ba04-dd2eb12c019d"
      },
      "source": [
        "'Hello'.rjust(20, '*')"
      ],
      "execution_count": null,
      "outputs": [
        {
          "output_type": "execute_result",
          "data": {
            "application/vnd.google.colaboratory.intrinsic+json": {
              "type": "string"
            },
            "text/plain": [
              "'***************Hello'"
            ]
          },
          "metadata": {
            "tags": []
          },
          "execution_count": 32
        }
      ]
    },
    {
      "cell_type": "code",
      "metadata": {
        "id": "txhx5mbbysc4",
        "colab": {
          "base_uri": "https://localhost:8080/",
          "height": 35
        },
        "outputId": "85e7b826-fc76-4582-d475-fff847f6424d"
      },
      "source": [
        "'Hello'.ljust(20, '-')"
      ],
      "execution_count": null,
      "outputs": [
        {
          "output_type": "execute_result",
          "data": {
            "application/vnd.google.colaboratory.intrinsic+json": {
              "type": "string"
            },
            "text/plain": [
              "'Hello---------------'"
            ]
          },
          "metadata": {
            "tags": []
          },
          "execution_count": 33
        }
      ]
    },
    {
      "cell_type": "code",
      "metadata": {
        "id": "QsSSmm7Qyweg",
        "colab": {
          "base_uri": "https://localhost:8080/",
          "height": 35
        },
        "outputId": "752c67fe-48b9-4a1d-9d3c-db447596de38"
      },
      "source": [
        "'Hello'.center(20, '=')"
      ],
      "execution_count": null,
      "outputs": [
        {
          "output_type": "execute_result",
          "data": {
            "application/vnd.google.colaboratory.intrinsic+json": {
              "type": "string"
            },
            "text/plain": [
              "'=======Hello========'"
            ]
          },
          "metadata": {
            "tags": []
          },
          "execution_count": 35
        }
      ]
    },
    {
      "cell_type": "markdown",
      "metadata": {
        "id": "8he2rb7oy4oa"
      },
      "source": [
        "### **Hapus Whitespace dengan strip(), rstrip(), dan lstrip()**\n",
        "\n",
        "Saat Anda menerima string sebagai parameter, seringkali masih terdapat karakter whitespace (spasi, tab, dan newline) di bagian awal dan atau akhir string yang dimaksud. Metode strip() akan menghapus whitespace pada bagian awal atau akhir string. lstrip() dan rstrip() akan menghapus sesuai dengan namanya, awal saja atau akhir saja"
      ]
    },
    {
      "cell_type": "code",
      "metadata": {
        "id": "P5PQDDrxzbrF",
        "colab": {
          "base_uri": "https://localhost:8080/",
          "height": 35
        },
        "outputId": "ba4549f0-2227-4af9-cf84-9c5254e1c068"
      },
      "source": [
        "spam = '    Hello World     '\n",
        "spam.strip()"
      ],
      "execution_count": null,
      "outputs": [
        {
          "output_type": "execute_result",
          "data": {
            "application/vnd.google.colaboratory.intrinsic+json": {
              "type": "string"
            },
            "text/plain": [
              "'Hello World'"
            ]
          },
          "metadata": {
            "tags": []
          },
          "execution_count": 36
        }
      ]
    },
    {
      "cell_type": "code",
      "metadata": {
        "id": "pGVtL1gnzdUJ",
        "colab": {
          "base_uri": "https://localhost:8080/",
          "height": 35
        },
        "outputId": "8340431b-a371-4ed7-c491-6769d9a7f87d"
      },
      "source": [
        "spam.lstrip()"
      ],
      "execution_count": null,
      "outputs": [
        {
          "output_type": "execute_result",
          "data": {
            "application/vnd.google.colaboratory.intrinsic+json": {
              "type": "string"
            },
            "text/plain": [
              "'Hello World     '"
            ]
          },
          "metadata": {
            "tags": []
          },
          "execution_count": 37
        }
      ]
    },
    {
      "cell_type": "code",
      "metadata": {
        "id": "m-5lQm2izeuj",
        "colab": {
          "base_uri": "https://localhost:8080/",
          "height": 35
        },
        "outputId": "d43d99eb-f449-4c4f-bb50-21c11d6434eb"
      },
      "source": [
        "spam.rstrip()"
      ],
      "execution_count": null,
      "outputs": [
        {
          "output_type": "execute_result",
          "data": {
            "application/vnd.google.colaboratory.intrinsic+json": {
              "type": "string"
            },
            "text/plain": [
              "'    Hello World'"
            ]
          },
          "metadata": {
            "tags": []
          },
          "execution_count": 38
        }
      ]
    },
    {
      "cell_type": "markdown",
      "metadata": {
        "id": "JGhF03y_zkbY"
      },
      "source": [
        "Anda juga bisa menentukan mana karakter atau bagian yang ingin dihilangkan, misalnya:"
      ]
    },
    {
      "cell_type": "code",
      "metadata": {
        "id": "zCz45UPhzmJO",
        "colab": {
          "base_uri": "https://localhost:8080/",
          "height": 35
        },
        "outputId": "b1c98e92-017c-489d-ed93-662b7feabfcd"
      },
      "source": [
        "spam = 'SpamSpamBaconSpamEggsSpamSpam'\n",
        "spam.strip('ampS')"
      ],
      "execution_count": null,
      "outputs": [
        {
          "output_type": "execute_result",
          "data": {
            "application/vnd.google.colaboratory.intrinsic+json": {
              "type": "string"
            },
            "text/plain": [
              "'BaconSpamEggs'"
            ]
          },
          "metadata": {
            "tags": []
          },
          "execution_count": 39
        }
      ]
    },
    {
      "cell_type": "markdown",
      "metadata": {
        "id": "t0RMukOAz00j"
      },
      "source": [
        "Saat mengirimkan ‘ampS’ sebagai argumen strip, maka Python akan menghapus setiap huruf a, m, p dan S kapital dari string yang dioperasikan. Urutan untuk parameter ini tidak berpengaruh, sehingga strip('ampS') akan berlaku sama dengan ('mapS') atau strip('Spam')."
      ]
    },
    {
      "cell_type": "code",
      "metadata": {
        "colab": {
          "base_uri": "https://localhost:8080/"
        },
        "id": "3BAsVjYBzWoN",
        "outputId": "129a8064-0fcb-46b3-d5e1-caca92c804c9"
      },
      "source": [
        "def format_name(first_name, last_name):\n",
        "\tname = (last_name +\", \"+ first_name).strip(\", \")\n",
        "\tstring = \"\"\n",
        "\tif(first_name != \"\" or last_name != \"\"):\n",
        "\t\tstring = \"Name: \"+name\n",
        "\treturn string\n",
        "\n",
        "print(format_name(\"Ernest\", \"Hemingway\"))\n",
        "# Should return the string \"Name: Hemingway, Ernest\"\n",
        "\n",
        "print(format_name(\"\", \"Madonna\"))\n",
        "# Should return the string \"Name: Madonna\"\n",
        "\n",
        "print(format_name(\"Voltaire\", \"\"))\n",
        "# Should return the string \"Name: Voltaire\"\n",
        "\n",
        "print(format_name(\"\", \"\"))\n",
        "# Should return an empty string"
      ],
      "execution_count": null,
      "outputs": [
        {
          "output_type": "stream",
          "text": [
            "Name: Hemingway, Ernest\n",
            "Name: Madonna\n",
            "Name: Voltaire\n",
            "\n"
          ],
          "name": "stdout"
        }
      ]
    },
    {
      "cell_type": "markdown",
      "metadata": {
        "id": "o-zzkyWvz3aD"
      },
      "source": [
        "### **Menghapus aatu Mengganti string/substring dengan replace()**"
      ]
    },
    {
      "cell_type": "code",
      "metadata": {
        "id": "_cUai97pz6x1",
        "colab": {
          "base_uri": "https://localhost:8080/",
          "height": 34
        },
        "outputId": "2f1cfcae-8f47-4bda-ac17-5fcb3cbf0a69"
      },
      "source": [
        "string = \"Ayo belajar Coding di Dicoding\"\n",
        "print(string.replace(\"Coding\", \"Pemrograman\"))"
      ],
      "execution_count": null,
      "outputs": [
        {
          "output_type": "stream",
          "text": [
            "Ayo belajar Pemrograman di Dicoding\n"
          ],
          "name": "stdout"
        }
      ]
    },
    {
      "cell_type": "markdown",
      "metadata": {
        "id": "yPjLi4cV0ISF"
      },
      "source": [
        "Opsional, Parameter ketiga pada replace dapat diisi jumlah substring yang ingin diganti."
      ]
    },
    {
      "cell_type": "code",
      "metadata": {
        "id": "1BK9hMBK0F6S",
        "colab": {
          "base_uri": "https://localhost:8080/",
          "height": 34
        },
        "outputId": "c4bdeee7-2f84-489e-a1ac-6f44a55d7040"
      },
      "source": [
        "string = \"Ayo belajar Coding di Dicoding karena Coding adalah bahasa masa depan\"\n",
        "print(string.replace(\"Coding\", \"Pemrograman\", 1))"
      ],
      "execution_count": null,
      "outputs": [
        {
          "output_type": "stream",
          "text": [
            "Ayo belajar Pemrograman di Dicoding karena Coding adalah bahasa masa depan\n"
          ],
          "name": "stdout"
        }
      ]
    },
    {
      "cell_type": "markdown",
      "metadata": {
        "id": "rYqhlTKeWNQT"
      },
      "source": [
        "Menghapus alpabet atau string pada string"
      ]
    },
    {
      "cell_type": "code",
      "metadata": {
        "colab": {
          "base_uri": "https://localhost:8080/",
          "height": 35
        },
        "id": "uy6ubwStWScw",
        "outputId": "63566cf3-3fcf-4c0d-a413-072344b9e41d"
      },
      "source": [
        "string = \"Ayo belajar Coding di Dicoding karena Coding!\"\n",
        "string.replace(\"!\", \"\")"
      ],
      "execution_count": null,
      "outputs": [
        {
          "output_type": "execute_result",
          "data": {
            "application/vnd.google.colaboratory.intrinsic+json": {
              "type": "string"
            },
            "text/plain": [
              "'Ayo belajar Coding di Dicoding karena Coding'"
            ]
          },
          "metadata": {
            "tags": []
          },
          "execution_count": 22
        }
      ]
    },
    {
      "cell_type": "code",
      "metadata": {
        "colab": {
          "base_uri": "https://localhost:8080/",
          "height": 35
        },
        "id": "ZOnsINnTWnwO",
        "outputId": "6e18a09d-a885-4fb4-ded8-016d45d4453d"
      },
      "source": [
        "string = \"Ayo belajar Coding di Dicoding karena Coding!\"\n",
        "string.replace(\"Ayo \", \"\")"
      ],
      "execution_count": null,
      "outputs": [
        {
          "output_type": "execute_result",
          "data": {
            "application/vnd.google.colaboratory.intrinsic+json": {
              "type": "string"
            },
            "text/plain": [
              "'belajar Coding di Dicoding karena Coding!'"
            ]
          },
          "metadata": {
            "tags": []
          },
          "execution_count": 23
        }
      ]
    },
    {
      "cell_type": "markdown",
      "metadata": {
        "id": "ZcA5rO5UHUuU"
      },
      "source": [
        "###**rindex()**\n",
        "str.rindex(str, beg=0 end=len(string))\n",
        "Parameters\n",
        "str − This specifies the string to be searched.\n",
        "\n",
        "beg − This is the starting index, by default its 0\n",
        "\n",
        "len − This is ending index, by default its equal to the length of the string.\n",
        "\n",
        "https://www.tutorialspoint.com/python/string_rindex.htm#:~:text=Python%20string%20method%20rindex(),string%5Bbeg%3Aend%5D."
      ]
    },
    {
      "cell_type": "code",
      "metadata": {
        "colab": {
          "base_uri": "https://localhost:8080/"
        },
        "id": "IjDhDwIrHV2G",
        "outputId": "e9b1adae-e0d1-41fa-d7a1-0049902ee7e8"
      },
      "source": [
        "str1 = \"this is string example....wow!!!\";\n",
        "str2 = \"is\";\n",
        "\n",
        "print(str1.rindex(str2))\n",
        "print(str1.index(str2))"
      ],
      "execution_count": null,
      "outputs": [
        {
          "output_type": "stream",
          "text": [
            "5\n",
            "2\n"
          ],
          "name": "stdout"
        }
      ]
    },
    {
      "cell_type": "markdown",
      "metadata": {
        "id": "70-mASlaYc0B"
      },
      "source": [
        "# **Operators**\n",
        "\n",
        "Operators are used to perform operations on variables and values.\n",
        "\n",
        "Bahasa pemrograman Python mendukung berbagai macam operator, diantaranya :\n",
        "\n",
        "* Operator Aritmatika (Arithmetic Operators)\n",
        "\n",
        "* Operator Perbandingan (Comparison (Relational) Operators)\n",
        "\n",
        "* Operator Penugasan (Assignment Operators)\n",
        "\n",
        "* Operator Logika (Logical Operators)\n",
        "\n",
        "* Operator Bitwise (Bitwise Operators)\n",
        "\n",
        "* Operator Keanggotaan (Membership Operators)\n",
        "\n",
        "* Operator Identitas (Identity Operators)"
      ]
    },
    {
      "cell_type": "markdown",
      "metadata": {
        "id": "Wniw41dqjcaT"
      },
      "source": [
        "## **Arithmetic Operators**\n",
        "Arithmetic operators are used with numeric values to perform common mathematical operations.\n",
        "- \\+ : Addition\n",
        "- \\- : Subtraction\t\t\n",
        "- \\* : Multiplication\n",
        "- /\t : Division\n",
        "- %\t : Modulus\n",
        "- ** : Exponentiation\t\n",
        "- // : Floor division\t"
      ]
    },
    {
      "cell_type": "code",
      "metadata": {
        "id": "SOHpbYAVNfeY",
        "colab": {
          "base_uri": "https://localhost:8080/",
          "height": 140
        },
        "outputId": "9ccf1091-6378-41da-b0c5-11e2d3756ff2"
      },
      "source": [
        "print(10 + 4)   # 14\n",
        "print(10 - 4)   # 6\n",
        "print(10 * 4)   # 40\n",
        "print(10 / 4)   # 2.5\n",
        "print(10 % 4)   # 2\n",
        "print(10 ** 4)  # 1000\n",
        "print(10 // 4)  # 2"
      ],
      "execution_count": null,
      "outputs": [
        {
          "output_type": "stream",
          "text": [
            "14\n",
            "6\n",
            "40\n",
            "2.5\n",
            "2\n",
            "10000\n",
            "2\n"
          ],
          "name": "stdout"
        }
      ]
    },
    {
      "cell_type": "markdown",
      "metadata": {
        "id": "-IVFoqsfjkPD"
      },
      "source": [
        "## **Relational (Comparison) Operators**\n",
        "\n",
        "Comparison operators are used to compare two values:\n",
        "- **==** : Equal\n",
        "- **!=** : Not equal\n",
        "- **>** : Greater than\n",
        "- **<** : Less than\n",
        "- **>=** : Greater than or equal to\n",
        "- **<=** : Less than or equal to"
      ]
    },
    {
      "cell_type": "markdown",
      "metadata": {
        "id": "kHeGVT8vc7Jn"
      },
      "source": [
        "## **Assignment Operators**\n",
        "\n",
        "* =\n",
        "* +=\n",
        "* -=\n",
        "* *=\n",
        "* /=\n",
        "* %=\n",
        "* **=\n",
        "* //=\n",
        "* &=\n",
        "* |=\n",
        "* ^=\n",
        "* <<=\n",
        "* \\>\\>=\n",
        "\n"
      ]
    },
    {
      "cell_type": "markdown",
      "metadata": {
        "id": "2zP7-WxckNOR"
      },
      "source": [
        "## **Logical Operators**\n",
        "\n",
        "Logical operators are used to combine conditional statements:\n",
        "\n",
        "- **and** : Returns True if both statements are true\n",
        "- **or** : Returns True if one of the statements is true\n",
        "- **not** : Reverse the result, returns False if the result is true"
      ]
    },
    {
      "cell_type": "code",
      "metadata": {
        "id": "7SOkvdzeZ2G1",
        "colab": {
          "base_uri": "https://localhost:8080/",
          "height": 70
        },
        "outputId": "77cf5a68-3af3-4359-9f2b-07e611fe2b9a"
      },
      "source": [
        "print(10 > 5 and 'A' < 'a')     # True and True => True\n",
        "\n",
        "print(10 >= 10 or 10 > 10)      # True or False => True \n",
        "\n",
        "print(not('hello' == \"hello\"))  # not True => False"
      ],
      "execution_count": null,
      "outputs": [
        {
          "output_type": "stream",
          "text": [
            "True\n",
            "True\n",
            "False\n"
          ],
          "name": "stdout"
        }
      ]
    },
    {
      "cell_type": "markdown",
      "metadata": {
        "id": "Xnn_Zjqf9jJn"
      },
      "source": [
        "## **Bitwise Operators**\n",
        "\n",
        "* & :\tAnd\t\n",
        "\n",
        "    10 & 12\t\n",
        "\n",
        "    -> 1010 & 1100\t\n",
        "\n",
        "    -> 1000\t8\n",
        "\n",
        "* | :\tOr\t\n",
        "\n",
        "    10 | 12\t\n",
        "\n",
        "    -> 1010 | 1100\t\n",
        "\n",
        "    -> 1110\t14\n",
        "\n",
        "* ^ :\tXor\t\n",
        "\n",
        "    10 ^ 12\t\n",
        "\n",
        "    -> 1010 ^ 1100\t\n",
        "\n",
        "    -> 0110\t6\n",
        "\n",
        "* ~ :\tNot\n",
        "\n",
        "    ~ 10\t\n",
        "\n",
        "    -> ~1010\t\n",
        "\n",
        "    -> 0101  -11 (two complement)\n",
        "\n",
        "* << : Left shift\n",
        "\n",
        "    10 << 1\n",
        "\n",
        "    -> 1010 << 1\t\n",
        "\n",
        "    -> 10100\t20\n",
        "\n",
        "* \\>\\> : Right shift\n",
        "\n",
        "    10 >> 1\t\n",
        "\n",
        "    -> 1010 >> 1\t\n",
        "\n",
        "    -> 101\t5"
      ]
    },
    {
      "cell_type": "code",
      "metadata": {
        "id": "3YuKXa36FoB9",
        "colab": {
          "base_uri": "https://localhost:8080/",
          "height": 193
        },
        "outputId": "2052905b-f8ec-4d00-bb0e-d754537861e9"
      },
      "source": [
        "x = 10\n",
        "y = 12\n",
        " \n",
        "print('x berisi angka',x ,'desimal atau',bin(x),'biner')\n",
        "print('y berisi angka',y ,'desimal atau',bin(y),'biner')\n",
        " \n",
        "print('\\n')\n",
        " \n",
        "print('x & y  :', x & y)\n",
        "print('x | y  :', x | y)\n",
        "print('x ^ y  :', x ^ y)\n",
        "print('~x     :', ~x)\n",
        "print('x << 1 :', x << 1)\n",
        "print('x >> 1 :', x >> 1)"
      ],
      "execution_count": null,
      "outputs": [
        {
          "output_type": "stream",
          "text": [
            "x berisi angka 10 desimal atau 0b1010 biner\n",
            "y berisi angka 12 desimal atau 0b1100 biner\n",
            "\n",
            "\n",
            "x & y  : 8\n",
            "x | y  : 14\n",
            "x ^ y  : 6\n",
            "~x     : -11\n",
            "x << 1 : 20\n",
            "x >> 1 : 5\n"
          ],
          "name": "stdout"
        }
      ]
    },
    {
      "cell_type": "markdown",
      "metadata": {
        "id": "K9UBam5ElT_j"
      },
      "source": [
        "## **Identity Operators**\n",
        "\n",
        "Identity operators are used to compare the objects, not if they are equal, but if they are actually the same object, with the same memory location:\n",
        "\n",
        "- **is** : Returns true if both variables are the same object\n",
        "- **is not** : Returns true if both variables are not the same object"
      ]
    },
    {
      "cell_type": "code",
      "metadata": {
        "id": "j_XyNIaOS4-M",
        "colab": {
          "base_uri": "https://localhost:8080/",
          "height": 87
        },
        "outputId": "daea2854-15a1-42b8-88ed-4769796ff1d4"
      },
      "source": [
        "x = 5\n",
        "y = 5\n",
        "print('nilai x = ', x , ', id = ', hex(id(x)))\n",
        "print('nilai y = ', y , ', id = ', hex(id(y)))\n",
        "\n",
        "# dilihat untuk x dan y menunjuk ke memory location yang sama \n",
        "# karena memiliki nilai yang sama\n",
        "\n",
        "print(x is y) # maka nilai identity dri x dan y adalah True\n",
        "print(x is not y)"
      ],
      "execution_count": null,
      "outputs": [
        {
          "output_type": "stream",
          "text": [
            "nilai x =  5 , id =  0xa68b40\n",
            "nilai y =  5 , id =  0xa68b40\n",
            "True\n",
            "False\n"
          ],
          "name": "stdout"
        }
      ]
    },
    {
      "cell_type": "code",
      "metadata": {
        "id": "Gp_sVojPT2yN",
        "colab": {
          "base_uri": "https://localhost:8080/",
          "height": 34
        },
        "outputId": "54eefdf1-c967-4892-8fb7-2ee547fbec56"
      },
      "source": [
        "#  untuk literal\n",
        "x = 5\n",
        "print(x is 5) # akan ada warning (lebih baik menggunakan == )"
      ],
      "execution_count": null,
      "outputs": [
        {
          "output_type": "stream",
          "text": [
            "True\n"
          ],
          "name": "stdout"
        }
      ]
    },
    {
      "cell_type": "code",
      "metadata": {
        "id": "wUSDfL-Rmk4v",
        "colab": {
          "base_uri": "https://localhost:8080/",
          "height": 52
        },
        "outputId": "c39bb7b2-e173-424d-9d8d-a278d2a1c047"
      },
      "source": [
        "list1 = ['a', 'b', 'c']\n",
        "list2 = ['a', 'b', 'c']\n",
        "\n",
        "print(list1 == list2)   # True because the value is the same\n",
        "\n",
        "print(list1 is list2)   # False because list1 and list2 have different memory location"
      ],
      "execution_count": null,
      "outputs": [
        {
          "output_type": "stream",
          "text": [
            "True\n",
            "False\n"
          ],
          "name": "stdout"
        }
      ]
    },
    {
      "cell_type": "code",
      "metadata": {
        "id": "kzaq9N5Im9BR",
        "colab": {
          "base_uri": "https://localhost:8080/",
          "height": 34
        },
        "outputId": "185786a2-2337-4c21-9411-c699addecec6"
      },
      "source": [
        "list1 = ['a', 'b', 'c']\n",
        "list2 = list1\n",
        "\n",
        "print(list1 is list2)"
      ],
      "execution_count": null,
      "outputs": [
        {
          "output_type": "stream",
          "text": [
            "True\n"
          ],
          "name": "stdout"
        }
      ]
    },
    {
      "cell_type": "markdown",
      "metadata": {
        "id": "39piLsx_l9uS"
      },
      "source": [
        "## **Membership Operators**\n",
        "\n",
        "Membership operators are used to test if a sequence is presented in an object.\n",
        "- **in** : Returns True if a sequence with the specified value is present in the object\n",
        "- **not in** : Returns True if a sequence with the specified value is not present in the object"
      ]
    },
    {
      "cell_type": "code",
      "metadata": {
        "id": "6zfVqgQ1kwgG",
        "colab": {
          "base_uri": "https://localhost:8080/",
          "height": 34
        },
        "outputId": "9ec6b01d-6b71-4b67-dd98-5b1dc0893b19"
      },
      "source": [
        "print('ni' in 'Universitas Hasanuddin')     # True because ni exist in thet text"
      ],
      "execution_count": null,
      "outputs": [
        {
          "output_type": "stream",
          "text": [
            "True\n"
          ],
          "name": "stdout"
        }
      ]
    },
    {
      "cell_type": "markdown",
      "metadata": {
        "id": "oP8ejhLLeg1I"
      },
      "source": [
        "## **Priority Operations**\n",
        "\n",
        "*   ( )\n",
        "*   exponen **\n",
        "* perkalian, pembagian, modulus dan floor * / % //\n",
        "* pertambahan dan pengurangan + -\n",
        "\n",
        ".............................................................................................\n",
        "\n",
        "\n",
        "\n",
        "*   ** (exponen)\n",
        "*   ~ + - (Bitwise)\n",
        "*   \\* / % // \n",
        "*   \\+ \\-\n",
        "*   \\>\\>, <<\n",
        "*   &\n",
        "*   ^, |\n",
        "*   <=, <, >, >=\n",
        "*   <>, ==, !=\n",
        "*   =, %=, /=, //=, -=, +=, *=, **=\n",
        "*   is, is not\n",
        "*   in, not in\n",
        "*   not, or, and\n",
        "\n",
        "\n"
      ]
    },
    {
      "cell_type": "markdown",
      "metadata": {
        "id": "0zXRusP45P18"
      },
      "source": [
        "# **Conditions**\n",
        "\n",
        "-------------------------\n",
        "\n",
        "IF EXPRESSION\n",
        "\n",
        "`if conditions :`\n",
        "\n",
        "...`expression`\n",
        "\n",
        "-------------------------\n",
        "\n",
        "IF ELSE EXPRESSION\n",
        "\n",
        "`if conditions :`\n",
        "\n",
        "...`expression`\n",
        "\n",
        "`else :`\n",
        "\n",
        "...`expression`\n",
        "\n",
        "-------------------------\n",
        "\n",
        "IF ELIF EXPRESSION\n",
        "\n",
        "`if conditions:`\n",
        "\n",
        "...`expression`\n",
        "\n",
        "`elif conditions:`\n",
        "\n",
        "...`expression`\n",
        "\n",
        "-------------------------\n",
        "\n",
        "IF ELIF EXPRESSION\n",
        "\n",
        "`if conditions:`\n",
        "\n",
        "...`expression`\n",
        "\n",
        "`elif conditions:`\n",
        "\n",
        "...`expression`\n",
        "\n",
        "`else :`\n",
        "\n",
        "...`expression`"
      ]
    },
    {
      "cell_type": "markdown",
      "metadata": {
        "id": "TF3JoqHqhWy7"
      },
      "source": [
        "## **If**\n",
        "\n",
        "An if statement is a programming conditional statement that, if proved true, performs a function or displays information.\n",
        "\n",
        "An \"if statement\" is written by using the **if** keyword."
      ]
    },
    {
      "cell_type": "code",
      "metadata": {
        "id": "2lYwI7hOmZVs",
        "colab": {
          "base_uri": "https://localhost:8080/",
          "height": 34
        },
        "outputId": "a06af250-5b29-494c-c89d-bf4d39a5764c"
      },
      "source": [
        "if 40 > 20 :\n",
        "    print('40 is larger than 20!')"
      ],
      "execution_count": null,
      "outputs": [
        {
          "output_type": "stream",
          "text": [
            "40 is larger than 20!\n"
          ],
          "name": "stdout"
        }
      ]
    },
    {
      "cell_type": "markdown",
      "metadata": {
        "id": "f0O7E0il7U_Z"
      },
      "source": [
        "Things to remember is that if statement using indentation to define scope in the code while other programming language often use curly-brackets."
      ]
    },
    {
      "cell_type": "markdown",
      "metadata": {
        "id": "exN9N4X0hckG"
      },
      "source": [
        "## **Elif**\n",
        "\n",
        "The **elif** keyword is pythons way of saying \"if the previous conditions were not true, then try this condition\"."
      ]
    },
    {
      "cell_type": "code",
      "metadata": {
        "id": "gRPJpLra7SMc",
        "colab": {
          "base_uri": "https://localhost:8080/",
          "height": 34
        },
        "outputId": "cb1cb6b2-38f8-4d2b-d496-cbd25c46216c"
      },
      "source": [
        "num1 = 10\n",
        "num2 = 10\n",
        "\n",
        "if num1 > num2:\n",
        "    print(\"{} is greater than {}\".format(num1, num2))\n",
        "elif num1 == num2:\n",
        "    print(\"{} and {} are equal\".format(num1, num2))"
      ],
      "execution_count": null,
      "outputs": [
        {
          "output_type": "stream",
          "text": [
            "10 and 10 are equal\n"
          ],
          "name": "stdout"
        }
      ]
    },
    {
      "cell_type": "markdown",
      "metadata": {
        "id": "Gqogg3pgj04X"
      },
      "source": [
        "## **Else**\n",
        "\n",
        "The **else** keyword catches anything which isn't caught by the preceding conditions."
      ]
    },
    {
      "cell_type": "code",
      "metadata": {
        "id": "KIPxLRF2jS4M",
        "colab": {
          "base_uri": "https://localhost:8080/",
          "height": 34
        },
        "outputId": "a4f4988a-d6d9-47f5-8117-92b861211bf6"
      },
      "source": [
        "num1 = 10\n",
        "num2 = 100\n",
        "\n",
        "if num1 > num2:\n",
        "    print(\"{} is greater than {}\".format(num1, num2))\n",
        "elif num1 == num2:\n",
        "    print(\"{} and {} are equal\".format(num1, num2))\n",
        "else:\n",
        "    print(\"{} is less than {}\".format(num1, num2))\n"
      ],
      "execution_count": null,
      "outputs": [
        {
          "output_type": "stream",
          "text": [
            "10 is less than 100\n"
          ],
          "name": "stdout"
        }
      ]
    },
    {
      "cell_type": "code",
      "metadata": {
        "id": "ACZH5yZOGs9h",
        "colab": {
          "base_uri": "https://localhost:8080/",
          "height": 34
        },
        "outputId": "ffc3d32b-08bc-41b7-d86b-cf3e475c0980"
      },
      "source": [
        "nilai = 'D'\n",
        " \n",
        "if nilai == 'A':\n",
        "  print('Pertahankan')\n",
        "elif nilai == 'B':\n",
        "  print('Harus lebih baik lagi')\n",
        "elif nilai == 'C':\n",
        "  print('Perbanyak belajar')\n",
        "elif nilai == 'D':\n",
        "  print('Jangan keseringan main')\n",
        "elif nilai == 'E':\n",
        "  print('Kebanyakan bolos...')\n",
        "else:\n",
        "  print('Maaf, format nilai tidak sesuai')"
      ],
      "execution_count": null,
      "outputs": [
        {
          "output_type": "stream",
          "text": [
            "Jangan keseringan main\n"
          ],
          "name": "stdout"
        }
      ]
    },
    {
      "cell_type": "markdown",
      "metadata": {
        "id": "pUyTqKddkgmv"
      },
      "source": [
        "## **Short Hand If**\n",
        "\n",
        "If you have only one statement to execute, you can put it on the same line as the if statement."
      ]
    },
    {
      "cell_type": "code",
      "metadata": {
        "id": "CKCSFVErkdIv",
        "colab": {
          "base_uri": "https://localhost:8080/",
          "height": 34
        },
        "outputId": "fe413da6-0cc3-4521-f306-9546a099faef"
      },
      "source": [
        "num1 = 100\n",
        "num2 = 10\n",
        "\n",
        "if num1 > num2: print(\"num1 is greater than num2\")"
      ],
      "execution_count": null,
      "outputs": [
        {
          "output_type": "stream",
          "text": [
            "num1 is greater than num2\n"
          ],
          "name": "stdout"
        }
      ]
    },
    {
      "cell_type": "markdown",
      "metadata": {
        "id": "KAsTBQDfkvXS"
      },
      "source": [
        "## **Short Hand If - Else**\n",
        "\n",
        "If you have only one statement to execute, one for if, and one for else, you can put it all on the same line:"
      ]
    },
    {
      "cell_type": "code",
      "metadata": {
        "id": "MrEE3kpqksVx",
        "colab": {
          "base_uri": "https://localhost:8080/",
          "height": 52
        },
        "outputId": "5e43513d-330d-4bc4-d3bf-580c33a5ccb6"
      },
      "source": [
        "num1 = 100\n",
        "num2 = 10\n",
        "\n",
        "print(\"The bigger number is :\")\n",
        "print(\"num1\") if num1 > num2 else print(\"num2\")"
      ],
      "execution_count": null,
      "outputs": [
        {
          "output_type": "stream",
          "text": [
            "The bigger number is :\n",
            "num1\n"
          ],
          "name": "stdout"
        }
      ]
    },
    {
      "cell_type": "code",
      "metadata": {
        "id": "mtdqt-_Q6WMm",
        "colab": {
          "base_uri": "https://localhost:8080/",
          "height": 34
        },
        "outputId": "711e480d-99bd-4a4d-8c2c-c4912a458a74"
      },
      "source": [
        "a = 330\n",
        "b = 330\n",
        "print(\"A\") if a > b else print(\"=\") if a == b else print(\"B\")"
      ],
      "execution_count": null,
      "outputs": [
        {
          "output_type": "stream",
          "text": [
            "=\n"
          ],
          "name": "stdout"
        }
      ]
    },
    {
      "cell_type": "markdown",
      "metadata": {
        "id": "8lu15YlDn3LM"
      },
      "source": [
        "## **Nested If**\n",
        "\n",
        "You can have if statements inside if statements, this is called nested if statements."
      ]
    },
    {
      "cell_type": "code",
      "metadata": {
        "id": "y7HvCTuAlFi6",
        "colab": {
          "base_uri": "https://localhost:8080/",
          "height": 52
        },
        "outputId": "8299a7f4-19e6-478e-c1a2-7e2e8cbc2e1b"
      },
      "source": [
        "num = 30\n",
        "\n",
        "if num > 10:\n",
        "  print(\"Above ten,\")\n",
        "  if num > 20:\n",
        "    print(\"and also above 20!\")\n",
        "  else:\n",
        "    print(\"but not above 20.\")"
      ],
      "execution_count": null,
      "outputs": [
        {
          "output_type": "stream",
          "text": [
            "Above ten,\n",
            "and also above 20!\n"
          ],
          "name": "stdout"
        }
      ]
    },
    {
      "cell_type": "markdown",
      "metadata": {
        "id": "uzBtaDhI6gWF"
      },
      "source": [
        "## **Conditions with Logika Operators**"
      ]
    },
    {
      "cell_type": "code",
      "metadata": {
        "id": "yogn0BXi6lcD",
        "colab": {
          "base_uri": "https://localhost:8080/",
          "height": 34
        },
        "outputId": "bd00c1ca-5837-49e9-f2e5-3773978a1602"
      },
      "source": [
        "a = 200\n",
        "b = 33\n",
        "c = 500\n",
        "if a > b and c > a:\n",
        "  print(\"Both conditions are True\")"
      ],
      "execution_count": null,
      "outputs": [
        {
          "output_type": "stream",
          "text": [
            "Both conditions are True\n"
          ],
          "name": "stdout"
        }
      ]
    },
    {
      "cell_type": "code",
      "metadata": {
        "id": "fa5gJA5n6unl",
        "colab": {
          "base_uri": "https://localhost:8080/",
          "height": 34
        },
        "outputId": "8e5ba588-fefe-4639-f413-524ffc14a8d7"
      },
      "source": [
        "a = 200\n",
        "b = 33\n",
        "c = 500\n",
        "if a > b or a > c:\n",
        "  print(\"At least one of the conditions is True\")"
      ],
      "execution_count": null,
      "outputs": [
        {
          "output_type": "stream",
          "text": [
            "At least one of the conditions is True\n"
          ],
          "name": "stdout"
        }
      ]
    },
    {
      "cell_type": "code",
      "metadata": {
        "id": "Y3bg_HyJ-8Sv",
        "colab": {
          "base_uri": "https://localhost:8080/",
          "height": 34
        },
        "outputId": "5a84dd59-b901-4367-cdee-ab980cf08886"
      },
      "source": [
        "nilai = 60\n",
        "\n",
        "if 80 <= nilai <= 100 :\n",
        "  print('nilai anda adalah A')\n",
        "elif 70 <= nilai < 80 :\n",
        "  print('nilai anda adalah B')\n",
        "elif 60 <= nilai < 70 :\n",
        "  print('nilai anda adalah C')\n",
        "elif 50 <= nilai < 60 :\n",
        "  print('nilai anda adalah T, Lakukan perbaikan')\n",
        "else :\n",
        "  print('Maaf Anda tidak lulus')"
      ],
      "execution_count": null,
      "outputs": [
        {
          "output_type": "stream",
          "text": [
            "nilai anda adalah C\n"
          ],
          "name": "stdout"
        }
      ]
    },
    {
      "cell_type": "markdown",
      "metadata": {
        "id": "bcRmD3bl-EhK"
      },
      "source": [
        "## **Conditions with Membership and Identity Operators**"
      ]
    },
    {
      "cell_type": "code",
      "metadata": {
        "id": "bSUTf-HM-Qqd",
        "colab": {
          "base_uri": "https://localhost:8080/",
          "height": 52
        },
        "outputId": "462ea557-e45c-4235-e3ba-ae0fcefe52b1"
      },
      "source": [
        "nilai1 = 60\n",
        "nilai2 = 50\n",
        "\n",
        "if nilai1 is 60 :\n",
        "  print('Nilainya benar sama dengan 60')\n",
        "\n",
        "if nilai2 is not 60 :\n",
        "  print('Nilainya benar tidak sama dengan 60')"
      ],
      "execution_count": null,
      "outputs": [
        {
          "output_type": "stream",
          "text": [
            "Nilainya benar sama dengan 60\n",
            "Nilainya benar tidak sama dengan 60\n"
          ],
          "name": "stdout"
        }
      ]
    },
    {
      "cell_type": "code",
      "metadata": {
        "id": "sAnCjaGJ_sQN",
        "colab": {
          "base_uri": "https://localhost:8080/",
          "height": 87
        },
        "outputId": "effe0bde-194e-4abf-d7d0-8c32abf00d96"
      },
      "source": [
        "data = [1, 2, 3, 4, 5, 6, 7, 8]\n",
        "\n",
        "if 4 in data:\n",
        "  print('Nilainya 4 ada')\n",
        "\n",
        "if 9 not in data:\n",
        "  print('Nilai 9 tidak ada')\n",
        "\n",
        "nama = 'Nur Imam Masri'\n",
        "\n",
        "if 'I' in nama:\n",
        "  print('Huruf I ada')\n",
        "\n",
        "if not 'U' in nama:\n",
        "  print('Huruf U  tidak ada')"
      ],
      "execution_count": null,
      "outputs": [
        {
          "output_type": "stream",
          "text": [
            "Nilainya 4 ada\n",
            "Nilai 9 tidak ada\n",
            "Huruf I ada\n",
            "Huruf U  tidak ada\n"
          ],
          "name": "stdout"
        }
      ]
    },
    {
      "cell_type": "markdown",
      "metadata": {
        "id": "FiheqduRhcDf"
      },
      "source": [
        "## **Ternary**\n",
        "\n",
        "Ternary operator lebih dikenal sebagai conditional expressions pada Python. Operator menentukan sesuatu berdasarkan kondisi True atau False. Jika statement atau klausa if Anda cukup sederhana, maka ternary Operators akan sangat membantu.\n",
        "\n",
        "`condition_if_true if condition else condition_if_false`\n",
        "\n",
        "`(condition_if_false, condition_if_true)[condition]`"
      ]
    },
    {
      "cell_type": "code",
      "metadata": {
        "id": "LYYrxPXjhzQi",
        "colab": {
          "base_uri": "https://localhost:8080/",
          "height": 52
        },
        "outputId": "eac192ab-3511-4ea7-a9af-8e57cd0a51fa"
      },
      "source": [
        "is_nice = True\n",
        "if is_nice:\n",
        "  state = \"nice\"\n",
        "else:\n",
        "  state = \"not nice\"\n",
        "\n",
        "print(state)\n",
        "\n",
        "is_nice = True\n",
        "state = \"nice\" if is_nice else \"not nice\"\n",
        "\n",
        "print(state)"
      ],
      "execution_count": null,
      "outputs": [
        {
          "output_type": "stream",
          "text": [
            "nice\n",
            "nice\n"
          ],
          "name": "stdout"
        }
      ]
    },
    {
      "cell_type": "markdown",
      "metadata": {
        "id": "e8UL9VoNiXC6"
      },
      "source": [
        "Opsi lain dari ternary operators melibatkan tuples. \n",
        "\n",
        "Pada tuple ini, dimanfaatkan nilai [0] sebagai False dan [1] sebagai True.\n",
        "\n",
        "Contoh kodenya berikut:"
      ]
    },
    {
      "cell_type": "code",
      "metadata": {
        "id": "-1idbI9AiIfP",
        "colab": {
          "base_uri": "https://localhost:8080/",
          "height": 52
        },
        "outputId": "c3eee9ae-9e70-4354-aabc-4176f8a5f943"
      },
      "source": [
        "nice = True\n",
        "if (nice):\n",
        "  personality=\"nice\"\n",
        "else:\n",
        "  personality=\"mean\"\n",
        "\n",
        "print(personality)\n",
        "\n",
        "nice = True\n",
        "personality = (\"mean\", \"nice\")[nice]\n",
        "\n",
        "print(personality)"
      ],
      "execution_count": null,
      "outputs": [
        {
          "output_type": "stream",
          "text": [
            "nice\n",
            "nice\n"
          ],
          "name": "stdout"
        }
      ]
    },
    {
      "cell_type": "markdown",
      "metadata": {
        "id": "THimM7EQoDhW"
      },
      "source": [
        "# **Looping**\n",
        "\n",
        "Python has two primitive loop commands:\n",
        "- **while** loops\n",
        "- **for** loops"
      ]
    },
    {
      "cell_type": "markdown",
      "metadata": {
        "id": "Wx28cRRIoXP3"
      },
      "source": [
        "## **While Loop**\n",
        "\n",
        "With the while loop we can execute a set of statements as long as a condition is true."
      ]
    },
    {
      "cell_type": "code",
      "metadata": {
        "id": "MnQPAMcyndYS",
        "colab": {
          "base_uri": "https://localhost:8080/",
          "height": 105
        },
        "outputId": "726a7076-cda6-4e20-d7ad-d969dcf7596e"
      },
      "source": [
        "# Print one to five\n",
        "i = 1\n",
        "while i <= 5:\n",
        "    print(i)\n",
        "    i += 1          # increment by one"
      ],
      "execution_count": null,
      "outputs": [
        {
          "output_type": "stream",
          "text": [
            "1\n",
            "2\n",
            "3\n",
            "4\n",
            "5\n"
          ],
          "name": "stdout"
        }
      ]
    },
    {
      "cell_type": "code",
      "metadata": {
        "id": "UTWVypK9Dehz",
        "colab": {
          "base_uri": "https://localhost:8080/",
          "height": 105
        },
        "outputId": "4701fbea-4783-41ac-c453-5c4f0d617ee8"
      },
      "source": [
        "\"\"\"\n",
        "TODO : Try to print a triangle like this :\n",
        "*\n",
        "**\n",
        "***\n",
        "****\n",
        "*****\n",
        "\"\"\";\n",
        "i=1\n",
        "while i<=5:\n",
        "  j=1\n",
        "  while j<=i :\n",
        "    print('*', end='')\n",
        "    j+=1\n",
        "  print('', end='\\n')\n",
        "  i+=1\n"
      ],
      "execution_count": null,
      "outputs": [
        {
          "output_type": "stream",
          "text": [
            "*\n",
            "**\n",
            "***\n",
            "****\n",
            "*****\n"
          ],
          "name": "stdout"
        }
      ]
    },
    {
      "cell_type": "markdown",
      "metadata": {
        "id": "Svy08mGH-nkm"
      },
      "source": [
        "### **Break Statement**\n",
        "\n",
        "With the **break** statement we can stop the loop even if the while condition is true."
      ]
    },
    {
      "cell_type": "code",
      "metadata": {
        "id": "Qb4YYmDEozN1",
        "colab": {
          "base_uri": "https://localhost:8080/",
          "height": 87
        },
        "outputId": "60e6fa57-a557-4334-a91b-afb1600f57a0"
      },
      "source": [
        "i = 1\n",
        "while i <= 5:\n",
        "    print(i)\n",
        "    if i == 4:\n",
        "        break\n",
        "    i += 1"
      ],
      "execution_count": null,
      "outputs": [
        {
          "output_type": "stream",
          "text": [
            "1\n",
            "2\n",
            "3\n",
            "4\n"
          ],
          "name": "stdout"
        }
      ]
    },
    {
      "cell_type": "code",
      "metadata": {
        "id": "MsunMgv6_A2k",
        "colab": {
          "base_uri": "https://localhost:8080/",
          "height": 70
        },
        "outputId": "1c8f62f8-095e-4ae1-c87e-0751c7b31b94"
      },
      "source": [
        "i = 1\n",
        "while i <= 5:\n",
        "    if i == 4:\n",
        "        break\n",
        "    print(i)\n",
        "    i += 1"
      ],
      "execution_count": null,
      "outputs": [
        {
          "output_type": "stream",
          "text": [
            "1\n",
            "2\n",
            "3\n"
          ],
          "name": "stdout"
        }
      ]
    },
    {
      "cell_type": "code",
      "metadata": {
        "id": "DB1OzL00noRw",
        "colab": {
          "base_uri": "https://localhost:8080/",
          "height": 474
        },
        "outputId": "fb461cc0-2aa2-4fc3-e7be-2b22285c597e"
      },
      "source": [
        "i = 2\n",
        "while(i < 100):\n",
        "    j = 2\n",
        "    while(j <= (i/j)):\n",
        "        if not(i%j): break\n",
        "        j = j + 1\n",
        "    if (j > i/j) : print(i, \" is prime\")\n",
        "    i = i + 1\n",
        "\n",
        "print(\"Good bye!\")"
      ],
      "execution_count": null,
      "outputs": [
        {
          "output_type": "stream",
          "text": [
            "2  is prime\n",
            "3  is prime\n",
            "5  is prime\n",
            "7  is prime\n",
            "11  is prime\n",
            "13  is prime\n",
            "17  is prime\n",
            "19  is prime\n",
            "23  is prime\n",
            "29  is prime\n",
            "31  is prime\n",
            "37  is prime\n",
            "41  is prime\n",
            "43  is prime\n",
            "47  is prime\n",
            "53  is prime\n",
            "59  is prime\n",
            "61  is prime\n",
            "67  is prime\n",
            "71  is prime\n",
            "73  is prime\n",
            "79  is prime\n",
            "83  is prime\n",
            "89  is prime\n",
            "97  is prime\n",
            "Good bye!\n"
          ],
          "name": "stdout"
        }
      ]
    },
    {
      "cell_type": "markdown",
      "metadata": {
        "id": "OhzNQxx7_s78"
      },
      "source": [
        "### **Continue Statement**\n",
        "\n",
        "With the **continue** statement we can stop the current iteration, and continue with the next. Remember to put increment before continue statement."
      ]
    },
    {
      "cell_type": "code",
      "metadata": {
        "id": "FJWOzgg6_GCu",
        "colab": {
          "base_uri": "https://localhost:8080/",
          "height": 87
        },
        "outputId": "49c013ae-4f76-4427-c92c-d63674f3459f"
      },
      "source": [
        "i = 0\n",
        "while i < 5:\n",
        "    i += 1\n",
        "    if i == 4:\n",
        "        continue\n",
        "    print(i)"
      ],
      "execution_count": null,
      "outputs": [
        {
          "output_type": "stream",
          "text": [
            "1\n",
            "2\n",
            "3\n",
            "5\n"
          ],
          "name": "stdout"
        }
      ]
    },
    {
      "cell_type": "markdown",
      "metadata": {
        "id": "VoBe8dLa69Pw"
      },
      "source": [
        "### **Pass Statement**\n",
        "\n",
        "Digunakan jika Anda menginginkan sebuah pernyataan atau blok pernyataan (statement), namun tidak melakukan apapun - melanjutkan eksekusi sesuai dengan seharusnya. Kontrol ini banyak digunakan saat Anda belum melakukan implementasi (dan mengisi pernyataan dengan seharusnya), serta membiarkan program tetap berjalan saat misalnya Anda mengalami kegagalan atau exception.\n",
        "\n",
        "Pass statement adalah operasi bersifat Null (kosong), tidak ada yang terjadi saat ia dipanggil. \n",
        "\n",
        "if statements cannot be empty, but if you for some reason have an if statement with no content, put in the pass statement to avoid getting an error."
      ]
    },
    {
      "cell_type": "code",
      "metadata": {
        "id": "0wwHYAbw7Fbs"
      },
      "source": [
        "a = 33\n",
        "b = 200\n",
        "\n",
        "if b > a:\n",
        "  pass"
      ],
      "execution_count": null,
      "outputs": []
    },
    {
      "cell_type": "markdown",
      "metadata": {
        "id": "FR37s70j7-XA"
      },
      "source": [
        "### **While Else**\n",
        "\n",
        "With the else statement we can run a block of code once when the condition no longer is true\n",
        "\n",
        "Berbeda dengan Else setelah For, pada statement while, blok statement else akan selalu dieksekusi saat kondisi pada while menjadi salah."
      ]
    },
    {
      "cell_type": "code",
      "metadata": {
        "id": "XbUVXm0i8E7n",
        "colab": {
          "base_uri": "https://localhost:8080/",
          "height": 122
        },
        "outputId": "414f41e3-a25d-4ae4-9617-a1bf9cf8695d"
      },
      "source": [
        "i = 1\n",
        "while i < 6:\n",
        "  print(i)\n",
        "  i += 1\n",
        "else:\n",
        "  print(\"i is no longer less than 6\")"
      ],
      "execution_count": null,
      "outputs": [
        {
          "output_type": "stream",
          "text": [
            "1\n",
            "2\n",
            "3\n",
            "4\n",
            "5\n",
            "i is no longer less than 6\n"
          ],
          "name": "stdout"
        }
      ]
    },
    {
      "cell_type": "code",
      "metadata": {
        "id": "rcai-cHQmoyN",
        "colab": {
          "base_uri": "https://localhost:8080/",
          "height": 52
        },
        "outputId": "ae989914-8727-40d4-d877-0c3fb5028f42"
      },
      "source": [
        "n = 5\n",
        "while n > 0:\n",
        "    n = n - 1\n",
        "    if n == 2:\n",
        "        break\n",
        "    print(n)\n",
        "else:\n",
        "    print(\"Loop is finished\")"
      ],
      "execution_count": null,
      "outputs": [
        {
          "output_type": "stream",
          "text": [
            "4\n",
            "3\n"
          ],
          "name": "stdout"
        }
      ]
    },
    {
      "cell_type": "markdown",
      "metadata": {
        "id": "ieGqGlasAj1l"
      },
      "source": [
        "## **For Loop**\n",
        "\n",
        "A **for** loop is used for iterating over a sequence (that is either a list, a tuple, a dictionary, a set, or a string).\n",
        "\n",
        "This is less like the for keyword in other programming languages, and works more like an iterator method as found in other object-orientated programming languages.\n",
        "\n",
        "With the for loop we can execute a set of statements, once for each item in a list, tuple, set etc."
      ]
    },
    {
      "cell_type": "code",
      "metadata": {
        "id": "sPD7ewchnZRo",
        "colab": {
          "base_uri": "https://localhost:8080/",
          "height": 158
        },
        "outputId": "e91208a6-d68a-41a3-c064-c7be22df09ea"
      },
      "source": [
        "#Contoh pengulangan for sederhana\n",
        "angka = [1,2,3,4,5]\n",
        "for x in angka:\n",
        "    print(x)\n",
        "\n",
        "#Contoh pengulangan for\n",
        "buah = [\"nanas\", \"apel\", \"jeruk\"]\n",
        "for makanan in buah:\n",
        "    print (\"Saya suka makan\", makanan)"
      ],
      "execution_count": null,
      "outputs": [
        {
          "output_type": "stream",
          "text": [
            "1\n",
            "2\n",
            "3\n",
            "4\n",
            "5\n",
            "Saya suka makan nanas\n",
            "Saya suka makan apel\n",
            "Saya suka makan jeruk\n"
          ],
          "name": "stdout"
        }
      ]
    },
    {
      "cell_type": "code",
      "metadata": {
        "id": "nDiQ-ZjS_8mH",
        "colab": {
          "base_uri": "https://localhost:8080/",
          "height": 70
        },
        "outputId": "2e9cd385-b067-4e7e-c7f9-90affc6a98fb"
      },
      "source": [
        "for text in ['DSC', 'Universitas', 'Hasanuddin']:\n",
        "    print(text)"
      ],
      "execution_count": null,
      "outputs": [
        {
          "output_type": "stream",
          "text": [
            "DSC\n",
            "Universitas\n",
            "Hasanuddin\n"
          ],
          "name": "stdout"
        }
      ]
    },
    {
      "cell_type": "markdown",
      "metadata": {
        "id": "kldMh05PBJSs"
      },
      "source": [
        "Even strings are iterable objects, they contain a sequence of characters."
      ]
    },
    {
      "cell_type": "code",
      "metadata": {
        "id": "cYmXO9kFA9AW",
        "colab": {
          "base_uri": "https://localhost:8080/",
          "height": 175
        },
        "outputId": "fc2bf955-0aed-41a7-bcf9-691eead17780"
      },
      "source": [
        "for char in 'DSC Unhas':\n",
        "    print(char)"
      ],
      "execution_count": null,
      "outputs": [
        {
          "output_type": "stream",
          "text": [
            "D\n",
            "S\n",
            "C\n",
            " \n",
            "U\n",
            "n\n",
            "h\n",
            "a\n",
            "s\n"
          ],
          "name": "stdout"
        }
      ]
    },
    {
      "cell_type": "markdown",
      "metadata": {
        "id": "-Na-zXosBWK8"
      },
      "source": [
        "### **range()**\n",
        "\n",
        "To loop through a set of code a specified number of times, we can use the range() function,\n",
        "The range() function returns a sequence of numbers, starting from 0 by default, and increments by 1 (by default), and ends at a specified number."
      ]
    },
    {
      "cell_type": "markdown",
      "metadata": {
        "id": "xtTUumh8B8rF"
      },
      "source": [
        "You can pass up to 3 parameter to range() :\n",
        "- *start* : **Optional**. An integer number specifying at which position to start. Default is 0.\n",
        "- *stop* : **Required**. An integer number specifying at which position to end.\n",
        "- *step* : **Optional**. An integer number specifying the incrementation. Default is 1.\n",
        "\n",
        " range(5) => 0, 1, 2, 3, 4\n",
        "\n",
        " range(2, 5) => 2, 3, 4\n",
        "\n",
        " range(1, 8, 2) => 1, 3, 5, 7"
      ]
    },
    {
      "cell_type": "code",
      "metadata": {
        "id": "exJZDMkwBSge",
        "colab": {
          "base_uri": "https://localhost:8080/",
          "height": 34
        },
        "outputId": "c2cfd60f-8e14-4b01-b688-4c0d4579c7f1"
      },
      "source": [
        "range(10)"
      ],
      "execution_count": null,
      "outputs": [
        {
          "output_type": "execute_result",
          "data": {
            "text/plain": [
              "range(0, 10)"
            ]
          },
          "metadata": {
            "tags": []
          },
          "execution_count": 83
        }
      ]
    },
    {
      "cell_type": "code",
      "metadata": {
        "id": "CyqizwcABj07",
        "colab": {
          "base_uri": "https://localhost:8080/",
          "height": 193
        },
        "outputId": "f6028516-16c3-4022-b88d-5f372f013e93"
      },
      "source": [
        "for i in range(10):\n",
        "    print(i)"
      ],
      "execution_count": null,
      "outputs": [
        {
          "output_type": "stream",
          "text": [
            "0\n",
            "1\n",
            "2\n",
            "3\n",
            "4\n",
            "5\n",
            "6\n",
            "7\n",
            "8\n",
            "9\n"
          ],
          "name": "stdout"
        }
      ]
    },
    {
      "cell_type": "code",
      "metadata": {
        "id": "h-INkW-WHRvA",
        "colab": {
          "base_uri": "https://localhost:8080/",
          "height": 105
        },
        "outputId": "500af865-dbe7-4b88-cf2c-b34470779047"
      },
      "source": [
        "for i in range(5,10):\n",
        "  print(i)"
      ],
      "execution_count": null,
      "outputs": [
        {
          "output_type": "stream",
          "text": [
            "5\n",
            "6\n",
            "7\n",
            "8\n",
            "9\n"
          ],
          "name": "stdout"
        }
      ]
    },
    {
      "cell_type": "code",
      "metadata": {
        "id": "K4c84qwGHWUa",
        "colab": {
          "base_uri": "https://localhost:8080/",
          "height": 598
        },
        "outputId": "268713df-cd7c-4efb-8832-a65f1e727592"
      },
      "source": [
        "for i in range(3,100,3):\n",
        "  print(i)"
      ],
      "execution_count": null,
      "outputs": [
        {
          "output_type": "stream",
          "text": [
            "3\n",
            "6\n",
            "9\n",
            "12\n",
            "15\n",
            "18\n",
            "21\n",
            "24\n",
            "27\n",
            "30\n",
            "33\n",
            "36\n",
            "39\n",
            "42\n",
            "45\n",
            "48\n",
            "51\n",
            "54\n",
            "57\n",
            "60\n",
            "63\n",
            "66\n",
            "69\n",
            "72\n",
            "75\n",
            "78\n",
            "81\n",
            "84\n",
            "87\n",
            "90\n",
            "93\n",
            "96\n",
            "99\n"
          ],
          "name": "stdout"
        }
      ]
    },
    {
      "cell_type": "code",
      "metadata": {
        "id": "nOjf-z8lBsYj"
      },
      "source": [
        "# TODO : Try to print 3, 7, 11, 15, 19, 23\n",
        "\n"
      ],
      "execution_count": null,
      "outputs": []
    },
    {
      "cell_type": "markdown",
      "metadata": {
        "id": "MiNj8onZDyGS"
      },
      "source": [
        "### **Nested Loop**\n",
        "\n",
        "A nested loop is a loop inside a loop.\n",
        "\n",
        "The \"inner loop\" will be executed one time for each iteration of the \"outer loop\""
      ]
    },
    {
      "cell_type": "code",
      "metadata": {
        "id": "cexe5r4_C6Bs",
        "colab": {
          "base_uri": "https://localhost:8080/",
          "height": 122
        },
        "outputId": "f87aaaf5-d0f8-46ca-9072-75d9a5657685"
      },
      "source": [
        "adjectives = [\"big\", \"tasty\"]\n",
        "fruits = [\"apple\", \"banana\", \"cherry\"]\n",
        "\n",
        "for adjective in adjectives:\n",
        "  for fruit in fruits:\n",
        "    print(adjective, fruit)"
      ],
      "execution_count": null,
      "outputs": [
        {
          "output_type": "stream",
          "text": [
            "big apple\n",
            "big banana\n",
            "big cherry\n",
            "tasty apple\n",
            "tasty banana\n",
            "tasty cherry\n"
          ],
          "name": "stdout"
        }
      ]
    },
    {
      "cell_type": "markdown",
      "metadata": {
        "id": "9k9vLiSUARKI"
      },
      "source": [
        "### **Break Statement**\n",
        "\n",
        "With the **break** statement we can stop the loop even if the while condition is true.\n",
        "\n",
        "*keluar/selesai pada looping terdekat*"
      ]
    },
    {
      "cell_type": "code",
      "metadata": {
        "id": "XVqsvnKWpEYt",
        "colab": {
          "base_uri": "https://localhost:8080/",
          "height": 52
        },
        "outputId": "108cd3be-b024-4c2c-a391-0e7cb5759dad"
      },
      "source": [
        "fruits = [\"apple\", \"banana\", \"cherry\"]\n",
        "for x in fruits:\n",
        "  print(x)\n",
        "  if x == \"banana\":\n",
        "    break"
      ],
      "execution_count": null,
      "outputs": [
        {
          "output_type": "stream",
          "text": [
            "apple\n",
            "banana\n"
          ],
          "name": "stdout"
        }
      ]
    },
    {
      "cell_type": "code",
      "metadata": {
        "id": "U1i0RXnmCkfb",
        "colab": {
          "base_uri": "https://localhost:8080/",
          "height": 52
        },
        "outputId": "1f84f6bf-2a00-45b0-907d-b3bb9874ec62"
      },
      "source": [
        "for i in range(2) : # lanjut kesini\n",
        "  for j in range(10):\n",
        "    print(j, end=' ')      \n",
        "    if j == 7 :\n",
        "      break # akan keluar pada looping terdekat\n",
        "  print()"
      ],
      "execution_count": null,
      "outputs": [
        {
          "output_type": "stream",
          "text": [
            "0 1 2 3 4 5 6 7 \n",
            "0 1 2 3 4 5 6 7 \n"
          ],
          "name": "stdout"
        }
      ]
    },
    {
      "cell_type": "markdown",
      "metadata": {
        "id": "cC0L2mHHARKa"
      },
      "source": [
        "### **Continue Statement**\n",
        "\n",
        "With the **continue** statement we can stop the current iteration, and continue with the next. Remember to put increment before continue statement."
      ]
    },
    {
      "cell_type": "code",
      "metadata": {
        "id": "NnCAQQSKpOk6",
        "colab": {
          "base_uri": "https://localhost:8080/",
          "height": 52
        },
        "outputId": "5aec9a79-b4c7-402b-e3f0-5dbb0528ccc2"
      },
      "source": [
        "fruits = [\"apple\", \"banana\", \"cherry\"]\n",
        "for x in fruits:\n",
        "  if x == \"banana\":\n",
        "    continue\n",
        "  print(x)"
      ],
      "execution_count": null,
      "outputs": [
        {
          "output_type": "stream",
          "text": [
            "apple\n",
            "cherry\n"
          ],
          "name": "stdout"
        }
      ]
    },
    {
      "cell_type": "markdown",
      "metadata": {
        "id": "w1Lqge5xARKc"
      },
      "source": [
        "### **Pass Statement**\n",
        "\n",
        "Digunakan jika Anda menginginkan sebuah pernyataan atau blok pernyataan (statement), namun tidak melakukan apapun - melanjutkan eksekusi sesuai dengan seharusnya. Kontrol ini banyak digunakan saat Anda belum melakukan implementasi (dan mengisi pernyataan dengan seharusnya), serta membiarkan program tetap berjalan saat misalnya Anda mengalami kegagalan atau exception.\n",
        "\n",
        "Pass statement adalah operasi bersifat Null (kosong), tidak ada yang terjadi saat ia dipanggil. \n",
        "\n",
        "if statements cannot be empty, but if you for some reason have an if statement with no content, put in the pass statement to avoid getting an error.\n",
        "\n",
        "for loops cannot be empty, but if you for some reason have a for loop with no content, put in the pass statement to avoid getting an error."
      ]
    },
    {
      "cell_type": "code",
      "metadata": {
        "id": "wJSnNJB2pp0l"
      },
      "source": [
        "for x in [0, 1, 2]:\n",
        "  pass"
      ],
      "execution_count": null,
      "outputs": []
    },
    {
      "cell_type": "markdown",
      "metadata": {
        "id": "N9Qwa3zSARKe"
      },
      "source": [
        "### **For Else**\n",
        "\n",
        "The else keyword in a for loop specifies a block of code to be executed when the loop is finished\n",
        "\n",
        "if there is break statement maka else tidak akan di eksekusi"
      ]
    },
    {
      "cell_type": "code",
      "metadata": {
        "id": "8IZJ8BoEpd7L",
        "colab": {
          "base_uri": "https://localhost:8080/",
          "height": 140
        },
        "outputId": "d79566b5-8743-424b-9ae3-270e9f09664e"
      },
      "source": [
        "for x in range(6):\n",
        "  print(x)\n",
        "else:\n",
        "  print(\"Finally finished!\")"
      ],
      "execution_count": null,
      "outputs": [
        {
          "output_type": "stream",
          "text": [
            "0\n",
            "1\n",
            "2\n",
            "3\n",
            "4\n",
            "5\n",
            "Finally finished!\n"
          ],
          "name": "stdout"
        }
      ]
    },
    {
      "cell_type": "code",
      "metadata": {
        "id": "RMWxJSaDl-Bf",
        "colab": {
          "base_uri": "https://localhost:8080/",
          "height": 158
        },
        "outputId": "bb4b50df-e98e-4075-9cc6-b8541cd059f4"
      },
      "source": [
        "for n in range(2, 10):\n",
        "    for x in range(2, n):\n",
        "        if n % x == 0:\n",
        "            print( n, 'equals', x, '*', n/x)\n",
        "            break\n",
        "    else:\n",
        "        # loop fell through without finding a factor\n",
        "        print(n, 'is a prime number')"
      ],
      "execution_count": null,
      "outputs": [
        {
          "output_type": "stream",
          "text": [
            "2 is a prime number\n",
            "3 is a prime number\n",
            "4 equals 2 * 2.0\n",
            "5 is a prime number\n",
            "6 equals 2 * 3.0\n",
            "7 is a prime number\n",
            "8 equals 2 * 4.0\n",
            "9 equals 3 * 3.0\n"
          ],
          "name": "stdout"
        }
      ]
    },
    {
      "cell_type": "markdown",
      "metadata": {
        "id": "t-8O5e81GaWX"
      },
      "source": [
        "# **Function**\n",
        "\n",
        "`def nama_fungsi( parameter )`\n",
        "\n",
        "A function is a block of code which only runs when it is called. You can pass data, known as parameters, into a function. A function can return data as a result.\n",
        "\n",
        "In Python, a function is defined using **def** keyword. And to call a function, use the function name followed by parenthesis.\n",
        "\n",
        "Anda dapat menentukan fungsi untuk menyediakan fungsionalitas yang dibutuhkan. Berikut adalah aturan sederhana untuk mendefinisikan fungsi dengan Python.\n",
        "\n",
        "* Fungsi blok dimulai dengan def kata kunci diikuti oleh nama fungsi dan tanda kurung (()).\n",
        "\n",
        "* Setiap parameter masukan atau argumen harus ditempatkan di dalam tanda kurung ini. Anda juga dapat menentukan parameter di dalam tanda kurung ini.\n",
        "\n",
        "* Pernyataan pertama dari sebuah fungsi dapat berupa pernyataan opsional - string dokumentasi fungsi atau docstring.\n",
        "\n",
        "* Blok kode dalam setiap fungsi dimulai dengan titik dua (:) dan indentasi.\n",
        "\n",
        "* Pernyataan kembali [ekspresi] keluar dari sebuah fungsi, secara opsional menyampaikan kembali ekspresi ke pemanggil. Pernyataan pengembalian tanpa argumen sama dengan return None."
      ]
    },
    {
      "cell_type": "markdown",
      "metadata": {
        "id": "ULnZr2ht3sCM"
      },
      "source": [
        "`def nama_fungsi( parameter ):`\n",
        "\n",
        "    `\"dokumentasi fungsi\"`\n",
        "\n",
        "    `statemen atau kode fungsi`\n",
        "\n",
        "   `return [expression]`"
      ]
    },
    {
      "cell_type": "code",
      "metadata": {
        "id": "KFMsKRfnEFxW",
        "colab": {
          "base_uri": "https://localhost:8080/"
        },
        "outputId": "df863eb9-9b39-46bd-81df-64adee0c7e0a"
      },
      "source": [
        "def print_hello():\n",
        "  \"function_docstring\"\n",
        "  print(\"Hello\")\n",
        "\n",
        "print_hello()"
      ],
      "execution_count": null,
      "outputs": [
        {
          "output_type": "stream",
          "text": [
            "Hello\n"
          ],
          "name": "stdout"
        }
      ]
    },
    {
      "cell_type": "code",
      "metadata": {
        "colab": {
          "base_uri": "https://localhost:8080/"
        },
        "id": "nNem_eml5FZi",
        "outputId": "ca779122-b7c0-4532-f958-85f0365c5015"
      },
      "source": [
        "def ubah(list_saya):\n",
        "    \"Deklarasi Variabel list_saya berikut hanya dikenali (berlaku) di dalam fungsi ubah\"\n",
        "    list_saya = [1, 2, 3, 4] \n",
        "    print ('Nilai di dalam fungsi: {}'.format(list_saya))\n",
        " \n",
        "# Panggil fungsi ubah\n",
        "list_saya = [10, 20, 30]\n",
        "ubah(list_saya)\n",
        "print('Nilai di luar fungsi: {}'.format(list_saya))"
      ],
      "execution_count": null,
      "outputs": [
        {
          "output_type": "stream",
          "text": [
            "Nilai di dalam fungsi: [1, 2, 3, 4]\n",
            "Nilai di luar fungsi: [10, 20, 30]\n"
          ],
          "name": "stdout"
        }
      ]
    },
    {
      "cell_type": "markdown",
      "metadata": {
        "id": "uiEX367HHHZe"
      },
      "source": [
        "### **Arguments**\n",
        "\n",
        "**<h4>*What's the different between parameter and arguments*</h4>**\n",
        "\n",
        "From a function's perspective:\n",
        "\n",
        "* A parameter is the variable listed inside the parentheses in the function definition.\n",
        "\n",
        "* An argument is the value that is sent to the function when it is called.\n",
        "\n",
        "Information can be passed into functions as arguments.\n",
        "\n",
        "Arguments are specified after the function name, inside the parentheses. You can add as many arguments as you want, just separate them with a comma.\n",
        "\n",
        "-----------------------------------------------------------------------------------------------------------\n",
        "\n",
        "**Sebagai nilai yang akan dimasukkan pada saat fungsi dipanggil, ada dua jenis argumen:**\n",
        "\n",
        "* Keyword Argument, yakni argumen yang disertai identifier atau nama parameter yang secara eksplisit disebutkan. Hal ini termasuk jika kita mengirimkan nilai melalui dictionary yang diawali dua tanda * (**).\n",
        "\n",
        "* Positional Argument, yakni argumen selain keyword argument. Jika kita mengirimkan variabel bersifat iterable, maka harus diawali tanda *.\n",
        "\n",
        "Contoh:\n",
        "\n",
        "Keyword Argument\n",
        "\n",
        "`daftar(tanggal=1, bulan='Januari', tahun=2020)`\n",
        "\n",
        "`daftar(**{'tanggal': 1, 'bulan': 'Januari', 'tahun'=2020})`\n",
        "\n",
        "Positional Argument\n",
        "\n",
        "`daftar(1,'Januari',2020)`\n",
        "\n",
        "`daftar(*(1, 'Januari, 2020))`\n",
        "\n",
        "Sintaksis prefix * digunakan sebagai penanda iterable di Python, sedangkan prefix ** digunakan sebagai penanda kontainer/dictionary."
      ]
    },
    {
      "cell_type": "code",
      "metadata": {
        "id": "pcNt1n1tHEwT",
        "colab": {
          "base_uri": "https://localhost:8080/"
        },
        "outputId": "981217f7-c7e9-4c6a-811a-f56971ce397f"
      },
      "source": [
        "def print_hi(name):\n",
        "    print(\"Hi, \" + name)\n",
        "\n",
        "print_hi(\"DSC Unhas\")"
      ],
      "execution_count": null,
      "outputs": [
        {
          "output_type": "stream",
          "text": [
            "Hi, DSC Unhas\n"
          ],
          "name": "stdout"
        }
      ]
    },
    {
      "cell_type": "markdown",
      "metadata": {
        "id": "YOPhEeMuHtEm"
      },
      "source": [
        "By default, a function must be called with the correct number of arguments. Meaning that if your function expects 2 arguments, you have to call the function with 2 arguments, not more, and not less."
      ]
    },
    {
      "cell_type": "code",
      "metadata": {
        "id": "xhtjk5YPHe0W",
        "colab": {
          "base_uri": "https://localhost:8080/",
          "height": 34
        },
        "outputId": "322fca85-76ef-4d8b-c11c-4d7af658a88f"
      },
      "source": [
        "def print_hi(first_name, last_name):\n",
        "    print(\"Hi, \" + first_name + ' ' + last_name)\n",
        "\n",
        "print_hi('Kevin', 'Chandra')"
      ],
      "execution_count": null,
      "outputs": [
        {
          "output_type": "stream",
          "text": [
            "Hi, Kevin Chandra\n"
          ],
          "name": "stdout"
        }
      ]
    },
    {
      "cell_type": "markdown",
      "metadata": {
        "id": "w_0sabe3sLUH"
      },
      "source": [
        "**<h4>*Passing a List as an Argument*</h4>**\n",
        "\n",
        "You can send any data types of argument to a function (string, number, list, dictionary etc.), and it will be treated as the same data type inside the function."
      ]
    },
    {
      "cell_type": "code",
      "metadata": {
        "id": "LoQJtxCAsNmk",
        "colab": {
          "base_uri": "https://localhost:8080/",
          "height": 70
        },
        "outputId": "815c9ed8-7e74-4d77-8a98-73aec0232b6d"
      },
      "source": [
        "def my_function(food):\n",
        "  for x in food:\n",
        "    print(x)\n",
        "\n",
        "fruits = [\"apple\", \"banana\", \"cherry\"]\n",
        "\n",
        "my_function(fruits)"
      ],
      "execution_count": null,
      "outputs": [
        {
          "output_type": "stream",
          "text": [
            "apple\n",
            "banana\n",
            "cherry\n"
          ],
          "name": "stdout"
        }
      ]
    },
    {
      "cell_type": "markdown",
      "metadata": {
        "id": "ERJL480tIEBG"
      },
      "source": [
        "**<h4>*Passing a Function Return as Argumnet*</h4>**\n"
      ]
    },
    {
      "cell_type": "code",
      "metadata": {
        "id": "ycFJsuJdiSGu",
        "colab": {
          "base_uri": "https://localhost:8080/",
          "height": 34
        },
        "outputId": "aaa1f1d2-c039-4f4b-e512-a07110935603"
      },
      "source": [
        "def multiply_by_10(num):\n",
        "    return num * 10\n",
        "\n",
        "def multiply_by_num(num1, num2):\n",
        "    return num1 * num2\n",
        "\n",
        "print(multiply_by_num(10, multiply_by_10(10)))"
      ],
      "execution_count": null,
      "outputs": [
        {
          "output_type": "stream",
          "text": [
            "1000\n"
          ],
          "name": "stdout"
        }
      ]
    },
    {
      "cell_type": "markdown",
      "metadata": {
        "id": "RgldoIZ6I9KN"
      },
      "source": [
        "**<h4>*Keyword Arguments*</h4>**\n",
        "\n",
        "You can also send arguments with the key = value syntax.\n",
        "\n",
        "This way the order of the arguments does not matter."
      ]
    },
    {
      "cell_type": "code",
      "metadata": {
        "id": "FwUGIjAtI65X",
        "colab": {
          "base_uri": "https://localhost:8080/",
          "height": 52
        },
        "outputId": "6e3424ea-0067-465f-cf19-51aaa6e0942c"
      },
      "source": [
        "def print_hi(first_name, last_name):\n",
        "    print(\"Hi, \" + first_name + ' ' + last_name)\n",
        "\n",
        "\n",
        "print_hi(first_name='Imam', last_name='Masri')\n",
        "print_hi(last_name='Chandra', first_name='Kevin')"
      ],
      "execution_count": null,
      "outputs": [
        {
          "output_type": "stream",
          "text": [
            "Hi, Imam Masri\n",
            "Hi, Kevin Chandra\n"
          ],
          "name": "stdout"
        }
      ]
    },
    {
      "cell_type": "markdown",
      "metadata": {
        "id": "2xV9TkC-IK4k"
      },
      "source": [
        "**<h4>*Arbitrary Arguments* </h4> (**args)*\n",
        "\n",
        "If you do not know how many arguments that will be passed into your function, add a **\\*** before the parameter name in the function definition.\n",
        "\n",
        "This way the function will receive a tuple of arguments, and can access the items accordingly"
      ]
    },
    {
      "cell_type": "code",
      "metadata": {
        "id": "JtXUs-_fIBMN",
        "colab": {
          "base_uri": "https://localhost:8080/",
          "height": 34
        },
        "outputId": "caf7e84a-7ef0-4e14-cba4-0c706865796d"
      },
      "source": [
        "def kids_list(*kids):\n",
        "    print(\"The oldest child is \" + kids[0])\n",
        "\n",
        "kids_list('Bill', 'Jeff', 'Mark')"
      ],
      "execution_count": null,
      "outputs": [
        {
          "output_type": "stream",
          "text": [
            "The oldest child is Bill\n"
          ],
          "name": "stdout"
        }
      ]
    },
    {
      "cell_type": "markdown",
      "metadata": {
        "id": "9xbNHSX0JUqw"
      },
      "source": [
        "\n",
        "**<h4>*Arbitrary Keyword Arguments* </h4> (**kwargs)**\n",
        "\n",
        "If you do not know how many keyword arguments that will be passed into your function, add two asterisk: ** before the parameter name in the function definition."
      ]
    },
    {
      "cell_type": "code",
      "metadata": {
        "id": "f11eSW3HI2Fe",
        "colab": {
          "base_uri": "https://localhost:8080/",
          "height": 34
        },
        "outputId": "c211490e-47b4-44a5-c0fa-dc3c2ff344af"
      },
      "source": [
        "def kids_list(**kids):\n",
        "  print(\"The oldest child is \" + kids[\"first\"])\n",
        "\n",
        "kids_list(first = \"Bill\", second = \"Jeff\", last = \"Mark\")"
      ],
      "execution_count": null,
      "outputs": [
        {
          "output_type": "stream",
          "text": [
            "The oldest child is Bill\n"
          ],
          "name": "stdout"
        }
      ]
    },
    {
      "cell_type": "code",
      "metadata": {
        "id": "L32gfWqru1_h",
        "colab": {
          "base_uri": "https://localhost:8080/",
          "height": 263
        },
        "outputId": "96b50c87-d4e8-4146-a7de-9e580267a530"
      },
      "source": [
        "def printinfo(*args, **kwargs):\n",
        "    for a in args:\n",
        "        print('argumen posisi {}'.format(a))\n",
        "    for key, value in kwargs.items():\n",
        "        print('argument kata kunci {}:{}'.format(key, value))\n",
        " \n",
        " \n",
        "# Panggil printinfo\n",
        "printinfo()\n",
        "printinfo(1, 2, 3)\n",
        "printinfo(i=7, j=8, k=9)\n",
        "printinfo(1, 2, j=8, k=9)\n",
        "printinfo(*(2, 3), **{'i':7, 'j':8})"
      ],
      "execution_count": null,
      "outputs": [
        {
          "output_type": "stream",
          "text": [
            "argumen posisi 1\n",
            "argumen posisi 2\n",
            "argumen posisi 3\n",
            "argument kata kunci i:7\n",
            "argument kata kunci j:8\n",
            "argument kata kunci k:9\n",
            "argumen posisi 1\n",
            "argumen posisi 2\n",
            "argument kata kunci j:8\n",
            "argument kata kunci k:9\n",
            "argumen posisi 2\n",
            "argumen posisi 3\n",
            "argument kata kunci i:7\n",
            "argument kata kunci j:8\n"
          ],
          "name": "stdout"
        }
      ]
    },
    {
      "cell_type": "markdown",
      "metadata": {
        "id": "q6FB6h7NJ6fP"
      },
      "source": [
        "### **Default Parameter Value**\n",
        "\n",
        "Default Parameter value is the value that you assigned to a parameter so that if you call the function without argument, it uses the default value."
      ]
    },
    {
      "cell_type": "code",
      "metadata": {
        "id": "QSjYD1FSJ0PA",
        "colab": {
          "base_uri": "https://localhost:8080/",
          "height": 52
        },
        "outputId": "a0454b48-709d-45c2-d7d6-ac11396bcde8"
      },
      "source": [
        "def print_lucky_num(num = 10):\n",
        "    print(\"My lucky number is \" + str(num))\n",
        "\n",
        "print_lucky_num(100)\n",
        "print_lucky_num()"
      ],
      "execution_count": null,
      "outputs": [
        {
          "output_type": "stream",
          "text": [
            "My lucky number is 100\n",
            "My lucky number is 10\n"
          ],
          "name": "stdout"
        }
      ]
    },
    {
      "cell_type": "code",
      "metadata": {
        "id": "9FYOU4oHG7d_",
        "colab": {
          "base_uri": "https://localhost:8080/",
          "height": 228
        },
        "outputId": "811afa51-dbe3-4a88-bc1d-a188f74dcfc8"
      },
      "source": [
        "def penjagaSekolah (nama, shift='siang', galak='tidak') :\n",
        "  print('penjaga sekolah ini bernama = ', nama)\n",
        "  print('shiftnya = ', shift)\n",
        "  print('galak? = ', galak)\n",
        "  print()\n",
        "\n",
        "penjagaSekolah('Entis')\n",
        "penjagaSekolah('Imam', shift='malam')\n",
        "penjagaSekolah('Asep', galak='sangat')\n",
        "# penjagaSekolah(shift='malam', galak-'iya') ERROR"
      ],
      "execution_count": null,
      "outputs": [
        {
          "output_type": "stream",
          "text": [
            "penjaga sekolah ini bernama =  Entis\n",
            "shiftnya =  siang\n",
            "galak? =  tidak\n",
            "\n",
            "penjaga sekolah ini bernama =  Imam\n",
            "shiftnya =  malam\n",
            "galak? =  tidak\n",
            "\n",
            "penjaga sekolah ini bernama =  Asep\n",
            "shiftnya =  siang\n",
            "galak? =  sangat\n",
            "\n"
          ],
          "name": "stdout"
        }
      ]
    },
    {
      "cell_type": "markdown",
      "metadata": {
        "id": "YnP0HHaHKieL"
      },
      "source": [
        "### **Return Values**\n",
        "\n",
        "To let a function return a value, use the **return** statement."
      ]
    },
    {
      "cell_type": "code",
      "metadata": {
        "id": "GjQXeAT_Kftp",
        "colab": {
          "base_uri": "https://localhost:8080/",
          "height": 34
        },
        "outputId": "b3069d06-e288-491e-f3a0-ffca4418196e"
      },
      "source": [
        "def multiply_by_10(num):\n",
        "    return num * 10\n",
        "\n",
        "print(multiply_by_10(12))"
      ],
      "execution_count": null,
      "outputs": [
        {
          "output_type": "stream",
          "text": [
            "120\n"
          ],
          "name": "stdout"
        }
      ]
    },
    {
      "cell_type": "markdown",
      "metadata": {
        "id": "fVfjsjhSHpC3"
      },
      "source": [
        "bisa juga berupa list, tuple, dict dll"
      ]
    },
    {
      "cell_type": "code",
      "metadata": {
        "id": "ewfapETrHsJu",
        "colab": {
          "base_uri": "https://localhost:8080/"
        },
        "outputId": "b335da76-f709-49ae-aaa1-d07b1361f7e6"
      },
      "source": [
        "def kali(angka1, angka2) :\n",
        "  x = angka1*2\n",
        "  y = angka2*3\n",
        "  return x,y\n",
        "\n",
        "hasil = kali(2,3)\n",
        "print(\"hasil : \", hasil)\n",
        "\n",
        "num1, num2 = kali(1,2)\n",
        "print(\"num1 : \", num1)\n",
        "print(\"num2 : \", num2)"
      ],
      "execution_count": null,
      "outputs": [
        {
          "output_type": "stream",
          "text": [
            "hasil :  (4, 9)\n",
            "num1 :  2\n",
            "num2 :  6\n"
          ],
          "name": "stdout"
        }
      ]
    },
    {
      "cell_type": "code",
      "metadata": {
        "colab": {
          "base_uri": "https://localhost:8080/"
        },
        "id": "aTd8aaW_zBKE",
        "outputId": "5163264b-b39c-46bb-86dc-11cc9c7eb9b7"
      },
      "source": [
        "# This function compares two numbers and returns them\n",
        "# in increasing order.\n",
        "def order_numbers(number1, number2):\n",
        "\tif number2 > number1:\n",
        "\t\treturn number1, number2\n",
        "\telse:\n",
        "\t\treturn number2, number1\n",
        "\n",
        "# 1) Fill in the blanks so the print statement displays the result\n",
        "#    of the function call\n",
        "smaller, bigger = order_numbers(100, 99)\n",
        "print(smaller, bigger)"
      ],
      "execution_count": null,
      "outputs": [
        {
          "output_type": "stream",
          "text": [
            "99 100\n"
          ],
          "name": "stdout"
        }
      ]
    },
    {
      "cell_type": "markdown",
      "metadata": {
        "id": "ToyQjxt0K4en"
      },
      "source": [
        "### **Recursion**\n",
        "\n",
        "Recursion is a common mathematical and programming concept. It means that a function calls itself. This has the benefit of meaning that you can loop through data to reach a result.\n",
        "\n",
        "The developer should be very careful with recursion as it can be quite easy to slip into writing a function which never terminates, or one that uses excess amounts of memory or processor power. However, when written correctly recursion can be a very efficient and mathematically-elegant approach to programming."
      ]
    },
    {
      "cell_type": "code",
      "metadata": {
        "id": "6XaIGhPJK0cb",
        "colab": {
          "base_uri": "https://localhost:8080/",
          "height": 70
        },
        "outputId": "a05fa37c-a36d-428a-deba-4db29b193263"
      },
      "source": [
        "def factorial(num):\n",
        "    if num < 0:\n",
        "        return \"Negative value don't have factorial\"\n",
        "    elif num == 0 or num == 1:\n",
        "        return 1\n",
        "    else:\n",
        "        return num * factorial(num-1)\n",
        "\n",
        "print(factorial(-5))\n",
        "print(factorial(0))\n",
        "print(factorial(5))"
      ],
      "execution_count": null,
      "outputs": [
        {
          "output_type": "stream",
          "text": [
            "Negative value don't have factorial\n",
            "1\n",
            "120\n"
          ],
          "name": "stdout"
        }
      ]
    },
    {
      "cell_type": "code",
      "metadata": {
        "colab": {
          "base_uri": "https://localhost:8080/"
        },
        "id": "5xpBjVbfz_xA",
        "outputId": "bc83e1f9-ee2e-4e33-d669-d166df9bfb55"
      },
      "source": [
        "def factorial(n):\n",
        "    result = 1\n",
        "    for x in range(1,n):\n",
        "        result = result * x\n",
        "    return result\n",
        "\n",
        "for n in range(0,10):\n",
        "    print(n, factorial(n+1))"
      ],
      "execution_count": null,
      "outputs": [
        {
          "output_type": "stream",
          "text": [
            "0 1\n",
            "1 1\n",
            "2 2\n",
            "3 6\n",
            "4 24\n",
            "5 120\n",
            "6 720\n",
            "7 5040\n",
            "8 40320\n",
            "9 362880\n"
          ],
          "name": "stdout"
        }
      ]
    },
    {
      "cell_type": "markdown",
      "metadata": {
        "id": "7VINrgOxvCmr"
      },
      "source": [
        "## **Lambda**\n",
        "\n",
        "A lambda function is a small anonymous function.\n",
        "\n",
        "A lambda function can take any number of arguments, but can only have one expression.\n",
        "\n",
        "Syntax\n",
        "\n",
        "`lambda arguments : expression`\n",
        "\n",
        "`lambda [arg1 [,arg2,.....argn]]:expression`\n",
        "\n"
      ]
    },
    {
      "cell_type": "markdown",
      "metadata": {
        "id": "SgO3fS8twJtK"
      },
      "source": [
        "A lambda function that adds 10 to the number passed in as an argument, and print the result:"
      ]
    },
    {
      "cell_type": "code",
      "metadata": {
        "id": "ZvLbnp7wwGGH",
        "colab": {
          "base_uri": "https://localhost:8080/",
          "height": 34
        },
        "outputId": "ad499775-5803-419c-c1e8-0e2b8a123bf9"
      },
      "source": [
        "x = lambda a : a + 10\n",
        "print(x(5))"
      ],
      "execution_count": null,
      "outputs": [
        {
          "output_type": "stream",
          "text": [
            "15\n"
          ],
          "name": "stdout"
        }
      ]
    },
    {
      "cell_type": "markdown",
      "metadata": {
        "id": "siQMUK1f6vuf"
      },
      "source": [
        "another example"
      ]
    },
    {
      "cell_type": "code",
      "metadata": {
        "colab": {
          "base_uri": "https://localhost:8080/"
        },
        "id": "RDmD3Xin6uio",
        "outputId": "c7694da3-94e9-4416-ff52-8b77878843d1"
      },
      "source": [
        "kali = lambda nilai1, nilai2: nilai1 * nilai2;\n",
        "print (\"Hasil : \", kali( 11, 21 ))\n",
        "print (\"Hasil : \", kali( 2, 2 ))"
      ],
      "execution_count": null,
      "outputs": [
        {
          "output_type": "stream",
          "text": [
            "Hasil :  231\n",
            "Hasil :  4\n"
          ],
          "name": "stdout"
        }
      ]
    },
    {
      "cell_type": "markdown",
      "metadata": {
        "id": "-OLN4CavwNre"
      },
      "source": [
        "Lambda functions can take any number of arguments\n",
        "\n",
        "A lambda function that multiplies argument a with argument b and print the result:"
      ]
    },
    {
      "cell_type": "code",
      "metadata": {
        "id": "uJQEfWegwYDK",
        "colab": {
          "base_uri": "https://localhost:8080/",
          "height": 34
        },
        "outputId": "575cde37-0c73-48b1-e5b8-46d044aba829"
      },
      "source": [
        "x = lambda a, b : a * b\n",
        "print(x(5, 6))"
      ],
      "execution_count": null,
      "outputs": [
        {
          "output_type": "stream",
          "text": [
            "30\n"
          ],
          "name": "stdout"
        }
      ]
    },
    {
      "cell_type": "code",
      "metadata": {
        "id": "xrVHcO4Gwc2I",
        "colab": {
          "base_uri": "https://localhost:8080/",
          "height": 34
        },
        "outputId": "b30541e9-8789-40b6-ae5c-4688eb3589c2"
      },
      "source": [
        "x = lambda a, b, c : a + b + c\n",
        "print(x(5, 6, 2))"
      ],
      "execution_count": null,
      "outputs": [
        {
          "output_type": "stream",
          "text": [
            "13\n"
          ],
          "name": "stdout"
        }
      ]
    },
    {
      "cell_type": "markdown",
      "metadata": {
        "id": "_uYeZdnjyEvp"
      },
      "source": [
        "**<h4>Why Use Lambda Functions?</h4>**\n",
        "\n",
        "The power of lambda is better shown when you use them as an anonymous function inside another function."
      ]
    },
    {
      "cell_type": "code",
      "metadata": {
        "id": "I9BUaTxDydxP"
      },
      "source": [
        "def myfunc(n):\n",
        "  return lambda a : a * n\n",
        "\n",
        "mydoubler = myfunc(2) # make mydouble as lambda by return\n",
        "\n",
        "print(mydoubler(11)) # call lambda"
      ],
      "execution_count": null,
      "outputs": []
    },
    {
      "cell_type": "markdown",
      "metadata": {
        "id": "o9Jkhk85wIJj"
      },
      "source": [
        "## **Scope Local and Global**\n",
        "\n",
        "Cakupan variabel secara umum dibagi menjadi dua, yakni variabel Lokal dan variabel Global.\n",
        "\n",
        "Variabel yang didefinisikan dalam fungsi bersifat lokal (di fungsi tersebut), dan yang didefinisikan di luar fungsi bersifat global. \n",
        "\n",
        "Artinya, variabel Lokal hanya dapat diakses dan dioperasikan dalam fungsi tempat variabel tersebut dideklarasikan. "
      ]
    },
    {
      "cell_type": "code",
      "metadata": {
        "id": "9CpESRdlwN09",
        "colab": {
          "base_uri": "https://localhost:8080/",
          "height": 52
        },
        "outputId": "6b5ae758-1801-4ed9-d3a6-e957286676b3"
      },
      "source": [
        "# scope variable : local\n",
        "\n",
        "namaKucing = 'Imam'\n",
        "\n",
        "def rubahNamaKucing(namaBaru) :\n",
        "  namaKucing = namaBaru # local\n",
        "  print('saya rubah nama kucing menjadi', namaKucing)\n",
        "\n",
        "rubahNamaKucing('ketie')\n",
        "print('nama kucing saya menjadi', namaKucing) # tidak akan berubah"
      ],
      "execution_count": null,
      "outputs": [
        {
          "output_type": "stream",
          "text": [
            "saya rubah nama kucing menjadi ketie\n",
            "nama kucing saya menjadi Imam\n"
          ],
          "name": "stdout"
        }
      ]
    },
    {
      "cell_type": "markdown",
      "metadata": {
        "id": "FY27ZzETwxs-"
      },
      "source": [
        "Mengapa variable namaKucing tidak berubah, karena untuk dalam fungsi variable merupakan variable local sehingga variable diluar akan tidak berpengaruh."
      ]
    },
    {
      "cell_type": "code",
      "metadata": {
        "id": "bEyIkNfvxHnG",
        "colab": {
          "base_uri": "https://localhost:8080/",
          "height": 52
        },
        "outputId": "8c907f32-ba6a-4ede-a3ab-cd7de7d8ac40"
      },
      "source": [
        "# scope variable : global\n",
        "\n",
        "namaKucing = 'Imam'\n",
        "\n",
        "def rubahNamaKucing(namaBaru) :\n",
        "  global namaKucing # global\n",
        "  namaKucing = namaBaru \n",
        "  print('saya rubah nama kucing menjadi', namaKucing)\n",
        "\n",
        "rubahNamaKucing('ketie')\n",
        "print('nama kucing saya menjadi', namaKucing) # tidak akan berubah"
      ],
      "execution_count": null,
      "outputs": [
        {
          "output_type": "stream",
          "text": [
            "saya rubah nama kucing menjadi ketie\n",
            "nama kucing saya menjadi ketie\n"
          ],
          "name": "stdout"
        }
      ]
    },
    {
      "cell_type": "code",
      "metadata": {
        "id": "qfdXCAPRxXkd",
        "colab": {
          "base_uri": "https://localhost:8080/",
          "height": 52
        },
        "outputId": "14156099-7034-4dd6-aeb8-f48b3454925b"
      },
      "source": [
        "# scope variable : global\n",
        "\n",
        "namaKucing = 'Imam'\n",
        "makananKucing = 'wiskas'\n",
        "\n",
        "def rubahNamaKucing(namaBaru) :\n",
        "  global namaKucing # global\n",
        "  namaKucing = namaBaru \n",
        "  print('saya rubah nama kucing menjadi', namaKucing)\n",
        "\n",
        "def kasihMakanKucing(makanan, nama) :\n",
        "  global namaKucing, makananKucing\n",
        "  namaKucing = nama \n",
        "  makananKucing = makanan\n",
        "\n",
        "rubahNamaKucing('ketie')\n",
        "\n",
        "kasihMakanKucing('universal', 'alex')\n",
        "\n",
        "print('nama kucing saya menjadi', namaKucing) # tidak akan berubah"
      ],
      "execution_count": null,
      "outputs": [
        {
          "output_type": "stream",
          "text": [
            "saya rubah nama kucing menjadi ketie\n",
            "nama kucing saya menjadi alex\n"
          ],
          "name": "stdout"
        }
      ]
    },
    {
      "cell_type": "markdown",
      "metadata": {
        "id": "OnKpnttH-HIh"
      },
      "source": [
        "#**Docstring**"
      ]
    },
    {
      "cell_type": "code",
      "metadata": {
        "colab": {
          "base_uri": "https://localhost:8080/"
        },
        "id": "51FuJcKG-kYM",
        "outputId": "cbb501a3-e0bc-4740-a967-2e444cdbe631"
      },
      "source": [
        "def to_second(hours, minutes, seconds):\n",
        "  \"\"\"Returns the ammount of seconds in the given hours, minutes, an seconds.\"\"\" #--> This is docstring\n",
        "  return hours*3600+minutes*60+seconds\n",
        "\n",
        "help(to_second)"
      ],
      "execution_count": null,
      "outputs": [
        {
          "output_type": "stream",
          "text": [
            "Help on function to_second in module __main__:\n",
            "\n",
            "to_second(hours, minutes, seconds)\n",
            "    Returns the ammount of seconds in the given hours, minutes, an seconds.\n",
            "\n"
          ],
          "name": "stdout"
        }
      ]
    },
    {
      "cell_type": "markdown",
      "metadata": {
        "id": "WPDxwA6SlfvU"
      },
      "source": [
        "# **Math**\n",
        "\n",
        "[link text](https://www.w3schools.com/python/module_math.asp)"
      ]
    },
    {
      "cell_type": "markdown",
      "metadata": {
        "id": "_i3OQJKrly_H"
      },
      "source": [
        "min() / max()"
      ]
    },
    {
      "cell_type": "code",
      "metadata": {
        "id": "WO0KsZckl3KY",
        "colab": {
          "base_uri": "https://localhost:8080/",
          "height": 50
        },
        "outputId": "c7956089-f976-4f6f-9b8f-c7aeedad4cca"
      },
      "source": [
        "x = min(5, 10, 25)\n",
        "y = max(5, 10, 25)\n",
        "\n",
        "print(x)\n",
        "print(y)"
      ],
      "execution_count": null,
      "outputs": [
        {
          "output_type": "stream",
          "text": [
            "5\n",
            "25\n"
          ],
          "name": "stdout"
        }
      ]
    },
    {
      "cell_type": "markdown",
      "metadata": {
        "id": "VyPGDXxOl4hb"
      },
      "source": [
        "abs()\n",
        "\n",
        "absolute (positive) value of the specified number"
      ]
    },
    {
      "cell_type": "code",
      "metadata": {
        "id": "ccpRp0CYl6b5",
        "colab": {
          "base_uri": "https://localhost:8080/",
          "height": 34
        },
        "outputId": "abe85a6c-b50b-45e2-be42-efb53260e84d"
      },
      "source": [
        "x = abs(-7.25)\n",
        "\n",
        "print(x)"
      ],
      "execution_count": null,
      "outputs": [
        {
          "output_type": "stream",
          "text": [
            "7.25\n"
          ],
          "name": "stdout"
        }
      ]
    },
    {
      "cell_type": "markdown",
      "metadata": {
        "id": "lk-UVRFKmEOt"
      },
      "source": [
        "pow(x, y) "
      ]
    },
    {
      "cell_type": "code",
      "metadata": {
        "id": "eEEhcUmxmJ67",
        "colab": {
          "base_uri": "https://localhost:8080/",
          "height": 34
        },
        "outputId": "0467a3f6-e7b0-452b-f0c3-a88f50fc2bd7"
      },
      "source": [
        "x = pow(4, 3)\n",
        "\n",
        "print(x)"
      ],
      "execution_count": null,
      "outputs": [
        {
          "output_type": "stream",
          "text": [
            "64\n"
          ],
          "name": "stdout"
        }
      ]
    },
    {
      "cell_type": "markdown",
      "metadata": {
        "id": "NSt_2q74mPC_"
      },
      "source": [
        "**The Math Module**\n",
        "\n",
        "Python has also a built-in module called math, which extends the list of mathematical functions."
      ]
    },
    {
      "cell_type": "markdown",
      "metadata": {
        "id": "Ca9zBuv2m50M"
      },
      "source": [
        "math.sqrt()"
      ]
    },
    {
      "cell_type": "code",
      "metadata": {
        "id": "4RJt4zZHm3t5",
        "colab": {
          "base_uri": "https://localhost:8080/",
          "height": 34
        },
        "outputId": "9b35c2a9-26db-4ad0-bd4d-77bb7f1fadcd"
      },
      "source": [
        "import math\n",
        "\n",
        "x = math.sqrt(64)\n",
        "\n",
        "print(x)"
      ],
      "execution_count": null,
      "outputs": [
        {
          "output_type": "stream",
          "text": [
            "8.0\n"
          ],
          "name": "stdout"
        }
      ]
    },
    {
      "cell_type": "markdown",
      "metadata": {
        "id": "-IRS9ZXRm9ws"
      },
      "source": [
        "math.ceil() and math.floor()"
      ]
    },
    {
      "cell_type": "code",
      "metadata": {
        "id": "dq1YX4QonA6h",
        "colab": {
          "base_uri": "https://localhost:8080/",
          "height": 52
        },
        "outputId": "a70cf4b5-c286-432b-a58b-16a3e6831626"
      },
      "source": [
        "import math\n",
        "\n",
        "x = math.ceil(1.4)\n",
        "y = math.floor(1.4)\n",
        "\n",
        "print(x) # returns 2\n",
        "print(y) # returns 1"
      ],
      "execution_count": null,
      "outputs": [
        {
          "output_type": "stream",
          "text": [
            "2\n",
            "1\n"
          ],
          "name": "stdout"
        }
      ]
    },
    {
      "cell_type": "markdown",
      "metadata": {
        "id": "_fjhhOFCnDMj"
      },
      "source": [
        "math.pi"
      ]
    },
    {
      "cell_type": "code",
      "metadata": {
        "id": "GzzZd8CSnEpn",
        "colab": {
          "base_uri": "https://localhost:8080/",
          "height": 34
        },
        "outputId": "c5748d2f-2fd7-4b0a-919e-6cd74f22d583"
      },
      "source": [
        "import math\n",
        "\n",
        "x = math.pi\n",
        "\n",
        "print(x)"
      ],
      "execution_count": null,
      "outputs": [
        {
          "output_type": "stream",
          "text": [
            "3.141592653589793\n"
          ],
          "name": "stdout"
        }
      ]
    },
    {
      "cell_type": "markdown",
      "metadata": {
        "id": "ABnztZ6_Cnwv"
      },
      "source": [
        "# **Data Structures in Python**\n",
        "\n",
        "There are four collection data types in the Python programming language:\n",
        "\n",
        "- **List** is a collection which is \n",
        "    * ordered\n",
        "    * changeable\n",
        "    * Allows duplicate members.\n",
        "- **Tuple** is a collection which is \n",
        "    * ordered\n",
        "    * unchangeable\n",
        "    * Allows duplicate members.\n",
        "- **Set** is a collection which is \n",
        "    * unordered\n",
        "    * unindexed\n",
        "    * unchangeable\n",
        "    * No duplicate members.\n",
        "- **Dictionary** is a collection which is \n",
        "    * unordered\n",
        "    * changeable\n",
        "    * indexed (key)\n",
        "    * No duplicate members.\n",
        "\n",
        "When choosing a collection type, it is useful to understand the properties of that type. Choosing the right type for a particular data set could mean retention of meaning, and, it could mean an increase in efficiency or security.\n"
      ]
    },
    {
      "cell_type": "markdown",
      "metadata": {
        "id": "WhQ6RpRBDVi6"
      },
      "source": [
        "## **List**\n",
        "\n",
        "A list is a collection which is ordered and changeable. In Python lists are written with square brackets.\n",
        "\n",
        "List adalah tipe data yang paling serbaguna yang tersedia dalam bahasa Python, yang dapat ditulis sebagai daftar nilai yang dipisahkan koma (item) antara tanda kurung siku. Hal penting tentang daftar adalah item dalam list tidak boleh sama jenisnya.\n",
        "\n",
        "Membuat list sangat sederhana, tinggal memasukkan berbagai nilai yang dipisahkan koma di antara tanda kurung siku. Dibawah ini adalah contoh sederhana pembuatan list dalam bahasa Python. List bisa diisi dengan berbagai jenis data, tidak harus tipe data yang sama.\n",
        "\n",
        "Contoh sederhana pembuatan list pada bahasa pemrograman python\n",
        "\n",
        "`list1 = ['kimia', 'fisika', 1993, 2017]`\n",
        "\n",
        "`list2 = [1, 2, 3, 4, 5 ]`\n",
        "\n",
        "`list3 = [\"a\", \"b\", \"c\", \"d\"]`\n",
        "\n",
        "**<h4>The list() Constructor</h4>**\n",
        "\n",
        "`thislist = list((\"apple\", \"banana\", \"cherry\")) # note the double round-brackets`\n",
        "\n",
        "`print(thislist)`\n",
        "\n"
      ]
    },
    {
      "cell_type": "code",
      "metadata": {
        "id": "SDN-hN1OLp5W",
        "colab": {
          "base_uri": "https://localhost:8080/",
          "height": 122
        },
        "outputId": "540da164-d8cb-443e-fc0d-f9af5f18ad88"
      },
      "source": [
        "foo = [\"Belajar\", \"Python\", \"di\", \"Duniailkom\"]\n",
        "bar = [100, 200, 300, 400]\n",
        "baz = [\"Python\", 200, 6.99, True]\n",
        "  \n",
        "print(foo)\n",
        "print(bar)\n",
        "print(baz)\n",
        "\n",
        "print(type(foo))\n",
        "print(type(bar))\n",
        "print(type(baz))"
      ],
      "execution_count": null,
      "outputs": [
        {
          "output_type": "stream",
          "text": [
            "['Belajar', 'Python', 'di', 'Duniailkom']\n",
            "[100, 200, 300, 400]\n",
            "['Python', 200, 6.99, True]\n",
            "<class 'list'>\n",
            "<class 'list'>\n",
            "<class 'list'>\n"
          ],
          "name": "stdout"
        }
      ]
    },
    {
      "cell_type": "markdown",
      "metadata": {
        "id": "gJFa1ayEG8LE"
      },
      "source": [
        "### **Access Items**\n",
        "\n",
        "You access the list items by referring to the index number (index number start from 0). \n",
        "\n",
        "Negative indexing means beginning from the end, -1 refers to the last item, -2 refers to the second last item etc.\n",
        "\n",
        "***Indexing (Subsetting)* and *Slicing***"
      ]
    },
    {
      "cell_type": "code",
      "metadata": {
        "id": "Ndtz9YORG3i8",
        "colab": {
          "base_uri": "https://localhost:8080/",
          "height": 52
        },
        "outputId": "7a885382-92d9-48e7-b533-69007369ffe2"
      },
      "source": [
        "name = ['Bill', 'Jeff', 'Mark']\n",
        "\n",
        "print(name[0])     # Bill\n",
        "print(name[-2])    # Jeff"
      ],
      "execution_count": null,
      "outputs": [
        {
          "output_type": "stream",
          "text": [
            "Bill\n",
            "Jeff\n"
          ],
          "name": "stdout"
        }
      ]
    },
    {
      "cell_type": "code",
      "metadata": {
        "id": "arDJr8zp4yP5",
        "colab": {
          "base_uri": "https://localhost:8080/",
          "height": 52
        },
        "outputId": "2290b4db-85bc-4cfb-c1d4-2b718ada979d"
      },
      "source": [
        "#Cara mengakses nilai di dalam list Python\n",
        "\n",
        "list1 = ['fisika', 'kimia', 1993, 2017]\n",
        "list2 = [1, 2, 3, 4, 5, 6, 7 ]\n",
        "\n",
        "print (\"list1[0]: \", list1[0])\n",
        "print (\"list2[1:5]: \", list2[1:5])"
      ],
      "execution_count": null,
      "outputs": [
        {
          "output_type": "stream",
          "text": [
            "list1[0]:  fisika\n",
            "list2[1:5]:  [2, 3, 4, 5]\n"
          ],
          "name": "stdout"
        }
      ]
    },
    {
      "cell_type": "markdown",
      "metadata": {
        "id": "ymjKQmbbKb_e"
      },
      "source": [
        "Data Lengkap Teknik Slicing and Indexing"
      ]
    },
    {
      "cell_type": "code",
      "metadata": {
        "id": "0s9a9xceKf8z",
        "colab": {
          "base_uri": "https://localhost:8080/",
          "height": 263
        },
        "outputId": "4c58f1e7-5457-428e-d29b-c157d2b1a08f"
      },
      "source": [
        "data = [1, 4, 9, 16, 25, 36, 49, 64]\n",
        "\n",
        "print('---Indexing/Subsetting---', end='\\n')\n",
        "print('data[0] = ', data[0]) # index ke-0\n",
        "print('data[-0] = ', data[-0]) # index ke(-0)\n",
        "print('data[3] = ', data[3]) # index ke-3\n",
        "print('data[-3] = ', data[-3]) # index ke(-3)\n",
        "print()\n",
        "\n",
        "print('---Slicing---', end='\\n')\n",
        "print('data[:] = ', data[:]) # semua\n",
        "print('data[0:4] = ', data[0:4]) # 0-3\n",
        "print('data[2:4] = ', data[2:4]) # 2-3\n",
        "print('data[2:] = ', data[2:]) # 0-3\n",
        "print('data[2:4] = ', data[2:4]) # 2-3\n",
        "print('data[0:4] = ', data[0:4]) # 0-3\n",
        "print('data[2:4] = ', data[2:4]) # 2-3\n"
      ],
      "execution_count": null,
      "outputs": [
        {
          "output_type": "stream",
          "text": [
            "---Indexing/Subsetting---\n",
            "data[0] =  1\n",
            "data[-0] =  1\n",
            "data[3] =  16\n",
            "data[-3] =  36\n",
            "\n",
            "---Slicing---\n",
            "data[:] =  [1, 4, 9, 16, 25, 36, 49, 64]\n",
            "data[0:4] =  [1, 4, 9, 16]\n",
            "data[2:4] =  [9, 16]\n",
            "data[2:] =  [9, 16, 25, 36, 49, 64]\n",
            "data[2:4] =  [9, 16]\n",
            "data[0:4] =  [1, 4, 9, 16]\n",
            "data[2:4] =  [9, 16]\n"
          ],
          "name": "stdout"
        }
      ]
    },
    {
      "cell_type": "markdown",
      "metadata": {
        "id": "DiN8RkZX1dSF"
      },
      "source": [
        "***Multidimensional List***\n",
        "\n"
      ]
    },
    {
      "cell_type": "code",
      "metadata": {
        "id": "ILtJafzh1s5m",
        "colab": {
          "base_uri": "https://localhost:8080/",
          "height": 105
        },
        "outputId": "f83c8682-f9c0-4e7a-869f-16ef8afd0fd8"
      },
      "source": [
        "data = [[1, 2, 3, 4, 5], [5, 4, 3, 2, 1]]\n",
        "\n",
        "print('data[:] = ', data[:])\n",
        "print('data[0] = ', data[0])\n",
        "print('data[1] = ', data[1])\n",
        "\n",
        "print('data[0][2] = ', data[0][2])\n",
        "print('data[1][1] = ', data[1][1])"
      ],
      "execution_count": null,
      "outputs": [
        {
          "output_type": "stream",
          "text": [
            "data[:] =  [[1, 2, 3, 4, 5], [5, 4, 3, 2, 1]]\n",
            "data[0] =  [1, 2, 3, 4, 5]\n",
            "data[1] =  [5, 4, 3, 2, 1]\n",
            "data[0][2] =  3\n",
            "data[1][1] =  4\n"
          ],
          "name": "stdout"
        }
      ]
    },
    {
      "cell_type": "markdown",
      "metadata": {
        "id": "SKHc2rcP1N_n"
      },
      "source": [
        "***Unpacking Sequence***"
      ]
    },
    {
      "cell_type": "code",
      "metadata": {
        "id": "8Bl5eINR1N_o",
        "colab": {
          "base_uri": "https://localhost:8080/",
          "height": 34
        },
        "outputId": "793ecaa9-d5cc-4a14-8afa-a8d2509196c0"
      },
      "source": [
        "# Unpacking Sequence\n",
        "\n",
        "matkul = ['fisika', 'kimia', 'matematika']\n",
        "\n",
        "f, k, m = matkul\n",
        "print (f, k, m)"
      ],
      "execution_count": null,
      "outputs": [
        {
          "output_type": "stream",
          "text": [
            "fisika kimia matematika\n"
          ],
          "name": "stdout"
        }
      ]
    },
    {
      "cell_type": "markdown",
      "metadata": {
        "id": "5wN5Hw3r6nSk"
      },
      "source": [
        "### **Update Items**\n",
        "\n",
        "Anda dapat memperbarui satu atau beberapa nilai di dalam list dengan memberikan potongan di sisi kiri operator penugasan, dan Anda dapat menambahkan nilai ke dalam list dengan metode append (). Sebagai contoh :"
      ]
    },
    {
      "cell_type": "markdown",
      "metadata": {
        "id": "3uPXn-UjIWF7"
      },
      "source": [
        "Lists are **mutable** object which means you can modify a list object after it has been created. To change the value of a specific item, refer to the index number."
      ]
    },
    {
      "cell_type": "code",
      "metadata": {
        "id": "eVpsgfJ6Hasq",
        "colab": {
          "base_uri": "https://localhost:8080/",
          "height": 34
        },
        "outputId": "ffb8cf6d-bfed-4d65-8508-12df59b9d47b"
      },
      "source": [
        "name = ['Bill', 'Jeff', 'Mark']\n",
        "\n",
        "name[2] = 'Elon'\n",
        "\n",
        "print(name)"
      ],
      "execution_count": null,
      "outputs": [
        {
          "output_type": "stream",
          "text": [
            "['Bill', 'Jeff', 'Elon']\n"
          ],
          "name": "stdout"
        }
      ]
    },
    {
      "cell_type": "markdown",
      "metadata": {
        "id": "hxt69aFrfha9"
      },
      "source": [
        "To determine how many items a list has, use the **len()** function"
      ]
    },
    {
      "cell_type": "code",
      "metadata": {
        "id": "_9xhsfDNfTln",
        "colab": {
          "base_uri": "https://localhost:8080/",
          "height": 34
        },
        "outputId": "9ecea69a-0357-41e3-c257-88ed19a40b9e"
      },
      "source": [
        "name = ['Bill', 'Jeff', 'Mark']\n",
        "print(len(name))"
      ],
      "execution_count": null,
      "outputs": [
        {
          "output_type": "stream",
          "text": [
            "3\n"
          ],
          "name": "stdout"
        }
      ]
    },
    {
      "cell_type": "markdown",
      "metadata": {
        "id": "MrnkosAOxuex"
      },
      "source": [
        "Beda hasilnya jika dengan menggunakan .update()"
      ]
    },
    {
      "cell_type": "code",
      "metadata": {
        "colab": {
          "base_uri": "https://localhost:8080/"
        },
        "id": "PVk7l8KtxuE6",
        "outputId": "175bee0a-008f-43b1-a881-4f5cc66f71c2"
      },
      "source": [
        "colors = [\"red\", \"white\", \"blue\"]\n",
        "colors.insert(2, \"yellow\")\n",
        "colors"
      ],
      "execution_count": null,
      "outputs": [
        {
          "output_type": "execute_result",
          "data": {
            "text/plain": [
              "['red', 'white', 'yellow', 'blue']"
            ]
          },
          "metadata": {
            "tags": []
          },
          "execution_count": 10
        }
      ]
    },
    {
      "cell_type": "markdown",
      "metadata": {
        "id": "2m2TKARSvToW"
      },
      "source": [
        "### **Add Items**\n",
        "\n",
        "To add an item to the end of the list, use the **append()** method. And to add an item at the specified index, use the **insert()** method.\n",
        "\n",
        "* append(elmnt)\n",
        "* prepend()\n",
        "* extend(iterable)\n",
        "* insert (pos, elmnt)"
      ]
    },
    {
      "cell_type": "markdown",
      "metadata": {
        "id": "fzet95FalsTL"
      },
      "source": [
        "**<h4>append</h4>**\n",
        "\n",
        "append(item) menambahkan item dari belakang."
      ]
    },
    {
      "cell_type": "code",
      "metadata": {
        "id": "QQbVZPERvI1h",
        "colab": {
          "base_uri": "https://localhost:8080/",
          "height": 34
        },
        "outputId": "7f3164a7-ee85-40a9-9b59-c88aba68408c"
      },
      "source": [
        "name = ['Bill', 'Jeff', 'Mark']\n",
        "\n",
        "name.append('Elon')\n",
        "print(name)"
      ],
      "execution_count": null,
      "outputs": [
        {
          "output_type": "stream",
          "text": [
            "['Bill', 'Jeff', 'Mark', 'Elon']\n"
          ],
          "name": "stdout"
        }
      ]
    },
    {
      "cell_type": "code",
      "metadata": {
        "id": "igBfm6Utk7Jx",
        "colab": {
          "base_uri": "https://localhost:8080/"
        },
        "outputId": "3b8e5bd3-9cf8-46b6-dc2c-9473dc0366af"
      },
      "source": [
        "a = [\"apple\", \"banana\", \"cherry\"]\n",
        "b = [\"Ford\", \"BMW\", \"Volvo\"]\n",
        "a.append(b)\n",
        "\n",
        "a"
      ],
      "execution_count": null,
      "outputs": [
        {
          "output_type": "execute_result",
          "data": {
            "text/plain": [
              "['apple', 'banana', 'cherry', ['Ford', 'BMW', 'Volvo']]"
            ]
          },
          "metadata": {
            "tags": []
          },
          "execution_count": 179
        }
      ]
    },
    {
      "cell_type": "markdown",
      "metadata": {
        "id": "r_yL2ln_lxn1"
      },
      "source": [
        "**<h4>prepend</h4>**\n",
        "\n",
        "prepend(item) menambahkan item dari depan;"
      ]
    },
    {
      "cell_type": "code",
      "metadata": {
        "id": "q9NuMp3AlzpE"
      },
      "source": [
        "#list mula-mula\n",
        "# buah = [\"jeruk\", \"apel\", \"mangga\", \"duren\"]\n",
        "\n",
        "# buah.prepend(\"Anggur\")\n",
        "# buah\n",
        "# 'list' object has no attribute 'prepend'"
      ],
      "execution_count": null,
      "outputs": []
    },
    {
      "cell_type": "markdown",
      "metadata": {
        "id": "AE9Ayykdl0ND"
      },
      "source": [
        "**<h4>extend</h4>**"
      ]
    },
    {
      "cell_type": "code",
      "metadata": {
        "id": "Wo6qWOLBl4Pe",
        "colab": {
          "base_uri": "https://localhost:8080/",
          "height": 34
        },
        "outputId": "a7c58ef3-c690-4ada-cc6b-618d61c12ae6"
      },
      "source": [
        "fruits = ['apple', 'banana', 'cherry']\n",
        "\n",
        "cars = ['Ford', 'BMW', 'Volvo']\n",
        "\n",
        "fruits.extend(cars)\n",
        "\n",
        "fruits"
      ],
      "execution_count": null,
      "outputs": [
        {
          "output_type": "execute_result",
          "data": {
            "text/plain": [
              "['apple', 'banana', 'cherry', 'Ford', 'BMW', 'Volvo']"
            ]
          },
          "metadata": {
            "tags": []
          },
          "execution_count": 186
        }
      ]
    },
    {
      "cell_type": "code",
      "metadata": {
        "id": "MYVBBzFHmAey",
        "colab": {
          "base_uri": "https://localhost:8080/",
          "height": 34
        },
        "outputId": "9b9fd51e-e7cc-4c19-a1a0-014e9359934e"
      },
      "source": [
        "fruits = ['apple', 'banana', 'cherry']\n",
        "\n",
        "points = (1, 4, 5, 9)\n",
        "\n",
        "fruits.extend(points)\n",
        "\n",
        "fruits"
      ],
      "execution_count": null,
      "outputs": [
        {
          "output_type": "execute_result",
          "data": {
            "text/plain": [
              "['apple', 'banana', 'cherry', 1, 4, 5, 9]"
            ]
          },
          "metadata": {
            "tags": []
          },
          "execution_count": 187
        }
      ]
    },
    {
      "cell_type": "code",
      "metadata": {
        "id": "9v1YuQcX04A9",
        "colab": {
          "base_uri": "https://localhost:8080/",
          "height": 34
        },
        "outputId": "e5d3b269-5f48-452a-9158-806ded50f834"
      },
      "source": [
        "fruits = ['apple', 'banana', 'cherry']\n",
        "\n",
        "fruits.extend(['grape'])\n",
        "\n",
        "fruits.extend('grape') # by iterable string\n",
        "\n",
        "fruits"
      ],
      "execution_count": null,
      "outputs": [
        {
          "output_type": "execute_result",
          "data": {
            "text/plain": [
              "['apple', 'banana', 'cherry', 'grape', 'g', 'r', 'a', 'p', 'e']"
            ]
          },
          "metadata": {
            "tags": []
          },
          "execution_count": 5
        }
      ]
    },
    {
      "cell_type": "markdown",
      "metadata": {
        "id": "Fy7iBScAl4-K"
      },
      "source": [
        "**<h4>insert</h4>**\n",
        "\n",
        "insert(index, item) menambahkan item dari indeks tertentu"
      ]
    },
    {
      "cell_type": "code",
      "metadata": {
        "id": "Vk5FDC__vlia",
        "colab": {
          "base_uri": "https://localhost:8080/"
        },
        "outputId": "6322f15f-77ae-4874-bb0e-d3d1ba22453f"
      },
      "source": [
        "name = ['Bill', 'Jeff', 'Mark']\n",
        "\n",
        "name.insert(1, 'Elon')\n",
        "print(name)"
      ],
      "execution_count": null,
      "outputs": [
        {
          "output_type": "stream",
          "text": [
            "['Bill', 'Elon', 'Jeff', 'Mark']\n"
          ],
          "name": "stdout"
        }
      ]
    },
    {
      "cell_type": "markdown",
      "metadata": {
        "id": "Erqu3qjM1KUc"
      },
      "source": [
        "**List on List**"
      ]
    },
    {
      "cell_type": "code",
      "metadata": {
        "id": "DPJNFAQx1Hgy",
        "colab": {
          "base_uri": "https://localhost:8080/",
          "height": 34
        },
        "outputId": "c76fa5ff-cf2c-44ba-9ae4-824745443be9"
      },
      "source": [
        "fruits = ['apple', 'banana', 'cherry']\n",
        "\n",
        "points = [1, 2, 3, 4]\n",
        "\n",
        "rand = [fruits, points]\n",
        "\n",
        "rand"
      ],
      "execution_count": null,
      "outputs": [
        {
          "output_type": "execute_result",
          "data": {
            "text/plain": [
              "[['apple', 'banana', 'cherry'], [1, 2, 3, 4]]"
            ]
          },
          "metadata": {
            "tags": []
          },
          "execution_count": 1
        }
      ]
    },
    {
      "cell_type": "markdown",
      "metadata": {
        "id": "6dWPg5x5_H8n"
      },
      "source": [
        "### **Remove Item**\n",
        "\n",
        "There are several methods to remove items from a list.\n",
        "- remove(elmnt) : remove specified item\n",
        "- pop(pos) : remove the specified index (default : last item)\n",
        "- del : remove specified index\n",
        "- clear() : empty the list"
      ]
    },
    {
      "cell_type": "markdown",
      "metadata": {
        "id": "-O_EjCy-m0nx"
      },
      "source": [
        "**<h4>remove</h4>**"
      ]
    },
    {
      "cell_type": "code",
      "metadata": {
        "id": "HP2qmO4jv5sg",
        "colab": {
          "base_uri": "https://localhost:8080/",
          "height": 34
        },
        "outputId": "836f6690-86ae-4d33-9e84-2f41624f75d5"
      },
      "source": [
        "name = ['Bill', 'Jeff', 'Mark']\n",
        "\n",
        "name.remove('Bill')\n",
        "print(name)"
      ],
      "execution_count": null,
      "outputs": [
        {
          "output_type": "stream",
          "text": [
            "['Jeff', 'Mark']\n"
          ],
          "name": "stdout"
        }
      ]
    },
    {
      "cell_type": "code",
      "metadata": {
        "id": "eMy31YrT1fJg",
        "colab": {
          "base_uri": "https://localhost:8080/",
          "height": 34
        },
        "outputId": "c76b4c65-70df-435e-bbb9-14363d6ea9e3"
      },
      "source": [
        "name = ['Bill', 'Jeff', 'Mark', 'Bill']\n",
        "\n",
        "name.remove('Bill')\n",
        "print(name)"
      ],
      "execution_count": null,
      "outputs": [
        {
          "output_type": "stream",
          "text": [
            "['Jeff', 'Mark', 'Bill']\n"
          ],
          "name": "stdout"
        }
      ]
    },
    {
      "cell_type": "markdown",
      "metadata": {
        "id": "MC9GcMBQm28z"
      },
      "source": [
        "**<h4>pop</h4>**"
      ]
    },
    {
      "cell_type": "code",
      "metadata": {
        "id": "RF7b2ZJz_j4-",
        "colab": {
          "base_uri": "https://localhost:8080/",
          "height": 34
        },
        "outputId": "9766e83d-71f0-4df9-b691-7445e2721e9b"
      },
      "source": [
        "name = ['Bill', 'Jeff', 'Mark']\n",
        "\n",
        "name.pop(1) # pop(index)\n",
        "print(name)"
      ],
      "execution_count": null,
      "outputs": [
        {
          "output_type": "stream",
          "text": [
            "['Bill', 'Mark']\n"
          ],
          "name": "stdout"
        }
      ]
    },
    {
      "cell_type": "code",
      "metadata": {
        "id": "1TFDyMyc_nzh",
        "colab": {
          "base_uri": "https://localhost:8080/",
          "height": 34
        },
        "outputId": "dbf2c68a-4fd2-42b4-bf74-746bf87c04ca"
      },
      "source": [
        "name = ['Bill', 'Jeff', 'Mark']\n",
        "\n",
        "name.pop()\n",
        "print(name)"
      ],
      "execution_count": null,
      "outputs": [
        {
          "output_type": "stream",
          "text": [
            "['Bill', 'Jeff']\n"
          ],
          "name": "stdout"
        }
      ]
    },
    {
      "cell_type": "markdown",
      "metadata": {
        "id": "OQPtWrhem5fn"
      },
      "source": [
        "**<h4>del</h4>**"
      ]
    },
    {
      "cell_type": "code",
      "metadata": {
        "id": "hFsL4btV_qou",
        "colab": {
          "base_uri": "https://localhost:8080/",
          "height": 34
        },
        "outputId": "61c09cd5-df0a-4ae9-f6c6-7b31fc52f7d4"
      },
      "source": [
        "name = ['Bill', 'Jeff', 'Mark']\n",
        "\n",
        "del name[0]\n",
        "print(name)"
      ],
      "execution_count": null,
      "outputs": [
        {
          "output_type": "stream",
          "text": [
            "['Jeff', 'Mark']\n"
          ],
          "name": "stdout"
        }
      ]
    },
    {
      "cell_type": "markdown",
      "metadata": {
        "id": "EMCuhrzDm7lh"
      },
      "source": [
        "**<h4>clear</h4>**"
      ]
    },
    {
      "cell_type": "code",
      "metadata": {
        "id": "aSdLaPmR_-kp",
        "colab": {
          "base_uri": "https://localhost:8080/",
          "height": 34
        },
        "outputId": "1bcb2f4b-1b6a-4758-a637-7eedf36c2b90"
      },
      "source": [
        "name = ['Bill', 'Jeff', 'Mark']\n",
        "\n",
        "name.clear()\n",
        "print(name)"
      ],
      "execution_count": null,
      "outputs": [
        {
          "output_type": "stream",
          "text": [
            "[]\n"
          ],
          "name": "stdout"
        }
      ]
    },
    {
      "cell_type": "markdown",
      "metadata": {
        "id": "7j5_vI9rSmVK"
      },
      "source": [
        "### **Loop and If in**"
      ]
    },
    {
      "cell_type": "markdown",
      "metadata": {
        "id": "Jga3WS6mBEs-"
      },
      "source": [
        "***For Iterable***"
      ]
    },
    {
      "cell_type": "code",
      "metadata": {
        "id": "LU2wD_HoSpo8",
        "colab": {
          "base_uri": "https://localhost:8080/",
          "height": 70
        },
        "outputId": "415d361a-0476-4f57-c221-aaeed07edee0"
      },
      "source": [
        "thislist = [\"apple\", \"banana\", \"cherry\"]\n",
        "for x in thislist:\n",
        "  print(x)"
      ],
      "execution_count": null,
      "outputs": [
        {
          "output_type": "stream",
          "text": [
            "apple\n",
            "banana\n",
            "cherry\n"
          ],
          "name": "stdout"
        }
      ]
    },
    {
      "cell_type": "code",
      "metadata": {
        "id": "MMzOyhBFBQpU",
        "colab": {
          "base_uri": "https://localhost:8080/",
          "height": 70
        },
        "outputId": "8f132837-9029-4044-95f5-1f7b9445bc0c"
      },
      "source": [
        "buah = ['watermelon', 'banana', 'apple']\n",
        "sayur = ['carrot', 'tomato', 'brocoli']\n",
        "gorengan = ['pisang goreng', 'tahu isi', 'cireng']\n",
        "\n",
        "daftar = [buah, sayur, gorengan]\n",
        "\n",
        "for x in daftar :\n",
        "  print(x)"
      ],
      "execution_count": null,
      "outputs": [
        {
          "output_type": "stream",
          "text": [
            "['watermelon', 'banana', 'apple']\n",
            "['carrot', 'tomato', 'brocoli']\n",
            "['pisang goreng', 'tahu isi', 'cireng']\n"
          ],
          "name": "stdout"
        }
      ]
    },
    {
      "cell_type": "code",
      "metadata": {
        "id": "CGVbtqlzBwPz",
        "colab": {
          "base_uri": "https://localhost:8080/",
          "height": 175
        },
        "outputId": "78d4dd69-e811-43bf-90d3-25a3712af9bd"
      },
      "source": [
        "buah = ['watermelon', 'banana', 'apple']\n",
        "sayur = ['carrot', 'tomato', 'brocoli']\n",
        "gorengan = ['pisang goreng', 'tahu isi', 'cireng']\n",
        "\n",
        "daftar = [buah, sayur, gorengan]\n",
        "\n",
        "for x in daftar :\n",
        "  for y in x :\n",
        "    print(y)"
      ],
      "execution_count": null,
      "outputs": [
        {
          "output_type": "stream",
          "text": [
            "watermelon\n",
            "banana\n",
            "apple\n",
            "carrot\n",
            "tomato\n",
            "brocoli\n",
            "pisang goreng\n",
            "tahu isi\n",
            "cireng\n"
          ],
          "name": "stdout"
        }
      ]
    },
    {
      "cell_type": "code",
      "metadata": {
        "colab": {
          "base_uri": "https://localhost:8080/",
          "height": 106
        },
        "id": "-nRcmf5XcWlp",
        "outputId": "5ca771ec-849b-4e21-bd31-a1098b1b5ee9"
      },
      "source": [
        "guest_list([('Ken', 30, \"Chef\"), (\"Pat\", 35, 'Lawyer'), ('Amanda', 25, \"Engineer\")])\n",
        "\n",
        "def guest_list(guests):\n",
        "\tfor name, age, profession in guests:\n",
        "\t\tmessage = \"{} is {} years old and works as {}\"\n",
        "\t\tprint(message.format(name, age, profession))\n",
        "  \n",
        "\n",
        "#Click Run to submit code\n",
        "\"\"\"\n",
        "Output should match:\n",
        "Ken is 30 years old and works as Chef\n",
        "Pat is 35 years old and works as Lawyer\n",
        "Amanda is 25 years old and works as Engineer\n",
        "\"\"\""
      ],
      "execution_count": null,
      "outputs": [
        {
          "output_type": "stream",
          "text": [
            "Ken is 30 years old and works as Chef\n",
            "Pat is 35 years old and works as Lawyer\n",
            "Amanda is 25 years old and works as Engineer\n"
          ],
          "name": "stdout"
        },
        {
          "output_type": "execute_result",
          "data": {
            "application/vnd.google.colaboratory.intrinsic+json": {
              "type": "string"
            },
            "text/plain": [
              "'\\nOutput should match:\\nKen is 30 years old and works as Chef\\nPat is 35 years old and works as Lawyer\\nAmanda is 25 years old and works as Engineer\\n'"
            ]
          },
          "metadata": {
            "tags": []
          },
          "execution_count": 34
        }
      ]
    },
    {
      "cell_type": "markdown",
      "metadata": {
        "id": "hzeX4Oi7BHnp"
      },
      "source": [
        "***Enumerate Iterable***"
      ]
    },
    {
      "cell_type": "code",
      "metadata": {
        "id": "ovOk96UEPEDz",
        "colab": {
          "base_uri": "https://localhost:8080/",
          "height": 298
        },
        "outputId": "fcd95474-6ef7-47e7-ee30-ce41091c49b5"
      },
      "source": [
        "grocery = ['bread', 'milk', 'butter']\n",
        "enumerateGrocery = enumerate(grocery)\n",
        "\n",
        "print(type(enumerateGrocery))\n",
        "\n",
        "# converting to list\n",
        "print(list(enumerateGrocery))\n",
        "\n",
        "# changing the default counter\n",
        "enumerateGrocery = enumerate(grocery, 10)\n",
        "print(list(enumerateGrocery))\n"
      ],
      "execution_count": null,
      "outputs": [
        {
          "output_type": "stream",
          "text": [
            "<class 'enumerate'>\n",
            "[(0, 'bread'), (1, 'milk'), (2, 'butter')]\n",
            "[(10, 'bread'), (11, 'milk'), (12, 'butter')]\n",
            "(0, 'bread')\n",
            "(1, 'milk')\n",
            "(2, 'butter')\n",
            "\n",
            "\n",
            "0 bread\n",
            "1 milk\n",
            "2 butter\n",
            "\n",
            "\n",
            "100 bread\n",
            "101 milk\n",
            "102 butter\n"
          ],
          "name": "stdout"
        }
      ]
    },
    {
      "cell_type": "code",
      "metadata": {
        "id": "V6UY2WiKPgme",
        "colab": {
          "base_uri": "https://localhost:8080/",
          "height": 246
        },
        "outputId": "ec6848ec-b83e-48fb-fa2c-728fad81ef12"
      },
      "source": [
        "grocery = ['bread', 'milk', 'butter']\n",
        "\n",
        "for item in enumerate(grocery):\n",
        "  print(item)\n",
        "\n",
        "print('\\n')\n",
        "for count, item in enumerate(grocery):\n",
        "  print(count, item)\n",
        "\n",
        "print('\\n')\n",
        "# changing default start value\n",
        "for count, item in enumerate(grocery, 100):\n",
        "  print(count, item)"
      ],
      "execution_count": null,
      "outputs": [
        {
          "output_type": "stream",
          "text": [
            "(0, 'bread')\n",
            "(1, 'milk')\n",
            "(2, 'butter')\n",
            "\n",
            "\n",
            "0 bread\n",
            "1 milk\n",
            "2 butter\n",
            "\n",
            "\n",
            "100 bread\n",
            "101 milk\n",
            "102 butter\n"
          ],
          "name": "stdout"
        }
      ]
    },
    {
      "cell_type": "markdown",
      "metadata": {
        "id": "t5ejN-q-BK83"
      },
      "source": [
        "***If In***"
      ]
    },
    {
      "cell_type": "code",
      "metadata": {
        "id": "CN1YfOETSvI9",
        "colab": {
          "base_uri": "https://localhost:8080/",
          "height": 34
        },
        "outputId": "9a205d47-eb8d-4557-bedf-5ad935a7e7df"
      },
      "source": [
        "thislist = [\"apple\", \"banana\", \"cherry\"]\n",
        "if \"apple\" in thislist:\n",
        "  print(\"Yes, 'apple' is in the fruits list\")"
      ],
      "execution_count": null,
      "outputs": [
        {
          "output_type": "stream",
          "text": [
            "Yes, 'apple' is in the fruits list\n"
          ],
          "name": "stdout"
        }
      ]
    },
    {
      "cell_type": "markdown",
      "metadata": {
        "id": "7B6TW7MS-YaK"
      },
      "source": [
        "### **Standard Operations**\n",
        "\n",
        "List Python merespons operator + dan * seperti string; Itu artinya penggabungan dan pengulangan di sini juga berlaku, kecuali hasilnya adalah list baru, bukan sebuah String.\n",
        "\n",
        "Sebenarnya, list merespons semua operasi urutan umum yang kami gunakan pada String di bab sebelumnya. Dibawah ini adalah tabel daftar operasi dasar pada list python.\n",
        "\n",
        "........................................................................\n",
        "\n",
        "***len(), +, *, in, not in (membership), for iterator***\n",
        "\n",
        "........................................................................\n",
        "\n",
        "`len([1, 2, 3, 4])`  -> \t4\t: Length\n",
        "\n",
        "`[1, 2, 3] + [4, 5, 6]`  ->\t[1, 2, 3, 4, 5, 6] : Concatenation\n",
        "\n",
        "`['Halo!'] * 4` ->\t['Halo!', 'Halo!', 'Halo!', 'Halo!'] : Repetition\n",
        "\n",
        "`2 in [1, 2, 3]` -> True : Membership\n",
        "\n",
        "`for x in [1,2,3] : print (x,end = ' ')` -> 1 2 3 : Iteration"
      ]
    },
    {
      "cell_type": "code",
      "metadata": {
        "id": "Yr_hKDmu_gk0",
        "colab": {
          "base_uri": "https://localhost:8080/",
          "height": 52
        },
        "outputId": "a155c062-2930-4095-88f6-bebea5b2da30"
      },
      "source": [
        "number = [1, 3, 5, 7, 9, 2, 4, 6, 8, 10]\n",
        "for x in number :\n",
        "  print(x, end=' ')\n",
        "  \n",
        "print()\n",
        "print('Panjang list = ', len(number))"
      ],
      "execution_count": null,
      "outputs": [
        {
          "output_type": "stream",
          "text": [
            "1 3 5 7 9 2 4 6 8 10 \n",
            "Panjang list =  10\n"
          ],
          "name": "stdout"
        }
      ]
    },
    {
      "cell_type": "code",
      "metadata": {
        "id": "UJwjHFZqALDb",
        "colab": {
          "base_uri": "https://localhost:8080/",
          "height": 34
        },
        "outputId": "5d4ae1ad-fa1f-4159-a073-9392f9fd2d9c"
      },
      "source": [
        "list1 = [1, 2, 3]\n",
        "list2 = [4, 5, 6]\n",
        "\n",
        "list_combine = list1 + list2\n",
        "list_combine"
      ],
      "execution_count": null,
      "outputs": [
        {
          "output_type": "execute_result",
          "data": {
            "text/plain": [
              "[1, 2, 3, 4, 5, 6]"
            ]
          },
          "metadata": {
            "tags": []
          },
          "execution_count": 112
        }
      ]
    },
    {
      "cell_type": "code",
      "metadata": {
        "id": "2ra_ZLI5AkJA",
        "colab": {
          "base_uri": "https://localhost:8080/",
          "height": 34
        },
        "outputId": "ec0af350-4d82-4efb-ffdc-c7a685192c3d"
      },
      "source": [
        "# or\n",
        "number = [1, 2, 3] + [4, 5, 6]\n",
        "number"
      ],
      "execution_count": null,
      "outputs": [
        {
          "output_type": "execute_result",
          "data": {
            "text/plain": [
              "[1, 2, 3, 4, 5, 6]"
            ]
          },
          "metadata": {
            "tags": []
          },
          "execution_count": 113
        }
      ]
    },
    {
      "cell_type": "code",
      "metadata": {
        "id": "WwtZfjEbAqOa",
        "colab": {
          "base_uri": "https://localhost:8080/",
          "height": 34
        },
        "outputId": "90d97f4a-dc07-4fcd-f43a-9572c9e806db"
      },
      "source": [
        "halo = ['Halo']*5\n",
        "halo"
      ],
      "execution_count": null,
      "outputs": [
        {
          "output_type": "execute_result",
          "data": {
            "text/plain": [
              "['Halo', 'Halo', 'Halo', 'Halo', 'Halo']"
            ]
          },
          "metadata": {
            "tags": []
          },
          "execution_count": 114
        }
      ]
    },
    {
      "cell_type": "code",
      "metadata": {
        "id": "YCFBxg-SAv6V",
        "colab": {
          "base_uri": "https://localhost:8080/",
          "height": 52
        },
        "outputId": "5efd17c0-1ff7-4d0a-875d-dad76f070323"
      },
      "source": [
        "number = [1, 3, 5, 7, 9, 2, 4, 6, 8, 10]\n",
        "print('8 in list? = ', 8 in number)\n",
        "print('20 not in list? = ', 20 not in number)"
      ],
      "execution_count": null,
      "outputs": [
        {
          "output_type": "stream",
          "text": [
            "8 in list? =  True\n",
            "20 not in list? =  True\n"
          ],
          "name": "stdout"
        }
      ]
    },
    {
      "cell_type": "code",
      "metadata": {
        "id": "nK8dqvf3BAII",
        "colab": {
          "base_uri": "https://localhost:8080/",
          "height": 34
        },
        "outputId": "6025fce2-e8e2-4170-f562-a12f2f995e4e"
      },
      "source": [
        "number = [1, 3, 5, 7, 9, 2, 4, 6, 8, 10]\n",
        "for x in number :\n",
        "  print(x, end=' ')"
      ],
      "execution_count": null,
      "outputs": [
        {
          "output_type": "stream",
          "text": [
            "1 3 5 7 9 2 4 6 8 10 "
          ],
          "name": "stdout"
        }
      ]
    },
    {
      "cell_type": "markdown",
      "metadata": {
        "id": "oBxGPKZ-TQ8v"
      },
      "source": [
        "### **Copy a List**\n",
        "\n",
        "You cannot copy a list simply by typing `list2 = list1`, because: `list2` will only be a ***reference*** to `list1`, and changes made in `list1` will automatically also be made in `list2`.\n",
        "\n",
        "There are ways to make a copy, one way is to use the built-in List method `copy()`."
      ]
    },
    {
      "cell_type": "code",
      "metadata": {
        "id": "VPNYtVcEz7N9"
      },
      "source": [
        "thislist = [\"apple\", \"banana\", \"cherry\"]\n",
        "mylist = thislist\n",
        "print(thislist)\n",
        "print(mylist)\n",
        "\n",
        "mylist[0]='watermelon'\n",
        "print(thislist) # change also\n",
        "print(mylist)"
      ],
      "execution_count": null,
      "outputs": []
    },
    {
      "cell_type": "markdown",
      "metadata": {
        "id": "jkt4aidWTgQN"
      },
      "source": [
        "Make a copy of a list with the `copy()`method:"
      ]
    },
    {
      "cell_type": "code",
      "metadata": {
        "id": "SivjGQffTkji",
        "colab": {
          "base_uri": "https://localhost:8080/",
          "height": 34
        },
        "outputId": "03ed2514-cfb0-4033-82a7-f13878e7a5ae"
      },
      "source": [
        "thislist = [\"apple\", \"banana\", \"cherry\"]\n",
        "mylist = thislist.copy()\n",
        "print(mylist)"
      ],
      "execution_count": null,
      "outputs": [
        {
          "output_type": "stream",
          "text": [
            "['apple', 'banana', 'cherry']\n"
          ],
          "name": "stdout"
        }
      ]
    },
    {
      "cell_type": "markdown",
      "metadata": {
        "id": "aYpI2UNkTl2N"
      },
      "source": [
        "Another way to make a copy is to use the built-in method `list()`."
      ]
    },
    {
      "cell_type": "code",
      "metadata": {
        "id": "xL76OAOkTnZ0",
        "colab": {
          "base_uri": "https://localhost:8080/",
          "height": 34
        },
        "outputId": "a78623a1-7482-4dd8-a688-3323a1d750bc"
      },
      "source": [
        "thislist = [\"apple\", \"banana\", \"cherry\"]\n",
        "mylist = list(thislist)\n",
        "print(mylist)"
      ],
      "execution_count": null,
      "outputs": [
        {
          "output_type": "stream",
          "text": [
            "['apple', 'banana', 'cherry']\n"
          ],
          "name": "stdout"
        }
      ]
    },
    {
      "cell_type": "markdown",
      "metadata": {
        "id": "H_vnIZvYzpUM"
      },
      "source": [
        "or copy list with `data[:]`"
      ]
    },
    {
      "cell_type": "code",
      "metadata": {
        "id": "xGRgw0Ehznio"
      },
      "source": [
        "thislist = [\"apple\", \"banana\", \"cherry\"]\n",
        "mylist = thislist[:]\n",
        "print(mylist)"
      ],
      "execution_count": null,
      "outputs": []
    },
    {
      "cell_type": "markdown",
      "metadata": {
        "id": "9bGkvAUUT0xi"
      },
      "source": [
        "### **Concatenate List**\n",
        "\n",
        "One of the easiest ways are by using the `+` operator."
      ]
    },
    {
      "cell_type": "code",
      "metadata": {
        "id": "eoATDxVvT7i4",
        "colab": {
          "base_uri": "https://localhost:8080/",
          "height": 34
        },
        "outputId": "0380b8c4-f923-4afc-e024-a2d6590ab6d7"
      },
      "source": [
        "list1 = [\"a\", \"b\" , \"c\"]\n",
        "list2 = [1, 2, 3]\n",
        "\n",
        "list3 = list1 + list2\n",
        "print(list3)"
      ],
      "execution_count": null,
      "outputs": [
        {
          "output_type": "stream",
          "text": [
            "['a', 'b', 'c', 1, 2, 3]\n"
          ],
          "name": "stdout"
        }
      ]
    },
    {
      "cell_type": "markdown",
      "metadata": {
        "id": "HoeceHS10zbz"
      },
      "source": [
        "if you use like this, it can't concated but added on items of list 2D "
      ]
    },
    {
      "cell_type": "code",
      "metadata": {
        "id": "J-09UVJR0ZDF",
        "colab": {
          "base_uri": "https://localhost:8080/"
        },
        "outputId": "b88070e7-91c6-49dc-cb02-ba82525f4e60"
      },
      "source": [
        "list1 = [\"a\", \"b\" , \"c\"]\n",
        "list2 = [1, 2, 3]\n",
        "\n",
        "list3 = [list1, list2]\n",
        "print(list3)"
      ],
      "execution_count": null,
      "outputs": [
        {
          "output_type": "stream",
          "text": [
            "[['a', 'b', 'c'], [1, 2, 3]]\n"
          ],
          "name": "stdout"
        }
      ]
    },
    {
      "cell_type": "markdown",
      "metadata": {
        "id": "vct6rUBDT-X5"
      },
      "source": [
        "Another way to join two lists are by `appending` all the items from `list2` into `list1`, one by one:"
      ]
    },
    {
      "cell_type": "code",
      "metadata": {
        "id": "rHJGvkS0UB-W",
        "colab": {
          "base_uri": "https://localhost:8080/",
          "height": 34
        },
        "outputId": "57c1b724-05b0-4444-88c9-31df4e6c5188"
      },
      "source": [
        "list1 = [\"a\", \"b\" , \"c\"]\n",
        "list2 = [1, 2, 3]\n",
        "\n",
        "for x in list2:\n",
        "  list1.append(x)\n",
        "\n",
        "print(list1)"
      ],
      "execution_count": null,
      "outputs": [
        {
          "output_type": "stream",
          "text": [
            "['a', 'b', 'c', 1, 2, 3]\n"
          ],
          "name": "stdout"
        }
      ]
    },
    {
      "cell_type": "markdown",
      "metadata": {
        "id": "utLpAhMlUFi7"
      },
      "source": [
        "Or you can use the `extend()` method, which purpose is to add elements from one list to another list:"
      ]
    },
    {
      "cell_type": "code",
      "metadata": {
        "id": "lZSG-h4DUIIJ",
        "colab": {
          "base_uri": "https://localhost:8080/",
          "height": 34
        },
        "outputId": "2d3d6fbe-c5c6-47a2-a0f3-59f033190358"
      },
      "source": [
        "list1 = [\"a\", \"b\" , \"c\"]\n",
        "list2 = [1, 2, 3]\n",
        "\n",
        "list1.extend(list2)\n",
        "print(list1)"
      ],
      "execution_count": null,
      "outputs": [
        {
          "output_type": "stream",
          "text": [
            "['a', 'b', 'c', 1, 2, 3]\n"
          ],
          "name": "stdout"
        }
      ]
    },
    {
      "cell_type": "markdown",
      "metadata": {
        "id": "6RUYWfV90ouC"
      },
      "source": [
        "### **List Comprehension**\n",
        "\n",
        "membuat list dengan inline loop dan if\n",
        "\n",
        "`new_list = [expression for_loop_one_or_more conditions]`\n",
        "\n",
        "Ada kalanya Anda perlu untuk membuat sebuah list baru dari dengan sebuah operasi dari list sebelumnya. Misalnya membuat nilai kuadrat dari semua item dalam list:\n",
        "\n"
      ]
    },
    {
      "cell_type": "code",
      "metadata": {
        "id": "63o7seof0uz9",
        "colab": {
          "base_uri": "https://localhost:8080/",
          "height": 34
        },
        "outputId": "ba7f48ca-b9aa-4628-c265-82c88418475b"
      },
      "source": [
        "[_ for _ in range(1, 9, 2)]  # list comprehension"
      ],
      "execution_count": null,
      "outputs": [
        {
          "output_type": "execute_result",
          "data": {
            "text/plain": [
              "[1, 3, 5, 7]"
            ]
          },
          "metadata": {
            "tags": []
          },
          "execution_count": 42
        }
      ]
    },
    {
      "cell_type": "code",
      "metadata": {
        "id": "WbqyXHd2nV98",
        "colab": {
          "base_uri": "https://localhost:8080/",
          "height": 52
        },
        "outputId": "61769b09-f4d2-4db2-b4f2-5e1865a00a9c"
      },
      "source": [
        "#Cara 1\n",
        "numbers = [1, 2, 3, 4]\n",
        "squares = []\n",
        "for n in numbers:\n",
        "  squares.append(n**2)\n",
        "print(squares)\n",
        "\n",
        "#Cara 2 List Comprehension\n",
        "numbers = [1, 2, 3, 4]\n",
        "squares = [n**2 for n in numbers]\n",
        "print(squares)"
      ],
      "execution_count": null,
      "outputs": [
        {
          "output_type": "stream",
          "text": [
            "[1, 4, 9, 16]\n",
            "[1, 4, 9, 16]\n"
          ],
          "name": "stdout"
        }
      ]
    },
    {
      "cell_type": "code",
      "metadata": {
        "id": "8Lfz52o0npOB",
        "colab": {
          "base_uri": "https://localhost:8080/",
          "height": 52
        },
        "outputId": "9e144269-bc02-4224-94de-0295cb04c042"
      },
      "source": [
        "#Contoh3 menemukan bilangan yang ada di kedua list\n",
        "list_a = [1, 2, 3, 4]\n",
        "list_b = [2, 3, 4, 5]\n",
        "common_num = []\n",
        "for a in list_a:\n",
        "  for b in list_b:\n",
        "    if a == b:\n",
        "      common_num.append(a)\n",
        "     \n",
        "print(common_num)  # Output [2, 3, 4]\n",
        "\n",
        "#Contoh4 Implementasi dengan list comprehension\n",
        "list_a = [1, 2, 3, 4]\n",
        "list_b = [2, 3, 4, 5]\n",
        "common_num = [a for a in list_a for b in list_b if a == b]\n",
        "print(common_num) # Output: [2, 3, 4]"
      ],
      "execution_count": null,
      "outputs": [
        {
          "output_type": "stream",
          "text": [
            "[2, 3, 4]\n",
            "[2, 3, 4]\n"
          ],
          "name": "stdout"
        }
      ]
    },
    {
      "cell_type": "code",
      "metadata": {
        "id": "bMYxO9Evn02l",
        "colab": {
          "base_uri": "https://localhost:8080/",
          "height": 34
        },
        "outputId": "ecc89574-c451-49a3-cf5e-d92b5d27cbe0"
      },
      "source": [
        "# Contoh 5 kecilkan semua huruf\n",
        "data = [\"Hello\", \"World\", \"In\", \"Python\"]\n",
        "small_data = [x.lower() for x in data]\n",
        "print(small_data) # Output: ['hello', 'world', 'in', 'python']"
      ],
      "execution_count": null,
      "outputs": [
        {
          "output_type": "stream",
          "text": [
            "['hello', 'world', 'in', 'python']\n"
          ],
          "name": "stdout"
        }
      ]
    },
    {
      "cell_type": "code",
      "metadata": {
        "id": "eVFnKoaVoCrK",
        "colab": {
          "base_uri": "https://localhost:8080/",
          "height": 34
        },
        "outputId": "4429e2c7-3923-4d59-a5dd-1e685eada2a3"
      },
      "source": [
        "list_a = range(1, 10, 2)\n",
        "x = [[a**2, a**3] for a in list_a]\n",
        "print(x)"
      ],
      "execution_count": null,
      "outputs": [
        {
          "output_type": "stream",
          "text": [
            "[[1, 1], [9, 27], [25, 125], [49, 343], [81, 729]]\n"
          ],
          "name": "stdout"
        }
      ]
    },
    {
      "cell_type": "code",
      "metadata": {
        "id": "dDpYAfAPuYt7",
        "colab": {
          "base_uri": "https://localhost:8080/",
          "height": 34
        },
        "outputId": "cfc463e0-8793-43b1-aa8a-0b39a7268c8a"
      },
      "source": [
        "S = [0, 1, 4, 9, 16, 25, 36, 49, 64, 81]\n",
        "\n",
        "T = [item for item in S if (item%2 == 0)]\n",
        "\n",
        "print(T)"
      ],
      "execution_count": null,
      "outputs": [
        {
          "output_type": "stream",
          "text": [
            "[0, 4, 16, 36, 64]\n"
          ],
          "name": "stdout"
        }
      ]
    },
    {
      "cell_type": "markdown",
      "metadata": {
        "id": "CeHs4i_pCUkt"
      },
      "source": [
        "### **Build-In Functions List**\n",
        "\n",
        "**<h4>Python Function<h4>**\n",
        "\n",
        "* `len(list)`\n",
        "    \n",
        "    Memberikan total panjang * list.\n",
        "\n",
        "* `max(list)`\n",
        "\n",
        "    Mengembalikan item dari list dengan nilai maks.\n",
        "\n",
        "* `min(list)`\n",
        "\n",
        "    Mengembalikan item dari list dengan nilai min.\n",
        "\n",
        "* `list(seq)`\n",
        "\n",
        "    Mengubah tuple menjadi list.\n",
        "\n",
        "\n",
        "**<h4>Python Methods<h4>**\n",
        "\n",
        "* `list.append(obj)`\n",
        "\n",
        "    Menambahkan objek obj ke list\n",
        "\n",
        "* `list.count(obj)`\n",
        "\n",
        "    Jumlah pengembalian berapa kali obj terjadi dalam list\n",
        "\n",
        "* `list.clear()`\n",
        "\n",
        "    Menghapus semua element di list\n",
        "\n",
        "* `list.copy()`\n",
        "\n",
        "* `list.extend(seq)`\n",
        "\n",
        "    Tambahkan isi seq ke list\n",
        "\n",
        "* `list.index(obj)`\n",
        "\n",
        "    Mengembalikan indeks terendah dalam list yang muncul obj\n",
        "\n",
        "* `list.insert(index, obj)`\n",
        "\n",
        "    Sisipkan objek obj ke dalam list di indeks offset\n",
        "\n",
        "* `list.pop(obj = list[-1])`\n",
        "\n",
        "    Menghapus dan mengembalikan objek atau obj terakhir dari list\n",
        "\n",
        "* `list.remove(obj)`\n",
        "\n",
        "    Removes object obj from list\n",
        "\n",
        "* `list.reverse()`\n",
        "\n",
        "    Membalik list objek di tempat\n",
        "\n",
        "* `list.sort([func])` -> `list.sort(reverse=True|False, key=myFunc)`\n",
        "\n",
        "    reverse ->\tOptional. reverse=True will sort the list descending. Default is reverse=False\n",
        "    \n",
        "    key ->\tOptional. A function to specify the sorting criteria(s)\n",
        "\n",
        "    Urutkan objek list, gunakan compare func jika diberikan\n",
        "\n",
        "    * Metode sort tidak dapat mengurutkan list yang memiliki angka dan string sekaligus di dalamnya. \n",
        "\n",
        "    `z = [1, 3, 2, 4, 'Alice', 'Bob']`\n",
        "    \n",
        "    `z.sort()`\n",
        "\n",
        "    TypeError: unorderable types: str() < int()\n",
        "\n",
        "    * Metode sort menggunakan urutan ASCII, sehingga nilai huruf kapital (uppercase) akan lebih dahulu dibandingkan huruf kecil (lowercase). Contohnya:\n",
        "\n",
        "    `m = ['Alice', 'ants', 'Bob', 'badgers', 'Carol', 'cats']`\n",
        "    \n",
        "    `m.sort()`\n",
        "    \n",
        "    Output:\n",
        "\n",
        "    ['Alice', 'Bob', 'Carol', 'ants', 'badgers', 'cats']\n",
        "\n",
        "* `sorted(iterable, key=key, reverse=reverse)`\n",
        "\n",
        "    iterable -->\tRequired. The sequence to sort, list, dictionary, tuple etc.\n",
        "\n",
        "    key --> \tOptional. A Function to execute to decide the order. Default is None\n",
        "\n",
        "    reverse -->\tOptional. A Boolean. False will sort ascending, True will sort descending. Default is False\n",
        "\n",
        "    `sorted(numbers)`\n",
        "\n",
        "    [1, 3, 6, 9]\n",
        "    \n",
        "    `numbers`\n",
        "    \n",
        "    [6, 9, 3, 1]\n",
        "\n",
        "    The output from this code is a new, sorted list. When the original variable is printed, the initial values are unchanged.\n",
        "\n",
        "    This example shows four important characteristics of sorted():\n",
        "\n",
        "  * The function sorted() did not have to be defined. It’s a built-in function that is available in a standard installation of Python.\n",
        "  * sorted(), with no additional arguments or parameters, is ordering the values in numbers in an ascending order, meaning smallest to largest.\n",
        "  * The original numbers variable is unchanged because sorted() provides sorted output and does not change the original value in place.\n",
        "  * When sorted() is called, it provides an ordered list as a return value."
      ]
    },
    {
      "cell_type": "code",
      "metadata": {
        "id": "Va9kG6J-lVvH",
        "colab": {
          "base_uri": "https://localhost:8080/",
          "height": 34
        },
        "outputId": "0c722879-6ad2-428d-9c48-3709e9f9eb13"
      },
      "source": [
        "fruits = ['apple', 'banana', 'cherry', 'grape', 'cherry']\n",
        "\n",
        "x = fruits.count(\"cherry\")\n",
        "x"
      ],
      "execution_count": null,
      "outputs": [
        {
          "output_type": "execute_result",
          "data": {
            "text/plain": [
              "2"
            ]
          },
          "metadata": {
            "tags": []
          },
          "execution_count": 6
        }
      ]
    },
    {
      "cell_type": "code",
      "metadata": {
        "id": "oXDPWewUlkzb",
        "colab": {
          "base_uri": "https://localhost:8080/",
          "height": 34
        },
        "outputId": "2ab28a20-fb3c-4fd1-909b-559c5fa85950"
      },
      "source": [
        "points = [1, 4, 2, 9, 7, 8, 9, 3, 1]\n",
        "\n",
        "x = points.count(9)\n",
        "x"
      ],
      "execution_count": null,
      "outputs": [
        {
          "output_type": "execute_result",
          "data": {
            "text/plain": [
              "2"
            ]
          },
          "metadata": {
            "tags": []
          },
          "execution_count": 184
        }
      ]
    },
    {
      "cell_type": "code",
      "metadata": {
        "id": "gdQnMbpcmNlQ",
        "colab": {
          "base_uri": "https://localhost:8080/",
          "height": 34
        },
        "outputId": "54f07358-2ea9-499d-9967-997e00b9ff69"
      },
      "source": [
        "fruits = ['apple', 'banana', 'cherry']\n",
        "\n",
        "x = fruits.index(\"cherry\")\n",
        "x"
      ],
      "execution_count": null,
      "outputs": [
        {
          "output_type": "execute_result",
          "data": {
            "text/plain": [
              "2"
            ]
          },
          "metadata": {
            "tags": []
          },
          "execution_count": 188
        }
      ]
    },
    {
      "cell_type": "code",
      "metadata": {
        "id": "j5H914qUmRUY",
        "colab": {
          "base_uri": "https://localhost:8080/",
          "height": 34
        },
        "outputId": "dd30e9bb-539a-4f78-f786-5415af244225"
      },
      "source": [
        "fruits = [4, 55, 64, 32, 16, 32]\n",
        "\n",
        "x = fruits.index(32)\n",
        "x # on first caught"
      ],
      "execution_count": null,
      "outputs": [
        {
          "output_type": "execute_result",
          "data": {
            "text/plain": [
              "3"
            ]
          },
          "metadata": {
            "tags": []
          },
          "execution_count": 189
        }
      ]
    },
    {
      "cell_type": "code",
      "metadata": {
        "id": "51BoIbpJnNko",
        "colab": {
          "base_uri": "https://localhost:8080/",
          "height": 34
        },
        "outputId": "4360e38e-2e33-4d7b-d7d5-77cc36541d45"
      },
      "source": [
        "fruits = ['apple', 'banana', 'cherry']\n",
        "\n",
        "fruits.reverse()\n",
        "fruits"
      ],
      "execution_count": null,
      "outputs": [
        {
          "output_type": "execute_result",
          "data": {
            "text/plain": [
              "['cherry', 'banana', 'apple']"
            ]
          },
          "metadata": {
            "tags": []
          },
          "execution_count": 190
        }
      ]
    },
    {
      "cell_type": "code",
      "metadata": {
        "id": "igx6zp5CnaFl",
        "colab": {
          "base_uri": "https://localhost:8080/",
          "height": 34
        },
        "outputId": "1c662df9-32f4-495e-fb9b-5dfa933dd30a"
      },
      "source": [
        "# Sort the list descending:\n",
        "cars = ['Ford', 'BMW', 'Volvo']\n",
        "\n",
        "cars.sort()\n",
        "cars"
      ],
      "execution_count": null,
      "outputs": [
        {
          "output_type": "execute_result",
          "data": {
            "text/plain": [
              "['BMW', 'Ford', 'Volvo']"
            ]
          },
          "metadata": {
            "tags": []
          },
          "execution_count": 192
        }
      ]
    },
    {
      "cell_type": "code",
      "metadata": {
        "id": "FP9_QUKr1e2M",
        "colab": {
          "base_uri": "https://localhost:8080/",
          "height": 34
        },
        "outputId": "02a752ca-9fca-47bf-eb14-ad5bdfbd4cc2"
      },
      "source": [
        "# Sort the list asscending:\n",
        "cars = ['Ford', 'BMW', 'Volvo']\n",
        "\n",
        "cars.sort(reverse=True)\n",
        "cars"
      ],
      "execution_count": null,
      "outputs": [
        {
          "output_type": "execute_result",
          "data": {
            "text/plain": [
              "['Volvo', 'Ford', 'BMW']"
            ]
          },
          "metadata": {
            "tags": []
          },
          "execution_count": 44
        }
      ]
    },
    {
      "cell_type": "code",
      "metadata": {
        "id": "SLh7dSm-n-IR",
        "colab": {
          "base_uri": "https://localhost:8080/",
          "height": 34
        },
        "outputId": "6c9c71e2-c6b0-4682-8c7e-11e14d6479dc"
      },
      "source": [
        "# Sort the list by the length of the values:\n",
        "# A function that returns the length of the value:\n",
        "def myFunc(e):\n",
        "  return len(e)\n",
        "\n",
        "cars = ['Ford', 'Mitsubishi', 'BMW', 'VW']\n",
        "\n",
        "cars.sort(key=myFunc)\n",
        "cars"
      ],
      "execution_count": null,
      "outputs": [
        {
          "output_type": "execute_result",
          "data": {
            "text/plain": [
              "['VW', 'BMW', 'Ford', 'Mitsubishi']"
            ]
          },
          "metadata": {
            "tags": []
          },
          "execution_count": 194
        }
      ]
    },
    {
      "cell_type": "code",
      "metadata": {
        "id": "oEQynDh_oLDr",
        "colab": {
          "base_uri": "https://localhost:8080/",
          "height": 87
        },
        "outputId": "ef6255b1-3872-45c1-edc3-7cfdb02f1235"
      },
      "source": [
        "# Sort a list of dictionaries based on the \"year\" value of the dictionaries:\n",
        "# A function that returns the 'year' value:\n",
        "def myFunc(e):\n",
        "  return e['year']\n",
        "\n",
        "cars = [\n",
        "  {'car': 'Ford', 'year': 2005},\n",
        "  {'car': 'Mitsubishi', 'year': 2000},\n",
        "  {'car': 'BMW', 'year': 2019},\n",
        "  {'car': 'VW', 'year': 2011}\n",
        "]\n",
        "\n",
        "cars.sort(key=myFunc)\n",
        "cars"
      ],
      "execution_count": null,
      "outputs": [
        {
          "output_type": "execute_result",
          "data": {
            "text/plain": [
              "[{'car': 'Mitsubishi', 'year': 2000},\n",
              " {'car': 'Ford', 'year': 2005},\n",
              " {'car': 'VW', 'year': 2011},\n",
              " {'car': 'BMW', 'year': 2019}]"
            ]
          },
          "metadata": {
            "tags": []
          },
          "execution_count": 197
        }
      ]
    },
    {
      "cell_type": "code",
      "metadata": {
        "id": "wZwTFhFsoRIa",
        "colab": {
          "base_uri": "https://localhost:8080/",
          "height": 34
        },
        "outputId": "de402ae9-a639-4efe-b523-9e77463958d1"
      },
      "source": [
        "# Sort the list by the length of the values and reversed:\n",
        "# A function that returns the length of the value:\n",
        "def myFunc(e):\n",
        "  return len(e)\n",
        "\n",
        "cars = ['Ford', 'Mitsubishi', 'BMW', 'VW']\n",
        "\n",
        "cars.sort(reverse=True, key=myFunc)\n",
        "cars"
      ],
      "execution_count": null,
      "outputs": [
        {
          "output_type": "execute_result",
          "data": {
            "text/plain": [
              "['Mitsubishi', 'Ford', 'BMW', 'VW']"
            ]
          },
          "metadata": {
            "tags": []
          },
          "execution_count": 198
        }
      ]
    },
    {
      "cell_type": "code",
      "metadata": {
        "id": "o5Tr-do_2Sex",
        "colab": {
          "base_uri": "https://localhost:8080/",
          "height": 34
        },
        "outputId": "b1081d0f-9421-4e58-f919-7a67a14edb9d"
      },
      "source": [
        "m = ['Alice', 'ants', 'Bob', 'badgers', 'Carol', 'cats']\n",
        "m.sort()\n",
        "m"
      ],
      "execution_count": null,
      "outputs": [
        {
          "output_type": "execute_result",
          "data": {
            "text/plain": [
              "['Alice', 'Bob', 'Carol', 'ants', 'badgers', 'cats']"
            ]
          },
          "metadata": {
            "tags": []
          },
          "execution_count": 45
        }
      ]
    },
    {
      "cell_type": "code",
      "metadata": {
        "id": "Tf5aIxtV2U-z",
        "colab": {
          "base_uri": "https://localhost:8080/",
          "height": 34
        },
        "outputId": "f5ebd710-4c7c-45a4-af5a-ae2cdd787766"
      },
      "source": [
        "spam = ['a', 'z', 'A', 'Z']\n",
        "spam.sort(key=str.lower)\n",
        "spam"
      ],
      "execution_count": null,
      "outputs": [
        {
          "output_type": "execute_result",
          "data": {
            "text/plain": [
              "['a', 'A', 'z', 'Z']"
            ]
          },
          "metadata": {
            "tags": []
          },
          "execution_count": 46
        }
      ]
    },
    {
      "cell_type": "markdown",
      "metadata": {
        "id": "T70aQ6JDqfqF"
      },
      "source": [
        "sorted()"
      ]
    },
    {
      "cell_type": "code",
      "metadata": {
        "colab": {
          "base_uri": "https://localhost:8080/"
        },
        "id": "2bEpDm40qg-4",
        "outputId": "368fd977-b5c9-4e23-d98b-db49860eb2f9"
      },
      "source": [
        "numbers = [6, 9, 3, 1]\n",
        "sorted(numbers)"
      ],
      "execution_count": null,
      "outputs": [
        {
          "output_type": "execute_result",
          "data": {
            "text/plain": [
              "[1, 3, 6, 9]"
            ]
          },
          "metadata": {
            "tags": []
          },
          "execution_count": 10
        }
      ]
    },
    {
      "cell_type": "code",
      "metadata": {
        "colab": {
          "base_uri": "https://localhost:8080/"
        },
        "id": "V9YhDnoMql66",
        "outputId": "dc186109-e062-4924-bd59-35a89086eca4"
      },
      "source": [
        "numbers"
      ],
      "execution_count": null,
      "outputs": [
        {
          "output_type": "execute_result",
          "data": {
            "text/plain": [
              "[6, 9, 3, 1]"
            ]
          },
          "metadata": {
            "tags": []
          },
          "execution_count": 11
        }
      ]
    },
    {
      "cell_type": "code",
      "metadata": {
        "colab": {
          "base_uri": "https://localhost:8080/"
        },
        "id": "ArHaanIpquRE",
        "outputId": "50cc2417-e9ef-421c-fec5-a7585a661ed9"
      },
      "source": [
        "numbers_tuple = (6, 9, 3, 1)\n",
        "numbers_set = {5, 5, 10, 1, 0}\n",
        "numbers_tuple_sorted = sorted(numbers_tuple)\n",
        "numbers_set_sorted = sorted(numbers_set)\n",
        "print(numbers_tuple_sorted)\n",
        "print(numbers_set_sorted)"
      ],
      "execution_count": null,
      "outputs": [
        {
          "output_type": "stream",
          "text": [
            "[1, 3, 6, 9]\n",
            "[0, 1, 5, 10]\n"
          ],
          "name": "stdout"
        }
      ]
    },
    {
      "cell_type": "code",
      "metadata": {
        "colab": {
          "base_uri": "https://localhost:8080/"
        },
        "id": "r2vCmBisrm16",
        "outputId": "b8ad53e7-2e30-474b-b385-8e4507c2f187"
      },
      "source": [
        "string_value = 'I like to sort'\n",
        "sorted_string = sorted(string_value.split())\n",
        "sorted_string"
      ],
      "execution_count": null,
      "outputs": [
        {
          "output_type": "execute_result",
          "data": {
            "text/plain": [
              "['I', 'like', 'sort', 'to']"
            ]
          },
          "metadata": {
            "tags": []
          },
          "execution_count": 14
        }
      ]
    },
    {
      "cell_type": "code",
      "metadata": {
        "colab": {
          "base_uri": "https://localhost:8080/"
        },
        "id": "DdbP54V5rxnV",
        "outputId": "f51ec09b-0a4a-4e0a-ab5d-34ada7260f4a"
      },
      "source": [
        "names = ['Harry', 'Suzy', 'Al', 'Mark']\n",
        "print(sorted(names))\n",
        "print(sorted(names, reverse=True))"
      ],
      "execution_count": null,
      "outputs": [
        {
          "output_type": "stream",
          "text": [
            "['Al', 'Harry', 'Mark', 'Suzy']\n",
            "['Suzy', 'Mark', 'Harry', 'Al']\n"
          ],
          "name": "stdout"
        }
      ]
    },
    {
      "cell_type": "code",
      "metadata": {
        "colab": {
          "base_uri": "https://localhost:8080/"
        },
        "id": "5TZqtVkqr7_4",
        "outputId": "18731c1f-89b1-4177-e220-1816955cffa9"
      },
      "source": [
        "words = ['banana', 'pie', 'Washington', 'book']\n",
        "sorted(words, key=len)"
      ],
      "execution_count": null,
      "outputs": [
        {
          "output_type": "execute_result",
          "data": {
            "text/plain": [
              "['pie', 'book', 'banana', 'Washington']"
            ]
          },
          "metadata": {
            "tags": []
          },
          "execution_count": 16
        }
      ]
    },
    {
      "cell_type": "code",
      "metadata": {
        "colab": {
          "base_uri": "https://localhost:8080/"
        },
        "id": "jImczwuzr_XB",
        "outputId": "2ebe7c82-f02d-4a4e-dda5-5488b24f22a3"
      },
      "source": [
        "names_with_case = ['harry', 'Suzy', 'al', 'Mark']\n",
        "sorted(names_with_case, key=str.lower)"
      ],
      "execution_count": null,
      "outputs": [
        {
          "output_type": "execute_result",
          "data": {
            "text/plain": [
              "['al', 'harry', 'Mark', 'Suzy']"
            ]
          },
          "metadata": {
            "tags": []
          },
          "execution_count": 17
        }
      ]
    },
    {
      "cell_type": "markdown",
      "metadata": {
        "id": "vw5_w5kWDt8f"
      },
      "source": [
        "## **Tuple**\n",
        "\n",
        "A tuple is a sequence of **immutable** Python objects. Tuples are sequences, just like lists. The differences between tuples and lists are, the tuples cannot be changed unlike lists and tuples use parentheses, whereas lists use square brackets.\n",
        "\n",
        "Sebuah tupel adalah urutan objek Python yang tidak berubah. Tupel adalah urutan, seperti daftar. Perbedaan utama antara tupel dan daftarnya adalah bahwa tupel tidak dapat diubah tidak seperti List Python. Tupel menggunakan tanda kurung, sedangkan List Python menggunakan tanda kurung siku.\n",
        "\n",
        "Membuat tuple semudah memasukkan nilai-nilai yang dipisahkan koma. Secara opsional, Anda dapat memasukkan nilai-nilai yang dipisahkan koma ini di antara tanda kurung juga. Sebagai contoh :\n",
        "\n",
        "Contoh sederhana pembuatan tuple pada bahasa pemrograman python\n",
        "\n",
        "`tup1 = ('fisika', 'kimia', 1993, 2017)`\n",
        "\n",
        "`tup2 = ( 1, 2, 3, 4, 5 )`\n",
        "\n",
        "`tup3 = \"a\", \"b\", \"c\", \"d\"`\n",
        "\n",
        "`tup4 = ( 50, )` -> satu item harus pke koma \n",
        "\n",
        "`empty_tup = ()`\n",
        "\n",
        "Tupel kosong ditulis sebagai dua tanda kurung yang tidak berisi apa-apa, contohnya : tup1 = (); Untuk menulis tupel yang berisi satu nilai, Anda harus memasukkan koma, meskipun hanya ada satu nilai, contohnya : tup1 = (50,) Seperti indeks String, indeks tuple mulai dari 0, dan mereka dapat diiris, digabungkan, dan seterusnya\n",
        "\n",
        "**<h4>The tuple() Constructor</h4>**\n",
        "\n",
        "`thistuple = tuple((\"apple\", \"banana\", \"cherry\")) # note the double round-brackets`\n",
        "\n",
        "`print(thistuple)`"
      ]
    },
    {
      "cell_type": "code",
      "metadata": {
        "id": "jaGgB41HABKl",
        "colab": {
          "base_uri": "https://localhost:8080/",
          "height": 34
        },
        "outputId": "bbcbe947-6902-4992-8718-546f4a40382d"
      },
      "source": [
        "tuple_ = ('Bill', 'Jeff', 'Mark')\n",
        "print(tuple_)"
      ],
      "execution_count": null,
      "outputs": [
        {
          "output_type": "stream",
          "text": [
            "('Bill', 'Jeff', 'Mark')\n"
          ],
          "name": "stdout"
        }
      ]
    },
    {
      "cell_type": "markdown",
      "metadata": {
        "id": "99qjzQYIEKgd"
      },
      "source": [
        "### **Access Items**\n",
        "\n",
        "***Indexing (Subsetting)* and *Slicing***\n",
        "\n",
        "You access the tuple items by referring to the index number (index number start from 0)."
      ]
    },
    {
      "cell_type": "code",
      "metadata": {
        "id": "57Aetvr1FBS4",
        "colab": {
          "base_uri": "https://localhost:8080/",
          "height": 34
        },
        "outputId": "cbffc93c-302c-4ddf-b85c-990075d67fcd"
      },
      "source": [
        "print(tuple_[2])"
      ],
      "execution_count": null,
      "outputs": [
        {
          "output_type": "stream",
          "text": [
            "Mark\n"
          ],
          "name": "stdout"
        }
      ]
    },
    {
      "cell_type": "code",
      "metadata": {
        "id": "1DAeajFmFW6C",
        "colab": {
          "base_uri": "https://localhost:8080/",
          "height": 34
        },
        "outputId": "a8631dee-f5c1-47fb-8a5f-b7252bec5671"
      },
      "source": [
        "print(tuple_[:-1])"
      ],
      "execution_count": null,
      "outputs": [
        {
          "output_type": "stream",
          "text": [
            "('Bill', 'Jeff')\n"
          ],
          "name": "stdout"
        }
      ]
    },
    {
      "cell_type": "code",
      "metadata": {
        "id": "cTjF6NhLFdSR",
        "colab": {
          "base_uri": "https://localhost:8080/",
          "height": 52
        },
        "outputId": "65f8ce40-2635-4384-e402-2dac75e5096b"
      },
      "source": [
        "#Cara mengakses nilai tuple\n",
        "\n",
        "tup1 = ('fisika', 'kimia', 1993, 2017)\n",
        "tup2 = (1, 2, 3, 4, 5, 6, 7 )\n",
        "\n",
        "print (\"tup1[0]: \", tup1[0])\n",
        "print (\"tup2[1:5]: \", tup2[1:5])"
      ],
      "execution_count": null,
      "outputs": [
        {
          "output_type": "stream",
          "text": [
            "tup1[0]:  fisika\n",
            "tup2[1:5]:  (2, 3, 4, 5)\n"
          ],
          "name": "stdout"
        }
      ]
    },
    {
      "cell_type": "markdown",
      "metadata": {
        "id": "HbUAUf6i1IqU"
      },
      "source": [
        "***Unpacking Sequence***"
      ]
    },
    {
      "cell_type": "code",
      "metadata": {
        "id": "kKLVzrmE_uO7",
        "colab": {
          "base_uri": "https://localhost:8080/",
          "height": 34
        },
        "outputId": "b627acd8-a630-4fc0-b16a-55eacebe440c"
      },
      "source": [
        "# Unpacking Sequence\n",
        "\n",
        "matkul = ('fisika', 'kimia', 'matematika')\n",
        "\n",
        "f, k, m = matkul\n",
        "print (f, k, m)"
      ],
      "execution_count": null,
      "outputs": [
        {
          "output_type": "stream",
          "text": [
            "fisika kimia matematika\n"
          ],
          "name": "stdout"
        }
      ]
    },
    {
      "cell_type": "markdown",
      "metadata": {
        "id": "3eb3GqCfEKgg"
      },
      "source": [
        "### **Update Items**\n",
        "\n",
        "Tuples are **immutable** which means you cannot update or change the values of tuple elements."
      ]
    },
    {
      "cell_type": "code",
      "metadata": {
        "id": "REupA17jFbFR"
      },
      "source": [
        "# Following action is not valid for tuples\n",
        "# tuple_[0] = 'Elon'"
      ],
      "execution_count": null,
      "outputs": []
    },
    {
      "cell_type": "markdown",
      "metadata": {
        "id": "HRUdlQ9NGglN"
      },
      "source": [
        "Tuple tidak berubah, yang berarti Anda tidak dapat memperbarui atau mengubah nilai elemen tupel. Anda dapat mengambil bagian dari tupel yang ada untuk membuat tupel baru seperti ditunjukkan oleh contoh berikut."
      ]
    },
    {
      "cell_type": "code",
      "metadata": {
        "id": "04OMhB6jGiqt",
        "colab": {
          "base_uri": "https://localhost:8080/",
          "height": 34
        },
        "outputId": "dd73e4ea-52a0-4603-cca2-f310064455be"
      },
      "source": [
        "tup1 = (12, 34.56)\n",
        "tup2 = ('abc', 'xyz')\n",
        "\n",
        "# Aksi seperti dibawah ini tidak bisa dilakukan pada tuple python\n",
        "# Karena memang nilai pada tuple python tidak bisa diubah\n",
        "# tup1[0] = 100;\n",
        "\n",
        "# Jadi, buatlah tuple baru sebagai berikut\n",
        "tup3 = tup1 + tup2\n",
        "print (tup3)"
      ],
      "execution_count": null,
      "outputs": [
        {
          "output_type": "stream",
          "text": [
            "(12, 34.56, 'abc', 'xyz')\n"
          ],
          "name": "stdout"
        }
      ]
    },
    {
      "cell_type": "code",
      "metadata": {
        "id": "_ek_jMvFo6oF",
        "colab": {
          "base_uri": "https://localhost:8080/",
          "height": 34
        },
        "outputId": "9a2bd8c7-7b2a-4b3a-f06d-1d4044a257b7"
      },
      "source": [
        "x = (\"apple\", \"banana\", \"cherry\")\n",
        "y = list(x)\n",
        "y[1] = \"kiwi\"\n",
        "x = tuple(y)\n",
        "\n",
        "print(x)"
      ],
      "execution_count": null,
      "outputs": [
        {
          "output_type": "stream",
          "text": [
            "('apple', 'kiwi', 'cherry')\n"
          ],
          "name": "stdout"
        }
      ]
    },
    {
      "cell_type": "markdown",
      "metadata": {
        "id": "ELxNlmH3EKgj"
      },
      "source": [
        "### **Remove Item**\n",
        "\n",
        "Note: You cannot remove items in a tuple.\n",
        "\n",
        "Removing individual tuple elements is not possible.\n",
        "\n",
        "To explicitly remove an entire tuple, just use the del statement.\n",
        "\n",
        "Menghapus elemen tuple individual tidak mungkin dilakukan. Tentu saja, tidak ada yang salah dengan menggabungkan tupel lain dengan unsur-unsur yang tidak diinginkan dibuang.\n",
        "\n",
        "Untuk secara eksplisit menghapus keseluruhan tuple, cukup gunakan del statement. Sebagai contoh"
      ]
    },
    {
      "cell_type": "code",
      "metadata": {
        "id": "AHhZcO3FF2Lz",
        "colab": {
          "base_uri": "https://localhost:8080/",
          "height": 34
        },
        "outputId": "702e3060-f2ba-488e-fc1f-defbe5ec17ea"
      },
      "source": [
        "tuple_ = ('Bill', 'Jeff', 'Mark')\n",
        "print(tuple_)\n",
        "\n",
        "# del tuple_\n",
        "# print(tuple_)       # This will cause an error because tuple_ is no longer exist"
      ],
      "execution_count": null,
      "outputs": [
        {
          "output_type": "stream",
          "text": [
            "('Bill', 'Jeff', 'Mark')\n"
          ],
          "name": "stdout"
        }
      ]
    },
    {
      "cell_type": "code",
      "metadata": {
        "id": "oq-eax3bG4gX",
        "colab": {
          "base_uri": "https://localhost:8080/",
          "height": 52
        },
        "outputId": "81a27bb2-b156-44e7-e392-14239223728b"
      },
      "source": [
        "tup = ('fisika', 'kimia', 1993, 2017);\n",
        "\n",
        "print(tup)\n",
        "del tup\n",
        "print(\"Setelah menghapus tuple : \")\n",
        "# print(tup) name 'tup' is not defined"
      ],
      "execution_count": null,
      "outputs": [
        {
          "output_type": "stream",
          "text": [
            "('fisika', 'kimia', 1993, 2017)\n",
            "Setelah menghapus tuple : \n"
          ],
          "name": "stdout"
        }
      ]
    },
    {
      "cell_type": "markdown",
      "metadata": {
        "id": "cF_BGfXGo900"
      },
      "source": [
        "### **Loop and If in**"
      ]
    },
    {
      "cell_type": "code",
      "metadata": {
        "id": "V-xZaBJdpBDc",
        "colab": {
          "base_uri": "https://localhost:8080/",
          "height": 70
        },
        "outputId": "3361f50c-bf3c-414c-e127-3df9ad8429db"
      },
      "source": [
        "thistuple = (\"apple\", \"banana\", \"cherry\")\n",
        "for x in thistuple:\n",
        "  print(x)"
      ],
      "execution_count": null,
      "outputs": [
        {
          "output_type": "stream",
          "text": [
            "apple\n",
            "banana\n",
            "cherry\n"
          ],
          "name": "stdout"
        }
      ]
    },
    {
      "cell_type": "code",
      "metadata": {
        "id": "nfw02ukNpC0J",
        "colab": {
          "base_uri": "https://localhost:8080/",
          "height": 34
        },
        "outputId": "0f256ee0-1543-4304-ff23-544a8ff30315"
      },
      "source": [
        "thistuple = (\"apple\", \"banana\", \"cherry\")\n",
        "if \"apple\" in thistuple:\n",
        "  print(\"Yes, 'apple' is in the fruits tuple\")"
      ],
      "execution_count": null,
      "outputs": [
        {
          "output_type": "stream",
          "text": [
            "Yes, 'apple' is in the fruits tuple\n"
          ],
          "name": "stdout"
        }
      ]
    },
    {
      "cell_type": "markdown",
      "metadata": {
        "id": "HGH0nqDfpky0"
      },
      "source": [
        "### **Concatenate Tuple**"
      ]
    },
    {
      "cell_type": "code",
      "metadata": {
        "id": "UcHkXUdPpp6x",
        "colab": {
          "base_uri": "https://localhost:8080/",
          "height": 34
        },
        "outputId": "e9b81017-a079-4e7c-8be6-32d972b2e934"
      },
      "source": [
        "tuple1 = (\"a\", \"b\" , \"c\")\n",
        "tuple2 = (1, 2, 3)\n",
        "\n",
        "tuple3 = tuple1 + tuple2\n",
        "print(tuple3)"
      ],
      "execution_count": null,
      "outputs": [
        {
          "output_type": "stream",
          "text": [
            "('a', 'b', 'c', 1, 2, 3)\n"
          ],
          "name": "stdout"
        }
      ]
    },
    {
      "cell_type": "markdown",
      "metadata": {
        "id": "1Ph2NJJkEKgk"
      },
      "source": [
        "### **Standard Operations**\n",
        "\n",
        "........................................................................\n",
        "\n",
        "***len(), +, *, in, not in (membership), for iterator***\n",
        "\n",
        "........................................................................\n",
        "\n",
        "`len((1, 2, 3, 4))`  -> \t4\t: Length\n",
        "\n",
        "`(1, 2, 3) + (4, 5, 6)`  ->\t(1, 2, 3, 4, 5, 6) : Concatenation\n",
        "\n",
        "`('Halo!',) * 4` ->\t('Halo!', 'Halo!', 'Halo!', 'Halo!') : Repetition\n",
        "\n",
        "`2 in (1, 2, 3)` -> True : Membership\n",
        "\n",
        "`for x in (1,2,3) : print (x,end = ' ')` -> 1 2 3 : Iteration"
      ]
    },
    {
      "cell_type": "code",
      "metadata": {
        "id": "M6PqvCQe59Cl",
        "colab": {
          "base_uri": "https://localhost:8080/",
          "height": 34
        },
        "outputId": "a2159660-7f3e-49ec-a4dc-063fa9a00dbe"
      },
      "source": [
        "number = (1, 3, 5, 7, 9, 2, 4, 6, 8, 10)\n",
        "print('Panjang list = ', len(number))"
      ],
      "execution_count": null,
      "outputs": [
        {
          "output_type": "stream",
          "text": [
            "Panjang list =  10\n"
          ],
          "name": "stdout"
        }
      ]
    },
    {
      "cell_type": "code",
      "metadata": {
        "id": "7cMRMb6x59Cv",
        "colab": {
          "base_uri": "https://localhost:8080/",
          "height": 34
        },
        "outputId": "9dc3ad66-e46a-4266-c433-bb8e40e1a1d1"
      },
      "source": [
        "list1 = (1, 2, 3)\n",
        "list2 = (4, 5, 6)\n",
        "\n",
        "list_combine = list1 + list2\n",
        "list_combine"
      ],
      "execution_count": null,
      "outputs": [
        {
          "output_type": "execute_result",
          "data": {
            "text/plain": [
              "(1, 2, 3, 4, 5, 6)"
            ]
          },
          "metadata": {
            "tags": []
          },
          "execution_count": 126
        }
      ]
    },
    {
      "cell_type": "code",
      "metadata": {
        "id": "ZzcT3Spi59Cy",
        "colab": {
          "base_uri": "https://localhost:8080/",
          "height": 34
        },
        "outputId": "bd046f3f-fbd4-48d9-fecd-56ebbedbb10c"
      },
      "source": [
        "# or\n",
        "number = (1, 2, 3) + (4, 5, 6)\n",
        "number"
      ],
      "execution_count": null,
      "outputs": [
        {
          "output_type": "execute_result",
          "data": {
            "text/plain": [
              "(1, 2, 3, 4, 5, 6)"
            ]
          },
          "metadata": {
            "tags": []
          },
          "execution_count": 127
        }
      ]
    },
    {
      "cell_type": "code",
      "metadata": {
        "id": "DqZKhGLB59C0",
        "colab": {
          "base_uri": "https://localhost:8080/",
          "height": 34
        },
        "outputId": "a60237ca-8143-4e9c-afbb-5c11f94ad651"
      },
      "source": [
        "halo = ('Halo',)*5\n",
        "halo"
      ],
      "execution_count": null,
      "outputs": [
        {
          "output_type": "execute_result",
          "data": {
            "text/plain": [
              "('Halo', 'Halo', 'Halo', 'Halo', 'Halo')"
            ]
          },
          "metadata": {
            "tags": []
          },
          "execution_count": 128
        }
      ]
    },
    {
      "cell_type": "code",
      "metadata": {
        "id": "5AmZ64m859C2",
        "colab": {
          "base_uri": "https://localhost:8080/",
          "height": 52
        },
        "outputId": "395e0486-393f-44a9-aab1-a86510f91a76"
      },
      "source": [
        "number = (1, 3, 5, 7, 9, 2, 4, 6, 8, 10)\n",
        "print('8 in list? = ', 8 in number)\n",
        "print('20 not in list? = ', 20 not in number)"
      ],
      "execution_count": null,
      "outputs": [
        {
          "output_type": "stream",
          "text": [
            "8 in list? =  True\n",
            "20 not in list? =  True\n"
          ],
          "name": "stdout"
        }
      ]
    },
    {
      "cell_type": "code",
      "metadata": {
        "id": "HsIm_8P559C5",
        "colab": {
          "base_uri": "https://localhost:8080/",
          "height": 34
        },
        "outputId": "16283806-6dc0-4688-bd25-e42ba46e3e05"
      },
      "source": [
        "number = (1, 3, 5, 7, 9, 2, 4, 6, 8, 10)\n",
        "for x in number :\n",
        "  print(x, end=' ')"
      ],
      "execution_count": null,
      "outputs": [
        {
          "output_type": "stream",
          "text": [
            "1 3 5 7 9 2 4 6 8 10 "
          ],
          "name": "stdout"
        }
      ]
    },
    {
      "cell_type": "markdown",
      "metadata": {
        "id": "Br49IgYAEKgl"
      },
      "source": [
        "### **Build-In Functions Tuple**\n",
        "\n",
        "**<h4>Python Function<h4>**\n",
        "\n",
        "* `len(tuple)`\n",
        "    \n",
        "    Memberikan total panjang * tuple.\n",
        "\n",
        "* `max(tuple)`\n",
        "\n",
        "    Mengembalikan item dari tuple dengan nilai maks.\n",
        "\n",
        "* `min(tuple)`\n",
        "\n",
        "    Mengembalikan item dari tuple dengan nilai min.\n",
        "\n",
        "* `tuple(seq)`\n",
        "\n",
        "    Mengubah tuple menjadi tuple.\n",
        "* `sorted()`\n",
        "\n",
        "\n",
        "**<h4>Python Methods<h4>**\n",
        "\n",
        "* `tuple.count(obj)`\n",
        "\n",
        "    Jumlah pengembalian berapa kali obj terjadi dalam tuple\n",
        "\n",
        "* `tuple.index(obj)`\n",
        "\n",
        "    Mengembalikan indeks terendah dalam tuple yang muncul obj\n"
      ]
    },
    {
      "cell_type": "code",
      "metadata": {
        "colab": {
          "base_uri": "https://localhost:8080/"
        },
        "id": "XHhwL8SFpmh_",
        "outputId": "b15d3e0e-222a-4ead-a328-d0a6010c5459"
      },
      "source": [
        "a = (\"b\", \"g\", \"a\", \"d\", \"f\", \"c\", \"h\", \"e\")\n",
        "x = sorted(a)\n",
        "print(x)"
      ],
      "execution_count": null,
      "outputs": [
        {
          "output_type": "stream",
          "text": [
            "['a', 'b', 'c', 'd', 'e', 'f', 'g', 'h']\n"
          ],
          "name": "stdout"
        }
      ]
    },
    {
      "cell_type": "code",
      "metadata": {
        "colab": {
          "base_uri": "https://localhost:8080/"
        },
        "id": "s8xVw8nPpr0a",
        "outputId": "5588febc-ebcc-4fc3-f6de-c4f648ad94c7"
      },
      "source": [
        "a = (\"h\", \"b\", \"a\", \"c\", \"f\", \"d\", \"e\", \"g\")\n",
        "x = sorted(a, reverse=True)\n",
        "print(x)"
      ],
      "execution_count": null,
      "outputs": [
        {
          "output_type": "stream",
          "text": [
            "['h', 'g', 'f', 'e', 'd', 'c', 'b', 'a']\n"
          ],
          "name": "stdout"
        }
      ]
    },
    {
      "cell_type": "markdown",
      "metadata": {
        "id": "CdEKiqgE9HvG"
      },
      "source": [
        "Tambahan :\n",
        "\n",
        "Tuple lebih cepat dibandingkan dengan list"
      ]
    },
    {
      "cell_type": "code",
      "metadata": {
        "id": "QKgaamZV9Wsz",
        "colab": {
          "base_uri": "https://localhost:8080/",
          "height": 52
        },
        "outputId": "5eaeaa24-d8d1-4b06-f1cc-f7a72de9f682"
      },
      "source": [
        "import timeit\n",
        "\n",
        "data_list = timeit.timeit(stmt=\"[1,2,3,4,5,6,7,8,9]\",number=1000000)\n",
        "data_tuple = timeit.timeit(stmt=\"(1,2,3,4,5,6,7,8,9)\",number=1000000)\n",
        "\n",
        "print(\"waktu untuk memproses list:\",data_list)\n",
        "print(\"waktu untuk memproses tuple:\",data_tuple)"
      ],
      "execution_count": null,
      "outputs": [
        {
          "output_type": "stream",
          "text": [
            "waktu untuk memproses list: 0.07749602099966069\n",
            "waktu untuk memproses tuple: 0.011299253999823122\n"
          ],
          "name": "stdout"
        }
      ]
    },
    {
      "cell_type": "markdown",
      "metadata": {
        "id": "pQunj2nd9cIt"
      },
      "source": [
        "Tuple lebih ringan dibandingkan dengan list"
      ]
    },
    {
      "cell_type": "code",
      "metadata": {
        "id": "vNmM0LVP9bdr"
      },
      "source": [
        "import sys\n",
        "\n",
        "data_list = [1,2,3,4,5,6,7,8,9,10,\"pisang goreng\",\"syahrini\",\"via vallen\", False, 3.14]\n",
        "data_tuple = (1,2,3,4,5,6,7,8,9,10,\"pisang goreng\",\"syahrini\",\"via vallen\", False, 3.14)\n",
        "\n",
        "besar_datalist = sys.getsizeof(data_list)\n",
        "besar_datatuple = sys.getsizeof(data_tuple)\n",
        "\n",
        "print(\"besar data list:\", besar_datalist)\n",
        "print(\"besar data tuple:\", besar_datatuple)"
      ],
      "execution_count": null,
      "outputs": []
    },
    {
      "cell_type": "markdown",
      "metadata": {
        "id": "KNhS8UpTrblW"
      },
      "source": [
        "## **Set**\n",
        "\n",
        "Tipe data Set Python adalah tipe data yang berisi kumpulan tipe data dan dipakai untuk mengolah himpunan (set). Jika dibandingkan dengan tipe data berbentuk array lain di Python, tipe data set berbeda dalam hal index, pengurutan dan keunikan nilai (unique value).\n",
        "\n",
        "Tipe data set tidak memiliki index, sehingga tidak ada mekanisme pengurutan. Maksudnya, ketika kita menginput beberapa nilai ke dalam tipe data set, posisi nilai tersebut bisa berada di mana saja, tidak persis seperti apa yang tertulis. Akibat tidak memiliki index, maka kita tidak bisa menambah nilai baru ke dalam tipe data set dengan cara menulis nomor index (seperti di dalam tipe data list)\n",
        "\n",
        "Ciri khas selanjutnya dari tipe data set adalah tidak bisa menerima nilai ganda, setiap nilai di dalam set harus unik. Jika kita menginput beberapa nilai yang sama, hanya satu yang tersimpan di dalam set.\n",
        "\n",
        "**<h4>The set() Constructor</h4>**\n",
        "\n",
        "`thisset = set((\"apple\", \"banana\", \"cherry\")) # note the double round-brackets`\n",
        "\n",
        "`print(thisset)`"
      ]
    },
    {
      "cell_type": "code",
      "metadata": {
        "id": "jY_88iVH5M90",
        "colab": {
          "base_uri": "https://localhost:8080/",
          "height": 70
        },
        "outputId": "04676d8a-bdda-497a-f169-6c302613404d"
      },
      "source": [
        "foo = {\"Belajar\", \"Python\", \"di\", \"Duniailkom\"}\n",
        "bar = {100, 200, 300, 400}\n",
        "baz = {\"Python\", 200, 6.99, True}\n",
        " \n",
        "print(foo)\n",
        "print(bar)\n",
        "print(baz)"
      ],
      "execution_count": null,
      "outputs": [
        {
          "output_type": "stream",
          "text": [
            "{'Python', 'di', 'Duniailkom', 'Belajar'}\n",
            "{200, 100, 400, 300}\n",
            "{200, 'Python', 6.99, True}\n"
          ],
          "name": "stdout"
        }
      ]
    },
    {
      "cell_type": "markdown",
      "metadata": {
        "id": "n5Tv-1u05aP0"
      },
      "source": [
        "### **Sifat Tipe Data Set Python**\n",
        "\n",
        "Seperti yang dibahas pada bagian pengertian, sifat dari tipe data set adalah \n",
        "\n",
        "* tidak ber-index (unindex and unordered)\n",
        "\n",
        "* hanya bisa menerima anggota dengan nilai yang berbeda (unique value).\n",
        "\n",
        " Mari lihat dengan contoh kode program:"
      ]
    },
    {
      "cell_type": "code",
      "metadata": {
        "id": "GDHuUcnu5erO",
        "colab": {
          "base_uri": "https://localhost:8080/",
          "height": 52
        },
        "outputId": "97e74134-3b88-42eb-8c58-52359a7af00b"
      },
      "source": [
        "foo = {\"Belajar\", \"Python\", \"di\", \"Duniailkom\", \"di\"}\n",
        "bar = {100, 200, 300, 400, 200, 300}\n",
        " \n",
        "print(foo)\n",
        "print(bar)"
      ],
      "execution_count": null,
      "outputs": [
        {
          "output_type": "stream",
          "text": [
            "{'Python', 'di', 'Duniailkom', 'Belajar'}\n",
            "{200, 100, 400, 300}\n"
          ],
          "name": "stdout"
        }
      ]
    },
    {
      "cell_type": "code",
      "metadata": {
        "id": "Sn-RIrYb5kts"
      },
      "source": [
        "foo = {\"Belajar\", \"Python\", \"di\", \"Duniailkom\", \"di\"}\n",
        " \n",
        "# print(foo[1])  'set' object does not support indexing"
      ],
      "execution_count": null,
      "outputs": []
    },
    {
      "cell_type": "markdown",
      "metadata": {
        "id": "LQZosxKDpyI1"
      },
      "source": [
        "### **Access Items**\n",
        "\n",
        "You cannot access items in a set by referring to an `index`, since sets are unordered the items has no index.\n",
        "\n",
        "But you can loop through the set items using a `for loop`, or ask if a specified value is present in a set, by using the in keyword."
      ]
    },
    {
      "cell_type": "code",
      "metadata": {
        "id": "xvpnUwPqp_hZ",
        "colab": {
          "base_uri": "https://localhost:8080/",
          "height": 220
        },
        "outputId": "d1e4f78e-1a8e-443a-927c-c9aa97b1bfa7"
      },
      "source": [
        "thisset = {\"apple\", \"banana\", \"cherry\"}\n",
        "\n",
        "for x in thisset:\n",
        "  print(x)"
      ],
      "execution_count": null,
      "outputs": [
        {
          "output_type": "error",
          "ename": "TypeError",
          "evalue": "ignored",
          "traceback": [
            "\u001b[0;31m---------------------------------------------------------------------------\u001b[0m",
            "\u001b[0;31mTypeError\u001b[0m                                 Traceback (most recent call last)",
            "\u001b[0;32m<ipython-input-16-ac32c00699b2>\u001b[0m in \u001b[0;36m<module>\u001b[0;34m()\u001b[0m\n\u001b[1;32m      1\u001b[0m \u001b[0mthisset\u001b[0m \u001b[0;34m=\u001b[0m \u001b[0;34m{\u001b[0m\u001b[0;34m\"apple\"\u001b[0m\u001b[0;34m,\u001b[0m \u001b[0;34m\"banana\"\u001b[0m\u001b[0;34m,\u001b[0m \u001b[0;34m\"cherry\"\u001b[0m\u001b[0;34m}\u001b[0m\u001b[0;34m\u001b[0m\u001b[0;34m\u001b[0m\u001b[0m\n\u001b[0;32m----> 2\u001b[0;31m \u001b[0mthisset\u001b[0m\u001b[0;34m[\u001b[0m\u001b[0;36m0\u001b[0m\u001b[0;34m]\u001b[0m\u001b[0;34m\u001b[0m\u001b[0;34m\u001b[0m\u001b[0m\n\u001b[0m\u001b[1;32m      3\u001b[0m \u001b[0;32mfor\u001b[0m \u001b[0mx\u001b[0m \u001b[0;32min\u001b[0m \u001b[0mthisset\u001b[0m\u001b[0;34m:\u001b[0m\u001b[0;34m\u001b[0m\u001b[0;34m\u001b[0m\u001b[0m\n\u001b[1;32m      4\u001b[0m   \u001b[0mprint\u001b[0m\u001b[0;34m(\u001b[0m\u001b[0mx\u001b[0m\u001b[0;34m)\u001b[0m\u001b[0;34m\u001b[0m\u001b[0;34m\u001b[0m\u001b[0m\n",
            "\u001b[0;31mTypeError\u001b[0m: 'set' object is not subscriptable"
          ]
        }
      ]
    },
    {
      "cell_type": "markdown",
      "metadata": {
        "id": "2WjtxjCjp-yV"
      },
      "source": [
        "### **Update Items**\n",
        "\n",
        "`Once a set is created, you cannot change its items, but you can add new items.`\n"
      ]
    },
    {
      "cell_type": "markdown",
      "metadata": {
        "id": "u3oLXi5wqTCr"
      },
      "source": [
        "### **Add Items**\n",
        "\n",
        "To add one item to a set use the `add()` method.\n",
        "\n",
        "To add more than one item to a set use the `update()` method."
      ]
    },
    {
      "cell_type": "code",
      "metadata": {
        "id": "8K_dWn1YqbB9",
        "colab": {
          "base_uri": "https://localhost:8080/",
          "height": 34
        },
        "outputId": "64d7b810-2eec-4fb3-8362-f9b6e4c4dbcc"
      },
      "source": [
        "# Add an item to a set, using the add() method:\n",
        "\n",
        "thisset = {\"apple\", \"banana\", \"cherry\"}\n",
        "\n",
        "thisset.add(\"orange\")\n",
        "\n",
        "print(thisset)"
      ],
      "execution_count": null,
      "outputs": [
        {
          "output_type": "stream",
          "text": [
            "{'orange', 'apple', 'banana', 'cherry'}\n"
          ],
          "name": "stdout"
        }
      ]
    },
    {
      "cell_type": "code",
      "metadata": {
        "id": "p7Th6ZYoqeWr",
        "colab": {
          "base_uri": "https://localhost:8080/",
          "height": 34
        },
        "outputId": "4e69fa3d-a0f4-40d3-887e-93985c9928d8"
      },
      "source": [
        "# Add multiple items to a set, using the update() method:\n",
        "\n",
        "thisset = {\"apple\", \"banana\", \"cherry\"}\n",
        "\n",
        "thisset.update([\"orange\", \"mango\", \"grapes\"])\n",
        "\n",
        "print(thisset)"
      ],
      "execution_count": null,
      "outputs": [
        {
          "output_type": "stream",
          "text": [
            "{'grapes', 'mango', 'apple', 'banana', 'cherry', 'orange'}\n"
          ],
          "name": "stdout"
        }
      ]
    },
    {
      "cell_type": "markdown",
      "metadata": {
        "id": "2wVsDYLrHELi"
      },
      "source": [
        "To determine how many items a set has, use the **len()** function"
      ]
    },
    {
      "cell_type": "code",
      "metadata": {
        "id": "k63YBK0MHEL0",
        "colab": {
          "base_uri": "https://localhost:8080/",
          "height": 34
        },
        "outputId": "ed751332-00a0-4c74-e858-f4a9d2dc6d1a"
      },
      "source": [
        "thisset = {\"apple\", \"banana\", \"cherry\"}\n",
        "\n",
        "print(len(thisset))"
      ],
      "execution_count": null,
      "outputs": [
        {
          "output_type": "stream",
          "text": [
            "3\n"
          ],
          "name": "stdout"
        }
      ]
    },
    {
      "cell_type": "markdown",
      "metadata": {
        "id": "_1V8XJ7MHQQx"
      },
      "source": [
        "### **Remove Items**\n",
        "\n",
        "To remove an item in a set, use the `remove()`, or the `discard()` method.\n",
        "\n",
        "* remove()\n",
        "* discard()\n",
        "* pop() -> you will not know which item that gets removed\n",
        "* del -> just to delete all\n",
        "* clear()\n",
        "\n",
        "Note:\n",
        "\n",
        "* If the item to remove does not exist, remove() will raise an error.\n",
        "\n",
        "* If the item to remove does not exist, discard() will NOT raise an error.\n",
        "\n",
        "* Sets are unordered, so when using the pop() method, you will not know which item that gets removed.\n"
      ]
    },
    {
      "cell_type": "markdown",
      "metadata": {
        "id": "0Iftm0Opfs16"
      },
      "source": [
        "**<h4>Remove</h4>**"
      ]
    },
    {
      "cell_type": "code",
      "metadata": {
        "id": "jnRz2CAme78L",
        "colab": {
          "base_uri": "https://localhost:8080/",
          "height": 34
        },
        "outputId": "e8bab09a-caa4-4f53-f257-d007f9eeb218"
      },
      "source": [
        "thisset = {\"apple\", \"banana\", \"cherry\"}\n",
        "\n",
        "thisset.remove(\"banana\")\n",
        "\n",
        "print(thisset)"
      ],
      "execution_count": null,
      "outputs": [
        {
          "output_type": "stream",
          "text": [
            "{'apple', 'cherry'}\n"
          ],
          "name": "stdout"
        }
      ]
    },
    {
      "cell_type": "markdown",
      "metadata": {
        "id": "0mKoy-2Sfw1n"
      },
      "source": [
        "**<h4>Discard</h4>**\n",
        "\n",
        "This method is different from the remove() method, because the remove() method will raise an error if the specified item does not exist, and the discard() method will not."
      ]
    },
    {
      "cell_type": "code",
      "metadata": {
        "id": "6SW5CjA4e1Nf",
        "colab": {
          "base_uri": "https://localhost:8080/",
          "height": 34
        },
        "outputId": "2029e894-bc09-4f56-e83e-391b0618d2d5"
      },
      "source": [
        "thisset = {\"apple\", \"banana\", \"cherry\"}\n",
        "\n",
        "thisset.discard(\"banana\")\n",
        "\n",
        "print(thisset)"
      ],
      "execution_count": null,
      "outputs": [
        {
          "output_type": "stream",
          "text": [
            "{'apple', 'cherry'}\n"
          ],
          "name": "stdout"
        }
      ]
    },
    {
      "cell_type": "markdown",
      "metadata": {
        "id": "zrK2XDwtf02a"
      },
      "source": [
        "**<h4>Pop</h4>**"
      ]
    },
    {
      "cell_type": "markdown",
      "metadata": {
        "id": "vDjCUEWifA0m"
      },
      "source": [
        "You can also use the `pop()`, method to remove an item, but this method will remove the last item. Remember that sets are `unordered`, so you will not know what item that gets removed.\n",
        "\n",
        "The return value of the `pop()` method is the removed item."
      ]
    },
    {
      "cell_type": "code",
      "metadata": {
        "id": "1VDbzzOafMw9",
        "colab": {
          "base_uri": "https://localhost:8080/",
          "height": 52
        },
        "outputId": "b0f58e81-96a5-407c-e538-81ef43163d0d"
      },
      "source": [
        "# Remove the last item by using the pop() method:\n",
        "\n",
        "thisset = {\"apple\", \"banana\", \"cherry\"}\n",
        "\n",
        "x = thisset.pop()\n",
        "\n",
        "print(x)\n",
        "\n",
        "print(thisset)"
      ],
      "execution_count": null,
      "outputs": [
        {
          "output_type": "stream",
          "text": [
            "apple\n",
            "{'banana', 'cherry'}\n"
          ],
          "name": "stdout"
        }
      ]
    },
    {
      "cell_type": "markdown",
      "metadata": {
        "id": "3v5M06Skf3-B"
      },
      "source": [
        "**<h4>Del</h4>**"
      ]
    },
    {
      "cell_type": "code",
      "metadata": {
        "id": "5aYvoRZPf6fQ"
      },
      "source": [
        "# The del keyword will delete the set completely:\n",
        "thisset = {\"apple\", \"banana\", \"cherry\"}\n",
        "\n",
        "del thisset\n",
        "\n",
        "# print(thisset) -> name 'thisset' is not defined"
      ],
      "execution_count": null,
      "outputs": []
    },
    {
      "cell_type": "markdown",
      "metadata": {
        "id": "02Ooj_h-f7RT"
      },
      "source": [
        "**<h4>Clear</h4>**"
      ]
    },
    {
      "cell_type": "code",
      "metadata": {
        "id": "CbKQNNCUf-_o",
        "colab": {
          "base_uri": "https://localhost:8080/",
          "height": 34
        },
        "outputId": "d8042389-65f0-4578-f0b2-be03dfd2c5e9"
      },
      "source": [
        "# The clear() method empties the set:\n",
        "thisset = {\"apple\", \"banana\", \"cherry\"}\n",
        "\n",
        "thisset.clear()\n",
        "\n",
        "print(thisset)"
      ],
      "execution_count": null,
      "outputs": [
        {
          "output_type": "stream",
          "text": [
            "set()\n"
          ],
          "name": "stdout"
        }
      ]
    },
    {
      "cell_type": "markdown",
      "metadata": {
        "id": "3w4f_Z8m0gqF"
      },
      "source": [
        "### **Concatenate Set**\n",
        "\n",
        "You can use the `union()` method that returns a new set containing all items from both sets, or the `update()` method that inserts all the items from one set into another:\n",
        "\n",
        "Note: \n",
        "\n",
        "Both union() and update() will exclude any duplicate items."
      ]
    },
    {
      "cell_type": "code",
      "metadata": {
        "id": "TQqzYu6R0rmo",
        "colab": {
          "base_uri": "https://localhost:8080/",
          "height": 34
        },
        "outputId": "46b63e52-12fb-4592-ee73-22d00c8bb763"
      },
      "source": [
        "# The union() method returns a new set with all items from both sets:\n",
        "\n",
        "set1 = {\"a\", \"b\" , \"c\"}\n",
        "set2 = {1, 2, 3}\n",
        "\n",
        "set3 = set1.union(set2)\n",
        "print(set3)"
      ],
      "execution_count": null,
      "outputs": [
        {
          "output_type": "stream",
          "text": [
            "{1, 2, 3, 'b', 'c', 'a'}\n"
          ],
          "name": "stdout"
        }
      ]
    },
    {
      "cell_type": "code",
      "metadata": {
        "id": "EJJlxyqS0wOB",
        "colab": {
          "base_uri": "https://localhost:8080/",
          "height": 34
        },
        "outputId": "ac846f25-9708-437d-b866-f96beb7b273d"
      },
      "source": [
        "# The update() method inserts the items in set2 into set1:\n",
        "\n",
        "set1 = {\"a\", \"b\" , \"c\"}\n",
        "set2 = {1, 2, 3}\n",
        "\n",
        "set1.update(set2)\n",
        "print(set1)"
      ],
      "execution_count": null,
      "outputs": [
        {
          "output_type": "stream",
          "text": [
            "{1, 2, 3, 'b', 'c', 'a'}\n"
          ],
          "name": "stdout"
        }
      ]
    },
    {
      "cell_type": "markdown",
      "metadata": {
        "id": "zu0z_naz5qnE"
      },
      "source": [
        "### **Operasi Himpunan tipe data Set Python**\n",
        "\n",
        "Tipe data set pada dasarnya adalah tipe data khusus yang dipakai untuk operasi himpunan, seperti operasi gabungan (union), operasi irisan (intersection), dst. Lebih rinci tentang operasi himpunan ini akan kita bahas dalam tutorial khusus tenang operator di dalam bahasa Python."
      ]
    },
    {
      "cell_type": "code",
      "metadata": {
        "id": "hDzlroMN5wz7",
        "colab": {
          "base_uri": "https://localhost:8080/",
          "height": 52
        },
        "outputId": "3b7f5bca-54f9-48b2-c770-15551eb5cc53"
      },
      "source": [
        "foo = {1, 2, 3, 4, 5}\n",
        "bar = {3, 4, 5, 6, 7}\n",
        " \n",
        "print (foo | bar) # union\n",
        "print (foo & bar) # intersection"
      ],
      "execution_count": null,
      "outputs": [
        {
          "output_type": "stream",
          "text": [
            "{1, 2, 3, 4, 5, 6, 7}\n",
            "{3, 4, 5}\n"
          ],
          "name": "stdout"
        }
      ]
    },
    {
      "cell_type": "code",
      "metadata": {
        "id": "x8xBrQhg9_57",
        "colab": {
          "base_uri": "https://localhost:8080/",
          "height": 105
        },
        "outputId": "e4231216-30b8-4933-9e7a-ca504a508def"
      },
      "source": [
        "ganjil = {1,3,5,7,9}\n",
        "genap = {2,4,6,8,10}\n",
        "prima = {2,3,5,7}\n",
        "\n",
        "print(ganjil.union(genap))\n",
        "print(ganjil.intersection(prima))\n",
        "print(ganjil.intersection_update(prima))\n",
        "print(ganjil.difference(prima)) # Remove the items that exist in ganjil\n",
        "print(ganjil.difference_update(prima)) # Remove the items that exist in both sets"
      ],
      "execution_count": null,
      "outputs": [
        {
          "output_type": "stream",
          "text": [
            "{1, 2, 3, 4, 5, 6, 7, 8, 9, 10}\n",
            "{3, 5, 7}\n",
            "None\n",
            "set()\n",
            "None\n"
          ],
          "name": "stdout"
        }
      ]
    },
    {
      "cell_type": "markdown",
      "metadata": {
        "id": "DwqUkrR7qmlA"
      },
      "source": [
        "### **Build-In Method Set**\n",
        "\n",
        "**<h4>Python Method<h4>**\n",
        "\n",
        "Python has a set of built-in methods that you can use on sets.\n",
        "\n",
        "* `add()`\n",
        "\n",
        "    Adds an element to the set\n",
        "\n",
        "* `clear()`\n",
        "\n",
        "    Removes all the elements from the set\n",
        "\n",
        "* `copy()`\n",
        "\n",
        "    Returns a copy of the set\n",
        "\n",
        "* `difference()`\n",
        "\n",
        "    Returns a set containing the difference between two or more sets\n",
        "\n",
        "* `difference_update()`\n",
        "\n",
        "    Removes the items in this set that are also included in another, specified set\n",
        "\n",
        "* `discard()`\n",
        "\n",
        "    Remove the specified item\n",
        "\n",
        "* `intersection()`\n",
        "\n",
        "    Returns a set, that is the intersection of two other sets\n",
        "\n",
        "* `intersection_update()`\n",
        "\n",
        "    Removes the items in this set that are not present in other, specified set(s)\n",
        "\n",
        "* `isdisjoint()`\n",
        "\n",
        "    Returns whether two sets have a intersection or not\n",
        "\n",
        "* `issubset()`\n",
        "\n",
        "    Returns whether another set contains this set or not\n",
        "\n",
        "* `issuperset()`\n",
        "\n",
        "    Returns whether this set contains another set or not\n",
        "\n",
        "* `pop()`\n",
        "\n",
        "    Removes an element from the set\n",
        "\n",
        "* `remove()`\n",
        "\n",
        "    Removes the specified element\n",
        "\n",
        "* `symmetric_difference()`\n",
        "\n",
        "    Returns a set with the symmetric differences of two sets\n",
        "\n",
        "* `symmetric_difference_update()`\n",
        "\n",
        "    inserts the symmetric differences from this set and another\n",
        "\n",
        "* `union()`\n",
        "\n",
        "    Return a set containing the union of sets\n",
        "\n",
        "* `update()`\n",
        "\n",
        "    Update the set with the union of this set and others"
      ]
    },
    {
      "cell_type": "code",
      "metadata": {
        "id": "0w6jPmIB4Cea",
        "colab": {
          "base_uri": "https://localhost:8080/",
          "height": 34
        },
        "outputId": "a5683445-d780-4b7f-efb1-1e3b599b98f7"
      },
      "source": [
        "fruits = {\"apple\", \"banana\", \"cherry\"}\n",
        "\n",
        "fruits.add(\"orange\")\n",
        "\n",
        "print(fruits)"
      ],
      "execution_count": null,
      "outputs": [
        {
          "output_type": "stream",
          "text": [
            "{'orange', 'apple', 'banana', 'cherry'}\n"
          ],
          "name": "stdout"
        }
      ]
    },
    {
      "cell_type": "code",
      "metadata": {
        "id": "OBTj80as4Fr3",
        "colab": {
          "base_uri": "https://localhost:8080/",
          "height": 34
        },
        "outputId": "c608b698-1d35-40e7-85cf-9c5ade62a7f9"
      },
      "source": [
        "ruits = {\"apple\", \"banana\", \"cherry\"}\n",
        "\n",
        "fruits.clear()\n",
        "\n",
        "print(fruits)"
      ],
      "execution_count": null,
      "outputs": [
        {
          "output_type": "stream",
          "text": [
            "set()\n"
          ],
          "name": "stdout"
        }
      ]
    },
    {
      "cell_type": "code",
      "metadata": {
        "id": "fwjoMQxo4IWX",
        "colab": {
          "base_uri": "https://localhost:8080/",
          "height": 34
        },
        "outputId": "85a1f2b7-37ab-4b91-88e0-082e204335a3"
      },
      "source": [
        "fruits = {\"apple\", \"banana\", \"cherry\"}\n",
        "\n",
        "x = fruits.copy()\n",
        "\n",
        "print(x)"
      ],
      "execution_count": null,
      "outputs": [
        {
          "output_type": "stream",
          "text": [
            "{'apple', 'banana', 'cherry'}\n"
          ],
          "name": "stdout"
        }
      ]
    },
    {
      "cell_type": "code",
      "metadata": {
        "id": "u09JP-aR4L1P",
        "colab": {
          "base_uri": "https://localhost:8080/",
          "height": 34
        },
        "outputId": "396a60e0-c52f-4636-cb4f-4cdb32306ae5"
      },
      "source": [
        "x = {\"apple\", \"banana\", \"cherry\"}\n",
        "y = {\"google\", \"microsoft\", \"apple\"}\n",
        "\n",
        "z = x.difference(y)\n",
        "\n",
        "print(z)"
      ],
      "execution_count": null,
      "outputs": [
        {
          "output_type": "stream",
          "text": [
            "{'banana', 'cherry'}\n"
          ],
          "name": "stdout"
        }
      ]
    },
    {
      "cell_type": "code",
      "metadata": {
        "id": "vAVbPARZ-8_T",
        "colab": {
          "base_uri": "https://localhost:8080/",
          "height": 34
        },
        "outputId": "10b463b0-e7e8-452a-dc90-216fa41ce1ff"
      },
      "source": [
        "# Remove the items that exist in both sets:\n",
        "\n",
        "x = {\"apple\", \"banana\", \"cherry\"}\n",
        "y = {\"google\", \"microsoft\", \"apple\"}\n",
        "\n",
        "x.difference_update(y)\n",
        "\n",
        "print(x)"
      ],
      "execution_count": null,
      "outputs": [
        {
          "output_type": "stream",
          "text": [
            "{'banana', 'cherry'}\n"
          ],
          "name": "stdout"
        }
      ]
    },
    {
      "cell_type": "code",
      "metadata": {
        "id": "3evMPVju_L5R",
        "colab": {
          "base_uri": "https://localhost:8080/",
          "height": 34
        },
        "outputId": "eb923b07-1292-4302-dc64-73c1b649dc8b"
      },
      "source": [
        "fruits = {\"apple\", \"banana\", \"cherry\"}\n",
        "\n",
        "fruits.discard(\"banana\")\n",
        "\n",
        "print(fruits)"
      ],
      "execution_count": null,
      "outputs": [
        {
          "output_type": "stream",
          "text": [
            "{'apple', 'cherry'}\n"
          ],
          "name": "stdout"
        }
      ]
    },
    {
      "cell_type": "code",
      "metadata": {
        "id": "ZIMD-9CI_8fP",
        "colab": {
          "base_uri": "https://localhost:8080/",
          "height": 34
        },
        "outputId": "9bd40aa6-10ab-4300-f298-1cac4b1f0796"
      },
      "source": [
        "x = {\"apple\", \"banana\", \"cherry\"}\n",
        "y = {\"google\", \"microsoft\", \"apple\"}\n",
        "\n",
        "z = x.intersection(y)\n",
        "\n",
        "print(z)"
      ],
      "execution_count": null,
      "outputs": [
        {
          "output_type": "stream",
          "text": [
            "{'apple'}\n"
          ],
          "name": "stdout"
        }
      ]
    },
    {
      "cell_type": "code",
      "metadata": {
        "id": "dgNCmlY8ABSB",
        "colab": {
          "base_uri": "https://localhost:8080/",
          "height": 34
        },
        "outputId": "1881216c-9418-4b6a-c045-42580a64f418"
      },
      "source": [
        "x = {\"a\", \"b\", \"c\"}\n",
        "y = {\"c\", \"d\", \"e\"}\n",
        "z = {\"f\", \"g\", \"c\"}\n",
        "\n",
        "result = x.intersection(y, z)\n",
        "\n",
        "print(result)"
      ],
      "execution_count": null,
      "outputs": [
        {
          "output_type": "stream",
          "text": [
            "{'c'}\n"
          ],
          "name": "stdout"
        }
      ]
    },
    {
      "cell_type": "code",
      "metadata": {
        "id": "qSYTniL8A_Kb",
        "colab": {
          "base_uri": "https://localhost:8080/",
          "height": 34
        },
        "outputId": "be859968-56a8-4f11-a97b-bb7c95acb4c9"
      },
      "source": [
        "# Remove the items that is not present in both x, and set y:\n",
        "\n",
        "x = {\"apple\", \"banana\", \"cherry\"}\n",
        "y = {\"google\", \"microsoft\", \"apple\"}\n",
        "\n",
        "x.intersection_update(y)\n",
        "\n",
        "print(x)"
      ],
      "execution_count": null,
      "outputs": [
        {
          "output_type": "stream",
          "text": [
            "{'apple'}\n"
          ],
          "name": "stdout"
        }
      ]
    },
    {
      "cell_type": "code",
      "metadata": {
        "id": "7C4YB6SJBNWO",
        "colab": {
          "base_uri": "https://localhost:8080/",
          "height": 34
        },
        "outputId": "cf8b218a-40c9-463a-e243-62b6ec175abc"
      },
      "source": [
        "# Return True if no items in set x is present in set y:\n",
        "\n",
        "x = {\"apple\", \"banana\", \"cherry\"}\n",
        "y = {\"google\", \"microsoft\", \"facebook\"}\n",
        "\n",
        "z = x.isdisjoint(y)\n",
        "\n",
        "print(z)"
      ],
      "execution_count": null,
      "outputs": [
        {
          "output_type": "stream",
          "text": [
            "True\n"
          ],
          "name": "stdout"
        }
      ]
    },
    {
      "cell_type": "code",
      "metadata": {
        "id": "9IuRZWYgBXdt",
        "colab": {
          "base_uri": "https://localhost:8080/",
          "height": 34
        },
        "outputId": "a0dec2d6-8c54-492d-cc64-f6d8e8df8889"
      },
      "source": [
        "# Return True if all items set x are present in set y:\n",
        "\n",
        "x = {\"a\", \"b\", \"c\"}\n",
        "y = {\"f\", \"e\", \"d\", \"c\", \"b\", \"a\"}\n",
        "\n",
        "z = x.issubset(y)\n",
        "\n",
        "print(z)"
      ],
      "execution_count": null,
      "outputs": [
        {
          "output_type": "stream",
          "text": [
            "True\n"
          ],
          "name": "stdout"
        }
      ]
    },
    {
      "cell_type": "code",
      "metadata": {
        "id": "Bo2R6xjSCKN8",
        "colab": {
          "base_uri": "https://localhost:8080/",
          "height": 34
        },
        "outputId": "2026e896-1d2a-4669-f7fa-98fe8050d6dd"
      },
      "source": [
        "# Return True if all items set y are present in set x:\n",
        "\n",
        "x = {\"f\", \"e\", \"d\", \"c\", \"b\", \"a\"}\n",
        "y = {\"a\", \"b\", \"c\"}\n",
        "\n",
        "z = x.issuperset(y)\n",
        "\n",
        "print(z)"
      ],
      "execution_count": null,
      "outputs": [
        {
          "output_type": "stream",
          "text": [
            "True\n"
          ],
          "name": "stdout"
        }
      ]
    },
    {
      "cell_type": "code",
      "metadata": {
        "id": "yO8hzFtGDvW-",
        "colab": {
          "base_uri": "https://localhost:8080/",
          "height": 34
        },
        "outputId": "2bedce57-c0f4-4d7c-bd9f-3515b5174a17"
      },
      "source": [
        "# Remove a random item from the set:\n",
        "\n",
        "fruits = {\"apple\", \"banana\", \"cherry\"}\n",
        "\n",
        "fruits.pop()\n",
        "\n",
        "print(fruits)"
      ],
      "execution_count": null,
      "outputs": [
        {
          "output_type": "stream",
          "text": [
            "{'banana', 'cherry'}\n"
          ],
          "name": "stdout"
        }
      ]
    },
    {
      "cell_type": "code",
      "metadata": {
        "id": "sJFEMmAHD27w",
        "colab": {
          "base_uri": "https://localhost:8080/",
          "height": 34
        },
        "outputId": "902e5068-ce3b-46fb-ccb2-66ace8434d33"
      },
      "source": [
        "# Remove \"banana\" from the set:\n",
        "\n",
        "fruits = {\"apple\", \"banana\", \"cherry\"}\n",
        "\n",
        "fruits.remove(\"banana\")\n",
        "\n",
        "print(fruits)"
      ],
      "execution_count": null,
      "outputs": [
        {
          "output_type": "stream",
          "text": [
            "{'apple', 'cherry'}\n"
          ],
          "name": "stdout"
        }
      ]
    },
    {
      "cell_type": "code",
      "metadata": {
        "id": "I3K4jQ1EEP78",
        "colab": {
          "base_uri": "https://localhost:8080/",
          "height": 34
        },
        "outputId": "1b14c2a9-b6a5-48de-bc3a-b54afbf1053a"
      },
      "source": [
        "# Return a set that contains all items from both sets, except items that are present in both sets:\n",
        "\n",
        "x = {\"apple\", \"banana\", \"cherry\"}\n",
        "y = {\"google\", \"microsoft\", \"apple\"}\n",
        "\n",
        "z = x.symmetric_difference(y)\n",
        "\n",
        "print(z)"
      ],
      "execution_count": null,
      "outputs": [
        {
          "output_type": "stream",
          "text": [
            "{'google', 'microsoft', 'banana', 'cherry'}\n"
          ],
          "name": "stdout"
        }
      ]
    },
    {
      "cell_type": "code",
      "metadata": {
        "id": "XRsqKWN0EYGO",
        "colab": {
          "base_uri": "https://localhost:8080/",
          "height": 34
        },
        "outputId": "38a0e3ae-4934-4e19-af8a-9501a6548d5b"
      },
      "source": [
        "# Remove the items that are present in both sets, AND insert the items that is not present in both sets:\n",
        "\n",
        "x = {\"apple\", \"banana\", \"cherry\"}\n",
        "y = {\"google\", \"microsoft\", \"apple\"}\n",
        "\n",
        "x.symmetric_difference_update(y)\n",
        "\n",
        "print(x)"
      ],
      "execution_count": null,
      "outputs": [
        {
          "output_type": "stream",
          "text": [
            "{'google', 'microsoft', 'banana', 'cherry'}\n"
          ],
          "name": "stdout"
        }
      ]
    },
    {
      "cell_type": "code",
      "metadata": {
        "id": "UXVE5JQ0E8PG",
        "colab": {
          "base_uri": "https://localhost:8080/",
          "height": 34
        },
        "outputId": "a8d52b9e-cae3-41a4-b4e4-56af7e270181"
      },
      "source": [
        "# Return a set that contains all items from both sets, duplicates are excluded:\n",
        "\n",
        "x = {\"apple\", \"banana\", \"cherry\"}\n",
        "y = {\"google\", \"microsoft\", \"apple\"}\n",
        "\n",
        "z = x.union(y)\n",
        "\n",
        "print(z)"
      ],
      "execution_count": null,
      "outputs": [
        {
          "output_type": "stream",
          "text": [
            "{'apple', 'banana', 'cherry', 'google', 'microsoft'}\n"
          ],
          "name": "stdout"
        }
      ]
    },
    {
      "cell_type": "code",
      "metadata": {
        "id": "TeIqjf8PFH9W",
        "colab": {
          "base_uri": "https://localhost:8080/",
          "height": 34
        },
        "outputId": "8c6292c6-aabe-4283-c0b5-13d4fe3b4bea"
      },
      "source": [
        "# Insert the items from set y into set x:\n",
        "\n",
        "x = {\"apple\", \"banana\", \"cherry\"}\n",
        "y = {\"google\", \"microsoft\", \"apple\"}\n",
        "\n",
        "x.update(y)\n",
        "\n",
        "print(x)"
      ],
      "execution_count": null,
      "outputs": [
        {
          "output_type": "stream",
          "text": [
            "{'apple', 'banana', 'cherry', 'google', 'microsoft'}\n"
          ],
          "name": "stdout"
        }
      ]
    },
    {
      "cell_type": "markdown",
      "metadata": {
        "id": "_QrpywTNGps7"
      },
      "source": [
        "## **Dictionary**\n",
        "\n",
        "A dictionary is a collection which is unordered, changeable and indexed. In Python dictionaries are written with curly brackets, and they have keys and values. Each key is separated from its value by a colon (:), the items are separated by commas.\n",
        "\n",
        "Dictionary Python berbeda dengan List ataupun Tuple. Karena setiap urutanya berisi key dan value. Setiap key dipisahkan dari value-nya oleh titik dua (:), item dipisahkan oleh koma, dan semuanya tertutup dalam kurung kurawal. Dictionary kosong tanpa barang ditulis hanya dengan dua kurung kurawal, seperti ini: {}.\n",
        "\n",
        "`nama_variabel = { \"key1\": \"value1\", \"key2\": \"value2\", \"key3\": \"value3\" }`\n",
        "\n",
        "atau dengan dict( )\n",
        "\n",
        "`nama = dict(key1 = value1, key2 = value2, key3 = value3)`\n",
        "\n",
        "Nilai kamus bisa berupa tipe apa pun, namun key harus berupa tipe data yang tidak berubah seperti string, angka, atau tupel.\n",
        "\n",
        "**<h4>The dict() Constructor</h4>**\n",
        "\n",
        "`thisdict = dict(brand=\"Ford\", model=\"Mustang\", year=1964)`\n",
        "`# note that keywords are not string literals`\n",
        "`# note the use of equals rather than colon for the assignment`\n",
        "`print(thisdict)`\n",
        "\n",
        "......................................................................................\n",
        "\n",
        "`dict.items()` -> untuk mengambil key dan value\n",
        "\n",
        "`dict.keys()` -> untuk mengambil key\n",
        "\n",
        "`dict.values()` -> untuk mengambil value"
      ]
    },
    {
      "cell_type": "code",
      "metadata": {
        "id": "e_yy6H6bGLon",
        "colab": {
          "base_uri": "https://localhost:8080/",
          "height": 122
        },
        "outputId": "1dd4222c-90b2-4dc5-bbe0-fbd910fc27f3"
      },
      "source": [
        "foo = { 1: \"Belajar\", 2: \"Python\", 3: \"di Duniailkom\" }\n",
        "bar = { \"mengapa\": \"Belajar\", \"apa\": \"Python\", \"dimana\": \"di Duniailkom\" }\n",
        "baz = { 1: \"Belajar\", \"apa\": \"Python\", \"dimana\": \"di Duniailkom\" }\n",
        " \n",
        "print(type(foo))\n",
        "print(type(bar))\n",
        "print(type(baz))\n",
        " \n",
        "print(foo)\n",
        "print(bar)\n",
        "print(baz)"
      ],
      "execution_count": null,
      "outputs": [
        {
          "output_type": "stream",
          "text": [
            "<class 'dict'>\n",
            "<class 'dict'>\n",
            "<class 'dict'>\n",
            "{1: 'Belajar', 2: 'Python', 3: 'di Duniailkom'}\n",
            "{'mengapa': 'Belajar', 'apa': 'Python', 'dimana': 'di Duniailkom'}\n",
            "{1: 'Belajar', 'apa': 'Python', 'dimana': 'di Duniailkom'}\n"
          ],
          "name": "stdout"
        }
      ]
    },
    {
      "cell_type": "code",
      "metadata": {
        "id": "kTiqPyQu_U-M",
        "colab": {
          "base_uri": "https://localhost:8080/",
          "height": 70
        },
        "outputId": "198b5da3-e4b7-4929-ee12-613788deea14"
      },
      "source": [
        "data = {'Name' : 'Bill', 'Age' : 20, 'Address' : 'Poros Malino'}\n",
        "print(data.keys())\n",
        "print(data.values())\n",
        "print(data.items())"
      ],
      "execution_count": null,
      "outputs": [
        {
          "output_type": "stream",
          "text": [
            "dict_keys(['Name', 'Age', 'Address'])\n",
            "dict_values(['Bill', 20, 'Poros Malino'])\n",
            "dict_items([('Name', 'Bill'), ('Age', 20), ('Address', 'Poros Malino')])\n"
          ],
          "name": "stdout"
        }
      ]
    },
    {
      "cell_type": "code",
      "metadata": {
        "id": "EDxKAw7k6PEV",
        "colab": {
          "base_uri": "https://localhost:8080/",
          "height": 54
        },
        "outputId": "c4937f2c-21f0-4c6e-f9ac-648c3ef25761"
      },
      "source": [
        "foo = { 1: \"Belajar\", \n",
        "        2: [\"Pascal\", \"C\", \"Python\"],\n",
        "        \"website\": \"Duniailkom\",\n",
        "        \"menyerah\" : False,\n",
        "        \"target\": 2020,\n",
        "        \"riwayat_sekolah\": {\n",
        "          \"SD\": \"SDN 3 Hijau Daun\",\n",
        "          \"SMP\": \"SMP 7 Hijau Lumut\",\n",
        "          \"SMA\": \"SMA 8 Hijau Rumput\"}\n",
        "      }\n",
        "       \n",
        "print(foo)"
      ],
      "execution_count": null,
      "outputs": [
        {
          "output_type": "stream",
          "text": [
            "{1: 'Belajar', 2: ['Pascal', 'C', 'Python'], 'website': 'Duniailkom', 'menyerah': False, 'target': 2020, 'riwayat_sekolah': {'SD': 'SDN 3 Hijau Daun', 'SMP': 'SMP 7 Hijau Lumut', 'SMA': 'SMA 8 Hijau Rumput'}}\n"
          ],
          "name": "stdout"
        }
      ]
    },
    {
      "cell_type": "markdown",
      "metadata": {
        "id": "k_veLh0QDkyk"
      },
      "source": [
        "### **Access Items**\n",
        "\n",
        "To access dictionary elements, you can use the square brackets along with the key to obtain its value.\n",
        "\n",
        "* with [key]\n",
        "* with get(key)"
      ]
    },
    {
      "cell_type": "code",
      "metadata": {
        "id": "Ay3bt7IPJxry",
        "colab": {
          "base_uri": "https://localhost:8080/",
          "height": 34
        },
        "outputId": "08ee507b-6919-4891-a3ee-b0a0f15c3279"
      },
      "source": [
        "dict_ = {'Name' : 'Bill', 'Age' : 20, 'Address' : 'Poros Malino'}\n",
        "print(dict_['Address'])"
      ],
      "execution_count": null,
      "outputs": [
        {
          "output_type": "stream",
          "text": [
            "Poros Malino\n"
          ],
          "name": "stdout"
        }
      ]
    },
    {
      "cell_type": "code",
      "metadata": {
        "id": "KjTI85rSG5Sl",
        "colab": {
          "base_uri": "https://localhost:8080/",
          "height": 52
        },
        "outputId": "97b6af69-5cc9-48ba-ed6c-ca2ff76ee92c"
      },
      "source": [
        "#Contoh cara membuat Dictionary pada Python\n",
        "\n",
        "bio = {'Name': 'Zara', 'Age': 7, 'Class': 'First'}\n",
        "print (\"bio['Name']: \", bio['Name'])\n",
        "print (\"bio['Age']: \", bio['Age'])"
      ],
      "execution_count": null,
      "outputs": [
        {
          "output_type": "stream",
          "text": [
            "bio['Name']:  Zara\n",
            "bio['Age']:  7\n"
          ],
          "name": "stdout"
        }
      ]
    },
    {
      "cell_type": "code",
      "metadata": {
        "id": "h-pKkP9c6ca2",
        "colab": {
          "base_uri": "https://localhost:8080/",
          "height": 34
        },
        "outputId": "2f7d4e25-9a69-407e-aa7c-2ec107946a6b"
      },
      "source": [
        "foo = { \"kegiatan\": \"Belajar Python\",\n",
        "        \"website\": \"Duniailkom\",\n",
        "        \"hasil\": \"Yakin bisa!\" }\n",
        " \n",
        "print(foo[\"website\"])"
      ],
      "execution_count": null,
      "outputs": [
        {
          "output_type": "stream",
          "text": [
            "Duniailkom\n"
          ],
          "name": "stdout"
        }
      ]
    },
    {
      "cell_type": "code",
      "metadata": {
        "id": "Xt8DhavHFufO",
        "colab": {
          "base_uri": "https://localhost:8080/",
          "height": 35
        },
        "outputId": "bab16f18-7c34-4ec2-de0d-267121f5de77"
      },
      "source": [
        "thisdict = {\n",
        "  \"brand\": \"Ford\",\n",
        "  \"model\": \"Mustang\",\n",
        "  \"year\": 1964\n",
        "}\n",
        "x = thisdict.get(\"model\")\n",
        "x"
      ],
      "execution_count": null,
      "outputs": [
        {
          "output_type": "execute_result",
          "data": {
            "application/vnd.google.colaboratory.intrinsic": {
              "type": "string"
            },
            "text/plain": [
              "'Mustang'"
            ]
          },
          "metadata": {
            "tags": []
          },
          "execution_count": 242
        }
      ]
    },
    {
      "cell_type": "markdown",
      "metadata": {
        "id": "oCjpnH6cDkym"
      },
      "source": [
        "### **Update Items**\n",
        "\n",
        "You can change the value of a specific item by referring to its key name.\n",
        "\n",
        "Anda dapat memperbarui Dictionary dengan menambahkan entri baru atau pasangan nilai kunci, memodifikasi entri yang ada, atau menghapus entri yang ada seperti ditunjukkan pada contoh sederhana yang diberikan di bawah ini."
      ]
    },
    {
      "cell_type": "code",
      "metadata": {
        "id": "vL9R0Zp5KPap",
        "colab": {
          "base_uri": "https://localhost:8080/",
          "height": 34
        },
        "outputId": "c75e54fd-4255-47e7-f600-bda6b6b59698"
      },
      "source": [
        "dict_ = {'Name' : 'Bill', 'Age' : 20, 'Address' : 'Poros Malino'}\n",
        "dict_['Name'] = 'Jeff'\n",
        "print(dict_)"
      ],
      "execution_count": null,
      "outputs": [
        {
          "output_type": "stream",
          "text": [
            "{'Name': 'Jeff', 'Age': 20, 'Address': 'Poros Malino'}\n"
          ],
          "name": "stdout"
        }
      ]
    },
    {
      "cell_type": "code",
      "metadata": {
        "id": "A4--yfjkHKRk",
        "colab": {
          "base_uri": "https://localhost:8080/",
          "height": 52
        },
        "outputId": "1fd3be4b-8468-40ae-8f6f-d9354f63e280"
      },
      "source": [
        "# Update dictionary python\n",
        "\n",
        "bio = {'Name': 'Zara', 'Age': 7, 'Class': 'First'}\n",
        "bio['Age'] = 8; # Mengubah entri yang sudah ada\n",
        "bio['School'] = \"DPS School\" # Menambah entri baru\n",
        "\n",
        "print (\"bio['Age']: \", bio['Age'])\n",
        "print (\"bio['School']: \", bio['School'])"
      ],
      "execution_count": null,
      "outputs": [
        {
          "output_type": "stream",
          "text": [
            "dict['Age']:  8\n",
            "dict['School']:  DPS School\n"
          ],
          "name": "stdout"
        }
      ]
    },
    {
      "cell_type": "markdown",
      "metadata": {
        "id": "024AqBrGYkkj"
      },
      "source": [
        "### **Adding Items**\n",
        "\n",
        "Adding an item to the dictionary is done by using a new index key and assigning a value to it"
      ]
    },
    {
      "cell_type": "code",
      "metadata": {
        "id": "W6vqr6PBYb9J",
        "colab": {
          "base_uri": "https://localhost:8080/",
          "height": 52
        },
        "outputId": "a40402db-d54b-47fa-bc66-8ea3efb89266"
      },
      "source": [
        "dict_ = {'Name' : 'Bill', 'Age' : 20, 'Address' : 'Poros Malino'}\n",
        "print(dict_)\n",
        "\n",
        "dict_['year_of_birth'] = 2000\n",
        "print(dict_)"
      ],
      "execution_count": null,
      "outputs": [
        {
          "output_type": "stream",
          "text": [
            "{'Name': 'Jeff', 'Age': 20, 'Address': 'Poros Malino'}\n",
            "{'Name': 'Jeff', 'Age': 20, 'Address': 'Poros Malino', 'year_of_birth': 2000}\n"
          ],
          "name": "stdout"
        }
      ]
    },
    {
      "cell_type": "code",
      "metadata": {
        "id": "iaGZvni86k09",
        "colab": {
          "base_uri": "https://localhost:8080/",
          "height": 54
        },
        "outputId": "34e6cc07-5ace-43b0-814d-66ea6122cffd"
      },
      "source": [
        "foo = { \"kegiatan\": \"Belajar Python\",\n",
        "        \"website\": \"Duniailkom\",\n",
        "        \"hasil\": \"Yakin bisa!\" }\n",
        " \n",
        "foo[\"target\"] = 2020\n",
        "print(foo)"
      ],
      "execution_count": null,
      "outputs": [
        {
          "output_type": "stream",
          "text": [
            "{'kegiatan': 'Belajar Python', 'website': 'Duniailkom', 'hasil': 'Yakin bisa!', 'target': 2020}\n"
          ],
          "name": "stdout"
        }
      ]
    },
    {
      "cell_type": "code",
      "metadata": {
        "id": "y0Og_K7iI22h",
        "colab": {
          "base_uri": "https://localhost:8080/",
          "height": 34
        },
        "outputId": "bb663d28-e067-4bd8-fa82-3ee0e8a6a8c8"
      },
      "source": [
        "thisdict = {\n",
        "  \"brand\": \"Ford\",\n",
        "  \"model\": \"Mustang\",\n",
        "  \"year\": 1964\n",
        "}\n",
        "thisdict[\"color\"] = \"red\"\n",
        "print(thisdict)"
      ],
      "execution_count": null,
      "outputs": [
        {
          "output_type": "stream",
          "text": [
            "{'brand': 'Ford', 'model': 'Mustang', 'year': 1964, 'color': 'red'}\n"
          ],
          "name": "stdout"
        }
      ]
    },
    {
      "cell_type": "markdown",
      "metadata": {
        "id": "OT3UedxEbThy"
      },
      "source": [
        "### **Removing Items**\n",
        "\n",
        "There are several methods to remove items from a dictionary.\n",
        "\n",
        "* pop()\n",
        "* popitem()\n",
        "* del\n",
        "* clear()"
      ]
    },
    {
      "cell_type": "markdown",
      "metadata": {
        "id": "uoviio2WIHs8"
      },
      "source": [
        "The **pop()** method removes the item with the specified key name"
      ]
    },
    {
      "cell_type": "code",
      "metadata": {
        "id": "ktNEWMGZY4-7",
        "colab": {
          "base_uri": "https://localhost:8080/",
          "height": 34
        },
        "outputId": "5d2a2e59-e101-4a3d-c162-077fd4ec8408"
      },
      "source": [
        "dict_={\n",
        "    'Name' : 'Bill', \n",
        "    'Age' : 20, \n",
        "    'Address' : 'Poros Malino',\n",
        "    'year_of_birth' : 2000\n",
        "}\n",
        "\n",
        "dict_.pop('Age')\n",
        "print(dict_)"
      ],
      "execution_count": null,
      "outputs": [
        {
          "output_type": "stream",
          "text": [
            "{'Name': 'Bill', 'Address': 'Poros Malino', 'year_of_birth': 2000}\n"
          ],
          "name": "stdout"
        }
      ]
    },
    {
      "cell_type": "markdown",
      "metadata": {
        "id": "R8sF0LfJb5SJ"
      },
      "source": [
        "The **popitem()** method removes the last inserted item."
      ]
    },
    {
      "cell_type": "code",
      "metadata": {
        "id": "r48l7i7ebzdo",
        "colab": {
          "base_uri": "https://localhost:8080/",
          "height": 34
        },
        "outputId": "01ace260-d56e-4ddf-f7e0-cba2de35b3de"
      },
      "source": [
        "dict_={\n",
        "    'Name' : 'Bill', \n",
        "    'Age' : 20, \n",
        "    'Address' : 'Poros Malino',\n",
        "    'year_of_birth' : 2000\n",
        "}\n",
        "\n",
        "dict_.popitem()\n",
        "print(dict_)"
      ],
      "execution_count": null,
      "outputs": [
        {
          "output_type": "stream",
          "text": [
            "{'Name': 'Bill', 'Age': 20, 'Address': 'Poros Malino'}\n"
          ],
          "name": "stdout"
        }
      ]
    },
    {
      "cell_type": "markdown",
      "metadata": {
        "id": "wQT8XeLAcZcs"
      },
      "source": [
        "The **del** keyword removes the item with the specified key name. The **del** keyword can also delete the dictionary completely."
      ]
    },
    {
      "cell_type": "code",
      "metadata": {
        "id": "Nb1vQm2LcKnb",
        "colab": {
          "base_uri": "https://localhost:8080/",
          "height": 34
        },
        "outputId": "15accb41-54e2-4661-ab13-b9b88a46f927"
      },
      "source": [
        "dict_={\n",
        "    'Name' : 'Bill', \n",
        "    'Age' : 20, \n",
        "    'Address' : 'Poros Malino',\n",
        "    'year_of_birth' : 2000\n",
        "}\n",
        "\n",
        "del dict_['Address']\n",
        "print(dict_)"
      ],
      "execution_count": null,
      "outputs": [
        {
          "output_type": "stream",
          "text": [
            "{'Name': 'Bill', 'Age': 20, 'year_of_birth': 2000}\n"
          ],
          "name": "stdout"
        }
      ]
    },
    {
      "cell_type": "markdown",
      "metadata": {
        "id": "qSxhtqp7cqDP"
      },
      "source": [
        "The **clear()** keyword empties the dictionary."
      ]
    },
    {
      "cell_type": "code",
      "metadata": {
        "id": "lWzBprafcg4s",
        "colab": {
          "base_uri": "https://localhost:8080/",
          "height": 34
        },
        "outputId": "b313943c-46c8-4e67-95b3-546720ae19d0"
      },
      "source": [
        "dict_={\n",
        "    'Name' : 'Bill', \n",
        "    'Age' : 20, \n",
        "    'Address' : 'Poros Malino',\n",
        "    'year_of_birth' : 2000\n",
        "}\n",
        "\n",
        "dict_.clear()\n",
        "print(dict_)"
      ],
      "execution_count": null,
      "outputs": [
        {
          "output_type": "stream",
          "text": [
            "{}\n"
          ],
          "name": "stdout"
        }
      ]
    },
    {
      "cell_type": "markdown",
      "metadata": {
        "id": "z5Wsi23tXhZB"
      },
      "source": [
        "### **Loop Through a Dictionary**\n",
        "\n",
        "You can loop through a dictionary by using a for loop.\n",
        "\n",
        "When looping through a dictionary, the return value are the keys of the dictionary, but there are methods to return the values as well.\n",
        "\n",
        "bisa memanfaatkan fungsi `.items()`, `.keys()` dan `.values()` "
      ]
    },
    {
      "cell_type": "code",
      "metadata": {
        "id": "QR3JoLjkQTIx"
      },
      "source": [
        "dict_ = {'Name' : 'Bill', 'Age' : 20, 'Address' : 'Poros Malino'}\n",
        "print(dict_)"
      ],
      "execution_count": null,
      "outputs": []
    },
    {
      "cell_type": "code",
      "metadata": {
        "id": "Iwfv4mOJVKx6",
        "colab": {
          "base_uri": "https://localhost:8080/",
          "height": 70
        },
        "outputId": "df4c2fba-28e6-4993-e055-5b1e4836504b"
      },
      "source": [
        "for key in dict_:\n",
        "    print(key)"
      ],
      "execution_count": null,
      "outputs": [
        {
          "output_type": "stream",
          "text": [
            "Name\n",
            "Age\n",
            "Address\n"
          ],
          "name": "stdout"
        }
      ]
    },
    {
      "cell_type": "code",
      "metadata": {
        "id": "6EpCYdhtX3QW",
        "colab": {
          "base_uri": "https://localhost:8080/",
          "height": 70
        },
        "outputId": "dc150a9c-d62f-4956-e859-4c64dab9e3f7"
      },
      "source": [
        "# To print value from dictionary :\n",
        "for key in dict_:\n",
        "    print(dict_[key])"
      ],
      "execution_count": null,
      "outputs": [
        {
          "output_type": "stream",
          "text": [
            "Jeff\n",
            "20\n",
            "Poros Malino\n"
          ],
          "name": "stdout"
        }
      ]
    },
    {
      "cell_type": "code",
      "metadata": {
        "id": "kZGgopwTYA5n",
        "colab": {
          "base_uri": "https://localhost:8080/",
          "height": 70
        },
        "outputId": "8817dc70-a544-46f6-fc67-1d739acf63a7"
      },
      "source": [
        "# Or use values() function\n",
        "for value in dict_.values():\n",
        "    print(value)"
      ],
      "execution_count": null,
      "outputs": [
        {
          "output_type": "stream",
          "text": [
            "Jeff\n",
            "20\n",
            "Poros Malino\n"
          ],
          "name": "stdout"
        }
      ]
    },
    {
      "cell_type": "code",
      "metadata": {
        "id": "VA3n9mOdYNrP",
        "colab": {
          "base_uri": "https://localhost:8080/",
          "height": 70
        },
        "outputId": "b48058a0-6951-43fc-a75f-5573b0148590"
      },
      "source": [
        "# Loop through both keys and values using items()\n",
        "for key, value in dict_.items():\n",
        "    print(key, value)"
      ],
      "execution_count": null,
      "outputs": [
        {
          "output_type": "stream",
          "text": [
            "Name Jeff\n",
            "Age 20\n",
            "Address Poros Malino\n"
          ],
          "name": "stdout"
        }
      ]
    },
    {
      "cell_type": "code",
      "metadata": {
        "colab": {
          "base_uri": "https://localhost:8080/"
        },
        "id": "olW_zj9kaw86",
        "outputId": "53872daa-1b88-4dab-f6c4-04eedfb64382"
      },
      "source": [
        "def count_letters(text):\n",
        "  result = {}\n",
        "  # Go through each letter in the text\n",
        "  for letter in text.lower():\n",
        "    # Check if the letter needs to be counted or not\n",
        "    if letter.isspace() or letter.isdecimal() or letter == \"!\":\n",
        "      continue\n",
        "    else:\n",
        "      if letter not in result:\n",
        "        result[letter] = 0\n",
        "      result[letter] += 1\n",
        "  return result\n",
        "\n",
        "print(count_letters(\"AaBbCc\"))\n",
        "# Should be {'a': 2, 'b': 2, 'c': 2}\n",
        "\n",
        "print(count_letters(\"Math is fun! 2+2=4\"))\n",
        "# Should be {'m': 1, 'a': 1, 't': 1, 'h': 1, 'i': 1, 's': 1, 'f': 1, 'u': 1, 'n': 1}\n",
        "\n",
        "print(count_letters(\"This is a sentence.\"))\n",
        "# Should be {'t': 2, 'h': 1, 'i': 2, 's': 3, 'a': 1, 'e': 3, 'n': 2, 'c': 1}"
      ],
      "execution_count": null,
      "outputs": [
        {
          "output_type": "stream",
          "text": [
            "{'a': 2, 'b': 2, 'c': 2}\n",
            "{'m': 1, 'a': 1, 't': 1, 'h': 1, 'i': 1, 's': 1, 'f': 1, 'u': 1, 'n': 1, '+': 1, '=': 1}\n",
            "{'t': 2, 'h': 1, 'i': 2, 's': 3, 'a': 1, 'e': 3, 'n': 2, 'c': 1, '.': 1}\n"
          ],
          "name": "stdout"
        }
      ]
    },
    {
      "cell_type": "markdown",
      "metadata": {
        "id": "eaJPkNYtGzgV"
      },
      "source": [
        "### **Check if Key Exists**"
      ]
    },
    {
      "cell_type": "code",
      "metadata": {
        "id": "z7aF6vHFG6Eq",
        "colab": {
          "base_uri": "https://localhost:8080/",
          "height": 34
        },
        "outputId": "ded96e87-4dc7-4461-ef67-da687e6fce52"
      },
      "source": [
        "thisdict = {\n",
        "  \"brand\": \"Ford\",\n",
        "  \"model\": \"Mustang\",\n",
        "  \"year\": 1964\n",
        "}\n",
        "if \"model\" in thisdict:\n",
        "  print(\"Yes, 'model' is one of the keys in the thisdict dictionary\")"
      ],
      "execution_count": null,
      "outputs": [
        {
          "output_type": "stream",
          "text": [
            "Yes, 'model' is one of the keys in the thisdict dictionary\n"
          ],
          "name": "stdout"
        }
      ]
    },
    {
      "cell_type": "markdown",
      "metadata": {
        "id": "OJbE5rPRqWQ7"
      },
      "source": [
        "### **Copy a Dictionary**\n",
        "\n",
        "You cannot copy a dictionary simply by typing dict2 = dict1, because: dict2 will only be a reference to dict1, and changes made in dict1 will automatically also be made in dict2.\n",
        "\n",
        "There are ways to make a copy, one way is to use the built-in Dictionary method copy()."
      ]
    },
    {
      "cell_type": "code",
      "metadata": {
        "id": "_SyMYwLgqd-O",
        "colab": {
          "base_uri": "https://localhost:8080/",
          "height": 34
        },
        "outputId": "a186eaf2-b88f-4590-a7f2-ce7eaad07394"
      },
      "source": [
        "# Make a copy of a dictionary with the copy() method:\n",
        "\n",
        "thisdict = {\n",
        "  \"brand\": \"Ford\",\n",
        "  \"model\": \"Mustang\",\n",
        "  \"year\": 1964\n",
        "}\n",
        "mydict = thisdict.copy()\n",
        "print(mydict)"
      ],
      "execution_count": null,
      "outputs": [
        {
          "output_type": "stream",
          "text": [
            "{'brand': 'Ford', 'model': 'Mustang', 'year': 1964}\n"
          ],
          "name": "stdout"
        }
      ]
    },
    {
      "cell_type": "code",
      "metadata": {
        "id": "9RVh4doxqjnr",
        "colab": {
          "base_uri": "https://localhost:8080/",
          "height": 34
        },
        "outputId": "ae5ef134-a3c0-4c88-c0b4-d76f0a9da89f"
      },
      "source": [
        "# Make a copy of a dictionary with the dict() function:\n",
        "\n",
        "thisdict = {\n",
        "  \"brand\": \"Ford\",\n",
        "  \"model\": \"Mustang\",\n",
        "  \"year\": 1964\n",
        "}\n",
        "mydict = dict(thisdict)\n",
        "print(mydict)"
      ],
      "execution_count": null,
      "outputs": [
        {
          "output_type": "stream",
          "text": [
            "{'brand': 'Ford', 'model': 'Mustang', 'year': 1964}\n"
          ],
          "name": "stdout"
        }
      ]
    },
    {
      "cell_type": "markdown",
      "metadata": {
        "id": "wvJTmuchQWpm"
      },
      "source": [
        "### **Concenate Dictionary**"
      ]
    },
    {
      "cell_type": "code",
      "metadata": {
        "colab": {
          "base_uri": "https://localhost:8080/"
        },
        "id": "lpyUFxKZQbe3",
        "outputId": "819df119-f241-40d7-aa48-94c2ad3e89bf"
      },
      "source": [
        "d1={'A':1,'B':2}\n",
        "d2={'C':3}\n",
        "d1.update(d2)\n",
        "print(\"Concatenated dictionary is:\")\n",
        "print(d1)"
      ],
      "execution_count": null,
      "outputs": [
        {
          "output_type": "stream",
          "text": [
            "Concatenated dictionary is:\n",
            "{'A': 1, 'B': 2, 'C': 3}\n"
          ],
          "name": "stdout"
        }
      ]
    },
    {
      "cell_type": "markdown",
      "metadata": {
        "id": "_hGZQmu4X5XK"
      },
      "source": [
        "### **Sorting Dictionary**"
      ]
    },
    {
      "cell_type": "code",
      "metadata": {
        "colab": {
          "base_uri": "https://localhost:8080/"
        },
        "id": "PV2UyESgYC5p",
        "outputId": "5b64c3e7-c880-4598-c8b6-9f7d2f83e84a"
      },
      "source": [
        "x = {1: 2, 3: 4, 4: 3, 2: 1, 0: 0}\n",
        "{k: v for k, v in sorted(x.items(), key=lambda item: item[1])}\n"
      ],
      "execution_count": null,
      "outputs": [
        {
          "output_type": "execute_result",
          "data": {
            "text/plain": [
              "{0: 0, 1: 2, 2: 1, 3: 4, 4: 3}"
            ]
          },
          "metadata": {
            "tags": []
          },
          "execution_count": 1
        }
      ]
    },
    {
      "cell_type": "code",
      "metadata": {
        "colab": {
          "base_uri": "https://localhost:8080/"
        },
        "id": "qS_zYWxwYM53",
        "outputId": "fecf7554-bf11-42c6-f369-781c1fa3a889"
      },
      "source": [
        "dict(sorted(x.items(), key=lambda item: item[1]))"
      ],
      "execution_count": null,
      "outputs": [
        {
          "output_type": "execute_result",
          "data": {
            "text/plain": [
              "{0: 0, 1: 2, 2: 1, 3: 4, 4: 3}"
            ]
          },
          "metadata": {
            "tags": []
          },
          "execution_count": 2
        }
      ]
    },
    {
      "cell_type": "code",
      "metadata": {
        "colab": {
          "base_uri": "https://localhost:8080/"
        },
        "id": "rTHUnkrvYePi",
        "outputId": "9db1bc41-b0c5-40b4-ab4b-9c207c53dc21"
      },
      "source": [
        "import operator\n",
        "x = {1: 2, 3: 4, 4: 3, 2: 1, 0: 0}\n",
        "sorted_x = sorted(x.items(), key=operator.itemgetter(1))\n",
        "sorted_x"
      ],
      "execution_count": null,
      "outputs": [
        {
          "output_type": "execute_result",
          "data": {
            "text/plain": [
              "[(0, 0), (2, 1), (1, 2), (4, 3), (3, 4)]"
            ]
          },
          "metadata": {
            "tags": []
          },
          "execution_count": 4
        }
      ]
    },
    {
      "cell_type": "code",
      "metadata": {
        "colab": {
          "base_uri": "https://localhost:8080/"
        },
        "id": "O9VUSKKRuQwN",
        "outputId": "079884f7-4db6-4032-eeb5-f9d25031c592"
      },
      "source": [
        "import operator\n",
        "x = {\"A\": 2, \"D\": 4, \"C\": 3, \"B\": 1, \"E\": 0}\n",
        "sorted_x = sorted(x.items(), key=operator.itemgetter(0))\n",
        "sorted_x"
      ],
      "execution_count": null,
      "outputs": [
        {
          "output_type": "execute_result",
          "data": {
            "text/plain": [
              "[('A', 2), ('B', 1), ('C', 3), ('D', 4), ('E', 0)]"
            ]
          },
          "metadata": {
            "tags": []
          },
          "execution_count": 5
        }
      ]
    },
    {
      "cell_type": "markdown",
      "metadata": {
        "id": "z3NMC7N2qpMm"
      },
      "source": [
        "### **Nested Dictionaries**"
      ]
    },
    {
      "cell_type": "code",
      "metadata": {
        "id": "09osP2w1quJZ"
      },
      "source": [
        "myfamily = {\n",
        "  \"child1\" : {\n",
        "    \"name\" : \"Emil\",\n",
        "    \"year\" : 2004\n",
        "  },\n",
        "  \"child2\" : {\n",
        "    \"name\" : \"Tobias\",\n",
        "    \"year\" : 2007\n",
        "  },\n",
        "  \"child3\" : {\n",
        "    \"name\" : \"Linus\",\n",
        "    \"year\" : 2011\n",
        "  }\n",
        "}"
      ],
      "execution_count": null,
      "outputs": []
    },
    {
      "cell_type": "code",
      "metadata": {
        "id": "1JgOWBaAq2HX"
      },
      "source": [
        "child1 = {\n",
        "  \"name\" : \"Emil\",\n",
        "  \"year\" : 2004\n",
        "}\n",
        "child2 = {\n",
        "  \"name\" : \"Tobias\",\n",
        "  \"year\" : 2007\n",
        "}\n",
        "child3 = {\n",
        "  \"name\" : \"Linus\",\n",
        "  \"year\" : 2011\n",
        "}\n",
        "\n",
        "myfamily = {\n",
        "  \"child1\" : child1,\n",
        "  \"child2\" : child2,\n",
        "  \"child3\" : child3\n",
        "}"
      ],
      "execution_count": null,
      "outputs": []
    },
    {
      "cell_type": "markdown",
      "metadata": {
        "id": "bw0tWl_-Dkyq"
      },
      "source": [
        "### **Build-In Functions Dictionary**\n",
        "\n",
        "**<h4>Python Function<h4>**\n",
        "\n",
        "* `len(dict)``\n",
        "\n",
        "    Memberikan panjang total Dictionary. Ini sama dengan jumlah item dalam Dictionary.\n",
        "\n",
        "* `str(dict)`\n",
        "\n",
        "    Menghasilkan representasi string yang dapat dicetak dari Dictionary\n",
        "\n",
        "* `type(variable)`\n",
        "\n",
        "    Mengembalikan tipe variabel yang lulus. Jika variabel yang dilewatkan adalah Dictionary, maka akan mengembalikan tipe Dictionary.\n",
        "\n",
        "\n",
        "**<h4>Python Methods<h4>**\n",
        "\n",
        "* `dict.clear()`\n",
        "\n",
        "    Menghapus semua elemen Dictionary\n",
        "\n",
        "* `dict.copy()`\n",
        "\n",
        "    Mengembalikan salinan Dictionary\n",
        "\n",
        "* `dict.fromkeys()`\n",
        "\n",
        "    `dict.fromkeys(keys, value)`\n",
        "\n",
        "    Buat Dictionary baru dengan kunci dari seq dan nilai yang disetel ke nilai.\n",
        "\n",
        "* `dict.get(key, default=None)`\n",
        "\n",
        "    For key, nilai pengembalian atau default jika tombol tidak ada dalam Dictionary\n",
        "\n",
        "* `dict.has_key(key)`\n",
        "\n",
        "    Mengembalikan true jika key dalam Dictionary, false sebaliknya\n",
        "\n",
        "* `dict.items()`\n",
        "\n",
        "    Mengembalikan daftar dari pasangan tuple dictionary (key, value)\n",
        "\n",
        "* `dict.keys()`\n",
        "\n",
        "    Mengembalikan daftar key dictionary\n",
        "\n",
        "* `dict.setdefault(key, default=None)`\t\n",
        "\n",
        "    Mirip dengan get (), tapi akan mengatur dict [key] = default jika kunci belum ada di dict\n",
        "\n",
        "* `dict.update(dict2)`\n",
        "\n",
        "    Menambahkan pasangan kunci kata kunci dict2 ke dict\n",
        "\n",
        "* `dict.values()`\n",
        "\n",
        "    Mengembalikan daftar nilai dictionary\n",
        "\n"
      ]
    },
    {
      "cell_type": "code",
      "metadata": {
        "id": "9_71wC6K_oA7",
        "colab": {
          "base_uri": "https://localhost:8080/",
          "height": 34
        },
        "outputId": "ea77dcb6-c1ca-40a7-a872-c7cb7c695796"
      },
      "source": [
        "# Create a dictionary with 3 keys, all with the value 0:\n",
        "\n",
        "x = ('key1', 'key2', 'key3')\n",
        "y = 0\n",
        "\n",
        "thisdict = dict.fromkeys(x, y)\n",
        "\n",
        "print(thisdict)"
      ],
      "execution_count": null,
      "outputs": [
        {
          "output_type": "stream",
          "text": [
            "{'key1': 0, 'key2': 0, 'key3': 0}\n"
          ],
          "name": "stdout"
        }
      ]
    },
    {
      "cell_type": "code",
      "metadata": {
        "id": "nwpwaEpy_3Z_",
        "colab": {
          "base_uri": "https://localhost:8080/",
          "height": 34
        },
        "outputId": "bc19a656-2718-45ad-8280-f437f70307f2"
      },
      "source": [
        "x = ('key1', 'key2', 'key3')\n",
        "\n",
        "thisdict = dict.fromkeys(x)\n",
        "\n",
        "print(thisdict)"
      ],
      "execution_count": null,
      "outputs": [
        {
          "output_type": "stream",
          "text": [
            "{'key1': None, 'key2': None, 'key3': None}\n"
          ],
          "name": "stdout"
        }
      ]
    },
    {
      "cell_type": "code",
      "metadata": {
        "id": "aNv2jVhU_-sZ",
        "colab": {
          "base_uri": "https://localhost:8080/",
          "height": 34
        },
        "outputId": "c9fccc6d-d212-44f1-a233-1d561c879ad9"
      },
      "source": [
        "car = {\n",
        "  \"brand\": \"Ford\",\n",
        "  \"model\": \"Mustang\",\n",
        "  \"year\": 1964\n",
        "}\n",
        "\n",
        "x = car.items()\n",
        "\n",
        "print(x)"
      ],
      "execution_count": null,
      "outputs": [
        {
          "output_type": "stream",
          "text": [
            "dict_items([('brand', 'Ford'), ('model', 'Mustang'), ('year', 1964)])\n"
          ],
          "name": "stdout"
        }
      ]
    },
    {
      "cell_type": "code",
      "metadata": {
        "id": "T_KuSpBiTZbd",
        "colab": {
          "base_uri": "https://localhost:8080/",
          "height": 34
        },
        "outputId": "b7bd0b68-d22d-4a62-c7e7-1295f4c9bb07"
      },
      "source": [
        "car = {\n",
        "  \"brand\": \"Ford\",\n",
        "  \"model\": \"Mustang\",\n",
        "  \"year\": 1964\n",
        "}\n",
        "\n",
        "x = car.keys()\n",
        "\n",
        "print(x)"
      ],
      "execution_count": null,
      "outputs": [
        {
          "output_type": "stream",
          "text": [
            "dict_keys(['brand', 'model', 'year'])\n"
          ],
          "name": "stdout"
        }
      ]
    },
    {
      "cell_type": "code",
      "metadata": {
        "id": "YbKcaY7uTZFV",
        "colab": {
          "base_uri": "https://localhost:8080/",
          "height": 34
        },
        "outputId": "06557f3d-5cb0-4a90-c4c7-42b3f00368f0"
      },
      "source": [
        "car = {\n",
        "  \"brand\": \"Ford\",\n",
        "  \"model\": \"Mustang\",\n",
        "  \"year\": 1964\n",
        "}\n",
        "\n",
        "x = car.values()\n",
        "\n",
        "print(x)"
      ],
      "execution_count": null,
      "outputs": [
        {
          "output_type": "stream",
          "text": [
            "dict_values(['Ford', 'Mustang', 1964])\n"
          ],
          "name": "stdout"
        }
      ]
    },
    {
      "cell_type": "code",
      "metadata": {
        "id": "tl83kGuLTsy0",
        "colab": {
          "base_uri": "https://localhost:8080/",
          "height": 34
        },
        "outputId": "39237215-d106-4b06-8524-038379f9eb1b"
      },
      "source": [
        "car = {\n",
        "  \"brand\": \"Ford\",\n",
        "  \"model\": \"Mustang\",\n",
        "  \"year\": 1964\n",
        "}\n",
        "\n",
        "car.update({\"color\": \"White\"})\n",
        "\n",
        "print(car)"
      ],
      "execution_count": null,
      "outputs": [
        {
          "output_type": "stream",
          "text": [
            "{'brand': 'Ford', 'model': 'Mustang', 'year': 1964, 'color': 'White'}\n"
          ],
          "name": "stdout"
        }
      ]
    },
    {
      "cell_type": "code",
      "metadata": {
        "colab": {
          "base_uri": "https://localhost:8080/"
        },
        "id": "SgVkDAG2ldBr",
        "outputId": "c019330d-073a-4a7c-a08f-5261680fce48"
      },
      "source": [
        "wardrobe = {'shirt': ['red', 'blue', 'white'], 'jeans': ['blue', 'black']}\n",
        "new_items = {'jeans': ['white'], 'scarf': ['yellow'], 'socks': ['black', 'brown']}\n",
        "wardrobe.update(new_items)\n",
        "print(wardrobe)"
      ],
      "execution_count": null,
      "outputs": [
        {
          "output_type": "stream",
          "text": [
            "{'shirt': ['red', 'blue', 'white'], 'jeans': ['white'], 'scarf': ['yellow'], 'socks': ['black', 'brown']}\n"
          ],
          "name": "stdout"
        }
      ]
    },
    {
      "cell_type": "code",
      "metadata": {
        "id": "95P3WTqdxpbu",
        "colab": {
          "base_uri": "https://localhost:8080/",
          "height": 34
        },
        "outputId": "201bdb87-ddf8-4565-dff3-f583f2fa633f"
      },
      "source": [
        "# Get the value of the \"model\" item:\n",
        "car = {\n",
        "  \"brand\": \"Ford\",\n",
        "  \"model\": \"Mustang\",\n",
        "  \"year\": 1964\n",
        "}\n",
        "\n",
        "x = car.setdefault(\"model\", \"Bronco\")\n",
        "\n",
        "print(x)"
      ],
      "execution_count": null,
      "outputs": [
        {
          "output_type": "stream",
          "text": [
            "Mustang\n"
          ],
          "name": "stdout"
        }
      ]
    },
    {
      "cell_type": "code",
      "metadata": {
        "id": "KuBFCgjdx2Nn",
        "colab": {
          "base_uri": "https://localhost:8080/",
          "height": 34
        },
        "outputId": "9efe71c6-2217-4042-8061-f14c53923072"
      },
      "source": [
        "# Remove the last item from the dictionary:\n",
        "\n",
        "car = {\n",
        "  \"brand\": \"Ford\",\n",
        "  \"model\": \"Mustang\",\n",
        "  \"year\": 1964\n",
        "}\n",
        "\n",
        "car.popitem()\n",
        "\n",
        "print(car)"
      ],
      "execution_count": null,
      "outputs": [
        {
          "output_type": "stream",
          "text": [
            "{'brand': 'Ford', 'model': 'Mustang'}\n"
          ],
          "name": "stdout"
        }
      ]
    },
    {
      "cell_type": "markdown",
      "metadata": {
        "id": "PzNbouAk0_p1"
      },
      "source": [
        "### **Grouping Dict**"
      ]
    },
    {
      "cell_type": "code",
      "metadata": {
        "colab": {
          "base_uri": "https://localhost:8080/"
        },
        "id": "3YzqJ69f1Gqb",
        "outputId": "88d99cfb-cf62-4cff-e7cc-5c753fb3de0a"
      },
      "source": [
        "def groups_per_user(group_dictionary):\n",
        "\tuser_groups = {}\n",
        "\t# Go through group_dictionary\n",
        "\tfor group, user in group_dictionary.items():\n",
        "\t\t# Now go through the users in the group\n",
        "\t\tfor item in user:\n",
        "\t\t\tif item not in user_groups:\n",
        "\t\t\t\tuser_groups[item] = []\n",
        "\t\t\tuser_groups[item].append(group)\n",
        "\n",
        "\treturn(user_groups)\n",
        "\n",
        "print(groups_per_user({\"local\": [\"admin\", \"userA\"],\n",
        "\t\t\"public\":  [\"admin\", \"userB\"],\n",
        "\t\t\"administrator\": [\"admin\"] }))"
      ],
      "execution_count": null,
      "outputs": [
        {
          "output_type": "stream",
          "text": [
            "{'admin': ['local', 'public', 'administrator'], 'userA': ['local'], 'userB': ['public']}\n"
          ],
          "name": "stdout"
        }
      ]
    },
    {
      "cell_type": "code",
      "metadata": {
        "colab": {
          "base_uri": "https://localhost:8080/"
        },
        "id": "wRKwwlUE1aHf",
        "outputId": "bdfad201-6dc1-49ec-ff74-53d5944749bf"
      },
      "source": [
        "def count_letters(text):\n",
        "  result = {}\n",
        "  # Go through each letter in the text\n",
        "  for letter in text.lower():\n",
        "    # Check if the letter needs to be counted or not\n",
        "    if letter.isalpha():\n",
        "      if letter not in result:\n",
        "        result[letter] = 0\n",
        "      result[letter] += 1\n",
        "  return result\n",
        "\n",
        "print(count_letters(\"AaBbCc\"))\n",
        "# Should be {'a': 2, 'b': 2, 'c': 2}\n",
        "\n",
        "print(count_letters(\"Math is fun! 2+2=4\"))\n",
        "# Should be {'m': 1, 'a': 1, 't': 1, 'h': 1, 'i': 1, 's': 1, 'f': 1, 'u': 1, 'n': 1}\n",
        "\n",
        "print(count_letters(\"This is a sentence.\"))\n",
        "# Should be {'t': 2, 'h': 1, 'i': 2, 's': 3, 'a': 1, 'e': 3, 'n': 2, 'c': 1}"
      ],
      "execution_count": null,
      "outputs": [
        {
          "output_type": "stream",
          "text": [
            "{'a': 2, 'b': 2, 'c': 2}\n",
            "{'m': 1, 'a': 1, 't': 1, 'h': 1, 'i': 1, 's': 1, 'f': 1, 'u': 1, 'n': 1}\n",
            "{'t': 2, 'h': 1, 'i': 2, 's': 3, 'a': 1, 'e': 3, 'n': 2, 'c': 1}\n"
          ],
          "name": "stdout"
        }
      ]
    },
    {
      "cell_type": "markdown",
      "metadata": {
        "id": "b5NtCU2H-wuB"
      },
      "source": [
        "## **Teknik Looping Data Struktur**"
      ]
    },
    {
      "cell_type": "markdown",
      "metadata": {
        "id": "ntLEvl4BAHMj"
      },
      "source": [
        "### ***Enumerate(List) --> Index, Value***"
      ]
    },
    {
      "cell_type": "code",
      "metadata": {
        "id": "tlyLG-1D-1zk",
        "colab": {
          "base_uri": "https://localhost:8080/",
          "height": 122
        },
        "outputId": "b4cac986-f3b7-4210-8898-bb737604e2f2"
      },
      "source": [
        "# teknik looping\n",
        "\n",
        "nama_band = ['Payung Teduh',\n",
        "             'Fourtwnty',\n",
        "             'Dialog Dini Hari',\n",
        "             'Mr. Sonjaya',\n",
        "             'Parahyena',\n",
        "             'Syahrini']\n",
        "\n",
        "kumpulan_lagu = ['Akad',\n",
        "        'Zona Nyaman',\n",
        "        'Rumahku',\n",
        "        'Sang Filsuf',\n",
        "        'Sindoro',\n",
        "        'Jodohku']\n",
        "\n",
        "# enumerate\n",
        "\n",
        "for index,band in enumerate(nama_band):\n",
        "    print(index,':',band)\n"
      ],
      "execution_count": null,
      "outputs": [
        {
          "output_type": "stream",
          "text": [
            "0 : Payung Teduh\n",
            "1 : Fourtwnty\n",
            "2 : Dialog Dini Hari\n",
            "3 : Mr. Sonjaya\n",
            "4 : Parahyena\n",
            "5 : Syahrini\n"
          ],
          "name": "stdout"
        }
      ]
    },
    {
      "cell_type": "code",
      "metadata": {
        "id": "UprA2Sj7GLfA",
        "colab": {
          "base_uri": "https://localhost:8080/",
          "height": 202
        },
        "outputId": "36139ca8-914c-4985-a730-9b3f6e462cf7"
      },
      "source": [
        "print(\"Contoh Foor Loop\")\n",
        "angka = [12, 34, 56, 78, 90, 13, 35, 57]\n",
        "print(angka)\n",
        "print(\"Mengurutkan :\")\n",
        "for index, value in enumerate(sorted(angka)) :\n",
        "  print(\"Nilai ke-\"+str(index)+\" = \"+ str(value))"
      ],
      "execution_count": null,
      "outputs": [
        {
          "output_type": "stream",
          "text": [
            "Contoh Foor Loop\n",
            "[12, 34, 56, 78, 90, 13, 35, 57]\n",
            "Mengurutkan :\n",
            "Nilai ke-0 = 12\n",
            "Nilai ke-1 = 13\n",
            "Nilai ke-2 = 34\n",
            "Nilai ke-3 = 35\n",
            "Nilai ke-4 = 56\n",
            "Nilai ke-5 = 57\n",
            "Nilai ke-6 = 78\n",
            "Nilai ke-7 = 90\n"
          ],
          "name": "stdout"
        }
      ]
    },
    {
      "cell_type": "code",
      "metadata": {
        "id": "0GwMze_NGV6H",
        "colab": {
          "base_uri": "https://localhost:8080/",
          "height": 101
        },
        "outputId": "2e501e4a-9588-4591-f411-4568ee97cdf6"
      },
      "source": [
        "obj_list= [1, 16, 11, 10, 5]\n",
        "\n",
        "# lengkapi code di bawah\n",
        "for index, value in enumerate(obj_list):\n",
        "    print(index*value)"
      ],
      "execution_count": null,
      "outputs": [
        {
          "output_type": "stream",
          "text": [
            "0\n",
            "16\n",
            "22\n",
            "30\n",
            "20\n"
          ],
          "name": "stdout"
        }
      ]
    },
    {
      "cell_type": "markdown",
      "metadata": {
        "id": "I7qQ0dY5AJV6"
      },
      "source": [
        "### ***Zip(list, list) --> itemlist, itemlist***"
      ]
    },
    {
      "cell_type": "code",
      "metadata": {
        "id": "eY6N-K4B_F3N",
        "colab": {
          "base_uri": "https://localhost:8080/",
          "height": 122
        },
        "outputId": "d3eabc1c-70e6-4c4e-f79a-f63467be693d"
      },
      "source": [
        "# teknik looping\n",
        "\n",
        "nama_band = ['Payung Teduh',\n",
        "             'Fourtwnty',\n",
        "             'Dialog Dini Hari',\n",
        "             'Mr. Sonjaya',\n",
        "             'Parahyena',\n",
        "             'Syahrini']\n",
        "\n",
        "kumpulan_lagu = ['Akad',\n",
        "        'Zona Nyaman',\n",
        "        'Rumahku',\n",
        "        'Sang Filsuf',\n",
        "        'Sindoro',\n",
        "        'Jodohku']\n",
        "\n",
        "# zip\n",
        "\n",
        "for band,lagu in zip(nama_band,kumpulan_lagu):\n",
        "    print(band,'menyanyikan lagu yang berjudul:',lagu)\n"
      ],
      "execution_count": null,
      "outputs": [
        {
          "output_type": "stream",
          "text": [
            "Payung Teduh menyanyikan lagu yang berjudul: Akad\n",
            "Fourtwnty menyanyikan lagu yang berjudul: Zona Nyaman\n",
            "Dialog Dini Hari menyanyikan lagu yang berjudul: Rumahku\n",
            "Mr. Sonjaya menyanyikan lagu yang berjudul: Sang Filsuf\n",
            "Parahyena menyanyikan lagu yang berjudul: Sindoro\n",
            "Syahrini menyanyikan lagu yang berjudul: Jodohku\n"
          ],
          "name": "stdout"
        }
      ]
    },
    {
      "cell_type": "markdown",
      "metadata": {
        "id": "yMLuN_wsAQfX"
      },
      "source": [
        "### ***Set***"
      ]
    },
    {
      "cell_type": "code",
      "metadata": {
        "id": "0pXYK-Yq_KJB",
        "colab": {
          "base_uri": "https://localhost:8080/",
          "height": 140
        },
        "outputId": "6c9934a4-fea8-435b-822a-665945da80dc"
      },
      "source": [
        "# teknik looping\n",
        "\n",
        "nama_band = ['Payung Teduh',\n",
        "             'Fourtwnty',\n",
        "             'Dialog Dini Hari',\n",
        "             'Mr. Sonjaya',\n",
        "             'Parahyena',\n",
        "             'Syahrini']\n",
        "\n",
        "kumpulan_lagu = ['Akad',\n",
        "        'Zona Nyaman',\n",
        "        'Rumahku',\n",
        "        'Sang Filsuf',\n",
        "        'Sindoro',\n",
        "        'Jodohku']\n",
        "\n",
        "# set\n",
        "playlist = {'baby baby', 'ada apa dengan cinta', 'cenat-cenut', 'jaran goyang', 'jaran goyang', 'gorgom', 'kuda', 'kucing'}\n",
        "\n",
        "for lagu in sorted(playlist):\n",
        "    print(lagu)\n"
      ],
      "execution_count": null,
      "outputs": [
        {
          "output_type": "stream",
          "text": [
            "ada apa dengan cinta\n",
            "baby baby\n",
            "cenat-cenut\n",
            "gorgom\n",
            "jaran goyang\n",
            "kucing\n",
            "kuda\n"
          ],
          "name": "stdout"
        }
      ]
    },
    {
      "cell_type": "markdown",
      "metadata": {
        "id": "17guOesdAU-n"
      },
      "source": [
        "### ***Items, keys, values --> dict***"
      ]
    },
    {
      "cell_type": "code",
      "metadata": {
        "id": "mokT6GWf_OHM",
        "colab": {
          "base_uri": "https://localhost:8080/",
          "height": 266
        },
        "outputId": "ff906029-88de-4d4f-cbff-641696449fac"
      },
      "source": [
        "# dictionary\n",
        "\n",
        "print('='*100)\n",
        "\n",
        "playlist2 = {'Payung Teduh': 'akad',\n",
        "             'Fourtwnty':'Zona Nyaman',\n",
        "             'Dialog Dini Hari':'Rumahku',\n",
        "             }\n",
        "\n",
        "for i,v in playlist2.items():\n",
        "    print(i,'lagunya:',v)\n",
        "\n",
        "for i in reversed(range(1,10,1)):\n",
        "    print(i)"
      ],
      "execution_count": null,
      "outputs": [
        {
          "output_type": "stream",
          "text": [
            "====================================================================================================\n",
            "Payung Teduh lagunya: akad\n",
            "Fourtwnty lagunya: Zona Nyaman\n",
            "Dialog Dini Hari lagunya: Rumahku\n",
            "9\n",
            "8\n",
            "7\n",
            "6\n",
            "5\n",
            "4\n",
            "3\n",
            "2\n",
            "1\n"
          ],
          "name": "stdout"
        }
      ]
    },
    {
      "cell_type": "markdown",
      "metadata": {
        "id": "jCyP-zsYjwsh"
      },
      "source": [
        "# **Let's play a game**\n",
        "\n",
        "## **Hangman**\n",
        "\n",
        "This is a Python script of the classic game \"Hangman\". The word to guess is represented by a row of dashes. If the player guess a letter which exists in the word, the script writes it in all its correct positions. The player has 10 turns to guess the word. You can easily customize the game by changing the variables."
      ]
    },
    {
      "cell_type": "code",
      "metadata": {
        "id": "Vz1XeOIfcvrO",
        "colab": {
          "base_uri": "https://localhost:8080/",
          "height": 703
        },
        "outputId": "363f1f34-07ea-4454-93b6-a80ebdc25ad4"
      },
      "source": [
        "words = ['think', 'could', 'should', 'become', 'leave', 'begin', 'start', 'might',\n",
        " 'believe', 'bring', 'happen', 'write', 'provide', 'stand', 'include', 'continue',\n",
        " 'learn', 'change', 'understand', 'watch', 'follow', 'create', 'speak', 'allow',\n",
        " 'spend', 'offer', 'remember', 'consider', 'appear', 'serve', 'expect', 'build',\n",
        " 'reach']\n",
        "\n",
        "import random\n",
        "word = random.choice(words) # here we set the secret\n",
        "\n",
        "guesses = ''                # creates an variable with an empty value\n",
        "\n",
        "turns = 10                  # determine the number of turns\n",
        "\n",
        "while turns > 0:            # check if the turns are more than zero\n",
        "    failed = 0              # make a counter that starts with zero\n",
        "  \n",
        "    for char in word:       # for every character in secret_word  \n",
        "\n",
        "        if char in guesses:               # see if the character is in the players guess\n",
        "            print (char, end=\" \")         # print then out the character\n",
        "\n",
        "        else:\n",
        "            print (\"_\", end=\" \")          # if not found, print a dash\n",
        "            failed += 1                   # and increase the failed counter with one\n",
        "\n",
        "    if failed == 0:                       # if failed is equal to zero print You Won\n",
        "        print (\"You won\")\n",
        "        break                             # exit the script\n",
        "\n",
        "    print() \n",
        "    guess = input(\"guess a char:\")        # ask the user go guess a character\n",
        "\n",
        "    guesses += guess                      # set the players guess to guesses\n",
        "\n",
        "    if guess not in word:                 # if the guess is not found in the secret word\n",
        " \n",
        "        turns -= 1                        # turns counter decreases with 1 (now 9)\n",
        "        print (\"Wrong\")                   # print wrong\n",
        " \n",
        "        print (\"You have\", turns, 'more guesses')   # how many turns are left\n",
        "\n",
        "        if turns == 0:                              # if the turns are equal to zero\n",
        "            print (\"You Lose\")                      # print \"You Lose\"\n",
        "            print (\"The right word :\", word)"
      ],
      "execution_count": null,
      "outputs": [
        {
          "output_type": "stream",
          "text": [
            "_ _ _ _ _ \n",
            "guess a char:a\n",
            "_ _ a _ _ \n",
            "guess a char:i\n",
            "Wrong\n",
            "You have 9 more guesses\n",
            "_ _ a _ _ \n",
            "guess a char:u\n",
            "Wrong\n",
            "You have 8 more guesses\n",
            "_ _ a _ _ \n",
            "guess a char:e\n",
            "_ e a _ _ \n",
            "guess a char:r\n",
            "_ e a r _ \n",
            "guess a char:f\n",
            "Wrong\n",
            "You have 7 more guesses\n",
            "_ e a r _ \n",
            "guess a char:y\n",
            "Wrong\n",
            "You have 6 more guesses\n",
            "_ e a r _ \n",
            "guess a char:d\n",
            "Wrong\n",
            "You have 5 more guesses\n",
            "_ e a r _ \n",
            "guess a char:w\n",
            "Wrong\n",
            "You have 4 more guesses\n",
            "_ e a r _ \n",
            "guess a char:k\n",
            "Wrong\n",
            "You have 3 more guesses\n",
            "_ e a r _ \n",
            "guess a char:n\n",
            "_ e a r n \n",
            "guess a char:l\n",
            "l e a r n You won\n"
          ],
          "name": "stdout"
        }
      ]
    },
    {
      "cell_type": "markdown",
      "metadata": {
        "id": "E45x893KL8i1"
      },
      "source": [
        "# **Python Modules**"
      ]
    },
    {
      "cell_type": "markdown",
      "metadata": {
        "id": "1d5VNmWfL_m4"
      },
      "source": [
        "Python modules are separate files that contain classes, functions, and other data that allow us to import and make use of these methods and classes in our own code. Python comes with a lot of modules out of the box. These modules are referred to as the Python Standard Library. You can make use of these modules by using the import keyword, followed by the module name. For example, we'll import the random module, and then call the randint function within this module:"
      ]
    },
    {
      "cell_type": "code",
      "metadata": {
        "colab": {
          "base_uri": "https://localhost:8080/"
        },
        "id": "hxvRClf1MHUe",
        "outputId": "c28eccd8-cb7b-4951-9ad0-2f8be65ada42"
      },
      "source": [
        "import random\n",
        "random.randint(1,10)\n",
        "# his function takes two integer parameters and returns a \n",
        "# random integer between the values we pass it; in this case, 1 and 10. "
      ],
      "execution_count": null,
      "outputs": [
        {
          "output_type": "execute_result",
          "data": {
            "text/plain": [
              "6"
            ]
          },
          "metadata": {
            "tags": []
          },
          "execution_count": 4
        }
      ]
    },
    {
      "cell_type": "markdown",
      "metadata": {
        "id": "nMaYIRBfMPhL"
      },
      "source": [
        "Let's take a look at another module: datetime. This module is super helpful when working with dates and times.\n",
        "\n",
        "When we call the print function with an instance of the datetime class, we get the date and time printed in a specific format. This is because the datetime class has a __str__ method defined which generates the formatted string we see here.\n",
        "\n"
      ]
    },
    {
      "cell_type": "code",
      "metadata": {
        "colab": {
          "base_uri": "https://localhost:8080/"
        },
        "id": "otEu6CkvMS5J",
        "outputId": "49749841-19cb-4d52-899f-cac06a2e1518"
      },
      "source": [
        "import datetime\n",
        "now = datetime.datetime.now()\n",
        "type(now)\n",
        "print(now)"
      ],
      "execution_count": null,
      "outputs": [
        {
          "output_type": "stream",
          "text": [
            "2021-02-18 03:31:44.911725\n"
          ],
          "name": "stdout"
        }
      ]
    },
    {
      "cell_type": "code",
      "metadata": {
        "colab": {
          "base_uri": "https://localhost:8080/"
        },
        "id": "A9FTbPLcMdgm",
        "outputId": "377a46fa-230d-48ce-dbf0-d67e024d0014"
      },
      "source": [
        "now.year"
      ],
      "execution_count": null,
      "outputs": [
        {
          "output_type": "execute_result",
          "data": {
            "text/plain": [
              "2021"
            ]
          },
          "metadata": {
            "tags": []
          },
          "execution_count": 6
        }
      ]
    },
    {
      "cell_type": "code",
      "metadata": {
        "colab": {
          "base_uri": "https://localhost:8080/"
        },
        "id": "4t_6K_LTMfH1",
        "outputId": "30f4a58a-203b-43a9-ab25-478f2c9d4741"
      },
      "source": [
        "print(now + datetime.timedelta(days=28))"
      ],
      "execution_count": null,
      "outputs": [
        {
          "output_type": "stream",
          "text": [
            "2021-03-18 03:31:44.911725\n"
          ],
          "name": "stdout"
        }
      ]
    },
    {
      "cell_type": "markdown",
      "metadata": {
        "id": "LySPG5-q2CLs"
      },
      "source": [
        "# **Stacks and Queues**"
      ]
    },
    {
      "cell_type": "markdown",
      "metadata": {
        "id": "nisqx9OZ6lXS"
      },
      "source": [
        "Stack -> proses menambah data dan menghapus data bagian akhir"
      ]
    },
    {
      "cell_type": "code",
      "metadata": {
        "id": "j9a90VBF6kaJ"
      },
      "source": [
        "tumpukan = [1,2,3,4,5,6]\n",
        "print('data sekarang: ',tumpukan)\n",
        "\n",
        "# memasukan data baru\n",
        "tumpukan.append(7)\n",
        "print('data masuk: ',7)\n",
        "print('data sekarang: ',tumpukan)\n",
        "tumpukan.append(8)\n",
        "print('data masuk: ',8)\n",
        "print('data sekarang: ',tumpukan)\n",
        "\n",
        "out = tumpukan.pop()\n",
        "print('data keluar: ',out)\n",
        "print('data sekarang: ',tumpukan)"
      ],
      "execution_count": null,
      "outputs": []
    },
    {
      "cell_type": "markdown",
      "metadata": {
        "id": "vih_9yJb6pv_"
      },
      "source": [
        "Queues -> proses menambah data dan menghapus data bagian depan\n",
        "\n",
        "maka kita menggunakan library tertentu"
      ]
    },
    {
      "cell_type": "code",
      "metadata": {
        "id": "TD7NlAkw63ID",
        "colab": {
          "base_uri": "https://localhost:8080/",
          "height": 246
        },
        "outputId": "e01f65ae-6f6b-42cb-cc27-8707ef01c345"
      },
      "source": [
        "from collections import deque\n",
        "\n",
        "antrian = deque([1,2,3,4,5])\n",
        "\n",
        "print('data sekarang: ',antrian)\n",
        "\n",
        "# menambahkan data\n",
        "antrian.append(6)\n",
        "print('data masuk: ',6)\n",
        "print('data sekarang: ',antrian)\n",
        "\n",
        "antrian.append(7)\n",
        "print('data masuk: ',7)\n",
        "print('data sekarang: ',antrian)\n",
        "\n",
        "# mengurangi antrian\n",
        "out = antrian.popleft()\n",
        "print('data keluar: ',out)\n",
        "print('data sekarang: ',antrian)\n",
        "\n",
        "out = antrian.popleft()\n",
        "print('data keluar: ',out)\n",
        "print('data sekarang: ',antrian)\n",
        "\n",
        "out = antrian.popleft()\n",
        "print('data keluar: ',out)\n",
        "print('data sekarang: ',antrian)\n",
        "\n",
        "antrian.append(8)\n",
        "print('data masuk: ',8)\n",
        "print('data sekarang: ',antrian)"
      ],
      "execution_count": null,
      "outputs": [
        {
          "output_type": "stream",
          "text": [
            "data sekarang:  deque([1, 2, 3, 4, 5])\n",
            "data masuk:  6\n",
            "data sekarang:  deque([1, 2, 3, 4, 5, 6])\n",
            "data masuk:  7\n",
            "data sekarang:  deque([1, 2, 3, 4, 5, 6, 7])\n",
            "data keluar:  1\n",
            "data sekarang:  deque([2, 3, 4, 5, 6, 7])\n",
            "data keluar:  2\n",
            "data sekarang:  deque([3, 4, 5, 6, 7])\n",
            "data keluar:  3\n",
            "data sekarang:  deque([4, 5, 6, 7])\n",
            "data masuk:  8\n",
            "data sekarang:  deque([4, 5, 6, 7, 8])\n"
          ],
          "name": "stdout"
        }
      ]
    },
    {
      "cell_type": "markdown",
      "metadata": {
        "id": "mtvyhZsFKr5O"
      },
      "source": [
        "# **Date and Time**\n",
        "\n",
        "Program Python dapat menangani tanggal dan waktu dengan beberapa cara. Konversi antara format tanggal adalah tugas umum untuk komputer. Modul waktu dan kalender Python melacak tanggal dan waktu.\n",
        "\n",
        "**<h4>Apa itu Tick?<h4>**\n",
        "\n",
        "Interval waktu adalah bilangan floating-point dalam satuan detik. Instansi tertentu dalam waktu dinyatakan dalam hitungan detik sejak pukul 12:00 1 Januari 1970.\n",
        "\n",
        "Dibawah ini adalah contoh penggunanaya.\n"
      ]
    },
    {
      "cell_type": "code",
      "metadata": {
        "id": "u59NO59GSt5N",
        "colab": {
          "base_uri": "https://localhost:8080/",
          "height": 34
        },
        "outputId": "b31b8f34-7340-4f86-dfe3-2f42eb252d98"
      },
      "source": [
        "import time;  # Digunakan untuk meng-import modul time\n",
        "\n",
        "ticks = time.time()\n",
        "print(\"Berjalan sejak 12:00am, January 1, 1970:\", ticks)"
      ],
      "execution_count": null,
      "outputs": [
        {
          "output_type": "stream",
          "text": [
            "Berjalan sejak 12:00am, January 1, 1970: 1595146304.8183472\n"
          ],
          "name": "stdout"
        }
      ]
    },
    {
      "cell_type": "markdown",
      "metadata": {
        "id": "ZiiK2CF919LA"
      },
      "source": [
        ""
      ]
    },
    {
      "cell_type": "markdown",
      "metadata": {
        "id": "S716Y7tXS-Ct"
      },
      "source": [
        "**<h4>Apa itu TimeTuple Python?<h4>**\n",
        "\n",
        "Banyak fungsi waktu Python menangani waktu sebagai tuple dari 9 nomor, seperti yang terdapat pada tabel di bawah ini.\n",
        "\n",
        "* 0\ttm_year\t2008\n",
        "\n",
        "* 1\ttm_mon\t1 sampai 12\n",
        "\n",
        "* 2\ttm_mday\t1 sampai 31\n",
        "\n",
        "* 3\ttm_hour\t0 sampai 23\n",
        "\n",
        "* 4\ttm_min\t0 sampai 59\n",
        "\n",
        "* 5\ttm_sec\t0 sampai 61\n",
        "\n",
        "* 6\ttm_wday\t0 sampai 6 (0 adalah Senin)\n",
        "\n",
        "* 7\ttm_yday\t1 sampai 366\n",
        "\n",
        "* 8\ttm_isdst\t-1, 0, 1, -1 means library determines DST"
      ]
    },
    {
      "cell_type": "markdown",
      "metadata": {
        "id": "q1vHcjAjUUL7"
      },
      "source": [
        "Mendapatkan Waktu Saat Ini\n",
        "\n",
        "Untuk menerjemahkan waktu instan dari satu detik sejak nilai floating-point ke waktu menjadi tupel waktu, lewati nilai floating-point ke fungsi (mis., Localtime) yang mengembalikan waktu tupel dengan semua sembilan item valid."
      ]
    },
    {
      "cell_type": "code",
      "metadata": {
        "id": "_wX0TjrzUb3a",
        "colab": {
          "base_uri": "https://localhost:8080/",
          "height": 54
        },
        "outputId": "1faf42a0-6962-408c-ffa0-31c70b2563da"
      },
      "source": [
        "import time;\n",
        "\n",
        "localtime = time.localtime(time.time())\n",
        "print(\"Waktu lokal saat ini :\", localtime)"
      ],
      "execution_count": null,
      "outputs": [
        {
          "output_type": "stream",
          "text": [
            "Waktu lokal saat ini : time.struct_time(tm_year=2020, tm_mon=7, tm_mday=19, tm_hour=8, tm_min=11, tm_sec=44, tm_wday=6, tm_yday=201, tm_isdst=0)\n"
          ],
          "name": "stdout"
        }
      ]
    },
    {
      "cell_type": "markdown",
      "metadata": {
        "id": "SK7PziQzVMRx"
      },
      "source": [
        "Mendapatkan Waktu yang berformat\n",
        "\n",
        "Anda dapat memformat kapan saja sesuai kebutuhan Anda, namun metode sederhana untuk mendapatkan waktu dalam format yang mudah dibaca adalah asctime ()"
      ]
    },
    {
      "cell_type": "code",
      "metadata": {
        "id": "CE3O_O0fVNT0",
        "colab": {
          "base_uri": "https://localhost:8080/",
          "height": 34
        },
        "outputId": "fa8d030b-2430-47a4-b912-dde76bdb0cb5"
      },
      "source": [
        "import time;\n",
        "\n",
        "localtime = time.asctime( time.localtime(time.time()) )\n",
        "print(\"Waktu lokal saat ini :\", localtime)"
      ],
      "execution_count": null,
      "outputs": [
        {
          "output_type": "stream",
          "text": [
            "Waktu lokal saat ini : Sun Jul 19 08:11:44 2020\n"
          ],
          "name": "stdout"
        }
      ]
    },
    {
      "cell_type": "markdown",
      "metadata": {
        "id": "LXyPqf8RVS6g"
      },
      "source": [
        "Mendapatkan kalender dalam sebulan\n",
        "\n",
        "Modul kalender memberikan berbagai macam metode untuk dimainkan dengan kalender tahunan dan bulanan. Di sini, kami mencetak kalender untuk bulan tertentu (Jan 2008)"
      ]
    },
    {
      "cell_type": "code",
      "metadata": {
        "id": "ANV-W_diVVAZ",
        "colab": {
          "base_uri": "https://localhost:8080/",
          "height": 175
        },
        "outputId": "6d26977b-fb0d-4a55-c853-e7e3ed7865f5"
      },
      "source": [
        "import calendar\n",
        "\n",
        "cal = calendar.month(2008, 1)\n",
        "print(\"Dibawah ini adalah kalender:\")\n",
        "print(cal)"
      ],
      "execution_count": null,
      "outputs": [
        {
          "output_type": "stream",
          "text": [
            "Dibawah ini adalah kalender:\n",
            "    January 2008\n",
            "Mo Tu We Th Fr Sa Su\n",
            "    1  2  3  4  5  6\n",
            " 7  8  9 10 11 12 13\n",
            "14 15 16 17 18 19 20\n",
            "21 22 23 24 25 26 27\n",
            "28 29 30 31\n",
            "\n"
          ],
          "name": "stdout"
        }
      ]
    },
    {
      "cell_type": "markdown",
      "metadata": {
        "id": "N058a7txVbz3"
      },
      "source": [
        "Modul time pada Python\n",
        "\n",
        "Ada modul waktu populer yang tersedia dengan Python yang menyediakan fungsi untuk bekerja dengan waktu dan untuk mengkonversi antara representasi. Dibawah ini adalah tabel dari modul time pada python yang ada."
      ]
    },
    {
      "cell_type": "markdown",
      "metadata": {
        "id": "deZ84LSaVoOH"
      },
      "source": [
        "* `time.altzone`\n",
        "\n",
        "    Diimbangi zona waktu DST lokal, dalam detik di sebelah barat UTC, jika seseorang didefinisikan. Ini negatif jika zona waktu DST lokal berada di sebelah timur UTC (seperti di Eropa Barat, termasuk Inggris). Gunakan saja ini jika siang hari tidak nol.\n",
        "\n",
        "* `time.asctime([tupletime])`\n",
        "\n",
        "    Menerima time-tupel dan mengembalikan string 24-karakter yang dapat dibaca seperti ‘Tue Dec 11 18:07:14 2008’.\n",
        "\n",
        "* `time.clock()`\n",
        "\n",
        "    Mengembalikan waktu CPU saat ini sebagai jumlah floating-point detik. Untuk mengukur biaya komputasi dari berbagai pendekatan, nilai time.clock lebih bermanfaat daripada time.time ().\n",
        "\n",
        "* `time.ctime([secs])`\n",
        "\n",
        "    Seperti asctime (localtime (detik)) dan tanpa argumen seperti asctime ()\n",
        "\n",
        "* `time.gmtime([secs])`\n",
        "\n",
        "    Menerima instan yang diungkapkan dalam hitungan detik sejak zaman dan mengembalikan waktu tuple t dengan waktu UTC. Catatan: t.tm_isdst selalu 0\n",
        "\n",
        "* `time.localtime([secs])`\n",
        "\n",
        "    Menerima instan yang dinyatakan dalam hitungan detik sejak zaman dan mengembalikan waktu tuple t dengan waktu setempat (t.tm_isdst adalah 0 atau 1, tergantung pada apakah DST berlaku seketika oleh peraturan lokal).\n",
        "\n",
        "* `time.mktime(tupletime)`\n",
        "\n",
        "    Menerima instan dinyatakan sebagai time-tuple di waktu setempat dan mengembalikan nilai floating-point dengan instan yang dinyatakan dalam hitungan detik sejak zaman.\n",
        "\n",
        "* `time.sleep(secs)`\n",
        "\n",
        "    Menangguhkan panggilan untuk beberapa detik.\n",
        "\n",
        "* `time.strftime(fmt[,tupletime])`\n",
        "\n",
        "    Menerima instan dinyatakan sebagai tupel waktu di waktu lokal dan mengembalikan sebuah string yang mewakili instan seperti yang ditentukan oleh string fmt\n",
        "    \n",
        "* `time.strptime(str,fmt=’%a %b %d %H:%M:%S %Y’)`\n",
        "\n",
        "    Parses str sesuai dengan format string fmt dan mengembalikan format instant-tuple.\n",
        "\n",
        "* `time.time()`\n",
        "\n",
        "    Mengembalikan waktu saat ini secara instan, jumlah detik mengambang beberapa detik sejak zaman itu.\n",
        "\n",
        "* `time.tzset()`\n",
        "\n",
        "    Mengatur ulang aturan konversi waktu yang digunakan oleh rutinitas perpustakaan. Variabel lingkungan TZ menentukan bagaimana hal ini dilakukan.\n",
        "\n",
        "Ada dua atribut penting yang tersedia dengan modul waktu:\n",
        "\n",
        "\n",
        "* `time.timezone`\n",
        "    \n",
        "    Atribut time.timezone adalah offset dalam detik zona waktu lokal (tanpa DST) dari UTC (> 0 di Amerika; <= 0 di sebagian besar Eropa, Asia, Afrika).\n",
        "\n",
        "* `time.tzname`\n",
        "\n",
        "    Atribut time.tzname adalah sepasang string yang bergantung pada lokal, yang merupakan nama zona waktu lokal tanpa dan dengan DST.\n",
        "\n",
        "Modul calendar pada Python\n",
        "\n",
        "Modul kalender menyimpan fungsi yang berhubungan dengan kalender, termasuk fungsi untuk mencetak kalender teks untuk bulan atau tahun tertentu.\n",
        "\n",
        "Secara default, kalender mengambil hari Senin sebagai hari pertama dalam minggu dan minggu sebagai yang terakhir. Untuk mengubah ini, fungsi call calendar.setfirstweekday ().\n",
        "\n",
        "Berikut adalah daftar fungsi yang tersedia dengan modul kalender:\n",
        "\n",
        "* `calendar.calendar(year,w=2,l=1,c=6)`\t\n",
        "\n",
        "    Mengembalikan string multiline dengan kalender untuk tahun tahun yang diformat menjadi tiga kolom yang dipisahkan oleh ruang c. W adalah lebar karakter setiap tanggal; Setiap baris memiliki panjang 21 * w + 18 + 2 * c. L adalah jumlah baris untuk setiap minggu.\n",
        "\n",
        "* `calendar.firstweekday( )`\n",
        "\n",
        "    Mengembalikan pengaturan saat ini untuk hari kerja yang dimulai setiap minggu. Secara default, saat kalender pertama kali diimpor, ini adalah 0, yang berarti Senin.\n",
        "\n",
        "* `calendar.isleap(year)`\n",
        "\n",
        "    Pengembalian True jika tahun adalah tahun kabisat; Jika tidak, False\n",
        "\n",
        "* `calendar.leapdays(y1,y2)`\n",
        "\n",
        "    Mengembalikan jumlah lompatan hari dalam tahun-tahun dalam rentang (y1, y2).\n",
        "\n",
        "* `calendar.month(year,month,w=2,l=1)`\n",
        "\n",
        "    Mengembalikan string multiline dengan kalender untuk bulan bulan tahun, satu baris per minggu ditambah dua baris header. W adalah lebar karakter setiap tanggal; Setiap baris memiliki panjang 7 * w + 6. L adalah jumlah baris untuk setiap minggu.\n",
        "\n",
        "* `calendar.monthcalendar(year,month)`\t\n",
        "\n",
        "    Mengembalikan daftar daftar int. Setiap sublist menunjukkan seminggu. Hari di luar bulan bulan tahun diatur ke 0; Hari dalam bulan ditetapkan ke hari ke bulan, 1 dan ke atas.\n",
        "\n",
        "* `calendar.monthrange(year,month)`\t\n",
        "\n",
        "    Mengembalikan dua bilangan bulat. Yang pertama adalah kode hari kerja untuk hari pertama bulan bulan di tahun; Yang kedua adalah jumlah hari dalam sebulan. Kode hari kerja adalah 0 (Senin) sampai 6 (Minggu); Angka bulan adalah 1 sampai 12.\n",
        "\n",
        "* `calendar.prcal(year,w=2,l=1,c=6)`\n",
        "\n",
        "    Seperti kalender cetak.calendar (tahun, w, l, c).\n",
        "\n",
        "* `calendar.prmonth(year,month,w=2,l=1)`\t\n",
        "\n",
        "    Seperti kalender cetak. Bulan (tahun, bulan, w, l).\n",
        "\n",
        "* `calendar.setfirstweekday(weekday)`\t\n",
        "\n",
        "    Mengatur hari pertama setiap minggu sampai hari kerja kode hari kerja. Kode hari kerja adalah 0 (Senin) sampai 6 (Minggu).\n",
        "\n",
        "* `calendar.timegm(tupletime)`\n",
        "\n",
        "    Kebalikan dari time.gmtime: menerima waktu instan dalam bentuk tupel waktu dan mengembalikan detik yang sama seperti jumlah floating-point dalam hitungan detik sejak zaman.\n",
        "\n",
        "* `calendar.weekday(year,month,day)`\t\n",
        "\n",
        "    Mengembalikan kode hari kerja untuk tanggal yang ditentukan. Kode hari kerja adalah 0 (Senin) sampai 6 (Minggu); Bulan adalah 1 (Januari) sampai 12 (Desember)."
      ]
    },
    {
      "cell_type": "markdown",
      "metadata": {
        "id": "F-5KmCutjQxM"
      },
      "source": [
        "02\n",
        "\n",
        "A date in Python is not a data type of its own, but we can import a module named datetime to work with dates as date objects.\n",
        "\n"
      ]
    },
    {
      "cell_type": "code",
      "metadata": {
        "id": "bCb3ngnEjWGG",
        "colab": {
          "base_uri": "https://localhost:8080/",
          "height": 34
        },
        "outputId": "0ff3502c-e08c-4a54-c802-d742dd31d410"
      },
      "source": [
        "import datetime\n",
        "\n",
        "x = datetime.datetime.now()\n",
        "print(x)"
      ],
      "execution_count": null,
      "outputs": [
        {
          "output_type": "stream",
          "text": [
            "2020-07-21 08:46:33.436199\n"
          ],
          "name": "stdout"
        }
      ]
    },
    {
      "cell_type": "markdown",
      "metadata": {
        "id": "Yrv1TVCMjeAB"
      },
      "source": [
        "When we execute the code from the example above the result will be:\n",
        "\n",
        "2020-07-21 16:44:36.878413\n",
        "\n",
        "The date contains year, month, day, hour, minute, second, and microsecond."
      ]
    },
    {
      "cell_type": "code",
      "metadata": {
        "id": "QjgZQ3sIjiYG",
        "colab": {
          "base_uri": "https://localhost:8080/",
          "height": 52
        },
        "outputId": "527fe029-ce38-4c23-b590-5cf3ec0c0dee"
      },
      "source": [
        "# Return the year and name of weekday:\n",
        "\n",
        "import datetime\n",
        "\n",
        "x = datetime.datetime.now()\n",
        "\n",
        "print(x.year)\n",
        "print(x.strftime(\"%A\"))"
      ],
      "execution_count": null,
      "outputs": [
        {
          "output_type": "stream",
          "text": [
            "2020\n",
            "Tuesday\n"
          ],
          "name": "stdout"
        }
      ]
    },
    {
      "cell_type": "markdown",
      "metadata": {
        "id": "ATHqukrQjyrc"
      },
      "source": [
        "**Creating Date Objects**\n",
        "\n",
        "To create a date, we can use the datetime() class (constructor) of the datetime module.\n",
        "\n",
        "The datetime() class requires three parameters to create a date: year, month, day.\n",
        "\n",
        "The datetime() class also takes parameters for time and timezone (hour, minute, second, microsecond, tzone), but they are optional, and has a default value of 0, (None for timezone)."
      ]
    },
    {
      "cell_type": "code",
      "metadata": {
        "id": "YDfnrswIj2n_",
        "colab": {
          "base_uri": "https://localhost:8080/",
          "height": 52
        },
        "outputId": "2d5f1413-1332-4fd1-d94c-42b824d1a2c6"
      },
      "source": [
        "import datetime\n",
        "\n",
        "# (year, month, day, hour, minute, second, microsecond, tzone)\n",
        "\n",
        "x = datetime.datetime(2020, 5, 17) \n",
        "y = datetime.datetime(2020, 5, 17, 23, 34, 50, 78)\n",
        "\n",
        "print(x)\n",
        "print(y)"
      ],
      "execution_count": null,
      "outputs": [
        {
          "output_type": "stream",
          "text": [
            "2020-05-17 00:00:00\n",
            "2020-05-17 23:34:50.000078\n"
          ],
          "name": "stdout"
        }
      ]
    },
    {
      "cell_type": "markdown",
      "metadata": {
        "id": "p2YfqWVXkGP6"
      },
      "source": [
        "**The strftime() Method**\n",
        "\n",
        "The datetime object has a method for formatting date objects into readable strings.\n",
        "\n",
        "The method is called strftime(), and takes one parameter, format, to specify the format of the returned string\n",
        "\n",
        "* %a -> Weekday, short version\tWed\t\n",
        "\n",
        "* %A -> Weekday, full version\tWednesday\t\n",
        "\n",
        "* %w -> Weekday as a number 0-6, 0 is Sunday\t3\t\n",
        "\n",
        "* %d -> Day of month 01-31\t31\t\n",
        "\n",
        "* %b -> Month name, short version\tDec\t\n",
        "\n",
        "* %B -> Month name, full version\tDecember\t\n",
        "\n",
        "* %m -> Month as a number 01-12\t12\t\n",
        "\n",
        "* %y -> Year, short version, without century\t18\t\n",
        "\n",
        "* %Y -> Year, full version\t2018\t\n",
        "\n",
        "* %H -> Hour 00-23\t17\t\n",
        "\n",
        "* %I -> Hour 00-12\t05\t\n",
        "\n",
        "* %p -> AM/PM\tPM\t\n",
        "\n",
        "* %M -> Minute 00-59\t41\t\n",
        "\n",
        "* %S -> Second 00-59\t08\t\n",
        "\n",
        "* %f -> Microsecond 000000-999999\t548513\t\n",
        "\n",
        "* %z -> UTC offset\t+0100\t\n",
        "\n",
        "* %Z -> Timezone\tCST\t\n",
        "\n",
        "* %j -> Day number of year 001-366\t365\t\n",
        "\n",
        "* %U -> Week number of year, Sunday as the first day of week, 00-53\t52\t\n",
        "\n",
        "* %W -> Week number of year, Monday as the first day of week, 00-53\t52\t\n",
        "\n",
        "* %c -> Local version of date and time\tMon Dec 31 17:41:00 2018\t\n",
        "\n",
        "* %x -> Local version of date\t12/31/18\t\n",
        "\n",
        "* %X -> Local version of time\t17:41:00\t\n",
        "\n",
        "* %% -> A % character\t%"
      ]
    },
    {
      "cell_type": "code",
      "metadata": {
        "colab": {
          "base_uri": "https://localhost:8080/"
        },
        "id": "cpIcXfID2U-a",
        "outputId": "48833831-1097-4c02-b0c2-f4428ae20d0f"
      },
      "source": [
        "import datetime\n",
        "\n",
        "x = datetime.datetime.now()\n",
        "print(x.strftime(\"%B %d, %Y\"))"
      ],
      "execution_count": null,
      "outputs": [
        {
          "output_type": "stream",
          "text": [
            "March 16, 2021\n"
          ],
          "name": "stdout"
        }
      ]
    },
    {
      "cell_type": "code",
      "metadata": {
        "id": "xdA7L3QDkKiF",
        "colab": {
          "base_uri": "https://localhost:8080/",
          "height": 34
        },
        "outputId": "ea539059-29d3-4833-ab14-4db271f724f8"
      },
      "source": [
        "# Display the name of the month:\n",
        "\n",
        "import datetime\n",
        "\n",
        "x = datetime.datetime(2018, 6, 1)\n",
        "\n",
        "print(x.strftime(\"%B\"))"
      ],
      "execution_count": null,
      "outputs": [
        {
          "output_type": "stream",
          "text": [
            "June\n"
          ],
          "name": "stdout"
        }
      ]
    },
    {
      "cell_type": "markdown",
      "metadata": {
        "id": "659ub3ulnwtl"
      },
      "source": [
        "# **JSON**\n",
        "\n",
        "JSON is a syntax for storing and exchanging data.\n",
        "\n",
        "JSON is text, written with JavaScript object notation.\n",
        "\n",
        "Import the json module:\n",
        "\n",
        "`import json`"
      ]
    },
    {
      "cell_type": "markdown",
      "metadata": {
        "id": "Yu9XWPw2n8IN"
      },
      "source": [
        "## **Convert from JSON to Python**\n",
        "\n",
        "If you have a JSON string, you can parse it by using the `json.loads()` method."
      ]
    },
    {
      "cell_type": "code",
      "metadata": {
        "id": "xKgYB8Oqoape",
        "colab": {
          "base_uri": "https://localhost:8080/",
          "height": 34
        },
        "outputId": "dd5b851c-4e0b-4116-a867-e07f19866648"
      },
      "source": [
        "import json\n",
        "\n",
        "# some JSON:\n",
        "x =  '{ \"name\":\"John\", \"age\":30, \"city\":\"New York\"}'\n",
        "\n",
        "# parse x:\n",
        "y = json.loads(x)\n",
        "\n",
        "# the result is a Python dictionary:\n",
        "print(y[\"age\"])"
      ],
      "execution_count": null,
      "outputs": [
        {
          "output_type": "stream",
          "text": [
            "30\n"
          ],
          "name": "stdout"
        }
      ]
    },
    {
      "cell_type": "markdown",
      "metadata": {
        "id": "n2QrTSktpL0T"
      },
      "source": [
        "## **Convert from Python to JSON**\n",
        "\n",
        "If you have a Python object, you can convert it into a JSON string by using the json.dumps() method.\n",
        "\n",
        "You can convert Python objects of the following types, into JSON strings:\n",
        "\n",
        "* dict\n",
        "\n",
        "* list\n",
        "\n",
        "* tuple\n",
        "\n",
        "* string\n",
        "\n",
        "* int\n",
        "\n",
        "* float\n",
        "\n",
        "* True\n",
        "\n",
        "* False\n",
        "\n",
        "* None"
      ]
    },
    {
      "cell_type": "code",
      "metadata": {
        "id": "JiCpr7_2pWnj"
      },
      "source": [
        "import json\n",
        "\n",
        "# a Python object (dict):\n",
        "x = {\n",
        "  \"name\": \"John\",\n",
        "  \"age\": 30,\n",
        "  \"city\": \"New York\"\n",
        "}\n",
        "\n",
        "# convert into JSON:\n",
        "y = json.dumps(x)\n",
        "\n",
        "# the result is a JSON string:\n",
        "print(y)"
      ],
      "execution_count": null,
      "outputs": []
    },
    {
      "cell_type": "code",
      "metadata": {
        "id": "kDVpx6u5p7Vt",
        "colab": {
          "base_uri": "https://localhost:8080/",
          "height": 54
        },
        "outputId": "449a9900-f959-49e6-c8ef-9e46e0bf62b6"
      },
      "source": [
        "import json\n",
        "\n",
        "x = {\n",
        "  \"name\": \"John\",\n",
        "  \"age\": 30,\n",
        "  \"married\": True,\n",
        "  \"divorced\": False,\n",
        "  \"children\": (\"Ann\",\"Billy\"),\n",
        "  \"pets\": None,\n",
        "  \"cars\": [\n",
        "    {\"model\": \"BMW 230\", \"mpg\": 27.5},\n",
        "    {\"model\": \"Ford Edge\", \"mpg\": 24.1}\n",
        "  ]\n",
        "}\n",
        "\n",
        "print(json.dumps(x))"
      ],
      "execution_count": null,
      "outputs": [
        {
          "output_type": "stream",
          "text": [
            "{\"name\": \"John\", \"age\": 30, \"married\": true, \"divorced\": false, \"children\": [\"Ann\", \"Billy\"], \"pets\": null, \"cars\": [{\"model\": \"BMW 230\", \"mpg\": 27.5}, {\"model\": \"Ford Edge\", \"mpg\": 24.1}]}\n"
          ],
          "name": "stdout"
        }
      ]
    },
    {
      "cell_type": "code",
      "metadata": {
        "id": "O5qge6Dvqh8x",
        "colab": {
          "base_uri": "https://localhost:8080/",
          "height": 386
        },
        "outputId": "432cf6ae-d943-49f9-d2f0-5296a05817a7"
      },
      "source": [
        "print(json.dumps(x, indent=4))"
      ],
      "execution_count": null,
      "outputs": [
        {
          "output_type": "stream",
          "text": [
            "{\n",
            "    \"name\": \"John\",\n",
            "    \"age\": 30,\n",
            "    \"married\": true,\n",
            "    \"divorced\": false,\n",
            "    \"children\": [\n",
            "        \"Ann\",\n",
            "        \"Billy\"\n",
            "    ],\n",
            "    \"pets\": null,\n",
            "    \"cars\": [\n",
            "        {\n",
            "            \"model\": \"BMW 230\",\n",
            "            \"mpg\": 27.5\n",
            "        },\n",
            "        {\n",
            "            \"model\": \"Ford Edge\",\n",
            "            \"mpg\": 24.1\n",
            "        }\n",
            "    ]\n",
            "}\n"
          ],
          "name": "stdout"
        }
      ]
    },
    {
      "cell_type": "code",
      "metadata": {
        "id": "4mqeLK_SqfDc",
        "colab": {
          "base_uri": "https://localhost:8080/",
          "height": 386
        },
        "outputId": "bdbf6610-872b-4544-aa3d-5f0cdeb614c0"
      },
      "source": [
        "# (\", \", \": \") default\n",
        "print(json.dumps(x, indent=4, separators=(\". \", \" = \")))"
      ],
      "execution_count": null,
      "outputs": [
        {
          "output_type": "stream",
          "text": [
            "{\n",
            "    \"name\" = \"John\". \n",
            "    \"age\" = 30. \n",
            "    \"married\" = true. \n",
            "    \"divorced\" = false. \n",
            "    \"children\" = [\n",
            "        \"Ann\". \n",
            "        \"Billy\"\n",
            "    ]. \n",
            "    \"pets\" = null. \n",
            "    \"cars\" = [\n",
            "        {\n",
            "            \"model\" = \"BMW 230\". \n",
            "            \"mpg\" = 27.5\n",
            "        }. \n",
            "        {\n",
            "            \"model\" = \"Ford Edge\". \n",
            "            \"mpg\" = 24.1\n",
            "        }\n",
            "    ]\n",
            "}\n"
          ],
          "name": "stdout"
        }
      ]
    },
    {
      "cell_type": "code",
      "metadata": {
        "id": "t-Ee3byzq0cK",
        "colab": {
          "base_uri": "https://localhost:8080/",
          "height": 386
        },
        "outputId": "af896f19-8a0d-48be-afcf-3a27aebd1f74"
      },
      "source": [
        "print(json.dumps(x, indent=4, sort_keys=True))"
      ],
      "execution_count": null,
      "outputs": [
        {
          "output_type": "stream",
          "text": [
            "{\n",
            "    \"age\": 30,\n",
            "    \"cars\": [\n",
            "        {\n",
            "            \"model\": \"BMW 230\",\n",
            "            \"mpg\": 27.5\n",
            "        },\n",
            "        {\n",
            "            \"model\": \"Ford Edge\",\n",
            "            \"mpg\": 24.1\n",
            "        }\n",
            "    ],\n",
            "    \"children\": [\n",
            "        \"Ann\",\n",
            "        \"Billy\"\n",
            "    ],\n",
            "    \"divorced\": false,\n",
            "    \"married\": true,\n",
            "    \"name\": \"John\",\n",
            "    \"pets\": null\n",
            "}\n"
          ],
          "name": "stdout"
        }
      ]
    },
    {
      "cell_type": "markdown",
      "metadata": {
        "id": "k04kxwfZq4TO"
      },
      "source": [
        "# **RegEx**\n",
        "\n",
        "* RegEx, or Regular Expression, is a sequence of characters that forms a search pattern.\n",
        "\n",
        "* RegEx can be used to check if a string contains the specified search pattern.\n",
        "\n",
        "**RegEx Module**\n",
        "\n",
        "The special characters are:\n",
        "\n",
        "https://docs.python.org/3/library/re.html"
      ]
    },
    {
      "cell_type": "code",
      "metadata": {
        "id": "TgDBKOXOvEWR"
      },
      "source": [
        "import re"
      ],
      "execution_count": null,
      "outputs": []
    },
    {
      "cell_type": "markdown",
      "metadata": {
        "id": "A0XEAyNcvJao"
      },
      "source": [
        "## **RegEx in Python**"
      ]
    },
    {
      "cell_type": "code",
      "metadata": {
        "id": "afIRHVycvMVk",
        "colab": {
          "base_uri": "https://localhost:8080/",
          "height": 34
        },
        "outputId": "584299a9-dcb3-4945-f4c0-a2ae43db11ba"
      },
      "source": [
        "import re\n",
        "\n",
        "#Check if the string starts with \"The\" and ends with \"Spain\":\n",
        "\n",
        "txt = \"The rain in Spain\"\n",
        "x = re.search(\"^The.*Spain$\", txt)\n",
        "\n",
        "if x:\n",
        "  print(\"YES! We have a match!\")\n",
        "else:\n",
        "  print(\"No match\")"
      ],
      "execution_count": null,
      "outputs": [
        {
          "output_type": "stream",
          "text": [
            "YES! We have a match!\n"
          ],
          "name": "stdout"
        }
      ]
    },
    {
      "cell_type": "markdown",
      "metadata": {
        "id": "ESTwBXhJvbee"
      },
      "source": [
        "## **RegEx Functions**\n",
        "\n",
        "* `findall` ->\tReturns a list containing all matches\n",
        "\n",
        "* `search` ->\tReturns a Match object if there is a match anywhere in the string\n",
        "\n",
        "* `split` ->\tReturns a list where the string has been split at each match\n",
        "\n",
        "* `sub` ->\tReplaces one or many matches with a string"
      ]
    },
    {
      "cell_type": "markdown",
      "metadata": {
        "id": "bcIi2bCovuu8"
      },
      "source": [
        "The findall() function returns a list containing all matches.\n",
        "\n",
        "The list contains the matches in the order they are found.\n",
        "\n",
        "If no matches are found, an empty list is returned:"
      ]
    },
    {
      "cell_type": "code",
      "metadata": {
        "id": "A8B1wu0wvsT8",
        "colab": {
          "base_uri": "https://localhost:8080/",
          "height": 34
        },
        "outputId": "2456f2e5-5313-4d75-87aa-486fc0220d2c"
      },
      "source": [
        "import re\n",
        "\n",
        "#Return a list containing every occurrence of \"ai\":\n",
        "\n",
        "txt = \"The rain in Spain\"\n",
        "x = re.findall(\"ai\", txt)\n",
        "print(x)"
      ],
      "execution_count": null,
      "outputs": [
        {
          "output_type": "stream",
          "text": [
            "['ai', 'ai']\n"
          ],
          "name": "stdout"
        }
      ]
    },
    {
      "cell_type": "code",
      "metadata": {
        "id": "rwhtht9bv3WD",
        "colab": {
          "base_uri": "https://localhost:8080/",
          "height": 34
        },
        "outputId": "26cf09fb-f09b-4b09-b4c5-502a2b8619d8"
      },
      "source": [
        "# Return an empty list if no match was found:\n",
        "\n",
        "import re\n",
        "\n",
        "txt = \"The rain in Spain\"\n",
        "x = re.findall(\"Portugal\", txt)\n",
        "print(x)"
      ],
      "execution_count": null,
      "outputs": [
        {
          "output_type": "stream",
          "text": [
            "[]\n"
          ],
          "name": "stdout"
        }
      ]
    },
    {
      "cell_type": "markdown",
      "metadata": {
        "id": "B3o2YAG3v-Sy"
      },
      "source": [
        "The search() function searches the string for a match, and returns a Match object if there is a match.\n",
        "\n",
        "If there is more than one match, only the first occurrence of the match will be returned:\n",
        "\n",
        "If no matches are found, the value None is returned:"
      ]
    },
    {
      "cell_type": "code",
      "metadata": {
        "id": "F4a1VtXWwBLn",
        "colab": {
          "base_uri": "https://localhost:8080/",
          "height": 34
        },
        "outputId": "8bc4bca9-fa2c-47a3-bdde-52779ad0a7ab"
      },
      "source": [
        "# Search for the first white-space character in the string:\n",
        "\n",
        "import re\n",
        "\n",
        "txt = \"The rain in Spain\"\n",
        "x = re.search(\"\\s\", txt)\n",
        "\n",
        "print(\"The first white-space character is located in position:\", x.start())"
      ],
      "execution_count": null,
      "outputs": [
        {
          "output_type": "stream",
          "text": [
            "The first white-space character is located in position: 3\n"
          ],
          "name": "stdout"
        }
      ]
    },
    {
      "cell_type": "code",
      "metadata": {
        "id": "MUpAxMolwJfx",
        "colab": {
          "base_uri": "https://localhost:8080/",
          "height": 34
        },
        "outputId": "acb2fe96-9643-4bc5-96e9-04e4ad0727b0"
      },
      "source": [
        "# Make a search that returns no match:\n",
        "\n",
        "import re\n",
        "\n",
        "txt = \"The rain in Spain\"\n",
        "x = re.search(\"Portugal\", txt)\n",
        "print(x)"
      ],
      "execution_count": null,
      "outputs": [
        {
          "output_type": "stream",
          "text": [
            "None\n"
          ],
          "name": "stdout"
        }
      ]
    },
    {
      "cell_type": "markdown",
      "metadata": {
        "id": "zAWw9B7ywRsg"
      },
      "source": [
        "The split() function returns a list where the string has been split at each match\n",
        "\n",
        "You can control the number of occurrences by specifying the maxsplit parameter"
      ]
    },
    {
      "cell_type": "code",
      "metadata": {
        "id": "501TJm1PwcoJ",
        "colab": {
          "base_uri": "https://localhost:8080/",
          "height": 34
        },
        "outputId": "c71dc27a-3c89-4792-cf88-2d41f1f0bd8a"
      },
      "source": [
        "# Split the string only at the first occurrence:\n",
        "\n",
        "import re\n",
        "\n",
        "txt = \"The rain in Spain\"\n",
        "x = re.split(\"\\s\", txt, 1)\n",
        "print(x)"
      ],
      "execution_count": null,
      "outputs": [
        {
          "output_type": "stream",
          "text": [
            "['The', 'rain in Spain']\n"
          ],
          "name": "stdout"
        }
      ]
    },
    {
      "cell_type": "markdown",
      "metadata": {
        "id": "xnQJ2DabOzqX"
      },
      "source": [
        "The sub() function replaces the matches with the text of your choice:"
      ]
    },
    {
      "cell_type": "code",
      "metadata": {
        "id": "jbcv4XGaO4D8",
        "colab": {
          "base_uri": "https://localhost:8080/",
          "height": 34
        },
        "outputId": "c3bc44c5-2832-459d-c9de-60d5bd8b5e57"
      },
      "source": [
        "# Replace every white-space character with the number 9:\n",
        "\n",
        "import re\n",
        "\n",
        "txt = \"The rain in Spain\"\n",
        "x = re.sub(\"\\s\", \"9\", txt)\n",
        "print(x)"
      ],
      "execution_count": null,
      "outputs": [
        {
          "output_type": "stream",
          "text": [
            "The9rain9in9Spain\n"
          ],
          "name": "stdout"
        }
      ]
    },
    {
      "cell_type": "code",
      "metadata": {
        "id": "TVo5ke8CPFim",
        "colab": {
          "base_uri": "https://localhost:8080/",
          "height": 34
        },
        "outputId": "37f4c814-249f-4273-8eb1-311dcead1e31"
      },
      "source": [
        "# Replace the first 2 occurrences:\n",
        "\n",
        "import re\n",
        "\n",
        "txt = \"The rain in Spain\"\n",
        "x = re.sub(\"\\s\", \"9\", txt, 2)\n",
        "print(x)"
      ],
      "execution_count": null,
      "outputs": [
        {
          "output_type": "stream",
          "text": [
            "The9rain9in Spain\n"
          ],
          "name": "stdout"
        }
      ]
    },
    {
      "cell_type": "markdown",
      "metadata": {
        "id": "1UdSOR4gRAa6"
      },
      "source": [
        "## **Metacharacters**\n",
        "\n",
        "* [ _ ] -> \"[a-m]\"\t\n",
        "\n",
        "    A set of characters\n",
        "\n",
        "* \\\t-> \"\\d\"\n",
        "\n",
        "    Signals a special sequence (can also be used to escape special characters)\t\t\n",
        "\n",
        "* .\t-> \"he..o\"\n",
        "\n",
        "    Any character (except newline character)\t\t\n",
        "\n",
        "* ^ -> \"^hello\"\n",
        "\n",
        "    Starts with\t\t\n",
        "\n",
        "* \\$ -> \"world\\$\"\n",
        "\n",
        "    Ends with\t\t\n",
        "\n",
        "* \\* -> \"aix*\"\n",
        "\n",
        "    Zero or more occurrences\t\t\n",
        "\n",
        "* \\+ -> \"aix+\"\n",
        "\n",
        "    One or more occurrences\t\t\n",
        "\n",
        "* { } -> \"al{2}\"\t\n",
        "\n",
        "    Exactly the specified number of occurrences\t\n",
        "\n",
        "* | -> \"falls|stays\"\n",
        "\n",
        "    Either or\t\t\n",
        "\n",
        "* ()\n",
        "\n",
        "    Capture and group\n"
      ]
    },
    {
      "cell_type": "code",
      "metadata": {
        "id": "uZhs0gQ8T9yU",
        "colab": {
          "base_uri": "https://localhost:8080/",
          "height": 34
        },
        "outputId": "ec724c07-d94b-4b52-ad03-23161a94baba"
      },
      "source": [
        "import re\n",
        "\n",
        "txt = \"The rain in Spain\"\n",
        "\n",
        "#Find all lower case characters alphabetically between \"a\" and \"m\":\n",
        "\n",
        "x = re.findall(\"[a-m]\", txt)\n",
        "print(x)"
      ],
      "execution_count": null,
      "outputs": [
        {
          "output_type": "stream",
          "text": [
            "['h', 'e', 'a', 'i', 'i', 'a', 'i']\n"
          ],
          "name": "stdout"
        }
      ]
    },
    {
      "cell_type": "code",
      "metadata": {
        "id": "QCqCygtjUKrS",
        "colab": {
          "base_uri": "https://localhost:8080/",
          "height": 34
        },
        "outputId": "b36d8a22-0c37-46cd-f88a-e84985ac1405"
      },
      "source": [
        "import re\n",
        "\n",
        "txt = \"That will be 59 dollars\"\n",
        "\n",
        "#Find all digit characters:\n",
        "\n",
        "x = re.findall(\"\\d\", txt)\n",
        "print(x)"
      ],
      "execution_count": null,
      "outputs": [
        {
          "output_type": "stream",
          "text": [
            "['5', '9']\n"
          ],
          "name": "stdout"
        }
      ]
    },
    {
      "cell_type": "code",
      "metadata": {
        "id": "GP5AL7EaUN2z",
        "colab": {
          "base_uri": "https://localhost:8080/",
          "height": 34
        },
        "outputId": "133e4de9-81bc-4adb-e5cc-3f02924e00b6"
      },
      "source": [
        "import re\n",
        "\n",
        "txt = \"hello world\"\n",
        "\n",
        "#Search for a sequence that starts with \"he\", followed by two (any) characters, and an \"o\":\n",
        "\n",
        "x = re.findall(\"he..o\", txt)\n",
        "print(x)"
      ],
      "execution_count": null,
      "outputs": [
        {
          "output_type": "stream",
          "text": [
            "['hello']\n"
          ],
          "name": "stdout"
        }
      ]
    },
    {
      "cell_type": "code",
      "metadata": {
        "id": "jJoyiLpNUSDt",
        "colab": {
          "base_uri": "https://localhost:8080/",
          "height": 34
        },
        "outputId": "d1fda233-c094-4075-a1a4-1d2dce8e3d16"
      },
      "source": [
        "import re\n",
        "\n",
        "txt = \"hello world\"\n",
        "\n",
        "#Check if the string starts with 'hello':\n",
        "\n",
        "x = re.findall(\"^hello\", txt)\n",
        "if x:\n",
        "  print(\"Yes, the string starts with 'hello'\")\n",
        "else:\n",
        "  print(\"No match\")\n"
      ],
      "execution_count": null,
      "outputs": [
        {
          "output_type": "stream",
          "text": [
            "Yes, the string starts with 'hello'\n"
          ],
          "name": "stdout"
        }
      ]
    },
    {
      "cell_type": "code",
      "metadata": {
        "id": "tIXqTvqVUX0w",
        "colab": {
          "base_uri": "https://localhost:8080/",
          "height": 34
        },
        "outputId": "e7218523-e535-4c90-ba96-fd642738373f"
      },
      "source": [
        "import re\n",
        "\n",
        "txt = \"hello world\"\n",
        "\n",
        "#Check if the string ends with 'world':\n",
        "\n",
        "x = re.findall(\"world$\", txt)\n",
        "if x:\n",
        "  print(\"Yes, the string ends with 'world'\")\n",
        "else:\n",
        "  print(\"No match\")\n"
      ],
      "execution_count": null,
      "outputs": [
        {
          "output_type": "stream",
          "text": [
            "Yes, the string ends with 'world'\n"
          ],
          "name": "stdout"
        }
      ]
    },
    {
      "cell_type": "code",
      "metadata": {
        "id": "ZbTfjcmJU1cj",
        "colab": {
          "base_uri": "https://localhost:8080/",
          "height": 52
        },
        "outputId": "aa97dfc3-19e4-4be8-be46-5411f3f48c8f"
      },
      "source": [
        "import re\n",
        "\n",
        "txt = \"The rain in Spain falls mainly in the plain!\"\n",
        "\n",
        "#Check if the string contains \"ai\" followed by 0 or more \"x\" characters:\n",
        "\n",
        "x = re.findall(\"aix*\", txt)\n",
        "\n",
        "print(x)\n",
        "\n",
        "if x:\n",
        "  print(\"Yes, there is at least one match!\")\n",
        "else:\n",
        "  print(\"No match\")\n"
      ],
      "execution_count": null,
      "outputs": [
        {
          "output_type": "stream",
          "text": [
            "['ai', 'ai', 'ai', 'ai']\n",
            "Yes, there is at least one match!\n"
          ],
          "name": "stdout"
        }
      ]
    },
    {
      "cell_type": "code",
      "metadata": {
        "id": "WeRqlreOU3fO",
        "colab": {
          "base_uri": "https://localhost:8080/",
          "height": 52
        },
        "outputId": "3d2c1ad8-777d-4e2c-fb8b-4fbd69121cd4"
      },
      "source": [
        "import re\n",
        "\n",
        "txt = \"The rain in Spain falls mainly in the plain!\"\n",
        "\n",
        "#Check if the string contains \"ai\" followed by 1 or more \"x\" characters:\n",
        "\n",
        "x = re.findall(\"aix+\", txt)\n",
        "\n",
        "print(x)\n",
        "\n",
        "if x:\n",
        "  print(\"Yes, there is at least one match!\")\n",
        "else:\n",
        "  print(\"No match\")\n"
      ],
      "execution_count": null,
      "outputs": [
        {
          "output_type": "stream",
          "text": [
            "[]\n",
            "No match\n"
          ],
          "name": "stdout"
        }
      ]
    },
    {
      "cell_type": "code",
      "metadata": {
        "id": "DRuAV4RAU7_K",
        "colab": {
          "base_uri": "https://localhost:8080/",
          "height": 52
        },
        "outputId": "77363b02-86c4-4d9c-8df7-565b9311349c"
      },
      "source": [
        "import re\n",
        "\n",
        "txt = \"The rain in Spain falls mainly in the plain!\"\n",
        "\n",
        "#Check if the string contains \"a\" followed by exactly two \"l\" characters:\n",
        "\n",
        "x = re.findall(\"al{2}\", txt)\n",
        "\n",
        "print(x)\n",
        "\n",
        "if x:\n",
        "  print(\"Yes, there is at least one match!\")\n",
        "else:\n",
        "  print(\"No match\")\n"
      ],
      "execution_count": null,
      "outputs": [
        {
          "output_type": "stream",
          "text": [
            "['all']\n",
            "Yes, there is at least one match!\n"
          ],
          "name": "stdout"
        }
      ]
    },
    {
      "cell_type": "code",
      "metadata": {
        "id": "zetpYxvpU-TC",
        "colab": {
          "base_uri": "https://localhost:8080/",
          "height": 52
        },
        "outputId": "2cb048ec-2802-491d-de82-707697d4268c"
      },
      "source": [
        "import re\n",
        "\n",
        "txt = \"The rain in Spain falls mainly in the plain!\"\n",
        "\n",
        "#Check if the string contains either \"falls\" or \"stays\":\n",
        "\n",
        "x = re.findall(\"falls|stays\", txt)\n",
        "\n",
        "print(x)\n",
        "\n",
        "if x:\n",
        "  print(\"Yes, there is at least one match!\")\n",
        "else:\n",
        "  print(\"No match\")\n"
      ],
      "execution_count": null,
      "outputs": [
        {
          "output_type": "stream",
          "text": [
            "['falls']\n",
            "Yes, there is at least one match!\n"
          ],
          "name": "stdout"
        }
      ]
    },
    {
      "cell_type": "markdown",
      "metadata": {
        "id": "XQkg12zXZXax"
      },
      "source": [
        "## **Special Sequences**\n",
        "\n",
        "* \\A -> \"\\AThe\"\t\n",
        "\n",
        "    Returns a match if the specified characters are at the beginning of the string\t\n",
        "\n",
        "* \\b -> r\"\\bain\" -> r\"ain\\b\"\n",
        "\n",
        "    Returns a match where the specified characters are at the beginning or at the end of a word (the \"r\" in the beginning is making sure that the string is being treated as a \"raw string\")\t\n",
        "\t\n",
        "\n",
        "* \\B -> r\"\\Bain\" -> r\"ain\\B\"\t\n",
        "\n",
        "    Returns a match where the specified characters are present, but NOT at the beginning (or at the end) of a word (the \"r\" in the beginning is making sure that the string is being treated as a \"raw string\")\t\n",
        "\n",
        "* \\d\n",
        "\n",
        "    Returns a match where the string contains digits (numbers from 0-9)\t\t\n",
        "\n",
        "* \\D\n",
        "\n",
        "    Returns a match where the string DOES NOT contain digits\t\"\\D\"\t\n",
        "\n",
        "* \\s\n",
        "\n",
        "    Returns a match where the string contains a white space character\t\"\\s\"\t\n",
        "\n",
        "* \\S\n",
        "\n",
        "    Returns a match where the string DOES NOT contain a white space character\t\"\\S\"\t\n",
        "\n",
        "* \\w\n",
        "\n",
        "    Returns a match where the string contains any word characters (characters from a to Z, digits from 0-9, and the underscore _ character)\t\"\\w\"\t\n",
        "\n",
        "* \\W\n",
        "\n",
        "    Returns a match where the string DOES NOT contain any word characters\t\"\\W\"\t\n",
        "\n",
        "* \\Z\n",
        "\n",
        "    Returns a match if the specified characters are at the end of the string\t\"Spain\\Z\""
      ]
    },
    {
      "cell_type": "markdown",
      "metadata": {
        "id": "XYnBRixhgbaV"
      },
      "source": [
        "## **Sets Characters**\n",
        "\n",
        "* [arn]\n",
        "\n",
        "    Returns a match where one of the specified characters (a, r, or n) are present\t\n",
        "\n",
        "* [a-n]\n",
        "\n",
        "    Returns a match for any lower case character, alphabetically between a and n\t\n",
        "\n",
        "* [^arn]\n",
        "\n",
        "    Returns a match for any character EXCEPT a, r, and n\t\n",
        "\n",
        "* [0123]\n",
        "\n",
        "    Returns a match where any of the specified digits (0, 1, 2, or 3) are present\t\n",
        "\n",
        "* [0-9]\n",
        "\n",
        "    Returns a match for any digit between 0 and 9\t\n",
        "\n",
        "* [0-5][0-9]\n",
        "\n",
        "    Returns a match for any two-digit numbers from 00 and 59\t\n",
        "\n",
        "* [a-zA-Z]\n",
        "\n",
        "    Returns a match for any character alphabetically between a and z, lower case OR upper case\t\n",
        "\n",
        "* [+]\n",
        "\n",
        "    In sets, +, *, ., |, (), $,{} has no special meaning, so [+] means: return a match for any + character in the string"
      ]
    },
    {
      "cell_type": "markdown",
      "metadata": {
        "id": "FPEdFajUAsUK"
      },
      "source": [
        "# **Import**\n",
        "\n",
        "***modul.py***\n",
        "\n",
        "`data = \"apa kabs?\"`\n",
        "\n",
        "`def cek_modul():`\n",
        "\n",
        "`---print(\"hallo gan\")`\n",
        "\n",
        "`print(\"ini adalah modul saya\")`\n",
        "\n",
        "\n",
        "***main.py***\n",
        "\n",
        "`import modul`\n",
        "\n",
        "`print(modul.data)`\n",
        "\n",
        "`modul.cek_modul()`\n",
        "\n",
        "output\n",
        "\n",
        "    ini adalah modul saya\n",
        "\n",
        "    apa kabs?\n",
        "\n",
        "    hallo gan\n"
      ]
    },
    {
      "cell_type": "markdown",
      "metadata": {
        "id": "YAXP2q_jHB5Y"
      },
      "source": [
        "# **Modul**"
      ]
    },
    {
      "cell_type": "code",
      "metadata": {
        "id": "1Y1vFIdHFT3C"
      },
      "source": [
        "# matematika.py\n",
        "\n",
        "# def tambah(a,b):\n",
        "#     print('fungsi tambah')\n",
        "#     print(a,'+',b,'=',a+b)\n",
        "\n",
        "# def kurang(a,b):\n",
        "#     print('fungsi kurang')\n",
        "#     print(a,'-',b,'=',a-b)"
      ],
      "execution_count": null,
      "outputs": []
    },
    {
      "cell_type": "code",
      "metadata": {
        "id": "16SlPnfoFbzg"
      },
      "source": [
        "# main.py\n",
        "\n",
        "# import matematika\n",
        "\n",
        "# matematika.tambah(3,4)\n",
        "# matematika.kurang(4,5)\n",
        "\n",
        "# -------------------------------------\n",
        "# Output\n",
        "\n",
        "# fungsi tambah\n",
        "# 3 + 4 = 7"
      ],
      "execution_count": null,
      "outputs": []
    },
    {
      "cell_type": "code",
      "metadata": {
        "id": "dNjz-5-ZGYy4"
      },
      "source": [
        "# import matematika as m\n",
        "#\n",
        "# m.tambah(3,4)\n",
        "# m.kurang(5,4)\n",
        "\n",
        "# -------------------------------------\n",
        "# Output\n",
        "\n",
        "# fungsi tambah\n",
        "# 3 + 4 = 7\n",
        "\n",
        "# fungsi kurang\n",
        "# 5 - 4 = 1"
      ],
      "execution_count": null,
      "outputs": []
    },
    {
      "cell_type": "code",
      "metadata": {
        "id": "y3Qd0FtdGatN"
      },
      "source": [
        "# from matematika import tambah, kurang\n",
        "# from matematika import *\n",
        "\n",
        "# tambah(4,5)\n",
        "# kurang(5,4)\n",
        "\n",
        "# -------------------------------------\n",
        "# Output\n",
        "\n",
        "# fungsi tambah\n",
        "# 3 + 4 = 7\n",
        "\n",
        "# fungsi kurang\n",
        "# 5 - 4 = 1"
      ],
      "execution_count": null,
      "outputs": []
    },
    {
      "cell_type": "code",
      "metadata": {
        "id": "aOU1BSlqGc7q"
      },
      "source": [
        "# from matematika import tambah as t\n",
        "\n",
        "# t(3,4)\n",
        "\n",
        "# -------------------------------------\n",
        "# Output\n",
        "\n",
        "# fungsi tambah\n",
        "# 3 + 4 = 7"
      ],
      "execution_count": null,
      "outputs": []
    },
    {
      "cell_type": "markdown",
      "metadata": {
        "id": "-oPMEQx98Abn"
      },
      "source": [
        "# **Modul 02**"
      ]
    },
    {
      "cell_type": "markdown",
      "metadata": {
        "id": "93KEK1yw8IOE"
      },
      "source": [
        "*hello.py*"
      ]
    },
    {
      "cell_type": "code",
      "metadata": {
        "id": "YejTu56T8El_"
      },
      "source": [
        "# def world():\n",
        "#     print(\"Hello, World!\")\n",
        "\n",
        "# nama = \"Nur Imam Masri\"\n",
        "\n",
        "# class Reviewer:\n",
        "#     def __init__(self, nama, kelas):\n",
        "#         self.nama = nama\n",
        "#         self.kelas = kelas\n",
        "#     def review(self):\n",
        "#         print(\"Reviewer \" + self.nama + \" bertanggung jawab di kelas \" + self.kelas)"
      ],
      "execution_count": null,
      "outputs": []
    },
    {
      "cell_type": "markdown",
      "metadata": {
        "id": "pOds4cR-8Pxe"
      },
      "source": [
        "*main.py*"
      ]
    },
    {
      "cell_type": "code",
      "metadata": {
        "id": "2KjSsDL-8SFJ"
      },
      "source": [
        "# import hello\n",
        "\n",
        "# hello.world()\n",
        "\n",
        "# print(hello.nama)\n",
        "\n",
        "# diko = hello.Reviewer(\"Diko\", \"Python\")\n",
        "# diko.review()\n",
        "\n",
        "# -----------------\n",
        "# Output\n",
        "# Hello, World!\n",
        "# Nur Imam Masri"
      ],
      "execution_count": null,
      "outputs": []
    },
    {
      "cell_type": "markdown",
      "metadata": {
        "id": "GXFArDUX8VhI"
      },
      "source": [
        ""
      ]
    },
    {
      "cell_type": "markdown",
      "metadata": {
        "id": "c3ijVIP9HEMy"
      },
      "source": [
        "# **Package**\n",
        "\n",
        "main.py \n",
        "\n",
        "sains (directory) -> \\_\\_init\\_\\_.py , fisika.py, matematika.py\n"
      ]
    },
    {
      "cell_type": "markdown",
      "metadata": {
        "id": "ARuC8HlSKV8j"
      },
      "source": [
        "\\_\\_init\\_\\_.py"
      ]
    },
    {
      "cell_type": "code",
      "metadata": {
        "id": "87MMBpheKYwn"
      },
      "source": [
        "# from .matematika import *\n",
        "# from .fisika import *"
      ],
      "execution_count": null,
      "outputs": []
    },
    {
      "cell_type": "markdown",
      "metadata": {
        "id": "RzC_ezAcKbDY"
      },
      "source": [
        "fisika.py"
      ]
    },
    {
      "cell_type": "code",
      "metadata": {
        "id": "1yGEnmA2TSm5"
      },
      "source": [
        "# def kecepatan(jarak, waktu):\n",
        "#     print('menghitung kecepatan')\n",
        "#     return jarak / waktu\n",
        "\n",
        "\n",
        "# def waktu_tempuh(kecepatan, jarak):\n",
        "#     print('menghitung waktu tempuh')\n",
        "#     return jarak / kecepatan"
      ],
      "execution_count": null,
      "outputs": []
    },
    {
      "cell_type": "markdown",
      "metadata": {
        "id": "OTqedpm7TWUA"
      },
      "source": [
        "matematika.py"
      ]
    },
    {
      "cell_type": "code",
      "metadata": {
        "id": "dN_y3wRdTZg1"
      },
      "source": [
        "# def tambah(a, b):\n",
        "#     print('fungsi tambah')\n",
        "#     return a + b\n",
        "\n",
        "\n",
        "# def kurang(a, b):\n",
        "#     print('fungsi kurang')\n",
        "#     return a - b"
      ],
      "execution_count": null,
      "outputs": []
    },
    {
      "cell_type": "markdown",
      "metadata": {
        "id": "a_q1ChJ_Tg9s"
      },
      "source": [
        "main.py"
      ]
    },
    {
      "cell_type": "code",
      "metadata": {
        "id": "ypHzoTSSTiVg"
      },
      "source": [
        "# from sains import tambah\n",
        "\n",
        "# tambah(2,1)"
      ],
      "execution_count": null,
      "outputs": []
    },
    {
      "cell_type": "markdown",
      "metadata": {
        "id": "kkSqh-0YgSEZ"
      },
      "source": [
        "# **\\_\\_main\\_\\_**"
      ]
    },
    {
      "cell_type": "code",
      "metadata": {
        "id": "yr30f0-SCXwv",
        "colab": {
          "base_uri": "https://localhost:8080/",
          "height": 510
        },
        "outputId": "d5c8c330-6986-4945-f13b-066059db13b5"
      },
      "source": [
        "# Variabel global untuk menyimpan data Buku\n",
        "buku = ['Matematika', 'Fisika', 'Biologi', 'Kimia']\n",
        "\n",
        "\n",
        "# fungsi untuk menampilkan semua data\n",
        "def show_data():\n",
        "    if len(buku) <= 0:\n",
        "        print(\"BELUM ADA DATA\")\n",
        "    else:\n",
        "        for indeks in range(len(buku)):\n",
        "            print(\"[%d] %s\" % (indeks, buku[indeks]))\n",
        "\n",
        "\n",
        "# fungsi untuk menambah data\n",
        "def insert_data():\n",
        "    buku_baru = input(\"Judul Buku: \")\n",
        "    buku.append(buku_baru)\n",
        "\n",
        "# fungsi untuk edit data\n",
        "def edit_data():\n",
        "    show_data()\n",
        "    indeks = int(input(\"Inputkan ID buku: \"))\n",
        "    if(indeks > len(buku)):\n",
        "        print(\"ID salah\")\n",
        "    else:\n",
        "        judul_baru = input(\"Judul baru: \")\n",
        "        buku[indeks] = judul_baru\n",
        "\n",
        "# fungsi untuk menhapus data\n",
        "def delete_data():\n",
        "    show_data()\n",
        "    indeks = input(\"Inputkan ID buku: \")\n",
        "    if(indeks > len(buku)):\n",
        "        print(\"ID salah\")\n",
        "    else:\n",
        "        buku.remove(buku[indeks])\n",
        "\n",
        "# fungsi untuk menampilkan menu\n",
        "def show_menu():\n",
        "    print(\"\\n\")\n",
        "    print(\"----------- MENU ----------\")\n",
        "    print(\"[1] Show Data\")\n",
        "    print(\"[2] Insert Data\")\n",
        "    print(\"[3] Edit Data\")\n",
        "    print(\"[4] Delete Data\")\n",
        "    print(\"[5] Exit\")\n",
        "    \n",
        "    menu = int(input(\"PILIH MENU> \"))\n",
        "    print(\"\\n\")\n",
        "\n",
        "    if menu == 1:\n",
        "        show_data()\n",
        "    elif menu == 2:\n",
        "        insert_data()\n",
        "    elif menu == 3:\n",
        "        edit_data()\n",
        "    elif menu == 4:\n",
        "        delete_data()\n",
        "    elif menu == 5:\n",
        "        exit()\n",
        "    else:\n",
        "        print(\"Salah pilih!\")\n",
        "\n",
        "\n",
        "if __name__ == \"__main__\":\n",
        "\n",
        "    while(True):\n",
        "        show_menu()"
      ],
      "execution_count": null,
      "outputs": [
        {
          "output_type": "stream",
          "text": [
            "\n",
            "\n",
            "----------- MENU ----------\n",
            "[1] Show Data\n",
            "[2] Insert Data\n",
            "[3] Edit Data\n",
            "[4] Delete Data\n",
            "[5] Exit\n",
            "\n",
            "\n",
            "[0] Matematika\n",
            "[1] Fisika\n",
            "[2] Biologi\n",
            "[3] Kimia\n",
            "\n",
            "\n",
            "----------- MENU ----------\n",
            "[1] Show Data\n",
            "[2] Insert Data\n",
            "[3] Edit Data\n",
            "[4] Delete Data\n",
            "[5] Exit\n",
            "\n",
            "\n",
            "[0] Matematika\n",
            "[1] Fisika\n",
            "[2] Biologi\n",
            "[3] Kimia\n"
          ],
          "name": "stdout"
        }
      ]
    },
    {
      "cell_type": "markdown",
      "metadata": {
        "id": "k42Za2R5ouVA"
      },
      "source": [
        "# **Input Output File**\n",
        "\n",
        "**<h4>File Handling</h4>**\n",
        "\n",
        "The key function for working with files in Python is the open() function.\n",
        "\n",
        "The open() function takes two parameters; filename, and mode.\n",
        "\n",
        "There are four different methods (modes) for opening a file:\n",
        "\n",
        "> \"r\" - Read - Default value. Opens a file for reading, error if the file does not exist\n",
        "\n",
        "> \"a\" - Append - Opens a file for appending, creates the file if it does not exist\n",
        "\n",
        "> \"w\" - Write - Opens a file for writing, creates the file if it does not exist\n",
        "\n",
        "> \"x\" - Create - Creates the specified file, returns an error if the file exists\n",
        "\n",
        "In addition you can specify if the file should be handled as binary or text mode\n",
        "\n",
        "> \"t\" - Text - Default value. Text mode\n",
        "\n",
        "> \"b\" - Binary - Binary mode (e.g. images)\n",
        "\n",
        "To open a file for reading it is enough to specify the name of the file:\n",
        "\n",
        "`f = open(\"demofile.txt\")`\n",
        "\n",
        "The code above is the same as:\n",
        "\n",
        "`f = open(\"demofile.txt\", \"rt\")`\n",
        "\n",
        "Because \"r\" for read, and \"t\" for text are the default values, you do not need to specify them.\n",
        "\n",
        "**<h4>Open a File on the Server</h4>**\n",
        "\n",
        "`f = open(\"demofile.txt\", \"r\")`\n",
        "\n",
        "`print(f.read())`\n",
        "\n",
        "If the file is located in a different location, you will have to specify the file path\n",
        "\n",
        "`f = open(\"D:\\\\myfiles\\welcome.txt\", \"r\")`\n",
        "\n",
        "`print(f.read())`\n",
        "\n",
        "**<h4>Read Only Parts of the File</h4>**\n",
        "\n",
        "`f = open(\"demofile.txt\", \"r\")`\n",
        "\n",
        "`print(f.read(5))`\n",
        "\n",
        "**<h4>Read Lines</h4>**\n",
        "\n",
        "Read one line of the file:\n",
        "\n",
        "`f = open(\"demofile.txt\", \"r\")`\n",
        "\n",
        "`print(f.readline())`\n",
        "\n",
        "By calling readline() two times, you can read the two first lines:\n",
        "\n",
        "Read two lines of the file:\n",
        "\n",
        "`f = open(\"demofile.txt\", \"r\")`\n",
        "\n",
        "`print(f.readline())`\n",
        "\n",
        "`print(f.readline())`\n",
        "\n",
        "Loop through the file line by line:\n",
        "\n",
        "`f = open(\"demofile.txt\", \"r\")`\n",
        "\n",
        "`for x in f :`\n",
        "\n",
        "`--print(x)`\n",
        "\n",
        "**<h4>Close Files</h4>**\n",
        "\n",
        "`f = open(\"demofile.txt\", \"r\")`\n",
        "\n",
        "`print(f.readline())`\n",
        "\n",
        "`f.close()`\n",
        "\n",
        "**<h4>Create a New File</h4>**\n",
        "\n",
        "To create a new file in Python, use the open() method, with one of the following parameters:\n",
        "\n",
        "> \"x\" - Create - will create a file, returns an error if the file exist\n",
        "\n",
        "> \"a\" - Append - will create a file if the specified file does not exist\n",
        "\n",
        "> \"w\" - Write - will create a file if the specified file does not exist\n",
        "\n",
        "Create a file called \"myfile.txt\":\n",
        "\n",
        "`f = open(\"myfile.txt\", \"x\")`\n",
        "\n",
        "Create a new file if it does not exist:\n",
        "\n",
        "`f = open(\"myfile.txt\", \"w\")`\n",
        "\n",
        "**<h4>Write to an Existing File</h4>**\n",
        "\n",
        "To write to an existing file, you must add a parameter to the open() function:\n",
        "\n",
        "\"a\" - Append - will append to the end of the file\n",
        "\n",
        "\"w\" - Write - will overwrite any existing content\n",
        "\n",
        "Open the file \"demofile2.txt\" and append content to the file:\n",
        "\n",
        "`f = open(\"demofile2.txt\", \"a\")`\n",
        "\n",
        "`f.write(\"Now the file has more content!\")`\n",
        "\n",
        "`f.close()`\n",
        "\n",
        "\n",
        "`f = open(\"demofile2.txt\", \"r\")`\n",
        "\n",
        "`print(f.read())`\n",
        "\n",
        "Open the file \"demofile3.txt\" and overwrite the content:\n",
        "\n",
        "`f = open(\"demofile3.txt\", \"w\")`\n",
        "\n",
        "`f.write(\"Woops! I have deleted the content!\")`\n",
        "\n",
        "`f.close()`\n",
        "\n",
        "`f = open(\"demofile3.txt\", \"r\")`\n",
        "\n",
        "`print(f.read())`\n",
        "\n",
        "**<h4>Delete a File</h4>**\n",
        "\n",
        "To delete a file, you must import the OS module, and run its os.remove() function:\n",
        "\n",
        "`import os`\n",
        "\n",
        "`os.remove(\"demofile.txt\")`\n",
        "\n",
        "**<h4>Check if File exist</h4>**\n",
        "\n",
        "`import os`\n",
        "\n",
        "`if os.path.exists(\"demofile.txt\"):`\n",
        "\n",
        "`--os.remove(\"demofile.txt\")`\n",
        "\n",
        "`else:`\n",
        "\n",
        "`--print(\"The file does not exist\")`\n",
        "\n",
        "**<h4>Delete Folder</h4>**\n",
        "\n",
        "`import os`\n",
        "\n",
        "`os.rmdir(\"myfolder\")`\n",
        "\n",
        "\n"
      ]
    },
    {
      "cell_type": "code",
      "metadata": {
        "id": "2ieVZwmsozLB",
        "colab": {
          "base_uri": "https://localhost:8080/",
          "height": 52
        },
        "outputId": "ab725c81-7931-44d0-8acc-ebbf304b5dd3"
      },
      "source": [
        "# input output file\n",
        "\n",
        "\n",
        "\n",
        "\"\"\"\n",
        "w = write mode / mode menulis dan menghapus file lama, jika file tidak ada maka akan dibuat file baru\n",
        "r = read mode only / hanya bisa baca\n",
        "a = appending mode / menambahkan data di akhir baris\n",
        "r+ = write and read mode\n",
        "\"\"\"\n",
        "# membuat file text\n",
        "\n",
        "file = open(\"data.txt\",'w')\n",
        "\n",
        "file.write(\"ini adalah data text yang dibuat dengan menggunakan python\")\n",
        "file.write(\"\\nini baris kedua\")\n",
        "file.write(\"\\nini baris ketiga\")\n",
        "file.write(\"\\nini baris keempat\")\n",
        "\n",
        "file.close()\n",
        "\n",
        "# membaca file text\n",
        "\n",
        "file2 = open(\"data.txt\",'r')\n",
        "\n",
        "#print(file2.read(10))\n",
        "\n",
        "print(file2.readline())\n",
        "\n",
        "file2.close()\n",
        "\n",
        "\n",
        "# appending mode\n",
        "\n",
        "file3 = open(\"data.txt\", 'a')\n",
        "\n",
        "file3.write(\"\\nbaris ini dibuat dengan menggunakan mode append\")\n",
        "\n",
        "file3.close()"
      ],
      "execution_count": null,
      "outputs": [
        {
          "output_type": "stream",
          "text": [
            "ini adalah data text yang dibuat dengan menggunakan python\n",
            "\n"
          ],
          "name": "stdout"
        }
      ]
    },
    {
      "cell_type": "markdown",
      "metadata": {
        "id": "qjUmhfA-oyeC"
      },
      "source": [
        "# **Try and Exception**\n",
        "\n",
        "Ada setidaknya dua jenis kesalahan berdasarkan kejadiannya: \n",
        "\n",
        "* Kesalahan sintaksis (syntax errors) atau sering disebut kesalahan penguraian (parsing errors)\n",
        "\n",
        "* Pengecualian (exceptions) atau sering disebut kesalahan saat beroperasi (runtime errors)\n",
        "\n",
        "Kesalahan sintaksis terjadi ketika Python tidak dapat mengerti apa yang Anda perintahkan. Sedangkan pengecualian (kesalahan saat beroperasi) terjadi ketika Python mengerti apa yang Anda perintahkan tetapi mendapatkan masalah saat mengikuti yang Anda perintahkan (terjadi saat aplikasi sudah mulai beroperasi).\n",
        "\n",
        "Kesalahan Sintaksis -> indentasi, invalid syntax\n",
        "\n",
        "Pengecualian -> is not define, type input error\n",
        "\n",
        "The `try` block lets you test a block of code for errors.\n",
        "\n",
        "The `except` block lets you handle the error.\n",
        "\n",
        "The `finally` block lets you execute code, regardless of the result of the try- and except blocks.\n",
        "\n",
        "![tryexceptionteori.png](https://raw.githubusercontent.com/nurimammasri/Wooky-Python/main/image/tryexceptionteori.png)\n",
        "\n"
      ]
    },
    {
      "cell_type": "code",
      "metadata": {
        "id": "2t98Auukis8H",
        "colab": {
          "base_uri": "https://localhost:8080/",
          "height": 34
        },
        "outputId": "6180b5d3-d5f1-430a-b212-edee56a93abb"
      },
      "source": [
        "#The try block will generate an error, because x is not defined:\n",
        "\n",
        "try:\n",
        "  print(z)\n",
        "except:\n",
        "  print(\"An exception occurred\")\n"
      ],
      "execution_count": null,
      "outputs": [
        {
          "output_type": "stream",
          "text": [
            "An exception occurred\n"
          ],
          "name": "stdout"
        }
      ]
    },
    {
      "cell_type": "markdown",
      "metadata": {
        "id": "WSg_lY6Iixjh"
      },
      "source": [
        "You can define as many exception blocks as you want, e.g. if you want to execute a special block of code for a special kind of error:"
      ]
    },
    {
      "cell_type": "code",
      "metadata": {
        "id": "wXxewZyJi0OK",
        "colab": {
          "base_uri": "https://localhost:8080/",
          "height": 34
        },
        "outputId": "ec5242a7-a1a0-4b2b-9845-c9678184ca0a"
      },
      "source": [
        "#The try block will generate a NameError, because x is not defined:\n",
        "\n",
        "try:\n",
        "  print(z)\n",
        "except NameError:\n",
        "  print(\"Variable x is not defined\")\n",
        "except:\n",
        "  print(\"Something else went wrong\")\n"
      ],
      "execution_count": null,
      "outputs": [
        {
          "output_type": "stream",
          "text": [
            "Variable x is not defined\n"
          ],
          "name": "stdout"
        }
      ]
    },
    {
      "cell_type": "code",
      "metadata": {
        "colab": {
          "base_uri": "https://localhost:8080/"
        },
        "id": "Rn16P1XP1mSO",
        "outputId": "e8fd0810-ae68-46a2-d16f-b89cc0bd5d26"
      },
      "source": [
        "nol = 0\n",
        "try:\n",
        "    x = 1 / nol\n",
        "    print(x)\n",
        "except ZeroDivisionError:\n",
        "    print('tidak bisa membagi angka dengan nilai nol')"
      ],
      "execution_count": null,
      "outputs": [
        {
          "output_type": "stream",
          "text": [
            "tidak bisa membagi angka dengan nilai nol\n"
          ],
          "name": "stdout"
        }
      ]
    },
    {
      "cell_type": "code",
      "metadata": {
        "id": "k1vQZvXxpHTJ",
        "colab": {
          "base_uri": "https://localhost:8080/",
          "height": 34
        },
        "outputId": "74c83608-34e2-492e-a9de-6073f4f02572"
      },
      "source": [
        "try:\n",
        "    with open('contoh_tidak_ada.py') as file:                   \n",
        "        print(file.read())                          \n",
        "except (FileNotFoundError, ):\n",
        "    print('file tidak ditemukan')"
      ],
      "execution_count": null,
      "outputs": [
        {
          "output_type": "stream",
          "text": [
            "file tidak ditemukan\n"
          ],
          "name": "stdout"
        }
      ]
    },
    {
      "cell_type": "code",
      "metadata": {
        "id": "57V2WGrPozno",
        "colab": {
          "base_uri": "https://localhost:8080/",
          "height": 87
        },
        "outputId": "8cc8d018-c5a0-42f4-e8a7-62c4d2c68af5"
      },
      "source": [
        "print(\"ini adalah program pembagian\")\n",
        "\n",
        "while True:\n",
        "    try:\n",
        "        # import panda\n",
        "        penyebut = int(input(\"masukan angka penyebut: \"))\n",
        "        pembilang = int(input(\"masukan angka pembilang: \"))\n",
        "        hasil = penyebut/pembilang\n",
        "        break\n",
        "    except ValueError:\n",
        "        print(\"yang anda masukan bukan angka\\n\")\n",
        "    except ZeroDivisionError:\n",
        "        print(\"angka pembilang yang anda masukan adalah nol, pilih yang lain ya bro/sist\\n\")\n",
        "    except Exception as err:\n",
        "        print(err)\n",
        "\n",
        "\"\"\"\n",
        "    type of exception errors:\n",
        "    1. IOError\n",
        "    2. ImportError\n",
        "    3. ValueError\n",
        "    4. Division by zero\n",
        "    5. KeyboardInterupted\n",
        "    6. EOFError\n",
        "\"\"\"\n",
        "\n",
        "print(\"berhasil, hasil pembagian adalah: \", hasil)"
      ],
      "execution_count": null,
      "outputs": [
        {
          "output_type": "stream",
          "text": [
            "ini adalah program pembagian\n",
            "masukan angka penyebut: 3\n",
            "masukan angka pembilang: 5\n",
            "berhasil, hasil pembagian adalah:  0.6\n"
          ],
          "name": "stdout"
        }
      ]
    },
    {
      "cell_type": "code",
      "metadata": {
        "id": "Yf_NisVzud4-",
        "colab": {
          "base_uri": "https://localhost:8080/",
          "height": 34
        },
        "outputId": "6db30e55-e287-4d8f-b4a0-34bb7b0a07ee"
      },
      "source": [
        "try:\n",
        "  import panda\n",
        "except ImportError:\n",
        "  print(\"gak ada modulnya bro\")"
      ],
      "execution_count": null,
      "outputs": [
        {
          "output_type": "stream",
          "text": [
            "gak ada modulnya bro\n"
          ],
          "name": "stdout"
        }
      ]
    },
    {
      "cell_type": "code",
      "metadata": {
        "id": "umzNyVLbpW5p",
        "colab": {
          "base_uri": "https://localhost:8080/",
          "height": 34
        },
        "outputId": "79c8dfa9-1e0a-48b8-d553-f3e7ebd264dd"
      },
      "source": [
        "# Contoh Exception kunci tidak ditemukan di DICTIONARY\n",
        "d = {'ratarata': '10.0'}\n",
        "try:\n",
        "    print('rata-rata: {}'.format(d['rata_rata']))\n",
        "except KeyError:                                 \n",
        "    print('kunci tidak ditemukan di dictionary')\n",
        "except ValueError:              \n",
        "    print('nilai tidak sesuai')"
      ],
      "execution_count": null,
      "outputs": [
        {
          "output_type": "stream",
          "text": [
            "kunci tidak ditemukan di dictionary\n"
          ],
          "name": "stdout"
        }
      ]
    },
    {
      "cell_type": "code",
      "metadata": {
        "id": "-_qxDxWlpbao",
        "colab": {
          "base_uri": "https://localhost:8080/",
          "height": 34
        },
        "outputId": "35be1b0e-d6e9-4e41-d754-2796ee63ebf0"
      },
      "source": [
        "# Contoh Exception tipe tidak sesuai di DICTIONARY\n",
        "d = {'ratarata': '10.0'}\n",
        "try:\n",
        "    print('rata-rata: {}'.format(d['ratarata']/3))\n",
        "except KeyError:                                 \n",
        "    print('kunci tidak ditemukan di dictionary')\n",
        "except (ValueError, TypeError):\n",
        "    print('nilai atau tipe tidak sesuai')"
      ],
      "execution_count": null,
      "outputs": [
        {
          "output_type": "stream",
          "text": [
            "nilai atau tipe tidak sesuai\n"
          ],
          "name": "stdout"
        }
      ]
    },
    {
      "cell_type": "code",
      "metadata": {
        "id": "HG73N7nipqYm",
        "colab": {
          "base_uri": "https://localhost:8080/"
        },
        "outputId": "96d8fe90-cafc-4c13-90d6-19afb0f6874f"
      },
      "source": [
        "# Contoh Exception tipe konversi tidak cocok di DICTIONARY\n",
        "d = {'ratarata': '10.0'}\n",
        "try:\n",
        "    print('pembulatan rata-rata: {}'.format(int(d['ratarata'])))\n",
        "except (ValueError, TypeError) as e:         \n",
        "    print('penangan kesalahan: {}'.format(e))"
      ],
      "execution_count": null,
      "outputs": [
        {
          "output_type": "stream",
          "text": [
            "penangan kesalahan: invalid literal for int() with base 10: '10.0'\n"
          ],
          "name": "stdout"
        }
      ]
    },
    {
      "cell_type": "markdown",
      "metadata": {
        "id": "WThrtixhkE9N"
      },
      "source": [
        "**<h4>*Else*</h4>**\n",
        "\n",
        "if no errors were raise"
      ]
    },
    {
      "cell_type": "code",
      "metadata": {
        "id": "19KAH089kRqF",
        "colab": {
          "base_uri": "https://localhost:8080/",
          "height": 52
        },
        "outputId": "b310d297-4c12-4ea2-ff8f-8d45d6c4adfa"
      },
      "source": [
        "try:\n",
        "  print(\"Hello\")\n",
        "except:\n",
        "  print(\"Something went wrong\")\n",
        "else:\n",
        "  print(\"Nothing went wrong\")"
      ],
      "execution_count": null,
      "outputs": [
        {
          "output_type": "stream",
          "text": [
            "Hello\n",
            "Nothing went wrong\n"
          ],
          "name": "stdout"
        }
      ]
    },
    {
      "cell_type": "markdown",
      "metadata": {
        "id": "vi-brXIhkVyi"
      },
      "source": [
        "**<h4>*Finally*</h4>**\n",
        "\n",
        "The finally block, if specified, will be executed regardless if the try block raises an error or not."
      ]
    },
    {
      "cell_type": "code",
      "metadata": {
        "id": "9iT2px1MkVLH",
        "colab": {
          "base_uri": "https://localhost:8080/",
          "height": 52
        },
        "outputId": "ebd71bf2-0222-4ca4-f4da-e9d25749ddef"
      },
      "source": [
        "try:\n",
        "  print(z)\n",
        "except:\n",
        "  print(\"Something went wrong\")\n",
        "finally:\n",
        "  print(\"The 'try except' is finished\")"
      ],
      "execution_count": null,
      "outputs": [
        {
          "output_type": "stream",
          "text": [
            "Something went wrong\n",
            "The 'try except' is finished\n"
          ],
          "name": "stdout"
        }
      ]
    },
    {
      "cell_type": "code",
      "metadata": {
        "id": "Y-L397relyQx"
      },
      "source": [
        "# This can be useful to close objects and clean up resources:\n",
        "\n",
        "# try:\n",
        "#   f = open(\"demofile.txt\")\n",
        "#   f.write(\"Lorum Ipsum\")\n",
        "# except:\n",
        "#   print(\"Something went wrong when writing to the file\")\n",
        "# finally:\n",
        "#   f.close()"
      ],
      "execution_count": null,
      "outputs": []
    },
    {
      "cell_type": "markdown",
      "metadata": {
        "id": "pwGD4FNin-WY"
      },
      "source": [
        "**<h4>*Raise*</h4>**"
      ]
    },
    {
      "cell_type": "code",
      "metadata": {
        "id": "0gSz9fGzoceH"
      },
      "source": [
        "# Raise an error and stop the program if x is lower than 0:\n",
        "\n",
        "x = -1\n",
        "\n",
        "if x < 0:\n",
        "  raise Exception(\"Sorry, no numbers below zero\")"
      ],
      "execution_count": null,
      "outputs": []
    }
  ]
}