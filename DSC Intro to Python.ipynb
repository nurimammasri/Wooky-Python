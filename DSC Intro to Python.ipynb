{
  "nbformat": 4,
  "nbformat_minor": 0,
  "metadata": {
    "colab": {
      "name": "DSC Intro to Python.ipynb",
      "provenance": [],
      "collapsed_sections": [],
      "toc_visible": true
    },
    "kernelspec": {
      "name": "python3",
      "display_name": "Python 3"
    }
  },
  "cells": [
    {
      "cell_type": "markdown",
      "metadata": {
        "id": "wS3irTnwu04i"
      },
      "source": [
        "<img alt=\"DSC Unhas logo\" src=\"https://drive.google.com/uc?export=view&id=1ET_yhAUAcpU98KklqF1TeYOU63jeUQNm\" align=\"left\" hspace=\"10px\" vspace=\"10px\"/>\n",
        "\n",
        "<br><br><br><br>\n",
        "\n",
        "# **Introduction to Python Part 1**\n",
        "\n",
        "This colab will cover some introduction to Python Programming Language : \n",
        "- How to output a text\n",
        "- Comment in Python\n",
        "- Variables in Python\n",
        "- Casting\n",
        "- String\n",
        "- Operators\n",
        "- If - Else\n",
        "- Looping\n",
        "- Function\n",
        "- Data Structure in Python"
      ]
    },
    {
      "cell_type": "markdown",
      "metadata": {
        "id": "BBqE5B6HZggC"
      },
      "source": [
        "## **Print Command**\n",
        "\n",
        "To put an output, you can just call print command : **print(  )**"
      ]
    },
    {
      "cell_type": "code",
      "metadata": {
        "id": "V-jDckAyuowf",
        "colab": {
          "base_uri": "https://localhost:8080/",
          "height": 34
        },
        "outputId": "92639ee5-0da5-4d08-b731-f83337497d5f"
      },
      "source": [
        "print(\"Hello DSC Universitas Hasanuddin\")"
      ],
      "execution_count": null,
      "outputs": [
        {
          "output_type": "stream",
          "text": [
            "Hello DSC Universitas Hasanuddin\n"
          ],
          "name": "stdout"
        }
      ]
    },
    {
      "cell_type": "code",
      "metadata": {
        "id": "JYt8T-6LLCiA",
        "colab": {
          "base_uri": "https://localhost:8080/",
          "height": 34
        },
        "outputId": "b171da87-c26e-4bd0-97fb-6a423f81a0e3"
      },
      "source": [
        "print(10)"
      ],
      "execution_count": null,
      "outputs": [
        {
          "output_type": "stream",
          "text": [
            "10\n"
          ],
          "name": "stdout"
        }
      ]
    },
    {
      "cell_type": "code",
      "metadata": {
        "id": "Oq8E1ZnziROo",
        "colab": {
          "base_uri": "https://localhost:8080/",
          "height": 34
        },
        "outputId": "599f6903-dafc-4a00-c08a-927f6ac108bd"
      },
      "source": [
        "10"
      ],
      "execution_count": null,
      "outputs": [
        {
          "output_type": "execute_result",
          "data": {
            "text/plain": [
              "10"
            ]
          },
          "metadata": {
            "tags": []
          },
          "execution_count": 78
        }
      ]
    },
    {
      "cell_type": "markdown",
      "metadata": {
        "id": "edmN91f6iceV"
      },
      "source": [
        "Try to print something on your own."
      ]
    },
    {
      "cell_type": "code",
      "metadata": {
        "id": "fz-CyVXBiR8B",
        "colab": {
          "base_uri": "https://localhost:8080/",
          "height": 122
        },
        "outputId": "7f56d4b6-75ec-4d1a-e4c2-3202177c90de"
      },
      "source": [
        "# TODO : Print a text\n",
        "print(\"Nur Imam Masri\")\n",
        "print(\"\"\"\n",
        "Nur Imam Masri\n",
        "D12181322\n",
        "Teknik Informatika\n",
        "\"\"\")\n",
        "\n"
      ],
      "execution_count": null,
      "outputs": [
        {
          "output_type": "stream",
          "text": [
            "Nur Imam Masri\n",
            "\n",
            "Nur Imam Masri\n",
            "D12181322\n",
            "Teknik Informatika\n",
            "\n"
          ],
          "name": "stdout"
        }
      ]
    },
    {
      "cell_type": "markdown",
      "metadata": {
        "id": "jlOyTafEiqEJ"
      },
      "source": [
        "## **Comment in Python**\n",
        "\n",
        "Comments can be used to :\n",
        "- make the code more readable\n",
        "- prevent execution when testing code\n",
        "\n",
        "In Python, you can make comment using **#** command."
      ]
    },
    {
      "cell_type": "code",
      "metadata": {
        "id": "1adUV7fliv3M",
        "colab": {
          "base_uri": "https://localhost:8080/",
          "height": 34
        },
        "outputId": "715e4ab7-a7c8-400b-a39b-ef0dea8a33dc"
      },
      "source": [
        "# This is the explanation of code\n",
        "print(\"Comment is not execute.\")"
      ],
      "execution_count": null,
      "outputs": [
        {
          "output_type": "stream",
          "text": [
            "Comment is not execute.\n"
          ],
          "name": "stdout"
        }
      ]
    },
    {
      "cell_type": "markdown",
      "metadata": {
        "id": "uMnJA3s9ptzo"
      },
      "source": [
        "For multi-line command you can use triple quotes and place command inside it."
      ]
    },
    {
      "cell_type": "code",
      "metadata": {
        "id": "WwWW_zS9n8aT",
        "colab": {
          "base_uri": "https://localhost:8080/",
          "height": 34
        },
        "outputId": "70b7f342-8a91-49cf-d893-906abebc6307"
      },
      "source": [
        "\"\"\"\n",
        "MultiLine\n",
        "First line comment\n",
        "Second line comment\n",
        "\"\"\"\n",
        "\n",
        "\"Comment Singgle Line\"\n",
        "\n",
        "print(\"Comment is not execute\")"
      ],
      "execution_count": null,
      "outputs": [
        {
          "output_type": "stream",
          "text": [
            "Comment is not execute\n"
          ],
          "name": "stdout"
        }
      ]
    },
    {
      "cell_type": "markdown",
      "metadata": {
        "id": "F7eGm0cvtmyN"
      },
      "source": [
        "## **Variables in Python**\n",
        "\n",
        "Data values can be stored in variables. Unlike other programming language, Python don't have command for declaring a variable. A variable is created at the moment you assign a value to it. Also, variable don't need to be declared with any particular type and can even change type after they have been set."
      ]
    },
    {
      "cell_type": "code",
      "metadata": {
        "id": "TEWS7xRDqVCP",
        "colab": {
          "base_uri": "https://localhost:8080/",
          "height": 34
        },
        "outputId": "e15574c4-fd9d-4a12-c714-0685d50076d8"
      },
      "source": [
        "x = 'DSC Unhas' # type of x is string\n",
        "\n",
        "x = 10          # type of x change to int\n",
        "\n",
        "print(x)"
      ],
      "execution_count": null,
      "outputs": [
        {
          "output_type": "stream",
          "text": [
            "10\n"
          ],
          "name": "stdout"
        }
      ]
    },
    {
      "cell_type": "markdown",
      "metadata": {
        "id": "wtuGOArYD0PJ"
      },
      "source": [
        "A variable can have a short name (like x and y) or a more descriptive name (age, carName, total_volume). Rules for Python variables:\n",
        "- A variable name **must** start with a letter or the underscore character\n",
        "- A variable name **cannot start with a number**\n",
        "- A variable name can only contain **alpha-numeric characters and underscores** (A-z, 0-9, and _ )\n",
        "\n",
        "Variable names are case-sensitive (age, Age and AGE are three different variables)"
      ]
    },
    {
      "cell_type": "markdown",
      "metadata": {
        "id": "oGv1UO_uGSvi"
      },
      "source": [
        "Besides, Python also allows you to assign values to **multiple variables** in one line."
      ]
    },
    {
      "cell_type": "code",
      "metadata": {
        "id": "KzGSTBMSDaJy",
        "colab": {
          "base_uri": "https://localhost:8080/",
          "height": 70
        },
        "outputId": "665eb977-e7ca-4959-c702-5584460eac4c"
      },
      "source": [
        "a, b, c = \"DSC\", 'Unhas', 1\n",
        "\n",
        "print(a)\n",
        "print(b)\n",
        "print(c)"
      ],
      "execution_count": null,
      "outputs": [
        {
          "output_type": "stream",
          "text": [
            "DSC\n",
            "Unhas\n",
            "1\n"
          ],
          "name": "stdout"
        }
      ]
    },
    {
      "cell_type": "markdown",
      "metadata": {
        "id": "N69H7AlbGrfq"
      },
      "source": [
        "Or, you can assingn **same value** to multiple variables in one line."
      ]
    },
    {
      "cell_type": "code",
      "metadata": {
        "id": "lTWVTboyGlzv",
        "colab": {
          "base_uri": "https://localhost:8080/",
          "height": 34
        },
        "outputId": "e92f4b46-44ca-4034-ab02-68b900564a8d"
      },
      "source": [
        "a = b = c = \"DSC Unhas\"\n",
        "\n",
        "print(a, b, c)"
      ],
      "execution_count": null,
      "outputs": [
        {
          "output_type": "stream",
          "text": [
            "DSC Unhas DSC Unhas DSC Unhas\n"
          ],
          "name": "stdout"
        }
      ]
    },
    {
      "cell_type": "code",
      "metadata": {
        "id": "FEsdCPeRECtn",
        "colab": {
          "base_uri": "https://localhost:8080/",
          "height": 70
        },
        "outputId": "a0aaf862-a1cd-4dcf-fab3-77575c86474a"
      },
      "source": [
        "x = 10\n",
        "y = 20\n",
        "z = 30\n",
        "\n",
        "#Type of print out variable\n",
        "print(\"x = \",x,\", y = \",y,\" z = \", z)\n",
        "print(\"x = \"+ str(x) +\", y = \"+ str(y) +\", z = \"+ str(z))\n",
        "print(\"x = %d, y = %d, z = %d\" % (x,y,z))\n",
        "\n"
      ],
      "execution_count": null,
      "outputs": [
        {
          "output_type": "stream",
          "text": [
            "x =  10 , y =  20  z =  30\n",
            "x = 10, y = 20, z = 30\n",
            "x = 10, y = 20, z = 30\n"
          ],
          "name": "stdout"
        }
      ]
    },
    {
      "cell_type": "markdown",
      "metadata": {
        "id": "WBlzSikUJyCb"
      },
      "source": [
        "## **Casting**\n",
        "\n",
        "There may be times when you want to specify a type on to a variable. This can be done with casting. Python is an object-orientated language, and as such it uses classes to define data types, including its primitive types.\n",
        "\n",
        "Casting in python is therefore done using constructor functions:\n",
        "\n",
        "- **int()** - constructs an integer number from an integer literal, a float literal (by rounding down to the previous whole number), or a string literal (providing the string represents a whole number)\n",
        "- **float()** - constructs a float number from an integer literal, a float literal or a string literal (providing the string represents a float or an integer)\n",
        "- **str()** - constructs a string from a wide variety of data types, including strings, integer literals and float literals"
      ]
    },
    {
      "cell_type": "code",
      "metadata": {
        "id": "yzkbDXZ6HMlT",
        "colab": {
          "base_uri": "https://localhost:8080/",
          "height": 34
        },
        "outputId": "248eac3c-7b91-4161-fc03-15b5d3706cb8"
      },
      "source": [
        "# Cast value to int\n",
        "\n",
        "a = int(10)\n",
        "b = int(10.82)\n",
        "c = int('3')\n",
        "\n",
        "print(a, b, c)"
      ],
      "execution_count": null,
      "outputs": [
        {
          "output_type": "stream",
          "text": [
            "10 10 3\n"
          ],
          "name": "stdout"
        }
      ]
    },
    {
      "cell_type": "code",
      "metadata": {
        "id": "GvEbW6xfKz8c",
        "colab": {
          "base_uri": "https://localhost:8080/",
          "height": 34
        },
        "outputId": "73c83a80-1bea-4668-a830-82c7667c57a1"
      },
      "source": [
        "# Cast value to float\n",
        "\n",
        "a = float(10)\n",
        "b = float(10.82)\n",
        "c = float('3.02')\n",
        "\n",
        "print(a, b, c)"
      ],
      "execution_count": null,
      "outputs": [
        {
          "output_type": "stream",
          "text": [
            "10.0 10.82 3.02\n"
          ],
          "name": "stdout"
        }
      ]
    },
    {
      "cell_type": "code",
      "metadata": {
        "id": "XXpD7OI8LJkY",
        "colab": {
          "base_uri": "https://localhost:8080/",
          "height": 34
        },
        "outputId": "cebdf53f-3047-4883-e811-f3f39d05d68a"
      },
      "source": [
        "# Cast value to string\n",
        "\n",
        "a = str(10)\n",
        "b = str(10.82)\n",
        "c = str('3.02')\n",
        "\n",
        "print(a, b, c)"
      ],
      "execution_count": null,
      "outputs": [
        {
          "output_type": "stream",
          "text": [
            "10 10.82 3.02\n"
          ],
          "name": "stdout"
        }
      ]
    },
    {
      "cell_type": "markdown",
      "metadata": {
        "id": "vKKd1rcxLo0f"
      },
      "source": [
        "Why casting is important? Because you can't concatenate a string and a number. One of the ways to concatenate is to cast number value to string using **str()**."
      ]
    },
    {
      "cell_type": "code",
      "metadata": {
        "id": "8ZFqNoMgLQ-p",
        "colab": {
          "base_uri": "https://localhost:8080/",
          "height": 202
        },
        "outputId": "927d474d-f580-48f0-f497-068d7dbc4ccf"
      },
      "source": [
        "text = \"This year is \"\n",
        "year = 2020\n",
        "\n",
        "# TODO : fix the error\n",
        "print(text + year)  # this will throw an error. Try to cast year to string first"
      ],
      "execution_count": null,
      "outputs": [
        {
          "output_type": "error",
          "ename": "TypeError",
          "evalue": "ignored",
          "traceback": [
            "\u001b[0;31m---------------------------------------------------------------------------\u001b[0m",
            "\u001b[0;31mTypeError\u001b[0m                                 Traceback (most recent call last)",
            "\u001b[0;32m<ipython-input-14-ba6bd9150681>\u001b[0m in \u001b[0;36m<module>\u001b[0;34m()\u001b[0m\n\u001b[1;32m      3\u001b[0m \u001b[0;34m\u001b[0m\u001b[0m\n\u001b[1;32m      4\u001b[0m \u001b[0;31m# TODO : fix the error\u001b[0m\u001b[0;34m\u001b[0m\u001b[0;34m\u001b[0m\u001b[0;34m\u001b[0m\u001b[0m\n\u001b[0;32m----> 5\u001b[0;31m \u001b[0mprint\u001b[0m\u001b[0;34m(\u001b[0m\u001b[0mtext\u001b[0m \u001b[0;34m+\u001b[0m \u001b[0myear\u001b[0m\u001b[0;34m)\u001b[0m  \u001b[0;31m# this will throw an error. Try to cast year to string first\u001b[0m\u001b[0;34m\u001b[0m\u001b[0;34m\u001b[0m\u001b[0m\n\u001b[0m",
            "\u001b[0;31mTypeError\u001b[0m: must be str, not int"
          ]
        }
      ]
    },
    {
      "cell_type": "markdown",
      "metadata": {
        "id": "FE4hgfJMOqHZ"
      },
      "source": [
        "## **String**\n",
        "\n",
        "String literals in python are surrounded by either single quotation marks, or double quotation marks.\n",
        "\n",
        "**'hello'** is the same as **\"hello\"**"
      ]
    },
    {
      "cell_type": "code",
      "metadata": {
        "id": "ZeJL_GykNYoy",
        "colab": {
          "base_uri": "https://localhost:8080/",
          "height": 34
        },
        "outputId": "b66b63b0-fa0d-425b-b33b-b99475b0c119"
      },
      "source": [
        "print('hello' == \"hello\")  # will return True"
      ],
      "execution_count": null,
      "outputs": [
        {
          "output_type": "stream",
          "text": [
            "True\n"
          ],
          "name": "stdout"
        }
      ]
    },
    {
      "cell_type": "markdown",
      "metadata": {
        "id": "y9YYKY0YQuDO"
      },
      "source": [
        "For multiline string, you can use triple quotes \"\"\" ... \"\"\" or triple single quote ''' ... '''"
      ]
    },
    {
      "cell_type": "code",
      "metadata": {
        "id": "1uOV7L5iQoNL",
        "colab": {
          "base_uri": "https://localhost:8080/",
          "height": 105
        },
        "outputId": "235e9e04-8e19-4252-cec6-87e462215712"
      },
      "source": [
        "text = \"\"\"Lorem ipsum dolor sit amet, \n",
        "consectetur adipiscing elit, \n",
        "sed do eiusmod tempor incididunt ut labore et dolore magna aliqua. \n",
        "Ut enim ad minim veniam, \n",
        "quis nostrud exercitation ullamco laboris nisi ut aliquip ex ea commodo consequat. \"\"\"\n",
        "\n",
        "print(text)"
      ],
      "execution_count": null,
      "outputs": [
        {
          "output_type": "stream",
          "text": [
            "Lorem ipsum dolor sit amet, \n",
            "consectetur adipiscing elit, \n",
            "sed do eiusmod tempor incididunt ut labore et dolore magna aliqua. \n",
            "Ut enim ad minim veniam, \n",
            "quis nostrud exercitation ullamco laboris nisi ut aliquip ex ea commodo consequat. \n"
          ],
          "name": "stdout"
        }
      ]
    },
    {
      "cell_type": "markdown",
      "metadata": {
        "id": "Ih4v0na-RniZ"
      },
      "source": [
        "### **Strings are Arrays**\n",
        "Like many other popular programming languages, strings in Python are arrays of bytes representing unicode characters. However, Python does not have a character data type, a single character is simply a string with a length of 1. Square brackets can be used to access elements of the string."
      ]
    },
    {
      "cell_type": "code",
      "metadata": {
        "id": "r9khY4jXRTEq",
        "colab": {
          "base_uri": "https://localhost:8080/",
          "height": 34
        },
        "outputId": "b220adea-b4e5-4f1d-f0a1-a09fb3fabc33"
      },
      "source": [
        "text = \"DSC Universitas Hasanuddin\"\n",
        "\n",
        "# Get a character in position 2\n",
        "print(text[2])"
      ],
      "execution_count": null,
      "outputs": [
        {
          "output_type": "stream",
          "text": [
            "C\n"
          ],
          "name": "stdout"
        }
      ]
    },
    {
      "cell_type": "markdown",
      "metadata": {
        "id": "XhaLMQHlT4Qg"
      },
      "source": [
        "### **Slicing**\n",
        "\n",
        "You can return a range of characters by using the slice syntax.\n",
        "\n",
        "Specify the start index and the end index, separated by a colon, to return a part of the string. Also, you can use negative indexes to start the slice from the end of the string."
      ]
    },
    {
      "cell_type": "code",
      "metadata": {
        "id": "4LC2Qi73SJF5",
        "colab": {
          "base_uri": "https://localhost:8080/",
          "height": 70
        },
        "outputId": "2b826c92-6cde-4de2-cc66-10b894adb9c7"
      },
      "source": [
        "text = \"DSC Universitas Hasanuddin\"\n",
        "\n",
        "print(text[:3])     # print text start from beginning to index 3(not include)\n",
        "print(text[4:15])   # print text start from index 4 to index 15(not include)\n",
        "print(text[:-2])    # print text start from beginning to index 1 from end (not include)"
      ],
      "execution_count": null,
      "outputs": [
        {
          "output_type": "stream",
          "text": [
            "DSC\n",
            "Universitas\n",
            "DSC Universitas Hasanudd\n"
          ],
          "name": "stdout"
        }
      ]
    },
    {
      "cell_type": "code",
      "metadata": {
        "id": "AOmEWdxoUbx9"
      },
      "source": [
        "text = \"DSC Universitas Hasanuddin\"\n",
        "\n",
        "# TODO : Try to print 'versit' from text using slicing\n",
        "\n"
      ],
      "execution_count": null,
      "outputs": []
    },
    {
      "cell_type": "markdown",
      "metadata": {
        "id": "BbF_KGfzXYr9"
      },
      "source": [
        "### **String Concatenation**\n",
        "\n",
        "String concatenation in Python can be done these ways :\n",
        "- Using str() function\n",
        "- Using % operator\n",
        "- Using format() function\n",
        "- Using f-string"
      ]
    },
    {
      "cell_type": "code",
      "metadata": {
        "id": "vVgpBqQfV2g4",
        "colab": {
          "base_uri": "https://localhost:8080/",
          "height": 34
        },
        "outputId": "9bc529b9-31aa-4358-c924-b4f858f2bb95"
      },
      "source": [
        "date = 21\n",
        "month = 'February'\n",
        "\n",
        "print('Today is ' + month + ', ' + str(date) + 'st.')"
      ],
      "execution_count": null,
      "outputs": [
        {
          "output_type": "stream",
          "text": [
            "Today is February, 21st.\n"
          ],
          "name": "stdout"
        }
      ]
    },
    {
      "cell_type": "code",
      "metadata": {
        "id": "AAHwpiDRMoUJ",
        "colab": {
          "base_uri": "https://localhost:8080/",
          "height": 34
        },
        "outputId": "0333c1da-5652-4df5-95be-90f486495073"
      },
      "source": [
        "date = 21\n",
        "month = 'February'\n",
        "\n",
        "print('Today is %s, %dst.' % (month, date))"
      ],
      "execution_count": null,
      "outputs": [
        {
          "output_type": "stream",
          "text": [
            "Today is February, 21st.\n"
          ],
          "name": "stdout"
        }
      ]
    },
    {
      "cell_type": "code",
      "metadata": {
        "id": "j8UYmNOKM1YT",
        "colab": {
          "base_uri": "https://localhost:8080/",
          "height": 52
        },
        "outputId": "3d4496b6-3ef9-49f9-8a70-3ffe98d30cda"
      },
      "source": [
        "date = 21\n",
        "month = 'February'\n",
        "\n",
        "print('Today is {}, {}st.'.format(month, date))\n",
        "\n",
        "print('Today is {1}, {0}st.'.format(date, month))"
      ],
      "execution_count": null,
      "outputs": [
        {
          "output_type": "stream",
          "text": [
            "Today is February, 21st.\n",
            "Today is February, 21st.\n"
          ],
          "name": "stdout"
        }
      ]
    },
    {
      "cell_type": "code",
      "metadata": {
        "id": "dO_Ru7hwNHiM",
        "colab": {
          "base_uri": "https://localhost:8080/",
          "height": 34
        },
        "outputId": "ebf370ab-afe2-4a1c-888a-d7c4fbd40d66"
      },
      "source": [
        "date = 21\n",
        "month = 'February'\n",
        "\n",
        "print(f'Today is {month}, {date}st.')"
      ],
      "execution_count": null,
      "outputs": [
        {
          "output_type": "stream",
          "text": [
            "Today is February, 21st.\n"
          ],
          "name": "stdout"
        }
      ]
    },
    {
      "cell_type": "markdown",
      "metadata": {
        "id": "5thMIPYLN6UZ"
      },
      "source": [
        "### **String Method**\n",
        "\n",
        "Python has a set of built-in methods that you can use on strings. Reference : [String Method](https://www.w3schools.com/python/python_ref_string.asp)"
      ]
    },
    {
      "cell_type": "markdown",
      "metadata": {
        "id": "70-mASlaYc0B"
      },
      "source": [
        "## **Operators**\n",
        "\n",
        "Operators are used to perform operations on variables and values."
      ]
    },
    {
      "cell_type": "markdown",
      "metadata": {
        "id": "Wniw41dqjcaT"
      },
      "source": [
        "### **Python Arithmetic Operators**\n",
        "Arithmetic operators are used with numeric values to perform common mathematical operations.\n",
        "- \\+ : Addition\n",
        "- \\- : Subtraction\t\t\n",
        "- \\* : Multiplication\n",
        "- /\t : Division\n",
        "- %\t : Modulus\n",
        "- ** : Exponentiation\t\n",
        "- // : Floor division\t"
      ]
    },
    {
      "cell_type": "code",
      "metadata": {
        "id": "SOHpbYAVNfeY",
        "colab": {
          "base_uri": "https://localhost:8080/",
          "height": 140
        },
        "outputId": "3363db1f-c8f0-4cfd-df3e-d13f33105d2f"
      },
      "source": [
        "print(10 + 4)   # 14\n",
        "print(10 - 4)   # 6\n",
        "print(10 * 4)   # 40\n",
        "print(10 / 4)   # 2.5\n",
        "print(10 % 4)   # 2\n",
        "print(10 ** 4)  # 1000\n",
        "print(10 // 4)  # 2"
      ],
      "execution_count": null,
      "outputs": [
        {
          "output_type": "stream",
          "text": [
            "14\n",
            "6\n",
            "40\n",
            "2.5\n",
            "2\n",
            "10000\n",
            "2\n"
          ],
          "name": "stdout"
        }
      ]
    },
    {
      "cell_type": "markdown",
      "metadata": {
        "id": "-IVFoqsfjkPD"
      },
      "source": [
        "### **Comparison Operators**\n",
        "\n",
        "Comparison operators are used to compare two values:\n",
        "- **==** : Equal\n",
        "- **!=** : Not equal\n",
        "- **>** : Greater than\n",
        "- **<** : Less than\n",
        "- **>=** : Greater than or equal to\n",
        "- **<=** : Less than or equal to"
      ]
    },
    {
      "cell_type": "markdown",
      "metadata": {
        "id": "2zP7-WxckNOR"
      },
      "source": [
        "### **Logical Operators**\n",
        "\n",
        "Logical operators are used to combine conditional statements:\n",
        "\n",
        "- **and** : Returns True if both statements are true\n",
        "- **or** : Returns True if one of the statements is true\n",
        "- **not** : Reverse the result, returns False if the result is true"
      ]
    },
    {
      "cell_type": "code",
      "metadata": {
        "id": "7SOkvdzeZ2G1",
        "colab": {
          "base_uri": "https://localhost:8080/",
          "height": 70
        },
        "outputId": "b2aee41d-5027-4780-86bc-e3d1279d6a0a"
      },
      "source": [
        "print(10 > 5 and 'A' < 'a')     # True and True => True\n",
        "\n",
        "print(10 >= 10 or 10 > 10)      # True or False => True \n",
        "\n",
        "print(not('hello' == \"hello\"))  # not True => False"
      ],
      "execution_count": null,
      "outputs": [
        {
          "output_type": "stream",
          "text": [
            "True\n",
            "True\n",
            "False\n"
          ],
          "name": "stdout"
        }
      ]
    },
    {
      "cell_type": "markdown",
      "metadata": {
        "id": "K9UBam5ElT_j"
      },
      "source": [
        "### **Identity Operators**\n",
        "\n",
        "Identity operators are used to compare the objects, not if they are equal, but if they are actually the same object, with the same memory location:\n",
        "\n",
        "- **is** : Returns true if both variables are the same object\n",
        "- **is not** : Returns true if both variables are not the same object"
      ]
    },
    {
      "cell_type": "code",
      "metadata": {
        "id": "wUSDfL-Rmk4v",
        "colab": {
          "base_uri": "https://localhost:8080/",
          "height": 52
        },
        "outputId": "74e426c0-ce42-4170-f9c1-fd2106398ba6"
      },
      "source": [
        "list1 = ['a', 'b', 'c']\n",
        "list2 = ['a', 'b', 'c']\n",
        "\n",
        "print(list1 == list2)   # True because the value is the same\n",
        "\n",
        "print(list1 is list2)   # False because list1 and list2 have different memory location"
      ],
      "execution_count": null,
      "outputs": [
        {
          "output_type": "stream",
          "text": [
            "True\n",
            "False\n"
          ],
          "name": "stdout"
        }
      ]
    },
    {
      "cell_type": "code",
      "metadata": {
        "id": "kzaq9N5Im9BR",
        "colab": {
          "base_uri": "https://localhost:8080/",
          "height": 34
        },
        "outputId": "fc6cbe24-e7f9-41a0-9a2c-b270760c542f"
      },
      "source": [
        "list1 = ['a', 'b', 'c']\n",
        "list2 = list1\n",
        "\n",
        "print(list1 is list2)"
      ],
      "execution_count": null,
      "outputs": [
        {
          "output_type": "stream",
          "text": [
            "True\n"
          ],
          "name": "stdout"
        }
      ]
    },
    {
      "cell_type": "markdown",
      "metadata": {
        "id": "39piLsx_l9uS"
      },
      "source": [
        "### **Membership Operators**\n",
        "\n",
        "Membership operators are used to test if a sequence is presented in an object.\n",
        "- **in** : Returns True if a sequence with the specified value is present in the object\n",
        "- **not in** : Returns True if a sequence with the specified value is not present in the object"
      ]
    },
    {
      "cell_type": "code",
      "metadata": {
        "id": "6zfVqgQ1kwgG",
        "colab": {
          "base_uri": "https://localhost:8080/",
          "height": 34
        },
        "outputId": "185f1910-248b-4847-b462-091cc3139757"
      },
      "source": [
        "print('ni' in 'Universitas Hasanuddin')     # True because ni exist in thet text"
      ],
      "execution_count": null,
      "outputs": [
        {
          "output_type": "stream",
          "text": [
            "True\n"
          ],
          "name": "stdout"
        }
      ]
    },
    {
      "cell_type": "markdown",
      "metadata": {
        "id": "0zXRusP45P18"
      },
      "source": [
        "## **If - Else**"
      ]
    },
    {
      "cell_type": "markdown",
      "metadata": {
        "id": "TF3JoqHqhWy7"
      },
      "source": [
        "### **If Statement**\n",
        "\n",
        "An if statement is a programming conditional statement that, if proved true, performs a function or displays information.\n",
        "\n",
        "An \"if statement\" is written by using the **if** keyword."
      ]
    },
    {
      "cell_type": "code",
      "metadata": {
        "id": "2lYwI7hOmZVs",
        "colab": {
          "base_uri": "https://localhost:8080/",
          "height": 34
        },
        "outputId": "9d93dd39-d57b-4a9b-fccc-788e0c7f65c2"
      },
      "source": [
        "if 40 > 20 :\n",
        "    print('40 is larger than 20!')"
      ],
      "execution_count": null,
      "outputs": [
        {
          "output_type": "stream",
          "text": [
            "40 is larger than 20!\n"
          ],
          "name": "stdout"
        }
      ]
    },
    {
      "cell_type": "markdown",
      "metadata": {
        "id": "f0O7E0il7U_Z"
      },
      "source": [
        "Things to remember is that if statement using indentation to define scope in the code while other programming language often use curly-brackets."
      ]
    },
    {
      "cell_type": "markdown",
      "metadata": {
        "id": "exN9N4X0hckG"
      },
      "source": [
        "### **Elif**\n",
        "\n",
        "The **elif** keyword is pythons way of saying \"if the previous conditions were not true, then try this condition\"."
      ]
    },
    {
      "cell_type": "code",
      "metadata": {
        "id": "gRPJpLra7SMc",
        "colab": {
          "base_uri": "https://localhost:8080/",
          "height": 34
        },
        "outputId": "288d3abe-6d51-4fe8-f7f1-d35880cf6f79"
      },
      "source": [
        "num1 = 10\n",
        "num2 = 10\n",
        "\n",
        "if num1 > num2:\n",
        "    print(\"{} is greater than {}\".format(num1, num2))\n",
        "elif num1 == num2:\n",
        "    print(\"{} and {} are equal\".format(num1, num2))"
      ],
      "execution_count": null,
      "outputs": [
        {
          "output_type": "stream",
          "text": [
            "10 and 10 are equal\n"
          ],
          "name": "stdout"
        }
      ]
    },
    {
      "cell_type": "markdown",
      "metadata": {
        "id": "Gqogg3pgj04X"
      },
      "source": [
        "### **Else**\n",
        "\n",
        "The **else** keyword catches anything which isn't caught by the preceding conditions."
      ]
    },
    {
      "cell_type": "code",
      "metadata": {
        "id": "KIPxLRF2jS4M",
        "colab": {
          "base_uri": "https://localhost:8080/",
          "height": 34
        },
        "outputId": "224e3f73-a03a-4625-aefb-32b5335e3018"
      },
      "source": [
        "num1 = 10\n",
        "num2 = 100\n",
        "\n",
        "if num1 > num2:\n",
        "    print(\"{} is greater than {}\".format(num1, num2))\n",
        "elif num1 == num2:\n",
        "    print(\"{} and {} are equal\".format(num1, num2))\n",
        "else:\n",
        "    print(\"{} is less than {}\".format(num1, num2))\n"
      ],
      "execution_count": null,
      "outputs": [
        {
          "output_type": "stream",
          "text": [
            "10 is less than 100\n"
          ],
          "name": "stdout"
        }
      ]
    },
    {
      "cell_type": "markdown",
      "metadata": {
        "id": "pUyTqKddkgmv"
      },
      "source": [
        "### **Short Hand If**\n",
        "\n",
        "If you have only one statement to execute, you can put it on the same line as the if statement."
      ]
    },
    {
      "cell_type": "code",
      "metadata": {
        "id": "CKCSFVErkdIv",
        "colab": {
          "base_uri": "https://localhost:8080/",
          "height": 34
        },
        "outputId": "032e41eb-a7da-426d-aa72-2618b903bab4"
      },
      "source": [
        "num1 = 100\n",
        "num2 = 10\n",
        "\n",
        "if num1 > num2: print(\"num1 is greater than num2\")"
      ],
      "execution_count": null,
      "outputs": [
        {
          "output_type": "stream",
          "text": [
            "num1 is greater than num2\n"
          ],
          "name": "stdout"
        }
      ]
    },
    {
      "cell_type": "markdown",
      "metadata": {
        "id": "KAsTBQDfkvXS"
      },
      "source": [
        "### **Short Hand If - Else**\n",
        "\n",
        "If you have only one statement to execute, one for if, and one for else, you can put it all on the same line:"
      ]
    },
    {
      "cell_type": "code",
      "metadata": {
        "id": "MrEE3kpqksVx",
        "colab": {
          "base_uri": "https://localhost:8080/",
          "height": 52
        },
        "outputId": "b4d2d773-3469-4208-8d3c-803fd3c63106"
      },
      "source": [
        "num1 = 10\n",
        "num2 = 100\n",
        "\n",
        "print(\"The bigger number is :\")\n",
        "print(\"num1\") if num1 > num2 else print(\"num2\")"
      ],
      "execution_count": null,
      "outputs": [
        {
          "output_type": "stream",
          "text": [
            "The bigger number is :\n",
            "num2\n"
          ],
          "name": "stdout"
        }
      ]
    },
    {
      "cell_type": "markdown",
      "metadata": {
        "id": "8lu15YlDn3LM"
      },
      "source": [
        "### **Nested If**\n",
        "\n",
        "You can have if statements inside if statements, this is called nested if statements."
      ]
    },
    {
      "cell_type": "code",
      "metadata": {
        "id": "y7HvCTuAlFi6",
        "colab": {
          "base_uri": "https://localhost:8080/",
          "height": 52
        },
        "outputId": "f58f6c93-59ce-4077-f16c-8689469867be"
      },
      "source": [
        "num = 30\n",
        "\n",
        "if num > 10:\n",
        "  print(\"Above ten,\")\n",
        "  if num > 20:\n",
        "    print(\"and also above 20!\")\n",
        "  else:\n",
        "    print(\"but not above 20.\")"
      ],
      "execution_count": null,
      "outputs": [
        {
          "output_type": "stream",
          "text": [
            "Above ten,\n",
            "and also above 20!\n"
          ],
          "name": "stdout"
        }
      ]
    },
    {
      "cell_type": "markdown",
      "metadata": {
        "id": "THimM7EQoDhW"
      },
      "source": [
        "## **Looping**\n",
        "\n",
        "Python has two primitive loop commands:\n",
        "- **while** loops\n",
        "- **for** loops"
      ]
    },
    {
      "cell_type": "markdown",
      "metadata": {
        "id": "Wx28cRRIoXP3"
      },
      "source": [
        "### **While Loop**\n",
        "\n",
        "With the while loop we can execute a set of statements as long as a condition is true."
      ]
    },
    {
      "cell_type": "code",
      "metadata": {
        "id": "MnQPAMcyndYS",
        "colab": {
          "base_uri": "https://localhost:8080/",
          "height": 105
        },
        "outputId": "957dce99-c529-42cb-8627-41f480103d2a"
      },
      "source": [
        "# Print one to five\n",
        "i = 1\n",
        "while i <= 5:\n",
        "    print(i)\n",
        "    i += 1          # increment by one"
      ],
      "execution_count": null,
      "outputs": [
        {
          "output_type": "stream",
          "text": [
            "1\n",
            "2\n",
            "3\n",
            "4\n",
            "5\n"
          ],
          "name": "stdout"
        }
      ]
    },
    {
      "cell_type": "code",
      "metadata": {
        "id": "UTWVypK9Dehz",
        "colab": {
          "base_uri": "https://localhost:8080/",
          "height": 34
        },
        "outputId": "c8bd31e6-aa90-45d4-f993-28c98d2dd055"
      },
      "source": [
        "\"\"\"\n",
        "TODO : Try to print a triangle like this :\n",
        "*\n",
        "**\n",
        "***\n",
        "****\n",
        "*****\n",
        "\"\"\"\n",
        "\n"
      ],
      "execution_count": null,
      "outputs": [
        {
          "output_type": "execute_result",
          "data": {
            "text/plain": [
              "'\\nTODO : Try to print a triangle like this :\\n*\\n**\\n***\\n****\\n*****\\n'"
            ]
          },
          "metadata": {
            "tags": []
          },
          "execution_count": 36
        }
      ]
    },
    {
      "cell_type": "markdown",
      "metadata": {
        "id": "Svy08mGH-nkm"
      },
      "source": [
        "#### **Break Statement**\n",
        "\n",
        "With the **break** statement we can stop the loop even if the while condition is true."
      ]
    },
    {
      "cell_type": "code",
      "metadata": {
        "id": "Qb4YYmDEozN1",
        "colab": {
          "base_uri": "https://localhost:8080/",
          "height": 87
        },
        "outputId": "dfabde25-ebae-4a90-ce96-1f4d1fced29e"
      },
      "source": [
        "i = 1\n",
        "while i <= 5:\n",
        "    print(i)\n",
        "    if i == 4:\n",
        "        break\n",
        "    i += 1"
      ],
      "execution_count": null,
      "outputs": [
        {
          "output_type": "stream",
          "text": [
            "1\n",
            "2\n",
            "3\n",
            "4\n"
          ],
          "name": "stdout"
        }
      ]
    },
    {
      "cell_type": "code",
      "metadata": {
        "id": "MsunMgv6_A2k",
        "colab": {
          "base_uri": "https://localhost:8080/",
          "height": 70
        },
        "outputId": "d0a87e35-2cbd-4591-ae98-2abbc442cc0e"
      },
      "source": [
        "i = 1\n",
        "while i <= 5:\n",
        "    if i == 4:\n",
        "        break\n",
        "    print(i)\n",
        "    i += 1"
      ],
      "execution_count": null,
      "outputs": [
        {
          "output_type": "stream",
          "text": [
            "1\n",
            "2\n",
            "3\n"
          ],
          "name": "stdout"
        }
      ]
    },
    {
      "cell_type": "markdown",
      "metadata": {
        "id": "OhzNQxx7_s78"
      },
      "source": [
        "#### **Continue Statement**\n",
        "\n",
        "With the **continue** statement we can stop the current iteration, and continue with the next. Remember to put increment before continue statement."
      ]
    },
    {
      "cell_type": "code",
      "metadata": {
        "id": "FJWOzgg6_GCu",
        "colab": {
          "base_uri": "https://localhost:8080/",
          "height": 87
        },
        "outputId": "37384fa9-f7a7-4fb8-9900-d76c42359ba5"
      },
      "source": [
        "i = 0\n",
        "while i < 5:\n",
        "    i += 1\n",
        "    if i == 4:\n",
        "        continue\n",
        "    print(i)"
      ],
      "execution_count": null,
      "outputs": [
        {
          "output_type": "stream",
          "text": [
            "1\n",
            "2\n",
            "3\n",
            "5\n"
          ],
          "name": "stdout"
        }
      ]
    },
    {
      "cell_type": "markdown",
      "metadata": {
        "id": "ieGqGlasAj1l"
      },
      "source": [
        "### **For Loop**\n",
        "\n",
        "A **for** loop is used for iterating over a sequence (that is either a list, a tuple, a dictionary, a set, or a string).\n",
        "\n",
        "This is less like the for keyword in other programming languages, and works more like an iterator method as found in other object-orientated programming languages.\n",
        "\n",
        "With the for loop we can execute a set of statements, once for each item in a list, tuple, set etc."
      ]
    },
    {
      "cell_type": "code",
      "metadata": {
        "id": "nDiQ-ZjS_8mH",
        "colab": {
          "base_uri": "https://localhost:8080/",
          "height": 70
        },
        "outputId": "c66851f8-dbb2-4358-b325-9ee3ff1d9dcf"
      },
      "source": [
        "for text in ['DSC', 'Universitas', 'Hasanuddin']:\n",
        "    print(text)"
      ],
      "execution_count": null,
      "outputs": [
        {
          "output_type": "stream",
          "text": [
            "DSC\n",
            "Universitas\n",
            "Hasanuddin\n"
          ],
          "name": "stdout"
        }
      ]
    },
    {
      "cell_type": "markdown",
      "metadata": {
        "id": "kldMh05PBJSs"
      },
      "source": [
        "Even strings are iterable objects, they contain a sequence of characters."
      ]
    },
    {
      "cell_type": "code",
      "metadata": {
        "id": "cYmXO9kFA9AW",
        "colab": {
          "base_uri": "https://localhost:8080/",
          "height": 175
        },
        "outputId": "a87a7445-4393-48d7-ff00-3f3e6c50afa5"
      },
      "source": [
        "for char in 'DSC Unhas':\n",
        "    print(char)"
      ],
      "execution_count": null,
      "outputs": [
        {
          "output_type": "stream",
          "text": [
            "D\n",
            "S\n",
            "C\n",
            " \n",
            "U\n",
            "n\n",
            "h\n",
            "a\n",
            "s\n"
          ],
          "name": "stdout"
        }
      ]
    },
    {
      "cell_type": "markdown",
      "metadata": {
        "id": "-Na-zXosBWK8"
      },
      "source": [
        "#### **range()**\n",
        "\n",
        "To loop through a set of code a specified number of times, we can use the range() function,\n",
        "The range() function returns a sequence of numbers, starting from 0 by default, and increments by 1 (by default), and ends at a specified number."
      ]
    },
    {
      "cell_type": "code",
      "metadata": {
        "id": "exJZDMkwBSge",
        "colab": {
          "base_uri": "https://localhost:8080/",
          "height": 34
        },
        "outputId": "33e2c5ef-b137-479d-d3c3-094d0bf8483b"
      },
      "source": [
        "range(10)"
      ],
      "execution_count": null,
      "outputs": [
        {
          "output_type": "execute_result",
          "data": {
            "text/plain": [
              "range(0, 10)"
            ]
          },
          "metadata": {
            "tags": []
          },
          "execution_count": 42
        }
      ]
    },
    {
      "cell_type": "code",
      "metadata": {
        "id": "CyqizwcABj07",
        "colab": {
          "base_uri": "https://localhost:8080/",
          "height": 193
        },
        "outputId": "a95a9fa9-aebe-4d33-eefb-76417582539f"
      },
      "source": [
        "for i in range(10):\n",
        "    print(i)"
      ],
      "execution_count": null,
      "outputs": [
        {
          "output_type": "stream",
          "text": [
            "0\n",
            "1\n",
            "2\n",
            "3\n",
            "4\n",
            "5\n",
            "6\n",
            "7\n",
            "8\n",
            "9\n"
          ],
          "name": "stdout"
        }
      ]
    },
    {
      "cell_type": "markdown",
      "metadata": {
        "id": "xtTUumh8B8rF"
      },
      "source": [
        "You can pass up to 3 parameter to range() :\n",
        "- *start* : **Optional**. An integer number specifying at which position to start. Default is 0.\n",
        "- *stop* : **Required**. An integer number specifying at which position to end.\n",
        "- *step* : **Optional**. An integer number specifying the incrementation. Default is 1.\n",
        "\n",
        " range(5) => 0, 1, 2, 3, 4\n",
        "\n",
        " range(2, 5) => 2, 3, 4\n",
        "\n",
        " range(1, 8, 2) => 1, 3, 5, 7"
      ]
    },
    {
      "cell_type": "code",
      "metadata": {
        "id": "nOjf-z8lBsYj"
      },
      "source": [
        "# TODO : Try to print 3, 7, 11, 15, 19, 23\n",
        "\n"
      ],
      "execution_count": null,
      "outputs": []
    },
    {
      "cell_type": "markdown",
      "metadata": {
        "id": "MiNj8onZDyGS"
      },
      "source": [
        "#### **Nested Loop**\n",
        "\n",
        "A nested loop is a loop inside a loop.\n",
        "\n",
        "The \"inner loop\" will be executed one time for each iteration of the \"outer loop\""
      ]
    },
    {
      "cell_type": "code",
      "metadata": {
        "id": "cexe5r4_C6Bs",
        "colab": {
          "base_uri": "https://localhost:8080/",
          "height": 122
        },
        "outputId": "2c791ee4-a74c-4cd6-b652-eaf894600152"
      },
      "source": [
        "adjectives = [\"big\", \"tasty\"]\n",
        "fruits = [\"apple\", \"banana\", \"cherry\"]\n",
        "\n",
        "for adjective in adjectives:\n",
        "  for fruit in fruits:\n",
        "    print(adjective, fruit)"
      ],
      "execution_count": null,
      "outputs": [
        {
          "output_type": "stream",
          "text": [
            "big apple\n",
            "big banana\n",
            "big cherry\n",
            "tasty apple\n",
            "tasty banana\n",
            "tasty cherry\n"
          ],
          "name": "stdout"
        }
      ]
    },
    {
      "cell_type": "markdown",
      "metadata": {
        "id": "t-8O5e81GaWX"
      },
      "source": [
        "## **Function**\n",
        "\n",
        "A function is a block of code which only runs when it is called. You can pass data, known as parameters, into a function. A function can return data as a result.\n",
        "\n",
        "In Python, a function is defined using **def** keyword. And to call a function, use the function name followed by parenthesis."
      ]
    },
    {
      "cell_type": "code",
      "metadata": {
        "id": "KFMsKRfnEFxW",
        "colab": {
          "base_uri": "https://localhost:8080/",
          "height": 34
        },
        "outputId": "f4a4c36f-e1a9-415f-c9c4-e03e32622597"
      },
      "source": [
        "def print_hello():\n",
        "    print(\"Hello\")\n",
        "\n",
        "print_hello()"
      ],
      "execution_count": null,
      "outputs": [
        {
          "output_type": "stream",
          "text": [
            "Hello\n"
          ],
          "name": "stdout"
        }
      ]
    },
    {
      "cell_type": "markdown",
      "metadata": {
        "id": "uiEX367HHHZe"
      },
      "source": [
        "#### **Arguments**\n",
        "Information can be passed into functions as arguments.\n",
        "\n",
        "Arguments are specified after the function name, inside the parentheses. You can add as many arguments as you want, just separate them with a comma."
      ]
    },
    {
      "cell_type": "code",
      "metadata": {
        "id": "pcNt1n1tHEwT",
        "colab": {
          "base_uri": "https://localhost:8080/",
          "height": 34
        },
        "outputId": "c0148b37-fbb5-4329-a81f-9e45d695fbfb"
      },
      "source": [
        "def print_hi(name):\n",
        "    print(\"Hi, \" + name)\n",
        "\n",
        "print_hi(\"DSC Unhas\")"
      ],
      "execution_count": null,
      "outputs": [
        {
          "output_type": "stream",
          "text": [
            "Hi, DSC Unhas\n"
          ],
          "name": "stdout"
        }
      ]
    },
    {
      "cell_type": "markdown",
      "metadata": {
        "id": "YOPhEeMuHtEm"
      },
      "source": [
        "By default, a function must be called with the correct number of arguments. Meaning that if your function expects 2 arguments, you have to call the function with 2 arguments, not more, and not less."
      ]
    },
    {
      "cell_type": "code",
      "metadata": {
        "id": "xhtjk5YPHe0W",
        "colab": {
          "base_uri": "https://localhost:8080/",
          "height": 34
        },
        "outputId": "1f41f5fa-da03-437e-d8ee-d597d02979d4"
      },
      "source": [
        "def print_hi(first_name, last_name):\n",
        "    print(\"Hi, \" + first_name + ' ' + last_name)\n",
        "\n",
        "print_hi('Kevin', 'Chandra')"
      ],
      "execution_count": null,
      "outputs": [
        {
          "output_type": "stream",
          "text": [
            "Hi, Kevin Chandra\n"
          ],
          "name": "stdout"
        }
      ]
    },
    {
      "cell_type": "markdown",
      "metadata": {
        "id": "RgldoIZ6I9KN"
      },
      "source": [
        "You can also send arguments with the key = value syntax.\n",
        "\n",
        "This way the order of the arguments does not matter."
      ]
    },
    {
      "cell_type": "code",
      "metadata": {
        "id": "FwUGIjAtI65X",
        "colab": {
          "base_uri": "https://localhost:8080/",
          "height": 34
        },
        "outputId": "5a76b38c-3487-40a2-90a6-8f4b225df06d"
      },
      "source": [
        "def print_hi(first_name, last_name):\n",
        "    print(\"Hi, \" + first_name + ' ' + last_name)\n",
        "\n",
        "print_hi(last_name='Chandra', first_name='Kevin')"
      ],
      "execution_count": null,
      "outputs": [
        {
          "output_type": "stream",
          "text": [
            "Hi, Kevin Chandra\n"
          ],
          "name": "stdout"
        }
      ]
    },
    {
      "cell_type": "markdown",
      "metadata": {
        "id": "2xV9TkC-IK4k"
      },
      "source": [
        "**Arbitrary Arguments** (*args)\n",
        "\n",
        "If you do not know how many arguments that will be passed into your function, add a **\\*** before the parameter name in the function definition.\n",
        "\n",
        "This way the function will receive a tuple of arguments, and can access the items accordingly"
      ]
    },
    {
      "cell_type": "code",
      "metadata": {
        "id": "JtXUs-_fIBMN",
        "colab": {
          "base_uri": "https://localhost:8080/",
          "height": 34
        },
        "outputId": "bb026ba5-40f3-484f-dc22-215435a93c22"
      },
      "source": [
        "def kids_list(*kids):\n",
        "    print(\"The oldest child is \" + kids[0])\n",
        "\n",
        "kids_list('Bill', 'Jeff', 'Mark')"
      ],
      "execution_count": null,
      "outputs": [
        {
          "output_type": "stream",
          "text": [
            "The oldest child is Bill\n"
          ],
          "name": "stdout"
        }
      ]
    },
    {
      "cell_type": "markdown",
      "metadata": {
        "id": "9xbNHSX0JUqw"
      },
      "source": [
        "**Arbitrary Keyword Arguments** (**kwargs)\n",
        "\n",
        "If you do not know how many keyword arguments that will be passed into your function, add two asterisk: ** before the parameter name in the function definition."
      ]
    },
    {
      "cell_type": "code",
      "metadata": {
        "id": "f11eSW3HI2Fe",
        "colab": {
          "base_uri": "https://localhost:8080/",
          "height": 34
        },
        "outputId": "75a2323b-d38c-4bf7-f221-8a6df783a973"
      },
      "source": [
        "def kids_list(**kids):\n",
        "  print(\"The oldest child is \" + kids[\"first\"])\n",
        "\n",
        "kids_list(first = \"Bill\", second = \"Jeff\", last = \"Mark\")"
      ],
      "execution_count": null,
      "outputs": [
        {
          "output_type": "stream",
          "text": [
            "The oldest child is Bill\n"
          ],
          "name": "stdout"
        }
      ]
    },
    {
      "cell_type": "markdown",
      "metadata": {
        "id": "q6FB6h7NJ6fP"
      },
      "source": [
        "#### **Default Parameter Value**\n",
        "\n",
        "Default Parameter value is the value that you assigned to a parameter so that if you call the function without argument, it uses the default value."
      ]
    },
    {
      "cell_type": "code",
      "metadata": {
        "id": "QSjYD1FSJ0PA",
        "colab": {
          "base_uri": "https://localhost:8080/",
          "height": 52
        },
        "outputId": "9eec6e08-cc4b-478b-f6ce-035da37360a6"
      },
      "source": [
        "def print_lucky_num(num = 10):\n",
        "    print(\"My lucky number is \" + str(num))\n",
        "\n",
        "print_lucky_num(100)\n",
        "print_lucky_num()"
      ],
      "execution_count": null,
      "outputs": [
        {
          "output_type": "stream",
          "text": [
            "My lucky number is 100\n",
            "My lucky number is 10\n"
          ],
          "name": "stdout"
        }
      ]
    },
    {
      "cell_type": "markdown",
      "metadata": {
        "id": "YnP0HHaHKieL"
      },
      "source": [
        "#### **Return Values**\n",
        "\n",
        "To let a function return a value, use the **return** statement."
      ]
    },
    {
      "cell_type": "code",
      "metadata": {
        "id": "GjQXeAT_Kftp",
        "colab": {
          "base_uri": "https://localhost:8080/",
          "height": 34
        },
        "outputId": "5c1ce926-e42d-4afa-cda9-fd4a55d8260b"
      },
      "source": [
        "def multiply_by_10(num):\n",
        "    return num * 10\n",
        "\n",
        "print(multiply_by_10(12))"
      ],
      "execution_count": null,
      "outputs": [
        {
          "output_type": "stream",
          "text": [
            "120\n"
          ],
          "name": "stdout"
        }
      ]
    },
    {
      "cell_type": "markdown",
      "metadata": {
        "id": "ToyQjxt0K4en"
      },
      "source": [
        "#### **Recursion**\n",
        "\n",
        "Recursion is a common mathematical and programming concept. It means that a function calls itself. This has the benefit of meaning that you can loop through data to reach a result.\n",
        "\n",
        "The developer should be very careful with recursion as it can be quite easy to slip into writing a function which never terminates, or one that uses excess amounts of memory or processor power. However, when written correctly recursion can be a very efficient and mathematically-elegant approach to programming."
      ]
    },
    {
      "cell_type": "code",
      "metadata": {
        "id": "6XaIGhPJK0cb",
        "colab": {
          "base_uri": "https://localhost:8080/",
          "height": 70
        },
        "outputId": "36df4be5-19ee-45f5-c5c4-d5dfdf63a492"
      },
      "source": [
        "def factorial(num):\n",
        "    if num < 0:\n",
        "        return \"Negative value don't have factorial\"\n",
        "    elif num == 0 or num == 1:\n",
        "        return 1\n",
        "    else:\n",
        "        return num * factorial(num-1)\n",
        "\n",
        "print(factorial(-5))\n",
        "print(factorial(0))\n",
        "print(factorial(5))"
      ],
      "execution_count": null,
      "outputs": [
        {
          "output_type": "stream",
          "text": [
            "Negative value don't have factorial\n",
            "1\n",
            "120\n"
          ],
          "name": "stdout"
        }
      ]
    },
    {
      "cell_type": "markdown",
      "metadata": {
        "id": "ABnztZ6_Cnwv"
      },
      "source": [
        "## **Data Structures in Python**\n",
        "\n",
        "There are four collection data types in the Python programming language:\n",
        "\n",
        "- **List** is a collection which is ordered and changeable. Allows duplicate members.\n",
        "- **Tuple** is a collection which is ordered and unchangeable. Allows duplicate members.\n",
        "- **Set** is a collection which is unordered and unindexed. No duplicate members.\n",
        "- **Dictionary** is a collection which is unordered, changeable and indexed. No duplicate members.\n",
        "\n",
        "When choosing a collection type, it is useful to understand the properties of that type. Choosing the right type for a particular data set could mean retention of meaning, and, it could mean an increase in efficiency or security.\n"
      ]
    },
    {
      "cell_type": "markdown",
      "metadata": {
        "id": "WhQ6RpRBDVi6"
      },
      "source": [
        "### **List**\n",
        "\n",
        "A list is a collection which is ordered and changeable. In Python lists are written with square brackets."
      ]
    },
    {
      "cell_type": "code",
      "metadata": {
        "id": "SDN-hN1OLp5W"
      },
      "source": [
        "list_ = ['Bill', 'Jeff', 'Mark']\n",
        "print(list_)"
      ],
      "execution_count": null,
      "outputs": []
    },
    {
      "cell_type": "markdown",
      "metadata": {
        "id": "gJFa1ayEG8LE"
      },
      "source": [
        "You access the list items by referring to the index number (index number start from 0). \n",
        "\n",
        "Negative indexing means beginning from the end, -1 refers to the last item, -2 refers to the second last item etc."
      ]
    },
    {
      "cell_type": "code",
      "metadata": {
        "id": "Ndtz9YORG3i8",
        "colab": {
          "base_uri": "https://localhost:8080/",
          "height": 52
        },
        "outputId": "efbccd20-c1ac-46e5-84aa-0cce900f5da3"
      },
      "source": [
        "list_ = ['Bill', 'Jeff', 'Mark']\n",
        "\n",
        "print(list_[0])     # Bill\n",
        "print(list_[-2])    # Jeff"
      ],
      "execution_count": null,
      "outputs": [
        {
          "output_type": "stream",
          "text": [
            "Bill\n",
            "Jeff\n"
          ],
          "name": "stdout"
        }
      ]
    },
    {
      "cell_type": "markdown",
      "metadata": {
        "id": "3uPXn-UjIWF7"
      },
      "source": [
        "Lists are **mutable** object which means you can modify a list object after it has been created. To change the value of a specific item, refer to the index number."
      ]
    },
    {
      "cell_type": "code",
      "metadata": {
        "id": "eVpsgfJ6Hasq",
        "colab": {
          "base_uri": "https://localhost:8080/",
          "height": 34
        },
        "outputId": "93d16494-f9f1-472d-884d-3bda3208ea7f"
      },
      "source": [
        "list_ = ['Bill', 'Jeff', 'Mark']\n",
        "\n",
        "list_[2] = 'Elon'\n",
        "\n",
        "print(list_)"
      ],
      "execution_count": null,
      "outputs": [
        {
          "output_type": "stream",
          "text": [
            "['Bill', 'Jeff', 'Elon']\n"
          ],
          "name": "stdout"
        }
      ]
    },
    {
      "cell_type": "markdown",
      "metadata": {
        "id": "hxt69aFrfha9"
      },
      "source": [
        "To determine how many items a list has, use the **len()** function"
      ]
    },
    {
      "cell_type": "code",
      "metadata": {
        "id": "_9xhsfDNfTln",
        "colab": {
          "base_uri": "https://localhost:8080/",
          "height": 34
        },
        "outputId": "bba94f10-ce54-4574-a523-02083ca73f77"
      },
      "source": [
        "list_ = ['Bill', 'Jeff', 'Mark']\n",
        "print(len(list_))"
      ],
      "execution_count": null,
      "outputs": [
        {
          "output_type": "stream",
          "text": [
            "3\n"
          ],
          "name": "stdout"
        }
      ]
    },
    {
      "cell_type": "markdown",
      "metadata": {
        "id": "2m2TKARSvToW"
      },
      "source": [
        "**Add Items**\n",
        "\n",
        "To add an item to the end of the list, use the **append()** method. And to add an item at the specified index, use the **insert()** method."
      ]
    },
    {
      "cell_type": "code",
      "metadata": {
        "id": "QQbVZPERvI1h",
        "colab": {
          "base_uri": "https://localhost:8080/",
          "height": 34
        },
        "outputId": "51ebd937-d5b2-4400-bcf2-d01cd431c683"
      },
      "source": [
        "list_ = ['Bill', 'Jeff', 'Mark']\n",
        "\n",
        "list_.append('Elon')\n",
        "print(list_)"
      ],
      "execution_count": null,
      "outputs": [
        {
          "output_type": "stream",
          "text": [
            "['Bill', 'Jeff', 'Mark', 'Elon']\n"
          ],
          "name": "stdout"
        }
      ]
    },
    {
      "cell_type": "code",
      "metadata": {
        "id": "Vk5FDC__vlia",
        "colab": {
          "base_uri": "https://localhost:8080/",
          "height": 34
        },
        "outputId": "7624631a-eb7f-4963-f61a-1be1657aaa37"
      },
      "source": [
        "list_ = ['Bill', 'Jeff', 'Mark']\n",
        "\n",
        "list_.insert(1, 'Elon')\n",
        "print(list_)"
      ],
      "execution_count": null,
      "outputs": [
        {
          "output_type": "stream",
          "text": [
            "['Bill', 'Elon', 'Jeff', 'Mark']\n"
          ],
          "name": "stdout"
        }
      ]
    },
    {
      "cell_type": "markdown",
      "metadata": {
        "id": "6dWPg5x5_H8n"
      },
      "source": [
        "**Remove Item**\n",
        "\n",
        "There are several methods to remove items from a list.\n",
        "- remove() : remove specified item\n",
        "- pop() : remove the specified index (default : last item)\n",
        "- del : remove specified index\n",
        "- clear() : empty the list"
      ]
    },
    {
      "cell_type": "code",
      "metadata": {
        "id": "HP2qmO4jv5sg"
      },
      "source": [
        "list_ = ['Bill', 'Jeff', 'Mark']\n",
        "\n",
        "list_.remove('Bill')\n",
        "print(list_)"
      ],
      "execution_count": null,
      "outputs": []
    },
    {
      "cell_type": "code",
      "metadata": {
        "id": "RF7b2ZJz_j4-",
        "colab": {
          "base_uri": "https://localhost:8080/",
          "height": 34
        },
        "outputId": "7ca3ad72-e6ce-4b6e-a36f-5a9e3942e924"
      },
      "source": [
        "list_ = ['Bill', 'Jeff', 'Mark']\n",
        "\n",
        "list_.pop(1)\n",
        "print(list_)"
      ],
      "execution_count": null,
      "outputs": [
        {
          "output_type": "stream",
          "text": [
            "['Bill', 'Mark']\n"
          ],
          "name": "stdout"
        }
      ]
    },
    {
      "cell_type": "code",
      "metadata": {
        "id": "1TFDyMyc_nzh"
      },
      "source": [
        "list_ = ['Bill', 'Jeff', 'Mark']\n",
        "\n",
        "list_.pop()\n",
        "print(list_)"
      ],
      "execution_count": null,
      "outputs": []
    },
    {
      "cell_type": "code",
      "metadata": {
        "id": "hFsL4btV_qou",
        "colab": {
          "base_uri": "https://localhost:8080/",
          "height": 34
        },
        "outputId": "cb5dda6d-395b-4dd5-8b45-9d564eb71c36"
      },
      "source": [
        "list_ = ['Bill', 'Jeff', 'Mark']\n",
        "\n",
        "del list_[0]\n",
        "print(list_)"
      ],
      "execution_count": null,
      "outputs": [
        {
          "output_type": "stream",
          "text": [
            "['Jeff', 'Mark']\n"
          ],
          "name": "stdout"
        }
      ]
    },
    {
      "cell_type": "code",
      "metadata": {
        "id": "aSdLaPmR_-kp",
        "colab": {
          "base_uri": "https://localhost:8080/",
          "height": 34
        },
        "outputId": "1250397d-1b4a-4b3d-dc5c-556fb543de67"
      },
      "source": [
        "list_ = ['Bill', 'Jeff', 'Mark']\n",
        "\n",
        "list_.clear()\n",
        "print(list_)"
      ],
      "execution_count": null,
      "outputs": [
        {
          "output_type": "stream",
          "text": [
            "[]\n"
          ],
          "name": "stdout"
        }
      ]
    },
    {
      "cell_type": "markdown",
      "metadata": {
        "id": "vw5_w5kWDt8f"
      },
      "source": [
        "### **Tuple**\n",
        "\n",
        "A tuple is a sequence of **immutable** Python objects. Tuples are sequences, just like lists. The differences between tuples and lists are, the tuples cannot be changed unlike lists and tuples use parentheses, whereas lists use square brackets."
      ]
    },
    {
      "cell_type": "code",
      "metadata": {
        "id": "jaGgB41HABKl",
        "colab": {
          "base_uri": "https://localhost:8080/",
          "height": 34
        },
        "outputId": "206e612d-8142-4812-f675-b0ce3ffbe8fa"
      },
      "source": [
        "tuple_ = ('Bill', 'Jeff', 'Mark')\n",
        "print(tuple_)"
      ],
      "execution_count": null,
      "outputs": [
        {
          "output_type": "stream",
          "text": [
            "('Bill', 'Jeff', 'Mark')\n"
          ],
          "name": "stdout"
        }
      ]
    },
    {
      "cell_type": "markdown",
      "metadata": {
        "id": "7zbcWa3IFMpO"
      },
      "source": [
        "You access the tuple items by referring to the index number (index number start from 0)."
      ]
    },
    {
      "cell_type": "code",
      "metadata": {
        "id": "57Aetvr1FBS4",
        "colab": {
          "base_uri": "https://localhost:8080/",
          "height": 34
        },
        "outputId": "4040136e-ffe9-4a17-fb7a-730ad1af9168"
      },
      "source": [
        "print(tuple_[2])"
      ],
      "execution_count": null,
      "outputs": [
        {
          "output_type": "stream",
          "text": [
            "Mark\n"
          ],
          "name": "stdout"
        }
      ]
    },
    {
      "cell_type": "code",
      "metadata": {
        "id": "1DAeajFmFW6C"
      },
      "source": [
        "print(tuple_[:-1])"
      ],
      "execution_count": null,
      "outputs": []
    },
    {
      "cell_type": "markdown",
      "metadata": {
        "id": "el9Rg_G0Frya"
      },
      "source": [
        "Tuples are **immutable** which means you cannot update or change the values of tuple elements."
      ]
    },
    {
      "cell_type": "code",
      "metadata": {
        "id": "REupA17jFbFR"
      },
      "source": [
        "# Following action is not valid for tuples\n",
        "# tuple_[0] = 'Elon'"
      ],
      "execution_count": null,
      "outputs": []
    },
    {
      "cell_type": "markdown",
      "metadata": {
        "id": "v-aCpuEhF8qM"
      },
      "source": [
        "Removing individual tuple elements is not possible.\n",
        "\n",
        "To explicitly remove an entire tuple, just use the del statement."
      ]
    },
    {
      "cell_type": "code",
      "metadata": {
        "id": "AHhZcO3FF2Lz",
        "colab": {
          "base_uri": "https://localhost:8080/",
          "height": 220
        },
        "outputId": "bffc68f2-e646-478e-b501-7595ff03079a"
      },
      "source": [
        "tuple_ = ('Bill', 'Jeff', 'Mark')\n",
        "print(tuple_)\n",
        "\n",
        "del tuple_\n",
        "print(tuple_)       # This will cause an error because tuple_ is no longer exist"
      ],
      "execution_count": null,
      "outputs": [
        {
          "output_type": "stream",
          "text": [
            "('Bill', 'Jeff', 'Mark')\n"
          ],
          "name": "stdout"
        },
        {
          "output_type": "error",
          "ename": "NameError",
          "evalue": "ignored",
          "traceback": [
            "\u001b[0;31m---------------------------------------------------------------------------\u001b[0m",
            "\u001b[0;31mNameError\u001b[0m                                 Traceback (most recent call last)",
            "\u001b[0;32m<ipython-input-66-63aa1acda097>\u001b[0m in \u001b[0;36m<module>\u001b[0;34m()\u001b[0m\n\u001b[1;32m      3\u001b[0m \u001b[0;34m\u001b[0m\u001b[0m\n\u001b[1;32m      4\u001b[0m \u001b[0;32mdel\u001b[0m \u001b[0mtuple_\u001b[0m\u001b[0;34m\u001b[0m\u001b[0;34m\u001b[0m\u001b[0m\n\u001b[0;32m----> 5\u001b[0;31m \u001b[0mprint\u001b[0m\u001b[0;34m(\u001b[0m\u001b[0mtuple_\u001b[0m\u001b[0;34m)\u001b[0m       \u001b[0;31m# This will cause an error because tuple_ is no longer exist\u001b[0m\u001b[0;34m\u001b[0m\u001b[0;34m\u001b[0m\u001b[0m\n\u001b[0m",
            "\u001b[0;31mNameError\u001b[0m: name 'tuple_' is not defined"
          ]
        }
      ]
    },
    {
      "cell_type": "markdown",
      "metadata": {
        "id": "_QrpywTNGps7"
      },
      "source": [
        "### **Dictionary**\n",
        "\n",
        "A dictionary is a collection which is unordered, changeable and indexed. In Python dictionaries are written with curly brackets, and they have keys and values. Each key is separated from its value by a colon (:), the items are separated by commas."
      ]
    },
    {
      "cell_type": "code",
      "metadata": {
        "id": "e_yy6H6bGLon",
        "colab": {
          "base_uri": "https://localhost:8080/",
          "height": 34
        },
        "outputId": "09347d23-096a-465c-86f1-05dbfd496474"
      },
      "source": [
        "dict_ = {'Name' : 'Bill', 'Age' : 20, 'Address' : 'Poros Malino'}\n",
        "print(dict_)"
      ],
      "execution_count": null,
      "outputs": [
        {
          "output_type": "stream",
          "text": [
            "{'Name': 'Bill', 'Age': 20, 'Address': 'Poros Malino'}\n"
          ],
          "name": "stdout"
        }
      ]
    },
    {
      "cell_type": "markdown",
      "metadata": {
        "id": "BMY5Zx4CJ5D-"
      },
      "source": [
        "To access dictionary elements, you can use the square brackets along with the key to obtain its value."
      ]
    },
    {
      "cell_type": "code",
      "metadata": {
        "id": "Ay3bt7IPJxry",
        "colab": {
          "base_uri": "https://localhost:8080/",
          "height": 34
        },
        "outputId": "9c3b0ed4-ea94-4a6b-bfcb-e8117d05647c"
      },
      "source": [
        "print(dict_['Address'])"
      ],
      "execution_count": null,
      "outputs": [
        {
          "output_type": "stream",
          "text": [
            "Poros Malino\n"
          ],
          "name": "stdout"
        }
      ]
    },
    {
      "cell_type": "markdown",
      "metadata": {
        "id": "1Sd9QhFWVDbi"
      },
      "source": [
        "You can change the value of a specific item by referring to its key name."
      ]
    },
    {
      "cell_type": "code",
      "metadata": {
        "id": "vL9R0Zp5KPap"
      },
      "source": [
        "dict_['Name'] = 'Jeff'\n",
        "print(dict_)"
      ],
      "execution_count": null,
      "outputs": []
    },
    {
      "cell_type": "markdown",
      "metadata": {
        "id": "z5Wsi23tXhZB"
      },
      "source": [
        "**Loop Through a Dictionary**\n",
        "\n",
        "You can loop through a dictionary by using a for loop.\n",
        "\n",
        "When looping through a dictionary, the return value are the keys of the dictionary, but there are methods to return the values as well."
      ]
    },
    {
      "cell_type": "code",
      "metadata": {
        "id": "Iwfv4mOJVKx6",
        "colab": {
          "base_uri": "https://localhost:8080/",
          "height": 70
        },
        "outputId": "6d7521cd-81ca-4eed-f245-2652ca9dcf00"
      },
      "source": [
        "for key in dict_:\n",
        "    print(key)"
      ],
      "execution_count": null,
      "outputs": [
        {
          "output_type": "stream",
          "text": [
            "Name\n",
            "Age\n",
            "Address\n"
          ],
          "name": "stdout"
        }
      ]
    },
    {
      "cell_type": "code",
      "metadata": {
        "id": "6EpCYdhtX3QW",
        "colab": {
          "base_uri": "https://localhost:8080/",
          "height": 70
        },
        "outputId": "19c24a87-d192-4fac-b328-431600d6d892"
      },
      "source": [
        "# To print value from dictionary :\n",
        "for key in dict_:\n",
        "    print(dict_[key])"
      ],
      "execution_count": null,
      "outputs": [
        {
          "output_type": "stream",
          "text": [
            "Bill\n",
            "20\n",
            "Poros Malino\n"
          ],
          "name": "stdout"
        }
      ]
    },
    {
      "cell_type": "code",
      "metadata": {
        "id": "kZGgopwTYA5n",
        "colab": {
          "base_uri": "https://localhost:8080/",
          "height": 70
        },
        "outputId": "3f4588d7-e497-4284-9c25-9b0852940120"
      },
      "source": [
        "# Or use values() function\n",
        "for value in dict_.values():\n",
        "    print(value)"
      ],
      "execution_count": null,
      "outputs": [
        {
          "output_type": "stream",
          "text": [
            "Bill\n",
            "20\n",
            "Poros Malino\n"
          ],
          "name": "stdout"
        }
      ]
    },
    {
      "cell_type": "code",
      "metadata": {
        "id": "VA3n9mOdYNrP",
        "colab": {
          "base_uri": "https://localhost:8080/",
          "height": 70
        },
        "outputId": "0aeeaf98-3527-494c-85bb-accb56b6f763"
      },
      "source": [
        "# Loop through both keys and values using items()\n",
        "for key, value in dict_.items():\n",
        "    print(key, value)"
      ],
      "execution_count": null,
      "outputs": [
        {
          "output_type": "stream",
          "text": [
            "Name Bill\n",
            "Age 20\n",
            "Address Poros Malino\n"
          ],
          "name": "stdout"
        }
      ]
    },
    {
      "cell_type": "markdown",
      "metadata": {
        "id": "024AqBrGYkkj"
      },
      "source": [
        "**Adding Items**\n",
        "\n",
        "Adding an item to the dictionary is done by using a new index key and assigning a value to it"
      ]
    },
    {
      "cell_type": "code",
      "metadata": {
        "id": "W6vqr6PBYb9J"
      },
      "source": [
        "print(dict_)\n",
        "\n",
        "dict_['year_of_birth'] = 2000\n",
        "print(dict_)"
      ],
      "execution_count": null,
      "outputs": []
    },
    {
      "cell_type": "markdown",
      "metadata": {
        "id": "OT3UedxEbThy"
      },
      "source": [
        "**Removing Items**\n",
        "\n",
        "There are several methods to remove items from a dictionary.\n",
        "\n",
        "The **pop()** method removes the item with the specified key name"
      ]
    },
    {
      "cell_type": "code",
      "metadata": {
        "id": "ktNEWMGZY4-7"
      },
      "source": [
        "dict_={\n",
        "    'Name' : 'Bill', \n",
        "    'Age' : 20, \n",
        "    'Address' : 'Poros Malino',\n",
        "    'year_of_birth' : 2000\n",
        "}\n",
        "\n",
        "dict_.pop('Age')\n",
        "print(dict_)"
      ],
      "execution_count": null,
      "outputs": []
    },
    {
      "cell_type": "markdown",
      "metadata": {
        "id": "R8sF0LfJb5SJ"
      },
      "source": [
        "The **popitem()** method removes the last inserted item."
      ]
    },
    {
      "cell_type": "code",
      "metadata": {
        "id": "r48l7i7ebzdo"
      },
      "source": [
        "dict_={\n",
        "    'Name' : 'Bill', \n",
        "    'Age' : 20, \n",
        "    'Address' : 'Poros Malino',\n",
        "    'year_of_birth' : 2000\n",
        "}\n",
        "\n",
        "dict_.popitem()\n",
        "print(dict_)"
      ],
      "execution_count": null,
      "outputs": []
    },
    {
      "cell_type": "markdown",
      "metadata": {
        "id": "wQT8XeLAcZcs"
      },
      "source": [
        "The **del** keyword removes the item with the specified key name. The **del** keyword can also delete the dictionary completely."
      ]
    },
    {
      "cell_type": "code",
      "metadata": {
        "id": "Nb1vQm2LcKnb"
      },
      "source": [
        "dict_={\n",
        "    'Name' : 'Bill', \n",
        "    'Age' : 20, \n",
        "    'Address' : 'Poros Malino',\n",
        "    'year_of_birth' : 2000\n",
        "}\n",
        "\n",
        "del dict_['Address']\n",
        "print(dict_)"
      ],
      "execution_count": null,
      "outputs": []
    },
    {
      "cell_type": "markdown",
      "metadata": {
        "id": "qSxhtqp7cqDP"
      },
      "source": [
        "The **clear()** keyword empties the dictionary."
      ]
    },
    {
      "cell_type": "code",
      "metadata": {
        "id": "lWzBprafcg4s"
      },
      "source": [
        "dict_={\n",
        "    'Name' : 'Bill', \n",
        "    'Age' : 20, \n",
        "    'Address' : 'Poros Malino',\n",
        "    'year_of_birth' : 2000\n",
        "}\n",
        "\n",
        "dict_.clear()\n",
        "print(dict_)"
      ],
      "execution_count": null,
      "outputs": []
    },
    {
      "cell_type": "markdown",
      "metadata": {
        "id": "jCyP-zsYjwsh"
      },
      "source": [
        "# **Let's play a game**\n",
        "\n",
        "## **Hangman**\n",
        "\n",
        "This is a Python script of the classic game \"Hangman\". The word to guess is represented by a row of dashes. If the player guess a letter which exists in the word, the script writes it in all its correct positions. The player has 10 turns to guess the word. You can easily customize the game by changing the variables."
      ]
    },
    {
      "cell_type": "code",
      "metadata": {
        "id": "Vz1XeOIfcvrO",
        "colab": {
          "base_uri": "https://localhost:8080/",
          "height": 561
        },
        "outputId": "70ff203f-3d59-4d29-c64f-befedd81fd8a"
      },
      "source": [
        "words = ['think', 'could', 'should', 'become', 'leave', 'begin', 'start', 'might',\n",
        " 'believe', 'bring', 'happen', 'write', 'provide', 'stand', 'include', 'continue',\n",
        " 'learn', 'change', 'understand', 'watch', 'follow', 'create', 'speak', 'allow',\n",
        " 'spend', 'offer', 'remember', 'consider', 'appear', 'serve', 'expect', 'build',\n",
        " 'reach']\n",
        "\n",
        "import random\n",
        "word = random.choice(words) # here we set the secret\n",
        "\n",
        "guesses = ''                # creates an variable with an empty value\n",
        "\n",
        "turns = 10                  # determine the number of turns\n",
        "\n",
        "while turns > 0:            # check if the turns are more than zero\n",
        "    failed = 0              # make a counter that starts with zero\n",
        "  \n",
        "    for char in word:       # for every character in secret_word  \n",
        "\n",
        "        if char in guesses:               # see if the character is in the players guess\n",
        "            print (char, end=\" \")         # print then out the character\n",
        "\n",
        "        else:\n",
        "            print (\"_\", end=\" \")          # if not found, print a dash\n",
        "            failed += 1                   # and increase the failed counter with one\n",
        "\n",
        "    if failed == 0:                       # if failed is equal to zero print You Won\n",
        "        print (\"You won\")\n",
        "        break                             # exit the script\n",
        "\n",
        "    print() \n",
        "    guess = input(\"guess a char:\")        # ask the user go guess a character\n",
        "\n",
        "    guesses += guess                      # set the players guess to guesses\n",
        "\n",
        "    if guess not in word:                 # if the guess is not found in the secret word\n",
        " \n",
        "        turns -= 1                        # turns counter decreases with 1 (now 9)\n",
        "        print (\"Wrong\")                   # print wrong\n",
        " \n",
        "        print (\"You have\", turns, 'more guesses')   # how many turns are left\n",
        "\n",
        "        if turns == 0:                              # if the turns are equal to zero\n",
        "            print (\"You Lose\")                      # print \"You Lose\"\n",
        "            print (\"The right word :\", word)"
      ],
      "execution_count": null,
      "outputs": [
        {
          "output_type": "stream",
          "text": [
            "_ _ _ _ _ _ _ _ _ _ \n"
          ],
          "name": "stdout"
        },
        {
          "output_type": "error",
          "ename": "KeyboardInterrupt",
          "evalue": "ignored",
          "traceback": [
            "\u001b[0;31m---------------------------------------------------------------------------\u001b[0m",
            "\u001b[0;31mKeyboardInterrupt\u001b[0m                         Traceback (most recent call last)",
            "\u001b[0;32m/usr/local/lib/python3.6/dist-packages/ipykernel/kernelbase.py\u001b[0m in \u001b[0;36m_input_request\u001b[0;34m(self, prompt, ident, parent, password)\u001b[0m\n\u001b[1;32m    728\u001b[0m             \u001b[0;32mtry\u001b[0m\u001b[0;34m:\u001b[0m\u001b[0;34m\u001b[0m\u001b[0;34m\u001b[0m\u001b[0m\n\u001b[0;32m--> 729\u001b[0;31m                 \u001b[0mident\u001b[0m\u001b[0;34m,\u001b[0m \u001b[0mreply\u001b[0m \u001b[0;34m=\u001b[0m \u001b[0mself\u001b[0m\u001b[0;34m.\u001b[0m\u001b[0msession\u001b[0m\u001b[0;34m.\u001b[0m\u001b[0mrecv\u001b[0m\u001b[0;34m(\u001b[0m\u001b[0mself\u001b[0m\u001b[0;34m.\u001b[0m\u001b[0mstdin_socket\u001b[0m\u001b[0;34m,\u001b[0m \u001b[0;36m0\u001b[0m\u001b[0;34m)\u001b[0m\u001b[0;34m\u001b[0m\u001b[0;34m\u001b[0m\u001b[0m\n\u001b[0m\u001b[1;32m    730\u001b[0m             \u001b[0;32mexcept\u001b[0m \u001b[0mException\u001b[0m\u001b[0;34m:\u001b[0m\u001b[0;34m\u001b[0m\u001b[0;34m\u001b[0m\u001b[0m\n",
            "\u001b[0;32m/usr/local/lib/python3.6/dist-packages/jupyter_client/session.py\u001b[0m in \u001b[0;36mrecv\u001b[0;34m(self, socket, mode, content, copy)\u001b[0m\n\u001b[1;32m    802\u001b[0m         \u001b[0;32mtry\u001b[0m\u001b[0;34m:\u001b[0m\u001b[0;34m\u001b[0m\u001b[0;34m\u001b[0m\u001b[0m\n\u001b[0;32m--> 803\u001b[0;31m             \u001b[0mmsg_list\u001b[0m \u001b[0;34m=\u001b[0m \u001b[0msocket\u001b[0m\u001b[0;34m.\u001b[0m\u001b[0mrecv_multipart\u001b[0m\u001b[0;34m(\u001b[0m\u001b[0mmode\u001b[0m\u001b[0;34m,\u001b[0m \u001b[0mcopy\u001b[0m\u001b[0;34m=\u001b[0m\u001b[0mcopy\u001b[0m\u001b[0;34m)\u001b[0m\u001b[0;34m\u001b[0m\u001b[0;34m\u001b[0m\u001b[0m\n\u001b[0m\u001b[1;32m    804\u001b[0m         \u001b[0;32mexcept\u001b[0m \u001b[0mzmq\u001b[0m\u001b[0;34m.\u001b[0m\u001b[0mZMQError\u001b[0m \u001b[0;32mas\u001b[0m \u001b[0me\u001b[0m\u001b[0;34m:\u001b[0m\u001b[0;34m\u001b[0m\u001b[0;34m\u001b[0m\u001b[0m\n",
            "\u001b[0;32m/usr/local/lib/python3.6/dist-packages/zmq/sugar/socket.py\u001b[0m in \u001b[0;36mrecv_multipart\u001b[0;34m(self, flags, copy, track)\u001b[0m\n\u001b[1;32m    474\u001b[0m         \"\"\"\n\u001b[0;32m--> 475\u001b[0;31m         \u001b[0mparts\u001b[0m \u001b[0;34m=\u001b[0m \u001b[0;34m[\u001b[0m\u001b[0mself\u001b[0m\u001b[0;34m.\u001b[0m\u001b[0mrecv\u001b[0m\u001b[0;34m(\u001b[0m\u001b[0mflags\u001b[0m\u001b[0;34m,\u001b[0m \u001b[0mcopy\u001b[0m\u001b[0;34m=\u001b[0m\u001b[0mcopy\u001b[0m\u001b[0;34m,\u001b[0m \u001b[0mtrack\u001b[0m\u001b[0;34m=\u001b[0m\u001b[0mtrack\u001b[0m\u001b[0;34m)\u001b[0m\u001b[0;34m]\u001b[0m\u001b[0;34m\u001b[0m\u001b[0;34m\u001b[0m\u001b[0m\n\u001b[0m\u001b[1;32m    476\u001b[0m         \u001b[0;31m# have first part already, only loop while more to receive\u001b[0m\u001b[0;34m\u001b[0m\u001b[0;34m\u001b[0m\u001b[0;34m\u001b[0m\u001b[0m\n",
            "\u001b[0;32mzmq/backend/cython/socket.pyx\u001b[0m in \u001b[0;36mzmq.backend.cython.socket.Socket.recv\u001b[0;34m()\u001b[0m\n",
            "\u001b[0;32mzmq/backend/cython/socket.pyx\u001b[0m in \u001b[0;36mzmq.backend.cython.socket.Socket.recv\u001b[0;34m()\u001b[0m\n",
            "\u001b[0;32mzmq/backend/cython/socket.pyx\u001b[0m in \u001b[0;36mzmq.backend.cython.socket._recv_copy\u001b[0;34m()\u001b[0m\n",
            "\u001b[0;32m/usr/local/lib/python3.6/dist-packages/zmq/backend/cython/checkrc.pxd\u001b[0m in \u001b[0;36mzmq.backend.cython.checkrc._check_rc\u001b[0;34m()\u001b[0m\n",
            "\u001b[0;31mKeyboardInterrupt\u001b[0m: ",
            "\nDuring handling of the above exception, another exception occurred:\n",
            "\u001b[0;31mKeyboardInterrupt\u001b[0m                         Traceback (most recent call last)",
            "\u001b[0;32m<ipython-input-71-28f041ab7914>\u001b[0m in \u001b[0;36m<module>\u001b[0;34m()\u001b[0m\n\u001b[1;32m     29\u001b[0m \u001b[0;34m\u001b[0m\u001b[0m\n\u001b[1;32m     30\u001b[0m     \u001b[0mprint\u001b[0m\u001b[0;34m(\u001b[0m\u001b[0;34m)\u001b[0m\u001b[0;34m\u001b[0m\u001b[0;34m\u001b[0m\u001b[0m\n\u001b[0;32m---> 31\u001b[0;31m     \u001b[0mguess\u001b[0m \u001b[0;34m=\u001b[0m \u001b[0minput\u001b[0m\u001b[0;34m(\u001b[0m\u001b[0;34m\"guess a char:\"\u001b[0m\u001b[0;34m)\u001b[0m        \u001b[0;31m# ask the user go guess a character\u001b[0m\u001b[0;34m\u001b[0m\u001b[0;34m\u001b[0m\u001b[0m\n\u001b[0m\u001b[1;32m     32\u001b[0m \u001b[0;34m\u001b[0m\u001b[0m\n\u001b[1;32m     33\u001b[0m     \u001b[0mguesses\u001b[0m \u001b[0;34m+=\u001b[0m \u001b[0mguess\u001b[0m                      \u001b[0;31m# set the players guess to guesses\u001b[0m\u001b[0;34m\u001b[0m\u001b[0;34m\u001b[0m\u001b[0m\n",
            "\u001b[0;32m/usr/local/lib/python3.6/dist-packages/ipykernel/kernelbase.py\u001b[0m in \u001b[0;36mraw_input\u001b[0;34m(self, prompt)\u001b[0m\n\u001b[1;32m    702\u001b[0m             \u001b[0mself\u001b[0m\u001b[0;34m.\u001b[0m\u001b[0m_parent_ident\u001b[0m\u001b[0;34m,\u001b[0m\u001b[0;34m\u001b[0m\u001b[0;34m\u001b[0m\u001b[0m\n\u001b[1;32m    703\u001b[0m             \u001b[0mself\u001b[0m\u001b[0;34m.\u001b[0m\u001b[0m_parent_header\u001b[0m\u001b[0;34m,\u001b[0m\u001b[0;34m\u001b[0m\u001b[0;34m\u001b[0m\u001b[0m\n\u001b[0;32m--> 704\u001b[0;31m             \u001b[0mpassword\u001b[0m\u001b[0;34m=\u001b[0m\u001b[0;32mFalse\u001b[0m\u001b[0;34m,\u001b[0m\u001b[0;34m\u001b[0m\u001b[0;34m\u001b[0m\u001b[0m\n\u001b[0m\u001b[1;32m    705\u001b[0m         )\n\u001b[1;32m    706\u001b[0m \u001b[0;34m\u001b[0m\u001b[0m\n",
            "\u001b[0;32m/usr/local/lib/python3.6/dist-packages/ipykernel/kernelbase.py\u001b[0m in \u001b[0;36m_input_request\u001b[0;34m(self, prompt, ident, parent, password)\u001b[0m\n\u001b[1;32m    732\u001b[0m             \u001b[0;32mexcept\u001b[0m \u001b[0mKeyboardInterrupt\u001b[0m\u001b[0;34m:\u001b[0m\u001b[0;34m\u001b[0m\u001b[0;34m\u001b[0m\u001b[0m\n\u001b[1;32m    733\u001b[0m                 \u001b[0;31m# re-raise KeyboardInterrupt, to truncate traceback\u001b[0m\u001b[0;34m\u001b[0m\u001b[0;34m\u001b[0m\u001b[0;34m\u001b[0m\u001b[0m\n\u001b[0;32m--> 734\u001b[0;31m                 \u001b[0;32mraise\u001b[0m \u001b[0mKeyboardInterrupt\u001b[0m\u001b[0;34m\u001b[0m\u001b[0;34m\u001b[0m\u001b[0m\n\u001b[0m\u001b[1;32m    735\u001b[0m             \u001b[0;32melse\u001b[0m\u001b[0;34m:\u001b[0m\u001b[0;34m\u001b[0m\u001b[0;34m\u001b[0m\u001b[0m\n\u001b[1;32m    736\u001b[0m                 \u001b[0;32mbreak\u001b[0m\u001b[0;34m\u001b[0m\u001b[0;34m\u001b[0m\u001b[0m\n",
            "\u001b[0;31mKeyboardInterrupt\u001b[0m: "
          ]
        }
      ]
    }
  ]
}